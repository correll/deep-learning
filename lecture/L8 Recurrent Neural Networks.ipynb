{
 "cells": [
  {
   "cell_type": "markdown",
   "metadata": {},
   "source": [
    "# Recurrent Neural Networks\n",
    "\n",
    "So far, we have only worked with static data. Even if data had a temporal nature, we have simply concatenated inputs and looked at a piece of history all at once. When using a dense network, all inputs are initially of equal importance and we leave it to the network to identify salient information. Albeit convolutional layers might help to impose some sense of order - a 1D convolutional layer might as well be interpreted as detecting a pattern in a timeseries - dense layers focus on the values of individual features, not whether values are swapped in the input. \n",
    "\n",
    "In order to keep track of temporal relations, for example to understand a sentence like \"The movie seemed really BAD for the first few minutes, but turned out to be really GREAT.\", a dense network might learn at best to equally weigh the words \"bad\" and \"great\", but will not be able to pick up on the \"but\".\n",
    "\n",
    "This is different if a neural network could have state. In this case, a sentence could be processed word by word, each modifying the network state in some way. This is accomplished using so-called <i>recurrent neural networks</i>. A recurrent neural network uses a special kind of neuron, which sums the input $x_t$ at time $t$ with the value of the hidden state $h_{t-1}$ at the previous time step $t-1$ to compute a hidden state $h_t$ at time $t$. Both terms of this sum are weighed by weights W and U. The output of the recurrent layer is the hidden state $h_t$ weighed by a third weight V and ran through a second activation function. The equation below shows the computation of a RNN layer in vector form, passing the hidden states through a softmax activation."
   ]
  },
  {
   "cell_type": "markdown",
   "metadata": {},
   "source": [
    "$$h_t = \\tanh(Wh_{t-1}+Ux_t)$$\n",
    "$$y_t = softmax(Vh_t) $$"
   ]
  },
  {
   "cell_type": "code",
   "execution_count": 149,
   "metadata": {},
   "outputs": [
    {
     "name": "stdout",
     "output_type": "stream",
     "text": [
      "Model: \"sequential_75\"\n",
      "_________________________________________________________________\n",
      "Layer (type)                 Output Shape              Param #   \n",
      "=================================================================\n",
      "simple_rnn_76 (SimpleRNN)    (None, 1)                 3         \n",
      "=================================================================\n",
      "Total params: 3\n",
      "Trainable params: 3\n",
      "Non-trainable params: 0\n",
      "_________________________________________________________________\n"
     ]
    }
   ],
   "source": [
    "from keras.layers import SimpleRNN\n",
    "from keras.models import Sequential\n",
    "import numpy as np\n",
    "\n",
    "time_steps=5\n",
    "\n",
    "model = Sequential()\n",
    "model.add(SimpleRNN(units=1, input_shape=(time_steps,1), activation=\"tanh\")) # build RNN that takes up to time_step values\n",
    "model.compile(loss='mean_squared_error', optimizer='rmsprop')\n",
    "model.summary()"
   ]
  },
  {
   "cell_type": "code",
   "execution_count": 139,
   "metadata": {},
   "outputs": [
    {
     "data": {
      "text/plain": [
       "[<matplotlib.lines.Line2D at 0x14d907048>]"
      ]
     },
     "execution_count": 139,
     "metadata": {},
     "output_type": "execute_result"
    },
    {
     "data": {
      "image/png": "[encoded data removed]",
      "text/plain": [
       "<Figure size 432x288 with 1 Axes>"
      ]
     },
     "metadata": {},
     "output_type": "display_data"
    }
   ],
   "source": [
    "# Feeding the RNN with the following sequence (NB: the RNN is initialized with random weights)\n",
    "# [1 0 0 0 0]\n",
    "# [0 1 0 0 0]\n",
    "# [0 0 1 0 0]\n",
    "# [0 0 0 1 0]\n",
    "# [0 0 0 0 1]\n",
    "\n",
    "import matplotlib.pyplot as plt\n",
    "output=np.zeros(time_steps)\n",
    "for J in range(time_steps):\n",
    "    I=np.zeros(time_steps)\n",
    "    I[time_steps-J-1]=1\n",
    "    # The input is of the form (batch_size, timesteps, input_dim), here (1,5,1)\n",
    "    I=I[np.newaxis,:,np.newaxis]\n",
    "    output[J]=model.predict(I)\n",
    "plt.plot(output)"
   ]
  },
  {
   "cell_type": "markdown",
   "metadata": {},
   "source": [
    "Creating the RNN model a couple of times (everytime using different random values) shows the many different ways the hidden value can develop in response to a train of '1'. "
   ]
  },
  {
   "cell_type": "markdown",
   "metadata": {},
   "source": [
    "## Training a RNN\n",
    "\n",
    "A RNN that looks at, say, 5 timesteps one after each other, can be unfolded in 5 networks with one feeding into each other. It is this unfolded network that is trained using backpropagation, also known as <i>backpropagation through time</i>. Note that the weights remain the same during all time steps. The complication here is that we will again need to apply the chain rule, resulting into quickly vanishing gradients due to small values getting multiplied over and over again. There exist a series of more advanced network structures that serve as a drop-in replacement and have more favorable properties, specifically LSTMs and GRUs. \n",
    "\n",
    "When training an RNN, we are training an universal function approximator. Not only can we train the network to generate pattern, we can also train it to make decision on the output. The RNN can also be combined with additional dense layers that again classify the output. This is illustrated in <a href=\"../examples/ml_rnn.ipynb\">an example dealing with a robot's force-torque data</a>."
   ]
  },
  {
   "cell_type": "markdown",
   "metadata": {},
   "source": [
    "# Bidirectional layers\n",
    "\n",
    "It is often desirable to look at a time series not only from one, but from both ends at once. This is particularly intuitive when considering language in which getting the full context right away is particularly useful. In Keras, this can be accomplished by wrapping a recurrent layer into a <code>Bidirectional</code> wrapper. As you can see, the recurrent layer is simply replicated, doubling the number of parameters, and their outputs concatened (Keras has other options here). "
   ]
  },
  {
   "cell_type": "code",
   "execution_count": 156,
   "metadata": {},
   "outputs": [
    {
     "name": "stdout",
     "output_type": "stream",
     "text": [
      "Model: \"sequential_81\"\n",
      "_________________________________________________________________\n",
      "Layer (type)                 Output Shape              Param #   \n",
      "=================================================================\n",
      "bidirectional_12 (Bidirectio (None, 5, 20)             420       \n",
      "_________________________________________________________________\n",
      "dense_8 (Dense)              (None, 5, 5)              105       \n",
      "_________________________________________________________________\n",
      "activation_7 (Activation)    (None, 5, 5)              0         \n",
      "=================================================================\n",
      "Total params: 525\n",
      "Trainable params: 525\n",
      "Non-trainable params: 0\n",
      "_________________________________________________________________\n"
     ]
    }
   ],
   "source": [
    "from keras.layers import Bidirectional\n",
    "from keras.layers import Dense\n",
    "from keras.layers import Activation\n",
    "\n",
    "model = Sequential()\n",
    "#model.add(SimpleRNN(10, return_sequences=True,input_shape=(5, 10)))\n",
    "model.add(Bidirectional(SimpleRNN(10, return_sequences=True),input_shape=(5, 10)))\n",
    "model.add(Dense(5))\n",
    "model.add(Activation('softmax'))\n",
    "model.compile(loss='categorical_crossentropy', optimizer='rmsprop')\n",
    "model.summary()"
   ]
  }
 ],
 "metadata": {
  "kernelspec": {
   "display_name": "Python 3",
   "language": "python",
   "name": "python3"
  },
  "language_info": {
   "codemirror_mode": {
    "name": "ipython",
    "version": 3
   },
   "file_extension": ".py",
   "mimetype": "text/x-python",
   "name": "python",
   "nbconvert_exporter": "python",
   "pygments_lexer": "ipython3",
   "version": "3.6.5"
  }
 },
 "nbformat": 4,
 "nbformat_minor": 2
}
