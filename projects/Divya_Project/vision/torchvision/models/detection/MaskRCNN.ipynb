{
  "nbformat": 4,
  "nbformat_minor": 0,
  "metadata": {
    "colab": {
      "name": "MaskRCNN.ipynb",
      "provenance": [],
      "collapsed_sections": []
    },
    "kernelspec": {
      "name": "python3",
      "display_name": "Python 3"
    },
    "widgets": {
      "application/vnd.jupyter.widget-state+json": {
        "45bc27d99b454f4db2fdfba6c48c99f9": {
          "model_module": "@jupyter-widgets/controls",
          "model_name": "HBoxModel",
          "state": {
            "_view_name": "HBoxView",
            "_dom_classes": [],
            "_model_name": "HBoxModel",
            "_view_module": "@jupyter-widgets/controls",
            "_model_module_version": "1.5.0",
            "_view_count": null,
            "_view_module_version": "1.5.0",
            "box_style": "",
            "layout": "IPY_MODEL_c64daa3491794578987b0ee00ae87ca6",
            "_model_module": "@jupyter-widgets/controls",
            "children": [
              "IPY_MODEL_17cb320067bc425184860dfc9e325730",
              "IPY_MODEL_f9f05cd713174cdf8ce1cba3565e0bd4"
            ]
          }
        },
        "c64daa3491794578987b0ee00ae87ca6": {
          "model_module": "@jupyter-widgets/base",
          "model_name": "LayoutModel",
          "state": {
            "_view_name": "LayoutView",
            "grid_template_rows": null,
            "right": null,
            "justify_content": null,
            "_view_module": "@jupyter-widgets/base",
            "overflow": null,
            "_model_module_version": "1.2.0",
            "_view_count": null,
            "flex_flow": null,
            "width": null,
            "min_width": null,
            "border": null,
            "align_items": null,
            "bottom": null,
            "_model_module": "@jupyter-widgets/base",
            "top": null,
            "grid_column": null,
            "overflow_y": null,
            "overflow_x": null,
            "grid_auto_flow": null,
            "grid_area": null,
            "grid_template_columns": null,
            "flex": null,
            "_model_name": "LayoutModel",
            "justify_items": null,
            "grid_row": null,
            "max_height": null,
            "align_content": null,
            "visibility": null,
            "align_self": null,
            "height": null,
            "min_height": null,
            "padding": null,
            "grid_auto_rows": null,
            "grid_gap": null,
            "max_width": null,
            "order": null,
            "_view_module_version": "1.2.0",
            "grid_template_areas": null,
            "object_position": null,
            "object_fit": null,
            "grid_auto_columns": null,
            "margin": null,
            "display": null,
            "left": null
          }
        },
        "17cb320067bc425184860dfc9e325730": {
          "model_module": "@jupyter-widgets/controls",
          "model_name": "IntProgressModel",
          "state": {
            "_view_name": "ProgressView",
            "style": "IPY_MODEL_0a8bc7a6690f4389b84e4dad919d8ce3",
            "_dom_classes": [],
            "description": "100%",
            "_model_name": "IntProgressModel",
            "bar_style": "success",
            "max": 178090079,
            "_view_module": "@jupyter-widgets/controls",
            "_model_module_version": "1.5.0",
            "value": 178090079,
            "_view_count": null,
            "_view_module_version": "1.5.0",
            "orientation": "horizontal",
            "min": 0,
            "description_tooltip": null,
            "_model_module": "@jupyter-widgets/controls",
            "layout": "IPY_MODEL_dc1534bb7f634fe6b89dc66794cb576f"
          }
        },
        "f9f05cd713174cdf8ce1cba3565e0bd4": {
          "model_module": "@jupyter-widgets/controls",
          "model_name": "HTMLModel",
          "state": {
            "_view_name": "HTMLView",
            "style": "IPY_MODEL_c60e866c37904edc93ae43f89604fca2",
            "_dom_classes": [],
            "description": "",
            "_model_name": "HTMLModel",
            "placeholder": "​",
            "_view_module": "@jupyter-widgets/controls",
            "_model_module_version": "1.5.0",
            "value": " 170M/170M [01:10&lt;00:00, 2.54MB/s]",
            "_view_count": null,
            "_view_module_version": "1.5.0",
            "description_tooltip": null,
            "_model_module": "@jupyter-widgets/controls",
            "layout": "IPY_MODEL_597ac031ca5644c9a05ad733ec25dfce"
          }
        },
        "0a8bc7a6690f4389b84e4dad919d8ce3": {
          "model_module": "@jupyter-widgets/controls",
          "model_name": "ProgressStyleModel",
          "state": {
            "_view_name": "StyleView",
            "_model_name": "ProgressStyleModel",
            "description_width": "initial",
            "_view_module": "@jupyter-widgets/base",
            "_model_module_version": "1.5.0",
            "_view_count": null,
            "_view_module_version": "1.2.0",
            "bar_color": null,
            "_model_module": "@jupyter-widgets/controls"
          }
        },
        "dc1534bb7f634fe6b89dc66794cb576f": {
          "model_module": "@jupyter-widgets/base",
          "model_name": "LayoutModel",
          "state": {
            "_view_name": "LayoutView",
            "grid_template_rows": null,
            "right": null,
            "justify_content": null,
            "_view_module": "@jupyter-widgets/base",
            "overflow": null,
            "_model_module_version": "1.2.0",
            "_view_count": null,
            "flex_flow": null,
            "width": null,
            "min_width": null,
            "border": null,
            "align_items": null,
            "bottom": null,
            "_model_module": "@jupyter-widgets/base",
            "top": null,
            "grid_column": null,
            "overflow_y": null,
            "overflow_x": null,
            "grid_auto_flow": null,
            "grid_area": null,
            "grid_template_columns": null,
            "flex": null,
            "_model_name": "LayoutModel",
            "justify_items": null,
            "grid_row": null,
            "max_height": null,
            "align_content": null,
            "visibility": null,
            "align_self": null,
            "height": null,
            "min_height": null,
            "padding": null,
            "grid_auto_rows": null,
            "grid_gap": null,
            "max_width": null,
            "order": null,
            "_view_module_version": "1.2.0",
            "grid_template_areas": null,
            "object_position": null,
            "object_fit": null,
            "grid_auto_columns": null,
            "margin": null,
            "display": null,
            "left": null
          }
        },
        "c60e866c37904edc93ae43f89604fca2": {
          "model_module": "@jupyter-widgets/controls",
          "model_name": "DescriptionStyleModel",
          "state": {
            "_view_name": "StyleView",
            "_model_name": "DescriptionStyleModel",
            "description_width": "",
            "_view_module": "@jupyter-widgets/base",
            "_model_module_version": "1.5.0",
            "_view_count": null,
            "_view_module_version": "1.2.0",
            "_model_module": "@jupyter-widgets/controls"
          }
        },
        "597ac031ca5644c9a05ad733ec25dfce": {
          "model_module": "@jupyter-widgets/base",
          "model_name": "LayoutModel",
          "state": {
            "_view_name": "LayoutView",
            "grid_template_rows": null,
            "right": null,
            "justify_content": null,
            "_view_module": "@jupyter-widgets/base",
            "overflow": null,
            "_model_module_version": "1.2.0",
            "_view_count": null,
            "flex_flow": null,
            "width": null,
            "min_width": null,
            "border": null,
            "align_items": null,
            "bottom": null,
            "_model_module": "@jupyter-widgets/base",
            "top": null,
            "grid_column": null,
            "overflow_y": null,
            "overflow_x": null,
            "grid_auto_flow": null,
            "grid_area": null,
            "grid_template_columns": null,
            "flex": null,
            "_model_name": "LayoutModel",
            "justify_items": null,
            "grid_row": null,
            "max_height": null,
            "align_content": null,
            "visibility": null,
            "align_self": null,
            "height": null,
            "min_height": null,
            "padding": null,
            "grid_auto_rows": null,
            "grid_gap": null,
            "max_width": null,
            "order": null,
            "_view_module_version": "1.2.0",
            "grid_template_areas": null,
            "object_position": null,
            "object_fit": null,
            "grid_auto_columns": null,
            "margin": null,
            "display": null,
            "left": null
          }
        }
      }
    }
  },
  "cells": [
    {
      "cell_type": "code",
      "metadata": {
        "id": "XsJqbv6pLUDL",
        "colab_type": "code",
        "colab": {}
      },
      "source": [
        ""
      ],
      "execution_count": 0,
      "outputs": []
    },
    {
      "cell_type": "code",
      "metadata": {
        "id": "eVpOKb3tuFox",
        "colab_type": "code",
        "outputId": "7c5e850e-88e0-4e05-f14d-9bb5b9280e87",
        "colab": {
          "base_uri": "https://localhost:8080/",
          "height": 130
        }
      },
      "source": [
        "from google.colab import drive\n",
        "drive.mount('/content/gdrive', force_remount=True)"
      ],
      "execution_count": 2,
      "outputs": [
        {
          "output_type": "stream",
          "text": [
            "Go to this URL in a browser: ",
            "\n",
            "Enter your authorization code:\n",
            "··········\n",
            "Mounted at /content/gdrive\n"
          ],
          "name": "stdout"
        }
      ]
    },
    {
      "cell_type": "code",
      "metadata": {
        "id": "_PFN85ggJr-K",
        "colab_type": "code",
        "colab": {
          "base_uri": "https://localhost:8080/",
          "height": 36
        },
        "outputId": "94837a98-9366-4a16-fbbb-c9c748c69422"
      },
      "source": [
        "cd /content/gdrive/My Drive/Colab Notebooks/AppliedML/vision/torchvision/models/detection"
      ],
      "execution_count": 3,
      "outputs": [
        {
          "output_type": "stream",
          "text": [
            "/content/gdrive/My Drive/Colab Notebooks/AppliedML/vision/torchvision/models/detection\n"
          ],
          "name": "stdout"
        }
      ]
    },
    {
      "cell_type": "markdown",
      "metadata": {
        "id": "iXp-Yfj6D9dP",
        "colab_type": "text"
      },
      "source": [
        "## Video Object Segmentation\n",
        "\n",
        "* Segmenting a particular object instance through the entire video sequence.\n",
        "\n",
        "* Pixel-level object tracking problem\n",
        "\n",
        "* Application: Video editing, summarization, etc\n"
      ]
    },
    {
      "cell_type": "markdown",
      "metadata": {
        "id": "XgqKCRq-EXa8",
        "colab_type": "text"
      },
      "source": [
        "#### Technique used\n",
        "\n",
        "\n",
        "* Recognize a “region of interest” and monitoring its motion across multiple frames\n",
        "\n",
        "* Object is monitored for spatial and temporal changes through a sequence of frames\n",
        "\n",
        "* Technique used “Tracking by Segmentation” i.e. image segmentation followed by data association to obtain the full trajectory\n",
        "\n"
      ]
    },
    {
      "cell_type": "markdown",
      "metadata": {
        "id": "36ckWsGiEo2b",
        "colab_type": "text"
      },
      "source": [
        "#### Challenges\n",
        "* Rapid movement of objects across frames\n",
        "\n",
        "* Changing object orientation\n",
        "\n",
        "* Changing illumination \n",
        "\n"
      ]
    },
    {
      "cell_type": "markdown",
      "metadata": {
        "id": "GDSnAD4dEz5Z",
        "colab_type": "text"
      },
      "source": [
        "#### Methodology\n",
        "\n",
        "Step 1: Mask-RCNN for instance segmentation\n",
        "\n",
        "Step 2: Optical flow computation using Lucas-Kanade algorithm for tracking\n"
      ]
    },
    {
      "cell_type": "code",
      "metadata": {
        "id": "CmqiJ368sNgl",
        "colab_type": "code",
        "outputId": "e9ca3bea-ae6d-4ef4-a2b1-c1306f0c8d43",
        "colab": {
          "base_uri": "https://localhost:8080/",
          "height": 91
        }
      },
      "source": [
        "from collections import OrderedDict\n",
        "\n",
        "import torch\n",
        "from torch import nn\n",
        "import torch.nn.functional as F\n",
        "# import torchvision\n",
        "from torchvision import models\n",
        "from torchvision.ops import misc as misc_nn_ops\n",
        "from torchvision.ops import MultiScaleRoIAlign\n",
        "\n",
        "from torchvision.models.utils import load_state_dict_from_url\n",
        "\n",
        "from faster_rcnn import FasterRCNN\n",
        "from backbone_utils import resnet_fpn_backbone\n",
        "\n",
        "from generalized_mask_rcnn import GeneralizedRCNN\n",
        "from rpn import AnchorGenerator, RPNHead, RegionProposalNetwork\n",
        "from roi_heads import RoIHeads\n",
        "from transform import GeneralizedRCNNTransform\n",
        "\n",
        "from torchvision import transforms\n",
        "\n",
        "\n",
        "%pylab inline \n",
        "import cv2\n",
        "from IPython.display import clear_output\n"
      ],
      "execution_count": 11,
      "outputs": [
        {
          "output_type": "stream",
          "text": [
            "Populating the interactive namespace from numpy and matplotlib\n"
          ],
          "name": "stdout"
        },
        {
          "output_type": "stream",
          "text": [
            "/usr/local/lib/python3.6/dist-packages/IPython/core/magics/pylab.py:161: UserWarning: pylab import has clobbered these variables: ['random', 'f']\n",
            "`%matplotlib` prevents importing * from pylab and numpy\n",
            "  \"\\n`%matplotlib` prevents importing * from pylab and numpy\"\n"
          ],
          "name": "stderr"
        }
      ]
    },
    {
      "cell_type": "code",
      "metadata": {
        "id": "6iLzSFRiwacv",
        "colab_type": "code",
        "colab": {}
      },
      "source": [
        "__all__ = [\n",
        "    \"MaskRCNN\", \"maskrcnn_resnet50_fpn\",\n",
        "]"
      ],
      "execution_count": 0,
      "outputs": []
    },
    {
      "cell_type": "markdown",
      "metadata": {
        "id": "3mHjCg3-FCJ9",
        "colab_type": "text"
      },
      "source": [
        "### MASK RCNN Architecture"
      ]
    },
    {
      "cell_type": "code",
      "metadata": {
        "id": "l2ZvEtaoKdbd",
        "colab_type": "code",
        "colab": {
          "base_uri": "https://localhost:8080/",
          "height": 695
        },
        "outputId": "de5732ba-aeff-48c5-8a31-28432a70ebb9"
      },
      "source": [
        "from IPython.display import Image\n",
        "with open('Mask_RCNN-Architecture.png','rb') as f:\n",
        "    display(Image(data=f.read(), format='png'))"
      ],
      "execution_count": 12,
      "outputs": [
        {
          "output_type": "display_data",
          "data": {
            "image/png": "[encoded data removed]",
            "text/plain": [
              "<IPython.core.display.Image object>"
            ]
          },
          "metadata": {
            "tags": []
          }
        }
      ]
    },
    {
      "cell_type": "markdown",
      "metadata": {
        "id": "qylUD-CRA5Oo",
        "colab_type": "text"
      },
      "source": [
        "### Implements Mask R-CNN.\n",
        "The ***input to the model*** is expected to be a list of tensors, each of shape [C, H, W], one for each image, and should be in 0-1 range. Different images can have different sizes. The behavior of the model changes depending if it is in training or evaluation mode. During training, the model expects both the input tensors, as well as a targets (list of dictionary),containing:\n",
        "* boxes (FloatTensor[N, 4]): the ground-truth boxes in [x1, y1, x2, y2] format, with values of x between 0 and W and values of y between 0 and H\n",
        "* labels (Int64Tensor[N]): the class label for each ground-truth box\n",
        "* masks (UInt8Tensor[N, H, W]): the segmentation binary masks for each instance\n",
        "\n",
        "The ***model returns a Dict[Tensor]*** during training, containing the classification and regression losses for both the RPN and the R-CNN, and the mask loss. During inference, the model requires only the input tensors, and returns the post-processed predictions as a List[Dict[Tensor]], one for each input image. The fields of the Dict are as follows:\n",
        "* boxes (FloatTensor[N, 4]): the predicted boxes in [x1, y1, x2, y2] format, with values of x between 0 and W and values of y between 0 and H\n",
        "* labels (Int64Tensor[N]): the predicted labels for each image\n",
        "* scores (Tensor[N]): the scores or each prediction\n",
        "* masks (UInt8Tensor[N, 1, H, W]): the predicted masks for each instance, in 0-1 range. In order to obtain the final segmentation masks, the soft masks can be thresholded, generally with a value of 0.5 (mask >= 0.5)"
      ]
    },
    {
      "cell_type": "code",
      "metadata": {
        "id": "NTlg9DNcwk8q",
        "colab_type": "code",
        "colab": {}
      },
      "source": [
        "\n",
        "class MaskRCNN(FasterRCNN):\n",
        "    def __init__(self, backbone, num_classes=None,\n",
        "                 # transform parameters\n",
        "                 min_size=800, max_size=1333,\n",
        "                 image_mean=None, image_std=None,\n",
        "                 # RPN parameters\n",
        "                 rpn_anchor_generator=None, rpn_head=None,\n",
        "                 rpn_pre_nms_top_n_train=2000, rpn_pre_nms_top_n_test=1000,\n",
        "                 rpn_post_nms_top_n_train=2000, rpn_post_nms_top_n_test=1000,\n",
        "                 rpn_nms_thresh=0.7,\n",
        "                 rpn_fg_iou_thresh=0.7, rpn_bg_iou_thresh=0.3,\n",
        "                 rpn_batch_size_per_image=256, rpn_positive_fraction=0.5,\n",
        "                 # Box parameters\n",
        "                 box_roi_pool=None, box_head=None, box_predictor=None,\n",
        "                 box_score_thresh=0.05, box_nms_thresh=0.5, box_detections_per_img=100,\n",
        "                 box_fg_iou_thresh=0.5, box_bg_iou_thresh=0.5,\n",
        "                 box_batch_size_per_image=512, box_positive_fraction=0.25,\n",
        "                 bbox_reg_weights=None,\n",
        "                 # Mask parameters\n",
        "                 mask_roi_pool=None, mask_head=None, mask_predictor=None):\n",
        "\n",
        "        assert isinstance(mask_roi_pool, (MultiScaleRoIAlign, type(None)))\n",
        "\n",
        "        if num_classes is not None:\n",
        "            if mask_predictor is not None:\n",
        "                raise ValueError(\"num_classes should be None when mask_predictor is specified\")\n",
        "\n",
        "        out_channels = backbone.out_channels\n",
        "\n",
        "        if mask_roi_pool is None:\n",
        "            mask_roi_pool = MultiScaleRoIAlign(\n",
        "                featmap_names=['0', '1', '2', '3'],\n",
        "                output_size=14,\n",
        "                sampling_ratio=2)\n",
        "\n",
        "        if mask_head is None:\n",
        "            mask_layers = (256, 256, 256, 256)\n",
        "            mask_dilation = 1\n",
        "            mask_head = MaskRCNNHeads(out_channels, mask_layers, mask_dilation)\n",
        "\n",
        "        if mask_predictor is None:\n",
        "            mask_predictor_in_channels = 256  # == mask_layers[-1]\n",
        "            mask_dim_reduced = 256\n",
        "            mask_predictor = MaskRCNNPredictor(mask_predictor_in_channels,\n",
        "                                               mask_dim_reduced, num_classes)\n",
        "\n",
        "        super(MaskRCNN, self).__init__(\n",
        "            backbone, num_classes,\n",
        "            # transform parameters\n",
        "            min_size, max_size,\n",
        "            image_mean, image_std,\n",
        "            # RPN-specific parameters\n",
        "            rpn_anchor_generator, rpn_head,\n",
        "            rpn_pre_nms_top_n_train, rpn_pre_nms_top_n_test,\n",
        "            rpn_post_nms_top_n_train, rpn_post_nms_top_n_test,\n",
        "            rpn_nms_thresh,\n",
        "            rpn_fg_iou_thresh, rpn_bg_iou_thresh,\n",
        "            rpn_batch_size_per_image, rpn_positive_fraction,\n",
        "            # Box parameters\n",
        "            box_roi_pool, box_head, box_predictor,\n",
        "            box_score_thresh, box_nms_thresh, box_detections_per_img,\n",
        "            box_fg_iou_thresh, box_bg_iou_thresh,\n",
        "            box_batch_size_per_image, box_positive_fraction,\n",
        "            bbox_reg_weights)\n",
        "\n",
        "        self.roi_heads.mask_roi_pool = mask_roi_pool\n",
        "        self.roi_heads.mask_head = mask_head\n",
        "        self.roi_heads.mask_predictor = mask_predictor\n"
      ],
      "execution_count": 0,
      "outputs": []
    },
    {
      "cell_type": "code",
      "metadata": {
        "id": "N4aAcP_8sAsp",
        "colab_type": "code",
        "colab": {}
      },
      "source": [
        "class MaskRCNNHeads(nn.Sequential):\n",
        "    def __init__(self, in_channels, layers, dilation):\n",
        "        d = OrderedDict()\n",
        "        next_feature = in_channels\n",
        "        for layer_idx, layer_features in enumerate(layers, 1):\n",
        "            d[\"mask_fcn{}\".format(layer_idx)] = misc_nn_ops.Conv2d(\n",
        "                next_feature, layer_features, kernel_size=3,\n",
        "                stride=1, padding=dilation, dilation=dilation)\n",
        "            d[\"relu{}\".format(layer_idx)] = nn.ReLU(inplace=True)\n",
        "            next_feature = layer_features\n",
        "\n",
        "        super(MaskRCNNHeads, self).__init__(d)\n",
        "        for name, param in self.named_parameters():\n",
        "            if \"weight\" in name:\n",
        "                nn.init.kaiming_normal_(param, mode=\"fan_out\", nonlinearity=\"relu\")\n",
        "            # elif \"bias\" in name:\n",
        "            #     nn.init.constant_(param, 0)\n",
        "\n",
        "\n"
      ],
      "execution_count": 0,
      "outputs": []
    },
    {
      "cell_type": "code",
      "metadata": {
        "id": "LYLGkb6dwyEs",
        "colab_type": "code",
        "colab": {}
      },
      "source": [
        "class MaskRCNNPredictor(nn.Sequential):\n",
        "    def __init__(self, in_channels, dim_reduced, num_classes):\n",
        "        super(MaskRCNNPredictor, self).__init__(OrderedDict([\n",
        "            (\"conv5_mask\", misc_nn_ops.ConvTranspose2d(in_channels, dim_reduced, 2, 2, 0)),\n",
        "            (\"relu\", nn.ReLU(inplace=True)),\n",
        "            (\"mask_fcn_logits\", misc_nn_ops.Conv2d(dim_reduced, num_classes, 1, 1, 0)),\n",
        "        ]))\n",
        "\n",
        "        for name, param in self.named_parameters():\n",
        "            if \"weight\" in name:\n",
        "                nn.init.kaiming_normal_(param, mode=\"fan_out\", nonlinearity=\"relu\")\n",
        "            # elif \"bias\" in name:\n",
        "            #     nn.init.constant_(param, 0)\n",
        "\n",
        "\n",
        "model_urls = {\n",
        "    'maskrcnn_resnet50_fpn_coco':\n",
        "        'https://download.pytorch.org/models/maskrcnn_resnet50_fpn_coco-bf2d0c1e.pth',\n",
        "}"
      ],
      "execution_count": 0,
      "outputs": []
    },
    {
      "cell_type": "markdown",
      "metadata": {
        "id": "y404UZJ-CEft",
        "colab_type": "text"
      },
      "source": [
        "### Constructs a Mask R-CNN model with a ResNet-50-FPN backbone.\n",
        "The ***input to the model*** is expected to be a list of tensors, each of shape ``[C, H, W]``, one for each image, and should be in ``0-1`` range. Different images can have different sizes. The behavior of the model changes depending if it is in training or evaluation mode. During training, the model expects both the input tensors, as well as a targets (list of dictionary), containing:\n",
        "* boxes (``FloatTensor[N, 4]``): the ground-truth boxes in ``[x1, y1, x2, y2]`` format,  with values of ``x`` between ``0`` and ``W`` and values of ``y`` between ``0`` and ``H``\n",
        "* labels (``Int64Tensor[N]``): the class label for each ground-truth box\n",
        "* masks (``UInt8Tensor[N, H, W]``): the segmentation binary masks for each instance\n",
        "    \n",
        "The ***model returns*** a ``Dict[Tensor]`` during training, containing the classification and regression losses for both the RPN and the R-CNN, and the mask loss. During inference, the model requires only the input tensors, and returns the post-processed\n",
        "predictions as a ``List[Dict[Tensor]]``, one for each input image. The fields of the ``Dict`` are as follows:\n",
        "* boxes (``FloatTensor[N, 4]``): the predicted boxes in ``[x1, y1, x2, y2]`` format,  with values of ``x`` between ``0`` and ``W`` and values of ``y`` between ``0`` and ``H``\n",
        "* labels (``Int64Tensor[N]``): the predicted labels for each image\n",
        "* scores (``Tensor[N]``): the scores or each prediction\n",
        "* masks (``UInt8Tensor[N, 1, H, W]``): the predicted masks for each instance, in ``0-1`` range. In order to obtain the final segmentation masks, the soft masks can be thresholded, generally with a value of 0.5 (``mask >= 0.5``)"
      ]
    },
    {
      "cell_type": "code",
      "metadata": {
        "id": "SOZTSufBw2x_",
        "colab_type": "code",
        "colab": {}
      },
      "source": [
        "def maskrcnn_resnet50_fpn(pretrained=False, progress=True,\n",
        "                          num_classes=91, pretrained_backbone=True, **kwargs):\n",
        "    if pretrained:\n",
        "        # no need to download the backbone if pretrained is set\n",
        "        pretrained_backbone = False\n",
        "    backbone = resnet_fpn_backbone('resnet50', pretrained_backbone)\n",
        "    model = MaskRCNN(backbone, num_classes, **kwargs)\n",
        "    if pretrained:\n",
        "        state_dict = load_state_dict_from_url(model_urls['maskrcnn_resnet50_fpn_coco'],\n",
        "                                              progress=progress)\n",
        "        model.load_state_dict(state_dict)\n",
        "    return model"
      ],
      "execution_count": 0,
      "outputs": []
    },
    {
      "cell_type": "code",
      "metadata": {
        "id": "TIewaQqDxCZo",
        "colab_type": "code",
        "outputId": "9fcb578d-4555-4ea2-ab79-8443c2f96d94",
        "colab": {
          "base_uri": "https://localhost:8080/",
          "height": 106,
          "referenced_widgets": [
            "45bc27d99b454f4db2fdfba6c48c99f9",
            "c64daa3491794578987b0ee00ae87ca6",
            "17cb320067bc425184860dfc9e325730",
            "f9f05cd713174cdf8ce1cba3565e0bd4",
            "0a8bc7a6690f4389b84e4dad919d8ce3",
            "dc1534bb7f634fe6b89dc66794cb576f",
            "c60e866c37904edc93ae43f89604fca2",
            "597ac031ca5644c9a05ad733ec25dfce"
          ]
        }
      },
      "source": [
        "model = maskrcnn_resnet50_fpn(pretrained=True)\n",
        "model.eval()\n",
        "x = [torch.rand(3, 300, 400), torch.rand(3, 500, 400)]\n",
        "predictions = model(x)\n"
      ],
      "execution_count": 0,
      "outputs": [
        {
          "output_type": "stream",
          "text": [
            "Downloading: \"https://download.pytorch.org/models/maskrcnn_resnet50_fpn_coco-bf2d0c1e.pth\" to /root/.cache/torch/checkpoints/maskrcnn_resnet50_fpn_coco-bf2d0c1e.pth\n"
          ],
          "name": "stderr"
        },
        {
          "output_type": "display_data",
          "data": {
            "application/vnd.jupyter.widget-view+json": {
              "model_id": "45bc27d99b454f4db2fdfba6c48c99f9",
              "version_minor": 0,
              "version_major": 2
            },
            "text/plain": [
              "HBox(children=(IntProgress(value=0, max=178090079), HTML(value='')))"
            ]
          },
          "metadata": {
            "tags": []
          }
        },
        {
          "output_type": "stream",
          "text": [
            "\n"
          ],
          "name": "stdout"
        }
      ]
    },
    {
      "cell_type": "code",
      "metadata": {
        "id": "m2q51k_myvmp",
        "colab_type": "code",
        "colab": {}
      },
      "source": [
        "COCO_INSTANCE_CATEGORY_NAMES = [\n",
        "    '__background__', 'person', 'bicycle', 'car', 'motorcycle', 'airplane', 'bus',\n",
        "    'train', 'truck', 'boat', 'traffic light', 'fire hydrant', 'N/A', 'stop sign',\n",
        "    'parking meter', 'bench', 'bird', 'cat', 'dog', 'horse', 'sheep', 'cow',\n",
        "    'elephant', 'bear', 'zebra', 'giraffe', 'N/A', 'backpack', 'umbrella', 'N/A', 'N/A',\n",
        "    'handbag', 'tie', 'suitcase', 'frisbee', 'skis', 'snowboard', 'sports ball',\n",
        "    'kite', 'baseball bat', 'baseball glove', 'skateboard', 'surfboard', 'tennis racket',\n",
        "    'bottle', 'N/A', 'wine glass', 'cup', 'fork', 'knife', 'spoon', 'bowl',\n",
        "    'banana', 'apple', 'sandwich', 'orange', 'broccoli', 'carrot', 'hot dog', 'pizza',\n",
        "    'donut', 'cake', 'chair', 'couch', 'potted plant', 'bed', 'N/A', 'dining table',\n",
        "    'N/A', 'N/A', 'toilet', 'N/A', 'tv', 'laptop', 'mouse', 'remote', 'keyboard', 'cell phone',\n",
        "    'microwave', 'oven', 'toaster', 'sink', 'refrigerator', 'N/A', 'book',\n",
        "    'clock', 'vase', 'scissors', 'teddy bear', 'hair drier', 'toothbrush'\n",
        "]"
      ],
      "execution_count": 0,
      "outputs": []
    },
    {
      "cell_type": "code",
      "metadata": {
        "id": "0FJCioLH4OYW",
        "colab_type": "code",
        "colab": {}
      },
      "source": [
        "def get_prediction(frame, threshold):\n",
        "\t  # img = Image.open(img_path)\n",
        "    pilImg = Image.fromarray(frame)\n",
        "    img = pilImg\n",
        "    transform = transforms.Compose([transforms.ToTensor()])\n",
        "    img = transform(img)\n",
        "    pred = model([img])\n",
        "    pred_score = list(pred[0]['scores'].detach().numpy())\n",
        "    pred_t = [pred_score.index(x) for x in pred_score if x>threshold][-1]\n",
        "   \n",
        "    masks = (pred[0]['masks']>0.5).squeeze().detach().cpu().numpy()\n",
        "\n",
        "    # print(pred[0]['masks'].shape,masks.shape)\n",
        "    pred_class = [COCO_INSTANCE_CATEGORY_NAMES[i] for i in list(pred[0]['labels'].numpy())]\n",
        "    pred_boxes = [[(i[0], i[1]), (i[2], i[3])] for i in list(pred[0]['boxes'].detach().numpy())]\n",
        "    masks = masks[:pred_t+1]\n",
        "    pred_boxes = pred_boxes[:pred_t+1]\n",
        "    pred_class = pred_class[:pred_t+1]\n",
        "    return masks, pred_boxes, pred_class#, np.array(mask_coor, dtype=np.float32)"
      ],
      "execution_count": 0,
      "outputs": []
    },
    {
      "cell_type": "code",
      "metadata": {
        "id": "NucNEAMk4c89",
        "colab_type": "code",
        "colab": {}
      },
      "source": [
        "def random_colour_masks(image):\n",
        "\t  colours = [[0, 255, 0],[0, 0, 255],[255, 0, 0],[0, 255, 255],[255, 255, 0],[255, 0, 255],[80, 70, 180],[250, 80, 190],[245, 145, 50],[70, 150, 250],[50, 190, 190]]\n",
        "\t  r = np.zeros_like(image).astype(np.uint8)\n",
        "\t  # print(r[image==1])\n",
        "\t  g = np.zeros_like(image).astype(np.uint8)\n",
        "\t  b = np.zeros_like(image).astype(np.uint8)\n",
        "\t  r[image == 1], g[image == 1], b[image == 1] = colours[random.randrange(0,10)]\n",
        "\t  coloured_mask = np.stack([r, g, b], axis=2)\n",
        "\t  mask_coor =[[[i[1],i[0]]] for i in np.argwhere(np.rollaxis(coloured_mask, 2, 0)[0]>0) if len(i)>0]  \n",
        "\t  # print(image.shape,r[image==1].shape, g[image == 1].shape, b[image == 1].shape,coloured_mask.shape, coloured_mask_1[:3] )\n",
        "\t  return coloured_mask, mask_coor"
      ],
      "execution_count": 0,
      "outputs": []
    },
    {
      "cell_type": "code",
      "metadata": {
        "id": "QhrQCchs4j9H",
        "colab_type": "code",
        "colab": {}
      },
      "source": [
        "def instance_segmentation_api(frame, threshold=0.5, rect_th=1, text_size=0.5, text_th=0.5):\n",
        "\t#masks, boxes, pred_cls, mask_coor = get_prediction(frame, threshold)\n",
        "\tmasks, boxes, pred_cls = get_prediction(frame, threshold)\n",
        "\timg = frame\n",
        "\timg = cv2.cvtColor(img, cv2.COLOR_BGR2RGB)\n",
        "\t# print(pred_cls)\n",
        "\tmask_coors = []\n",
        "\tfor i in range(len(masks)):\n",
        "\t\trgb_mask, mask_coor = random_colour_masks(masks[i])\n",
        "\t\tmask_coors = mask_coors + mask_coor\n",
        "\t\timg = cv2.addWeighted(img, 1, rgb_mask, 0.5, 0)\n",
        "\t\tcv2.rectangle(img, boxes[i][0], boxes[i][1],color=(0, 255, 0), thickness=rect_th)\n",
        "\t\tcv2.putText(img,pred_cls[i], boxes[i][0], cv2.FONT_HERSHEY_SIMPLEX, text_size, (0,255,0),thickness=text_th)\n",
        "\n",
        "\tplt.figure(figsize=(20,30))\n",
        "\tplt.imshow(img)\n",
        "\tplt.xticks([])\n",
        "\tplt.yticks([])\n",
        "\tplt.show()\n",
        "  "
      ],
      "execution_count": 0,
      "outputs": []
    },
    {
      "cell_type": "code",
      "metadata": {
        "id": "bsBYOYXwcjjs",
        "colab_type": "code",
        "colab": {}
      },
      "source": [
        "import random\n",
        "import cv2 as cv\n",
        "import numpy as np\n",
        "from google.colab.patches import cv2_imshow\n"
      ],
      "execution_count": 0,
      "outputs": []
    },
    {
      "cell_type": "code",
      "metadata": {
        "id": "tfDK-wiUC4kF",
        "colab_type": "code",
        "colab": {}
      },
      "source": [
        "videopath = 'images/overpass.mp4'\n",
        "\n",
        "vid = cv2.VideoCapture(videopath)\n",
        "length = int(vid.get(cv2.CAP_PROP_FRAME_COUNT))\n",
        "width  = int(vid.get(cv2.CAP_PROP_FRAME_WIDTH))\n",
        "height = int(vid.get(cv2.CAP_PROP_FRAME_HEIGHT))\n",
        "fps    = vid.get(cv2.CAP_PROP_FPS)\n",
        "\n",
        "print(length, width,height,fps)"
      ],
      "execution_count": 0,
      "outputs": []
    },
    {
      "cell_type": "code",
      "metadata": {
        "id": "g0O_EgU7io7T",
        "colab_type": "code",
        "outputId": "6aa88a44-cee2-4f09-c036-a3a4cc2b763c",
        "colab": {
          "base_uri": "https://localhost:8080/",
          "height": 1000
        }
      },
      "source": [
        "while(vid.isOpened() and ii < 20 ):\n",
        "    ret, frame = vid.read()\n",
        "    # print(frame.shape)\n",
        "    # frame = cv2.cvtColor(frame, cv2.COLOR_BGR2RGB)\n",
        "    # pilimg = Image.fromarray(frame)\n",
        "    instance_segmentation_api(frame, threshold=0.5, rect_th=2, text_size=1, text_th=1)\n",
        "    # object_detection_api(pilimg,model,\"out_\"+str(ii)+\".jpg\", rect_th=2, text_th=1, text_size=1)\n",
        "    # object_detection_api(pilimg,model,ii, threshold=0.9, rect_th=2, text_th=1, text_size=1)\n",
        "    ii=ii+1"
      ],
      "execution_count": 0,
      "outputs": []
    },
    {
      "cell_type": "code",
      "metadata": {
        "id": "FsSvxTCYe_E4",
        "colab_type": "code",
        "colab": {}
      },
      "source": [
        "def instance_segmentation(frame, ii, threshold=0.5, rect_th=1, text_size=1, text_th=1):\n",
        "  masks, boxes, pred_cls = get_prediction(frame, threshold)\n",
        "  img = frame\n",
        "  img = cv2.cvtColor(img, cv2.COLOR_BGR2RGB)\n",
        "  mask_coors = []\n",
        "  for i in range(len(masks)):\n",
        "    rgb_mask, mask_coor = random_colour_masks(masks[i])\n",
        "    if len(mask_coor)>0:\n",
        "      mask_coors= mask_coors + mask_coor\n",
        "      img = cv2.addWeighted(img, 1, rgb_mask, 0.5, 0)\n",
        "      cv2.rectangle(img, boxes[i][0], boxes[i][1],color=(0, 255, 0), thickness=rect_th)\n",
        "      cv2.putText(img,pred_cls[i], boxes[i][0], cv2.FONT_HERSHEY_SIMPLEX, text_size, (0,255,0),thickness=text_th)\n",
        "  plt.figure(figsize=(20,30))\n",
        "  plt.imshow(img)\n",
        "  plt.xticks([])\n",
        "  plt.yticks([])\n",
        "  plt.show()\n",
        "  plt.savefig(\"mask_flow/{i}.jpg\".format(i=ii))\n",
        "  print(\"final coor\", mask_coors[:3] )\n",
        "  return np.array(mask_coors, dtype=np.float32)"
      ],
      "execution_count": 0,
      "outputs": []
    },
    {
      "cell_type": "markdown",
      "metadata": {
        "id": "EbOy6aPPF0Wn",
        "colab_type": "text"
      },
      "source": [
        "Sparse Optical Flow : Lucas Kanade Algorithm\n",
        "\n"
      ]
    },
    {
      "cell_type": "code",
      "metadata": {
        "id": "A07WAAeDLBLt",
        "colab_type": "code",
        "colab": {
          "base_uri": "https://localhost:8080/",
          "height": 367
        },
        "outputId": "d9e9b123-2c3a-449e-8cae-49c0ce34fbc2"
      },
      "source": [
        "with open('opticalflow.png','rb') as f:\n",
        "    display(Image(data=f.read(), format='png'))"
      ],
      "execution_count": 13,
      "outputs": [
        {
          "output_type": "display_data",
          "data": {
            "image/png": "[encoded data removed]",
            "text/plain": [
              "<IPython.core.display.Image object>"
            ]
          },
          "metadata": {
            "tags": []
          }
        }
      ]
    },
    {
      "cell_type": "markdown",
      "metadata": {
        "id": "_bGzVBhnDJpB",
        "colab_type": "text"
      },
      "source": [
        "Lucas Kanade Algorithm\n",
        "* Lucas-Kanade method takes a 3x3 patch around the point. \n",
        "* Find (fx,fy,ft) for these 9 points. \n",
        "* The problem reduces to solving 9 equations with two unknown variables which is over-determined. \n",
        "* It is solved using least square fit method\n"
      ]
    },
    {
      "cell_type": "code",
      "metadata": {
        "id": "TXtS31USqKSz",
        "colab_type": "code",
        "colab": {}
      },
      "source": [
        "cap = cv.VideoCapture(videopath)\n",
        "threshold = 0.5\n",
        "feature_params = dict(maxCorners = 300, qualityLevel = 0.2, minDistance = 2, blockSize = 7)\n",
        "lk_params = dict(winSize = (15,15), maxLevel = 2, criteria = (cv.TERM_CRITERIA_EPS | cv.TERM_CRITERIA_COUNT, 10, 0.03))\n",
        "color = (0, 255, 0)\n",
        "ret, first_frame = cap.read()\n",
        "mask_coor = instance_segmentation(first_frame, threshold)\n",
        "print(\"mask_coor\",first_frame.shape, mask_coor[:3], type(np.array(mask_coor)))\n",
        "prev_gray = cv.cvtColor(first_frame, cv.COLOR_BGR2GRAY)\n"
      ],
      "execution_count": 0,
      "outputs": []
    },
    {
      "cell_type": "code",
      "metadata": {
        "id": "1p5Dr28ehd8p",
        "colab_type": "code",
        "colab": {}
      },
      "source": [
        "\n",
        "threshold = 0.5\n",
        "feature_params = dict(maxCorners = 300, qualityLevel = 0.2, minDistance = 2, blockSize = 7)\n",
        "lk_params = dict(winSize = (15,15), maxLevel = 2, criteria = (cv.TERM_CRITERIA_EPS | cv.TERM_CRITERIA_COUNT, 10, 0.03))\n",
        "color = (0, 255, 0)\n",
        "ret, first_frame = cap.read()\n",
        "mask_coor = instance_segmentation(first_frame, 0, threshold)\n",
        "prev_gray = cv.cvtColor(first_frame, cv.COLOR_BGR2GRAY)\n",
        "prev = mask_coor\n",
        "mask = np.zeros_like(first_frame)\n",
        "ii=1\n",
        "while(cap.isOpened() and ii<31):\n",
        "    ret, frame = cap.read()\n",
        "    gray = cv.cvtColor(frame, cv.COLOR_BGR2GRAY)\n",
        "    if ii%10 == 0:\n",
        "      mask_coor = instance_segmentation(frame, ii, threshold)\n",
        "      prev = mask_coor\n",
        "    next, status, error = cv.calcOpticalFlowPyrLK(prev_gray, gray, prev, None, **lk_params)\n",
        "    good_old = prev[status == 1]\n",
        "    good_new = next[status == 1]\n",
        "    for i, (new, old) in enumerate(zip(good_new, good_old)):\n",
        "        a, b = new.ravel()\n",
        "        c, d = old.ravel()\n",
        "        mask = cv.line(mask, (a, b), (c, d), color, 2)\n",
        "        frame = cv.circle(frame, (a, b), 3, color, -1)\n",
        "    output = cv.add(frame, mask)\n",
        "    prev_gray = gray.copy()\n",
        "    prev = good_new.reshape(-1, 1, 2)\n",
        "    cv2_imshow(output)\n",
        "    if ii%10 != 0:\n",
        "      cv2.imwrite(\"mask_flow/{i}.jpg\".format(i=ii), output) \n",
        "    if cv.waitKey(10) & 0xFF == ord('q'):\n",
        "        break\n",
        "    ii+=1\n",
        "cap.release()\n",
        "cv.destroyAllWindows()"
      ],
      "execution_count": 0,
      "outputs": []
    },
    {
      "cell_type": "markdown",
      "metadata": {
        "id": "oRTYDDlMGbHM",
        "colab_type": "text"
      },
      "source": [
        "### Resource:\n",
        "1. Video Object Segmentation and Tracking: A Survey RUI YAO,GUOSHENG LIN,\n",
        "SHIXIONG XIA, JIAQI ZHAO, and YONG ZHOU\n",
        "2. Mask R-CNN Kaiming He, Georgia Gkioxari, Piotr Dollár, Ross Girshick [link](https://arxiv.org/abs/1703.06870://) [code](https://github.com/pytorch/vision/tree/master/torchvision/models/detection)\n",
        "3. Lucas Kanade Algorithm [link](https://en.wikipedia.org/wiki/Lucas%E2%80%93Kanade_method); code from open cv"
      ]
    },
    {
      "cell_type": "code",
      "metadata": {
        "id": "NpeVgEYRAJQe",
        "colab_type": "code",
        "colab": {}
      },
      "source": [
        "import imageio\n",
        "import matplotlib.pyplot as plt\n",
        "from pygifsicle import optimize\n",
        "\n",
        "n = 30\n",
        "gif_path = \"results.gif\"\n",
        "frames_path = \"mask_flow/{i}.jpg\"\n",
        "\n",
        "with imageio.get_writer(gif_path, mode='I') as writer:\n",
        "    for i in range(1,n):\n",
        "        writer.append_data(imageio.imread(frames_path.format(i=i)))\n",
        "\n",
        "# optimize(gif_path)"
      ],
      "execution_count": 0,
      "outputs": []
    }
  ]
}
