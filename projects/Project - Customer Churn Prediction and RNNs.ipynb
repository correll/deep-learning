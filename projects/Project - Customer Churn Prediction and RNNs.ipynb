{
 "cells": [
  {
   "cell_type": "markdown",
   "metadata": {},
   "source": [
    "Author: Annelise Lynch\n",
    "\n",
    "# Motivation\n",
    "\n",
    "Customer churn and customer conversions are two very common metrics in product analysis. Typically, a very low percentage of traffic or interest actually results in a conversion (purchase of a product). In the case of subscriptions or SaaS (Software as a Service), customer churn is another important metric. This is the percentage of customers that cancel their subscription or auto-renewal of a product.\n",
    "\n",
    "Customer churn data may take into account how a user interacts with a product and how frequenty. It also may track characteristics of a user or company. \n",
    "\n",
    "Since this data is always very unbalanced (low churn <10%) it makes data modeling tricky! This notebook uses a sampled subset of 1 month of Kaggle user data to learn and predict customer churn for a music subscription service. The total data set is 6 months, however more computing power and memory is required to import and process the entire dataset."
   ]
  },
  {
   "cell_type": "markdown",
   "metadata": {},
   "source": [
    "## Dataset and description: \n",
    "Details and data available for download: https://www.kaggle.com/c/kkbox-churn-prediction-challenge/notebooks?sortBy=hotness&group=everyone&pageSize=20&competitionId=7163&language=Python\n",
    "\n",
    "In this challenge, you are asked to predict whether a user will churn after his/her subscription expires. Specifically, we want to forecast if a user make a new service subscription transaction within 30 days after the current membership expiration date.\n",
    "\n",
    "The key fields to determine churn/renewal are transaction date, membership expiration date, and is_cancel. Note that the is_cancel field indicates whether a user actively cancels a subscription. Subscription cancellation does not imply the user has churned. A user may cancel service subscription due to change of service plans or other reasons. The criteria of \"churn\" is no new valid service subscription within 30 days after the current membership expires.\n",
    "\n",
    "#### Predictor:\n",
    "`is_churn`: Churn is defined as whether the user did not continue the subscription within 30 days of expiration. `is_churn` = 1 means churn, `is_churn` = 0 means renewal.\n",
    "\n",
    "#### Features:\n",
    "- `payment_method_id`: payment method\n",
    "- `payment_plan_days`: length of membership plan in days\n",
    "- `plan_list_price`: in New Taiwan Dollar (NTD)\n",
    "- `actual_amount_paid`: in New Taiwan Dollar (NTD)\n",
    "- `is_auto_renew`\n",
    "- `transaction_date`: format %Y%m%d\n",
    "`membership_expire_date`: format %Y%m%d\n",
    "- `is_cancel`: whether or not the user canceled the membership in this transaction.\n",
    "- `user_log_date`: format %Y%m%d\n",
    "- `num_25`: # of songs played less than 25% of the song length\n",
    "- `num_50`: # of songs played between 25% to 50% of the song length\n",
    "- `num_75`: # of songs played between 50% to 75% of of the song length\n",
    "- `num_985`: # of songs played between 75% to 98.5% of the song length\n",
    "- `num_100`: # of songs played over 98.5% of the song length\n",
    "- `num_unq`: # of unique songs played\n",
    "- `total_secs`: total seconds played\n",
    "- `city`\n",
    "- `bd`: age. Note: this column has outlier values ranging from -7000 to 2015, please use your judgement.\n",
    "- `gender`\n",
    "- `registered_via`: registration method\n",
    "- `registration_init_time`: format %Y%m%d\n",
    "- `expiration_date`: format %Y%m%d, taken as a snapshot at which the member.csv is extracted. Not representing the actual churn behavior.\n",
    "\n",
    "#### ID Field:\n",
    "`msno`: user id\n",
    "\n",
    "#### Other notes:\n",
    "The _v2_ data was used for this notebook because the original/v1 data was extremely large and yielded memory problems. There were memory reduction techniques on Kaggle, but for the scope and time of this project, that was not tackled."
   ]
  },
  {
   "cell_type": "markdown",
   "metadata": {},
   "source": [
    "# Methodology\n",
    "\n",
    "## Feature engineering\n",
    "- Computer not robust enough to load all of the data, used only 1 month of data (from the 6 provided), and sub-sampled from that as well.\n",
    "- Non-cateogrical features: fit with StandardScalar\n",
    "- Categorical features: one hot encoding\n",
    "- Made new features using date, like `days to expiration`.\n",
    "\n",
    "## Unbalanced data - oversampling\n",
    "- Used imblearn `RandomOverSampler` to increase the training ratio of churn from ~10% to 50%. \n",
    "- Chose oversampling instead of undersampling due to having already limited the data.\n",
    "\n",
    "## RNN - shaping the data\n",
    "- Assume 1000 users, 1 month of data with daily logs, and 25 features\n",
    "<center>\n",
    "<img src=\"img\\time_series.png\" width=\"50%\">\n",
    "</center>\n",
    "- This means, to format the data properly for an RNN, it needs to be in the following format:\n",
    "```(1000,25,31)```\n",
    "- Tricky bits to get this completed:\n",
    "    - not every user has an activity log on a given day, had to \"pad\" this\n",
    "    - the data was provided in flat files, in order to achieve 3 dimensions, a for loop was necessary\n",
    "    \n",
    "This means, turning this table:\n",
    "\n",
    "user_id | log_date | features | is_churn\n",
    "---| -----| -----| --\n",
    "1 | 3/1/2017 | features | 0\n",
    "1 | 3/3/2017 | features | 0\n",
    "1 | 3/15/2017 | features | 0\n",
    "1 | 3/28/2017 | features | 0\n",
    "2 | 3/5/2017 | features | 1\n",
    "2 | 3/15/2017 | features | 1\n",
    "\n",
    "Into this table:\n",
    "\n",
    "user_id | log_date | features | is_churn\n",
    "---| -----| -----| --\n",
    "1 | 3/1/2017 | features | 0\n",
    "1 | 3/2/2017 | features | 0\n",
    "1 | ... | features | 0\n",
    "1 | ... | features | 0\n",
    "1 | ... | features | 0\n",
    "1 | 3/31/2017 | features | 0\n",
    "2 | 3/1/2017 | features | 1\n",
    "2 | ... | features | 1\n",
    "2 | ... | features | 1\n",
    "2 | ... | features | 1\n",
    "2 | 3/31/2017 | features | 1\n",
    "\n",
    "And then finally into the 3 dimensional table with the dimensions:\n",
    "\n",
    "`(number of user ids, number of features, 31 (days))`\n",
    "\n",
    "\n",
    "## Feature pruning\n",
    "- Principle Component Analysis (PCA)\n",
    "- Incoporated PCA results prior to LSTM model!\n",
    "\n",
    "\n",
    "## Future work\n",
    "- More robust hardware to handle the memory and computing power required to process the entire datset.\n",
    "- Fine tune the correct number of time-steps to look back at. Currently using 30 days because that is the maximum available while processing this dataset on a laptop.\n",
    "- Test this model and method on customer churn data from a different company. And test this model and method on customer conversion data.\n",
    "\n",
    "# Takeaways\n",
    "This was a fantastic project to fine tune how to handle unbalanced datasets and correctly process time-series data into the RNN 3-dimensional shape. Overall the final accuracy of the test data at 96% beat the (1-churn) percentage of 93% so this was an absolute success. This model will be useful to share with companies who are looking for insights into what factors contribute to churn, and, perhaps more importantly, what factors make their product sticky and prevent churn!"
   ]
  },
  {
   "cell_type": "code",
   "execution_count": 1,
   "metadata": {},
   "outputs": [
    {
     "name": "stderr",
     "output_type": "stream",
     "text": [
      "/Users/annelise/.pyenv/versions/3.6.4/envs/csci/lib/python3.6/site-packages/pandas/compat/__init__.py:84: UserWarning: Could not import the lzma module. Your installed Python is incomplete. Attempting to use lzma compression will result in a RuntimeError.\n",
      "  warnings.warn(msg)\n",
      "/Users/annelise/.pyenv/versions/3.6.4/envs/csci/lib/python3.6/site-packages/pandas/compat/__init__.py:84: UserWarning: Could not import the lzma module. Your installed Python is incomplete. Attempting to use lzma compression will result in a RuntimeError.\n",
      "  warnings.warn(msg)\n",
      "Using TensorFlow backend.\n"
     ]
    }
   ],
   "source": [
    "from collections import Counter\n",
    "import pandas as pd\n",
    "import numpy as np\n",
    "import seaborn as sns\n",
    "import matplotlib.pyplot as plt\n",
    "import seaborn as sns\n",
    "import sys, os\n",
    "import pickle\n",
    "import gc; gc.enable()\n",
    "from time import time\n",
    "from datetime import datetime, timedelta, date\n",
    "from collections import defaultdict\n",
    "from multiprocessing import Pool, cpu_count\n",
    "from imblearn.over_sampling import  RandomOverSampler\n",
    "from imblearn.over_sampling import SMOTE, ADASYN\n",
    "\n",
    "from keras.models import Sequential\n",
    "from keras.layers.core import Activation\n",
    "from keras.layers.normalization import BatchNormalization\n",
    "from keras.optimizers import SGD, Adam\n",
    "from keras.wrappers.scikit_learn import KerasClassifier\n",
    "from keras.layers import Dense, Input, Dropout, SimpleRNN, LSTM, Bidirectional, Flatten, Embedding, GRU\n",
    "from keras import regularizers\n",
    "from keras.utils import to_categorical\n",
    "\n",
    "from sklearn.model_selection import KFold, StratifiedKFold, RepeatedKFold, train_test_split, GridSearchCV\n",
    "from sklearn.metrics import accuracy_score, f1_score\n",
    "from sklearn.metrics import confusion_matrix, roc_auc_score, recall_score, precision_score\n",
    "from sklearn.preprocessing import StandardScaler\n",
    "from sklearn.decomposition import PCA"
   ]
  },
  {
   "cell_type": "markdown",
   "metadata": {},
   "source": [
    "# Loading in the data\n",
    "### Note: using limited data set and a heavy use of left joins to ensure limited data is used"
   ]
  },
  {
   "cell_type": "code",
   "execution_count": 2,
   "metadata": {},
   "outputs": [
    {
     "name": "stdout",
     "output_type": "stream",
     "text": [
      "10000\n",
      "                                                msno  is_churn\n",
      "755516  9f0+9F6rZzU3jMjS4VU23N2MCk08MTkab6AGGsggfaw=         0\n",
      "719432  BvhlhkqythELhVLYxPtSXtqbWSLyWvOOz5Etzj5U35M=         0\n",
      "188548  cuq1z1n2PyxjFMN/rUmzVtH0FHJG9mA9w3fafa5yFPM=         0\n",
      "941582  uDpf6VyX3bAOqvO8sWGAz73gWzZekbMDus7gL20d4Js=         0\n",
      "870351  Tr3sWIgrzHL+zTvBTDptJUlMJXmfV1hKEtECHSwt4jI=         0\n",
      "                                                msno  is_churn\n",
      "489375  2boH7TuYkD69efoN6QmQY2rU5E9IlYrtJ+OQzEPvdXg=         0\n",
      "12374   pdt6q2b+XrtMdXKtD68lJbcOUzrTLgyknGuzdxsnExo=         1\n",
      "287293  lIWXzze902yO2b5XQWGQ6R7N3XLkEnPYf6pb/0c/RTQ=         0\n",
      "287523  KfftirQXJNyRDxFTZyZhkqB02FoOZZjJCiuZntAdVUU=         0\n",
      "432206  sjlgx8JKCP0Ee3dQUhahRem5Wez0JrbnDKxmNNsJcxc=         0\n"
     ]
    }
   ],
   "source": [
    "# Load in data\n",
    "train = pd.read_csv('data/kkbox-churn-prediction-challenge/train_v2.csv')\n",
    "\n",
    "train = train.sample(10000)\n",
    "train_ids = train\n",
    "print(len(train))\n",
    "print(train.head())\n",
    "print(train.tail())"
   ]
  },
  {
   "cell_type": "code",
   "execution_count": 3,
   "metadata": {},
   "outputs": [
    {
     "name": "stdout",
     "output_type": "stream",
     "text": [
      "Index(['msno', 'is_churn', 'city', 'bd', 'gender', 'registered_via',\n",
      "       'registration_init_time', 'payment_method_id', 'payment_plan_days',\n",
      "       'plan_list_price', 'actual_amount_paid', 'is_auto_renew',\n",
      "       'transaction_date', 'membership_expire_date', 'is_cancel'],\n",
      "      dtype='object')\n",
      "                                           msno  is_churn  city    bd  gender  \\\n",
      "0  9f0+9F6rZzU3jMjS4VU23N2MCk08MTkab6AGGsggfaw=         0  22.0  29.0  female   \n",
      "1  BvhlhkqythELhVLYxPtSXtqbWSLyWvOOz5Etzj5U35M=         0  22.0  27.0  female   \n",
      "2  cuq1z1n2PyxjFMN/rUmzVtH0FHJG9mA9w3fafa5yFPM=         0   5.0  33.0  female   \n",
      "3  uDpf6VyX3bAOqvO8sWGAz73gWzZekbMDus7gL20d4Js=         0  13.0  19.0    male   \n",
      "4  Tr3sWIgrzHL+zTvBTDptJUlMJXmfV1hKEtECHSwt4jI=         0  13.0  35.0    male   \n",
      "\n",
      "   registered_via  registration_init_time  payment_method_id  \\\n",
      "0             3.0              20120606.0               39.0   \n",
      "1             9.0              20100309.0               40.0   \n",
      "2             9.0              20070526.0               40.0   \n",
      "3             9.0              20140912.0               31.0   \n",
      "4             3.0              20130328.0               40.0   \n",
      "\n",
      "   payment_plan_days  plan_list_price  actual_amount_paid  is_auto_renew  \\\n",
      "0               30.0            149.0               149.0            1.0   \n",
      "1               30.0            149.0               149.0            1.0   \n",
      "2               30.0            149.0               149.0            1.0   \n",
      "3               30.0            149.0               149.0            1.0   \n",
      "4               30.0            149.0               149.0            1.0   \n",
      "\n",
      "   transaction_date  membership_expire_date  is_cancel  \n",
      "0        20170331.0              20170508.0        0.0  \n",
      "1        20170305.0              20170404.0        0.0  \n",
      "2        20170313.0              20170416.0        0.0  \n",
      "3        20170331.0              20170430.0        0.0  \n",
      "4        20170304.0              20170403.0        0.0  \n"
     ]
    }
   ],
   "source": [
    "# members\n",
    "members = pd.read_csv('data/kkbox-churn-prediction-challenge/members_v3.csv')\n",
    "train = train.merge(members, on = 'msno', how = 'left')\n",
    "\n",
    "transactions = pd.read_csv('data/kkbox-churn-prediction-challenge/transactions_v2.csv') \n",
    "transactions = transactions.sort_values(by=['transaction_date'], ascending=[False]).reset_index(drop=True)\n",
    "transactions = transactions.drop_duplicates(subset=['msno'], keep='first')\n",
    "\n",
    "train = pd.merge(train, transactions, how='left', on='msno')\n",
    "transactions=[]\n",
    "\n",
    "print(train.keys())\n",
    "print(train.head())"
   ]
  },
  {
   "cell_type": "code",
   "execution_count": 4,
   "metadata": {},
   "outputs": [],
   "source": [
    "# make some handy sorting functions\n",
    "def transform_df_sort_msno_date(df):\n",
    "    df = pd.DataFrame(df)\n",
    "    df = df.sort_values(by=['msno','date'], ascending=[True,True])\n",
    "    df = df.reset_index(drop=True)\n",
    "    return df\n",
    "\n",
    "def transform_df_sort_msno(df):\n",
    "    df = df.sort_values(by=['msno'], ascending=[True])\n",
    "    df = df.reset_index(drop=True)\n",
    "    return df"
   ]
  },
  {
   "cell_type": "code",
   "execution_count": 5,
   "metadata": {},
   "outputs": [
    {
     "name": "stdout",
     "output_type": "stream",
     "text": [
      "merging user logs features...\n",
      "done...\n",
      "                                           msno  is_churn  city   bd gender  \\\n",
      "0  ++Pn0C12cgWQPG4eSGOqQHYiw/gHgHKNsLBpBmTZYuQ=         0   1.0  0.0    NaN   \n",
      "1  ++Pn0C12cgWQPG4eSGOqQHYiw/gHgHKNsLBpBmTZYuQ=         0   1.0  0.0    NaN   \n",
      "2  ++Pn0C12cgWQPG4eSGOqQHYiw/gHgHKNsLBpBmTZYuQ=         0   1.0  0.0    NaN   \n",
      "3  ++Pn0C12cgWQPG4eSGOqQHYiw/gHgHKNsLBpBmTZYuQ=         0   1.0  0.0    NaN   \n",
      "4  ++Pn0C12cgWQPG4eSGOqQHYiw/gHgHKNsLBpBmTZYuQ=         0   1.0  0.0    NaN   \n",
      "\n",
      "   registered_via  registration_init_time  payment_method_id  \\\n",
      "0             9.0              20140907.0               28.0   \n",
      "1             9.0              20140907.0               28.0   \n",
      "2             9.0              20140907.0               28.0   \n",
      "3             9.0              20140907.0               28.0   \n",
      "4             9.0              20140907.0               28.0   \n",
      "\n",
      "   payment_plan_days  plan_list_price  ...  membership_expire_date  is_cancel  \\\n",
      "0               30.0            150.0  ...              20170419.0        0.0   \n",
      "1               30.0            150.0  ...              20170419.0        0.0   \n",
      "2               30.0            150.0  ...              20170419.0        0.0   \n",
      "3               30.0            150.0  ...              20170419.0        0.0   \n",
      "4               30.0            150.0  ...              20170419.0        0.0   \n",
      "\n",
      "         date  num_25  num_50  num_75  num_985  num_100  num_unq  total_secs  \n",
      "0  20170301.0    16.0     4.0     4.0      1.0      9.0     30.0    3135.634  \n",
      "1  20170303.0     5.0     3.0     0.0      1.0     13.0      6.0    3820.390  \n",
      "2  20170304.0    34.0    11.0     9.0      3.0     97.0     47.0   21777.818  \n",
      "3  20170305.0    50.0    23.0     8.0     10.0     73.0     79.0   21045.433  \n",
      "4  20170306.0     3.0     1.0     2.0      3.0     15.0      8.0    3929.938  \n",
      "\n",
      "[5 rows x 23 columns]\n"
     ]
    }
   ],
   "source": [
    "# Get user log data\n",
    "last_user_logs = []\n",
    "last_user_logs.append(transform_df_sort_msno_date(pd.read_csv('data/kkbox-churn-prediction-challenge/user_logs_v2.csv')))\n",
    "last_user_logs = pd.concat(last_user_logs, axis=0, ignore_index=True).reset_index(drop=True)\n",
    "last_user_logs = transform_df_sort_msno_date(last_user_logs)\n",
    "\n",
    "print ('merging user logs features...')\n",
    "train = pd.merge(train, last_user_logs, how='left', on='msno')\n",
    "\n",
    "train = transform_df_sort_msno_date(train)\n",
    "\n",
    "print ('done...')\n",
    "\n",
    "print(train.head())"
   ]
  },
  {
   "cell_type": "code",
   "execution_count": 6,
   "metadata": {},
   "outputs": [
    {
     "data": {
      "text/plain": [
       "(140169, 23)"
      ]
     },
     "execution_count": 6,
     "metadata": {},
     "output_type": "execute_result"
    }
   ],
   "source": [
    "train.shape"
   ]
  },
  {
   "cell_type": "markdown",
   "metadata": {},
   "source": [
    "### Feature Engineering\n",
    "#### Standardizing features\n",
    "#### One hot encoding\n",
    "#### Filling in n/as"
   ]
  },
  {
   "cell_type": "code",
   "execution_count": 7,
   "metadata": {},
   "outputs": [],
   "source": [
    "# Create standardized features\n",
    "def standardize_features(df):\n",
    "    df['mem_exp_date'] =  pd.to_datetime(df['membership_expire_date'], format='%Y%m%d')\n",
    "    df['date']=  pd.to_datetime(df['date'], format='%Y%m%d')\n",
    "    df['discount'] = df['plan_list_price'] - df['actual_amount_paid']\n",
    "    df['days_to_expire'] = df['date'] - df['mem_exp_date']\n",
    "\n",
    "    normalize_features = ['actual_amount_paid', 'plan_list_price','bd', 'discount','days_to_expire','num_25','num_50','num_75','num_985','num_100','num_unq','total_secs','payment_plan_days']\n",
    "    for feature in normalize_features: \n",
    "        df[feature] = StandardScaler().fit_transform(df[feature].values.reshape(-1, 1))\n",
    "\n",
    "    return df\n",
    "\n",
    "train = standardize_features(train)"
   ]
  },
  {
   "cell_type": "code",
   "execution_count": 8,
   "metadata": {},
   "outputs": [],
   "source": [
    "# One hot encoding features\n",
    "\n",
    "def one_hot_encoding(df):\n",
    "    one_hot_encoding_features = ['is_auto_renew', 'is_cancel', 'city','gender','registered_via','payment_method_id']\n",
    "\n",
    "    for feature in one_hot_encoding_features: \n",
    "        df[feature] = df[feature].astype('category')\n",
    "        df = pd.get_dummies(df, columns=[feature], dummy_na=True,drop_first=True)\n",
    "    \n",
    "    return df\n",
    "\n",
    "train = one_hot_encoding(train)"
   ]
  },
  {
   "cell_type": "code",
   "execution_count": 9,
   "metadata": {},
   "outputs": [
    {
     "name": "stdout",
     "output_type": "stream",
     "text": [
      "                                           msno  is_churn        bd  \\\n",
      "0  ++Pn0C12cgWQPG4eSGOqQHYiw/gHgHKNsLBpBmTZYuQ=         0 -0.530089   \n",
      "1  ++Pn0C12cgWQPG4eSGOqQHYiw/gHgHKNsLBpBmTZYuQ=         0 -0.530089   \n",
      "2  ++Pn0C12cgWQPG4eSGOqQHYiw/gHgHKNsLBpBmTZYuQ=         0 -0.530089   \n",
      "3  ++Pn0C12cgWQPG4eSGOqQHYiw/gHgHKNsLBpBmTZYuQ=         0 -0.530089   \n",
      "4  ++Pn0C12cgWQPG4eSGOqQHYiw/gHgHKNsLBpBmTZYuQ=         0 -0.530089   \n",
      "\n",
      "   registration_init_time  payment_plan_days  plan_list_price  \\\n",
      "0              20140907.0          -0.152187        -0.069324   \n",
      "1              20140907.0          -0.152187        -0.069324   \n",
      "2              20140907.0          -0.152187        -0.069324   \n",
      "3              20140907.0          -0.152187        -0.069324   \n",
      "4              20140907.0          -0.152187        -0.069324   \n",
      "\n",
      "   actual_amount_paid  transaction_date  membership_expire_date       date  \\\n",
      "0           -0.067273        20170314.0              20170419.0 2017-03-01   \n",
      "1           -0.067273        20170314.0              20170419.0 2017-03-03   \n",
      "2           -0.067273        20170314.0              20170419.0 2017-03-04   \n",
      "3           -0.067273        20170314.0              20170419.0 2017-03-05   \n",
      "4           -0.067273        20170314.0              20170419.0 2017-03-06   \n",
      "\n",
      "   ...  payment_method_id_33.0  payment_method_id_34.0  \\\n",
      "0  ...                       0                       0   \n",
      "1  ...                       0                       0   \n",
      "2  ...                       0                       0   \n",
      "3  ...                       0                       0   \n",
      "4  ...                       0                       0   \n",
      "\n",
      "   payment_method_id_35.0  payment_method_id_36.0  payment_method_id_37.0  \\\n",
      "0                       0                       0                       0   \n",
      "1                       0                       0                       0   \n",
      "2                       0                       0                       0   \n",
      "3                       0                       0                       0   \n",
      "4                       0                       0                       0   \n",
      "\n",
      "   payment_method_id_38.0  payment_method_id_39.0 payment_method_id_40.0  \\\n",
      "0                       0                       0                      0   \n",
      "1                       0                       0                      0   \n",
      "2                       0                       0                      0   \n",
      "3                       0                       0                      0   \n",
      "4                       0                       0                      0   \n",
      "\n",
      "   payment_method_id_41.0  payment_method_id_nan  \n",
      "0                       0                      0  \n",
      "1                       0                      0  \n",
      "2                       0                      0  \n",
      "3                       0                      0  \n",
      "4                       0                      0  \n",
      "\n",
      "[5 rows x 80 columns]\n"
     ]
    }
   ],
   "source": [
    "# fill nas\n",
    "train[train==np.inf]=np.nan\n",
    "train.fillna(train.mean(), inplace=True)\n",
    "# train.fillna(0, inplace=True)\n",
    "print(train.head())"
   ]
  },
  {
   "cell_type": "markdown",
   "metadata": {},
   "source": [
    "# Split into train/test and perform 50% oversampling"
   ]
  },
  {
   "cell_type": "code",
   "execution_count": 10,
   "metadata": {},
   "outputs": [
    {
     "name": "stdout",
     "output_type": "stream",
     "text": [
      "Original Sample Counter({0: 7257, 1: 743})\n",
      "RandomOverSampler Counter({0: 7257, 1: 3628})\n",
      "[0 0 1 ... 1 1 1]\n"
     ]
    }
   ],
   "source": [
    "\n",
    "#sort\n",
    "train = transform_df_sort_msno_date(train)\n",
    "save_train = train\n",
    "\n",
    "# Split into train/test by msno id\n",
    "train_id = pd.DataFrame(train_ids['msno'])\n",
    "response = pd.Series(train_ids['is_churn'].values).astype('int32')\n",
    "\n",
    "X_train, X_test, y_train, y_test = train_test_split(train_id, response, test_size = 0.2, random_state=123)\n",
    "print('Original Sample {}'.format(Counter(y_train)))\n",
    "\n",
    "# Over sample\n",
    "sampler = RandomOverSampler(random_state=123, sampling_strategy=0.50)\n",
    "X_train_oversample, y_train = sampler.fit_resample(X_train, y_train)\n",
    "X_test_keep = X_test\n",
    "print('RandomOverSampler {}'.format(Counter(y_train)))\n",
    "\n",
    "print(y_train)"
   ]
  },
  {
   "cell_type": "code",
   "execution_count": 11,
   "metadata": {},
   "outputs": [
    {
     "name": "stdout",
     "output_type": "stream",
     "text": [
      "Train churn ratio 0.08160299558685864\n",
      "Test churn ratio 0.08259534352235395\n",
      "Train churn ratio 0.33330271015158475\n",
      "Test churn ratio 0.0985\n",
      "(112165, 80)\n",
      "(28004, 80)\n",
      "(10885,)\n",
      "(2000,)\n"
     ]
    }
   ],
   "source": [
    "# Left join data back in\n",
    "X_train = pd.merge(X_train, train, how='left', on='msno')\n",
    "X_test = pd.merge(X_test, train, how='left', on='msno')\n",
    "\n",
    "print(\"Train churn ratio\", len(X_train[X_train['is_churn'] == 1])/len(X_train))\n",
    "print(\"Test churn ratio\", len(X_test[X_test['is_churn'] == 1])/len(X_test))\n",
    "\n",
    "print(\"Train churn ratio\", len(y_train[y_train == 1])/len(y_train))\n",
    "print(\"Test churn ratio\", len(y_test[y_test == 1])/len(y_test))\n",
    "\n",
    "print(X_train.shape)\n",
    "print(X_test.shape)\n",
    "print(y_train.shape)\n",
    "print(y_test.shape)"
   ]
  },
  {
   "cell_type": "markdown",
   "metadata": {},
   "source": [
    "# Fill in missing dates for RNN cube prep"
   ]
  },
  {
   "cell_type": "code",
   "execution_count": 12,
   "metadata": {},
   "outputs": [
    {
     "name": "stdout",
     "output_type": "stream",
     "text": [
      "32\n",
      "112165\n",
      "10885\n",
      "18396362\n",
      "348320\n",
      "                                           msno  id log_date_x       date  \\\n",
      "0  hV89+R/U2LNJ8lxdzieHp+FUpTaEEZh80/T+QCITQpQ=   1 2017-03-13 2017-03-13   \n",
      "1  hV89+R/U2LNJ8lxdzieHp+FUpTaEEZh80/T+QCITQpQ=   1 2017-03-19 2017-03-19   \n",
      "2  hV89+R/U2LNJ8lxdzieHp+FUpTaEEZh80/T+QCITQpQ=   1 2017-03-04 2017-03-04   \n",
      "3  hV89+R/U2LNJ8lxdzieHp+FUpTaEEZh80/T+QCITQpQ=   1 2017-03-14 2017-03-14   \n",
      "4  hV89+R/U2LNJ8lxdzieHp+FUpTaEEZh80/T+QCITQpQ=   1 2017-03-16 2017-03-16   \n",
      "\n",
      "   is_churn       bd  registration_init_time  payment_plan_days  \\\n",
      "0       0.0  0.97996              20051025.0          -0.152187   \n",
      "1       0.0  0.97996              20051025.0          -0.152187   \n",
      "2       NaN      NaN                     NaN                NaN   \n",
      "3       NaN      NaN                     NaN                NaN   \n",
      "4       NaN      NaN                     NaN                NaN   \n",
      "\n",
      "   plan_list_price  actual_amount_paid  ...  payment_method_id_34.0  \\\n",
      "0        -0.074772           -0.072717  ...                     1.0   \n",
      "1        -0.074772           -0.072717  ...                     1.0   \n",
      "2              NaN                 NaN  ...                     NaN   \n",
      "3              NaN                 NaN  ...                     NaN   \n",
      "4              NaN                 NaN  ...                     NaN   \n",
      "\n",
      "   payment_method_id_35.0  payment_method_id_36.0  payment_method_id_37.0  \\\n",
      "0                     0.0                     0.0                     0.0   \n",
      "1                     0.0                     0.0                     0.0   \n",
      "2                     NaN                     NaN                     NaN   \n",
      "3                     NaN                     NaN                     NaN   \n",
      "4                     NaN                     NaN                     NaN   \n",
      "\n",
      "   payment_method_id_38.0  payment_method_id_39.0  payment_method_id_40.0  \\\n",
      "0                     0.0                     0.0                     0.0   \n",
      "1                     0.0                     0.0                     0.0   \n",
      "2                     NaN                     NaN                     NaN   \n",
      "3                     NaN                     NaN                     NaN   \n",
      "4                     NaN                     NaN                     NaN   \n",
      "\n",
      "   payment_method_id_41.0  payment_method_id_nan log_date_y  \n",
      "0                     0.0                    0.0 2017-03-13  \n",
      "1                     0.0                    0.0 2017-03-19  \n",
      "2                     NaN                    NaN        NaT  \n",
      "3                     NaN                    NaN        NaT  \n",
      "4                     NaN                    NaN        NaT  \n",
      "\n",
      "[5 rows x 83 columns]\n",
      "32\n",
      "28004\n",
      "2000\n",
      "18396362\n",
      "64000\n",
      "                                           msno  id log_date_x       date  \\\n",
      "0  2bR0dgdI6li7KozZpYOpbaHcmJsHXow8zntuhLtusMY=   1 2017-03-22 2017-03-22   \n",
      "1  2bR0dgdI6li7KozZpYOpbaHcmJsHXow8zntuhLtusMY=   1 2017-03-28 2017-03-28   \n",
      "2  2bR0dgdI6li7KozZpYOpbaHcmJsHXow8zntuhLtusMY=   1 2017-03-29 2017-03-29   \n",
      "3  2bR0dgdI6li7KozZpYOpbaHcmJsHXow8zntuhLtusMY=   1 2017-03-30 2017-03-30   \n",
      "4  2bR0dgdI6li7KozZpYOpbaHcmJsHXow8zntuhLtusMY=   1        NaT        NaT   \n",
      "\n",
      "   is_churn        bd  registration_init_time  payment_plan_days  \\\n",
      "0       0.0  1.082918              20160812.0          -0.152187   \n",
      "1       0.0  1.082918              20160812.0          -0.152187   \n",
      "2       0.0  1.082918              20160812.0          -0.152187   \n",
      "3       0.0  1.082918              20160812.0          -0.152187   \n",
      "4       NaN       NaN                     NaN                NaN   \n",
      "\n",
      "   plan_list_price  actual_amount_paid  ...  payment_method_id_34.0  \\\n",
      "0        -0.347214           -0.344926  ...                     0.0   \n",
      "1        -0.347214           -0.344926  ...                     0.0   \n",
      "2        -0.347214           -0.344926  ...                     0.0   \n",
      "3        -0.347214           -0.344926  ...                     0.0   \n",
      "4              NaN                 NaN  ...                     NaN   \n",
      "\n",
      "   payment_method_id_35.0  payment_method_id_36.0  payment_method_id_37.0  \\\n",
      "0                     0.0                     0.0                     0.0   \n",
      "1                     0.0                     0.0                     0.0   \n",
      "2                     0.0                     0.0                     0.0   \n",
      "3                     0.0                     0.0                     0.0   \n",
      "4                     NaN                     NaN                     NaN   \n",
      "\n",
      "   payment_method_id_38.0  payment_method_id_39.0  payment_method_id_40.0  \\\n",
      "0                     0.0                     0.0                     0.0   \n",
      "1                     0.0                     0.0                     0.0   \n",
      "2                     0.0                     0.0                     0.0   \n",
      "3                     0.0                     0.0                     0.0   \n",
      "4                     NaN                     NaN                     NaN   \n",
      "\n",
      "   payment_method_id_41.0  payment_method_id_nan log_date_y  \n",
      "0                     1.0                    0.0 2017-03-22  \n",
      "1                     1.0                    0.0 2017-03-28  \n",
      "2                     1.0                    0.0 2017-03-29  \n",
      "3                     1.0                    0.0 2017-03-30  \n",
      "4                     NaN                    NaN        NaT  \n",
      "\n",
      "[5 rows x 83 columns]\n"
     ]
    }
   ],
   "source": [
    "def populate_dates(df, msno_df=pd.DataFrame()):\n",
    "    train_pop = df\n",
    "    train_pop['log_date'] =  pd.to_datetime(train_pop['date'])\n",
    "\n",
    "    train_test_date = pd.DataFrame()\n",
    "    train_test_date['log_date'] = train_pop['log_date'].unique()\n",
    "    train_test_date['id'] =1\n",
    "\n",
    "    print(len(train_test_date))\n",
    "\n",
    "    print(len(df))\n",
    "    train_test_msno = pd.DataFrame()\n",
    "    if len(msno_df)>1:\n",
    "        train_test_msno['msno'] = msno_df['msno']\n",
    "    else:\n",
    "        train_test_msno['msno'] = df['msno']\n",
    "    train_test_msno['id'] = 1\n",
    "    print(len(train_test_msno))\n",
    "\n",
    "    print(len(last_user_logs))\n",
    "\n",
    "    train_full_populate = pd.merge(train_test_msno, train_test_date, how='outer', on='id')\n",
    "    print(len(train_full_populate))\n",
    "\n",
    "    df['date'] = pd.to_datetime(df['date'])\n",
    "    train_full_populate['date'] = train_full_populate['log_date']\n",
    "\n",
    "    df = pd.merge(train_full_populate, df, how='left', on=['msno','date'])\n",
    "    print(df.head())\n",
    "    return df\n",
    "\n",
    "X_train = populate_dates(X_train, X_train_oversample)\n",
    "X_test = populate_dates(X_test, X_test_keep)"
   ]
  },
  {
   "cell_type": "code",
   "execution_count": 13,
   "metadata": {},
   "outputs": [],
   "source": [
    "# make non-rnn data\n",
    "X_train_reg = X_train\n",
    "X_test_reg = X_test"
   ]
  },
  {
   "cell_type": "code",
   "execution_count": 14,
   "metadata": {},
   "outputs": [
    {
     "name": "stdout",
     "output_type": "stream",
     "text": [
      "(64000, 83)\n",
      "(348320, 83)\n"
     ]
    }
   ],
   "source": [
    "# fill in NaNs and infinite values\n",
    "X_train_reg[X_train_reg==np.inf]=np.nan\n",
    "X_train_reg.fillna(X_train_reg.mean(), inplace=True)\n",
    "\n",
    "X_test_reg[X_test_reg==np.inf]=np.nan\n",
    "X_test_reg.fillna(X_test_reg.mean(), inplace=True)\n",
    "\n",
    "print(X_test.shape)\n",
    "print(X_train.shape)\n",
    "\n",
    "y_train_reg = pd.Series(X_train_reg['is_churn'].values).astype('int32')\n",
    "y_test_reg = pd.Series(X_test_reg['is_churn'].values).astype('int32')\n"
   ]
  },
  {
   "cell_type": "code",
   "execution_count": 15,
   "metadata": {},
   "outputs": [],
   "source": [
    "def clean_up(df):\n",
    "    remove_columns = ['log_date_x', \n",
    "                      'log_date_y', \n",
    "                      'id', \n",
    "                      'is_churn', \n",
    "                      'msno',\n",
    "                      'date',\n",
    "                      'transaction_date',\n",
    "                      'membership_expire_date',\n",
    "                      'mem_exp_date']\n",
    "    for column in remove_columns:\n",
    "        try:\n",
    "            df.pop(column)\n",
    "        except(KeyError):\n",
    "            next\n",
    "\n",
    "    return df\n",
    "\n",
    "X_train = clean_up(X_train)\n",
    "X_test = clean_up(X_test)\n",
    "X_train_reg = clean_up(X_train_reg)\n",
    "X_test_reg = clean_up(X_test_reg)"
   ]
  },
  {
   "cell_type": "markdown",
   "metadata": {},
   "source": [
    "# Format data for RNN into shape (examples, features, time_steps)"
   ]
  },
  {
   "cell_type": "code",
   "execution_count": 16,
   "metadata": {},
   "outputs": [
    {
     "name": "stdout",
     "output_type": "stream",
     "text": [
      "Train churn ratio 0.33330271015158475\n",
      "Test churn ratio 0.0985\n"
     ]
    }
   ],
   "source": [
    "print(\"Train churn ratio\", len(y_train[y_train == 1])/len(y_train))\n",
    "print(\"Test churn ratio\", len(y_test[y_test == 1])/len(y_test))"
   ]
  },
  {
   "cell_type": "code",
   "execution_count": 17,
   "metadata": {},
   "outputs": [
    {
     "name": "stdout",
     "output_type": "stream",
     "text": [
      "made tuple\n",
      "made tuple\n"
     ]
    }
   ],
   "source": [
    "# Format the data for RNN\n",
    "\n",
    "def reshape_for_rnn(df, oversample_size=pd.DataFrame()):\n",
    "    if len(oversample_size)>1:\n",
    "        n_rows = len(oversample_size)\n",
    "    else:\n",
    "        n_rows = len(df)\n",
    "    n_features = df.shape[1]\n",
    "    n_dates = 32\n",
    "\n",
    "    features = df.keys()\n",
    "    features_tuple_train = []\n",
    "    for feature in features:\n",
    "        features_tuple_train.append([df[feature].values.reshape((n_rows,n_dates))])\n",
    "\n",
    "    features_tuple_train = tuple(features_tuple_train)\n",
    "\n",
    "    print(\"made tuple\")\n",
    "\n",
    "    df = np.hstack(\n",
    "        features_tuple_train\n",
    "    ).reshape(n_rows, n_features, n_dates).transpose(0, 1, 2)\n",
    "    \n",
    "    return df\n",
    "\n",
    "\n",
    "X_train = reshape_for_rnn(X_train, X_train_oversample)\n",
    "X_test = reshape_for_rnn(X_test, X_test_keep)"
   ]
  },
  {
   "cell_type": "code",
   "execution_count": 18,
   "metadata": {},
   "outputs": [
    {
     "name": "stdout",
     "output_type": "stream",
     "text": [
      "(10885, 74, 32)\n",
      "(2000, 74, 32)\n",
      "(10885,)\n",
      "(2000,)\n"
     ]
    }
   ],
   "source": [
    "print(X_train.shape)\n",
    "print(X_test.shape)\n",
    "print(y_train.shape)\n",
    "print(y_test.shape)"
   ]
  },
  {
   "cell_type": "markdown",
   "metadata": {},
   "source": [
    "# Model development"
   ]
  },
  {
   "cell_type": "code",
   "execution_count": 19,
   "metadata": {},
   "outputs": [
    {
     "name": "stdout",
     "output_type": "stream",
     "text": [
      "(10885, 74, 32)\n",
      "Epoch 1/5\n",
      "10885/10885 [==============================] - 13s 1ms/step - loss: 10.2226 - accuracy: 0.3333\n",
      "Epoch 2/5\n",
      "10885/10885 [==============================] - 13s 1ms/step - loss: 10.2226 - accuracy: 0.3333\n",
      "Epoch 3/5\n",
      "10885/10885 [==============================] - 14s 1ms/step - loss: 10.2226 - accuracy: 0.3333\n",
      "Epoch 4/5\n",
      "10885/10885 [==============================] - 16s 2ms/step - loss: 10.2226 - accuracy: 0.3333\n",
      "Epoch 5/5\n",
      "10885/10885 [==============================] - 13s 1ms/step - loss: 10.2226 - accuracy: 0.3333\n",
      "Model: \"sequential_1\"\n",
      "_________________________________________________________________\n",
      "Layer (type)                 Output Shape              Param #   \n",
      "=================================================================\n",
      "lstm_1 (LSTM)                (None, 32)                8320      \n",
      "_________________________________________________________________\n",
      "dense_1 (Dense)              (None, 20)                660       \n",
      "_________________________________________________________________\n",
      "dropout_1 (Dropout)          (None, 20)                0         \n",
      "_________________________________________________________________\n",
      "batch_normalization_1 (Batch (None, 20)                80        \n",
      "_________________________________________________________________\n",
      "activation_1 (Activation)    (None, 20)                0         \n",
      "_________________________________________________________________\n",
      "dense_2 (Dense)              (None, 1)                 21        \n",
      "_________________________________________________________________\n",
      "activation_2 (Activation)    (None, 1)                 0         \n",
      "=================================================================\n",
      "Total params: 9,081\n",
      "Trainable params: 9,041\n",
      "Non-trainable params: 40\n",
      "_________________________________________________________________\n",
      "<keras.callbacks.callbacks.History object at 0x13cea26d8>\n"
     ]
    }
   ],
   "source": [
    "print((X_train.shape[0],X_train.shape[1],X_train.shape[2]))\n",
    "# Make a simple model:\n",
    "model =Sequential()\n",
    "model.add(LSTM(\n",
    "  units=32,input_shape=(X_train.shape[1], X_train.shape[2])\n",
    "))\n",
    "model.add(Dense(units=20))\n",
    "model.add(Dropout(0.1))\n",
    "model.add(BatchNormalization())\n",
    "model.add(Activation('softmax'))\n",
    "model.add(Dense(units=1))\n",
    "model.add(Activation('softmax'))\n",
    "model.compile(loss=\"binary_crossentropy\", optimizer=Adam(), metrics=['accuracy'])\n",
    "\n",
    "history = model.fit(\n",
    "    X_train, y_train,\n",
    "    epochs=5,\n",
    "    batch_size=32,\n",
    "    verbose=1\n",
    ")\n",
    "\n",
    "model.summary()\n",
    "\n",
    "print(history)"
   ]
  },
  {
   "cell_type": "code",
   "execution_count": 20,
   "metadata": {},
   "outputs": [],
   "source": [
    "def report_results(model, X, y):\n",
    "    pred = model.predict_classes(X)    \n",
    "    acc = accuracy_score(y, pred)\n",
    "    f1 = f1_score(y, pred)\n",
    "    prec = precision_score(y, pred)\n",
    "    rec = recall_score(y, pred)\n",
    "    cm = confusion_matrix(y, pred)\n",
    "    result = {'f1': f1, 'acc': acc, 'precision': prec, 'recall': rec, 'confusion_matrix': cm}\n",
    "    return result"
   ]
  },
  {
   "cell_type": "code",
   "execution_count": 22,
   "metadata": {},
   "outputs": [
    {
     "name": "stdout",
     "output_type": "stream",
     "text": [
      "{'f1': 0.17933545744196633, 'acc': 0.0985, 'precision': 0.0985, 'recall': 1.0, 'confusion_matrix': array([[   0, 1803],\n",
      "       [   0,  197]])}\n"
     ]
    },
    {
     "data": {
      "image/png": "[encoded data removed]",
      "text/plain": [
       "<Figure size 432x288 with 1 Axes>"
      ]
     },
     "metadata": {
      "needs_background": "light"
     },
     "output_type": "display_data"
    },
    {
     "data": {
      "image/png": "[encoded data removed]",
      "text/plain": [
       "<Figure size 360x360 with 2 Axes>"
      ]
     },
     "metadata": {
      "needs_background": "light"
     },
     "output_type": "display_data"
    }
   ],
   "source": [
    "plt.plot(history.history['accuracy'])\n",
    "plt.xlabel('Epochs')\n",
    "plt.ylabel('Categorical accuracy')\n",
    "plt.legend(['Training','Test'])\n",
    "\n",
    "test_results = report_results(model, X_test, y_test)\n",
    "print(test_results)\n",
    "\n",
    "LABELS = ['not churn', 'churn']\n",
    "y_pred = model.predict_classes(X_test)\n",
    "conf_matrix = confusion_matrix(y_test, y_pred)\n",
    "\n",
    "plt.figure(figsize=(5, 5))\n",
    "sns.heatmap(conf_matrix, xticklabels=LABELS, yticklabels=LABELS, annot=True, fmt=\"d\");\n",
    "plt.title(\"Confusion matrix\")\n",
    "plt.ylabel('True class')\n",
    "plt.xlabel('Predicted class')\n",
    "plt.show()"
   ]
  },
  {
   "cell_type": "code",
   "execution_count": 23,
   "metadata": {},
   "outputs": [
    {
     "name": "stdout",
     "output_type": "stream",
     "text": [
      "Model: \"sequential_2\"\n",
      "_________________________________________________________________\n",
      "Layer (type)                 Output Shape              Param #   \n",
      "=================================================================\n",
      "bidirectional_1 (Bidirection (None, 74, 64)            4160      \n",
      "_________________________________________________________________\n",
      "dropout_2 (Dropout)          (None, 74, 64)            0         \n",
      "_________________________________________________________________\n",
      "dense_3 (Dense)              (None, 74, 16)            1040      \n",
      "_________________________________________________________________\n",
      "batch_normalization_2 (Batch (None, 74, 16)            64        \n",
      "_________________________________________________________________\n",
      "activation_3 (Activation)    (None, 74, 16)            0         \n",
      "_________________________________________________________________\n",
      "flatten_1 (Flatten)          (None, 1184)              0         \n",
      "_________________________________________________________________\n",
      "dense_4 (Dense)              (None, 1)                 1185      \n",
      "=================================================================\n",
      "Total params: 6,449\n",
      "Trainable params: 6,417\n",
      "Non-trainable params: 32\n",
      "_________________________________________________________________\n",
      "Train on 9796 samples, validate on 1089 samples\n",
      "Epoch 1/5\n",
      "9796/9796 [==============================] - 4s 444us/step - loss: 1.1206 - accuracy: 0.6582 - val_loss: 1.5941 - val_accuracy: 0.0000e+00\n",
      "Epoch 2/5\n",
      "9796/9796 [==============================] - 3s 282us/step - loss: 0.5781 - accuracy: 0.7314 - val_loss: 1.8219 - val_accuracy: 0.0000e+00\n",
      "Epoch 3/5\n",
      "9796/9796 [==============================] - 3s 296us/step - loss: 0.5898 - accuracy: 0.7206 - val_loss: 1.5192 - val_accuracy: 0.0000e+00\n",
      "Epoch 4/5\n",
      "9796/9796 [==============================] - 3s 289us/step - loss: 0.5643 - accuracy: 0.7398 - val_loss: 1.6614 - val_accuracy: 0.0000e+00\n",
      "Epoch 5/5\n",
      "9796/9796 [==============================] - 3s 268us/step - loss: 0.5701 - accuracy: 0.7314 - val_loss: 1.9406 - val_accuracy: 0.0000e+00\n",
      "<keras.callbacks.callbacks.History object at 0x13e414fd0>\n"
     ]
    }
   ],
   "source": [
    "# Way too many epochs, started at 30 and reduced to 5\n",
    "# Changing to Bidirections Simple RNN\n",
    "model =Sequential()\n",
    "model.add(Bidirectional(SimpleRNN(32, return_sequences=True),input_shape=(X_train.shape[1], X_train.shape[2])))\n",
    "model.add(Dropout(0.1))\n",
    "model.add(Dense(units=16))\n",
    "model.add(BatchNormalization())\n",
    "model.add(Activation('softmax'))\n",
    "model.add(Flatten())\n",
    "model.add(Dense(units=1))\n",
    "model.compile(loss='binary_crossentropy', optimizer=Adam(), metrics=['accuracy'])\n",
    "model.summary()\n",
    "\n",
    "history = model.fit(\n",
    "    X_train, y_train,\n",
    "    epochs=5,\n",
    "    batch_size=128,\n",
    "    validation_split=0.1,\n",
    "    verbose=1\n",
    ")\n",
    "\n",
    "print(history)"
   ]
  },
  {
   "cell_type": "code",
   "execution_count": 24,
   "metadata": {},
   "outputs": [],
   "source": [
    "def report_results(model, X, y):\n",
    "    pred = model.predict_classes(X)    \n",
    "    acc = accuracy_score(y, pred)\n",
    "    f1 = f1_score(y, pred)\n",
    "    prec = precision_score(y, pred)\n",
    "    rec = recall_score(y, pred)\n",
    "    cm = confusion_matrix(y, pred)\n",
    "    result = {'f1': f1, 'acc': acc, 'precision': prec, 'recall': rec, 'confusion_matrix': cm}\n",
    "    return result"
   ]
  },
  {
   "cell_type": "code",
   "execution_count": 25,
   "metadata": {},
   "outputs": [
    {
     "name": "stdout",
     "output_type": "stream",
     "text": [
      "{'f1': 0.0, 'acc': 0.9, 'precision': 0.0, 'recall': 0.0, 'confusion_matrix': array([[1800,    3],\n",
      "       [ 197,    0]])}\n"
     ]
    },
    {
     "data": {
      "image/png": "[encoded data removed]",
      "text/plain": [
       "<Figure size 432x288 with 1 Axes>"
      ]
     },
     "metadata": {
      "needs_background": "light"
     },
     "output_type": "display_data"
    },
    {
     "data": {
      "image/png": "[encoded data removed]",
      "text/plain": [
       "<Figure size 360x360 with 2 Axes>"
      ]
     },
     "metadata": {
      "needs_background": "light"
     },
     "output_type": "display_data"
    }
   ],
   "source": [
    "# Plot and predict before moving on\n",
    "plt.plot(history.history['accuracy'])\n",
    "plt.plot(history.history['val_accuracy'])\n",
    "plt.xlabel('Epochs')\n",
    "plt.ylabel('Categorical accuracy')\n",
    "plt.legend(['Training','Test'])\n",
    "\n",
    "test_results = report_results(model, X_test, y_test)\n",
    "print(test_results)\n",
    "\n",
    "LABELS = ['not churn', 'churn']\n",
    "y_pred = model.predict_classes(X_test)\n",
    "conf_matrix = confusion_matrix(y_test, y_pred)\n",
    "\n",
    "plt.figure(figsize=(5, 5))\n",
    "sns.heatmap(conf_matrix, xticklabels=LABELS, yticklabels=LABELS, annot=True, fmt=\"d\");\n",
    "plt.title(\"Confusion matrix\")\n",
    "plt.ylabel('True class')\n",
    "plt.xlabel('Predicted class')\n",
    "plt.show()"
   ]
  },
  {
   "cell_type": "code",
   "execution_count": 26,
   "metadata": {},
   "outputs": [
    {
     "name": "stdout",
     "output_type": "stream",
     "text": [
      "Model: \"sequential_3\"\n",
      "_________________________________________________________________\n",
      "Layer (type)                 Output Shape              Param #   \n",
      "=================================================================\n",
      "gru_1 (GRU)                  (None, 64)                18624     \n",
      "_________________________________________________________________\n",
      "dropout_3 (Dropout)          (None, 64)                0         \n",
      "_________________________________________________________________\n",
      "dense_5 (Dense)              (None, 1)                 65        \n",
      "=================================================================\n",
      "Total params: 18,689\n",
      "Trainable params: 18,689\n",
      "Non-trainable params: 0\n",
      "_________________________________________________________________\n",
      "Epoch 1/5\n",
      "10885/10885 [==============================] - 7s 623us/step - loss: 0.6465 - accuracy: 0.6488\n",
      "Epoch 2/5\n",
      "10885/10885 [==============================] - 6s 584us/step - loss: 0.6193 - accuracy: 0.6665\n",
      "Epoch 3/5\n",
      "10885/10885 [==============================] - 6s 586us/step - loss: 0.6087 - accuracy: 0.6665\n",
      "Epoch 4/5\n",
      "10885/10885 [==============================] - 6s 577us/step - loss: 0.6031 - accuracy: 0.6666\n",
      "Epoch 5/5\n",
      "10885/10885 [==============================] - 7s 615us/step - loss: 0.5988 - accuracy: 0.6685\n",
      "Model: \"sequential_3\"\n",
      "_________________________________________________________________\n",
      "Layer (type)                 Output Shape              Param #   \n",
      "=================================================================\n",
      "gru_1 (GRU)                  (None, 64)                18624     \n",
      "_________________________________________________________________\n",
      "dropout_3 (Dropout)          (None, 64)                0         \n",
      "_________________________________________________________________\n",
      "dense_5 (Dense)              (None, 1)                 65        \n",
      "=================================================================\n",
      "Total params: 18,689\n",
      "Trainable params: 18,689\n",
      "Non-trainable params: 0\n",
      "_________________________________________________________________\n",
      "<keras.callbacks.callbacks.History object at 0x13d6357f0>\n"
     ]
    }
   ],
   "source": [
    "# Using the tips for vanishing/exploding gradients from this blog: https://www.dlology.com/blog/how-to-deal-with-vanishingexploding-gradients-in-keras/\n",
    "# Using GRU instead of LSTM per the blog recommendations\n",
    "# Computationally more expensive but better for POCs like this\n",
    "model=Sequential()\n",
    "# model.add(Embedding(input_dim=1000, output_dim=128))\n",
    "model.add(GRU(64,input_shape=(X_train.shape[1], X_train.shape[2])))\n",
    "model.add(Dropout(0.2))\n",
    "# model.add(Flatten())\n",
    "model.add(Dense(1, activation='sigmoid'))\n",
    "model.compile(loss='binary_crossentropy', optimizer=Adam(), metrics=['accuracy'])\n",
    "model.summary()\n",
    "\n",
    "\n",
    "\n",
    "history = model.fit(\n",
    "    X_train, y_train,\n",
    "    epochs=5,\n",
    "    batch_size=256,\n",
    "    verbose=1\n",
    ")\n",
    "model.summary()\n",
    "\n",
    "print(history)"
   ]
  },
  {
   "cell_type": "code",
   "execution_count": 27,
   "metadata": {},
   "outputs": [
    {
     "name": "stdout",
     "output_type": "stream",
     "text": [
      "{'f1': 0.08645533141210375, 'acc': 0.8415, 'precision': 0.1, 'recall': 0.07614213197969544, 'confusion_matrix': array([[1668,  135],\n",
      "       [ 182,   15]])}\n"
     ]
    },
    {
     "data": {
      "image/png": "[encoded data removed]",
      "text/plain": [
       "<Figure size 432x288 with 1 Axes>"
      ]
     },
     "metadata": {
      "needs_background": "light"
     },
     "output_type": "display_data"
    },
    {
     "data": {
      "image/png": "[encoded data removed]",
      "text/plain": [
       "<Figure size 360x360 with 2 Axes>"
      ]
     },
     "metadata": {
      "needs_background": "light"
     },
     "output_type": "display_data"
    }
   ],
   "source": [
    "# Plot and predict before moving on\n",
    "plt.plot(history.history['accuracy'])\n",
    "plt.xlabel('Epochs')\n",
    "plt.ylabel('Categorical accuracy')\n",
    "plt.legend(['Training','Test'])\n",
    "\n",
    "test_results = report_results(model, X_test, y_test)\n",
    "print(test_results)\n",
    "\n",
    "LABELS = ['not churn', 'churn']\n",
    "y_pred = model.predict_classes(X_test)\n",
    "conf_matrix = confusion_matrix(y_test, y_pred)\n",
    "\n",
    "plt.figure(figsize=(5, 5))\n",
    "sns.heatmap(conf_matrix, xticklabels=LABELS, yticklabels=LABELS, annot=True, fmt=\"d\");\n",
    "plt.title(\"Confusion matrix\")\n",
    "plt.ylabel('True class')\n",
    "plt.xlabel('Predicted class')\n",
    "plt.show()"
   ]
  },
  {
   "cell_type": "code",
   "execution_count": 28,
   "metadata": {},
   "outputs": [
    {
     "name": "stdout",
     "output_type": "stream",
     "text": [
      "Model: \"sequential_4\"\n",
      "_________________________________________________________________\n",
      "Layer (type)                 Output Shape              Param #   \n",
      "=================================================================\n",
      "gru_2 (GRU)                  (None, 64)                18624     \n",
      "_________________________________________________________________\n",
      "dropout_4 (Dropout)          (None, 64)                0         \n",
      "_________________________________________________________________\n",
      "dense_6 (Dense)              (None, 1)                 65        \n",
      "=================================================================\n",
      "Total params: 18,689\n",
      "Trainable params: 18,689\n",
      "Non-trainable params: 0\n",
      "_________________________________________________________________\n",
      "Train on 9796 samples, validate on 1089 samples\n",
      "Epoch 1/50\n",
      "9796/9796 [==============================] - 7s 739us/step - loss: 0.5981 - accuracy: 0.7047 - val_loss: 1.6766 - val_accuracy: 0.0000e+00\n",
      "Epoch 2/50\n",
      "9796/9796 [==============================] - 6s 593us/step - loss: 0.5518 - accuracy: 0.7407 - val_loss: 1.6847 - val_accuracy: 0.0000e+00\n",
      "Epoch 3/50\n",
      "9796/9796 [==============================] - 6s 571us/step - loss: 0.5438 - accuracy: 0.7408 - val_loss: 1.5302 - val_accuracy: 0.0000e+00\n",
      "Epoch 4/50\n",
      "9796/9796 [==============================] - 6s 584us/step - loss: 0.5383 - accuracy: 0.7408 - val_loss: 1.7124 - val_accuracy: 0.0000e+00\n",
      "Epoch 5/50\n",
      "9796/9796 [==============================] - 6s 641us/step - loss: 0.5346 - accuracy: 0.7408 - val_loss: 1.9424 - val_accuracy: 0.0000e+00\n",
      "Epoch 6/50\n",
      "9796/9796 [==============================] - 6s 606us/step - loss: 0.5319 - accuracy: 0.7407 - val_loss: 1.9126 - val_accuracy: 0.0000e+00\n",
      "Epoch 7/50\n",
      "9796/9796 [==============================] - 6s 594us/step - loss: 0.5280 - accuracy: 0.7408 - val_loss: 1.8849 - val_accuracy: 0.0000e+00\n",
      "Epoch 8/50\n",
      "9796/9796 [==============================] - 5s 560us/step - loss: 0.5243 - accuracy: 0.7407 - val_loss: 2.3590 - val_accuracy: 0.0000e+00\n",
      "Epoch 9/50\n",
      "9796/9796 [==============================] - 6s 615us/step - loss: 0.5272 - accuracy: 0.7408 - val_loss: 1.6535 - val_accuracy: 0.0000e+00\n",
      "Epoch 10/50\n",
      "9796/9796 [==============================] - 6s 663us/step - loss: 0.5231 - accuracy: 0.7408 - val_loss: 1.8783 - val_accuracy: 0.0000e+00\n",
      "Epoch 11/50\n",
      "9796/9796 [==============================] - 6s 648us/step - loss: 0.5199 - accuracy: 0.7408 - val_loss: 1.9565 - val_accuracy: 0.0000e+00\n",
      "Epoch 12/50\n",
      "9796/9796 [==============================] - 6s 574us/step - loss: 0.5194 - accuracy: 0.7410 - val_loss: 2.2655 - val_accuracy: 0.0000e+00\n",
      "Epoch 13/50\n",
      "9796/9796 [==============================] - 6s 578us/step - loss: 0.5214 - accuracy: 0.7408 - val_loss: 2.2415 - val_accuracy: 0.0000e+00\n",
      "Epoch 14/50\n",
      "9796/9796 [==============================] - 6s 620us/step - loss: 0.5207 - accuracy: 0.7410 - val_loss: 2.4367 - val_accuracy: 0.0000e+00\n",
      "Epoch 15/50\n",
      "9796/9796 [==============================] - 6s 641us/step - loss: 0.5162 - accuracy: 0.7406 - val_loss: 1.7959 - val_accuracy: 0.0000e+00\n",
      "Epoch 16/50\n",
      "9796/9796 [==============================] - 6s 583us/step - loss: 0.5185 - accuracy: 0.7409 - val_loss: 2.2007 - val_accuracy: 0.0000e+00\n",
      "Epoch 17/50\n",
      "9796/9796 [==============================] - 6s 617us/step - loss: 0.5144 - accuracy: 0.7409 - val_loss: 2.0894 - val_accuracy: 0.0000e+00\n",
      "Epoch 18/50\n",
      "9796/9796 [==============================] - 6s 602us/step - loss: 0.5136 - accuracy: 0.7408 - val_loss: 2.2444 - val_accuracy: 9.1827e-04\n",
      "Epoch 19/50\n",
      "9796/9796 [==============================] - 6s 617us/step - loss: 0.5122 - accuracy: 0.7414 - val_loss: 2.3181 - val_accuracy: 0.0000e+00\n",
      "Epoch 20/50\n",
      "9796/9796 [==============================] - 6s 624us/step - loss: 0.5131 - accuracy: 0.7407 - val_loss: 2.0574 - val_accuracy: 9.1827e-04\n",
      "Epoch 21/50\n",
      "9796/9796 [==============================] - 9s 960us/step - loss: 0.5140 - accuracy: 0.7417 - val_loss: 1.9133 - val_accuracy: 0.0000e+00\n",
      "Epoch 22/50\n",
      "9796/9796 [==============================] - 6s 662us/step - loss: 0.5114 - accuracy: 0.7416 - val_loss: 2.1434 - val_accuracy: 0.0000e+00\n",
      "Epoch 23/50\n",
      "9796/9796 [==============================] - 6s 595us/step - loss: 0.5087 - accuracy: 0.7423 - val_loss: 2.4032 - val_accuracy: 0.0028\n",
      "Epoch 24/50\n",
      "9796/9796 [==============================] - 6s 623us/step - loss: 0.5089 - accuracy: 0.7409 - val_loss: 2.1674 - val_accuracy: 0.0037\n",
      "Epoch 25/50\n",
      "9796/9796 [==============================] - 7s 671us/step - loss: 0.5102 - accuracy: 0.7425 - val_loss: 2.3958 - val_accuracy: 0.0000e+00\n",
      "Epoch 26/50\n",
      "9796/9796 [==============================] - 7s 665us/step - loss: 0.5105 - accuracy: 0.7408 - val_loss: 2.0174 - val_accuracy: 0.0064\n",
      "Epoch 27/50\n",
      "9796/9796 [==============================] - 5s 561us/step - loss: 0.5053 - accuracy: 0.7420 - val_loss: 2.1621 - val_accuracy: 0.1047\n",
      "Epoch 28/50\n",
      "9796/9796 [==============================] - 6s 575us/step - loss: 0.5055 - accuracy: 0.7438 - val_loss: 2.0725 - val_accuracy: 0.0202\n",
      "Epoch 29/50\n",
      "9796/9796 [==============================] - 5s 540us/step - loss: 0.5023 - accuracy: 0.7425 - val_loss: 2.0721 - val_accuracy: 0.0882\n",
      "Epoch 30/50\n",
      "9796/9796 [==============================] - 5s 554us/step - loss: 0.5077 - accuracy: 0.7419 - val_loss: 2.2535 - val_accuracy: 0.0129\n",
      "Epoch 31/50\n",
      "9796/9796 [==============================] - 6s 629us/step - loss: 0.5046 - accuracy: 0.7442 - val_loss: 2.4082 - val_accuracy: 0.0037\n",
      "Epoch 32/50\n",
      "9796/9796 [==============================] - 6s 634us/step - loss: 0.5020 - accuracy: 0.7439 - val_loss: 2.1178 - val_accuracy: 0.0046\n",
      "Epoch 33/50\n",
      "9796/9796 [==============================] - 6s 580us/step - loss: 0.4988 - accuracy: 0.7448 - val_loss: 2.2795 - val_accuracy: 0.0643\n",
      "Epoch 34/50\n",
      "9796/9796 [==============================] - 6s 593us/step - loss: 0.4991 - accuracy: 0.7445 - val_loss: 2.1213 - val_accuracy: 0.0964\n",
      "Epoch 35/50\n",
      "9796/9796 [==============================] - 6s 649us/step - loss: 0.5036 - accuracy: 0.7434 - val_loss: 2.2415 - val_accuracy: 0.0174\n",
      "Epoch 36/50\n",
      "9796/9796 [==============================] - 6s 662us/step - loss: 0.4966 - accuracy: 0.7464 - val_loss: 2.1676 - val_accuracy: 0.0202\n",
      "Epoch 37/50\n",
      "9796/9796 [==============================] - 6s 587us/step - loss: 0.4947 - accuracy: 0.7501 - val_loss: 2.2564 - val_accuracy: 0.0927\n",
      "Epoch 38/50\n",
      "9796/9796 [==============================] - 7s 717us/step - loss: 0.4933 - accuracy: 0.7473 - val_loss: 2.3661 - val_accuracy: 0.0615\n",
      "Epoch 39/50\n",
      "9796/9796 [==============================] - 6s 639us/step - loss: 0.4967 - accuracy: 0.7481 - val_loss: 2.1575 - val_accuracy: 0.0854\n",
      "Epoch 40/50\n",
      "9796/9796 [==============================] - 6s 597us/step - loss: 0.4912 - accuracy: 0.7498 - val_loss: 2.2295 - val_accuracy: 0.0744\n",
      "Epoch 41/50\n",
      "9796/9796 [==============================] - 6s 625us/step - loss: 0.4916 - accuracy: 0.7486 - val_loss: 2.0926 - val_accuracy: 0.0826\n",
      "Epoch 42/50\n",
      "9796/9796 [==============================] - 6s 650us/step - loss: 0.4934 - accuracy: 0.7497 - val_loss: 2.3100 - val_accuracy: 9.1827e-04\n",
      "Epoch 43/50\n",
      "9796/9796 [==============================] - 9s 950us/step - loss: 0.5124 - accuracy: 0.7435 - val_loss: 1.9511 - val_accuracy: 0.0000e+00\n",
      "Epoch 44/50\n",
      "9796/9796 [==============================] - 14s 1ms/step - loss: 0.4963 - accuracy: 0.7451 - val_loss: 2.0389 - val_accuracy: 0.0046\n",
      "Epoch 45/50\n",
      "9796/9796 [==============================] - 8s 831us/step - loss: 0.4899 - accuracy: 0.7472 - val_loss: 2.0112 - val_accuracy: 0.0138\n",
      "Epoch 46/50\n",
      "9796/9796 [==============================] - 8s 865us/step - loss: 0.4884 - accuracy: 0.7491 - val_loss: 2.1984 - val_accuracy: 0.0129\n",
      "Epoch 47/50\n",
      "9796/9796 [==============================] - 9s 912us/step - loss: 0.4842 - accuracy: 0.7493 - val_loss: 2.2125 - val_accuracy: 0.0248\n",
      "Epoch 48/50\n",
      "9796/9796 [==============================] - 6s 638us/step - loss: 0.4823 - accuracy: 0.7507 - val_loss: 1.9152 - val_accuracy: 0.0138\n",
      "Epoch 49/50\n",
      "9796/9796 [==============================] - 6s 622us/step - loss: 0.4806 - accuracy: 0.7519 - val_loss: 2.1797 - val_accuracy: 0.0854\n",
      "Epoch 50/50\n",
      "9796/9796 [==============================] - 7s 673us/step - loss: 0.4809 - accuracy: 0.7521 - val_loss: 1.8328 - val_accuracy: 0.0670\n"
     ]
    },
    {
     "name": "stdout",
     "output_type": "stream",
     "text": [
      "<keras.callbacks.callbacks.History object at 0x13d086b70>\n"
     ]
    }
   ],
   "source": [
    "# Increasing the batch size after watching the accuracy decrease rapidly during an epoch\n",
    "# Using the tips for vanishing/exploding gradients from this blog: https://www.dlology.com/blog/how-to-deal-with-vanishingexploding-gradients-in-keras/\n",
    "# Using GRU instead of LSTM per the blog recommendations\n",
    "# Computationally more expensive but better for POCs like this\n",
    "model=Sequential()\n",
    "# model.add(Embedding(input_dim=1000, output_dim=128))\n",
    "model.add(GRU(64,input_shape=(X_train.shape[1], X_train.shape[2])))\n",
    "model.add(Dropout(0.2))\n",
    "# model.add(Flatten())\n",
    "model.add(Dense(1, activation='sigmoid'))\n",
    "model.compile(loss='binary_crossentropy', optimizer=Adam(), metrics=['accuracy'])\n",
    "model.summary()\n",
    "\n",
    "\n",
    "history = model.fit(\n",
    "    X_train, y_train,\n",
    "    epochs=50,\n",
    "    batch_size=256,\n",
    "    validation_split=0.1,\n",
    "    verbose=1\n",
    ")\n",
    "\n",
    "print(history)"
   ]
  },
  {
   "cell_type": "code",
   "execution_count": 29,
   "metadata": {},
   "outputs": [
    {
     "name": "stdout",
     "output_type": "stream",
     "text": [
      "{'f1': 0.02247191011235955, 'acc': 0.8695, 'precision': 0.04285714285714286, 'recall': 0.015228426395939087, 'confusion_matrix': array([[1736,   67],\n",
      "       [ 194,    3]])}\n"
     ]
    },
    {
     "data": {
      "image/png": "[encoded data removed]",
      "text/plain": [
       "<Figure size 432x288 with 1 Axes>"
      ]
     },
     "metadata": {
      "needs_background": "light"
     },
     "output_type": "display_data"
    },
    {
     "data": {
      "image/png": "[encoded data removed]",
      "text/plain": [
       "<Figure size 360x360 with 2 Axes>"
      ]
     },
     "metadata": {
      "needs_background": "light"
     },
     "output_type": "display_data"
    }
   ],
   "source": [
    "# Plot and predict before moving on\n",
    "plt.plot(history.history['accuracy'])\n",
    "plt.plot(history.history['val_accuracy'])\n",
    "plt.xlabel('Epochs')\n",
    "plt.ylabel('Categorical accuracy')\n",
    "plt.legend(['Training','Test'])\n",
    "\n",
    "test_results = report_results(model, X_test, y_test)\n",
    "print(test_results)\n",
    "\n",
    "LABELS = ['not churn', 'churn']\n",
    "y_pred = model.predict_classes(X_test)\n",
    "conf_matrix = confusion_matrix(y_test, y_pred)\n",
    "\n",
    "plt.figure(figsize=(5, 5))\n",
    "sns.heatmap(conf_matrix, xticklabels=LABELS, yticklabels=LABELS, annot=True, fmt=\"d\");\n",
    "plt.title(\"Confusion matrix\")\n",
    "plt.ylabel('True class')\n",
    "plt.xlabel('Predicted class')\n",
    "plt.show()"
   ]
  },
  {
   "cell_type": "code",
   "execution_count": 30,
   "metadata": {},
   "outputs": [
    {
     "name": "stdout",
     "output_type": "stream",
     "text": [
      "Model: \"sequential_5\"\n",
      "_________________________________________________________________\n",
      "Layer (type)                 Output Shape              Param #   \n",
      "=================================================================\n",
      "lstm_2 (LSTM)                (None, 128)               82432     \n",
      "_________________________________________________________________\n",
      "dense_7 (Dense)              (None, 128)               16512     \n",
      "_________________________________________________________________\n",
      "batch_normalization_3 (Batch (None, 128)               512       \n",
      "_________________________________________________________________\n",
      "dropout_5 (Dropout)          (None, 128)               0         \n",
      "_________________________________________________________________\n",
      "dense_8 (Dense)              (None, 64)                8256      \n",
      "_________________________________________________________________\n",
      "batch_normalization_4 (Batch (None, 64)                256       \n",
      "_________________________________________________________________\n",
      "dropout_6 (Dropout)          (None, 64)                0         \n",
      "_________________________________________________________________\n",
      "dense_9 (Dense)              (None, 32)                2080      \n",
      "_________________________________________________________________\n",
      "dropout_7 (Dropout)          (None, 32)                0         \n",
      "_________________________________________________________________\n",
      "dense_10 (Dense)             (None, 1)                 33        \n",
      "=================================================================\n",
      "Total params: 110,081\n",
      "Trainable params: 109,697\n",
      "Non-trainable params: 384\n",
      "_________________________________________________________________\n",
      "Train on 8708 samples, validate on 2177 samples\n",
      "Epoch 1/30\n",
      "8708/8708 [==============================] - 12s 1ms/step - loss: 4.5950 - accuracy: 0.7298 - val_loss: 4.4222 - val_accuracy: 0.0000e+00\n",
      "Epoch 2/30\n",
      "8708/8708 [==============================] - 11s 1ms/step - loss: 3.9172 - accuracy: 0.8145 - val_loss: 3.9406 - val_accuracy: 0.0000e+00\n",
      "Epoch 3/30\n",
      "8708/8708 [==============================] - 11s 1ms/step - loss: 3.4009 - accuracy: 0.8215 - val_loss: 3.5253 - val_accuracy: 0.0000e+00\n",
      "Epoch 4/30\n",
      "8708/8708 [==============================] - 10s 1ms/step - loss: 2.9639 - accuracy: 0.8245 - val_loss: 3.1800 - val_accuracy: 0.0000e+00\n",
      "Epoch 5/30\n",
      "8708/8708 [==============================] - 10s 1ms/step - loss: 2.5981 - accuracy: 0.8288 - val_loss: 2.8895 - val_accuracy: 0.0000e+00\n",
      "Epoch 6/30\n",
      "8708/8708 [==============================] - 10s 1ms/step - loss: 2.2875 - accuracy: 0.8294 - val_loss: 2.6378 - val_accuracy: 0.0000e+00\n",
      "Epoch 7/30\n",
      "8708/8708 [==============================] - 10s 1ms/step - loss: 2.0185 - accuracy: 0.8289 - val_loss: 2.4238 - val_accuracy: 0.0000e+00\n",
      "Epoch 8/30\n",
      "8708/8708 [==============================] - 10s 1ms/step - loss: 1.7852 - accuracy: 0.8310 - val_loss: 2.2526 - val_accuracy: 0.0000e+00\n",
      "Epoch 9/30\n",
      "8708/8708 [==============================] - 10s 1ms/step - loss: 1.5898 - accuracy: 0.8322 - val_loss: 2.1068 - val_accuracy: 0.0000e+00\n",
      "Epoch 10/30\n",
      "8708/8708 [==============================] - 11s 1ms/step - loss: 1.4226 - accuracy: 0.8327 - val_loss: 1.9851 - val_accuracy: 0.0000e+00\n",
      "Epoch 11/30\n",
      "8708/8708 [==============================] - 10s 1ms/step - loss: 1.2734 - accuracy: 0.8328 - val_loss: 1.8948 - val_accuracy: 0.0000e+00\n",
      "Epoch 12/30\n",
      "8708/8708 [==============================] - 10s 1ms/step - loss: 1.1483 - accuracy: 0.8334 - val_loss: 1.8138 - val_accuracy: 0.0000e+00\n",
      "Epoch 13/30\n",
      "8708/8708 [==============================] - 10s 1ms/step - loss: 1.0415 - accuracy: 0.8325 - val_loss: 1.7524 - val_accuracy: 0.0000e+00\n",
      "Epoch 14/30\n",
      "8708/8708 [==============================] - 11s 1ms/step - loss: 0.9466 - accuracy: 0.8330 - val_loss: 1.7022 - val_accuracy: 0.0000e+00\n",
      "Epoch 15/30\n",
      "8708/8708 [==============================] - 11s 1ms/step - loss: 0.8640 - accuracy: 0.8336 - val_loss: 1.6590 - val_accuracy: 0.0000e+00\n",
      "Epoch 16/30\n",
      "8708/8708 [==============================] - 11s 1ms/step - loss: 0.7956 - accuracy: 0.8331 - val_loss: 1.6417 - val_accuracy: 0.0000e+00\n",
      "Epoch 17/30\n",
      "8708/8708 [==============================] - 13s 1ms/step - loss: 0.7351 - accuracy: 0.8336 - val_loss: 1.6350 - val_accuracy: 0.0000e+00\n",
      "Epoch 18/30\n",
      "8708/8708 [==============================] - 11s 1ms/step - loss: 0.6864 - accuracy: 0.8334 - val_loss: 1.6416 - val_accuracy: 0.0000e+00\n",
      "Epoch 19/30\n",
      "8708/8708 [==============================] - 11s 1ms/step - loss: 0.6436 - accuracy: 0.8335 - val_loss: 1.6380 - val_accuracy: 0.0000e+00\n",
      "Epoch 20/30\n",
      "8708/8708 [==============================] - 12s 1ms/step - loss: 0.6019 - accuracy: 0.8335 - val_loss: 1.6260 - val_accuracy: 0.0000e+00\n",
      "Epoch 21/30\n",
      "8708/8708 [==============================] - 11s 1ms/step - loss: 0.5719 - accuracy: 0.8334 - val_loss: 1.6304 - val_accuracy: 0.0000e+00\n",
      "Epoch 22/30\n",
      "8708/8708 [==============================] - 11s 1ms/step - loss: 0.5429 - accuracy: 0.8335 - val_loss: 1.6692 - val_accuracy: 0.0000e+00\n",
      "Epoch 23/30\n",
      "8708/8708 [==============================] - 12s 1ms/step - loss: 0.5223 - accuracy: 0.8335 - val_loss: 1.7255 - val_accuracy: 0.0000e+00\n",
      "Epoch 24/30\n",
      "8708/8708 [==============================] - 11s 1ms/step - loss: 0.5014 - accuracy: 0.8335 - val_loss: 1.7325 - val_accuracy: 0.0000e+00\n",
      "Epoch 25/30\n",
      "8708/8708 [==============================] - 11s 1ms/step - loss: 0.4861 - accuracy: 0.8334 - val_loss: 1.7231 - val_accuracy: 0.0000e+00\n",
      "Epoch 26/30\n",
      "8708/8708 [==============================] - 12s 1ms/step - loss: 0.4755 - accuracy: 0.8334 - val_loss: 1.7631 - val_accuracy: 0.0000e+00\n",
      "Epoch 27/30\n",
      "8708/8708 [==============================] - 11s 1ms/step - loss: 0.4635 - accuracy: 0.8335 - val_loss: 1.7812 - val_accuracy: 0.0000e+00\n",
      "Epoch 28/30\n",
      "8708/8708 [==============================] - 11s 1ms/step - loss: 0.4528 - accuracy: 0.8334 - val_loss: 1.8239 - val_accuracy: 0.0000e+00\n",
      "Epoch 29/30\n",
      "8708/8708 [==============================] - 11s 1ms/step - loss: 0.4448 - accuracy: 0.8336 - val_loss: 1.8260 - val_accuracy: 0.0000e+00\n",
      "Epoch 30/30\n",
      "8708/8708 [==============================] - 11s 1ms/step - loss: 0.4398 - accuracy: 0.8334 - val_loss: 1.8848 - val_accuracy: 0.0000e+00\n"
     ]
    }
   ],
   "source": [
    "# Model 2, adding SimpleRNN, GRU, or LSTM to the best model found here: https://www.kaggle.com/ripcurl/feedforward-neural-network-0-12174\n",
    "lsize = 128\n",
    "model = Sequential()\n",
    "# model.add(SimpleRNN(32, return_sequences=True, input_shape=(X_train.shape[1], X_train.shape[2])))\n",
    "model.add(LSTM(\n",
    "  units=128,\n",
    "  input_shape=(X_train.shape[1], X_train.shape[2])\n",
    "))\n",
    "model.add(Dense(lsize, input_dim=int(X_train.shape[1]),activation='relu'))\n",
    "model.add(BatchNormalization())\n",
    "model.add(Dropout(rate=0.25))\n",
    "model.add(Dense(int(lsize/2), activation='relu'))\n",
    "model.add(BatchNormalization())\n",
    "model.add(Dropout(rate=0.25))\n",
    "model.add(Dense(int(lsize/4),kernel_regularizer=regularizers.l2(0.1), activation='relu'))\n",
    "model.add(Dropout(rate=0.1))\n",
    "model.add(Dense(1, activation='sigmoid'))\n",
    "\n",
    "# Compile model\n",
    "model.compile(loss='binary_crossentropy', optimizer='adadelta', metrics=['accuracy'])\n",
    "model.summary()\n",
    "\n",
    "# Fit the model\n",
    "history = model.fit(X_train, y_train, epochs=30, batch_size=1026,\n",
    "                    validation_split=0.2, verbose=1)"
   ]
  },
  {
   "cell_type": "code",
   "execution_count": 31,
   "metadata": {},
   "outputs": [
    {
     "name": "stderr",
     "output_type": "stream",
     "text": [
      "/Users/annelise/.pyenv/versions/3.6.4/envs/csci/lib/python3.6/site-packages/sklearn/metrics/_classification.py:1272: UndefinedMetricWarning: Precision is ill-defined and being set to 0.0 due to no predicted samples. Use `zero_division` parameter to control this behavior.\n",
      "  _warn_prf(average, modifier, msg_start, len(result))\n"
     ]
    },
    {
     "name": "stdout",
     "output_type": "stream",
     "text": [
      "{'f1': 0.0, 'acc': 0.9015, 'precision': 0.0, 'recall': 0.0, 'confusion_matrix': array([[1803,    0],\n",
      "       [ 197,    0]])}\n"
     ]
    },
    {
     "data": {
      "image/png": "[encoded data removed]",
      "text/plain": [
       "<Figure size 432x288 with 1 Axes>"
      ]
     },
     "metadata": {
      "needs_background": "light"
     },
     "output_type": "display_data"
    },
    {
     "data": {
      "image/png": "[encoded data removed]",
      "text/plain": [
       "<Figure size 360x360 with 2 Axes>"
      ]
     },
     "metadata": {
      "needs_background": "light"
     },
     "output_type": "display_data"
    }
   ],
   "source": [
    "# Plot and predict before moving on\n",
    "plt.plot(history.history['accuracy'])\n",
    "plt.plot(history.history['val_accuracy'])\n",
    "plt.xlabel('Epochs')\n",
    "plt.ylabel('Categorical accuracy')\n",
    "plt.legend(['Training','Test'])\n",
    "\n",
    "test_results = report_results(model, X_test, y_test)\n",
    "print(test_results)\n",
    "\n",
    "LABELS = ['not churn', 'churn']\n",
    "y_pred = model.predict_classes(X_test)\n",
    "conf_matrix = confusion_matrix(y_test, y_pred)\n",
    "\n",
    "plt.figure(figsize=(5, 5))\n",
    "sns.heatmap(conf_matrix, xticklabels=LABELS, yticklabels=LABELS, annot=True, fmt=\"d\");\n",
    "plt.title(\"Confusion matrix\")\n",
    "plt.ylabel('True class')\n",
    "plt.xlabel('Predicted class')\n",
    "plt.show()"
   ]
  },
  {
   "cell_type": "code",
   "execution_count": 32,
   "metadata": {},
   "outputs": [
    {
     "name": "stdout",
     "output_type": "stream",
     "text": [
      "Epoch 1/5\n",
      "10885/10885 [==============================] - 2s 141us/step - loss: 1.2897 - accuracy: 0.6649\n",
      "Epoch 2/5\n",
      "10885/10885 [==============================] - 1s 100us/step - loss: 1.0746 - accuracy: 0.6558\n",
      "Epoch 3/5\n",
      "10885/10885 [==============================] - 1s 124us/step - loss: 0.9945 - accuracy: 0.6440\n",
      "Epoch 4/5\n",
      "10885/10885 [==============================] - 2s 146us/step - loss: 0.9405 - accuracy: 0.6352\n",
      "Epoch 5/5\n",
      "10885/10885 [==============================] - 2s 185us/step - loss: 0.8959 - accuracy: 0.6341\n",
      "{'f1': 0.0404040404040404, 'acc': 0.8575, 'precision': 0.06, 'recall': 0.030456852791878174, 'confusion_matrix': array([[1709,   94],\n",
      "       [ 191,    6]])}\n"
     ]
    },
    {
     "data": {
      "image/png": "[encoded data removed]",
      "text/plain": [
       "<Figure size 360x360 with 2 Axes>"
      ]
     },
     "metadata": {
      "needs_background": "light"
     },
     "output_type": "display_data"
    }
   ],
   "source": [
    "simple_lstm_model = Sequential([\n",
    "    LSTM(8, input_shape=X_train.shape[-2:]),\n",
    "    Dense(1)\n",
    "])\n",
    "\n",
    "simple_lstm_model.compile(optimizer='adam', loss='binary_crossentropy', metrics=['accuracy'])\n",
    "\n",
    "history = simple_lstm_model.fit(X_train, y_train, epochs=5, batch_size=2000, verbose=1)\n",
    "\n",
    "test_results = report_results(simple_lstm_model, X_test, y_test)\n",
    "print(test_results)\n",
    "\n",
    "LABELS = ['not churn', 'churn']\n",
    "y_pred = simple_lstm_model.predict_classes(X_test)\n",
    "conf_matrix = confusion_matrix(y_test, y_pred)\n",
    "\n",
    "plt.figure(figsize=(5, 5))\n",
    "sns.heatmap(conf_matrix, xticklabels=LABELS, yticklabels=LABELS, annot=True, fmt=\"d\");\n",
    "plt.title(\"Confusion matrix\")\n",
    "plt.ylabel('True class')\n",
    "plt.xlabel('Predicted class')\n",
    "plt.show()"
   ]
  },
  {
   "cell_type": "markdown",
   "metadata": {},
   "source": [
    "# Feature pruning using PCA"
   ]
  },
  {
   "cell_type": "code",
   "execution_count": null,
   "metadata": {},
   "outputs": [],
   "source": [
    "# X_train_reg[X_train_reg==np.inf]=np.nan\n",
    "# X_train_reg.fillna(X_train_reg.mean(), inplace=True)\n",
    "\n",
    "# X_test_reg[X_test_reg==np.inf]=np.nan\n",
    "# X_test_reg.fillna(X_test_reg.mean(), inplace=True)"
   ]
  },
  {
   "cell_type": "code",
   "execution_count": 33,
   "metadata": {},
   "outputs": [
    {
     "name": "stdout",
     "output_type": "stream",
     "text": [
      "(348320, 74)\n",
      "(348320, 15)\n"
     ]
    },
    {
     "data": {
      "image/png": "[encoded data removed]",
      "text/plain": [
       "<Figure size 432x288 with 1 Axes>"
      ]
     },
     "metadata": {
      "needs_background": "light"
     },
     "output_type": "display_data"
    }
   ],
   "source": [
    "#PCA\n",
    "\n",
    "pca = PCA(n_components=50)\n",
    "pca.fit(X_train_reg)\n",
    "\n",
    "plt.plot(np.cumsum(pca.explained_variance_ratio_))\n",
    "plt.xlabel('Number of components')\n",
    "plt.ylabel('Cumulative explained variance')\n",
    "\n",
    "NCOMPONENTS = 15\n",
    "\n",
    "pca = PCA(n_components=NCOMPONENTS, svd_solver='full')\n",
    "X_pca_train = pca.fit_transform(X_train_reg)\n",
    "X_pca_test = pca.transform(X_test_reg)\n",
    "pca_std = np.std(X_pca_train)\n",
    "\n",
    "print(X_train_reg.shape)\n",
    "print(X_pca_train.shape)"
   ]
  },
  {
   "cell_type": "code",
   "execution_count": 34,
   "metadata": {},
   "outputs": [
    {
     "name": "stdout",
     "output_type": "stream",
     "text": [
      "0    0\n",
      "1    0\n",
      "2    0\n",
      "3    0\n",
      "4    0\n",
      "dtype: int32\n",
      "Model: \"sequential_7\"\n",
      "_________________________________________________________________\n",
      "Layer (type)                 Output Shape              Param #   \n",
      "=================================================================\n",
      "dense_12 (Dense)             (None, 128)               2048      \n",
      "_________________________________________________________________\n",
      "batch_normalization_5 (Batch (None, 128)               512       \n",
      "_________________________________________________________________\n",
      "dropout_8 (Dropout)          (None, 128)               0         \n",
      "_________________________________________________________________\n",
      "dense_13 (Dense)             (None, 64)                8256      \n",
      "_________________________________________________________________\n",
      "batch_normalization_6 (Batch (None, 64)                256       \n",
      "_________________________________________________________________\n",
      "dropout_9 (Dropout)          (None, 64)                0         \n",
      "_________________________________________________________________\n",
      "dense_14 (Dense)             (None, 32)                2080      \n",
      "_________________________________________________________________\n",
      "dropout_10 (Dropout)         (None, 32)                0         \n",
      "_________________________________________________________________\n",
      "dense_15 (Dense)             (None, 1)                 33        \n",
      "=================================================================\n",
      "Total params: 13,185\n",
      "Trainable params: 12,801\n",
      "Non-trainable params: 384\n",
      "_________________________________________________________________\n",
      "Train on 278656 samples, validate on 69664 samples\n",
      "Epoch 1/10\n",
      "278656/278656 [==============================] - 4s 13us/step - loss: 1.1849 - accuracy: 0.9121 - val_loss: 0.8439 - val_accuracy: 0.6094\n",
      "Epoch 2/10\n",
      "278656/278656 [==============================] - 4s 15us/step - loss: 0.2154 - accuracy: 0.9359 - val_loss: 0.8827 - val_accuracy: 0.6094\n",
      "Epoch 3/10\n",
      "278656/278656 [==============================] - 3s 11us/step - loss: 0.2039 - accuracy: 0.9359 - val_loss: 0.8451 - val_accuracy: 0.6094\n",
      "Epoch 4/10\n",
      "278656/278656 [==============================] - 2s 9us/step - loss: 0.2022 - accuracy: 0.9359 - val_loss: 0.7977 - val_accuracy: 0.6094\n",
      "Epoch 5/10\n",
      "278656/278656 [==============================] - 3s 10us/step - loss: 0.2017 - accuracy: 0.9359 - val_loss: 0.8716 - val_accuracy: 0.6094\n",
      "Epoch 6/10\n",
      "278656/278656 [==============================] - 4s 14us/step - loss: 0.2010 - accuracy: 0.9359 - val_loss: 0.7855 - val_accuracy: 0.6094\n",
      "Epoch 7/10\n",
      "278656/278656 [==============================] - 4s 16us/step - loss: 0.2001 - accuracy: 0.9359 - val_loss: 0.8033 - val_accuracy: 0.6094\n",
      "Epoch 8/10\n",
      "278656/278656 [==============================] - 3s 12us/step - loss: 0.1983 - accuracy: 0.9359 - val_loss: 0.8541 - val_accuracy: 0.6094\n",
      "Epoch 9/10\n",
      "278656/278656 [==============================] - 3s 10us/step - loss: 0.1956 - accuracy: 0.9359 - val_loss: 0.7818 - val_accuracy: 0.6094\n",
      "Epoch 10/10\n",
      "278656/278656 [==============================] - 3s 10us/step - loss: 0.1927 - accuracy: 0.9359 - val_loss: 0.7777 - val_accuracy: 0.6094\n"
     ]
    }
   ],
   "source": [
    "# Use PCA\n",
    "print(y_train_reg.head())\n",
    "lsize = 128\n",
    "model = Sequential()\n",
    "model.add(Dense(lsize, input_dim=int(X_pca_train.shape[1]),activation='relu'))\n",
    "model.add(BatchNormalization())\n",
    "model.add(Dropout(rate=0.25))\n",
    "model.add(Dense(int(lsize/2), activation='relu'))\n",
    "model.add(BatchNormalization())\n",
    "model.add(Dropout(rate=0.25))\n",
    "model.add(Dense(int(lsize/4),kernel_regularizer=regularizers.l2(0.1), activation='relu'))\n",
    "model.add(Dropout(rate=0.1))\n",
    "model.add(Dense(1, activation='sigmoid'))\n",
    "\n",
    "# Compile model\n",
    "model.compile(loss='binary_crossentropy', optimizer='adadelta', metrics=['accuracy'])\n",
    "model.summary()\n",
    "\n",
    "# Fit the model\n",
    "history = model.fit(X_pca_train, y_train_reg, epochs=10, batch_size=1026,\n",
    "                    validation_split=0.2, verbose=1)\n",
    "\n",
    "# X_pca_test"
   ]
  },
  {
   "cell_type": "code",
   "execution_count": 36,
   "metadata": {},
   "outputs": [
    {
     "name": "stdout",
     "output_type": "stream",
     "text": [
      "{'f1': 0.0, 'acc': 0.963859375, 'precision': 0.0, 'recall': 0.0, 'confusion_matrix': array([[61687,     0],\n",
      "       [ 2313,     0]])}\n"
     ]
    },
    {
     "data": {
      "image/png": "[encoded data removed]",
      "text/plain": [
       "<Figure size 432x288 with 1 Axes>"
      ]
     },
     "metadata": {
      "needs_background": "light"
     },
     "output_type": "display_data"
    },
    {
     "data": {
      "image/png": "[encoded data removed]",
      "text/plain": [
       "<Figure size 360x360 with 2 Axes>"
      ]
     },
     "metadata": {
      "needs_background": "light"
     },
     "output_type": "display_data"
    }
   ],
   "source": [
    "# Plot and predict before moving on\n",
    "plt.plot(history.history['accuracy'])\n",
    "plt.plot(history.history['val_accuracy'])\n",
    "plt.xlabel('Epochs')\n",
    "plt.ylabel('Categorical accuracy')\n",
    "plt.legend(['Training','Test'])\n",
    "\n",
    "test_results = report_results(model, X_pca_test, y_test_reg)\n",
    "print(test_results)\n",
    "\n",
    "LABELS = ['not churn', 'churn']\n",
    "y_pred = model.predict_classes(X_pca_test)\n",
    "conf_matrix = confusion_matrix(y_test_reg, y_pred)\n",
    "\n",
    "plt.figure(figsize=(5, 5))\n",
    "sns.heatmap(conf_matrix, xticklabels=LABELS, yticklabels=LABELS, annot=True, fmt=\"d\");\n",
    "plt.title(\"Confusion matrix\")\n",
    "plt.ylabel('True class')\n",
    "plt.xlabel('Predicted class')\n",
    "plt.show()"
   ]
  },
  {
   "cell_type": "code",
   "execution_count": 37,
   "metadata": {},
   "outputs": [
    {
     "name": "stdout",
     "output_type": "stream",
     "text": [
      "[[ 8.16910449e-06 -1.00000000e+00 -1.61975456e-07 ...  1.25666702e-06\n",
      "  -4.32156996e-06 -2.10430362e-07]\n",
      " [ 3.39412510e-02  2.27392893e-06  5.70033577e-01 ... -7.47569456e-03\n",
      "  -4.28990945e-02 -4.64077553e-03]\n",
      " [ 1.58069940e-02  1.51445172e-06 -2.11835544e-02 ...  2.50364146e-03\n",
      "  -1.35980008e-02 -1.42858041e-03]\n",
      " ...\n",
      " [-2.98547051e-03  6.26319882e-08  4.21590558e-03 ... -1.15418265e-02\n",
      "   1.32333946e-02  3.52789972e-03]\n",
      " [ 4.22949132e-02 -5.07286801e-06 -7.91462900e-03 ... -3.01363543e-01\n",
      "   9.90610126e-02  2.43314817e-02]\n",
      " [ 4.23209635e-03 -1.29737489e-06 -8.04221780e-02 ...  6.59313793e-02\n",
      "  -1.06931564e-01 -1.41943098e-02]]\n",
      "[3.89678315e+08 4.04698504e+00 1.36941585e+00 8.87005211e-01\n",
      " 7.33495129e-01 6.76878150e-01 4.26241986e-01 3.57863495e-01\n",
      " 2.44270958e-01 2.05875935e-01 1.56445182e-01 9.09658640e-02\n",
      " 7.68608702e-02 6.80580352e-02 5.39313553e-02]\n"
     ]
    }
   ],
   "source": [
    "print(pca.components_)\n",
    "print(pca.explained_variance_)"
   ]
  },
  {
   "cell_type": "code",
   "execution_count": 45,
   "metadata": {},
   "outputs": [
    {
     "name": "stdout",
     "output_type": "stream",
     "text": [
      "(348320,)\n",
      "(348320,)\n"
     ]
    },
    {
     "data": {
      "image/png": "[encoded data removed]",
      "text/plain": [
       "<Figure size 432x288 with 1 Axes>"
      ]
     },
     "metadata": {
      "needs_background": "light"
     },
     "output_type": "display_data"
    }
   ],
   "source": [
    "# https://jakevdp.github.io/PythonDataScienceHandbook/05.09-principal-component-analysis.html\n",
    "print(X_pca_train[:, 0].shape)\n",
    "print(y_train_reg.shape)\n",
    "\n",
    "X_new = pca.inverse_transform(X_pca_train)\n",
    "plt.scatter(X_pca_train[:, 0], y_train_reg, alpha=0.2)\n",
    "plt.scatter(X_new[:, 0], y_train_reg, alpha=0.8)\n",
    "plt.axis('equal');"
   ]
  },
  {
   "cell_type": "code",
   "execution_count": 61,
   "metadata": {},
   "outputs": [
    {
     "name": "stderr",
     "output_type": "stream",
     "text": [
      "/Users/annelise/.pyenv/versions/3.6.4/envs/csci/lib/python3.6/site-packages/ipykernel_launcher.py:7: UserWarning: This figure includes Axes that are not compatible with tight_layout, so results might be incorrect.\n",
      "  import sys\n"
     ]
    },
    {
     "data": {
      "image/png": "[encoded data removed]",
      "text/plain": [
       "<Figure size 1152x233.514 with 2 Axes>"
      ]
     },
     "metadata": {
      "needs_background": "light"
     },
     "output_type": "display_data"
    }
   ],
   "source": [
    "# Interpret PCA\n",
    "feature_col_names = X_train_reg.columns.values\n",
    "plt.matshow(pca.components_,cmap='viridis')\n",
    "plt.yticks([0,1,2],['1st Comp','2nd Comp','3rd Comp'],fontsize=10)\n",
    "plt.colorbar()\n",
    "plt.xticks(range(len(feature_col_names)),feature_col_names,rotation=65,ha='left')\n",
    "plt.tight_layout()\n",
    "plt.show()# "
   ]
  },
  {
   "cell_type": "markdown",
   "metadata": {},
   "source": [
    "# Use PCA output to determine RNN features"
   ]
  },
  {
   "cell_type": "code",
   "execution_count": 77,
   "metadata": {},
   "outputs": [
    {
     "name": "stdout",
     "output_type": "stream",
     "text": [
      "(348320, 74)\n"
     ]
    }
   ],
   "source": [
    "# Using the above PCA output, use only the most valuable features:\n",
    "columns_to_keep = ['bd',\n",
    "                   'registration_init_time',\n",
    "                   'payment_plan_days',\n",
    "                   'plan_list_price',\n",
    "                   'actual_amount_paid',\n",
    "                   'num_25',\n",
    "                   'num_50',\n",
    "                   'num_75',\n",
    "                   'num_985',\n",
    "                   'num_100',\n",
    "                   'num_unq',\n",
    "                   'total_secs',\n",
    "                   'discount',\n",
    "                   'days_to_expire',\n",
    "                   'is_auto_renew_1.0']\n",
    "\n",
    "X_train_pca_rnn = X_train_reg\n",
    "y_train_pca_rnn = y_train_reg\n",
    "X_test_pca_rnn = X_test_reg\n",
    "y_test_pca_rnn = y_test_reg\n",
    "\n",
    "print(X_train_reg.shape)"
   ]
  },
  {
   "cell_type": "code",
   "execution_count": 78,
   "metadata": {},
   "outputs": [
    {
     "name": "stdout",
     "output_type": "stream",
     "text": [
      "(348320, 15)\n",
      "(64000, 15)\n",
      "made tuple\n",
      "made tuple\n",
      "(10885, 15, 32)\n",
      "(2000, 15, 32)\n"
     ]
    }
   ],
   "source": [
    "# Remove all columns from X_train and X_test except for PCA identified columns above:\n",
    "X_train_pca_rnn = X_train_pca_rnn[columns_to_keep]\n",
    "X_test_pca_rnn = X_test_pca_rnn[columns_to_keep]\n",
    "print(X_train_pca_rnn.shape)\n",
    "print(X_test_pca_rnn.shape)\n",
    "# Format the data for RNN\n",
    "def reshape_for_rnn(df, oversample_size=pd.DataFrame()):\n",
    "    if len(oversample_size)>1:\n",
    "        n_rows = len(oversample_size)\n",
    "    else:\n",
    "        n_rows = len(df)\n",
    "    n_features = df.shape[1]\n",
    "    n_dates = 32\n",
    "\n",
    "    features = df.keys()\n",
    "    features_tuple_train = []\n",
    "    for feature in features:\n",
    "        features_tuple_train.append([df[feature].values.reshape((n_rows,n_dates))])\n",
    "\n",
    "    features_tuple_train = tuple(features_tuple_train)\n",
    "\n",
    "    print(\"made tuple\")\n",
    "\n",
    "    df = np.hstack(\n",
    "        features_tuple_train\n",
    "    ).reshape(n_rows, n_features, n_dates).transpose(0, 1, 2)\n",
    "    \n",
    "    return df\n",
    "\n",
    "\n",
    "X_train_pca_rnn = reshape_for_rnn(X_train_pca_rnn, X_train_oversample)\n",
    "X_test_pca_rnn = reshape_for_rnn(X_test_pca_rnn, X_test_keep)\n",
    "\n",
    "print(X_train_pca_rnn.shape)\n",
    "print(X_test_pca_rnn.shape)"
   ]
  },
  {
   "cell_type": "code",
   "execution_count": 83,
   "metadata": {},
   "outputs": [
    {
     "name": "stdout",
     "output_type": "stream",
     "text": [
      "Train on 8708 samples, validate on 2177 samples\n",
      "Epoch 1/15\n",
      "8708/8708 [==============================] - 5s 549us/step - loss: 4.7563 - accuracy: 0.5264 - val_loss: 4.4240 - val_accuracy: 0.0124\n",
      "Epoch 2/15\n",
      "8708/8708 [==============================] - 4s 458us/step - loss: 3.9545 - accuracy: 0.7472 - val_loss: 3.9798 - val_accuracy: 9.1870e-04\n",
      "Epoch 3/15\n",
      "8708/8708 [==============================] - 4s 512us/step - loss: 3.4034 - accuracy: 0.8000 - val_loss: 3.5889 - val_accuracy: 0.0000e+00\n",
      "Epoch 4/15\n",
      "8708/8708 [==============================] - 5s 540us/step - loss: 2.9717 - accuracy: 0.8075 - val_loss: 3.2342 - val_accuracy: 0.0000e+00\n",
      "Epoch 5/15\n",
      "8708/8708 [==============================] - 4s 506us/step - loss: 2.6069 - accuracy: 0.8118 - val_loss: 2.9315 - val_accuracy: 0.0000e+00\n",
      "Epoch 6/15\n",
      "8708/8708 [==============================] - 3s 401us/step - loss: 2.2985 - accuracy: 0.8169 - val_loss: 2.6701 - val_accuracy: 0.0000e+00\n",
      "Epoch 7/15\n",
      "8708/8708 [==============================] - 4s 480us/step - loss: 2.0318 - accuracy: 0.8202 - val_loss: 2.4463 - val_accuracy: 0.0000e+00\n",
      "Epoch 8/15\n",
      "8708/8708 [==============================] - 5s 567us/step - loss: 1.8042 - accuracy: 0.8227 - val_loss: 2.2523 - val_accuracy: 0.0000e+00\n",
      "Epoch 9/15\n",
      "8708/8708 [==============================] - 6s 647us/step - loss: 1.6079 - accuracy: 0.8244 - val_loss: 2.0725 - val_accuracy: 0.0000e+00\n",
      "Epoch 10/15\n",
      "8708/8708 [==============================] - 17s 2ms/step - loss: 1.4365 - accuracy: 0.8261 - val_loss: 1.9514 - val_accuracy: 0.0000e+00\n",
      "Epoch 11/15\n",
      "8708/8708 [==============================] - 10s 1ms/step - loss: 1.2904 - accuracy: 0.8279 - val_loss: 1.8493 - val_accuracy: 0.0000e+00\n",
      "Epoch 12/15\n",
      "8708/8708 [==============================] - 6s 677us/step - loss: 1.1678 - accuracy: 0.8280 - val_loss: 1.7559 - val_accuracy: 0.0000e+00\n",
      "Epoch 13/15\n",
      "8708/8708 [==============================] - 5s 537us/step - loss: 1.0600 - accuracy: 0.8305 - val_loss: 1.6841 - val_accuracy: 0.0000e+00\n",
      "Epoch 14/15\n",
      "8708/8708 [==============================] - 8s 927us/step - loss: 0.9650 - accuracy: 0.8304 - val_loss: 1.6202 - val_accuracy: 0.0000e+00\n",
      "Epoch 15/15\n",
      "8708/8708 [==============================] - 7s 806us/step - loss: 0.8842 - accuracy: 0.8323 - val_loss: 1.5672 - val_accuracy: 0.0000e+00\n"
     ]
    }
   ],
   "source": [
    "# Model 2, adding SimpleRNN, GRU, or LSTM to the best model found here: https://www.kaggle.com/ripcurl/feedforward-neural-network-0-12174\n",
    "lsize = 128\n",
    "model = Sequential()\n",
    "model.add(Dropout(rate=0.1))\n",
    "# model.add(SimpleRNN(32, return_sequences=True, input_shape=(X_train.shape[1], X_train.shape[2])))\n",
    "model.add(LSTM(\n",
    "  units=128,\n",
    "  input_shape=(X_train_pca_rnn.shape[1], X_train_pca_rnn.shape[2])\n",
    "))\n",
    "model.add(Dense(lsize, input_dim=int(X_train_pca_rnn.shape[1]),activation='relu'))\n",
    "model.add(BatchNormalization())\n",
    "model.add(Dropout(rate=0.25))\n",
    "model.add(Dense(int(lsize/2), activation='relu'))\n",
    "model.add(BatchNormalization())\n",
    "model.add(Dropout(rate=0.25))\n",
    "model.add(Dense(int(lsize/4),kernel_regularizer=regularizers.l2(0.1), activation='relu'))\n",
    "model.add(Dropout(rate=0.1))\n",
    "model.add(Dense(1, activation='sigmoid'))\n",
    "\n",
    "# Compile model\n",
    "model.compile(loss='binary_crossentropy', optimizer='adadelta', metrics=['accuracy'])\n",
    "# model.summary()\n",
    "\n",
    "# Fit the model\n",
    "history = model.fit(X_train_pca_rnn, y_train, epochs=15, batch_size=1026,\n",
    "                    validation_split=0.2, verbose=1)"
   ]
  },
  {
   "cell_type": "code",
   "execution_count": 84,
   "metadata": {},
   "outputs": [
    {
     "name": "stderr",
     "output_type": "stream",
     "text": [
      "/Users/annelise/.pyenv/versions/3.6.4/envs/csci/lib/python3.6/site-packages/sklearn/metrics/_classification.py:1272: UndefinedMetricWarning: Precision is ill-defined and being set to 0.0 due to no predicted samples. Use `zero_division` parameter to control this behavior.\n",
      "  _warn_prf(average, modifier, msg_start, len(result))\n"
     ]
    },
    {
     "name": "stdout",
     "output_type": "stream",
     "text": [
      "{'f1': 0.0, 'acc': 0.9015, 'precision': 0.0, 'recall': 0.0, 'confusion_matrix': array([[1803,    0],\n",
      "       [ 197,    0]])}\n"
     ]
    },
    {
     "data": {
      "image/png": "[encoded data removed]",
      "text/plain": [
       "<Figure size 432x288 with 1 Axes>"
      ]
     },
     "metadata": {
      "needs_background": "light"
     },
     "output_type": "display_data"
    },
    {
     "data": {
      "image/png": "[encoded data removed]",
      "text/plain": [
       "<Figure size 360x360 with 2 Axes>"
      ]
     },
     "metadata": {
      "needs_background": "light"
     },
     "output_type": "display_data"
    }
   ],
   "source": [
    "# Plot and predict\n",
    "plt.plot(history.history['accuracy'])\n",
    "plt.plot(history.history['val_accuracy'])\n",
    "plt.xlabel('Epochs')\n",
    "plt.ylabel('Categorical accuracy')\n",
    "plt.legend(['Training','Test'])\n",
    "\n",
    "test_results = report_results(model, X_test_pca_rnn, y_test)\n",
    "print(test_results)\n",
    "\n",
    "LABELS = ['not churn', 'churn']\n",
    "y_pred = model.predict_classes(X_test_pca_rnn)\n",
    "conf_matrix = confusion_matrix(y_test, y_pred)\n",
    "\n",
    "plt.figure(figsize=(5, 5))\n",
    "sns.heatmap(conf_matrix, xticklabels=LABELS, yticklabels=LABELS, annot=True, fmt=\"d\");\n",
    "plt.title(\"Confusion matrix\")\n",
    "plt.ylabel('True class')\n",
    "plt.xlabel('Predicted class')\n",
    "plt.show()"
   ]
  },
  {
   "cell_type": "code",
   "execution_count": null,
   "metadata": {},
   "outputs": [],
   "source": []
  }
 ],
 "metadata": {
  "kernelspec": {
   "display_name": "Python 3",
   "language": "python",
   "name": "python3"
  },
  "language_info": {
   "codemirror_mode": {
    "name": "ipython",
    "version": 3
   },
   "file_extension": ".py",
   "mimetype": "text/x-python",
   "name": "python",
   "nbconvert_exporter": "python",
   "pygments_lexer": "ipython3",
   "version": "3.6.4"
  }
 },
 "nbformat": 4,
 "nbformat_minor": 2
}
