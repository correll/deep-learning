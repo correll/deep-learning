{
 "cells": [
  {
   "cell_type": "markdown",
   "metadata": {
    "colab_type": "text",
    "id": "5dHfLS9mVkON"
   },
   "source": [
    "**This is the Jupyter Notebook for Applied ML Homework 1 by Soumyajyoti Bhattacharya. This notebook deals with using the IMDB Reviews dataset for figuring out the best Neural Network Architecture for sentiment classification labeled reviews**"
   ]
  },
  {
   "cell_type": "code",
   "execution_count": 1,
   "metadata": {
    "colab": {
     "base_uri": "https://localhost:8080/",
     "height": 122
    },
    "colab_type": "code",
    "executionInfo": {
     "elapsed": 24173,
     "status": "ok",
     "timestamp": 1581291571000,
     "user": {
      "displayName": "Soumyajyoti Bhattacharya",
      "photoUrl": "https://lh3.googleusercontent.com/a-/AAuE7mBIcph4cvc8BzQyRAh2pnp5qU2WBfb9rqPaegDpTh8=s64",
      "userId": "04206216864828080398"
     },
     "user_tz": 420
    },
    "id": "6WTabsDgzAxv",
    "outputId": "ce2c6238-525c-44da-ceef-8f8248b991f0"
   },
   "outputs": [
    {
     "name": "stdout",
     "output_type": "stream",
     "text": [
      "Go to this URL in a browser: https://accounts.google.com/o/oauth2/auth?client_id=947318989803-6bn6qk8qdgf4n4g3pfee6491hc0brc4i.apps.googleusercontent.com&redirect_uri=urn%3aietf%3awg%3aoauth%3a2.0%3aoob&response_type=code&scope=email%20https%3a%2f%2fwww.googleapis.com%2fauth%2fdocs.test%20https%3a%2f%2fwww.googleapis.com%2fauth%2fdrive%20https%3a%2f%2fwww.googleapis.com%2fauth%2fdrive.photos.readonly%20https%3a%2f%2fwww.googleapis.com%2fauth%2fpeopleapi.readonly\n",
      "\n",
      "Enter your authorization code:\n",
      "··········\n",
      "Mounted at /content/drive\n"
     ]
    }
   ],
   "source": [
    "from google.colab import drive\n",
    "drive.mount ('/content/drive')"
   ]
  },
  {
   "cell_type": "code",
   "execution_count": 2,
   "metadata": {
    "colab": {
     "base_uri": "https://localhost:8080/",
     "height": 80
    },
    "colab_type": "code",
    "executionInfo": {
     "elapsed": 1857,
     "status": "ok",
     "timestamp": 1581291929602,
     "user": {
      "displayName": "Soumyajyoti Bhattacharya",
      "photoUrl": "https://lh3.googleusercontent.com/a-/AAuE7mBIcph4cvc8BzQyRAh2pnp5qU2WBfb9rqPaegDpTh8=s64",
      "userId": "04206216864828080398"
     },
     "user_tz": 420
    },
    "id": "2ex0GbGUUd2h",
    "outputId": "5bb0be9d-b712-4c63-b91b-87782554b511"
   },
   "outputs": [
    {
     "name": "stderr",
     "output_type": "stream",
     "text": [
      "Using TensorFlow backend.\n"
     ]
    },
    {
     "data": {
      "text/html": [
       "<p style=\"color: red;\">\n",
       "The default version of TensorFlow in Colab will soon switch to TensorFlow 2.x.<br>\n",
       "We recommend you <a href=\"https://www.tensorflow.org/guide/migrate\" target=\"_blank\">upgrade</a> now \n",
       "or ensure your notebook will continue to use TensorFlow 1.x via the <code>%tensorflow_version 1.x</code> magic:\n",
       "<a href=\"https://colab.research.google.com/notebooks/tensorflow_version.ipynb\" target=\"_blank\">more info</a>.</p>\n"
      ],
      "text/plain": [
       "<IPython.core.display.HTML object>"
      ]
     },
     "metadata": {
      "tags": []
     },
     "output_type": "display_data"
    }
   ],
   "source": [
    "from __future__ import print_function\n",
    "import numpy as np\n",
    "import pandas as pd\n",
    "from keras.utils import to_categorical\n",
    "from keras import models\n",
    "from keras import layers\n",
    "from keras.datasets import imdb\n",
    "from keras.layers import Conv1D, GlobalMaxPooling1D\n",
    "from keras.preprocessing import sequence\n",
    "from keras.models import Sequential\n",
    "from keras.layers import Dense, Dropout, Activation\n",
    "from keras.layers import Embedding"
   ]
  },
  {
   "cell_type": "markdown",
   "metadata": {
    "colab_type": "text",
    "id": "BpLe5xWtX2gZ"
   },
   "source": [
    "Loading and preprocessing and looking at the data : "
   ]
  },
  {
   "cell_type": "code",
   "execution_count": null,
   "metadata": {
    "colab": {},
    "colab_type": "code",
    "id": "nxjUhAq3VmPP"
   },
   "outputs": [],
   "source": [
    "(training_data, training_targets), (testing_data, testing_targets) = imdb.load_data(num_words=10000)\n",
    "X = np.concatenate((training_data, testing_data), axis=0)\n",
    "Y = np.concatenate((training_targets, testing_targets), axis=0)\n",
    "def vectorize(sequences, dimension = 10000):\n",
    " effect = np.zeros((len(sequences), dimension))\n",
    " for i, j in enumerate(sequences):\n",
    "  effect[i, j] = 1\n",
    " return effect"
   ]
  },
  {
   "cell_type": "code",
   "execution_count": 9,
   "metadata": {
    "colab": {
     "base_uri": "https://localhost:8080/",
     "height": 85
    },
    "colab_type": "code",
    "executionInfo": {
     "elapsed": 2257,
     "status": "ok",
     "timestamp": 1581292405744,
     "user": {
      "displayName": "Soumyajyoti Bhattacharya",
      "photoUrl": "https://lh3.googleusercontent.com/a-/AAuE7mBIcph4cvc8BzQyRAh2pnp5qU2WBfb9rqPaegDpTh8=s64",
      "userId": "04206216864828080398"
     },
     "user_tz": 420
    },
    "id": "-ODBy_zeWPwk",
    "outputId": "050d2d03-900a-4c94-8553-3ec16f14dd7d"
   },
   "outputs": [
    {
     "name": "stdout",
     "output_type": "stream",
     "text": [
      "Categories: [0 1]\n",
      "Number of unique words: 9998\n",
      "Average Review Size: 234.75892\n",
      "Standard Deviation: 173.0\n"
     ]
    }
   ],
   "source": [
    "print(\"Categories:\", np.unique(Y))\n",
    "print(\"Number of unique words:\", len(np.unique(np.hstack(X))))\n",
    "length = [len(i) for i in X]\n",
    "print(\"Average Review Size:\", np.mean(length))\n",
    "print(\"Standard Deviation:\", round(np.std(length)))"
   ]
  },
  {
   "cell_type": "code",
   "execution_count": 11,
   "metadata": {
    "colab": {
     "base_uri": "https://localhost:8080/",
     "height": 265
    },
    "colab_type": "code",
    "executionInfo": {
     "elapsed": 419,
     "status": "ok",
     "timestamp": 1581292459136,
     "user": {
      "displayName": "Soumyajyoti Bhattacharya",
      "photoUrl": "https://lh3.googleusercontent.com/a-/AAuE7mBIcph4cvc8BzQyRAh2pnp5qU2WBfb9rqPaegDpTh8=s64",
      "userId": "04206216864828080398"
     },
     "user_tz": 420
    },
    "id": "_D0QpnwwWvdc",
    "outputId": "76f652b2-750a-4016-ab07-d63081a5c02c"
   },
   "outputs": [
    {
     "data": {
      "image/png": "[encoded data removed]",
      "text/plain": [
       "<Figure size 432x288 with 1 Axes>"
      ]
     },
     "metadata": {
      "tags": []
     },
     "output_type": "display_data"
    }
   ],
   "source": [
    "import matplotlib.pyplot as plt\n",
    "plt.boxplot(length)\n",
    "plt.show()"
   ]
  },
  {
   "cell_type": "markdown",
   "metadata": {
    "colab_type": "text",
    "id": "SIctGBY1YDQZ"
   },
   "source": [
    "Then break the dataset into training and testing sets:"
   ]
  },
  {
   "cell_type": "code",
   "execution_count": 13,
   "metadata": {
    "colab": {
     "base_uri": "https://localhost:8080/",
     "height": 51
    },
    "colab_type": "code",
    "executionInfo": {
     "elapsed": 4615,
     "status": "ok",
     "timestamp": 1581292758967,
     "user": {
      "displayName": "Soumyajyoti Bhattacharya",
      "photoUrl": "https://lh3.googleusercontent.com/a-/AAuE7mBIcph4cvc8BzQyRAh2pnp5qU2WBfb9rqPaegDpTh8=s64",
      "userId": "04206216864828080398"
     },
     "user_tz": 420
    },
    "id": "ksNG_etuX8Ff",
    "outputId": "e0d7fbb9-c603-4db1-f9c6-9b09df4a43fb"
   },
   "outputs": [
    {
     "name": "stdout",
     "output_type": "stream",
     "text": [
      "(40000, 10000)\n",
      "(40000,)\n"
     ]
    }
   ],
   "source": [
    "dataset = vectorize(X)\n",
    "testset = np.array(Y).astype(\"float32\")\n",
    "x_test = dataset[:10000]\n",
    "y_test = testset[:10000]\n",
    "x_train = dataset[10000:]\n",
    "print(x_train.shape)\n",
    "y_train = testset[10000:]\n",
    "print(y_train.shape)"
   ]
  },
  {
   "cell_type": "code",
   "execution_count": null,
   "metadata": {
    "colab": {},
    "colab_type": "code",
    "id": "II-mQjG-Y72W"
   },
   "outputs": [],
   "source": [
    "from keras.callbacks import History \n",
    "history = History()"
   ]
  },
  {
   "cell_type": "code",
   "execution_count": 15,
   "metadata": {
    "colab": {
     "base_uri": "https://localhost:8080/",
     "height": 462
    },
    "colab_type": "code",
    "executionInfo": {
     "elapsed": 348,
     "status": "ok",
     "timestamp": 1581292982583,
     "user": {
      "displayName": "Soumyajyoti Bhattacharya",
      "photoUrl": "https://lh3.googleusercontent.com/a-/AAuE7mBIcph4cvc8BzQyRAh2pnp5qU2WBfb9rqPaegDpTh8=s64",
      "userId": "04206216864828080398"
     },
     "user_tz": 420
    },
    "id": "Mi2oPgKwZQNd",
    "outputId": "12b13fbc-f1f9-4b27-c9f9-267de2abc429"
   },
   "outputs": [
    {
     "name": "stdout",
     "output_type": "stream",
     "text": [
      "WARNING:tensorflow:From /usr/local/lib/python3.6/dist-packages/keras/backend/tensorflow_backend.py:66: The name tf.get_default_graph is deprecated. Please use tf.compat.v1.get_default_graph instead.\n",
      "\n",
      "WARNING:tensorflow:From /usr/local/lib/python3.6/dist-packages/keras/backend/tensorflow_backend.py:541: The name tf.placeholder is deprecated. Please use tf.compat.v1.placeholder instead.\n",
      "\n",
      "WARNING:tensorflow:From /usr/local/lib/python3.6/dist-packages/keras/backend/tensorflow_backend.py:4432: The name tf.random_uniform is deprecated. Please use tf.random.uniform instead.\n",
      "\n",
      "Model: \"sequential_1\"\n",
      "_________________________________________________________________\n",
      "Layer (type)                 Output Shape              Param #   \n",
      "=================================================================\n",
      "dense_1 (Dense)              (None, 50)                500050    \n",
      "_________________________________________________________________\n",
      "dense_2 (Dense)              (None, 1)                 51        \n",
      "=================================================================\n",
      "Total params: 500,101\n",
      "Trainable params: 500,101\n",
      "Non-trainable params: 0\n",
      "_________________________________________________________________\n",
      "WARNING:tensorflow:From /usr/local/lib/python3.6/dist-packages/keras/optimizers.py:793: The name tf.train.Optimizer is deprecated. Please use tf.compat.v1.train.Optimizer instead.\n",
      "\n",
      "WARNING:tensorflow:From /usr/local/lib/python3.6/dist-packages/keras/backend/tensorflow_backend.py:3657: The name tf.log is deprecated. Please use tf.math.log instead.\n",
      "\n",
      "WARNING:tensorflow:From /usr/local/lib/python3.6/dist-packages/tensorflow_core/python/ops/nn_impl.py:183: where (from tensorflow.python.ops.array_ops) is deprecated and will be removed in a future version.\n",
      "Instructions for updating:\n",
      "Use tf.where in 2.0, which has the same broadcast rule as np.where\n"
     ]
    }
   ],
   "source": [
    "model = models.Sequential()\n",
    "model.add(layers.Dense(50, activation = \"relu\", input_shape=(10000, )))\n",
    "model.add(layers.Dense(1, activation = \"sigmoid\"))\n",
    "model.summary()\n",
    "model.compile(loss = \"binary_crossentropy\", optimizer = \"sgd\",  metrics = [\"accuracy\"])"
   ]
  },
  {
   "cell_type": "markdown",
   "metadata": {
    "colab_type": "text",
    "id": "JR1sfKw5aKFP"
   },
   "source": [
    "Build a basic Neural Network for the dataset labels on 10 epochs and 500 batch size:"
   ]
  },
  {
   "cell_type": "code",
   "execution_count": 22,
   "metadata": {
    "colab": {
     "base_uri": "https://localhost:8080/",
     "height": 374
    },
    "colab_type": "code",
    "executionInfo": {
     "elapsed": 52547,
     "status": "ok",
     "timestamp": 1581293640133,
     "user": {
      "displayName": "Soumyajyoti Bhattacharya",
      "photoUrl": "https://lh3.googleusercontent.com/a-/AAuE7mBIcph4cvc8BzQyRAh2pnp5qU2WBfb9rqPaegDpTh8=s64",
      "userId": "04206216864828080398"
     },
     "user_tz": 420
    },
    "id": "2Cm_GlpDaA9Y",
    "outputId": "294e8aca-cd14-49e3-d373-f0a5dddd715a"
   },
   "outputs": [
    {
     "name": "stdout",
     "output_type": "stream",
     "text": [
      "Train on 40000 samples, validate on 10000 samples\n",
      "Epoch 1/10\n",
      "40000/40000 [==============================] - 6s 139us/step - loss: 0.6920 - acc: 0.5230 - val_loss: 0.6902 - val_acc: 0.5564\n",
      "Epoch 2/10\n",
      "40000/40000 [==============================] - 5s 128us/step - loss: 0.6891 - acc: 0.5546 - val_loss: 0.6859 - val_acc: 0.6115\n",
      "Epoch 3/10\n",
      "40000/40000 [==============================] - 5s 130us/step - loss: 0.6844 - acc: 0.5907 - val_loss: 0.6786 - val_acc: 0.6653\n",
      "Epoch 4/10\n",
      "40000/40000 [==============================] - 5s 128us/step - loss: 0.6768 - acc: 0.6249 - val_loss: 0.6669 - val_acc: 0.7051\n",
      "Epoch 5/10\n",
      "40000/40000 [==============================] - 5s 127us/step - loss: 0.6655 - acc: 0.6547 - val_loss: 0.6490 - val_acc: 0.7419\n",
      "Epoch 6/10\n",
      "40000/40000 [==============================] - 5s 126us/step - loss: 0.6488 - acc: 0.6812 - val_loss: 0.6239 - val_acc: 0.7659\n",
      "Epoch 7/10\n",
      "40000/40000 [==============================] - 5s 127us/step - loss: 0.6269 - acc: 0.7051 - val_loss: 0.5925 - val_acc: 0.7838\n",
      "Epoch 8/10\n",
      "40000/40000 [==============================] - 5s 128us/step - loss: 0.6002 - acc: 0.7239 - val_loss: 0.5559 - val_acc: 0.7974\n",
      "Epoch 9/10\n",
      "40000/40000 [==============================] - 5s 132us/step - loss: 0.5696 - acc: 0.7450 - val_loss: 0.5176 - val_acc: 0.8077\n",
      "Epoch 10/10\n",
      "40000/40000 [==============================] - 5s 131us/step - loss: 0.5363 - acc: 0.7637 - val_loss: 0.4799 - val_acc: 0.8163\n"
     ]
    }
   ],
   "source": [
    "results = model.fit(\n",
    " x_train, y_train,\n",
    " epochs= 10,\n",
    " batch_size = 500,\n",
    " validation_data = (x_test, y_test),\n",
    " callbacks=[history]\n",
    ")"
   ]
  },
  {
   "cell_type": "code",
   "execution_count": 23,
   "metadata": {
    "colab": {
     "base_uri": "https://localhost:8080/",
     "height": 68
    },
    "colab_type": "code",
    "executionInfo": {
     "elapsed": 1288,
     "status": "ok",
     "timestamp": 1581293645806,
     "user": {
      "displayName": "Soumyajyoti Bhattacharya",
      "photoUrl": "https://lh3.googleusercontent.com/a-/AAuE7mBIcph4cvc8BzQyRAh2pnp5qU2WBfb9rqPaegDpTh8=s64",
      "userId": "04206216864828080398"
     },
     "user_tz": 420
    },
    "id": "wGBiEYoRbZTo",
    "outputId": "31b36f6a-01fb-41c8-c10f-d31ef931f060"
   },
   "outputs": [
    {
     "name": "stdout",
     "output_type": "stream",
     "text": [
      "10000/10000 [==============================] - 1s 100us/step\n",
      "Test score: 0.4799152235984802\n",
      "Test accuracy: 0.8163\n"
     ]
    }
   ],
   "source": [
    "score = model.evaluate(x_test, y_test, verbose=1)\n",
    "print(\"Test score:\", score[0])\n",
    "print('Test accuracy:', score[1])"
   ]
  },
  {
   "cell_type": "code",
   "execution_count": 24,
   "metadata": {
    "colab": {
     "base_uri": "https://localhost:8080/",
     "height": 296
    },
    "colab_type": "code",
    "executionInfo": {
     "elapsed": 455,
     "status": "ok",
     "timestamp": 1581293648581,
     "user": {
      "displayName": "Soumyajyoti Bhattacharya",
      "photoUrl": "https://lh3.googleusercontent.com/a-/AAuE7mBIcph4cvc8BzQyRAh2pnp5qU2WBfb9rqPaegDpTh8=s64",
      "userId": "04206216864828080398"
     },
     "user_tz": 420
    },
    "id": "plZsI_nCaUxb",
    "outputId": "492a3cd2-25ad-4eda-f6bb-7d1615d58107"
   },
   "outputs": [
    {
     "data": {
      "text/plain": [
       "<matplotlib.legend.Legend at 0x7fc5accc9be0>"
      ]
     },
     "execution_count": 24,
     "metadata": {
      "tags": []
     },
     "output_type": "execute_result"
    },
    {
     "data": {
      "image/png": "[encoded data removed]",
      "text/plain": [
       "<Figure size 432x288 with 1 Axes>"
      ]
     },
     "metadata": {
      "tags": []
     },
     "output_type": "display_data"
    }
   ],
   "source": [
    "plt.plot(history.history['acc'])\n",
    "plt.plot(history.history['val_acc'])\n",
    "plt.xlabel('Epochs')\n",
    "plt.ylabel('Accuracy')\n",
    "plt.legend(['Training','Test'])"
   ]
  },
  {
   "cell_type": "markdown",
   "metadata": {
    "colab_type": "text",
    "id": "cKLOCT1cblQ9"
   },
   "source": [
    "Add more complex layers to the initial neural network then hyperparameter optimize batch size:"
   ]
  },
  {
   "cell_type": "code",
   "execution_count": null,
   "metadata": {
    "colab": {},
    "colab_type": "code",
    "id": "gU0zYFY1a_lk"
   },
   "outputs": [],
   "source": [
    "from keras.models import Sequential\n",
    "from keras.layers.core import Dense, Activation, Dropout\n",
    "model = Sequential()\n",
    "model.add(layers.Dense(50, activation = \"relu\", input_shape=(10000, )))\n",
    "# Hidden - Layers\n",
    "model.add(Dropout(0.3, noise_shape=None, seed=None))\n",
    "model.add(Dense(50, activation = \"relu\"))\n",
    "model.add(Dropout(0.2, noise_shape=None, seed=None))\n",
    "model.add(Dense(50, activation = \"relu\"))\n",
    "\n",
    "model.add(Dense(1, activation = \"sigmoid\"))\n",
    "\n",
    "model.compile(loss = \"binary_crossentropy\", optimizer = \"sgd\",  metrics = [\"accuracy\"])"
   ]
  },
  {
   "cell_type": "code",
   "execution_count": 26,
   "metadata": {
    "colab": {
     "base_uri": "https://localhost:8080/",
     "height": 1000
    },
    "colab_type": "code",
    "executionInfo": {
     "elapsed": 158059,
     "status": "ok",
     "timestamp": 1581294100170,
     "user": {
      "displayName": "Soumyajyoti Bhattacharya",
      "photoUrl": "https://lh3.googleusercontent.com/a-/AAuE7mBIcph4cvc8BzQyRAh2pnp5qU2WBfb9rqPaegDpTh8=s64",
      "userId": "04206216864828080398"
     },
     "user_tz": 420
    },
    "id": "yzi31o-EbkmF",
    "outputId": "5e49e1b9-e5bc-4057-9f30-5f1d2f3ff04c"
   },
   "outputs": [
    {
     "name": "stdout",
     "output_type": "stream",
     "text": [
      "Train on 40000 samples, validate on 10000 samples\n",
      "Epoch 1/10\n",
      "40000/40000 [==============================] - 5s 134us/step - loss: 0.1899 - acc: 0.9312 - val_loss: 0.2752 - val_acc: 0.8897\n",
      "Epoch 2/10\n",
      "40000/40000 [==============================] - 5s 130us/step - loss: 0.1908 - acc: 0.9309 - val_loss: 0.2754 - val_acc: 0.8911\n",
      "Epoch 3/10\n",
      "40000/40000 [==============================] - 5s 129us/step - loss: 0.1873 - acc: 0.9310 - val_loss: 0.2763 - val_acc: 0.8911\n",
      "Epoch 4/10\n",
      "40000/40000 [==============================] - 5s 133us/step - loss: 0.1855 - acc: 0.9322 - val_loss: 0.2768 - val_acc: 0.8915\n",
      "Epoch 5/10\n",
      "40000/40000 [==============================] - 5s 132us/step - loss: 0.1834 - acc: 0.9343 - val_loss: 0.2762 - val_acc: 0.8889\n",
      "Epoch 6/10\n",
      "40000/40000 [==============================] - 5s 130us/step - loss: 0.1798 - acc: 0.9355 - val_loss: 0.2788 - val_acc: 0.8914\n",
      "Epoch 7/10\n",
      "40000/40000 [==============================] - 5s 130us/step - loss: 0.1790 - acc: 0.9352 - val_loss: 0.2779 - val_acc: 0.8905\n",
      "Epoch 8/10\n",
      "40000/40000 [==============================] - 5s 130us/step - loss: 0.1745 - acc: 0.9369 - val_loss: 0.2806 - val_acc: 0.8874\n",
      "Epoch 9/10\n",
      "40000/40000 [==============================] - 5s 131us/step - loss: 0.1741 - acc: 0.9387 - val_loss: 0.2818 - val_acc: 0.8914\n",
      "Epoch 10/10\n",
      "40000/40000 [==============================] - 5s 135us/step - loss: 0.1700 - acc: 0.9392 - val_loss: 0.2820 - val_acc: 0.8889\n",
      "10000/10000 [==============================] - 1s 116us/step\n",
      "Test score: 0.2820116196751595\n",
      "Test accuracy: 0.8889\n",
      "Train on 40000 samples, validate on 10000 samples\n",
      "Epoch 1/10\n",
      "40000/40000 [==============================] - 6s 144us/step - loss: 0.1658 - acc: 0.9428 - val_loss: 0.2809 - val_acc: 0.8890\n",
      "Epoch 2/10\n",
      "40000/40000 [==============================] - 5s 129us/step - loss: 0.1664 - acc: 0.9406 - val_loss: 0.2808 - val_acc: 0.8910\n",
      "Epoch 3/10\n",
      "40000/40000 [==============================] - 5s 129us/step - loss: 0.1644 - acc: 0.9419 - val_loss: 0.2836 - val_acc: 0.8922\n",
      "Epoch 4/10\n",
      "40000/40000 [==============================] - 5s 128us/step - loss: 0.1660 - acc: 0.9414 - val_loss: 0.2826 - val_acc: 0.8908\n",
      "Epoch 5/10\n",
      "40000/40000 [==============================] - 5s 129us/step - loss: 0.1623 - acc: 0.9425 - val_loss: 0.2815 - val_acc: 0.8896\n",
      "Epoch 6/10\n",
      "40000/40000 [==============================] - 5s 129us/step - loss: 0.1613 - acc: 0.9439 - val_loss: 0.2842 - val_acc: 0.8924\n",
      "Epoch 7/10\n",
      "40000/40000 [==============================] - 5s 127us/step - loss: 0.1601 - acc: 0.9439 - val_loss: 0.2851 - val_acc: 0.8888\n",
      "Epoch 8/10\n",
      "40000/40000 [==============================] - 5s 128us/step - loss: 0.1606 - acc: 0.9437 - val_loss: 0.2836 - val_acc: 0.8894\n",
      "Epoch 9/10\n",
      "40000/40000 [==============================] - 5s 127us/step - loss: 0.1589 - acc: 0.9457 - val_loss: 0.2854 - val_acc: 0.8921\n",
      "Epoch 10/10\n",
      "40000/40000 [==============================] - 5s 127us/step - loss: 0.1602 - acc: 0.9438 - val_loss: 0.2837 - val_acc: 0.8917\n",
      "10000/10000 [==============================] - 1s 93us/step\n",
      "Test score: 0.2837328684926033\n",
      "Test accuracy: 0.8917\n",
      "Train on 40000 samples, validate on 10000 samples\n",
      "Epoch 1/10\n",
      "40000/40000 [==============================] - 7s 165us/step - loss: 0.1557 - acc: 0.9462 - val_loss: 0.2842 - val_acc: 0.8901\n",
      "Epoch 2/10\n",
      "40000/40000 [==============================] - 5s 121us/step - loss: 0.1558 - acc: 0.9464 - val_loss: 0.2846 - val_acc: 0.8897\n",
      "Epoch 3/10\n",
      "40000/40000 [==============================] - 5s 121us/step - loss: 0.1549 - acc: 0.9457 - val_loss: 0.2849 - val_acc: 0.8903\n",
      "Epoch 4/10\n",
      "40000/40000 [==============================] - 5s 122us/step - loss: 0.1559 - acc: 0.9461 - val_loss: 0.2851 - val_acc: 0.8905\n",
      "Epoch 5/10\n",
      "40000/40000 [==============================] - 5s 120us/step - loss: 0.1553 - acc: 0.9461 - val_loss: 0.2852 - val_acc: 0.8905\n",
      "Epoch 6/10\n",
      "40000/40000 [==============================] - 5s 121us/step - loss: 0.1551 - acc: 0.9457 - val_loss: 0.2851 - val_acc: 0.8897\n",
      "Epoch 7/10\n",
      "40000/40000 [==============================] - 5s 122us/step - loss: 0.1544 - acc: 0.9468 - val_loss: 0.2853 - val_acc: 0.8912\n",
      "Epoch 8/10\n",
      "40000/40000 [==============================] - 5s 121us/step - loss: 0.1554 - acc: 0.9445 - val_loss: 0.2851 - val_acc: 0.8896\n",
      "Epoch 9/10\n",
      "40000/40000 [==============================] - 5s 120us/step - loss: 0.1524 - acc: 0.9467 - val_loss: 0.2854 - val_acc: 0.8901\n",
      "Epoch 10/10\n",
      "40000/40000 [==============================] - 5s 120us/step - loss: 0.1532 - acc: 0.9465 - val_loss: 0.2855 - val_acc: 0.8901\n",
      "10000/10000 [==============================] - 1s 93us/step\n",
      "Test score: 0.28545642076730726\n",
      "Test accuracy: 0.8901\n"
     ]
    }
   ],
   "source": [
    "a = [500,1000,10000]\n",
    "for i in a:\n",
    "  results = model.fit(x_train, y_train, epochs= 10, batch_size = i, validation_data = (x_test, y_test), callbacks=[history])\n",
    "  score = model.evaluate(x_test, y_test, verbose=1)\n",
    "  print(\"Test score:\", score[0])\n",
    "  print('Test accuracy:', score[1])\n",
    "  # plt.plot(history.history['acc'])\n",
    "  # plt.plot(history.history['val_acc'])\n",
    "  # plt.xlabel('Epochs')\n",
    "  # plt.ylabel('Accuracy')\n",
    "  # plt.legend(['Training','Test'])"
   ]
  },
  {
   "cell_type": "markdown",
   "metadata": {
    "colab_type": "text",
    "id": "f3zLsldGebDe"
   },
   "source": [
    "Our best case scenario here is of batch size 500"
   ]
  },
  {
   "cell_type": "code",
   "execution_count": null,
   "metadata": {
    "colab": {},
    "colab_type": "code",
    "id": "Hehn9g-7dQjM"
   },
   "outputs": [],
   "source": [
    "def printstuff(a,b):\n",
    "  plt.plot(a)\n",
    "  plt.plot(b)\n",
    "  plt.xlabel('Epochs')\n",
    "  plt.ylabel('Accuracy')\n",
    "  plt.legend(['Training','Test'])"
   ]
  },
  {
   "cell_type": "code",
   "execution_count": 34,
   "metadata": {
    "colab": {
     "base_uri": "https://localhost:8080/",
     "height": 1000
    },
    "colab_type": "code",
    "executionInfo": {
     "elapsed": 173050,
     "status": "ok",
     "timestamp": 1581294951714,
     "user": {
      "displayName": "Soumyajyoti Bhattacharya",
      "photoUrl": "https://lh3.googleusercontent.com/a-/AAuE7mBIcph4cvc8BzQyRAh2pnp5qU2WBfb9rqPaegDpTh8=s64",
      "userId": "04206216864828080398"
     },
     "user_tz": 420
    },
    "id": "dIYhibJfevmE",
    "outputId": "891287fc-2302-465c-e068-6a0b124e13ca"
   },
   "outputs": [
    {
     "name": "stdout",
     "output_type": "stream",
     "text": [
      "Train on 40000 samples, validate on 10000 samples\n",
      "Epoch 1/2\n",
      "40000/40000 [==============================] - 5s 133us/step - loss: 0.1133 - acc: 0.9627 - val_loss: 0.3097 - val_acc: 0.8875\n",
      "Epoch 2/2\n",
      "40000/40000 [==============================] - 5s 131us/step - loss: 0.1140 - acc: 0.9634 - val_loss: 0.3093 - val_acc: 0.8896\n",
      "10000/10000 [==============================] - 1s 102us/step\n",
      "Test score: 0.3093030282020569\n",
      "Test accuracy: 0.8896\n",
      "Train on 40000 samples, validate on 10000 samples\n",
      "Epoch 1/10\n",
      "40000/40000 [==============================] - 5s 131us/step - loss: 0.1100 - acc: 0.9633 - val_loss: 0.3097 - val_acc: 0.8889\n",
      "Epoch 2/10\n",
      "40000/40000 [==============================] - 5s 133us/step - loss: 0.1110 - acc: 0.9642 - val_loss: 0.3101 - val_acc: 0.8876\n",
      "Epoch 3/10\n",
      "40000/40000 [==============================] - 5s 132us/step - loss: 0.1096 - acc: 0.9646 - val_loss: 0.3118 - val_acc: 0.8886\n",
      "Epoch 4/10\n",
      "40000/40000 [==============================] - 5s 131us/step - loss: 0.1084 - acc: 0.9653 - val_loss: 0.3109 - val_acc: 0.8889\n",
      "Epoch 5/10\n",
      "40000/40000 [==============================] - 5s 131us/step - loss: 0.1072 - acc: 0.9651 - val_loss: 0.3135 - val_acc: 0.8898\n",
      "Epoch 6/10\n",
      "40000/40000 [==============================] - 5s 129us/step - loss: 0.1074 - acc: 0.9648 - val_loss: 0.3132 - val_acc: 0.8888\n",
      "Epoch 7/10\n",
      "40000/40000 [==============================] - 5s 131us/step - loss: 0.1080 - acc: 0.9650 - val_loss: 0.3152 - val_acc: 0.8894\n",
      "Epoch 8/10\n",
      "40000/40000 [==============================] - 7s 169us/step - loss: 0.1062 - acc: 0.9657 - val_loss: 0.3128 - val_acc: 0.8872\n",
      "Epoch 9/10\n",
      "40000/40000 [==============================] - 5s 133us/step - loss: 0.1053 - acc: 0.9662 - val_loss: 0.3149 - val_acc: 0.8890\n",
      "Epoch 10/10\n",
      "40000/40000 [==============================] - 5s 133us/step - loss: 0.1031 - acc: 0.9670 - val_loss: 0.3164 - val_acc: 0.8867\n",
      "10000/10000 [==============================] - 1s 99us/step\n",
      "Test score: 0.31635454378128053\n",
      "Test accuracy: 0.8867\n",
      "Train on 40000 samples, validate on 10000 samples\n",
      "Epoch 1/20\n",
      "40000/40000 [==============================] - 5s 131us/step - loss: 0.1040 - acc: 0.9666 - val_loss: 0.3158 - val_acc: 0.8875\n",
      "Epoch 2/20\n",
      "40000/40000 [==============================] - 5s 130us/step - loss: 0.1022 - acc: 0.9668 - val_loss: 0.3182 - val_acc: 0.8868\n",
      "Epoch 3/20\n",
      "40000/40000 [==============================] - 5s 132us/step - loss: 0.1022 - acc: 0.9671 - val_loss: 0.3175 - val_acc: 0.8865\n",
      "Epoch 4/20\n",
      "40000/40000 [==============================] - 5s 136us/step - loss: 0.1000 - acc: 0.9690 - val_loss: 0.3173 - val_acc: 0.8894\n",
      "Epoch 5/20\n",
      "40000/40000 [==============================] - 5s 133us/step - loss: 0.0997 - acc: 0.9689 - val_loss: 0.3202 - val_acc: 0.8869\n",
      "Epoch 6/20\n",
      "40000/40000 [==============================] - 5s 130us/step - loss: 0.0998 - acc: 0.9678 - val_loss: 0.3195 - val_acc: 0.8872\n",
      "Epoch 7/20\n",
      "40000/40000 [==============================] - 5s 128us/step - loss: 0.0989 - acc: 0.9694 - val_loss: 0.3210 - val_acc: 0.8899\n",
      "Epoch 8/20\n",
      "40000/40000 [==============================] - 5s 130us/step - loss: 0.0976 - acc: 0.9695 - val_loss: 0.3211 - val_acc: 0.8862\n",
      "Epoch 9/20\n",
      "40000/40000 [==============================] - 5s 130us/step - loss: 0.0963 - acc: 0.9688 - val_loss: 0.3205 - val_acc: 0.8867\n",
      "Epoch 10/20\n",
      "40000/40000 [==============================] - 5s 131us/step - loss: 0.0959 - acc: 0.9695 - val_loss: 0.3217 - val_acc: 0.8883\n",
      "Epoch 11/20\n",
      "40000/40000 [==============================] - 5s 134us/step - loss: 0.0956 - acc: 0.9701 - val_loss: 0.3231 - val_acc: 0.8866\n",
      "Epoch 12/20\n",
      "40000/40000 [==============================] - 5s 132us/step - loss: 0.0955 - acc: 0.9708 - val_loss: 0.3225 - val_acc: 0.8870\n",
      "Epoch 13/20\n",
      "40000/40000 [==============================] - 5s 132us/step - loss: 0.0937 - acc: 0.9704 - val_loss: 0.3247 - val_acc: 0.8868\n",
      "Epoch 14/20\n",
      "40000/40000 [==============================] - 5s 130us/step - loss: 0.0923 - acc: 0.9714 - val_loss: 0.3251 - val_acc: 0.8870\n",
      "Epoch 15/20\n",
      "40000/40000 [==============================] - 5s 132us/step - loss: 0.0934 - acc: 0.9703 - val_loss: 0.3267 - val_acc: 0.8862\n",
      "Epoch 16/20\n",
      "40000/40000 [==============================] - 5s 132us/step - loss: 0.0930 - acc: 0.9711 - val_loss: 0.3271 - val_acc: 0.8874\n",
      "Epoch 17/20\n",
      "40000/40000 [==============================] - 5s 135us/step - loss: 0.0914 - acc: 0.9723 - val_loss: 0.3264 - val_acc: 0.8871\n",
      "Epoch 18/20\n",
      "40000/40000 [==============================] - 5s 129us/step - loss: 0.0914 - acc: 0.9713 - val_loss: 0.3262 - val_acc: 0.8877\n",
      "Epoch 19/20\n",
      "40000/40000 [==============================] - 5s 129us/step - loss: 0.0919 - acc: 0.9714 - val_loss: 0.3277 - val_acc: 0.8870\n",
      "Epoch 20/20\n",
      "40000/40000 [==============================] - 5s 130us/step - loss: 0.0897 - acc: 0.9731 - val_loss: 0.3296 - val_acc: 0.8870\n",
      "10000/10000 [==============================] - 1s 94us/step\n",
      "Test score: 0.32962536485791205\n",
      "Test accuracy: 0.887\n"
     ]
    }
   ],
   "source": [
    "for i in [2,10,20]:  \n",
    "  history = model.fit(x_train, y_train, epochs= i, batch_size = 500, validation_data = (x_test, y_test))\n",
    "  score = model.evaluate(x_test, y_test, verbose=1)\n",
    "  print(\"Test score:\", score[0])\n",
    "  print('Test accuracy:', score[1])"
   ]
  },
  {
   "cell_type": "code",
   "execution_count": 42,
   "metadata": {
    "colab": {
     "base_uri": "https://localhost:8080/",
     "height": 765
    },
    "colab_type": "code",
    "executionInfo": {
     "elapsed": 108103,
     "status": "ok",
     "timestamp": 1581295342568,
     "user": {
      "displayName": "Soumyajyoti Bhattacharya",
      "photoUrl": "https://lh3.googleusercontent.com/a-/AAuE7mBIcph4cvc8BzQyRAh2pnp5qU2WBfb9rqPaegDpTh8=s64",
      "userId": "04206216864828080398"
     },
     "user_tz": 420
    },
    "id": "JOQCbSTghocG",
    "outputId": "1be25bef-aa86-4829-906a-8bd3e481b8e3"
   },
   "outputs": [
    {
     "name": "stdout",
     "output_type": "stream",
     "text": [
      "Train on 40000 samples, validate on 10000 samples\n",
      "Epoch 1/20\n",
      "40000/40000 [==============================] - 5s 134us/step - loss: 0.6474 - acc: 0.6719 - val_loss: 0.6266 - val_acc: 0.7438\n",
      "Epoch 2/20\n",
      "40000/40000 [==============================] - 5s 137us/step - loss: 0.6227 - acc: 0.7098 - val_loss: 0.5929 - val_acc: 0.7707\n",
      "Epoch 3/20\n",
      "40000/40000 [==============================] - 5s 135us/step - loss: 0.5930 - acc: 0.7352 - val_loss: 0.5549 - val_acc: 0.7956\n",
      "Epoch 4/20\n",
      "40000/40000 [==============================] - 5s 135us/step - loss: 0.5594 - acc: 0.7602 - val_loss: 0.5155 - val_acc: 0.8094\n",
      "Epoch 5/20\n",
      "40000/40000 [==============================] - 5s 135us/step - loss: 0.5261 - acc: 0.7741 - val_loss: 0.4789 - val_acc: 0.8186\n",
      "Epoch 6/20\n",
      "40000/40000 [==============================] - 5s 133us/step - loss: 0.4963 - acc: 0.7862 - val_loss: 0.4456 - val_acc: 0.8277\n",
      "Epoch 7/20\n",
      "40000/40000 [==============================] - 5s 135us/step - loss: 0.4695 - acc: 0.8018 - val_loss: 0.4197 - val_acc: 0.8342\n",
      "Epoch 8/20\n",
      "40000/40000 [==============================] - 5s 133us/step - loss: 0.4467 - acc: 0.8109 - val_loss: 0.3968 - val_acc: 0.8411\n",
      "Epoch 9/20\n",
      "40000/40000 [==============================] - 5s 136us/step - loss: 0.4245 - acc: 0.8199 - val_loss: 0.3791 - val_acc: 0.8461\n",
      "Epoch 10/20\n",
      "40000/40000 [==============================] - 5s 134us/step - loss: 0.4070 - acc: 0.8292 - val_loss: 0.3653 - val_acc: 0.8509\n",
      "Epoch 11/20\n",
      "40000/40000 [==============================] - 5s 133us/step - loss: 0.3908 - acc: 0.8387 - val_loss: 0.3542 - val_acc: 0.8535\n",
      "Epoch 12/20\n",
      "40000/40000 [==============================] - 5s 131us/step - loss: 0.3810 - acc: 0.8425 - val_loss: 0.3456 - val_acc: 0.8567\n",
      "Epoch 13/20\n",
      "40000/40000 [==============================] - 5s 132us/step - loss: 0.3699 - acc: 0.8471 - val_loss: 0.3369 - val_acc: 0.8608\n",
      "Epoch 14/20\n",
      "40000/40000 [==============================] - 5s 131us/step - loss: 0.3583 - acc: 0.8515 - val_loss: 0.3296 - val_acc: 0.8626\n",
      "Epoch 15/20\n",
      "40000/40000 [==============================] - 5s 132us/step - loss: 0.3484 - acc: 0.8590 - val_loss: 0.3235 - val_acc: 0.8654\n",
      "Epoch 16/20\n",
      "40000/40000 [==============================] - 5s 133us/step - loss: 0.3408 - acc: 0.8612 - val_loss: 0.3181 - val_acc: 0.8677\n",
      "Epoch 17/20\n",
      "40000/40000 [==============================] - 5s 134us/step - loss: 0.3330 - acc: 0.8653 - val_loss: 0.3142 - val_acc: 0.8690\n",
      "Epoch 18/20\n",
      "40000/40000 [==============================] - 5s 134us/step - loss: 0.3264 - acc: 0.8671 - val_loss: 0.3087 - val_acc: 0.8711\n",
      "Epoch 19/20\n",
      "40000/40000 [==============================] - 5s 131us/step - loss: 0.3175 - acc: 0.8708 - val_loss: 0.3060 - val_acc: 0.8718\n",
      "Epoch 20/20\n",
      "40000/40000 [==============================] - 5s 134us/step - loss: 0.3116 - acc: 0.8760 - val_loss: 0.3013 - val_acc: 0.8744\n",
      "10000/10000 [==============================] - 1s 92us/step\n",
      "Test score: 0.30131521441936493\n",
      "Test accuracy: 0.8744\n"
     ]
    }
   ],
   "source": [
    "results = model.fit(x_train, y_train, epochs= 20, batch_size = 500, validation_data = (x_test, y_test), callbacks=[history])\n",
    "score = model.evaluate(x_test, y_test, verbose=1)\n",
    "print(\"Test score:\", score[0])\n",
    "print('Test accuracy:', score[1])"
   ]
  },
  {
   "cell_type": "markdown",
   "metadata": {
    "colab_type": "text",
    "id": "UKgVmrtQkZje"
   },
   "source": [
    "Then we hyperparameter optimize epochs and finally visualize it"
   ]
  },
  {
   "cell_type": "code",
   "execution_count": 43,
   "metadata": {
    "colab": {
     "base_uri": "https://localhost:8080/",
     "height": 296
    },
    "colab_type": "code",
    "executionInfo": {
     "elapsed": 465,
     "status": "ok",
     "timestamp": 1581295345701,
     "user": {
      "displayName": "Soumyajyoti Bhattacharya",
      "photoUrl": "https://lh3.googleusercontent.com/a-/AAuE7mBIcph4cvc8BzQyRAh2pnp5qU2WBfb9rqPaegDpTh8=s64",
      "userId": "04206216864828080398"
     },
     "user_tz": 420
    },
    "id": "wsc0j9MdfC9o",
    "outputId": "b624193e-c194-4d7d-9301-bddb014f1412"
   },
   "outputs": [
    {
     "data": {
      "text/plain": [
       "<matplotlib.legend.Legend at 0x7fc5c24e9e48>"
      ]
     },
     "execution_count": 43,
     "metadata": {
      "tags": []
     },
     "output_type": "execute_result"
    },
    {
     "data": {
      "image/png": "[encoded data removed]",
      "text/plain": [
       "<Figure size 432x288 with 1 Axes>"
      ]
     },
     "metadata": {
      "tags": []
     },
     "output_type": "display_data"
    }
   ],
   "source": [
    "  plt.plot(history.history['acc'])\n",
    "  plt.plot(history.history['val_acc'])\n",
    "  plt.xlabel('Epochs')\n",
    "  plt.ylabel('Accuracy')\n",
    "  plt.legend(['Training','Test'])"
   ]
  },
  {
   "cell_type": "code",
   "execution_count": null,
   "metadata": {
    "colab": {},
    "colab_type": "code",
    "id": "JefKkbcziJR1"
   },
   "outputs": [],
   "source": []
  }
 ],
 "metadata": {
  "colab": {
   "authorship_tag": "ABX9TyPbsTdxTeKjDvjj14/CB3YD",
   "collapsed_sections": [],
   "name": "Sholmes.ipynb",
   "provenance": []
  },
  "kernelspec": {
   "display_name": "Python 3",
   "language": "python",
   "name": "python3"
  },
  "language_info": {
   "codemirror_mode": {
    "name": "ipython",
    "version": 3
   },
   "file_extension": ".py",
   "mimetype": "text/x-python",
   "name": "python",
   "nbconvert_exporter": "python",
   "pygments_lexer": "ipython3",
   "version": "3.6.5"
  }
 },
 "nbformat": 4,
 "nbformat_minor": 2
}
