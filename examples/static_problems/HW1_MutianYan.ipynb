{
 "cells": [
  {
   "cell_type": "markdown",
   "metadata": {},
   "source": [
    "# Solving a Binary Classification Problem using Keras\n",
    "### Name: Mutian Yan\n",
    "\n",
    "### Steps:\n",
    "    1. Data Observation / Visualization\n",
    "    2. Data Preprocessing\n",
    "    3. Neural Network Architecture\n",
    "    4. Hyperparameters Tuning\n",
    "    5. Results"
   ]
  },
  {
   "cell_type": "markdown",
   "metadata": {},
   "source": [
    "Introduction:\n",
    "\n",
    "The dataset is from UCI Machine Learning Repository. https://archive.ics.uci.edu/ml/datasets/Bank+Marketing The project is a binary classification problem to predict whether the client will subscribe to a term deposit. It is also known as Churn Prediction. The dataset 'bank.csv' has 16 features and 11162 records. Some of the features have categorical values and the rest are numeric."
   ]
  },
  {
   "cell_type": "code",
   "execution_count": 244,
   "metadata": {},
   "outputs": [],
   "source": [
    "import numpy as np \n",
    "import pandas as pd \n",
    "import keras\n",
    "import seaborn as sns\n",
    "from matplotlib import pyplot as plt\n",
    "\n",
    "from sklearn.preprocessing import LabelEncoder\n",
    "from sklearn import preprocessing\n",
    "from sklearn import model_selection\n",
    "\n",
    "from keras.models import Sequential\n",
    "from keras.layers import Dense\n",
    "from keras import optimizers"
   ]
  },
  {
   "cell_type": "code",
   "execution_count": 245,
   "metadata": {},
   "outputs": [
    {
     "name": "stdout",
     "output_type": "stream",
     "text": [
      "(11162, 17)\n",
      "(45211, 17)\n",
      "   age         job  marital  education default  balance housing loan  contact  \\\n",
      "0   59      admin.  married  secondary      no     2343     yes   no  unknown   \n",
      "1   56      admin.  married  secondary      no       45      no   no  unknown   \n",
      "2   41  technician  married  secondary      no     1270     yes   no  unknown   \n",
      "3   55    services  married  secondary      no     2476     yes   no  unknown   \n",
      "4   54      admin.  married   tertiary      no      184      no   no  unknown   \n",
      "\n",
      "   day month  duration  campaign  pdays  previous poutcome deposit  \n",
      "0    5   may      1042         1     -1         0  unknown     yes  \n",
      "1    5   may      1467         1     -1         0  unknown     yes  \n",
      "2    5   may      1389         1     -1         0  unknown     yes  \n",
      "3    5   may       579         1     -1         0  unknown     yes  \n",
      "4    5   may       673         2     -1         0  unknown     yes  \n"
     ]
    },
    {
     "data": {
      "text/plain": [
       "age          0\n",
       "job          0\n",
       "marital      0\n",
       "education    0\n",
       "default      0\n",
       "balance      0\n",
       "housing      0\n",
       "loan         0\n",
       "contact      0\n",
       "day          0\n",
       "month        0\n",
       "duration     0\n",
       "campaign     0\n",
       "pdays        0\n",
       "previous     0\n",
       "poutcome     0\n",
       "deposit      0\n",
       "dtype: int64"
      ]
     },
     "execution_count": 245,
     "metadata": {},
     "output_type": "execute_result"
    }
   ],
   "source": [
    "# load in the data\n",
    "df = pd.read_csv('./bank.csv')\n",
    "# the alternative dataset have more x3 more records than the one I found on UCI ML website\n",
    "df_2 = pd.read_csv('./bank-marketing.csv')\n",
    "print(df.shape)\n",
    "print(df_2.shape)\n",
    "\n",
    "print(df.head())\n",
    "# checking if the features have any null values that need to be cleaned\n",
    "df.isnull().sum()\n"
   ]
  },
  {
   "cell_type": "markdown",
   "metadata": {},
   "source": [
    "1. Data Visualization"
   ]
  },
  {
   "cell_type": "code",
   "execution_count": 246,
   "metadata": {},
   "outputs": [
    {
     "data": {
      "text/plain": [
       "<matplotlib.axes._subplots.AxesSubplot at 0x1a50d83990>"
      ]
     },
     "execution_count": 246,
     "metadata": {},
     "output_type": "execute_result"
    },
    {
     "data": {
      "image/png": "[encoded data removed]",
      "text/plain": [
       "<Figure size 432x288 with 1 Axes>"
      ]
     },
     "metadata": {
      "needs_background": "light"
     },
     "output_type": "display_data"
    }
   ],
   "source": [
    "# sns.countplot(x='Class', data=df_2)\n",
    "# check whether the dataset is skewed. It appeared to be a balanced dataset.\n",
    "sns.countplot(x='deposit', data=df)"
   ]
  },
  {
   "cell_type": "code",
   "execution_count": 247,
   "metadata": {},
   "outputs": [
    {
     "data": {
      "text/plain": [
       "<matplotlib.axes._subplots.AxesSubplot at 0x1a50e05b50>"
      ]
     },
     "execution_count": 247,
     "metadata": {},
     "output_type": "execute_result"
    },
    {
     "data": {
      "image/png": "[encoded data removed]",
      "text/plain": [
       "<Figure size 432x288 with 1 Axes>"
      ]
     },
     "metadata": {
      "needs_background": "light"
     },
     "output_type": "display_data"
    }
   ],
   "source": [
    "sns.countplot(y = 'job', data=df)"
   ]
  },
  {
   "cell_type": "code",
   "execution_count": 248,
   "metadata": {},
   "outputs": [
    {
     "data": {
      "text/plain": [
       "<matplotlib.axes._subplots.AxesSubplot at 0x1a50efdc90>"
      ]
     },
     "execution_count": 248,
     "metadata": {},
     "output_type": "execute_result"
    },
    {
     "data": {
      "image/png": "[encoded data removed]",
      "text/plain": [
       "<Figure size 432x288 with 1 Axes>"
      ]
     },
     "metadata": {
      "needs_background": "light"
     },
     "output_type": "display_data"
    }
   ],
   "source": [
    "sns.countplot(x = 'marital', data=df)"
   ]
  },
  {
   "cell_type": "code",
   "execution_count": 249,
   "metadata": {},
   "outputs": [
    {
     "data": {
      "text/plain": [
       "<matplotlib.axes._subplots.AxesSubplot at 0x1a4e26a110>"
      ]
     },
     "execution_count": 249,
     "metadata": {},
     "output_type": "execute_result"
    },
    {
     "data": {
      "image/png": "[encoded data removed]",
      "text/plain": [
       "<Figure size 432x288 with 1 Axes>"
      ]
     },
     "metadata": {
      "needs_background": "light"
     },
     "output_type": "display_data"
    }
   ],
   "source": [
    "df.education.value_counts()\n",
    "sns.countplot(y = 'education', data=df)"
   ]
  },
  {
   "cell_type": "markdown",
   "metadata": {},
   "source": [
    "2. Data Preprocessing (using pandas)"
   ]
  },
  {
   "cell_type": "markdown",
   "metadata": {},
   "source": [
    "Sklearn provides a very efficient tool for encoding the levels of a categorical features into numeric values. LabelEncoder encode labels with value between 0 and n_classes-1"
   ]
  },
  {
   "cell_type": "code",
   "execution_count": 250,
   "metadata": {},
   "outputs": [
    {
     "data": {
      "text/plain": [
       "(11162, 17)"
      ]
     },
     "execution_count": 250,
     "metadata": {},
     "output_type": "execute_result"
    }
   ],
   "source": [
    "# encode categorical values\n",
    "le = preprocessing.LabelEncoder()\n",
    "df.job = le.fit_transform(df.job)\n",
    "df.marital = le.fit_transform(df.marital)\n",
    "df.education = le.fit_transform(df.education)\n",
    "df.default = le.fit_transform(df.default)\n",
    "df.housing = le.fit_transform(df.housing)\n",
    "df.loan = le.fit_transform(df.loan)\n",
    "df.contact = le.fit_transform(df.contact)\n",
    "df.month = le.fit_transform(df.month)\n",
    "df.poutcome = le.fit_transform(df.poutcome)\n",
    "df.housing = le.fit_transform(df.housing)\n",
    "df.loan = le.fit_transform(df.loan)\n",
    "df.poutcome = le.fit_transform(df.poutcome)\n",
    "df.deposit = le.fit_transform(df.deposit)\n",
    "df.head()\n",
    "df.shape\n"
   ]
  },
  {
   "cell_type": "code",
   "execution_count": 252,
   "metadata": {},
   "outputs": [
    {
     "name": "stdout",
     "output_type": "stream",
     "text": [
      "\n",
      " max values of features before normalization: \n",
      "\n",
      "age          95.0\n",
      "job          11.0\n",
      "marital       2.0\n",
      "education     3.0\n",
      "default       1.0\n",
      "balance       1.0\n",
      "housing       1.0\n",
      "loan          1.0\n",
      "contact       2.0\n",
      "day          31.0\n",
      "month        11.0\n",
      "duration      1.0\n",
      "campaign     63.0\n",
      "pdays         1.0\n",
      "previous     58.0\n",
      "poutcome      3.0\n",
      "deposit       1.0\n",
      "dtype: float64\n",
      "\n",
      " max values of features after normalization: \n",
      "\n",
      "age          95.0\n",
      "job          11.0\n",
      "marital       2.0\n",
      "education     3.0\n",
      "default       1.0\n",
      "balance       1.0\n",
      "housing       1.0\n",
      "loan          1.0\n",
      "contact       2.0\n",
      "day          31.0\n",
      "month        11.0\n",
      "duration      1.0\n",
      "campaign     63.0\n",
      "pdays         1.0\n",
      "previous     58.0\n",
      "poutcome      3.0\n",
      "deposit       1.0\n",
      "dtype: float64\n"
     ]
    },
    {
     "data": {
      "text/html": [
       "<div>\n",
       "<style scoped>\n",
       "    .dataframe tbody tr th:only-of-type {\n",
       "        vertical-align: middle;\n",
       "    }\n",
       "\n",
       "    .dataframe tbody tr th {\n",
       "        vertical-align: top;\n",
       "    }\n",
       "\n",
       "    .dataframe thead th {\n",
       "        text-align: right;\n",
       "    }\n",
       "</style>\n",
       "<table border=\"1\" class=\"dataframe\">\n",
       "  <thead>\n",
       "    <tr style=\"text-align: right;\">\n",
       "      <th></th>\n",
       "      <th>age</th>\n",
       "      <th>job</th>\n",
       "      <th>marital</th>\n",
       "      <th>education</th>\n",
       "      <th>default</th>\n",
       "      <th>balance</th>\n",
       "      <th>housing</th>\n",
       "      <th>loan</th>\n",
       "      <th>contact</th>\n",
       "      <th>day</th>\n",
       "      <th>month</th>\n",
       "      <th>duration</th>\n",
       "      <th>campaign</th>\n",
       "      <th>pdays</th>\n",
       "      <th>previous</th>\n",
       "      <th>poutcome</th>\n",
       "    </tr>\n",
       "  </thead>\n",
       "  <tbody>\n",
       "    <tr>\n",
       "      <th>0</th>\n",
       "      <td>59</td>\n",
       "      <td>0</td>\n",
       "      <td>1</td>\n",
       "      <td>1</td>\n",
       "      <td>0</td>\n",
       "      <td>0.104371</td>\n",
       "      <td>1</td>\n",
       "      <td>0</td>\n",
       "      <td>2</td>\n",
       "      <td>5</td>\n",
       "      <td>8</td>\n",
       "      <td>0.268110</td>\n",
       "      <td>1</td>\n",
       "      <td>0.0</td>\n",
       "      <td>0</td>\n",
       "      <td>3</td>\n",
       "    </tr>\n",
       "    <tr>\n",
       "      <th>1</th>\n",
       "      <td>56</td>\n",
       "      <td>0</td>\n",
       "      <td>1</td>\n",
       "      <td>1</td>\n",
       "      <td>0</td>\n",
       "      <td>0.078273</td>\n",
       "      <td>0</td>\n",
       "      <td>0</td>\n",
       "      <td>2</td>\n",
       "      <td>5</td>\n",
       "      <td>8</td>\n",
       "      <td>0.377675</td>\n",
       "      <td>1</td>\n",
       "      <td>0.0</td>\n",
       "      <td>0</td>\n",
       "      <td>3</td>\n",
       "    </tr>\n",
       "    <tr>\n",
       "      <th>2</th>\n",
       "      <td>41</td>\n",
       "      <td>9</td>\n",
       "      <td>1</td>\n",
       "      <td>1</td>\n",
       "      <td>0</td>\n",
       "      <td>0.092185</td>\n",
       "      <td>1</td>\n",
       "      <td>0</td>\n",
       "      <td>2</td>\n",
       "      <td>5</td>\n",
       "      <td>8</td>\n",
       "      <td>0.357566</td>\n",
       "      <td>1</td>\n",
       "      <td>0.0</td>\n",
       "      <td>0</td>\n",
       "      <td>3</td>\n",
       "    </tr>\n",
       "    <tr>\n",
       "      <th>3</th>\n",
       "      <td>55</td>\n",
       "      <td>7</td>\n",
       "      <td>1</td>\n",
       "      <td>1</td>\n",
       "      <td>0</td>\n",
       "      <td>0.105882</td>\n",
       "      <td>1</td>\n",
       "      <td>0</td>\n",
       "      <td>2</td>\n",
       "      <td>5</td>\n",
       "      <td>8</td>\n",
       "      <td>0.148750</td>\n",
       "      <td>1</td>\n",
       "      <td>0.0</td>\n",
       "      <td>0</td>\n",
       "      <td>3</td>\n",
       "    </tr>\n",
       "    <tr>\n",
       "      <th>4</th>\n",
       "      <td>54</td>\n",
       "      <td>0</td>\n",
       "      <td>1</td>\n",
       "      <td>2</td>\n",
       "      <td>0</td>\n",
       "      <td>0.079851</td>\n",
       "      <td>0</td>\n",
       "      <td>0</td>\n",
       "      <td>2</td>\n",
       "      <td>5</td>\n",
       "      <td>8</td>\n",
       "      <td>0.172983</td>\n",
       "      <td>2</td>\n",
       "      <td>0.0</td>\n",
       "      <td>0</td>\n",
       "      <td>3</td>\n",
       "    </tr>\n",
       "    <tr>\n",
       "      <th>5</th>\n",
       "      <td>42</td>\n",
       "      <td>4</td>\n",
       "      <td>2</td>\n",
       "      <td>2</td>\n",
       "      <td>0</td>\n",
       "      <td>0.077762</td>\n",
       "      <td>1</td>\n",
       "      <td>1</td>\n",
       "      <td>2</td>\n",
       "      <td>5</td>\n",
       "      <td>8</td>\n",
       "      <td>0.144367</td>\n",
       "      <td>2</td>\n",
       "      <td>0.0</td>\n",
       "      <td>0</td>\n",
       "      <td>3</td>\n",
       "    </tr>\n",
       "    <tr>\n",
       "      <th>6</th>\n",
       "      <td>56</td>\n",
       "      <td>4</td>\n",
       "      <td>1</td>\n",
       "      <td>2</td>\n",
       "      <td>0</td>\n",
       "      <td>0.087188</td>\n",
       "      <td>1</td>\n",
       "      <td>1</td>\n",
       "      <td>2</td>\n",
       "      <td>6</td>\n",
       "      <td>8</td>\n",
       "      <td>0.309100</td>\n",
       "      <td>1</td>\n",
       "      <td>0.0</td>\n",
       "      <td>0</td>\n",
       "      <td>3</td>\n",
       "    </tr>\n",
       "    <tr>\n",
       "      <th>7</th>\n",
       "      <td>60</td>\n",
       "      <td>5</td>\n",
       "      <td>0</td>\n",
       "      <td>1</td>\n",
       "      <td>0</td>\n",
       "      <td>0.083951</td>\n",
       "      <td>1</td>\n",
       "      <td>0</td>\n",
       "      <td>2</td>\n",
       "      <td>6</td>\n",
       "      <td>8</td>\n",
       "      <td>0.265017</td>\n",
       "      <td>1</td>\n",
       "      <td>0.0</td>\n",
       "      <td>0</td>\n",
       "      <td>3</td>\n",
       "    </tr>\n",
       "    <tr>\n",
       "      <th>8</th>\n",
       "      <td>37</td>\n",
       "      <td>9</td>\n",
       "      <td>1</td>\n",
       "      <td>1</td>\n",
       "      <td>0</td>\n",
       "      <td>0.077773</td>\n",
       "      <td>1</td>\n",
       "      <td>0</td>\n",
       "      <td>2</td>\n",
       "      <td>6</td>\n",
       "      <td>8</td>\n",
       "      <td>0.156226</td>\n",
       "      <td>1</td>\n",
       "      <td>0.0</td>\n",
       "      <td>0</td>\n",
       "      <td>3</td>\n",
       "    </tr>\n",
       "    <tr>\n",
       "      <th>9</th>\n",
       "      <td>28</td>\n",
       "      <td>7</td>\n",
       "      <td>2</td>\n",
       "      <td>1</td>\n",
       "      <td>0</td>\n",
       "      <td>0.135569</td>\n",
       "      <td>1</td>\n",
       "      <td>0</td>\n",
       "      <td>2</td>\n",
       "      <td>6</td>\n",
       "      <td>8</td>\n",
       "      <td>0.333849</td>\n",
       "      <td>3</td>\n",
       "      <td>0.0</td>\n",
       "      <td>0</td>\n",
       "      <td>3</td>\n",
       "    </tr>\n",
       "  </tbody>\n",
       "</table>\n",
       "</div>"
      ],
      "text/plain": [
       "   age  job  marital  education  default   balance  housing  loan  contact  \\\n",
       "0   59    0        1          1        0  0.104371        1     0        2   \n",
       "1   56    0        1          1        0  0.078273        0     0        2   \n",
       "2   41    9        1          1        0  0.092185        1     0        2   \n",
       "3   55    7        1          1        0  0.105882        1     0        2   \n",
       "4   54    0        1          2        0  0.079851        0     0        2   \n",
       "5   42    4        2          2        0  0.077762        1     1        2   \n",
       "6   56    4        1          2        0  0.087188        1     1        2   \n",
       "7   60    5        0          1        0  0.083951        1     0        2   \n",
       "8   37    9        1          1        0  0.077773        1     0        2   \n",
       "9   28    7        2          1        0  0.135569        1     0        2   \n",
       "\n",
       "   day  month  duration  campaign  pdays  previous  poutcome  \n",
       "0    5      8  0.268110         1    0.0         0         3  \n",
       "1    5      8  0.377675         1    0.0         0         3  \n",
       "2    5      8  0.357566         1    0.0         0         3  \n",
       "3    5      8  0.148750         1    0.0         0         3  \n",
       "4    5      8  0.172983         2    0.0         0         3  \n",
       "5    5      8  0.144367         2    0.0         0         3  \n",
       "6    6      8  0.309100         1    0.0         0         3  \n",
       "7    6      8  0.265017         1    0.0         0         3  \n",
       "8    6      8  0.156226         1    0.0         0         3  \n",
       "9    6      8  0.333849         3    0.0         0         3  "
      ]
     },
     "execution_count": 252,
     "metadata": {},
     "output_type": "execute_result"
    }
   ],
   "source": [
    "\n",
    "# normalize the data to balance out the weight difference\n",
    "# normalize balance and duration to range [1, 10]\n",
    "# also the age\n",
    "\n",
    "\n",
    "print('\\n max values of features before normalization: \\n')\n",
    "print(df.max())\n",
    "\n",
    "\n",
    "# Create x, where x the 'balance' column's values as floats\n",
    "x = df[['balance']].values.astype(float)\n",
    "# Create a minimum and maximum processor object\n",
    "min_max_scaler = preprocessing.MinMaxScaler()\n",
    "# Create an object to transform the data to fit minmax processor\n",
    "x_scaled = min_max_scaler.fit_transform(x)\n",
    "# Run the normalizer on the dataframe\n",
    "df_normalized = pd.DataFrame(x_scaled)\n",
    "df[['balance']] = df_normalized\n",
    "\n",
    "\n",
    "# repeat the steps for duration and padays \n",
    "x = df[['duration']].values.astype(float)\n",
    "min_max_scaler = preprocessing.MinMaxScaler()\n",
    "x_scaled = min_max_scaler.fit_transform(x)\n",
    "df_normalized = pd.DataFrame(x_scaled)\n",
    "df[['duration']] = df_normalized\n",
    "\n",
    "x = df[['pdays']].values.astype(float)\n",
    "min_max_scaler = preprocessing.MinMaxScaler()\n",
    "x_scaled = min_max_scaler.fit_transform(x)\n",
    "df_normalized = pd.DataFrame(x_scaled)\n",
    "df[['pdays']] = df_normalized\n",
    "\n",
    "print('\\n max values of features after normalization: \\n')\n",
    "print(df.max())\n",
    "\n",
    "\n",
    "# separate features and class\n",
    "X = df.iloc[:,0:16]\n",
    "X[0:10]"
   ]
  },
  {
   "cell_type": "markdown",
   "metadata": {},
   "source": [
    "Why to normalize?\n",
    "\n",
    "Let me take a simple logistic regression example which will be easy to understand and to explain normalization. Assume we are trying to predict if a customer will subscribe a term deposit. Among many available independent variables lets just consider Age and Balance. Let the equation be of the form:\n",
    "\n",
    "Y = weight_1 * (Age) + weight_2 * (Income) + some_constant\n",
    "For this dataset, Age is in range of [0,95] and Income is in range of [0, 81204]. The scale of Age and Balance are very different. If you consider them as is then weights weight_1 and weight_2 may be assigned biased weights. weight_2 might bring more importance to Balance as a feature than to what weight_1 brings importance to Age. To scale them to a common level, we can normalize them. For example, we can bring all the ages in range of [0,1] and all balances in range of [0,1]. Now we can say that Age and Balance are given equal importance as a feature."
   ]
  },
  {
   "cell_type": "markdown",
   "metadata": {},
   "source": [
    "Observation after normalization: The sgd optimizer does not perform as good as adam on this dataset. After normalizing the features, the accuracy improves by roughly 10%. The Accuracy and Loss function plots look more smooth than before."
   ]
  },
  {
   "cell_type": "code",
   "execution_count": 253,
   "metadata": {},
   "outputs": [
    {
     "data": {
      "text/plain": [
       "0    1\n",
       "1    1\n",
       "2    1\n",
       "3    1\n",
       "4    1\n",
       "5    1\n",
       "6    1\n",
       "7    1\n",
       "8    1\n",
       "9    1\n",
       "Name: deposit, dtype: int64"
      ]
     },
     "execution_count": 253,
     "metadata": {},
     "output_type": "execute_result"
    }
   ],
   "source": [
    "# get class labels\n",
    "y = df.iloc[:,16]\n",
    "y[0:10]"
   ]
  },
  {
   "cell_type": "code",
   "execution_count": 254,
   "metadata": {},
   "outputs": [
    {
     "data": {
      "text/plain": [
       "((8929, 16), (8929,))"
      ]
     },
     "execution_count": 254,
     "metadata": {},
     "output_type": "execute_result"
    }
   ],
   "source": [
    "# use scikit learn's train_test_split to split the dataset\n",
    "# 80/20 split\n",
    "x_train, x_test, y_train, y_test = model_selection.train_test_split(X, y, test_size=0.2, random_state=0)\n",
    "x_train.shape, y_train.shape"
   ]
  },
  {
   "cell_type": "code",
   "execution_count": 255,
   "metadata": {},
   "outputs": [
    {
     "data": {
      "text/plain": [
       "((2233, 16), (2233,))"
      ]
     },
     "execution_count": 255,
     "metadata": {},
     "output_type": "execute_result"
    }
   ],
   "source": [
    "x_test.shape, y_test.shape"
   ]
  },
  {
   "cell_type": "markdown",
   "metadata": {},
   "source": [
    "3. Neural Network Architecture"
   ]
  },
  {
   "cell_type": "code",
   "execution_count": 266,
   "metadata": {},
   "outputs": [],
   "source": [
    "model = Sequential()\n",
    "model.add(Dense(20, input_dim=16, activation='relu')) # relu, tanh\n",
    "model.add(Dense(1, activation='sigmoid'))"
   ]
  },
  {
   "cell_type": "code",
   "execution_count": 267,
   "metadata": {},
   "outputs": [],
   "source": [
    "# specify learning rate, decay, momentum\n",
    "# sgd = optimizers.SGD(lr=0.01, decay=1e-6, momentum=0.9, nesterov=True)\n",
    "# adam = optimizers.Adam(learning_rate=0.01, beta_1=0.9, beta_2=0.999, amsgrad=False)\n",
    "# RMSprop = optimizers.RMSprop(learning_rate=0.001, rho=0.9)\n",
    "model.compile(loss='binary_crossentropy', optimizer='adam', metrics=['accuracy'])"
   ]
  },
  {
   "cell_type": "code",
   "execution_count": 268,
   "metadata": {},
   "outputs": [],
   "source": [
    "x_train_keras = np.array(x_train)\n",
    "y_train_keras = np.array(y_train)\n",
    "#print(x_train_keras.shape)\n",
    "y_train_keras = y_train_keras.reshape(y_train_keras.shape[0], 1)"
   ]
  },
  {
   "cell_type": "code",
   "execution_count": 269,
   "metadata": {},
   "outputs": [
    {
     "name": "stdout",
     "output_type": "stream",
     "text": [
      "Train on 8036 samples, validate on 893 samples\n",
      "Epoch 1/15\n",
      "8036/8036 [==============================] - 8s 1ms/step - loss: 0.8036 - accuracy: 0.5688 - val_loss: 0.6153 - val_accuracy: 0.6517\n",
      "Epoch 2/15\n",
      "8036/8036 [==============================] - 3s 386us/step - loss: 0.6237 - accuracy: 0.6603 - val_loss: 0.5861 - val_accuracy: 0.6753\n",
      "Epoch 3/15\n",
      "8036/8036 [==============================] - 3s 385us/step - loss: 0.5921 - accuracy: 0.6908 - val_loss: 0.5639 - val_accuracy: 0.7032\n",
      "Epoch 4/15\n",
      "8036/8036 [==============================] - 3s 399us/step - loss: 0.5743 - accuracy: 0.7064 - val_loss: 0.5591 - val_accuracy: 0.7077\n",
      "Epoch 5/15\n",
      "8036/8036 [==============================] - 3s 404us/step - loss: 0.5589 - accuracy: 0.7185 - val_loss: 0.5362 - val_accuracy: 0.7324\n",
      "Epoch 6/15\n",
      "8036/8036 [==============================] - 3s 397us/step - loss: 0.5412 - accuracy: 0.7362 - val_loss: 0.5296 - val_accuracy: 0.7436\n",
      "Epoch 7/15\n",
      "8036/8036 [==============================] - 3s 372us/step - loss: 0.5273 - accuracy: 0.7476 - val_loss: 0.5272 - val_accuracy: 0.7492\n",
      "Epoch 8/15\n",
      "8036/8036 [==============================] - 3s 401us/step - loss: 0.5149 - accuracy: 0.7550 - val_loss: 0.5073 - val_accuracy: 0.7615\n",
      "Epoch 9/15\n",
      "8036/8036 [==============================] - 3s 393us/step - loss: 0.5095 - accuracy: 0.7642 - val_loss: 0.5126 - val_accuracy: 0.7559\n",
      "Epoch 10/15\n",
      "8036/8036 [==============================] - 3s 401us/step - loss: 0.4985 - accuracy: 0.7688 - val_loss: 0.5013 - val_accuracy: 0.7682\n",
      "Epoch 11/15\n",
      "8036/8036 [==============================] - 4s 516us/step - loss: 0.4913 - accuracy: 0.7753 - val_loss: 0.4938 - val_accuracy: 0.7727\n",
      "Epoch 12/15\n",
      "8036/8036 [==============================] - 4s 466us/step - loss: 0.4865 - accuracy: 0.7787 - val_loss: 0.4914 - val_accuracy: 0.7648\n",
      "Epoch 13/15\n",
      "8036/8036 [==============================] - 3s 427us/step - loss: 0.4834 - accuracy: 0.7773 - val_loss: 0.4946 - val_accuracy: 0.7648\n",
      "Epoch 14/15\n",
      "8036/8036 [==============================] - 3s 389us/step - loss: 0.4771 - accuracy: 0.7833 - val_loss: 0.4956 - val_accuracy: 0.7760\n",
      "Epoch 15/15\n",
      "8036/8036 [==============================] - 3s 377us/step - loss: 0.4731 - accuracy: 0.7867 - val_loss: 0.4926 - val_accuracy: 0.7682\n"
     ]
    }
   ],
   "source": [
    "history = model.fit(np.array(x_train_keras), np.array(y_train_keras), validation_split=0.1, epochs=15, batch_size=15, shuffle=True)"
   ]
  },
  {
   "cell_type": "code",
   "execution_count": 270,
   "metadata": {},
   "outputs": [
    {
     "data": {
      "image/png": "[encoded data removed]",
      "text/plain": [
       "<Figure size 432x288 with 1 Axes>"
      ]
     },
     "metadata": {
      "needs_background": "light"
     },
     "output_type": "display_data"
    }
   ],
   "source": [
    "plt.plot(history.history['accuracy'])\n",
    "plt.plot(history.history['val_accuracy'])\n",
    "plt.title('model accuracy')\n",
    "plt.ylabel('accuracy')\n",
    "plt.xlabel('epoch')\n",
    "plt.legend(['train', 'val'], loc='upper left')\n",
    "plt.show()"
   ]
  },
  {
   "cell_type": "code",
   "execution_count": 271,
   "metadata": {},
   "outputs": [
    {
     "data": {
      "image/png": "[encoded data removed]",
      "text/plain": [
       "<Figure size 432x288 with 1 Axes>"
      ]
     },
     "metadata": {
      "needs_background": "light"
     },
     "output_type": "display_data"
    }
   ],
   "source": [
    "plt.plot(history.history['loss'])\n",
    "plt.plot(history.history['val_loss'])\n",
    "plt.title('model loss')\n",
    "plt.ylabel('loss')\n",
    "plt.xlabel('epoch')\n",
    "plt.legend(['train', 'val'], loc='upper left')\n",
    "plt.show()"
   ]
  },
  {
   "cell_type": "code",
   "execution_count": 272,
   "metadata": {},
   "outputs": [
    {
     "name": "stdout",
     "output_type": "stream",
     "text": [
      "\n",
      "accuracy: 79.98%\n"
     ]
    }
   ],
   "source": [
    "print(\"\\n%s: %.2f%%\" % (model.metrics_names[1], scores[1]*100))"
   ]
  },
  {
   "cell_type": "markdown",
   "metadata": {},
   "source": [
    "4. Hyperparameters Tuning Procedures and Results"
   ]
  },
  {
   "cell_type": "markdown",
   "metadata": {},
   "source": [
    "First, I tested whether the model has an overfitting or underfitting problem. Based on the not so large difference between accuracy on the training set and dev set, I conclude that there is not an apparent problem with underfitting (high bias) or overfitting (high variance). But as the complexity of the model increases, such as adding more hidden units on each layer, the overfitting problem appears.\n",
    "\n",
    "\n",
    "Hyperparameters: \n",
    "\n",
    "**Learning Rate**\n",
    "When choosing SGD as an optimizer, changing the learning rate from 0.01 to 0.1, the accuracy dropped dramatically, roughly about 10%. On the other hand, I tried to change the learning rate to 0.001. By looking at the accuracy and loss value plot, the model performed better consistently on dev set compared with on the training set. SGD with learning rate 0.01 has the best performance.\n",
    "\n",
    "**Optimization Algorithm**\n",
    "I tried several optimizer algorithms such as Adam, SGD and RMSprop. Adam, the default parameters have the best performance overall. \n",
    "\n",
    "\n",
    "**Activation Function**\n",
    "I have tried different combinations of activation functions on every layer but last layer, and last layer. The result showed that the choice of activation function on the last layer is vital compared to the changes in every layer before the last layer. The sigmoid function stands out for this binary classification dataset. Tanh and ReLu perform similarly on this dataset.\n",
    "\n",
    "**Batch Size**\n",
    "For this model, the smaller the size of mini-batch is, the slightly more accurate the result is. If increasing size by a lot, the accuracy drop is significant. Due to the size of the dataset (~10k), maybe the mini-batch algorithm does not improve the accuracy by a noticeable amount.\n",
    "\n",
    "**Number of units on layers but last layer**\n",
    "It seems to be the more units it has on each layer, the performance might improve by a small amount at first. But after seeing the accuracy plot, the performance is not consistently good due to other random factors added when the network is too complicated."
   ]
  },
  {
   "cell_type": "markdown",
   "metadata": {},
   "source": [
    "5. Results"
   ]
  },
  {
   "cell_type": "markdown",
   "metadata": {},
   "source": [
    "Data visualization, check the distribution of data. Data Processing contains steps: changing the categorical features into numeric and normalizing the feature values. Then I started to train the model. The split is 80/20 on training and test. Then during training, 10% of data treated as a development set (validation set). Then I tuned the hyperparameters respectively, with the support of accuracy and loss plot, I could have a clear view of whether the performance is overfitting or underfitting. Limited by the size of the dataset, it could achieve the best accuracy around 80% of the tuned hyperparameters. I later found out that there was a 4 times larger dataset on the website, it could possibly improve the performance of the deep learning approach. It is linked below. They tackle the same churn prediction problem have very similar features. The only downside is it is more skewed than the one I used in this project."
   ]
  },
  {
   "cell_type": "markdown",
   "metadata": {},
   "source": [
    "https://datahub.io/machine-learning/bank-marketingData "
   ]
  }
 ],
 "metadata": {
  "kernelspec": {
   "display_name": "Python 3",
   "language": "python",
   "name": "python3"
  },
  "language_info": {
   "codemirror_mode": {
    "name": "ipython",
    "version": 3
   },
   "file_extension": ".py",
   "mimetype": "text/x-python",
   "name": "python",
   "nbconvert_exporter": "python",
   "pygments_lexer": "ipython3",
   "version": "3.7.6"
  }
 },
 "nbformat": 4,
 "nbformat_minor": 4
}
