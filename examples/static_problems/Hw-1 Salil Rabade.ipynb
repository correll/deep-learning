{
 "cells": [
  {
   "cell_type": "markdown",
   "metadata": {},
   "source": [
    "# CSCI 7000- Applied Deep Learning\n",
    "## Hw-1 Salil Rabade\n",
    "\n",
    "## Introduction\n",
    "The dataset used here is available online at Kaggle (the fashion dataset).The work here is similar to the digit recognition dataset. It involves categorizing images in ten different categories. The original data is flattened. We convert it into the original 28X28 images.\n",
    "The dataset can be found [here](https://www.kaggle.com/zalando-research/fashionmnist).The homework is organized as follows: Initially the data is evaluated using a dense neural network. This is followed by a Convolutional neural network and a deeper CNN. Finally batch sizes are varied to see effect of the hyperparameter"
   ]
  },
  {
   "cell_type": "markdown",
   "metadata": {},
   "source": [
    "## Load all Libraries"
   ]
  },
  {
   "cell_type": "code",
   "execution_count": 17,
   "metadata": {},
   "outputs": [],
   "source": [
    "# Import all libraries\n",
    "from keras.models import Sequential,load_model\n",
    "from keras.layers.convolutional import Conv2D,MaxPooling2D\n",
    "from keras.layers.core import Activation, Flatten ,Dense\n",
    "from keras.datasets import mnist\n",
    "from keras.utils import np_utils\n",
    "from keras.optimizers import SGD, RMSprop, Adam\n",
    "from keras.wrappers.scikit_learn import KerasClassifier\n",
    "from scipy import signal\n",
    "from sklearn import preprocessing\n",
    "import numpy as np\n",
    "import matplotlib.pyplot as plt\n",
    "import pandas as pd\n",
    "import tensorflow as tf\n",
    "from keras import backend as K\n",
    "import timeit"
   ]
  },
  {
   "cell_type": "markdown",
   "metadata": {},
   "source": [
    "## Load Data"
   ]
  },
  {
   "cell_type": "code",
   "execution_count": 2,
   "metadata": {},
   "outputs": [
    {
     "name": "stdout",
     "output_type": "stream",
     "text": [
      "[[2 0 0 ... 0 0 0]\n",
      " [9 0 0 ... 0 0 0]\n",
      " [6 0 0 ... 0 0 0]\n",
      " ...\n",
      " [8 0 0 ... 0 0 0]\n",
      " [8 0 0 ... 0 0 0]\n",
      " [7 0 0 ... 0 0 0]]\n",
      "(60000, 785)\n"
     ]
    }
   ],
   "source": [
    "# Data Import and shape\n",
    "# The raw data is 'flattened'.\n",
    "train= pd.read_csv('fashion-mnist_train.csv').values # .values will convert csv to raw values for python\n",
    "test=pd.read_csv('fashion-mnist_test.csv').values\n",
    "print(train)\n",
    "print(train.shape)"
   ]
  },
  {
   "cell_type": "markdown",
   "metadata": {},
   "source": [
    "## Reshape Data"
   ]
  },
  {
   "cell_type": "code",
   "execution_count": 11,
   "metadata": {},
   "outputs": [
    {
     "name": "stdout",
     "output_type": "stream",
     "text": [
      "The shape of training data for CNN is (60000, 1, 28, 28)\n",
      "The shape of test data for CNN is (10000, 1, 28, 28)\n",
      "The shape of test data for DNN is (10000, 784)\n",
      "The shape of test data for DNN is (60000, 784)\n"
     ]
    }
   ],
   "source": [
    "# Reshape data\n",
    "# The data is reshaped into the 28X28 size image it originally represents.\n",
    "trainX = train[:,1:]# semicolon after 1 shows data from 1 to last\n",
    "trainX=trainX.reshape(train.shape[0],1,28,28).astype('float32')\n",
    "print('The shape of training data for CNN is',trainX.shape)\n",
    "testX = test[:,1:]# semicolon after 1 shows data from 1 to last\n",
    "testX=testX.reshape(test.shape[0],1,28,28).astype('float32')\n",
    "print('The shape of test data for CNN is',testX.shape)\n",
    "\n",
    "testX_DN=test[:,1:]/255.0\n",
    "trainX_DN=train[:,1:]/255.0\n",
    "print('The shape of test data for DNN is',testX_DN.shape)\n",
    "print('The shape of test data for DNN is',trainX_DN.shape)\n",
    "\n",
    "#Normalize data\n",
    "X_train = trainX / 255.0\n",
    "X_test = testX/255.0\n",
    "y_train = train[:,0]\n",
    "y_test=test[:,0]\n",
    "#print(trainX[5,0,:,:]) # Visualize the data in raw form for one image\n",
    "\n",
    "## Convert output to \n",
    "lb = preprocessing.LabelBinarizer()\n",
    "y_train = lb.fit_transform(y_train)\n",
    "y_test = lb.fit_transform(y_test)"
   ]
  },
  {
   "cell_type": "markdown",
   "metadata": {},
   "source": [
    "## Visualize Data"
   ]
  },
  {
   "cell_type": "code",
   "execution_count": 4,
   "metadata": {},
   "outputs": [
    {
     "data": {
      "image/png": "[encoded data removed]",
      "text/plain": [
       "<Figure size 432x288 with 9 Axes>"
      ]
     },
     "metadata": {
      "needs_background": "light"
     },
     "output_type": "display_data"
    }
   ],
   "source": [
    "## Visualize Raw Data\n",
    "for I in range (9) :\n",
    "    plt.subplot (3,3,I+1)\n",
    "    plt.imshow(X_train[I+1,0,:,:])\n",
    "plt.show()\n",
    "    "
   ]
  },
  {
   "cell_type": "markdown",
   "metadata": {},
   "source": [
    "## Simple Dense Neural Network\n",
    "The structure of the DNN is as follows:\n",
    "Input-->FCN(128)-->FCN(64)-->softmax(10).The number of neurons are chosen to match the size of the batchsize.This model can predict with an accuracy of 91.43%. This particular architecture is chosen to match the FCN architecture of the CNN's to be explored later in this Homework."
   ]
  },
  {
   "cell_type": "code",
   "execution_count": 28,
   "metadata": {},
   "outputs": [
    {
     "name": "stdout",
     "output_type": "stream",
     "text": [
      "Train on 48000 samples, validate on 12000 samples\n",
      "Epoch 1/20\n",
      "48000/48000 [==============================] - 5s 103us/step - loss: 0.5851 - acc: 0.7979 - val_loss: 0.4781 - val_acc: 0.8342\n",
      "Epoch 2/20\n",
      "48000/48000 [==============================] - 3s 59us/step - loss: 0.4268 - acc: 0.8500 - val_loss: 0.4413 - val_acc: 0.8460\n",
      "Epoch 3/20\n",
      "48000/48000 [==============================] - 3s 59us/step - loss: 0.3907 - acc: 0.8618 - val_loss: 0.4009 - val_acc: 0.8585\n",
      "Epoch 4/20\n",
      "48000/48000 [==============================] - 2s 47us/step - loss: 0.3613 - acc: 0.8700 - val_loss: 0.3935 - val_acc: 0.8614\n",
      "Epoch 5/20\n",
      "48000/48000 [==============================] - 2s 52us/step - loss: 0.3449 - acc: 0.8761 - val_loss: 0.3725 - val_acc: 0.8688\n",
      "Epoch 6/20\n",
      "48000/48000 [==============================] - 3s 66us/step - loss: 0.3278 - acc: 0.8824 - val_loss: 0.3802 - val_acc: 0.8667\n",
      "Epoch 7/20\n",
      "48000/48000 [==============================] - 3s 58us/step - loss: 0.3168 - acc: 0.8849 - val_loss: 0.3800 - val_acc: 0.8670\n",
      "Epoch 8/20\n",
      "48000/48000 [==============================] - 3s 58us/step - loss: 0.3046 - acc: 0.8888 - val_loss: 0.3757 - val_acc: 0.8687\n",
      "Epoch 9/20\n",
      "48000/48000 [==============================] - 3s 56us/step - loss: 0.2948 - acc: 0.8916 - val_loss: 0.3574 - val_acc: 0.8748\n",
      "Epoch 10/20\n",
      "48000/48000 [==============================] - 2s 48us/step - loss: 0.2867 - acc: 0.8954 - val_loss: 0.3451 - val_acc: 0.8779\n",
      "Epoch 11/20\n",
      "48000/48000 [==============================] - 3s 59us/step - loss: 0.2787 - acc: 0.8973 - val_loss: 0.3521 - val_acc: 0.8770\n",
      "Epoch 12/20\n",
      "48000/48000 [==============================] - 3s 57us/step - loss: 0.2716 - acc: 0.8994 - val_loss: 0.3615 - val_acc: 0.8734\n",
      "Epoch 13/20\n",
      "48000/48000 [==============================] - 3s 56us/step - loss: 0.2683 - acc: 0.9013 - val_loss: 0.3581 - val_acc: 0.8788\n",
      "Epoch 14/20\n",
      "48000/48000 [==============================] - 2s 46us/step - loss: 0.2624 - acc: 0.9028 - val_loss: 0.3423 - val_acc: 0.8818\n",
      "Epoch 15/20\n",
      "48000/48000 [==============================] - 2s 47us/step - loss: 0.2553 - acc: 0.9042 - val_loss: 0.3406 - val_acc: 0.8832\n",
      "Epoch 16/20\n",
      "48000/48000 [==============================] - 2s 46us/step - loss: 0.2525 - acc: 0.9065 - val_loss: 0.3389 - val_acc: 0.8845\n",
      "Epoch 17/20\n",
      "48000/48000 [==============================] - 2s 45us/step - loss: 0.2439 - acc: 0.9096 - val_loss: 0.3540 - val_acc: 0.8778\n",
      "Epoch 18/20\n",
      "48000/48000 [==============================] - 3s 54us/step - loss: 0.2402 - acc: 0.9111 - val_loss: 0.3575 - val_acc: 0.8762\n",
      "Epoch 19/20\n",
      "48000/48000 [==============================] - 2s 49us/step - loss: 0.2330 - acc: 0.9137 - val_loss: 0.3696 - val_acc: 0.8802\n",
      "Epoch 20/20\n",
      "48000/48000 [==============================] - 3s 54us/step - loss: 0.2300 - acc: 0.9143 - val_loss: 0.3573 - val_acc: 0.8796\n",
      "10000/10000 [==============================] - 0s 44us/step\n",
      "_________________________________________________________________\n",
      "Layer (type)                 Output Shape              Param #   \n",
      "=================================================================\n",
      "dense_34 (Dense)             (None, 128)               100480    \n",
      "_________________________________________________________________\n",
      "dense_35 (Dense)             (None, 64)                8256      \n",
      "_________________________________________________________________\n",
      "dense_36 (Dense)             (None, 10)                650       \n",
      "=================================================================\n",
      "Total params: 109,386\n",
      "Trainable params: 109,386\n",
      "Non-trainable params: 0\n",
      "_________________________________________________________________\n"
     ]
    }
   ],
   "source": [
    "model_DN = Sequential()\n",
    "    #K.set_image_dim_ordering('th')\n",
    "model_DN.add(Dense(128, input_shape=(784,)))\n",
    "model_DN.add(Dense(64, activation= 'relu' ))\n",
    "model_DN.add(Dense(10, activation= 'softmax' ))\n",
    "# Compile model\n",
    "model_DN.compile(loss= 'categorical_crossentropy' , optimizer= 'adam' , metrics=[ 'accuracy' ])\n",
    "\n",
    "\n",
    "##### Prediction and Evaluation #####\n",
    "hist_DN=model_DN.fit(trainX_DN, y_train,\n",
    "          epochs=20,\n",
    "          batch_size=128 ,verbose=1, validation_split=0.2)\n",
    "score_DN = model_DN.evaluate(testX_DN, y_test, batch_size=128)\n",
    "model_DN.summary()"
   ]
  },
  {
   "cell_type": "code",
   "execution_count": 29,
   "metadata": {},
   "outputs": [
    {
     "data": {
      "image/png": "[encoded data removed]",
      "text/plain": [
       "<Figure size 432x288 with 1 Axes>"
      ]
     },
     "metadata": {
      "needs_background": "light"
     },
     "output_type": "display_data"
    }
   ],
   "source": [
    "## PLot DNN Results\n",
    "plt.plot(hist_DN.history['loss'])\n",
    "plt.plot(hist_DN.history['val_loss'])\n",
    "plt.title('score')\n",
    "plt.ylabel('Loss')\n",
    "plt.xlabel('Epoch')\n",
    "plt.legend(['Train','Validation'])\n",
    "plt.show()"
   ]
  },
  {
   "cell_type": "markdown",
   "metadata": {},
   "source": [
    "## Simple CNN\n",
    "A simple Convolutional network is now constructed to evaluate the data. The structure is as follows :\n",
    "\n",
    "Input-->Convolutional layers (30, 5X5)-->MaxPool(2X2)-->Convolutional layers (15, 3X3)-->MaxPool(2X2)-->FCN(64)-->softmax(10).A CNN can provide more accuracy while learning a significant lesser number of parameter. "
   ]
  },
  {
   "cell_type": "code",
   "execution_count": 25,
   "metadata": {},
   "outputs": [
    {
     "name": "stderr",
     "output_type": "stream",
     "text": [
      "C:\\Users\\Salil\\Anaconda3\\lib\\site-packages\\ipykernel_launcher.py:6: UserWarning: Update your `Conv2D` call to the Keras 2 API: `Conv2D(30, (5, 5), input_shape=(1, 28, 28..., activation=\"relu\", padding=\"valid\")`\n",
      "  \n",
      "C:\\Users\\Salil\\Anaconda3\\lib\\site-packages\\ipykernel_launcher.py:8: UserWarning: Update your `Conv2D` call to the Keras 2 API: `Conv2D(15, (3, 3), activation=\"relu\")`\n",
      "  \n"
     ]
    },
    {
     "name": "stdout",
     "output_type": "stream",
     "text": [
      "Train on 48000 samples, validate on 12000 samples\n",
      "Epoch 1/20\n",
      "48000/48000 [==============================] - 29s 613us/step - loss: 0.6943 - acc: 0.7561 - val_loss: 0.4912 - val_acc: 0.8284\n",
      "Epoch 2/20\n",
      "48000/48000 [==============================] - 30s 624us/step - loss: 0.4485 - acc: 0.8385 - val_loss: 0.4184 - val_acc: 0.8515\n",
      "Epoch 3/20\n",
      "48000/48000 [==============================] - 31s 639us/step - loss: 0.3924 - acc: 0.8599 - val_loss: 0.3773 - val_acc: 0.8664\n",
      "Epoch 4/20\n",
      "48000/48000 [==============================] - 31s 646us/step - loss: 0.3622 - acc: 0.8718 - val_loss: 0.3632 - val_acc: 0.8718\n",
      "Epoch 5/20\n",
      "48000/48000 [==============================] - 31s 653us/step - loss: 0.3397 - acc: 0.8793 - val_loss: 0.3499 - val_acc: 0.8783\n",
      "Epoch 6/20\n",
      "48000/48000 [==============================] - 34s 701us/step - loss: 0.3181 - acc: 0.8863 - val_loss: 0.3335 - val_acc: 0.8843\n",
      "Epoch 7/20\n",
      "48000/48000 [==============================] - 34s 712us/step - loss: 0.3081 - acc: 0.8890 - val_loss: 0.3170 - val_acc: 0.8881\n",
      "Epoch 8/20\n",
      "48000/48000 [==============================] - 32s 666us/step - loss: 0.2940 - acc: 0.8952 - val_loss: 0.3025 - val_acc: 0.8959\n",
      "Epoch 9/20\n",
      "48000/48000 [==============================] - 32s 670us/step - loss: 0.2820 - acc: 0.8977 - val_loss: 0.3217 - val_acc: 0.8896\n",
      "Epoch 10/20\n",
      "48000/48000 [==============================] - 32s 665us/step - loss: 0.2707 - acc: 0.9024 - val_loss: 0.2967 - val_acc: 0.8982\n",
      "Epoch 11/20\n",
      "48000/48000 [==============================] - 36s 745us/step - loss: 0.2636 - acc: 0.9049 - val_loss: 0.2901 - val_acc: 0.8998\n",
      "Epoch 12/20\n",
      "48000/48000 [==============================] - 40s 842us/step - loss: 0.2545 - acc: 0.9072 - val_loss: 0.3004 - val_acc: 0.8969\n",
      "Epoch 13/20\n",
      "48000/48000 [==============================] - 41s 862us/step - loss: 0.2462 - acc: 0.9111 - val_loss: 0.2903 - val_acc: 0.8962\n",
      "Epoch 14/20\n",
      "48000/48000 [==============================] - 39s 809us/step - loss: 0.2388 - acc: 0.9145 - val_loss: 0.2785 - val_acc: 0.9042: 0.2386 - acc: 0.9\n",
      "Epoch 15/20\n",
      "48000/48000 [==============================] - 37s 771us/step - loss: 0.2323 - acc: 0.9156 - val_loss: 0.2785 - val_acc: 0.9031\n",
      "Epoch 16/20\n",
      "48000/48000 [==============================] - 36s 740us/step - loss: 0.2264 - acc: 0.9173 - val_loss: 0.2795 - val_acc: 0.9038\n",
      "Epoch 17/20\n",
      "48000/48000 [==============================] - 34s 708us/step - loss: 0.2186 - acc: 0.9209 - val_loss: 0.2721 - val_acc: 0.9080\n",
      "Epoch 18/20\n",
      "48000/48000 [==============================] - 34s 704us/step - loss: 0.2143 - acc: 0.9220 - val_loss: 0.2737 - val_acc: 0.9072\n",
      "Epoch 19/20\n",
      "48000/48000 [==============================] - 34s 698us/step - loss: 0.2076 - acc: 0.9238 - val_loss: 0.2779 - val_acc: 0.9070\n",
      "Epoch 20/20\n",
      "48000/48000 [==============================] - 36s 755us/step - loss: 0.2040 - acc: 0.9255 - val_loss: 0.2762 - val_acc: 0.9038\n",
      "10000/10000 [==============================] - 3s 287us/step\n",
      "_________________________________________________________________\n",
      "Layer (type)                 Output Shape              Param #   \n",
      "=================================================================\n",
      "conv2d_7 (Conv2D)            (None, 30, 24, 24)        780       \n",
      "_________________________________________________________________\n",
      "max_pooling2d_7 (MaxPooling2 (None, 30, 12, 12)        0         \n",
      "_________________________________________________________________\n",
      "conv2d_8 (Conv2D)            (None, 15, 10, 10)        4065      \n",
      "_________________________________________________________________\n",
      "max_pooling2d_8 (MaxPooling2 (None, 15, 5, 5)          0         \n",
      "_________________________________________________________________\n",
      "flatten_4 (Flatten)          (None, 375)               0         \n",
      "_________________________________________________________________\n",
      "dense_29 (Dense)             (None, 64)                24064     \n",
      "_________________________________________________________________\n",
      "dense_30 (Dense)             (None, 10)                650       \n",
      "=================================================================\n",
      "Total params: 29,559\n",
      "Trainable params: 29,559\n",
      "Non-trainable params: 0\n",
      "_________________________________________________________________\n",
      "The time to run is 686.1771974000003 seconds\n"
     ]
    }
   ],
   "source": [
    "# Create CNN\n",
    "# initialize the optimizer and model\n",
    "start_time_CN1=timeit.default_timer()\n",
    "model_CN1 = Sequential()\n",
    "K.set_image_dim_ordering('th')\n",
    "model_CN1.add(Conv2D(30, 5, 5, border_mode= 'valid' , input_shape=(1, 28, 28),activation= 'relu' ))\n",
    "model_CN1.add(MaxPooling2D(pool_size=(2, 2)))\n",
    "model_CN1.add(Conv2D(15, 3, 3, activation= 'relu' ))\n",
    "model_CN1.add(MaxPooling2D(pool_size=(2, 2)))\n",
    "#model.add(Dropout(0.2))\n",
    "model_CN1.add(Flatten())\n",
    "#model.add(Dense(128, activation= 'relu' ))\n",
    "model_CN1.add(Dense(64, activation= 'relu' ))\n",
    "model_CN1.add(Dense(10, activation= 'softmax' ))\n",
    "# Compile model\n",
    "model_CN1.compile(loss= 'categorical_crossentropy' , optimizer= 'adam' , metrics=[ 'accuracy' ])\n",
    "    \n",
    "\n",
    "##### Prediction and Evaluation #####\n",
    "hist_CN1=model_CN1.fit(X_train, y_train,\n",
    "          epochs=20,\n",
    "          batch_size= 128,verbose=1, validation_split=0.2)\n",
    "score_CN1 = model_CN1.evaluate(X_test, y_test, batch_size=128) \n",
    "finish_time_CN1=timeit.default_timer()-start_time_CN1\n",
    "model_CN1.summary()\n",
    "print('The time to run is',finish_time_CN1,'seconds')"
   ]
  },
  {
   "cell_type": "markdown",
   "metadata": {},
   "source": [
    "## CNN with additional dense layer\n",
    "\n",
    "An additional deep layer increases accuracy from 92.55% to 93.84%. However the time to compute also increases from 687 secs to 824 secs."
   ]
  },
  {
   "cell_type": "code",
   "execution_count": 26,
   "metadata": {},
   "outputs": [
    {
     "name": "stderr",
     "output_type": "stream",
     "text": [
      "C:\\Users\\Salil\\Anaconda3\\lib\\site-packages\\ipykernel_launcher.py:6: UserWarning: Update your `Conv2D` call to the Keras 2 API: `Conv2D(30, (5, 5), input_shape=(1, 28, 28..., activation=\"relu\", padding=\"valid\")`\n",
      "  \n",
      "C:\\Users\\Salil\\Anaconda3\\lib\\site-packages\\ipykernel_launcher.py:8: UserWarning: Update your `Conv2D` call to the Keras 2 API: `Conv2D(15, (3, 3), activation=\"relu\")`\n",
      "  \n"
     ]
    }
   ],
   "source": [
    "\n",
    "# Create CNN\n",
    "# initialize the optimizer and model\n",
    "start_time_CN2=timeit.default_timer()\n",
    "model_CN2 = Sequential()\n",
    "K.set_image_dim_ordering('th')\n",
    "model_CN2.add(Conv2D(30, 5, 5, border_mode= 'valid' , input_shape=(1, 28, 28),activation= 'relu' ))\n",
    "model_CN2.add(MaxPooling2D(pool_size=(2, 2)))\n",
    "model_CN2.add(Conv2D(15, 3, 3, activation= 'relu' ))\n",
    "model_CN2.add(MaxPooling2D(pool_size=(2, 2)))\n",
    "model_CN2.add(Flatten())\n",
    "model_CN2.add(Dense(128, activation= 'relu' ))\n",
    "model_CN2.add(Dense(64, activation= 'relu' ))\n",
    "model_CN2.add(Dense(10, activation= 'softmax' ))\n",
    "  # Compile model\n",
    "model_CN2.compile(loss= 'categorical_crossentropy' , optimizer= 'adam' , metrics=[ 'accuracy' ])"
   ]
  },
  {
   "cell_type": "code",
   "execution_count": 27,
   "metadata": {},
   "outputs": [
    {
     "name": "stdout",
     "output_type": "stream",
     "text": [
      "Train on 48000 samples, validate on 12000 samples\n",
      "Epoch 1/20\n",
      "48000/48000 [==============================] - 46s 967us/step - loss: 0.6516 - acc: 0.7637 - val_loss: 0.4739 - val_acc: 0.8277\n",
      "Epoch 2/20\n",
      "48000/48000 [==============================] - 47s 983us/step - loss: 0.4092 - acc: 0.8525 - val_loss: 0.3909 - val_acc: 0.8593\n",
      "Epoch 3/20\n",
      "48000/48000 [==============================] - 41s 860us/step - loss: 0.3594 - acc: 0.8700 - val_loss: 0.3554 - val_acc: 0.8726\n",
      "Epoch 4/20\n",
      "48000/48000 [==============================] - 38s 796us/step - loss: 0.3249 - acc: 0.8821 - val_loss: 0.3205 - val_acc: 0.8872\n",
      "Epoch 5/20\n",
      "48000/48000 [==============================] - 37s 761us/step - loss: 0.3028 - acc: 0.8915 - val_loss: 0.3214 - val_acc: 0.8853\n",
      "Epoch 6/20\n",
      "48000/48000 [==============================] - 36s 758us/step - loss: 0.2894 - acc: 0.8950 - val_loss: 0.3023 - val_acc: 0.8898\n",
      "Epoch 7/20\n",
      "48000/48000 [==============================] - 36s 747us/step - loss: 0.2723 - acc: 0.9008 - val_loss: 0.2847 - val_acc: 0.9015\n",
      "Epoch 8/20\n",
      "48000/48000 [==============================] - 42s 882us/step - loss: 0.2591 - acc: 0.9061 - val_loss: 0.2844 - val_acc: 0.9017\n",
      "Epoch 9/20\n",
      "48000/48000 [==============================] - 49s 1ms/step - loss: 0.2505 - acc: 0.9080 - val_loss: 0.2947 - val_acc: 0.8973\n",
      "Epoch 10/20\n",
      "48000/48000 [==============================] - 40s 826us/step - loss: 0.2387 - acc: 0.9124 - val_loss: 0.2831 - val_acc: 0.9028\n",
      "Epoch 11/20\n",
      "48000/48000 [==============================] - 41s 852us/step - loss: 0.2315 - acc: 0.9134 - val_loss: 0.2859 - val_acc: 0.9012\n",
      "Epoch 12/20\n",
      "48000/48000 [==============================] - 35s 732us/step - loss: 0.2221 - acc: 0.9176 - val_loss: 0.2800 - val_acc: 0.9022\n",
      "Epoch 13/20\n",
      "48000/48000 [==============================] - 34s 718us/step - loss: 0.2117 - acc: 0.9207 - val_loss: 0.2777 - val_acc: 0.9049\n",
      "Epoch 14/20\n",
      "48000/48000 [==============================] - 35s 719us/step - loss: 0.2043 - acc: 0.9251 - val_loss: 0.2705 - val_acc: 0.9044\n",
      "Epoch 15/20\n",
      "48000/48000 [==============================] - 34s 711us/step - loss: 0.1949 - acc: 0.9272 - val_loss: 0.2799 - val_acc: 0.9023\n",
      "Epoch 16/20\n",
      "48000/48000 [==============================] - 39s 823us/step - loss: 0.1893 - acc: 0.9294 - val_loss: 0.2707 - val_acc: 0.9088\n",
      "Epoch 17/20\n",
      "48000/48000 [==============================] - 40s 840us/step - loss: 0.1816 - acc: 0.9327 - val_loss: 0.2757 - val_acc: 0.9039\n",
      "Epoch 18/20\n",
      "48000/48000 [==============================] - 63s 1ms/step - loss: 0.1784 - acc: 0.9328 - val_loss: 0.2800 - val_acc: 0.9050\n",
      "Epoch 19/20\n",
      "48000/48000 [==============================] - 48s 1ms/step - loss: 0.1697 - acc: 0.9356 - val_loss: 0.2874 - val_acc: 0.9096\n",
      "Epoch 20/20\n",
      "48000/48000 [==============================] - 36s 748us/step - loss: 0.1627 - acc: 0.9384 - val_loss: 0.2925 - val_acc: 0.9058\n",
      "10000/10000 [==============================] - 3s 270us/step\n",
      "_________________________________________________________________\n",
      "Layer (type)                 Output Shape              Param #   \n",
      "=================================================================\n",
      "conv2d_9 (Conv2D)            (None, 30, 24, 24)        780       \n",
      "_________________________________________________________________\n",
      "max_pooling2d_9 (MaxPooling2 (None, 30, 12, 12)        0         \n",
      "_________________________________________________________________\n",
      "conv2d_10 (Conv2D)           (None, 15, 10, 10)        4065      \n",
      "_________________________________________________________________\n",
      "max_pooling2d_10 (MaxPooling (None, 15, 5, 5)          0         \n",
      "_________________________________________________________________\n",
      "flatten_5 (Flatten)          (None, 375)               0         \n",
      "_________________________________________________________________\n",
      "dense_31 (Dense)             (None, 128)               48128     \n",
      "_________________________________________________________________\n",
      "dense_32 (Dense)             (None, 64)                8256      \n",
      "_________________________________________________________________\n",
      "dense_33 (Dense)             (None, 10)                650       \n",
      "=================================================================\n",
      "Total params: 61,879\n",
      "Trainable params: 61,879\n",
      "Non-trainable params: 0\n",
      "_________________________________________________________________\n",
      "The time to run is 823.2913180000005 seconds\n"
     ]
    }
   ],
   "source": [
    "hist_CN2=model_CN2.fit(X_train, y_train,\n",
    "          epochs=20,\n",
    "          batch_size= 128,verbose=1, validation_split=0.2)\n",
    "score_CN2 = model_CN2.evaluate(X_test, y_test, batch_size=128)\n",
    "finish_time_CN2=timeit.default_timer()-start_time_CN2\n",
    "model_CN2.summary()\n",
    "print('The time to run is',finish_time_CN2,'seconds')"
   ]
  },
  {
   "cell_type": "code",
   "execution_count": 60,
   "metadata": {},
   "outputs": [
    {
     "name": "stdout",
     "output_type": "stream",
     "text": [
      "[0.26581965008974073, 0.9103]\n"
     ]
    }
   ],
   "source": [
    "print(score_CN2)"
   ]
  },
  {
   "cell_type": "markdown",
   "metadata": {},
   "source": [
    "## Hyperparameter Optimization\n",
    "In neural networks, the number of layers, number of neurons in each layer, learning rate, optimizer, learning rate etc. are the hyperparamaters. From above neural networks, it is clear that adding an additional layer marginally increases accuracy , however with significant increase in computation time and parameters. Hence we evaluate the effect of batch size on the simpler CNN."
   ]
  },
  {
   "cell_type": "code",
   "execution_count": 114,
   "metadata": {},
   "outputs": [
    {
     "name": "stderr",
     "output_type": "stream",
     "text": [
      "C:\\Users\\Salil\\Anaconda3\\lib\\site-packages\\ipykernel_launcher.py:17: UserWarning: Update your `Conv2D` call to the Keras 2 API: `Conv2D(30, (5, 5), input_shape=(1, 28, 28..., activation=\"relu\", padding=\"valid\")`\n",
      "C:\\Users\\Salil\\Anaconda3\\lib\\site-packages\\ipykernel_launcher.py:19: UserWarning: Update your `Conv2D` call to the Keras 2 API: `Conv2D(15, (3, 3), activation=\"relu\")`\n"
     ]
    }
   ],
   "source": [
    "#from sklearn.model_selection import GridSearchCV\n",
    "#batch_size=[128,256,512]\n",
    "#epochs=[5,10,20]\n",
    "#verbose=1\n",
    "#validation_split=0.2\n",
    "\n",
    "#params={'batch_size':batch_size,'epochs':epochs}\n",
    "#modelhyp=GridSearchCV(model,params)\n",
    "#modelhyp.fit=(X_train, y_train)\n",
    "\n",
    "import time\n",
    "\n",
    "batch_sizes=[64,512,2048,12000]\n",
    "model_CN3 = Sequential()\n",
    "K.set_image_dim_ordering('th')\n",
    "model_CN3.add(Conv2D(30, 5, 5, border_mode= 'valid' , input_shape=(1, 28, 28),activation= 'relu' ))\n",
    "model_CN3.add(MaxPooling2D(pool_size=(2, 2)))\n",
    "model_CN3.add(Conv2D(15, 3, 3, activation= 'relu' ))\n",
    "model_CN3.add(MaxPooling2D(pool_size=(2, 2)))\n",
    "#model.add(Dropout(0.2))\n",
    "model_CN3.add(Flatten())\n",
    "#model.add(Dense(128, activation= 'relu' ))\n",
    "model_CN3.add(Dense(64, activation= 'relu' ))\n",
    "model_CN3.add(Dense(10, activation= 'softmax' ))\n",
    "# Compile model\n",
    "model_CN3.compile(loss= 'categorical_crossentropy' , optimizer= 'adam' , metrics=[ 'accuracy' ])\n",
    "\n",
    "\n"
   ]
  },
  {
   "cell_type": "code",
   "execution_count": 115,
   "metadata": {},
   "outputs": [
    {
     "name": "stdout",
     "output_type": "stream",
     "text": [
      "[0.26732148 0.9104    ]\n",
      "[0.26957767 0.9178    ]\n",
      "[0.2845025 0.9153   ]\n",
      "[0.28755301 0.916     ]\n",
      "[556.8124117 556.8124117]\n",
      "_________________________________________________________________\n",
      "Layer (type)                 Output Shape              Param #   \n",
      "=================================================================\n",
      "conv2d_23 (Conv2D)           (None, 30, 24, 24)        780       \n",
      "_________________________________________________________________\n",
      "max_pooling2d_23 (MaxPooling (None, 30, 12, 12)        0         \n",
      "_________________________________________________________________\n",
      "conv2d_24 (Conv2D)           (None, 15, 10, 10)        4065      \n",
      "_________________________________________________________________\n",
      "max_pooling2d_24 (MaxPooling (None, 15, 5, 5)          0         \n",
      "_________________________________________________________________\n",
      "flatten_12 (Flatten)         (None, 375)               0         \n",
      "_________________________________________________________________\n",
      "dense_49 (Dense)             (None, 64)                24064     \n",
      "_________________________________________________________________\n",
      "dense_50 (Dense)             (None, 10)                650       \n",
      "=================================================================\n",
      "Total params: 29,559\n",
      "Trainable params: 29,559\n",
      "Non-trainable params: 0\n",
      "_________________________________________________________________\n"
     ]
    }
   ],
   "source": [
    "score_CN3=np.zeros((len(batch_sizes),2))\n",
    "elapsed_times_CN3=np.zeros((len(batch_sizes),2))\n",
    "Hist_CN3_acc=[]\n",
    "Hist_CN3_loss=[]\n",
    "for I, batch_size in enumerate(batch_sizes):\n",
    "    start_time_CN3=timeit.default_timer()\n",
    "    result= model_CN3.fit(X_train, y_train,batch_size=batch_size, verbose=0, epochs=20, validation_split=0.2)\n",
    "    Hist_CN3_acc.append(result.history['acc'])\n",
    "    Hist_CN3_loss.append(result.history['loss'])\n",
    "    score_CN3[I] = model_CN3.evaluate(X_test, y_test, verbose=0,batch_size=128)\n",
    "    print(score_CN3[I])\n",
    "    elapsed_times_CN3[I] =timeit.default_timer()- start_time_CN3\n",
    "    \n",
    "print(elapsed_times_CN3[I])\n",
    "model_CN3.summary()"
   ]
  },
  {
   "cell_type": "code",
   "execution_count": 167,
   "metadata": {},
   "outputs": [
    {
     "data": {
      "text/plain": [
       "Text(0, 0.5, 'time(sec)')"
      ]
     },
     "execution_count": 167,
     "metadata": {},
     "output_type": "execute_result"
    },
    {
     "data": {
      "image/png": "[encoded data removed]",
      "text/plain": [
       "<Figure size 432x288 with 1 Axes>"
      ]
     },
     "metadata": {
      "needs_background": "light"
     },
     "output_type": "display_data"
    }
   ],
   "source": [
    "\n",
    "plt.plot(batch_sizes,elapsed_times_CN3[:,1],'r+',markersize=10)\n",
    "plt.plot(128,finish_time_CN1,'r+',markersize=10)\n",
    "plt.xlabel('Batchsize')\n",
    "plt.ylabel('time(sec)')\n"
   ]
  },
  {
   "cell_type": "markdown",
   "metadata": {},
   "source": [
    "Ideally, the runtime should decrease with increase in batch size. For this dataset, the CNN don't follow this trend fully. The CNN with 12000 as batch size takes the least time as expected but CNN with batch size 128 takes more time compared to 64 batchsize CNN. The validation accuracy is almost suprisingly similar in all cases"
   ]
  },
  {
   "cell_type": "code",
   "execution_count": 166,
   "metadata": {},
   "outputs": [
    {
     "data": {
      "image/png": "[encoded data removed]",
      "text/plain": [
       "<Figure size 432x288 with 1 Axes>"
      ]
     },
     "metadata": {
      "needs_background": "light"
     },
     "output_type": "display_data"
    }
   ],
   "source": [
    "Acc=np.asarray(Hist_CN3_acc,dtype=np.float32)\n",
    "ep=np.linspace(1, 20, num=20)\n",
    "\n",
    "for J in range(4):\n",
    "    plt.plot(ep,Acc[J,:])\n",
    "\n",
    "\n",
    "plt.xlabel('Epoch')\n",
    "plt.ylabel('Accuracy')\n",
    "plt.legend(['64','512','2048','12000'])\n",
    "plt.show()"
   ]
  },
  {
   "cell_type": "markdown",
   "metadata": {},
   "source": [
    "## Conclusion\n",
    "The accuracy is suprisingly observed to be highest in bigger batch size. This is contrary to expectation. \n",
    "The homework explores the design space of the hyperparameters. Specifically, the number of layers and the batchsize of the CNN is explored. It is clear that adding an extra layer has an impact on the accuracy but also increases the computation time. "
   ]
  },
  {
   "cell_type": "markdown",
   "metadata": {},
   "source": [
    "## References\n",
    "1.https://www.freecodecamp.org/news/how-to-build-your-first-neural-network-to-predict-house-prices-with-keras-f8db83049159/\n"
   ]
  },
  {
   "cell_type": "code",
   "execution_count": null,
   "metadata": {},
   "outputs": [],
   "source": []
  }
 ],
 "metadata": {
  "kernelspec": {
   "display_name": "Python 3",
   "language": "python",
   "name": "python3"
  },
  "language_info": {
   "codemirror_mode": {
    "name": "ipython",
    "version": 3
   },
   "file_extension": ".py",
   "mimetype": "text/x-python",
   "name": "python",
   "nbconvert_exporter": "python",
   "pygments_lexer": "ipython3",
   "version": "3.7.3"
  },
  "varInspector": {
   "cols": {
    "lenName": 16,
    "lenType": 16,
    "lenVar": 40
   },
   "kernels_config": {
    "python": {
     "delete_cmd_postfix": "",
     "delete_cmd_prefix": "del ",
     "library": "var_list.py",
     "varRefreshCmd": "print(var_dic_list())"
    },
    "r": {
     "delete_cmd_postfix": ") ",
     "delete_cmd_prefix": "rm(",
     "library": "var_list.r",
     "varRefreshCmd": "cat(var_dic_list()) "
    }
   },
   "oldHeight": 423.86,
   "position": {
    "height": "445.86px",
    "left": "821px",
    "right": "20px",
    "top": "230px",
    "width": "762px"
   },
   "types_to_exclude": [
    "module",
    "function",
    "builtin_function_or_method",
    "instance",
    "_Feature"
   ],
   "varInspector_section_display": "block",
   "window_display": false
  }
 },
 "nbformat": 4,
 "nbformat_minor": 2
}
