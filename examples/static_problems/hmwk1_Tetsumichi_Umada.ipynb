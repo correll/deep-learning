{
 "cells": [
  {
   "cell_type": "code",
   "execution_count": 2,
   "metadata": {
    "colab": {
     "base_uri": "https://localhost:8080/",
     "height": 33
    },
    "colab_type": "code",
    "id": "aKHGVWkxdMDx",
    "outputId": "c5cffac1-a5cc-4a2c-da8e-07201d8032cd"
   },
   "outputs": [
    {
     "name": "stdout",
     "output_type": "stream",
     "text": [
      "sample_data  sign-language-mnist.zip\n"
     ]
    }
   ],
   "source": [
    "!ls"
   ]
  },
  {
   "cell_type": "code",
   "execution_count": 3,
   "metadata": {
    "colab": {
     "base_uri": "https://localhost:8080/",
     "height": 147
    },
    "colab_type": "code",
    "id": "_Wgc6hUkdMF1",
    "outputId": "a78d4a44-9fef-4948-bcc1-cff92c1b89a7"
   },
   "outputs": [
    {
     "name": "stdout",
     "output_type": "stream",
     "text": [
      "Archive:  sign-language-mnist.zip\n",
      "  inflating: amer_sign2.png          \n",
      "  inflating: amer_sign3.png          \n",
      "  inflating: american_sign_language.PNG  \n",
      "  inflating: sign_mnist_test.csv     \n",
      "  inflating: sign_mnist_test/sign_mnist_test.csv  \n",
      "  inflating: sign_mnist_train.csv    \n",
      "  inflating: sign_mnist_train/sign_mnist_train.csv  \n"
     ]
    }
   ],
   "source": [
    "!unzip sign-language-mnist.zip"
   ]
  },
  {
   "cell_type": "code",
   "execution_count": 4,
   "metadata": {
    "colab": {
     "base_uri": "https://localhost:8080/",
     "height": 66
    },
    "colab_type": "code",
    "id": "bUptq419dMIF",
    "outputId": "29493880-5003-403c-97cc-a2b1f8b9cf3f"
   },
   "outputs": [
    {
     "name": "stdout",
     "output_type": "stream",
     "text": [
      "american_sign_language.PNG  sample_data\t\t     sign_mnist_test.csv\n",
      "amer_sign2.png\t\t    sign-language-mnist.zip  sign_mnist_train\n",
      "amer_sign3.png\t\t    sign_mnist_test\t     sign_mnist_train.csv\n"
     ]
    }
   ],
   "source": [
    "!ls"
   ]
  },
  {
   "cell_type": "code",
   "execution_count": 0,
   "metadata": {
    "colab": {},
    "colab_type": "code",
    "id": "pPj17EuCdMKj"
   },
   "outputs": [],
   "source": []
  },
  {
   "cell_type": "markdown",
   "metadata": {
    "colab": {},
    "colab_type": "code",
    "id": "Cot9jXrcxh67"
   },
   "source": [
    "![](https://qualityansweringservice.com/wp-content/uploads/2010/01/images_abc1280x960.png)"
   ]
  },
  {
   "cell_type": "markdown",
   "metadata": {
    "colab_type": "text",
    "id": "M0wxGM_byDQD"
   },
   "source": [
    "## CSCI 7000: Applied Deep Learning\n",
    "### Homework 1 \n",
    "### Tetsumichi(Telly) Umada "
   ]
  },
  {
   "cell_type": "markdown",
   "metadata": {
    "colab_type": "text",
    "id": "Ry_SM4LPyLdt"
   },
   "source": [
    "The data set: [Sign Language Recognition](https://www.kaggle.com/datamunge/sign-language-mnist)\n",
    "\n",
    "The dataset contains 24 alphabetic letters A-Z (no class for J and Z because of gesture motion). The dataset is downloaded from Kaggle, and it contains 27455 training images and 7172 test images. \n",
    "\n",
    "The data is formated in csv. Each row has the label, pixel1, pixel2, ..., pixel784, which represents a 28x28 pixel image. "
   ]
  },
  {
   "cell_type": "code",
   "execution_count": 0,
   "metadata": {
    "colab": {},
    "colab_type": "code",
    "id": "ymWj6qzExh3p"
   },
   "outputs": [],
   "source": []
  },
  {
   "cell_type": "code",
   "execution_count": 0,
   "metadata": {
    "colab": {},
    "colab_type": "code",
    "id": "9K7Sbs2VdMMx"
   },
   "outputs": [],
   "source": [
    "import pandas as pd\n",
    "import numpy as np \n",
    "import matplotlib.pyplot as plt\n",
    "%matplotlib inline\n",
    "\n",
    "np.random.seed(1238) # to be reproducible"
   ]
  },
  {
   "cell_type": "code",
   "execution_count": 0,
   "metadata": {
    "colab": {},
    "colab_type": "code",
    "id": "W10lJgMgfG9D"
   },
   "outputs": [],
   "source": []
  },
  {
   "cell_type": "code",
   "execution_count": 0,
   "metadata": {
    "colab": {},
    "colab_type": "code",
    "id": "c6WjcXHXttJe"
   },
   "outputs": [],
   "source": []
  },
  {
   "cell_type": "code",
   "execution_count": 0,
   "metadata": {
    "colab": {},
    "colab_type": "code",
    "id": "vvYLa8GMttGD"
   },
   "outputs": [],
   "source": []
  },
  {
   "cell_type": "markdown",
   "metadata": {
    "colab_type": "text",
    "id": "mG9oKhim2RSR"
   },
   "source": [
    "### Load data sets \n",
    "\n",
    "The dataset is formated in csv. We use Panda to load the data and format them for Keras. "
   ]
  },
  {
   "cell_type": "code",
   "execution_count": 6,
   "metadata": {
    "colab": {
     "base_uri": "https://localhost:8080/",
     "height": 238
    },
    "colab_type": "code",
    "id": "STBHoqTsfHHB",
    "outputId": "daf56e37-45a4-4c41-fab1-850fcbe92dac"
   },
   "outputs": [
    {
     "data": {
      "text/html": [
       "<div>\n",
       "<style scoped>\n",
       "    .dataframe tbody tr th:only-of-type {\n",
       "        vertical-align: middle;\n",
       "    }\n",
       "\n",
       "    .dataframe tbody tr th {\n",
       "        vertical-align: top;\n",
       "    }\n",
       "\n",
       "    .dataframe thead th {\n",
       "        text-align: right;\n",
       "    }\n",
       "</style>\n",
       "<table border=\"1\" class=\"dataframe\">\n",
       "  <thead>\n",
       "    <tr style=\"text-align: right;\">\n",
       "      <th></th>\n",
       "      <th>label</th>\n",
       "      <th>pixel1</th>\n",
       "      <th>pixel2</th>\n",
       "      <th>pixel3</th>\n",
       "      <th>pixel4</th>\n",
       "      <th>pixel5</th>\n",
       "      <th>pixel6</th>\n",
       "      <th>pixel7</th>\n",
       "      <th>pixel8</th>\n",
       "      <th>pixel9</th>\n",
       "      <th>pixel10</th>\n",
       "      <th>pixel11</th>\n",
       "      <th>pixel12</th>\n",
       "      <th>pixel13</th>\n",
       "      <th>pixel14</th>\n",
       "      <th>pixel15</th>\n",
       "      <th>pixel16</th>\n",
       "      <th>pixel17</th>\n",
       "      <th>pixel18</th>\n",
       "      <th>pixel19</th>\n",
       "      <th>pixel20</th>\n",
       "      <th>pixel21</th>\n",
       "      <th>pixel22</th>\n",
       "      <th>pixel23</th>\n",
       "      <th>pixel24</th>\n",
       "      <th>pixel25</th>\n",
       "      <th>pixel26</th>\n",
       "      <th>pixel27</th>\n",
       "      <th>pixel28</th>\n",
       "      <th>pixel29</th>\n",
       "      <th>pixel30</th>\n",
       "      <th>pixel31</th>\n",
       "      <th>pixel32</th>\n",
       "      <th>pixel33</th>\n",
       "      <th>pixel34</th>\n",
       "      <th>pixel35</th>\n",
       "      <th>pixel36</th>\n",
       "      <th>pixel37</th>\n",
       "      <th>pixel38</th>\n",
       "      <th>pixel39</th>\n",
       "      <th>...</th>\n",
       "      <th>pixel745</th>\n",
       "      <th>pixel746</th>\n",
       "      <th>pixel747</th>\n",
       "      <th>pixel748</th>\n",
       "      <th>pixel749</th>\n",
       "      <th>pixel750</th>\n",
       "      <th>pixel751</th>\n",
       "      <th>pixel752</th>\n",
       "      <th>pixel753</th>\n",
       "      <th>pixel754</th>\n",
       "      <th>pixel755</th>\n",
       "      <th>pixel756</th>\n",
       "      <th>pixel757</th>\n",
       "      <th>pixel758</th>\n",
       "      <th>pixel759</th>\n",
       "      <th>pixel760</th>\n",
       "      <th>pixel761</th>\n",
       "      <th>pixel762</th>\n",
       "      <th>pixel763</th>\n",
       "      <th>pixel764</th>\n",
       "      <th>pixel765</th>\n",
       "      <th>pixel766</th>\n",
       "      <th>pixel767</th>\n",
       "      <th>pixel768</th>\n",
       "      <th>pixel769</th>\n",
       "      <th>pixel770</th>\n",
       "      <th>pixel771</th>\n",
       "      <th>pixel772</th>\n",
       "      <th>pixel773</th>\n",
       "      <th>pixel774</th>\n",
       "      <th>pixel775</th>\n",
       "      <th>pixel776</th>\n",
       "      <th>pixel777</th>\n",
       "      <th>pixel778</th>\n",
       "      <th>pixel779</th>\n",
       "      <th>pixel780</th>\n",
       "      <th>pixel781</th>\n",
       "      <th>pixel782</th>\n",
       "      <th>pixel783</th>\n",
       "      <th>pixel784</th>\n",
       "    </tr>\n",
       "  </thead>\n",
       "  <tbody>\n",
       "    <tr>\n",
       "      <th>0</th>\n",
       "      <td>3</td>\n",
       "      <td>107</td>\n",
       "      <td>118</td>\n",
       "      <td>127</td>\n",
       "      <td>134</td>\n",
       "      <td>139</td>\n",
       "      <td>143</td>\n",
       "      <td>146</td>\n",
       "      <td>150</td>\n",
       "      <td>153</td>\n",
       "      <td>156</td>\n",
       "      <td>158</td>\n",
       "      <td>160</td>\n",
       "      <td>163</td>\n",
       "      <td>165</td>\n",
       "      <td>159</td>\n",
       "      <td>166</td>\n",
       "      <td>168</td>\n",
       "      <td>170</td>\n",
       "      <td>170</td>\n",
       "      <td>171</td>\n",
       "      <td>171</td>\n",
       "      <td>171</td>\n",
       "      <td>172</td>\n",
       "      <td>171</td>\n",
       "      <td>171</td>\n",
       "      <td>170</td>\n",
       "      <td>170</td>\n",
       "      <td>169</td>\n",
       "      <td>111</td>\n",
       "      <td>121</td>\n",
       "      <td>129</td>\n",
       "      <td>135</td>\n",
       "      <td>141</td>\n",
       "      <td>144</td>\n",
       "      <td>148</td>\n",
       "      <td>151</td>\n",
       "      <td>154</td>\n",
       "      <td>157</td>\n",
       "      <td>160</td>\n",
       "      <td>...</td>\n",
       "      <td>205</td>\n",
       "      <td>206</td>\n",
       "      <td>206</td>\n",
       "      <td>207</td>\n",
       "      <td>207</td>\n",
       "      <td>206</td>\n",
       "      <td>206</td>\n",
       "      <td>204</td>\n",
       "      <td>205</td>\n",
       "      <td>204</td>\n",
       "      <td>203</td>\n",
       "      <td>202</td>\n",
       "      <td>142</td>\n",
       "      <td>151</td>\n",
       "      <td>160</td>\n",
       "      <td>172</td>\n",
       "      <td>196</td>\n",
       "      <td>188</td>\n",
       "      <td>188</td>\n",
       "      <td>190</td>\n",
       "      <td>135</td>\n",
       "      <td>96</td>\n",
       "      <td>86</td>\n",
       "      <td>77</td>\n",
       "      <td>77</td>\n",
       "      <td>79</td>\n",
       "      <td>176</td>\n",
       "      <td>205</td>\n",
       "      <td>207</td>\n",
       "      <td>207</td>\n",
       "      <td>207</td>\n",
       "      <td>207</td>\n",
       "      <td>207</td>\n",
       "      <td>207</td>\n",
       "      <td>206</td>\n",
       "      <td>206</td>\n",
       "      <td>206</td>\n",
       "      <td>204</td>\n",
       "      <td>203</td>\n",
       "      <td>202</td>\n",
       "    </tr>\n",
       "    <tr>\n",
       "      <th>1</th>\n",
       "      <td>6</td>\n",
       "      <td>155</td>\n",
       "      <td>157</td>\n",
       "      <td>156</td>\n",
       "      <td>156</td>\n",
       "      <td>156</td>\n",
       "      <td>157</td>\n",
       "      <td>156</td>\n",
       "      <td>158</td>\n",
       "      <td>158</td>\n",
       "      <td>157</td>\n",
       "      <td>158</td>\n",
       "      <td>156</td>\n",
       "      <td>154</td>\n",
       "      <td>154</td>\n",
       "      <td>153</td>\n",
       "      <td>152</td>\n",
       "      <td>151</td>\n",
       "      <td>149</td>\n",
       "      <td>149</td>\n",
       "      <td>148</td>\n",
       "      <td>147</td>\n",
       "      <td>146</td>\n",
       "      <td>144</td>\n",
       "      <td>142</td>\n",
       "      <td>143</td>\n",
       "      <td>138</td>\n",
       "      <td>92</td>\n",
       "      <td>108</td>\n",
       "      <td>158</td>\n",
       "      <td>159</td>\n",
       "      <td>159</td>\n",
       "      <td>159</td>\n",
       "      <td>160</td>\n",
       "      <td>160</td>\n",
       "      <td>160</td>\n",
       "      <td>160</td>\n",
       "      <td>160</td>\n",
       "      <td>160</td>\n",
       "      <td>160</td>\n",
       "      <td>...</td>\n",
       "      <td>100</td>\n",
       "      <td>78</td>\n",
       "      <td>120</td>\n",
       "      <td>157</td>\n",
       "      <td>168</td>\n",
       "      <td>107</td>\n",
       "      <td>99</td>\n",
       "      <td>121</td>\n",
       "      <td>133</td>\n",
       "      <td>97</td>\n",
       "      <td>95</td>\n",
       "      <td>120</td>\n",
       "      <td>135</td>\n",
       "      <td>116</td>\n",
       "      <td>95</td>\n",
       "      <td>79</td>\n",
       "      <td>69</td>\n",
       "      <td>86</td>\n",
       "      <td>139</td>\n",
       "      <td>173</td>\n",
       "      <td>200</td>\n",
       "      <td>185</td>\n",
       "      <td>175</td>\n",
       "      <td>198</td>\n",
       "      <td>124</td>\n",
       "      <td>118</td>\n",
       "      <td>94</td>\n",
       "      <td>140</td>\n",
       "      <td>133</td>\n",
       "      <td>84</td>\n",
       "      <td>69</td>\n",
       "      <td>149</td>\n",
       "      <td>128</td>\n",
       "      <td>87</td>\n",
       "      <td>94</td>\n",
       "      <td>163</td>\n",
       "      <td>175</td>\n",
       "      <td>103</td>\n",
       "      <td>135</td>\n",
       "      <td>149</td>\n",
       "    </tr>\n",
       "    <tr>\n",
       "      <th>2</th>\n",
       "      <td>2</td>\n",
       "      <td>187</td>\n",
       "      <td>188</td>\n",
       "      <td>188</td>\n",
       "      <td>187</td>\n",
       "      <td>187</td>\n",
       "      <td>186</td>\n",
       "      <td>187</td>\n",
       "      <td>188</td>\n",
       "      <td>187</td>\n",
       "      <td>186</td>\n",
       "      <td>185</td>\n",
       "      <td>185</td>\n",
       "      <td>185</td>\n",
       "      <td>184</td>\n",
       "      <td>184</td>\n",
       "      <td>184</td>\n",
       "      <td>181</td>\n",
       "      <td>181</td>\n",
       "      <td>179</td>\n",
       "      <td>179</td>\n",
       "      <td>179</td>\n",
       "      <td>178</td>\n",
       "      <td>178</td>\n",
       "      <td>109</td>\n",
       "      <td>52</td>\n",
       "      <td>66</td>\n",
       "      <td>77</td>\n",
       "      <td>83</td>\n",
       "      <td>188</td>\n",
       "      <td>189</td>\n",
       "      <td>189</td>\n",
       "      <td>188</td>\n",
       "      <td>188</td>\n",
       "      <td>189</td>\n",
       "      <td>188</td>\n",
       "      <td>188</td>\n",
       "      <td>188</td>\n",
       "      <td>188</td>\n",
       "      <td>187</td>\n",
       "      <td>...</td>\n",
       "      <td>203</td>\n",
       "      <td>204</td>\n",
       "      <td>203</td>\n",
       "      <td>201</td>\n",
       "      <td>200</td>\n",
       "      <td>200</td>\n",
       "      <td>199</td>\n",
       "      <td>198</td>\n",
       "      <td>196</td>\n",
       "      <td>195</td>\n",
       "      <td>194</td>\n",
       "      <td>193</td>\n",
       "      <td>198</td>\n",
       "      <td>166</td>\n",
       "      <td>132</td>\n",
       "      <td>114</td>\n",
       "      <td>89</td>\n",
       "      <td>74</td>\n",
       "      <td>79</td>\n",
       "      <td>77</td>\n",
       "      <td>74</td>\n",
       "      <td>78</td>\n",
       "      <td>132</td>\n",
       "      <td>188</td>\n",
       "      <td>210</td>\n",
       "      <td>209</td>\n",
       "      <td>206</td>\n",
       "      <td>205</td>\n",
       "      <td>204</td>\n",
       "      <td>203</td>\n",
       "      <td>202</td>\n",
       "      <td>201</td>\n",
       "      <td>200</td>\n",
       "      <td>199</td>\n",
       "      <td>198</td>\n",
       "      <td>199</td>\n",
       "      <td>198</td>\n",
       "      <td>195</td>\n",
       "      <td>194</td>\n",
       "      <td>195</td>\n",
       "    </tr>\n",
       "    <tr>\n",
       "      <th>3</th>\n",
       "      <td>2</td>\n",
       "      <td>211</td>\n",
       "      <td>211</td>\n",
       "      <td>212</td>\n",
       "      <td>212</td>\n",
       "      <td>211</td>\n",
       "      <td>210</td>\n",
       "      <td>211</td>\n",
       "      <td>210</td>\n",
       "      <td>210</td>\n",
       "      <td>211</td>\n",
       "      <td>209</td>\n",
       "      <td>207</td>\n",
       "      <td>208</td>\n",
       "      <td>207</td>\n",
       "      <td>206</td>\n",
       "      <td>203</td>\n",
       "      <td>202</td>\n",
       "      <td>201</td>\n",
       "      <td>200</td>\n",
       "      <td>198</td>\n",
       "      <td>197</td>\n",
       "      <td>195</td>\n",
       "      <td>192</td>\n",
       "      <td>197</td>\n",
       "      <td>171</td>\n",
       "      <td>51</td>\n",
       "      <td>52</td>\n",
       "      <td>54</td>\n",
       "      <td>212</td>\n",
       "      <td>213</td>\n",
       "      <td>215</td>\n",
       "      <td>215</td>\n",
       "      <td>212</td>\n",
       "      <td>212</td>\n",
       "      <td>213</td>\n",
       "      <td>212</td>\n",
       "      <td>212</td>\n",
       "      <td>211</td>\n",
       "      <td>211</td>\n",
       "      <td>...</td>\n",
       "      <td>247</td>\n",
       "      <td>242</td>\n",
       "      <td>233</td>\n",
       "      <td>231</td>\n",
       "      <td>230</td>\n",
       "      <td>229</td>\n",
       "      <td>227</td>\n",
       "      <td>225</td>\n",
       "      <td>223</td>\n",
       "      <td>221</td>\n",
       "      <td>220</td>\n",
       "      <td>216</td>\n",
       "      <td>58</td>\n",
       "      <td>51</td>\n",
       "      <td>49</td>\n",
       "      <td>50</td>\n",
       "      <td>57</td>\n",
       "      <td>60</td>\n",
       "      <td>17</td>\n",
       "      <td>15</td>\n",
       "      <td>18</td>\n",
       "      <td>17</td>\n",
       "      <td>19</td>\n",
       "      <td>1</td>\n",
       "      <td>159</td>\n",
       "      <td>255</td>\n",
       "      <td>237</td>\n",
       "      <td>239</td>\n",
       "      <td>237</td>\n",
       "      <td>236</td>\n",
       "      <td>235</td>\n",
       "      <td>234</td>\n",
       "      <td>233</td>\n",
       "      <td>231</td>\n",
       "      <td>230</td>\n",
       "      <td>226</td>\n",
       "      <td>225</td>\n",
       "      <td>222</td>\n",
       "      <td>229</td>\n",
       "      <td>163</td>\n",
       "    </tr>\n",
       "    <tr>\n",
       "      <th>4</th>\n",
       "      <td>13</td>\n",
       "      <td>164</td>\n",
       "      <td>167</td>\n",
       "      <td>170</td>\n",
       "      <td>172</td>\n",
       "      <td>176</td>\n",
       "      <td>179</td>\n",
       "      <td>180</td>\n",
       "      <td>184</td>\n",
       "      <td>185</td>\n",
       "      <td>186</td>\n",
       "      <td>188</td>\n",
       "      <td>189</td>\n",
       "      <td>189</td>\n",
       "      <td>190</td>\n",
       "      <td>191</td>\n",
       "      <td>189</td>\n",
       "      <td>190</td>\n",
       "      <td>190</td>\n",
       "      <td>187</td>\n",
       "      <td>190</td>\n",
       "      <td>192</td>\n",
       "      <td>193</td>\n",
       "      <td>191</td>\n",
       "      <td>191</td>\n",
       "      <td>192</td>\n",
       "      <td>192</td>\n",
       "      <td>194</td>\n",
       "      <td>194</td>\n",
       "      <td>166</td>\n",
       "      <td>169</td>\n",
       "      <td>172</td>\n",
       "      <td>174</td>\n",
       "      <td>177</td>\n",
       "      <td>180</td>\n",
       "      <td>182</td>\n",
       "      <td>185</td>\n",
       "      <td>186</td>\n",
       "      <td>187</td>\n",
       "      <td>190</td>\n",
       "      <td>...</td>\n",
       "      <td>90</td>\n",
       "      <td>77</td>\n",
       "      <td>88</td>\n",
       "      <td>117</td>\n",
       "      <td>123</td>\n",
       "      <td>127</td>\n",
       "      <td>129</td>\n",
       "      <td>134</td>\n",
       "      <td>145</td>\n",
       "      <td>152</td>\n",
       "      <td>156</td>\n",
       "      <td>179</td>\n",
       "      <td>105</td>\n",
       "      <td>106</td>\n",
       "      <td>105</td>\n",
       "      <td>104</td>\n",
       "      <td>104</td>\n",
       "      <td>104</td>\n",
       "      <td>175</td>\n",
       "      <td>199</td>\n",
       "      <td>178</td>\n",
       "      <td>152</td>\n",
       "      <td>136</td>\n",
       "      <td>130</td>\n",
       "      <td>136</td>\n",
       "      <td>150</td>\n",
       "      <td>118</td>\n",
       "      <td>92</td>\n",
       "      <td>85</td>\n",
       "      <td>76</td>\n",
       "      <td>92</td>\n",
       "      <td>105</td>\n",
       "      <td>105</td>\n",
       "      <td>108</td>\n",
       "      <td>133</td>\n",
       "      <td>163</td>\n",
       "      <td>157</td>\n",
       "      <td>163</td>\n",
       "      <td>164</td>\n",
       "      <td>179</td>\n",
       "    </tr>\n",
       "  </tbody>\n",
       "</table>\n",
       "<p>5 rows × 785 columns</p>\n",
       "</div>"
      ],
      "text/plain": [
       "   label  pixel1  pixel2  pixel3  ...  pixel781  pixel782  pixel783  pixel784\n",
       "0      3     107     118     127  ...       206       204       203       202\n",
       "1      6     155     157     156  ...       175       103       135       149\n",
       "2      2     187     188     188  ...       198       195       194       195\n",
       "3      2     211     211     212  ...       225       222       229       163\n",
       "4     13     164     167     170  ...       157       163       164       179\n",
       "\n",
       "[5 rows x 785 columns]"
      ]
     },
     "execution_count": 6,
     "metadata": {
      "tags": []
     },
     "output_type": "execute_result"
    }
   ],
   "source": [
    "train_df = pd.read_csv(\"sign_mnist_train.csv\")\n",
    "test_df = pd.read_csv(\"sign_mnist_test.csv\")\n",
    "\n",
    "train_df.head()"
   ]
  },
  {
   "cell_type": "markdown",
   "metadata": {
    "colab_type": "text",
    "id": "IZuGE_p3C8ka"
   },
   "source": [
    "### Data overview\n"
   ]
  },
  {
   "cell_type": "code",
   "execution_count": 7,
   "metadata": {
    "colab": {
     "base_uri": "https://localhost:8080/",
     "height": 33
    },
    "colab_type": "code",
    "id": "_PP1Jf2Z2cTo",
    "outputId": "c9d203bd-17cc-456e-ddb7-f54e1baf5b18"
   },
   "outputs": [
    {
     "name": "stdout",
     "output_type": "stream",
     "text": [
      "number of classes: 24\n"
     ]
    }
   ],
   "source": [
    "n_class = len(train_df['label'].unique())\n",
    "print(\"number of classes: {}\".format(n_class))"
   ]
  },
  {
   "cell_type": "markdown",
   "metadata": {
    "colab_type": "text",
    "id": "dYHOdUVIDa2l"
   },
   "source": [
    "**Distribution of classes**"
   ]
  },
  {
   "cell_type": "code",
   "execution_count": 8,
   "metadata": {
    "colab": {
     "base_uri": "https://localhost:8080/",
     "height": 350
    },
    "colab_type": "code",
    "id": "soTzoHcXDhK1",
    "outputId": "d57f9fcb-470a-4cbb-e276-a0dd05f3e2e0"
   },
   "outputs": [
    {
     "name": "stderr",
     "output_type": "stream",
     "text": [
      "/usr/local/lib/python3.6/dist-packages/ipykernel_launcher.py:1: FutureWarning: `Series.plot()` should not be called with positional arguments, only keyword arguments. The order of positional arguments will change in the future. Use `Series.plot(kind='bar')` instead of `Series.plot('bar',)`.\n",
      "  \"\"\"Entry point for launching an IPython kernel.\n"
     ]
    },
    {
     "data": {
      "image/png": "[encoded data removed]",
      "text/plain": [
       "<Figure size 432x288 with 1 Axes>"
      ]
     },
     "metadata": {
      "tags": []
     },
     "output_type": "display_data"
    }
   ],
   "source": [
    "train_df['label'].value_counts().sort_index().plot(\"bar\")\n",
    "plt.title(\"Training data distribution\")\n",
    "plt.xlabel(\"Label\")\n",
    "plt.ylabel(\"Counts\")\n",
    "plt.show()"
   ]
  },
  {
   "cell_type": "code",
   "execution_count": 9,
   "metadata": {
    "colab": {
     "base_uri": "https://localhost:8080/",
     "height": 350
    },
    "colab_type": "code",
    "id": "gt3pAaItEBIL",
    "outputId": "68732538-a11b-44f5-bc54-83e263f7409b"
   },
   "outputs": [
    {
     "name": "stderr",
     "output_type": "stream",
     "text": [
      "/usr/local/lib/python3.6/dist-packages/ipykernel_launcher.py:1: FutureWarning: `Series.plot()` should not be called with positional arguments, only keyword arguments. The order of positional arguments will change in the future. Use `Series.plot(kind='bar')` instead of `Series.plot('bar',)`.\n",
      "  \"\"\"Entry point for launching an IPython kernel.\n"
     ]
    },
    {
     "data": {
      "image/png": "[encoded data removed]",
      "text/plain": [
       "<Figure size 432x288 with 1 Axes>"
      ]
     },
     "metadata": {
      "tags": []
     },
     "output_type": "display_data"
    }
   ],
   "source": [
    "test_df['label'].value_counts().sort_index().plot(\"bar\")\n",
    "plt.title(\"Test data distribution\")\n",
    "plt.xlabel(\"Label\")\n",
    "plt.ylabel(\"Counts\")\n",
    "plt.show()"
   ]
  },
  {
   "cell_type": "markdown",
   "metadata": {
    "colab_type": "text",
    "id": "NjTKij2HDrE0"
   },
   "source": [
    "For the training data, the number of classes is unbalanced, but they're generally similar to each other. For the test data, some of them have about 200 images, but the others have 500. "
   ]
  },
  {
   "cell_type": "code",
   "execution_count": 0,
   "metadata": {
    "colab": {},
    "colab_type": "code",
    "id": "KoZHceSoEF68"
   },
   "outputs": [],
   "source": []
  },
  {
   "cell_type": "markdown",
   "metadata": {
    "colab_type": "text",
    "id": "7VBdO4khER1e"
   },
   "source": [
    "### pre-process\n",
    "\n",
    "The datasets are already split into the test set and training set. They're loaded into the data frames. \n",
    "\n",
    "1. Split the dataframe into the label column and features \n",
    "2. Reshape each image into 28 x 28 \n",
    "3. Make them flatten (one-dimensional vectors of length 784)"
   ]
  },
  {
   "cell_type": "code",
   "execution_count": 0,
   "metadata": {
    "colab": {},
    "colab_type": "code",
    "id": "sFh2aGn7eCQc"
   },
   "outputs": [],
   "source": [
    "def prep_data(df):     \n",
    "    # dataset is csv file, label, pixel1, pixel2, ...., pixel784\n",
    "    # each row is an image \n",
    "\n",
    "    # split them into the label and pixels \n",
    "    y = df['label']\n",
    "    x = df.drop(columns=['label'])\n",
    "\n",
    "    # re-shape each image to 28 x 28 and flatten\n",
    "    x = np.array([img.reshape(28, 28).flatten() for img in x.values])\n",
    "\n",
    "    return x, y \n"
   ]
  },
  {
   "cell_type": "code",
   "execution_count": 0,
   "metadata": {
    "colab": {},
    "colab_type": "code",
    "id": "kJ6Zzo3bdMPH"
   },
   "outputs": [],
   "source": [
    "train_x, train_y = prep_data(train_df) \n",
    "test_x, test_y = prep_data(test_df) "
   ]
  },
  {
   "cell_type": "code",
   "execution_count": 0,
   "metadata": {
    "colab": {},
    "colab_type": "code",
    "id": "eKDl-MzC6Xfw"
   },
   "outputs": [],
   "source": []
  },
  {
   "cell_type": "code",
   "execution_count": 12,
   "metadata": {
    "colab": {
     "base_uri": "https://localhost:8080/",
     "height": 66
    },
    "colab_type": "code",
    "id": "f4uCO5G1dMRg",
    "outputId": "54711655-a6e0-4772-bc98-3d3d1f27fc42"
   },
   "outputs": [
    {
     "name": "stdout",
     "output_type": "stream",
     "text": [
      "27455 train samples\n",
      "7172 test samples\n",
      "24 unique labels\n"
     ]
    }
   ],
   "source": [
    "print(\"{} train samples\".format(len(train_x)))\n",
    "print(\"{} test samples\".format(len(test_x)))\n",
    "print(\"{} unique labels\".format(n_class))"
   ]
  },
  {
   "cell_type": "code",
   "execution_count": 0,
   "metadata": {
    "colab": {},
    "colab_type": "code",
    "id": "4rwiYSx6C6hf"
   },
   "outputs": [],
   "source": []
  },
  {
   "cell_type": "markdown",
   "metadata": {
    "colab_type": "text",
    "id": "o_TCx5XeIU6t"
   },
   "source": [
    "**Normalize the data**"
   ]
  },
  {
   "cell_type": "code",
   "execution_count": 0,
   "metadata": {
    "colab": {},
    "colab_type": "code",
    "id": "jaOgBByAzyAt"
   },
   "outputs": [],
   "source": [
    "train_x = train_x / 255\n",
    "test_x = test_x / 255"
   ]
  },
  {
   "cell_type": "code",
   "execution_count": 14,
   "metadata": {
    "colab": {
     "base_uri": "https://localhost:8080/",
     "height": 33
    },
    "colab_type": "code",
    "id": "qJVW_kK_eVZF",
    "outputId": "1e70d058-342f-4136-aeed-263be22ebd18"
   },
   "outputs": [
    {
     "name": "stdout",
     "output_type": "stream",
     "text": [
      "img shape: (784,)\n"
     ]
    }
   ],
   "source": [
    "print(\"img shape:\", train_x[0].shape)"
   ]
  },
  {
   "cell_type": "code",
   "execution_count": 0,
   "metadata": {
    "colab": {},
    "colab_type": "code",
    "id": "M9mGg8J2eurO"
   },
   "outputs": [],
   "source": []
  },
  {
   "cell_type": "markdown",
   "metadata": {
    "colab_type": "text",
    "id": "Eh7mnUsrIgDL"
   },
   "source": [
    "### Training images \n"
   ]
  },
  {
   "cell_type": "code",
   "execution_count": 15,
   "metadata": {
    "colab": {
     "base_uri": "https://localhost:8080/",
     "height": 593
    },
    "colab_type": "code",
    "id": "ZsoEYWTDeut1",
    "outputId": "3a1c7a1c-41a5-4bcf-9f80-53ab6bc71fb2"
   },
   "outputs": [
    {
     "data": {
      "image/png": "[encoded data removed]",
      "text/plain": [
       "<Figure size 720x720 with 16 Axes>"
      ]
     },
     "metadata": {
      "tags": []
     },
     "output_type": "display_data"
    }
   ],
   "source": [
    "col, row = 4, 4\n",
    "\n",
    "fig = plt.figure(figsize=(10, 10))\n",
    "\n",
    "for i in range(1, col*row + 1): \n",
    "    fig.add_subplot(row, col, i)\n",
    "    plt.imshow(train_x[i].reshape(28, 28), cmap = 'binary')\n",
    "    plt.title(chr(train_y[i] + ord('A')))\n",
    "    plt.xticks([])\n",
    "    plt.yticks([])\n",
    "plt.show() "
   ]
  },
  {
   "cell_type": "code",
   "execution_count": 0,
   "metadata": {
    "colab": {},
    "colab_type": "code",
    "id": "s-ZPNB3IKJP6"
   },
   "outputs": [],
   "source": []
  },
  {
   "cell_type": "markdown",
   "metadata": {
    "colab_type": "text",
    "id": "cisphZN6KJco"
   },
   "source": [
    "### Encode the labels\n",
    "We convert a class vector to a binary class matrix"
   ]
  },
  {
   "cell_type": "code",
   "execution_count": 16,
   "metadata": {
    "colab": {
     "base_uri": "https://localhost:8080/",
     "height": 77
    },
    "colab_type": "code",
    "id": "x5rMVAGnkoYc",
    "outputId": "330bfa36-b3fc-4f94-9329-1daa9a86539d"
   },
   "outputs": [
    {
     "name": "stderr",
     "output_type": "stream",
     "text": [
      "Using TensorFlow backend.\n"
     ]
    },
    {
     "data": {
      "text/html": [
       "<p style=\"color: red;\">\n",
       "The default version of TensorFlow in Colab will soon switch to TensorFlow 2.x.<br>\n",
       "We recommend you <a href=\"https://www.tensorflow.org/guide/migrate\" target=\"_blank\">upgrade</a> now \n",
       "or ensure your notebook will continue to use TensorFlow 1.x via the <code>%tensorflow_version 1.x</code> magic:\n",
       "<a href=\"https://colab.research.google.com/notebooks/tensorflow_version.ipynb\" target=\"_blank\">more info</a>.</p>\n"
      ],
      "text/plain": [
       "<IPython.core.display.HTML object>"
      ]
     },
     "metadata": {
      "tags": []
     },
     "output_type": "display_data"
    }
   ],
   "source": [
    "from keras.utils import to_categorical"
   ]
  },
  {
   "cell_type": "code",
   "execution_count": 0,
   "metadata": {
    "colab": {},
    "colab_type": "code",
    "id": "934Ydq9kkobd"
   },
   "outputs": [],
   "source": [
    "## encode the label (to make it like one-hot-encoding)\n",
    "train_y = to_categorical(train_y)\n",
    "test_y = to_categorical(test_y)"
   ]
  },
  {
   "cell_type": "code",
   "execution_count": 0,
   "metadata": {
    "colab": {},
    "colab_type": "code",
    "id": "vJa9Ocogkoee"
   },
   "outputs": [],
   "source": []
  },
  {
   "cell_type": "code",
   "execution_count": 0,
   "metadata": {
    "colab": {},
    "colab_type": "code",
    "id": "y11Cfe6qzpjE"
   },
   "outputs": [],
   "source": []
  },
  {
   "cell_type": "markdown",
   "metadata": {
    "colab_type": "text",
    "id": "6LrdciYqMMxn"
   },
   "source": [
    "### Experiments with models"
   ]
  },
  {
   "cell_type": "code",
   "execution_count": 0,
   "metadata": {
    "colab": {},
    "colab_type": "code",
    "id": "VVSVinMhzplo"
   },
   "outputs": [],
   "source": [
    "import keras\n",
    "from keras.models import Sequential \n",
    "from keras.layers import Dense, Activation, Conv2D, Flatten, MaxPooling2D\n",
    "\n",
    "from keras.optimizers import SGD, Adam"
   ]
  },
  {
   "cell_type": "code",
   "execution_count": 0,
   "metadata": {
    "colab": {},
    "colab_type": "code",
    "id": "g3jn6PT2zpqX"
   },
   "outputs": [],
   "source": []
  },
  {
   "cell_type": "markdown",
   "metadata": {
    "colab_type": "text",
    "id": "pjyWBrGnMYH9"
   },
   "source": [
    "#### Model 1 \n",
    "It's a two-layer model with 10 neurons with 784 inputs and uses the softmax as an activation."
   ]
  },
  {
   "cell_type": "code",
   "execution_count": 19,
   "metadata": {
    "colab": {
     "base_uri": "https://localhost:8080/",
     "height": 395
    },
    "colab_type": "code",
    "id": "mt0klmsg2LNQ",
    "outputId": "95400d51-9106-4310-86d6-1622f67199a6"
   },
   "outputs": [
    {
     "name": "stdout",
     "output_type": "stream",
     "text": [
      "WARNING:tensorflow:From /usr/local/lib/python3.6/dist-packages/keras/backend/tensorflow_backend.py:66: The name tf.get_default_graph is deprecated. Please use tf.compat.v1.get_default_graph instead.\n",
      "\n",
      "WARNING:tensorflow:From /usr/local/lib/python3.6/dist-packages/keras/backend/tensorflow_backend.py:541: The name tf.placeholder is deprecated. Please use tf.compat.v1.placeholder instead.\n",
      "\n",
      "WARNING:tensorflow:From /usr/local/lib/python3.6/dist-packages/keras/backend/tensorflow_backend.py:4432: The name tf.random_uniform is deprecated. Please use tf.random.uniform instead.\n",
      "\n",
      "Model: \"sequential_1\"\n",
      "_________________________________________________________________\n",
      "Layer (type)                 Output Shape              Param #   \n",
      "=================================================================\n",
      "dense_1 (Dense)              (None, 25)                19625     \n",
      "_________________________________________________________________\n",
      "activation_1 (Activation)    (None, 25)                0         \n",
      "=================================================================\n",
      "Total params: 19,625\n",
      "Trainable params: 19,625\n",
      "Non-trainable params: 0\n",
      "_________________________________________________________________\n",
      "WARNING:tensorflow:From /usr/local/lib/python3.6/dist-packages/keras/optimizers.py:793: The name tf.train.Optimizer is deprecated. Please use tf.compat.v1.train.Optimizer instead.\n",
      "\n",
      "WARNING:tensorflow:From /usr/local/lib/python3.6/dist-packages/keras/backend/tensorflow_backend.py:3576: The name tf.log is deprecated. Please use tf.math.log instead.\n",
      "\n"
     ]
    }
   ],
   "source": [
    "model_base = Sequential() \n",
    "model_base.add(Dense(25, input_shape=(784,))) \n",
    "model_base.add(Activation('softmax')) \n",
    "model_base.summary()\n",
    "\n",
    "model_base.compile(loss='categorical_crossentropy', optimizer=SGD(), metrics=['categorical_accuracy'])"
   ]
  },
  {
   "cell_type": "code",
   "execution_count": 20,
   "metadata": {
    "colab": {
     "base_uri": "https://localhost:8080/",
     "height": 1000
    },
    "colab_type": "code",
    "id": "Lip9S0xJ2LQh",
    "outputId": "843257ad-4b87-43ed-84b5-70b644df57c8"
   },
   "outputs": [
    {
     "name": "stdout",
     "output_type": "stream",
     "text": [
      "WARNING:tensorflow:From /usr/local/lib/python3.6/dist-packages/tensorflow_core/python/ops/math_grad.py:1424: where (from tensorflow.python.ops.array_ops) is deprecated and will be removed in a future version.\n",
      "Instructions for updating:\n",
      "Use tf.where in 2.0, which has the same broadcast rule as np.where\n",
      "WARNING:tensorflow:From /usr/local/lib/python3.6/dist-packages/keras/backend/tensorflow_backend.py:1033: The name tf.assign_add is deprecated. Please use tf.compat.v1.assign_add instead.\n",
      "\n",
      "WARNING:tensorflow:From /usr/local/lib/python3.6/dist-packages/keras/backend/tensorflow_backend.py:1020: The name tf.assign is deprecated. Please use tf.compat.v1.assign instead.\n",
      "\n",
      "WARNING:tensorflow:From /usr/local/lib/python3.6/dist-packages/keras/backend/tensorflow_backend.py:3005: The name tf.Session is deprecated. Please use tf.compat.v1.Session instead.\n",
      "\n",
      "Train on 21964 samples, validate on 5491 samples\n",
      "Epoch 1/200\n",
      "WARNING:tensorflow:From /usr/local/lib/python3.6/dist-packages/keras/backend/tensorflow_backend.py:190: The name tf.get_default_session is deprecated. Please use tf.compat.v1.get_default_session instead.\n",
      "\n",
      "WARNING:tensorflow:From /usr/local/lib/python3.6/dist-packages/keras/backend/tensorflow_backend.py:197: The name tf.ConfigProto is deprecated. Please use tf.compat.v1.ConfigProto instead.\n",
      "\n",
      "WARNING:tensorflow:From /usr/local/lib/python3.6/dist-packages/keras/backend/tensorflow_backend.py:207: The name tf.global_variables is deprecated. Please use tf.compat.v1.global_variables instead.\n",
      "\n",
      "WARNING:tensorflow:From /usr/local/lib/python3.6/dist-packages/keras/backend/tensorflow_backend.py:216: The name tf.is_variable_initialized is deprecated. Please use tf.compat.v1.is_variable_initialized instead.\n",
      "\n",
      "WARNING:tensorflow:From /usr/local/lib/python3.6/dist-packages/keras/backend/tensorflow_backend.py:223: The name tf.variables_initializer is deprecated. Please use tf.compat.v1.variables_initializer instead.\n",
      "\n",
      "21964/21964 [==============================] - 10s 466us/step - loss: 3.1111 - categorical_accuracy: 0.1093 - val_loss: 2.9877 - val_categorical_accuracy: 0.1663\n",
      "Epoch 2/200\n",
      "21964/21964 [==============================] - 1s 28us/step - loss: 2.8957 - categorical_accuracy: 0.2228 - val_loss: 2.8011 - val_categorical_accuracy: 0.2810\n",
      "Epoch 3/200\n",
      "21964/21964 [==============================] - 1s 27us/step - loss: 2.7281 - categorical_accuracy: 0.3309 - val_loss: 2.6458 - val_categorical_accuracy: 0.3713\n",
      "Epoch 4/200\n",
      "21964/21964 [==============================] - 1s 28us/step - loss: 2.5870 - categorical_accuracy: 0.3995 - val_loss: 2.5074 - val_categorical_accuracy: 0.4622\n",
      "Epoch 5/200\n",
      "21964/21964 [==============================] - 1s 30us/step - loss: 2.4676 - categorical_accuracy: 0.4439 - val_loss: 2.3974 - val_categorical_accuracy: 0.4764\n",
      "Epoch 6/200\n",
      "21964/21964 [==============================] - 1s 25us/step - loss: 2.3649 - categorical_accuracy: 0.4760 - val_loss: 2.2979 - val_categorical_accuracy: 0.5063\n",
      "Epoch 7/200\n",
      "21964/21964 [==============================] - 1s 28us/step - loss: 2.2749 - categorical_accuracy: 0.5020 - val_loss: 2.2127 - val_categorical_accuracy: 0.5338\n",
      "Epoch 8/200\n",
      "21964/21964 [==============================] - 1s 27us/step - loss: 2.1965 - categorical_accuracy: 0.5205 - val_loss: 2.1376 - val_categorical_accuracy: 0.5358\n",
      "Epoch 9/200\n",
      "21964/21964 [==============================] - 1s 29us/step - loss: 2.1269 - categorical_accuracy: 0.5372 - val_loss: 2.0665 - val_categorical_accuracy: 0.5671\n",
      "Epoch 10/200\n",
      "21964/21964 [==============================] - 1s 28us/step - loss: 2.0626 - categorical_accuracy: 0.5524 - val_loss: 2.0074 - val_categorical_accuracy: 0.5693\n",
      "Epoch 11/200\n",
      "21964/21964 [==============================] - 1s 31us/step - loss: 2.0062 - categorical_accuracy: 0.5713 - val_loss: 1.9509 - val_categorical_accuracy: 0.5810\n",
      "Epoch 12/200\n",
      "21964/21964 [==============================] - 1s 29us/step - loss: 1.9547 - categorical_accuracy: 0.5785 - val_loss: 1.9031 - val_categorical_accuracy: 0.5986\n",
      "Epoch 13/200\n",
      "21964/21964 [==============================] - 1s 30us/step - loss: 1.9069 - categorical_accuracy: 0.5877 - val_loss: 1.8619 - val_categorical_accuracy: 0.6106\n",
      "Epoch 14/200\n",
      "21964/21964 [==============================] - 1s 29us/step - loss: 1.8640 - categorical_accuracy: 0.6027 - val_loss: 1.8168 - val_categorical_accuracy: 0.6185\n",
      "Epoch 15/200\n",
      "21964/21964 [==============================] - 1s 25us/step - loss: 1.8233 - categorical_accuracy: 0.6080 - val_loss: 1.7749 - val_categorical_accuracy: 0.6252\n",
      "Epoch 16/200\n",
      "21964/21964 [==============================] - 1s 28us/step - loss: 1.7858 - categorical_accuracy: 0.6168 - val_loss: 1.7409 - val_categorical_accuracy: 0.6339\n",
      "Epoch 17/200\n",
      "21964/21964 [==============================] - 1s 29us/step - loss: 1.7511 - categorical_accuracy: 0.6237 - val_loss: 1.7084 - val_categorical_accuracy: 0.6392\n",
      "Epoch 18/200\n",
      "21964/21964 [==============================] - 1s 29us/step - loss: 1.7186 - categorical_accuracy: 0.6310 - val_loss: 1.6792 - val_categorical_accuracy: 0.6502\n",
      "Epoch 19/200\n",
      "21964/21964 [==============================] - 1s 27us/step - loss: 1.6883 - categorical_accuracy: 0.6382 - val_loss: 1.6452 - val_categorical_accuracy: 0.6569\n",
      "Epoch 20/200\n",
      "21964/21964 [==============================] - 1s 28us/step - loss: 1.6594 - categorical_accuracy: 0.6405 - val_loss: 1.6164 - val_categorical_accuracy: 0.6702\n",
      "Epoch 21/200\n",
      "21964/21964 [==============================] - 1s 28us/step - loss: 1.6318 - categorical_accuracy: 0.6491 - val_loss: 1.5909 - val_categorical_accuracy: 0.6593\n",
      "Epoch 22/200\n",
      "21964/21964 [==============================] - 1s 28us/step - loss: 1.6063 - categorical_accuracy: 0.6526 - val_loss: 1.5673 - val_categorical_accuracy: 0.6729\n",
      "Epoch 23/200\n",
      "21964/21964 [==============================] - 1s 26us/step - loss: 1.5819 - categorical_accuracy: 0.6559 - val_loss: 1.5407 - val_categorical_accuracy: 0.6817\n",
      "Epoch 24/200\n",
      "21964/21964 [==============================] - 1s 27us/step - loss: 1.5589 - categorical_accuracy: 0.6623 - val_loss: 1.5215 - val_categorical_accuracy: 0.6718\n",
      "Epoch 25/200\n",
      "21964/21964 [==============================] - 1s 29us/step - loss: 1.5364 - categorical_accuracy: 0.6655 - val_loss: 1.4996 - val_categorical_accuracy: 0.6906\n",
      "Epoch 26/200\n",
      "21964/21964 [==============================] - 1s 27us/step - loss: 1.5164 - categorical_accuracy: 0.6713 - val_loss: 1.4791 - val_categorical_accuracy: 0.6826\n",
      "Epoch 27/200\n",
      "21964/21964 [==============================] - 1s 27us/step - loss: 1.4952 - categorical_accuracy: 0.6748 - val_loss: 1.4594 - val_categorical_accuracy: 0.6840\n",
      "Epoch 28/200\n",
      "21964/21964 [==============================] - 1s 26us/step - loss: 1.4762 - categorical_accuracy: 0.6783 - val_loss: 1.4457 - val_categorical_accuracy: 0.6673\n",
      "Epoch 29/200\n",
      "21964/21964 [==============================] - 1s 28us/step - loss: 1.4581 - categorical_accuracy: 0.6792 - val_loss: 1.4227 - val_categorical_accuracy: 0.6960\n",
      "Epoch 30/200\n",
      "21964/21964 [==============================] - 1s 27us/step - loss: 1.4401 - categorical_accuracy: 0.6843 - val_loss: 1.4049 - val_categorical_accuracy: 0.7008\n",
      "Epoch 31/200\n",
      "21964/21964 [==============================] - 1s 30us/step - loss: 1.4235 - categorical_accuracy: 0.6885 - val_loss: 1.3898 - val_categorical_accuracy: 0.6889\n",
      "Epoch 32/200\n",
      "21964/21964 [==============================] - 1s 33us/step - loss: 1.4069 - categorical_accuracy: 0.6900 - val_loss: 1.3750 - val_categorical_accuracy: 0.7081\n",
      "Epoch 33/200\n",
      "21964/21964 [==============================] - 1s 28us/step - loss: 1.3915 - categorical_accuracy: 0.6920 - val_loss: 1.3584 - val_categorical_accuracy: 0.7130\n",
      "Epoch 34/200\n",
      "21964/21964 [==============================] - 1s 29us/step - loss: 1.3761 - categorical_accuracy: 0.6965 - val_loss: 1.3438 - val_categorical_accuracy: 0.7141\n",
      "Epoch 35/200\n",
      "21964/21964 [==============================] - 1s 26us/step - loss: 1.3611 - categorical_accuracy: 0.7010 - val_loss: 1.3299 - val_categorical_accuracy: 0.7172\n",
      "Epoch 36/200\n",
      "21964/21964 [==============================] - 1s 29us/step - loss: 1.3473 - categorical_accuracy: 0.7026 - val_loss: 1.3157 - val_categorical_accuracy: 0.7148\n",
      "Epoch 37/200\n",
      "21964/21964 [==============================] - 1s 27us/step - loss: 1.3338 - categorical_accuracy: 0.7063 - val_loss: 1.3052 - val_categorical_accuracy: 0.7143\n",
      "Epoch 38/200\n",
      "21964/21964 [==============================] - 1s 27us/step - loss: 1.3209 - categorical_accuracy: 0.7096 - val_loss: 1.2900 - val_categorical_accuracy: 0.7212\n",
      "Epoch 39/200\n",
      "21964/21964 [==============================] - 1s 29us/step - loss: 1.3079 - categorical_accuracy: 0.7128 - val_loss: 1.2752 - val_categorical_accuracy: 0.7254\n",
      "Epoch 40/200\n",
      "21964/21964 [==============================] - 1s 30us/step - loss: 1.2951 - categorical_accuracy: 0.7154 - val_loss: 1.2650 - val_categorical_accuracy: 0.7330\n",
      "Epoch 41/200\n",
      "21964/21964 [==============================] - 1s 28us/step - loss: 1.2835 - categorical_accuracy: 0.7178 - val_loss: 1.2533 - val_categorical_accuracy: 0.7314\n",
      "Epoch 42/200\n",
      "21964/21964 [==============================] - 1s 27us/step - loss: 1.2713 - categorical_accuracy: 0.7213 - val_loss: 1.2412 - val_categorical_accuracy: 0.7319\n",
      "Epoch 43/200\n",
      "21964/21964 [==============================] - 1s 27us/step - loss: 1.2601 - categorical_accuracy: 0.7234 - val_loss: 1.2315 - val_categorical_accuracy: 0.7408\n",
      "Epoch 44/200\n",
      "21964/21964 [==============================] - 1s 28us/step - loss: 1.2490 - categorical_accuracy: 0.7263 - val_loss: 1.2227 - val_categorical_accuracy: 0.7332\n",
      "Epoch 45/200\n",
      "21964/21964 [==============================] - 1s 28us/step - loss: 1.2383 - categorical_accuracy: 0.7262 - val_loss: 1.2089 - val_categorical_accuracy: 0.7385\n",
      "Epoch 46/200\n",
      "21964/21964 [==============================] - 1s 30us/step - loss: 1.2279 - categorical_accuracy: 0.7305 - val_loss: 1.2008 - val_categorical_accuracy: 0.7399\n",
      "Epoch 47/200\n",
      "21964/21964 [==============================] - 1s 28us/step - loss: 1.2178 - categorical_accuracy: 0.7335 - val_loss: 1.1909 - val_categorical_accuracy: 0.7419\n",
      "Epoch 48/200\n",
      "21964/21964 [==============================] - 1s 29us/step - loss: 1.2076 - categorical_accuracy: 0.7338 - val_loss: 1.1797 - val_categorical_accuracy: 0.7399\n",
      "Epoch 49/200\n",
      "21964/21964 [==============================] - 1s 30us/step - loss: 1.1978 - categorical_accuracy: 0.7367 - val_loss: 1.1698 - val_categorical_accuracy: 0.7474\n",
      "Epoch 50/200\n",
      "21964/21964 [==============================] - 1s 30us/step - loss: 1.1885 - categorical_accuracy: 0.7412 - val_loss: 1.1635 - val_categorical_accuracy: 0.7439\n",
      "Epoch 51/200\n",
      "21964/21964 [==============================] - 1s 28us/step - loss: 1.1798 - categorical_accuracy: 0.7419 - val_loss: 1.1532 - val_categorical_accuracy: 0.7459\n",
      "Epoch 52/200\n",
      "21964/21964 [==============================] - 1s 25us/step - loss: 1.1703 - categorical_accuracy: 0.7436 - val_loss: 1.1468 - val_categorical_accuracy: 0.7549\n",
      "Epoch 53/200\n",
      "21964/21964 [==============================] - 1s 29us/step - loss: 1.1617 - categorical_accuracy: 0.7459 - val_loss: 1.1357 - val_categorical_accuracy: 0.7521\n",
      "Epoch 54/200\n",
      "21964/21964 [==============================] - 1s 28us/step - loss: 1.1526 - categorical_accuracy: 0.7476 - val_loss: 1.1290 - val_categorical_accuracy: 0.7551\n",
      "Epoch 55/200\n",
      "21964/21964 [==============================] - 1s 31us/step - loss: 1.1447 - categorical_accuracy: 0.7504 - val_loss: 1.1213 - val_categorical_accuracy: 0.7514\n",
      "Epoch 56/200\n",
      "21964/21964 [==============================] - 1s 31us/step - loss: 1.1365 - categorical_accuracy: 0.7502 - val_loss: 1.1101 - val_categorical_accuracy: 0.7560\n",
      "Epoch 57/200\n",
      "21964/21964 [==============================] - 1s 25us/step - loss: 1.1285 - categorical_accuracy: 0.7529 - val_loss: 1.1036 - val_categorical_accuracy: 0.7560\n",
      "Epoch 58/200\n",
      "21964/21964 [==============================] - 1s 26us/step - loss: 1.1207 - categorical_accuracy: 0.7551 - val_loss: 1.0972 - val_categorical_accuracy: 0.7623\n",
      "Epoch 59/200\n",
      "21964/21964 [==============================] - 1s 28us/step - loss: 1.1128 - categorical_accuracy: 0.7567 - val_loss: 1.0915 - val_categorical_accuracy: 0.7607\n",
      "Epoch 60/200\n",
      "21964/21964 [==============================] - 1s 26us/step - loss: 1.1054 - categorical_accuracy: 0.7592 - val_loss: 1.0816 - val_categorical_accuracy: 0.7612\n",
      "Epoch 61/200\n",
      "21964/21964 [==============================] - 1s 30us/step - loss: 1.0981 - categorical_accuracy: 0.7596 - val_loss: 1.0733 - val_categorical_accuracy: 0.7687\n",
      "Epoch 62/200\n",
      "21964/21964 [==============================] - 1s 28us/step - loss: 1.0906 - categorical_accuracy: 0.7619 - val_loss: 1.0680 - val_categorical_accuracy: 0.7704\n",
      "Epoch 63/200\n",
      "21964/21964 [==============================] - 1s 30us/step - loss: 1.0840 - categorical_accuracy: 0.7643 - val_loss: 1.0620 - val_categorical_accuracy: 0.7612\n",
      "Epoch 64/200\n",
      "21964/21964 [==============================] - 1s 28us/step - loss: 1.0771 - categorical_accuracy: 0.7654 - val_loss: 1.0544 - val_categorical_accuracy: 0.7727\n",
      "Epoch 65/200\n",
      "21964/21964 [==============================] - 1s 27us/step - loss: 1.0697 - categorical_accuracy: 0.7685 - val_loss: 1.0505 - val_categorical_accuracy: 0.7638\n",
      "Epoch 66/200\n",
      "21964/21964 [==============================] - 1s 29us/step - loss: 1.0632 - categorical_accuracy: 0.7694 - val_loss: 1.0400 - val_categorical_accuracy: 0.7758\n",
      "Epoch 67/200\n",
      "21964/21964 [==============================] - 1s 26us/step - loss: 1.0571 - categorical_accuracy: 0.7726 - val_loss: 1.0343 - val_categorical_accuracy: 0.7804\n",
      "Epoch 68/200\n",
      "21964/21964 [==============================] - 1s 28us/step - loss: 1.0503 - categorical_accuracy: 0.7746 - val_loss: 1.0283 - val_categorical_accuracy: 0.7789\n",
      "Epoch 69/200\n",
      "21964/21964 [==============================] - 1s 27us/step - loss: 1.0441 - categorical_accuracy: 0.7754 - val_loss: 1.0242 - val_categorical_accuracy: 0.7762\n",
      "Epoch 70/200\n",
      "21964/21964 [==============================] - 1s 27us/step - loss: 1.0381 - categorical_accuracy: 0.7778 - val_loss: 1.0158 - val_categorical_accuracy: 0.7805\n",
      "Epoch 71/200\n",
      "21964/21964 [==============================] - 1s 26us/step - loss: 1.0313 - categorical_accuracy: 0.7785 - val_loss: 1.0146 - val_categorical_accuracy: 0.7789\n",
      "Epoch 72/200\n",
      "21964/21964 [==============================] - 1s 25us/step - loss: 1.0257 - categorical_accuracy: 0.7800 - val_loss: 1.0046 - val_categorical_accuracy: 0.7902\n",
      "Epoch 73/200\n",
      "21964/21964 [==============================] - 1s 27us/step - loss: 1.0200 - categorical_accuracy: 0.7831 - val_loss: 1.0015 - val_categorical_accuracy: 0.7776\n",
      "Epoch 74/200\n",
      "21964/21964 [==============================] - 1s 26us/step - loss: 1.0136 - categorical_accuracy: 0.7821 - val_loss: 0.9945 - val_categorical_accuracy: 0.7889\n",
      "Epoch 75/200\n",
      "21964/21964 [==============================] - 1s 27us/step - loss: 1.0083 - categorical_accuracy: 0.7865 - val_loss: 0.9888 - val_categorical_accuracy: 0.7840\n",
      "Epoch 76/200\n",
      "21964/21964 [==============================] - 1s 30us/step - loss: 1.0027 - categorical_accuracy: 0.7853 - val_loss: 0.9830 - val_categorical_accuracy: 0.7875\n",
      "Epoch 77/200\n",
      "21964/21964 [==============================] - 1s 28us/step - loss: 0.9972 - categorical_accuracy: 0.7869 - val_loss: 0.9784 - val_categorical_accuracy: 0.7835\n",
      "Epoch 78/200\n",
      "21964/21964 [==============================] - 1s 29us/step - loss: 0.9918 - categorical_accuracy: 0.7895 - val_loss: 0.9716 - val_categorical_accuracy: 0.7938\n",
      "Epoch 79/200\n",
      "21964/21964 [==============================] - 1s 27us/step - loss: 0.9864 - categorical_accuracy: 0.7918 - val_loss: 0.9662 - val_categorical_accuracy: 0.7979\n",
      "Epoch 80/200\n",
      "21964/21964 [==============================] - 1s 32us/step - loss: 0.9811 - categorical_accuracy: 0.7915 - val_loss: 0.9613 - val_categorical_accuracy: 0.7953\n",
      "Epoch 81/200\n",
      "21964/21964 [==============================] - 1s 26us/step - loss: 0.9760 - categorical_accuracy: 0.7942 - val_loss: 0.9549 - val_categorical_accuracy: 0.8006\n",
      "Epoch 82/200\n",
      "21964/21964 [==============================] - 1s 28us/step - loss: 0.9712 - categorical_accuracy: 0.7935 - val_loss: 0.9523 - val_categorical_accuracy: 0.8009\n",
      "Epoch 83/200\n",
      "21964/21964 [==============================] - 1s 28us/step - loss: 0.9661 - categorical_accuracy: 0.7954 - val_loss: 0.9473 - val_categorical_accuracy: 0.8000\n",
      "Epoch 84/200\n",
      "21964/21964 [==============================] - 1s 28us/step - loss: 0.9607 - categorical_accuracy: 0.7958 - val_loss: 0.9438 - val_categorical_accuracy: 0.8026\n",
      "Epoch 85/200\n",
      "21964/21964 [==============================] - 1s 29us/step - loss: 0.9557 - categorical_accuracy: 0.7990 - val_loss: 0.9363 - val_categorical_accuracy: 0.8059\n",
      "Epoch 86/200\n",
      "21964/21964 [==============================] - 1s 27us/step - loss: 0.9510 - categorical_accuracy: 0.8011 - val_loss: 0.9323 - val_categorical_accuracy: 0.8040\n",
      "Epoch 87/200\n",
      "21964/21964 [==============================] - 1s 26us/step - loss: 0.9459 - categorical_accuracy: 0.8013 - val_loss: 0.9295 - val_categorical_accuracy: 0.8064\n",
      "Epoch 88/200\n",
      "21964/21964 [==============================] - 1s 30us/step - loss: 0.9418 - categorical_accuracy: 0.8042 - val_loss: 0.9233 - val_categorical_accuracy: 0.8013\n",
      "Epoch 89/200\n",
      "21964/21964 [==============================] - 1s 29us/step - loss: 0.9371 - categorical_accuracy: 0.8036 - val_loss: 0.9181 - val_categorical_accuracy: 0.8095\n",
      "Epoch 90/200\n",
      "21964/21964 [==============================] - 1s 27us/step - loss: 0.9326 - categorical_accuracy: 0.8054 - val_loss: 0.9142 - val_categorical_accuracy: 0.8082\n",
      "Epoch 91/200\n",
      "21964/21964 [==============================] - 1s 26us/step - loss: 0.9280 - categorical_accuracy: 0.8063 - val_loss: 0.9150 - val_categorical_accuracy: 0.8028\n",
      "Epoch 92/200\n",
      "21964/21964 [==============================] - 1s 26us/step - loss: 0.9238 - categorical_accuracy: 0.8080 - val_loss: 0.9063 - val_categorical_accuracy: 0.8141\n",
      "Epoch 93/200\n",
      "21964/21964 [==============================] - 1s 24us/step - loss: 0.9191 - categorical_accuracy: 0.8068 - val_loss: 0.9019 - val_categorical_accuracy: 0.8152\n",
      "Epoch 94/200\n",
      "21964/21964 [==============================] - 1s 28us/step - loss: 0.9148 - categorical_accuracy: 0.8103 - val_loss: 0.8983 - val_categorical_accuracy: 0.8124\n",
      "Epoch 95/200\n",
      "21964/21964 [==============================] - 1s 29us/step - loss: 0.9113 - categorical_accuracy: 0.8111 - val_loss: 0.8937 - val_categorical_accuracy: 0.8117\n",
      "Epoch 96/200\n",
      "21964/21964 [==============================] - 1s 30us/step - loss: 0.9066 - categorical_accuracy: 0.8135 - val_loss: 0.8910 - val_categorical_accuracy: 0.8181\n",
      "Epoch 97/200\n",
      "21964/21964 [==============================] - 1s 29us/step - loss: 0.9023 - categorical_accuracy: 0.8118 - val_loss: 0.8872 - val_categorical_accuracy: 0.8126\n",
      "Epoch 98/200\n",
      "21964/21964 [==============================] - 1s 29us/step - loss: 0.8982 - categorical_accuracy: 0.8137 - val_loss: 0.8843 - val_categorical_accuracy: 0.8122\n",
      "Epoch 99/200\n",
      "21964/21964 [==============================] - 1s 30us/step - loss: 0.8944 - categorical_accuracy: 0.8145 - val_loss: 0.8769 - val_categorical_accuracy: 0.8203\n",
      "Epoch 100/200\n",
      "21964/21964 [==============================] - 1s 28us/step - loss: 0.8903 - categorical_accuracy: 0.8162 - val_loss: 0.8738 - val_categorical_accuracy: 0.8193\n",
      "Epoch 101/200\n",
      "21964/21964 [==============================] - 1s 28us/step - loss: 0.8863 - categorical_accuracy: 0.8163 - val_loss: 0.8721 - val_categorical_accuracy: 0.8232\n",
      "Epoch 102/200\n",
      "21964/21964 [==============================] - 1s 27us/step - loss: 0.8826 - categorical_accuracy: 0.8173 - val_loss: 0.8693 - val_categorical_accuracy: 0.8168\n",
      "Epoch 103/200\n",
      "21964/21964 [==============================] - 1s 26us/step - loss: 0.8786 - categorical_accuracy: 0.8178 - val_loss: 0.8632 - val_categorical_accuracy: 0.8237\n",
      "Epoch 104/200\n",
      "21964/21964 [==============================] - 1s 27us/step - loss: 0.8750 - categorical_accuracy: 0.8201 - val_loss: 0.8602 - val_categorical_accuracy: 0.8197\n",
      "Epoch 105/200\n",
      "21964/21964 [==============================] - 1s 25us/step - loss: 0.8708 - categorical_accuracy: 0.8198 - val_loss: 0.8562 - val_categorical_accuracy: 0.8192\n",
      "Epoch 106/200\n",
      "21964/21964 [==============================] - 1s 30us/step - loss: 0.8678 - categorical_accuracy: 0.8206 - val_loss: 0.8513 - val_categorical_accuracy: 0.8261\n",
      "Epoch 107/200\n",
      "21964/21964 [==============================] - 1s 26us/step - loss: 0.8633 - categorical_accuracy: 0.8224 - val_loss: 0.8479 - val_categorical_accuracy: 0.8230\n",
      "Epoch 108/200\n",
      "21964/21964 [==============================] - 1s 28us/step - loss: 0.8603 - categorical_accuracy: 0.8235 - val_loss: 0.8442 - val_categorical_accuracy: 0.8259\n",
      "Epoch 109/200\n",
      "21964/21964 [==============================] - 1s 30us/step - loss: 0.8568 - categorical_accuracy: 0.8227 - val_loss: 0.8406 - val_categorical_accuracy: 0.8284\n",
      "Epoch 110/200\n",
      "21964/21964 [==============================] - 1s 29us/step - loss: 0.8527 - categorical_accuracy: 0.8248 - val_loss: 0.8387 - val_categorical_accuracy: 0.8243\n",
      "Epoch 111/200\n",
      "21964/21964 [==============================] - 1s 31us/step - loss: 0.8498 - categorical_accuracy: 0.8250 - val_loss: 0.8343 - val_categorical_accuracy: 0.8304\n",
      "Epoch 112/200\n",
      "21964/21964 [==============================] - 1s 28us/step - loss: 0.8461 - categorical_accuracy: 0.8255 - val_loss: 0.8328 - val_categorical_accuracy: 0.8279\n",
      "Epoch 113/200\n",
      "21964/21964 [==============================] - 1s 27us/step - loss: 0.8429 - categorical_accuracy: 0.8255 - val_loss: 0.8285 - val_categorical_accuracy: 0.8275\n",
      "Epoch 114/200\n",
      "21964/21964 [==============================] - 1s 27us/step - loss: 0.8396 - categorical_accuracy: 0.8272 - val_loss: 0.8257 - val_categorical_accuracy: 0.8288\n",
      "Epoch 115/200\n",
      "21964/21964 [==============================] - 1s 29us/step - loss: 0.8360 - categorical_accuracy: 0.8283 - val_loss: 0.8215 - val_categorical_accuracy: 0.8304\n",
      "Epoch 116/200\n",
      "21964/21964 [==============================] - 1s 28us/step - loss: 0.8329 - categorical_accuracy: 0.8283 - val_loss: 0.8183 - val_categorical_accuracy: 0.8292\n",
      "Epoch 117/200\n",
      "21964/21964 [==============================] - 1s 26us/step - loss: 0.8296 - categorical_accuracy: 0.8289 - val_loss: 0.8136 - val_categorical_accuracy: 0.8361\n",
      "Epoch 118/200\n",
      "21964/21964 [==============================] - 1s 29us/step - loss: 0.8259 - categorical_accuracy: 0.8305 - val_loss: 0.8117 - val_categorical_accuracy: 0.8334\n",
      "Epoch 119/200\n",
      "21964/21964 [==============================] - 1s 30us/step - loss: 0.8230 - categorical_accuracy: 0.8308 - val_loss: 0.8114 - val_categorical_accuracy: 0.8292\n",
      "Epoch 120/200\n",
      "21964/21964 [==============================] - 1s 26us/step - loss: 0.8201 - categorical_accuracy: 0.8308 - val_loss: 0.8066 - val_categorical_accuracy: 0.8314\n",
      "Epoch 121/200\n",
      "21964/21964 [==============================] - 1s 27us/step - loss: 0.8167 - categorical_accuracy: 0.8326 - val_loss: 0.8039 - val_categorical_accuracy: 0.8350\n",
      "Epoch 122/200\n",
      "21964/21964 [==============================] - 1s 29us/step - loss: 0.8139 - categorical_accuracy: 0.8329 - val_loss: 0.8003 - val_categorical_accuracy: 0.8365\n",
      "Epoch 123/200\n",
      "21964/21964 [==============================] - 1s 29us/step - loss: 0.8107 - categorical_accuracy: 0.8342 - val_loss: 0.7955 - val_categorical_accuracy: 0.8361\n",
      "Epoch 124/200\n",
      "21964/21964 [==============================] - 1s 29us/step - loss: 0.8071 - categorical_accuracy: 0.8350 - val_loss: 0.7934 - val_categorical_accuracy: 0.8414\n",
      "Epoch 125/200\n",
      "21964/21964 [==============================] - 1s 28us/step - loss: 0.8042 - categorical_accuracy: 0.8348 - val_loss: 0.7907 - val_categorical_accuracy: 0.8385\n",
      "Epoch 126/200\n",
      "21964/21964 [==============================] - 1s 28us/step - loss: 0.8015 - categorical_accuracy: 0.8360 - val_loss: 0.7868 - val_categorical_accuracy: 0.8408\n",
      "Epoch 127/200\n",
      "21964/21964 [==============================] - 1s 30us/step - loss: 0.7983 - categorical_accuracy: 0.8355 - val_loss: 0.7880 - val_categorical_accuracy: 0.8361\n",
      "Epoch 128/200\n",
      "21964/21964 [==============================] - 1s 30us/step - loss: 0.7958 - categorical_accuracy: 0.8373 - val_loss: 0.7828 - val_categorical_accuracy: 0.8410\n",
      "Epoch 129/200\n",
      "21964/21964 [==============================] - 1s 31us/step - loss: 0.7927 - categorical_accuracy: 0.8369 - val_loss: 0.7808 - val_categorical_accuracy: 0.8379\n",
      "Epoch 130/200\n",
      "21964/21964 [==============================] - 1s 29us/step - loss: 0.7901 - categorical_accuracy: 0.8379 - val_loss: 0.7771 - val_categorical_accuracy: 0.8397\n",
      "Epoch 131/200\n",
      "21964/21964 [==============================] - 1s 29us/step - loss: 0.7869 - categorical_accuracy: 0.8393 - val_loss: 0.7757 - val_categorical_accuracy: 0.8427\n",
      "Epoch 132/200\n",
      "21964/21964 [==============================] - 1s 26us/step - loss: 0.7842 - categorical_accuracy: 0.8401 - val_loss: 0.7726 - val_categorical_accuracy: 0.8459\n",
      "Epoch 133/200\n",
      "21964/21964 [==============================] - 1s 26us/step - loss: 0.7812 - categorical_accuracy: 0.8404 - val_loss: 0.7692 - val_categorical_accuracy: 0.8425\n",
      "Epoch 134/200\n",
      "21964/21964 [==============================] - 1s 25us/step - loss: 0.7790 - categorical_accuracy: 0.8413 - val_loss: 0.7657 - val_categorical_accuracy: 0.8448\n",
      "Epoch 135/200\n",
      "21964/21964 [==============================] - 1s 28us/step - loss: 0.7760 - categorical_accuracy: 0.8402 - val_loss: 0.7636 - val_categorical_accuracy: 0.8427\n",
      "Epoch 136/200\n",
      "21964/21964 [==============================] - 1s 28us/step - loss: 0.7731 - categorical_accuracy: 0.8420 - val_loss: 0.7597 - val_categorical_accuracy: 0.8488\n",
      "Epoch 137/200\n",
      "21964/21964 [==============================] - 1s 28us/step - loss: 0.7703 - categorical_accuracy: 0.8430 - val_loss: 0.7582 - val_categorical_accuracy: 0.8488\n",
      "Epoch 138/200\n",
      "21964/21964 [==============================] - 1s 27us/step - loss: 0.7679 - categorical_accuracy: 0.8424 - val_loss: 0.7551 - val_categorical_accuracy: 0.8459\n",
      "Epoch 139/200\n",
      "21964/21964 [==============================] - 1s 28us/step - loss: 0.7653 - categorical_accuracy: 0.8442 - val_loss: 0.7526 - val_categorical_accuracy: 0.8434\n",
      "Epoch 140/200\n",
      "21964/21964 [==============================] - 1s 30us/step - loss: 0.7624 - categorical_accuracy: 0.8442 - val_loss: 0.7497 - val_categorical_accuracy: 0.8472\n",
      "Epoch 141/200\n",
      "21964/21964 [==============================] - 1s 30us/step - loss: 0.7595 - categorical_accuracy: 0.8441 - val_loss: 0.7473 - val_categorical_accuracy: 0.8481\n",
      "Epoch 142/200\n",
      "21964/21964 [==============================] - 1s 28us/step - loss: 0.7576 - categorical_accuracy: 0.8456 - val_loss: 0.7448 - val_categorical_accuracy: 0.8494\n",
      "Epoch 143/200\n",
      "21964/21964 [==============================] - 1s 28us/step - loss: 0.7549 - categorical_accuracy: 0.8462 - val_loss: 0.7430 - val_categorical_accuracy: 0.8523\n",
      "Epoch 144/200\n",
      "21964/21964 [==============================] - 1s 29us/step - loss: 0.7522 - categorical_accuracy: 0.8484 - val_loss: 0.7409 - val_categorical_accuracy: 0.8479\n",
      "Epoch 145/200\n",
      "21964/21964 [==============================] - 1s 31us/step - loss: 0.7500 - categorical_accuracy: 0.8479 - val_loss: 0.7375 - val_categorical_accuracy: 0.8518\n",
      "Epoch 146/200\n",
      "21964/21964 [==============================] - 1s 28us/step - loss: 0.7472 - categorical_accuracy: 0.8480 - val_loss: 0.7367 - val_categorical_accuracy: 0.8490\n",
      "Epoch 147/200\n",
      "21964/21964 [==============================] - 1s 30us/step - loss: 0.7448 - categorical_accuracy: 0.8485 - val_loss: 0.7325 - val_categorical_accuracy: 0.8529\n",
      "Epoch 148/200\n",
      "21964/21964 [==============================] - 1s 27us/step - loss: 0.7424 - categorical_accuracy: 0.8492 - val_loss: 0.7307 - val_categorical_accuracy: 0.8525\n",
      "Epoch 149/200\n",
      "21964/21964 [==============================] - 1s 26us/step - loss: 0.7399 - categorical_accuracy: 0.8498 - val_loss: 0.7298 - val_categorical_accuracy: 0.8470\n",
      "Epoch 150/200\n",
      "21964/21964 [==============================] - 1s 28us/step - loss: 0.7376 - categorical_accuracy: 0.8505 - val_loss: 0.7265 - val_categorical_accuracy: 0.8545\n",
      "Epoch 151/200\n",
      "21964/21964 [==============================] - 1s 25us/step - loss: 0.7353 - categorical_accuracy: 0.8503 - val_loss: 0.7245 - val_categorical_accuracy: 0.8549\n",
      "Epoch 152/200\n",
      "21964/21964 [==============================] - 1s 28us/step - loss: 0.7330 - categorical_accuracy: 0.8514 - val_loss: 0.7203 - val_categorical_accuracy: 0.8572\n",
      "Epoch 153/200\n",
      "21964/21964 [==============================] - 1s 33us/step - loss: 0.7305 - categorical_accuracy: 0.8521 - val_loss: 0.7191 - val_categorical_accuracy: 0.8559\n",
      "Epoch 154/200\n",
      "21964/21964 [==============================] - 1s 25us/step - loss: 0.7280 - categorical_accuracy: 0.8529 - val_loss: 0.7160 - val_categorical_accuracy: 0.8587\n",
      "Epoch 155/200\n",
      "21964/21964 [==============================] - 1s 27us/step - loss: 0.7261 - categorical_accuracy: 0.8538 - val_loss: 0.7138 - val_categorical_accuracy: 0.8563\n",
      "Epoch 156/200\n",
      "21964/21964 [==============================] - 1s 27us/step - loss: 0.7235 - categorical_accuracy: 0.8543 - val_loss: 0.7132 - val_categorical_accuracy: 0.8534\n",
      "Epoch 157/200\n",
      "21964/21964 [==============================] - 1s 29us/step - loss: 0.7213 - categorical_accuracy: 0.8527 - val_loss: 0.7106 - val_categorical_accuracy: 0.8567\n",
      "Epoch 158/200\n",
      "21964/21964 [==============================] - 1s 28us/step - loss: 0.7190 - categorical_accuracy: 0.8549 - val_loss: 0.7076 - val_categorical_accuracy: 0.8567\n",
      "Epoch 159/200\n",
      "21964/21964 [==============================] - 1s 28us/step - loss: 0.7168 - categorical_accuracy: 0.8553 - val_loss: 0.7059 - val_categorical_accuracy: 0.8600\n",
      "Epoch 160/200\n",
      "21964/21964 [==============================] - 1s 28us/step - loss: 0.7146 - categorical_accuracy: 0.8558 - val_loss: 0.7048 - val_categorical_accuracy: 0.8581\n",
      "Epoch 161/200\n",
      "21964/21964 [==============================] - 1s 26us/step - loss: 0.7125 - categorical_accuracy: 0.8568 - val_loss: 0.7021 - val_categorical_accuracy: 0.8627\n",
      "Epoch 162/200\n",
      "21964/21964 [==============================] - 1s 29us/step - loss: 0.7103 - categorical_accuracy: 0.8565 - val_loss: 0.6988 - val_categorical_accuracy: 0.8625\n",
      "Epoch 163/200\n",
      "21964/21964 [==============================] - 1s 28us/step - loss: 0.7078 - categorical_accuracy: 0.8583 - val_loss: 0.6971 - val_categorical_accuracy: 0.8618\n",
      "Epoch 164/200\n",
      "21964/21964 [==============================] - 1s 30us/step - loss: 0.7059 - categorical_accuracy: 0.8582 - val_loss: 0.6946 - val_categorical_accuracy: 0.8598\n",
      "Epoch 165/200\n",
      "21964/21964 [==============================] - 1s 27us/step - loss: 0.7038 - categorical_accuracy: 0.8587 - val_loss: 0.6917 - val_categorical_accuracy: 0.8645\n",
      "Epoch 166/200\n",
      "21964/21964 [==============================] - 1s 25us/step - loss: 0.7013 - categorical_accuracy: 0.8583 - val_loss: 0.6934 - val_categorical_accuracy: 0.8603\n",
      "Epoch 167/200\n",
      "21964/21964 [==============================] - 1s 29us/step - loss: 0.6997 - categorical_accuracy: 0.8604 - val_loss: 0.6895 - val_categorical_accuracy: 0.8665\n",
      "Epoch 168/200\n",
      "21964/21964 [==============================] - 1s 28us/step - loss: 0.6977 - categorical_accuracy: 0.8604 - val_loss: 0.6864 - val_categorical_accuracy: 0.8658\n",
      "Epoch 169/200\n",
      "21964/21964 [==============================] - 1s 28us/step - loss: 0.6952 - categorical_accuracy: 0.8616 - val_loss: 0.6853 - val_categorical_accuracy: 0.8652\n",
      "Epoch 170/200\n",
      "21964/21964 [==============================] - 1s 29us/step - loss: 0.6933 - categorical_accuracy: 0.8605 - val_loss: 0.6816 - val_categorical_accuracy: 0.8667\n",
      "Epoch 171/200\n",
      "21964/21964 [==============================] - 1s 28us/step - loss: 0.6914 - categorical_accuracy: 0.8614 - val_loss: 0.6806 - val_categorical_accuracy: 0.8674\n",
      "Epoch 172/200\n",
      "21964/21964 [==============================] - 1s 28us/step - loss: 0.6890 - categorical_accuracy: 0.8620 - val_loss: 0.6795 - val_categorical_accuracy: 0.8645\n",
      "Epoch 173/200\n",
      "21964/21964 [==============================] - 1s 28us/step - loss: 0.6872 - categorical_accuracy: 0.8637 - val_loss: 0.6771 - val_categorical_accuracy: 0.8692\n",
      "Epoch 174/200\n",
      "21964/21964 [==============================] - 1s 28us/step - loss: 0.6852 - categorical_accuracy: 0.8630 - val_loss: 0.6745 - val_categorical_accuracy: 0.8681\n",
      "Epoch 175/200\n",
      "21964/21964 [==============================] - 1s 25us/step - loss: 0.6831 - categorical_accuracy: 0.8650 - val_loss: 0.6751 - val_categorical_accuracy: 0.8658\n",
      "Epoch 176/200\n",
      "21964/21964 [==============================] - 1s 27us/step - loss: 0.6810 - categorical_accuracy: 0.8647 - val_loss: 0.6711 - val_categorical_accuracy: 0.8709\n",
      "Epoch 177/200\n",
      "21964/21964 [==============================] - 1s 29us/step - loss: 0.6792 - categorical_accuracy: 0.8653 - val_loss: 0.6702 - val_categorical_accuracy: 0.8691\n",
      "Epoch 178/200\n",
      "21964/21964 [==============================] - 1s 26us/step - loss: 0.6775 - categorical_accuracy: 0.8660 - val_loss: 0.6673 - val_categorical_accuracy: 0.8703\n",
      "Epoch 179/200\n",
      "21964/21964 [==============================] - 1s 29us/step - loss: 0.6756 - categorical_accuracy: 0.8660 - val_loss: 0.6666 - val_categorical_accuracy: 0.8716\n",
      "Epoch 180/200\n",
      "21964/21964 [==============================] - 1s 31us/step - loss: 0.6736 - categorical_accuracy: 0.8661 - val_loss: 0.6660 - val_categorical_accuracy: 0.8643\n",
      "Epoch 181/200\n",
      "21964/21964 [==============================] - 1s 28us/step - loss: 0.6717 - categorical_accuracy: 0.8668 - val_loss: 0.6617 - val_categorical_accuracy: 0.8718\n",
      "Epoch 182/200\n",
      "21964/21964 [==============================] - 1s 27us/step - loss: 0.6699 - categorical_accuracy: 0.8685 - val_loss: 0.6586 - val_categorical_accuracy: 0.8720\n",
      "Epoch 183/200\n",
      "21964/21964 [==============================] - 1s 30us/step - loss: 0.6676 - categorical_accuracy: 0.8686 - val_loss: 0.6597 - val_categorical_accuracy: 0.8740\n",
      "Epoch 184/200\n",
      "21964/21964 [==============================] - 1s 28us/step - loss: 0.6661 - categorical_accuracy: 0.8673 - val_loss: 0.6585 - val_categorical_accuracy: 0.8685\n",
      "Epoch 185/200\n",
      "21964/21964 [==============================] - 1s 29us/step - loss: 0.6644 - categorical_accuracy: 0.8683 - val_loss: 0.6537 - val_categorical_accuracy: 0.8745\n",
      "Epoch 186/200\n",
      "21964/21964 [==============================] - 1s 27us/step - loss: 0.6625 - categorical_accuracy: 0.8697 - val_loss: 0.6522 - val_categorical_accuracy: 0.8762\n",
      "Epoch 187/200\n",
      "21964/21964 [==============================] - 1s 26us/step - loss: 0.6608 - categorical_accuracy: 0.8702 - val_loss: 0.6511 - val_categorical_accuracy: 0.8718\n",
      "Epoch 188/200\n",
      "21964/21964 [==============================] - 1s 28us/step - loss: 0.6589 - categorical_accuracy: 0.8704 - val_loss: 0.6497 - val_categorical_accuracy: 0.8747\n",
      "Epoch 189/200\n",
      "21964/21964 [==============================] - 1s 28us/step - loss: 0.6570 - categorical_accuracy: 0.8724 - val_loss: 0.6478 - val_categorical_accuracy: 0.8729\n",
      "Epoch 190/200\n",
      "21964/21964 [==============================] - 1s 27us/step - loss: 0.6551 - categorical_accuracy: 0.8723 - val_loss: 0.6479 - val_categorical_accuracy: 0.8729\n",
      "Epoch 191/200\n",
      "21964/21964 [==============================] - 1s 26us/step - loss: 0.6534 - categorical_accuracy: 0.8722 - val_loss: 0.6440 - val_categorical_accuracy: 0.8736\n",
      "Epoch 192/200\n",
      "21964/21964 [==============================] - 1s 30us/step - loss: 0.6516 - categorical_accuracy: 0.8723 - val_loss: 0.6420 - val_categorical_accuracy: 0.8734\n",
      "Epoch 193/200\n",
      "21964/21964 [==============================] - 1s 31us/step - loss: 0.6499 - categorical_accuracy: 0.8736 - val_loss: 0.6418 - val_categorical_accuracy: 0.8714\n",
      "Epoch 194/200\n",
      "21964/21964 [==============================] - 1s 28us/step - loss: 0.6482 - categorical_accuracy: 0.8717 - val_loss: 0.6377 - val_categorical_accuracy: 0.8765\n",
      "Epoch 195/200\n",
      "21964/21964 [==============================] - 1s 27us/step - loss: 0.6462 - categorical_accuracy: 0.8736 - val_loss: 0.6380 - val_categorical_accuracy: 0.8776\n",
      "Epoch 196/200\n",
      "21964/21964 [==============================] - 1s 27us/step - loss: 0.6447 - categorical_accuracy: 0.8739 - val_loss: 0.6353 - val_categorical_accuracy: 0.8780\n",
      "Epoch 197/200\n",
      "21964/21964 [==============================] - 1s 26us/step - loss: 0.6429 - categorical_accuracy: 0.8737 - val_loss: 0.6328 - val_categorical_accuracy: 0.8805\n",
      "Epoch 198/200\n",
      "21964/21964 [==============================] - 1s 28us/step - loss: 0.6411 - categorical_accuracy: 0.8755 - val_loss: 0.6331 - val_categorical_accuracy: 0.8778\n",
      "Epoch 199/200\n",
      "21964/21964 [==============================] - 1s 28us/step - loss: 0.6396 - categorical_accuracy: 0.8742 - val_loss: 0.6305 - val_categorical_accuracy: 0.8783\n",
      "Epoch 200/200\n",
      "21964/21964 [==============================] - 1s 28us/step - loss: 0.6380 - categorical_accuracy: 0.8745 - val_loss: 0.6295 - val_categorical_accuracy: 0.8787\n"
     ]
    }
   ],
   "source": [
    "hist_model_base = model_base.fit(train_x, train_y, batch_size=128, epochs=200, validation_split=0.2)"
   ]
  },
  {
   "cell_type": "code",
   "execution_count": 21,
   "metadata": {
    "colab": {
     "base_uri": "https://localhost:8080/",
     "height": 311
    },
    "colab_type": "code",
    "id": "X9jXhhQ32LTR",
    "outputId": "3bd172d5-e56f-43e6-d478-0244c31eabf8"
   },
   "outputs": [
    {
     "data": {
      "text/plain": [
       "<matplotlib.legend.Legend at 0x7f6ea60b00f0>"
      ]
     },
     "execution_count": 21,
     "metadata": {
      "tags": []
     },
     "output_type": "execute_result"
    },
    {
     "data": {
      "image/png": "[encoded data removed]",
      "text/plain": [
       "<Figure size 432x288 with 1 Axes>"
      ]
     },
     "metadata": {
      "tags": []
     },
     "output_type": "display_data"
    }
   ],
   "source": [
    "plt.plot(hist_model_base.history['categorical_accuracy'], label=\"Train\")\n",
    "plt.plot(hist_model_base.history['val_categorical_accuracy'], label=\"Val\")\n",
    "plt.title('Model accuracy')\n",
    "plt.ylabel('Accuracy')\n",
    "plt.xlabel('Epoch')\n",
    "plt.legend()"
   ]
  },
  {
   "cell_type": "code",
   "execution_count": 22,
   "metadata": {
    "colab": {
     "base_uri": "https://localhost:8080/",
     "height": 311
    },
    "colab_type": "code",
    "id": "w-4r0qPY2LXm",
    "outputId": "310daa02-fb44-4623-8f42-0cdb7d36cee4"
   },
   "outputs": [
    {
     "data": {
      "text/plain": [
       "<matplotlib.legend.Legend at 0x7f6ea602be80>"
      ]
     },
     "execution_count": 22,
     "metadata": {
      "tags": []
     },
     "output_type": "execute_result"
    },
    {
     "data": {
      "image/png": "[encoded data removed]",
      "text/plain": [
       "<Figure size 432x288 with 1 Axes>"
      ]
     },
     "metadata": {
      "tags": []
     },
     "output_type": "display_data"
    }
   ],
   "source": [
    "plt.plot(hist_model_base.history['loss'], label=\"Train\")\n",
    "plt.plot(hist_model_base.history['val_loss'], label=\"val\")\n",
    "plt.title('Model loss')\n",
    "plt.ylabel('Loss')\n",
    "plt.xlabel('Epoch')\n",
    "plt.legend()"
   ]
  },
  {
   "cell_type": "code",
   "execution_count": 23,
   "metadata": {
    "colab": {
     "base_uri": "https://localhost:8080/",
     "height": 66
    },
    "colab_type": "code",
    "id": "K9uVcNjG2LcC",
    "outputId": "a58d2ee6-041b-40a4-d89b-2580d138fb5d"
   },
   "outputs": [
    {
     "name": "stdout",
     "output_type": "stream",
     "text": [
      "7172/7172 [==============================] - 0s 43us/step\n",
      "test_loss:1.0939097605267518\n",
      "test_acc: 0.6767986614612381\n"
     ]
    }
   ],
   "source": [
    "test_loss, test_acc = model_base.evaluate(test_x, test_y)\n",
    "print(\"test_loss:{}\".format(test_loss))\n",
    "print(\"test_acc: {}\".format(test_acc))"
   ]
  },
  {
   "cell_type": "code",
   "execution_count": 0,
   "metadata": {
    "colab": {},
    "colab_type": "code",
    "id": "0r6CzbYqWzC_"
   },
   "outputs": [],
   "source": []
  },
  {
   "cell_type": "markdown",
   "metadata": {
    "colab_type": "text",
    "id": "LJDLYUfPS4L-"
   },
   "source": [
    "**Experiments**: batch size \n",
    "\n",
    "We use the same model to train the above model with different batch sizes. We use SGD for the optimizer. "
   ]
  },
  {
   "cell_type": "code",
   "execution_count": 0,
   "metadata": {
    "colab": {},
    "colab_type": "code",
    "id": "YPhhqsuiSyKL"
   },
   "outputs": [],
   "source": [
    "def fit_base_model(train_x, train_y, test_x, test_y, n_batch, opt):\n",
    "\n",
    "    ## create a model \n",
    "    model = Sequential() \n",
    "    model.add(Dense(25, input_shape=(784,))) \n",
    "    model.add(Activation('softmax')) \n",
    "\n",
    "    model.compile(loss='categorical_crossentropy', optimizer=opt(), metrics=['categorical_accuracy'])\n",
    "\n",
    "    # train the model \n",
    "    # \n",
    "    hist_model = model.fit(train_x, train_y, batch_size=n_batch, epochs=75, validation_split=0.2, verbose=1) \n",
    "\n",
    "    test_loss, test_acc = model.evaluate(test_x, test_y)\n",
    "    return hist_model, test_loss, test_acc "
   ]
  },
  {
   "cell_type": "code",
   "execution_count": 28,
   "metadata": {
    "colab": {
     "base_uri": "https://localhost:8080/",
     "height": 1000
    },
    "colab_type": "code",
    "id": "YfyybRT-Syfp",
    "outputId": "cc947840-2e46-4379-8264-e8edf94a9ea5"
   },
   "outputs": [
    {
     "name": "stdout",
     "output_type": "stream",
     "text": [
      "Train on 21964 samples, validate on 5491 samples\n",
      "Epoch 1/75\n",
      "21964/21964 [==============================] - 16s 726us/step - loss: 2.0729 - categorical_accuracy: 0.4064 - val_loss: 1.4481 - val_categorical_accuracy: 0.6205\n",
      "Epoch 2/75\n",
      "21964/21964 [==============================] - 16s 726us/step - loss: 1.3222 - categorical_accuracy: 0.6359 - val_loss: 1.1211 - val_categorical_accuracy: 0.7146\n",
      "Epoch 3/75\n",
      "21964/21964 [==============================] - 17s 764us/step - loss: 1.0688 - categorical_accuracy: 0.7114 - val_loss: 0.9313 - val_categorical_accuracy: 0.7638\n",
      "Epoch 4/75\n",
      "21964/21964 [==============================] - 16s 731us/step - loss: 0.9186 - categorical_accuracy: 0.7599 - val_loss: 0.8455 - val_categorical_accuracy: 0.7722\n",
      "Epoch 5/75\n",
      "21964/21964 [==============================] - 16s 727us/step - loss: 0.8171 - categorical_accuracy: 0.7919 - val_loss: 0.7964 - val_categorical_accuracy: 0.7751\n",
      "Epoch 6/75\n",
      "21964/21964 [==============================] - 16s 742us/step - loss: 0.7388 - categorical_accuracy: 0.8182 - val_loss: 0.6905 - val_categorical_accuracy: 0.8388\n",
      "Epoch 7/75\n",
      "21964/21964 [==============================] - 16s 732us/step - loss: 0.6764 - categorical_accuracy: 0.8365 - val_loss: 0.6381 - val_categorical_accuracy: 0.8492\n",
      "Epoch 8/75\n",
      "21964/21964 [==============================] - 16s 733us/step - loss: 0.6252 - categorical_accuracy: 0.8533 - val_loss: 0.5881 - val_categorical_accuracy: 0.8671\n",
      "Epoch 9/75\n",
      "21964/21964 [==============================] - 16s 735us/step - loss: 0.5814 - categorical_accuracy: 0.8660 - val_loss: 0.5841 - val_categorical_accuracy: 0.8492\n",
      "Epoch 10/75\n",
      "21964/21964 [==============================] - 16s 723us/step - loss: 0.5459 - categorical_accuracy: 0.8784 - val_loss: 0.4940 - val_categorical_accuracy: 0.9058\n",
      "Epoch 11/75\n",
      "21964/21964 [==============================] - 16s 748us/step - loss: 0.5121 - categorical_accuracy: 0.8854 - val_loss: 0.5030 - val_categorical_accuracy: 0.8763\n",
      "Epoch 12/75\n",
      "21964/21964 [==============================] - 16s 738us/step - loss: 0.4835 - categorical_accuracy: 0.8977 - val_loss: 0.4452 - val_categorical_accuracy: 0.9142\n",
      "Epoch 13/75\n",
      "21964/21964 [==============================] - 16s 734us/step - loss: 0.4584 - categorical_accuracy: 0.9063 - val_loss: 0.4393 - val_categorical_accuracy: 0.9086\n",
      "Epoch 14/75\n",
      "21964/21964 [==============================] - 17s 776us/step - loss: 0.4341 - categorical_accuracy: 0.9139 - val_loss: 0.4110 - val_categorical_accuracy: 0.9221\n",
      "Epoch 15/75\n",
      "21964/21964 [==============================] - 17s 766us/step - loss: 0.4126 - categorical_accuracy: 0.9180 - val_loss: 0.3922 - val_categorical_accuracy: 0.9297\n",
      "Epoch 16/75\n",
      "21964/21964 [==============================] - 16s 737us/step - loss: 0.3942 - categorical_accuracy: 0.9247 - val_loss: 0.3708 - val_categorical_accuracy: 0.9414\n",
      "Epoch 17/75\n",
      "21964/21964 [==============================] - 17s 758us/step - loss: 0.3764 - categorical_accuracy: 0.9303 - val_loss: 0.3561 - val_categorical_accuracy: 0.9350\n",
      "Epoch 18/75\n",
      "21964/21964 [==============================] - 17s 758us/step - loss: 0.3599 - categorical_accuracy: 0.9357 - val_loss: 0.3599 - val_categorical_accuracy: 0.9244\n",
      "Epoch 19/75\n",
      "21964/21964 [==============================] - 17s 762us/step - loss: 0.3456 - categorical_accuracy: 0.9405 - val_loss: 0.3294 - val_categorical_accuracy: 0.9397\n",
      "Epoch 20/75\n",
      "21964/21964 [==============================] - 16s 729us/step - loss: 0.3334 - categorical_accuracy: 0.9426 - val_loss: 0.3170 - val_categorical_accuracy: 0.9435\n",
      "Epoch 21/75\n",
      "21964/21964 [==============================] - 17s 758us/step - loss: 0.3189 - categorical_accuracy: 0.9459 - val_loss: 0.3234 - val_categorical_accuracy: 0.9383\n",
      "Epoch 22/75\n",
      "21964/21964 [==============================] - 17s 787us/step - loss: 0.3069 - categorical_accuracy: 0.9505 - val_loss: 0.2950 - val_categorical_accuracy: 0.9547\n",
      "Epoch 23/75\n",
      "21964/21964 [==============================] - 17s 780us/step - loss: 0.2963 - categorical_accuracy: 0.9522 - val_loss: 0.2878 - val_categorical_accuracy: 0.9557\n",
      "Epoch 24/75\n",
      "21964/21964 [==============================] - 17s 764us/step - loss: 0.2851 - categorical_accuracy: 0.9572 - val_loss: 0.2726 - val_categorical_accuracy: 0.9616\n",
      "Epoch 25/75\n",
      "21964/21964 [==============================] - 17s 755us/step - loss: 0.2749 - categorical_accuracy: 0.9614 - val_loss: 0.2611 - val_categorical_accuracy: 0.9623\n",
      "Epoch 26/75\n",
      "21964/21964 [==============================] - 15s 700us/step - loss: 0.2663 - categorical_accuracy: 0.9630 - val_loss: 0.2611 - val_categorical_accuracy: 0.9588\n",
      "Epoch 27/75\n",
      "21964/21964 [==============================] - 17s 783us/step - loss: 0.2569 - categorical_accuracy: 0.9654 - val_loss: 0.2467 - val_categorical_accuracy: 0.9690\n",
      "Epoch 28/75\n",
      "21964/21964 [==============================] - 17s 772us/step - loss: 0.2483 - categorical_accuracy: 0.9697 - val_loss: 0.2416 - val_categorical_accuracy: 0.9658\n",
      "Epoch 29/75\n",
      "21964/21964 [==============================] - 17s 790us/step - loss: 0.2413 - categorical_accuracy: 0.9705 - val_loss: 0.2338 - val_categorical_accuracy: 0.9730\n",
      "Epoch 30/75\n",
      "21964/21964 [==============================] - 17s 777us/step - loss: 0.2341 - categorical_accuracy: 0.9724 - val_loss: 0.2263 - val_categorical_accuracy: 0.9740\n",
      "Epoch 31/75\n",
      "21964/21964 [==============================] - 17s 758us/step - loss: 0.2267 - categorical_accuracy: 0.9753 - val_loss: 0.2196 - val_categorical_accuracy: 0.9763\n",
      "Epoch 32/75\n",
      "21964/21964 [==============================] - 18s 806us/step - loss: 0.2200 - categorical_accuracy: 0.9763 - val_loss: 0.2137 - val_categorical_accuracy: 0.9800\n",
      "Epoch 33/75\n",
      "21964/21964 [==============================] - 17s 761us/step - loss: 0.2149 - categorical_accuracy: 0.9766 - val_loss: 0.2119 - val_categorical_accuracy: 0.9789\n",
      "Epoch 34/75\n",
      "21964/21964 [==============================] - 17s 758us/step - loss: 0.2073 - categorical_accuracy: 0.9806 - val_loss: 0.1971 - val_categorical_accuracy: 0.9845\n",
      "Epoch 35/75\n",
      "21964/21964 [==============================] - 17s 757us/step - loss: 0.2019 - categorical_accuracy: 0.9803 - val_loss: 0.1981 - val_categorical_accuracy: 0.9811\n",
      "Epoch 36/75\n",
      "21964/21964 [==============================] - 17s 772us/step - loss: 0.1969 - categorical_accuracy: 0.9826 - val_loss: 0.1968 - val_categorical_accuracy: 0.9827\n",
      "Epoch 37/75\n",
      "21964/21964 [==============================] - 17s 761us/step - loss: 0.1928 - categorical_accuracy: 0.9825 - val_loss: 0.1835 - val_categorical_accuracy: 0.9860\n",
      "Epoch 38/75\n",
      "21964/21964 [==============================] - 16s 748us/step - loss: 0.1868 - categorical_accuracy: 0.9851 - val_loss: 0.1778 - val_categorical_accuracy: 0.9865\n",
      "Epoch 39/75\n",
      "21964/21964 [==============================] - 17s 789us/step - loss: 0.1825 - categorical_accuracy: 0.9850 - val_loss: 0.1784 - val_categorical_accuracy: 0.9862\n",
      "Epoch 40/75\n",
      "21964/21964 [==============================] - 17s 758us/step - loss: 0.1785 - categorical_accuracy: 0.9869 - val_loss: 0.1715 - val_categorical_accuracy: 0.9893\n",
      "Epoch 41/75\n",
      "21964/21964 [==============================] - 17s 768us/step - loss: 0.1743 - categorical_accuracy: 0.9876 - val_loss: 0.1677 - val_categorical_accuracy: 0.9885\n",
      "Epoch 42/75\n",
      "21964/21964 [==============================] - 16s 744us/step - loss: 0.1701 - categorical_accuracy: 0.9886 - val_loss: 0.1732 - val_categorical_accuracy: 0.9814\n",
      "Epoch 43/75\n",
      "21964/21964 [==============================] - 17s 777us/step - loss: 0.1660 - categorical_accuracy: 0.9898 - val_loss: 0.1679 - val_categorical_accuracy: 0.9865\n",
      "Epoch 44/75\n",
      "21964/21964 [==============================] - 17s 772us/step - loss: 0.1623 - categorical_accuracy: 0.9911 - val_loss: 0.1578 - val_categorical_accuracy: 0.9916\n",
      "Epoch 45/75\n",
      "21964/21964 [==============================] - 17s 753us/step - loss: 0.1585 - categorical_accuracy: 0.9908 - val_loss: 0.1538 - val_categorical_accuracy: 0.9909\n",
      "Epoch 46/75\n",
      "21964/21964 [==============================] - 16s 750us/step - loss: 0.1547 - categorical_accuracy: 0.9916 - val_loss: 0.1558 - val_categorical_accuracy: 0.9920\n",
      "Epoch 47/75\n",
      "21964/21964 [==============================] - 18s 799us/step - loss: 0.1515 - categorical_accuracy: 0.9929 - val_loss: 0.1596 - val_categorical_accuracy: 0.9852\n",
      "Epoch 48/75\n",
      "21964/21964 [==============================] - 17s 757us/step - loss: 0.1493 - categorical_accuracy: 0.9931 - val_loss: 0.1481 - val_categorical_accuracy: 0.9905\n",
      "Epoch 49/75\n",
      "21964/21964 [==============================] - 16s 747us/step - loss: 0.1456 - categorical_accuracy: 0.9936 - val_loss: 0.1491 - val_categorical_accuracy: 0.9929\n",
      "Epoch 50/75\n",
      "21964/21964 [==============================] - 18s 805us/step - loss: 0.1427 - categorical_accuracy: 0.9939 - val_loss: 0.1355 - val_categorical_accuracy: 0.9954\n",
      "Epoch 51/75\n",
      "21964/21964 [==============================] - 17s 754us/step - loss: 0.1398 - categorical_accuracy: 0.9945 - val_loss: 0.1374 - val_categorical_accuracy: 0.9945\n",
      "Epoch 52/75\n",
      "21964/21964 [==============================] - 16s 750us/step - loss: 0.1372 - categorical_accuracy: 0.9946 - val_loss: 0.1376 - val_categorical_accuracy: 0.9929\n",
      "Epoch 53/75\n",
      "21964/21964 [==============================] - 17s 760us/step - loss: 0.1344 - categorical_accuracy: 0.9958 - val_loss: 0.1357 - val_categorical_accuracy: 0.9953\n",
      "Epoch 54/75\n",
      "21964/21964 [==============================] - 17s 781us/step - loss: 0.1320 - categorical_accuracy: 0.9957 - val_loss: 0.1310 - val_categorical_accuracy: 0.9964\n",
      "Epoch 55/75\n",
      "21964/21964 [==============================] - 17s 756us/step - loss: 0.1298 - categorical_accuracy: 0.9961 - val_loss: 0.1276 - val_categorical_accuracy: 0.9964\n",
      "Epoch 56/75\n",
      "21964/21964 [==============================] - 17s 769us/step - loss: 0.1277 - categorical_accuracy: 0.9960 - val_loss: 0.1264 - val_categorical_accuracy: 0.9949\n",
      "Epoch 57/75\n",
      "21964/21964 [==============================] - 18s 807us/step - loss: 0.1250 - categorical_accuracy: 0.9964 - val_loss: 0.1291 - val_categorical_accuracy: 0.9954\n",
      "Epoch 58/75\n",
      "21964/21964 [==============================] - 18s 826us/step - loss: 0.1230 - categorical_accuracy: 0.9968 - val_loss: 0.1220 - val_categorical_accuracy: 0.9958\n",
      "Epoch 59/75\n",
      "21964/21964 [==============================] - 17s 766us/step - loss: 0.1209 - categorical_accuracy: 0.9967 - val_loss: 0.1203 - val_categorical_accuracy: 0.9967\n",
      "Epoch 60/75\n",
      "21964/21964 [==============================] - 17s 781us/step - loss: 0.1187 - categorical_accuracy: 0.9976 - val_loss: 0.1228 - val_categorical_accuracy: 0.9953\n",
      "Epoch 61/75\n",
      "21964/21964 [==============================] - 17s 783us/step - loss: 0.1167 - categorical_accuracy: 0.9971 - val_loss: 0.1185 - val_categorical_accuracy: 0.9962\n",
      "Epoch 62/75\n",
      "21964/21964 [==============================] - 17s 789us/step - loss: 0.1151 - categorical_accuracy: 0.9975 - val_loss: 0.1179 - val_categorical_accuracy: 0.9956\n",
      "Epoch 63/75\n",
      "21964/21964 [==============================] - 16s 750us/step - loss: 0.1132 - categorical_accuracy: 0.9971 - val_loss: 0.1123 - val_categorical_accuracy: 0.9976\n",
      "Epoch 64/75\n",
      "21964/21964 [==============================] - 17s 766us/step - loss: 0.1113 - categorical_accuracy: 0.9977 - val_loss: 0.1164 - val_categorical_accuracy: 0.9934\n",
      "Epoch 65/75\n",
      "21964/21964 [==============================] - 17s 783us/step - loss: 0.1094 - categorical_accuracy: 0.9974 - val_loss: 0.1074 - val_categorical_accuracy: 0.9982\n",
      "Epoch 66/75\n",
      "21964/21964 [==============================] - 16s 744us/step - loss: 0.1076 - categorical_accuracy: 0.9983 - val_loss: 0.1054 - val_categorical_accuracy: 0.9971\n",
      "Epoch 67/75\n",
      "21964/21964 [==============================] - 17s 776us/step - loss: 0.1062 - categorical_accuracy: 0.9983 - val_loss: 0.1101 - val_categorical_accuracy: 0.9958\n",
      "Epoch 68/75\n",
      "21964/21964 [==============================] - 17s 769us/step - loss: 0.1046 - categorical_accuracy: 0.9978 - val_loss: 0.1061 - val_categorical_accuracy: 0.9971\n",
      "Epoch 69/75\n",
      "21964/21964 [==============================] - 17s 759us/step - loss: 0.1031 - categorical_accuracy: 0.9985 - val_loss: 0.1037 - val_categorical_accuracy: 0.9976\n",
      "Epoch 70/75\n",
      "21964/21964 [==============================] - 16s 743us/step - loss: 0.1019 - categorical_accuracy: 0.9984 - val_loss: 0.1012 - val_categorical_accuracy: 0.9975\n",
      "Epoch 71/75\n",
      "21964/21964 [==============================] - 17s 766us/step - loss: 0.1001 - categorical_accuracy: 0.9983 - val_loss: 0.0993 - val_categorical_accuracy: 0.9975\n",
      "Epoch 72/75\n",
      "21964/21964 [==============================] - 17s 770us/step - loss: 0.0986 - categorical_accuracy: 0.9986 - val_loss: 0.0974 - val_categorical_accuracy: 0.9984\n",
      "Epoch 73/75\n",
      "21964/21964 [==============================] - 17s 753us/step - loss: 0.0974 - categorical_accuracy: 0.9984 - val_loss: 0.0966 - val_categorical_accuracy: 0.9987\n",
      "Epoch 74/75\n",
      "21964/21964 [==============================] - 17s 761us/step - loss: 0.0961 - categorical_accuracy: 0.9985 - val_loss: 0.0927 - val_categorical_accuracy: 0.9993\n",
      "Epoch 75/75\n",
      "21964/21964 [==============================] - 17s 780us/step - loss: 0.0948 - categorical_accuracy: 0.9984 - val_loss: 0.1010 - val_categorical_accuracy: 0.9945\n",
      "7172/7172 [==============================] - 0s 44us/step\n",
      "Train on 21964 samples, validate on 5491 samples\n",
      "Epoch 1/75\n",
      "21964/21964 [==============================] - 8s 379us/step - loss: 2.3584 - categorical_accuracy: 0.3465 - val_loss: 1.8333 - val_categorical_accuracy: 0.5289\n",
      "Epoch 2/75\n",
      "21964/21964 [==============================] - 8s 379us/step - loss: 1.6279 - categorical_accuracy: 0.5738 - val_loss: 1.4752 - val_categorical_accuracy: 0.6039\n",
      "Epoch 3/75\n",
      "21964/21964 [==============================] - 8s 382us/step - loss: 1.3492 - categorical_accuracy: 0.6543 - val_loss: 1.2319 - val_categorical_accuracy: 0.6913\n",
      "Epoch 4/75\n",
      "21964/21964 [==============================] - 8s 379us/step - loss: 1.1837 - categorical_accuracy: 0.7031 - val_loss: 1.0758 - val_categorical_accuracy: 0.7390\n",
      "Epoch 5/75\n",
      "21964/21964 [==============================] - 9s 388us/step - loss: 1.0666 - categorical_accuracy: 0.7390 - val_loss: 1.0135 - val_categorical_accuracy: 0.7465\n",
      "Epoch 6/75\n",
      "21964/21964 [==============================] - 9s 400us/step - loss: 0.9774 - categorical_accuracy: 0.7651 - val_loss: 0.9342 - val_categorical_accuracy: 0.7847\n",
      "Epoch 7/75\n",
      "21964/21964 [==============================] - 9s 412us/step - loss: 0.9085 - categorical_accuracy: 0.7849 - val_loss: 0.8584 - val_categorical_accuracy: 0.7906\n",
      "Epoch 8/75\n",
      "21964/21964 [==============================] - 9s 409us/step - loss: 0.8506 - categorical_accuracy: 0.8025 - val_loss: 0.8438 - val_categorical_accuracy: 0.7716\n",
      "Epoch 9/75\n",
      "21964/21964 [==============================] - 9s 399us/step - loss: 0.8012 - categorical_accuracy: 0.8182 - val_loss: 0.7953 - val_categorical_accuracy: 0.7898\n",
      "Epoch 10/75\n",
      "21964/21964 [==============================] - 9s 392us/step - loss: 0.7580 - categorical_accuracy: 0.8288 - val_loss: 0.7420 - val_categorical_accuracy: 0.8206\n",
      "Epoch 11/75\n",
      "21964/21964 [==============================] - 8s 381us/step - loss: 0.7224 - categorical_accuracy: 0.8407 - val_loss: 0.6987 - val_categorical_accuracy: 0.8552\n",
      "Epoch 12/75\n",
      "21964/21964 [==============================] - 8s 383us/step - loss: 0.6890 - categorical_accuracy: 0.8495 - val_loss: 0.6587 - val_categorical_accuracy: 0.8529\n",
      "Epoch 13/75\n",
      "21964/21964 [==============================] - 9s 388us/step - loss: 0.6586 - categorical_accuracy: 0.8609 - val_loss: 0.6512 - val_categorical_accuracy: 0.8612\n",
      "Epoch 14/75\n",
      "21964/21964 [==============================] - 9s 393us/step - loss: 0.6334 - categorical_accuracy: 0.8650 - val_loss: 0.6206 - val_categorical_accuracy: 0.8647\n",
      "Epoch 15/75\n",
      "21964/21964 [==============================] - 8s 368us/step - loss: 0.6091 - categorical_accuracy: 0.8729 - val_loss: 0.5900 - val_categorical_accuracy: 0.8798\n",
      "Epoch 16/75\n",
      "21964/21964 [==============================] - 9s 403us/step - loss: 0.5868 - categorical_accuracy: 0.8761 - val_loss: 0.5954 - val_categorical_accuracy: 0.8638\n",
      "Epoch 17/75\n",
      "21964/21964 [==============================] - 9s 410us/step - loss: 0.5662 - categorical_accuracy: 0.8834 - val_loss: 0.5457 - val_categorical_accuracy: 0.8858\n",
      "Epoch 18/75\n",
      "21964/21964 [==============================] - 8s 375us/step - loss: 0.5476 - categorical_accuracy: 0.8860 - val_loss: 0.5527 - val_categorical_accuracy: 0.8824\n",
      "Epoch 19/75\n",
      "21964/21964 [==============================] - 9s 401us/step - loss: 0.5306 - categorical_accuracy: 0.8935 - val_loss: 0.5177 - val_categorical_accuracy: 0.8933\n",
      "Epoch 20/75\n",
      "21964/21964 [==============================] - 8s 377us/step - loss: 0.5136 - categorical_accuracy: 0.8972 - val_loss: 0.5068 - val_categorical_accuracy: 0.8960\n",
      "Epoch 21/75\n",
      "21964/21964 [==============================] - 9s 391us/step - loss: 0.4984 - categorical_accuracy: 0.9033 - val_loss: 0.4975 - val_categorical_accuracy: 0.8977\n",
      "Epoch 22/75\n",
      "21964/21964 [==============================] - 9s 388us/step - loss: 0.4851 - categorical_accuracy: 0.9082 - val_loss: 0.4792 - val_categorical_accuracy: 0.8978\n",
      "Epoch 23/75\n",
      "21964/21964 [==============================] - 8s 383us/step - loss: 0.4707 - categorical_accuracy: 0.9115 - val_loss: 0.4727 - val_categorical_accuracy: 0.9051\n",
      "Epoch 24/75\n",
      "21964/21964 [==============================] - 8s 382us/step - loss: 0.4579 - categorical_accuracy: 0.9132 - val_loss: 0.4511 - val_categorical_accuracy: 0.9109\n",
      "Epoch 25/75\n",
      "21964/21964 [==============================] - 8s 374us/step - loss: 0.4454 - categorical_accuracy: 0.9173 - val_loss: 0.4305 - val_categorical_accuracy: 0.9255\n",
      "Epoch 26/75\n",
      "21964/21964 [==============================] - 9s 392us/step - loss: 0.4328 - categorical_accuracy: 0.9201 - val_loss: 0.4250 - val_categorical_accuracy: 0.9268\n",
      "Epoch 27/75\n",
      "21964/21964 [==============================] - 8s 383us/step - loss: 0.4227 - categorical_accuracy: 0.9235 - val_loss: 0.4089 - val_categorical_accuracy: 0.9284\n",
      "Epoch 28/75\n",
      "21964/21964 [==============================] - 9s 389us/step - loss: 0.4116 - categorical_accuracy: 0.9265 - val_loss: 0.3993 - val_categorical_accuracy: 0.9330\n",
      "Epoch 29/75\n",
      "21964/21964 [==============================] - 8s 371us/step - loss: 0.4018 - categorical_accuracy: 0.9313 - val_loss: 0.3946 - val_categorical_accuracy: 0.9321\n",
      "Epoch 30/75\n",
      "21964/21964 [==============================] - 9s 399us/step - loss: 0.3924 - categorical_accuracy: 0.9324 - val_loss: 0.3983 - val_categorical_accuracy: 0.9266\n",
      "Epoch 31/75\n",
      "21964/21964 [==============================] - 9s 393us/step - loss: 0.3834 - categorical_accuracy: 0.9359 - val_loss: 0.3798 - val_categorical_accuracy: 0.9361\n",
      "Epoch 32/75\n",
      "21964/21964 [==============================] - 9s 391us/step - loss: 0.3734 - categorical_accuracy: 0.9384 - val_loss: 0.3619 - val_categorical_accuracy: 0.9374\n",
      "Epoch 33/75\n",
      "21964/21964 [==============================] - 9s 392us/step - loss: 0.3660 - categorical_accuracy: 0.9393 - val_loss: 0.3690 - val_categorical_accuracy: 0.9319\n",
      "Epoch 34/75\n",
      "21964/21964 [==============================] - 9s 391us/step - loss: 0.3577 - categorical_accuracy: 0.9430 - val_loss: 0.3488 - val_categorical_accuracy: 0.9425\n",
      "Epoch 35/75\n",
      "21964/21964 [==============================] - 9s 391us/step - loss: 0.3502 - categorical_accuracy: 0.9465 - val_loss: 0.3610 - val_categorical_accuracy: 0.9348\n",
      "Epoch 36/75\n",
      "21964/21964 [==============================] - 9s 390us/step - loss: 0.3435 - categorical_accuracy: 0.9484 - val_loss: 0.3526 - val_categorical_accuracy: 0.9401\n",
      "Epoch 37/75\n",
      "21964/21964 [==============================] - 9s 390us/step - loss: 0.3362 - categorical_accuracy: 0.9491 - val_loss: 0.3308 - val_categorical_accuracy: 0.9494\n",
      "Epoch 38/75\n",
      "21964/21964 [==============================] - 8s 381us/step - loss: 0.3297 - categorical_accuracy: 0.9511 - val_loss: 0.3283 - val_categorical_accuracy: 0.9506\n",
      "Epoch 39/75\n",
      "21964/21964 [==============================] - 8s 366us/step - loss: 0.3229 - categorical_accuracy: 0.9534 - val_loss: 0.3197 - val_categorical_accuracy: 0.9490\n",
      "Epoch 40/75\n",
      "21964/21964 [==============================] - 8s 379us/step - loss: 0.3164 - categorical_accuracy: 0.9547 - val_loss: 0.3069 - val_categorical_accuracy: 0.9599\n",
      "Epoch 41/75\n",
      "21964/21964 [==============================] - 9s 401us/step - loss: 0.3100 - categorical_accuracy: 0.9563 - val_loss: 0.3126 - val_categorical_accuracy: 0.9506\n",
      "Epoch 42/75\n",
      "21964/21964 [==============================] - 8s 382us/step - loss: 0.3041 - categorical_accuracy: 0.9592 - val_loss: 0.3000 - val_categorical_accuracy: 0.9550\n",
      "Epoch 43/75\n",
      "21964/21964 [==============================] - 8s 376us/step - loss: 0.2994 - categorical_accuracy: 0.9597 - val_loss: 0.2905 - val_categorical_accuracy: 0.9632\n",
      "Epoch 44/75\n",
      "21964/21964 [==============================] - 9s 406us/step - loss: 0.2926 - categorical_accuracy: 0.9612 - val_loss: 0.2879 - val_categorical_accuracy: 0.9588\n",
      "Epoch 45/75\n",
      "21964/21964 [==============================] - 9s 417us/step - loss: 0.2881 - categorical_accuracy: 0.9624 - val_loss: 0.2872 - val_categorical_accuracy: 0.9557\n",
      "Epoch 46/75\n",
      "21964/21964 [==============================] - 9s 396us/step - loss: 0.2828 - categorical_accuracy: 0.9644 - val_loss: 0.2781 - val_categorical_accuracy: 0.9652\n",
      "Epoch 47/75\n",
      "21964/21964 [==============================] - 9s 399us/step - loss: 0.2768 - categorical_accuracy: 0.9654 - val_loss: 0.2873 - val_categorical_accuracy: 0.9541\n",
      "Epoch 48/75\n",
      "21964/21964 [==============================] - 8s 376us/step - loss: 0.2730 - categorical_accuracy: 0.9665 - val_loss: 0.2727 - val_categorical_accuracy: 0.9634\n",
      "Epoch 49/75\n",
      "21964/21964 [==============================] - 9s 398us/step - loss: 0.2683 - categorical_accuracy: 0.9689 - val_loss: 0.2727 - val_categorical_accuracy: 0.9601\n",
      "Epoch 50/75\n",
      "21964/21964 [==============================] - 9s 388us/step - loss: 0.2634 - categorical_accuracy: 0.9689 - val_loss: 0.2593 - val_categorical_accuracy: 0.9674\n",
      "Epoch 51/75\n",
      "21964/21964 [==============================] - 8s 387us/step - loss: 0.2593 - categorical_accuracy: 0.9701 - val_loss: 0.2594 - val_categorical_accuracy: 0.9683\n",
      "Epoch 52/75\n",
      "21964/21964 [==============================] - 8s 380us/step - loss: 0.2549 - categorical_accuracy: 0.9708 - val_loss: 0.2525 - val_categorical_accuracy: 0.9690\n",
      "Epoch 53/75\n",
      "21964/21964 [==============================] - 9s 412us/step - loss: 0.2506 - categorical_accuracy: 0.9715 - val_loss: 0.2478 - val_categorical_accuracy: 0.9703\n",
      "Epoch 54/75\n",
      "21964/21964 [==============================] - 9s 415us/step - loss: 0.2466 - categorical_accuracy: 0.9748 - val_loss: 0.2435 - val_categorical_accuracy: 0.9720\n",
      "Epoch 55/75\n",
      "21964/21964 [==============================] - 8s 378us/step - loss: 0.2436 - categorical_accuracy: 0.9730 - val_loss: 0.2387 - val_categorical_accuracy: 0.9756\n",
      "Epoch 56/75\n",
      "21964/21964 [==============================] - 9s 392us/step - loss: 0.2388 - categorical_accuracy: 0.9741 - val_loss: 0.2349 - val_categorical_accuracy: 0.9774\n",
      "Epoch 57/75\n",
      "21964/21964 [==============================] - 9s 406us/step - loss: 0.2356 - categorical_accuracy: 0.9763 - val_loss: 0.2314 - val_categorical_accuracy: 0.9778\n",
      "Epoch 58/75\n",
      "21964/21964 [==============================] - 9s 392us/step - loss: 0.2312 - categorical_accuracy: 0.9761 - val_loss: 0.2363 - val_categorical_accuracy: 0.9701\n",
      "Epoch 59/75\n",
      "21964/21964 [==============================] - 8s 379us/step - loss: 0.2287 - categorical_accuracy: 0.9781 - val_loss: 0.2271 - val_categorical_accuracy: 0.9769\n",
      "Epoch 60/75\n",
      "21964/21964 [==============================] - 9s 388us/step - loss: 0.2252 - categorical_accuracy: 0.9783 - val_loss: 0.2264 - val_categorical_accuracy: 0.9736\n",
      "Epoch 61/75\n",
      "21964/21964 [==============================] - 8s 375us/step - loss: 0.2218 - categorical_accuracy: 0.9804 - val_loss: 0.2197 - val_categorical_accuracy: 0.9761\n",
      "Epoch 62/75\n",
      "21964/21964 [==============================] - 8s 377us/step - loss: 0.2182 - categorical_accuracy: 0.9806 - val_loss: 0.2152 - val_categorical_accuracy: 0.9832\n",
      "Epoch 63/75\n",
      "21964/21964 [==============================] - 9s 392us/step - loss: 0.2156 - categorical_accuracy: 0.9812 - val_loss: 0.2158 - val_categorical_accuracy: 0.9791\n",
      "Epoch 64/75\n",
      "21964/21964 [==============================] - 8s 385us/step - loss: 0.2121 - categorical_accuracy: 0.9811 - val_loss: 0.2055 - val_categorical_accuracy: 0.9831\n",
      "Epoch 65/75\n",
      "21964/21964 [==============================] - 9s 393us/step - loss: 0.2092 - categorical_accuracy: 0.9830 - val_loss: 0.2093 - val_categorical_accuracy: 0.9825\n",
      "Epoch 66/75\n",
      "21964/21964 [==============================] - 8s 384us/step - loss: 0.2061 - categorical_accuracy: 0.9840 - val_loss: 0.2034 - val_categorical_accuracy: 0.9827\n",
      "Epoch 67/75\n",
      "21964/21964 [==============================] - 9s 392us/step - loss: 0.2039 - categorical_accuracy: 0.9840 - val_loss: 0.2052 - val_categorical_accuracy: 0.9851\n",
      "Epoch 68/75\n",
      "21964/21964 [==============================] - 9s 389us/step - loss: 0.2008 - categorical_accuracy: 0.9852 - val_loss: 0.2027 - val_categorical_accuracy: 0.9854\n",
      "Epoch 69/75\n",
      "21964/21964 [==============================] - 9s 399us/step - loss: 0.1984 - categorical_accuracy: 0.9845 - val_loss: 0.2013 - val_categorical_accuracy: 0.9845\n",
      "Epoch 70/75\n",
      "21964/21964 [==============================] - 8s 379us/step - loss: 0.1962 - categorical_accuracy: 0.9857 - val_loss: 0.1966 - val_categorical_accuracy: 0.9829\n",
      "Epoch 71/75\n",
      "21964/21964 [==============================] - 8s 375us/step - loss: 0.1933 - categorical_accuracy: 0.9866 - val_loss: 0.1899 - val_categorical_accuracy: 0.9891\n",
      "Epoch 72/75\n",
      "21964/21964 [==============================] - 8s 382us/step - loss: 0.1908 - categorical_accuracy: 0.9873 - val_loss: 0.1850 - val_categorical_accuracy: 0.9898\n",
      "Epoch 73/75\n",
      "21964/21964 [==============================] - 9s 397us/step - loss: 0.1882 - categorical_accuracy: 0.9876 - val_loss: 0.1898 - val_categorical_accuracy: 0.9860\n",
      "Epoch 74/75\n",
      "21964/21964 [==============================] - 8s 381us/step - loss: 0.1858 - categorical_accuracy: 0.9885 - val_loss: 0.1816 - val_categorical_accuracy: 0.9900\n",
      "Epoch 75/75\n",
      "21964/21964 [==============================] - 9s 390us/step - loss: 0.1835 - categorical_accuracy: 0.9892 - val_loss: 0.1971 - val_categorical_accuracy: 0.9756\n",
      "7172/7172 [==============================] - 0s 41us/step\n",
      "Train on 21964 samples, validate on 5491 samples\n",
      "Epoch 1/75\n",
      "21964/21964 [==============================] - 4s 202us/step - loss: 2.6107 - categorical_accuracy: 0.2899 - val_loss: 2.1545 - val_categorical_accuracy: 0.4700\n",
      "Epoch 2/75\n",
      "21964/21964 [==============================] - 4s 195us/step - loss: 1.9764 - categorical_accuracy: 0.5113 - val_loss: 1.7651 - val_categorical_accuracy: 0.5591\n",
      "Epoch 3/75\n",
      "21964/21964 [==============================] - 5s 206us/step - loss: 1.6811 - categorical_accuracy: 0.5947 - val_loss: 1.5435 - val_categorical_accuracy: 0.6336\n",
      "Epoch 4/75\n",
      "21964/21964 [==============================] - 4s 203us/step - loss: 1.4978 - categorical_accuracy: 0.6418 - val_loss: 1.4074 - val_categorical_accuracy: 0.6820\n",
      "Epoch 5/75\n",
      "21964/21964 [==============================] - 4s 191us/step - loss: 1.3665 - categorical_accuracy: 0.6751 - val_loss: 1.2918 - val_categorical_accuracy: 0.7013\n",
      "Epoch 6/75\n",
      "21964/21964 [==============================] - 5s 212us/step - loss: 1.2695 - categorical_accuracy: 0.7017 - val_loss: 1.2064 - val_categorical_accuracy: 0.7148\n",
      "Epoch 7/75\n",
      "21964/21964 [==============================] - 4s 198us/step - loss: 1.1900 - categorical_accuracy: 0.7184 - val_loss: 1.1281 - val_categorical_accuracy: 0.7527\n",
      "Epoch 8/75\n",
      "21964/21964 [==============================] - 4s 193us/step - loss: 1.1246 - categorical_accuracy: 0.7377 - val_loss: 1.0804 - val_categorical_accuracy: 0.7427\n",
      "Epoch 9/75\n",
      "21964/21964 [==============================] - 4s 194us/step - loss: 1.0670 - categorical_accuracy: 0.7528 - val_loss: 1.0327 - val_categorical_accuracy: 0.7452\n",
      "Epoch 10/75\n",
      "21964/21964 [==============================] - 4s 203us/step - loss: 1.0197 - categorical_accuracy: 0.7651 - val_loss: 0.9774 - val_categorical_accuracy: 0.7833\n",
      "Epoch 11/75\n",
      "21964/21964 [==============================] - 4s 194us/step - loss: 0.9773 - categorical_accuracy: 0.7755 - val_loss: 0.9506 - val_categorical_accuracy: 0.7598\n",
      "Epoch 12/75\n",
      "21964/21964 [==============================] - 4s 196us/step - loss: 0.9394 - categorical_accuracy: 0.7892 - val_loss: 0.9162 - val_categorical_accuracy: 0.7846\n",
      "Epoch 13/75\n",
      "21964/21964 [==============================] - 4s 203us/step - loss: 0.9057 - categorical_accuracy: 0.7973 - val_loss: 0.8683 - val_categorical_accuracy: 0.8022\n",
      "Epoch 14/75\n",
      "21964/21964 [==============================] - 4s 204us/step - loss: 0.8749 - categorical_accuracy: 0.8064 - val_loss: 0.8407 - val_categorical_accuracy: 0.8126\n",
      "Epoch 15/75\n",
      "21964/21964 [==============================] - 4s 202us/step - loss: 0.8467 - categorical_accuracy: 0.8117 - val_loss: 0.8267 - val_categorical_accuracy: 0.8022\n",
      "Epoch 16/75\n",
      "21964/21964 [==============================] - 4s 198us/step - loss: 0.8210 - categorical_accuracy: 0.8200 - val_loss: 0.8036 - val_categorical_accuracy: 0.8184\n",
      "Epoch 17/75\n",
      "21964/21964 [==============================] - 5s 207us/step - loss: 0.7975 - categorical_accuracy: 0.8290 - val_loss: 0.7830 - val_categorical_accuracy: 0.8104\n",
      "Epoch 18/75\n",
      "21964/21964 [==============================] - 4s 191us/step - loss: 0.7747 - categorical_accuracy: 0.8305 - val_loss: 0.7503 - val_categorical_accuracy: 0.8355\n",
      "Epoch 19/75\n",
      "21964/21964 [==============================] - 4s 202us/step - loss: 0.7548 - categorical_accuracy: 0.8361 - val_loss: 0.7314 - val_categorical_accuracy: 0.8399\n",
      "Epoch 20/75\n",
      "21964/21964 [==============================] - 4s 201us/step - loss: 0.7351 - categorical_accuracy: 0.8449 - val_loss: 0.7208 - val_categorical_accuracy: 0.8408\n",
      "Epoch 21/75\n",
      "21964/21964 [==============================] - 5s 209us/step - loss: 0.7172 - categorical_accuracy: 0.8478 - val_loss: 0.6908 - val_categorical_accuracy: 0.8596\n",
      "Epoch 22/75\n",
      "21964/21964 [==============================] - 4s 188us/step - loss: 0.7008 - categorical_accuracy: 0.8516 - val_loss: 0.6846 - val_categorical_accuracy: 0.8554\n",
      "Epoch 23/75\n",
      "21964/21964 [==============================] - 4s 203us/step - loss: 0.6856 - categorical_accuracy: 0.8568 - val_loss: 0.6728 - val_categorical_accuracy: 0.8569\n",
      "Epoch 24/75\n",
      "21964/21964 [==============================] - 4s 192us/step - loss: 0.6695 - categorical_accuracy: 0.8604 - val_loss: 0.6497 - val_categorical_accuracy: 0.8720\n",
      "Epoch 25/75\n",
      "21964/21964 [==============================] - 4s 200us/step - loss: 0.6553 - categorical_accuracy: 0.8650 - val_loss: 0.6395 - val_categorical_accuracy: 0.8658\n",
      "Epoch 26/75\n",
      "21964/21964 [==============================] - 4s 198us/step - loss: 0.6420 - categorical_accuracy: 0.8673 - val_loss: 0.6257 - val_categorical_accuracy: 0.8729\n",
      "Epoch 27/75\n",
      "21964/21964 [==============================] - 5s 210us/step - loss: 0.6287 - categorical_accuracy: 0.8707 - val_loss: 0.6237 - val_categorical_accuracy: 0.8681\n",
      "Epoch 28/75\n",
      "21964/21964 [==============================] - 5s 208us/step - loss: 0.6169 - categorical_accuracy: 0.8749 - val_loss: 0.6016 - val_categorical_accuracy: 0.8807\n",
      "Epoch 29/75\n",
      "21964/21964 [==============================] - 4s 204us/step - loss: 0.6045 - categorical_accuracy: 0.8773 - val_loss: 0.5902 - val_categorical_accuracy: 0.8769\n",
      "Epoch 30/75\n",
      "21964/21964 [==============================] - 4s 188us/step - loss: 0.5934 - categorical_accuracy: 0.8812 - val_loss: 0.5774 - val_categorical_accuracy: 0.8820\n",
      "Epoch 31/75\n",
      "21964/21964 [==============================] - 5s 208us/step - loss: 0.5832 - categorical_accuracy: 0.8827 - val_loss: 0.5718 - val_categorical_accuracy: 0.8791\n",
      "Epoch 32/75\n",
      "21964/21964 [==============================] - 4s 191us/step - loss: 0.5726 - categorical_accuracy: 0.8855 - val_loss: 0.5565 - val_categorical_accuracy: 0.8869\n",
      "Epoch 33/75\n",
      "21964/21964 [==============================] - 5s 208us/step - loss: 0.5628 - categorical_accuracy: 0.8880 - val_loss: 0.5495 - val_categorical_accuracy: 0.8834\n",
      "Epoch 34/75\n",
      "21964/21964 [==============================] - 4s 202us/step - loss: 0.5520 - categorical_accuracy: 0.8914 - val_loss: 0.5456 - val_categorical_accuracy: 0.8924\n",
      "Epoch 35/75\n",
      "21964/21964 [==============================] - 5s 210us/step - loss: 0.5439 - categorical_accuracy: 0.8932 - val_loss: 0.5313 - val_categorical_accuracy: 0.9007\n",
      "Epoch 36/75\n",
      "21964/21964 [==============================] - 4s 193us/step - loss: 0.5342 - categorical_accuracy: 0.8953 - val_loss: 0.5245 - val_categorical_accuracy: 0.8942\n",
      "Epoch 37/75\n",
      "21964/21964 [==============================] - 4s 199us/step - loss: 0.5258 - categorical_accuracy: 0.8970 - val_loss: 0.5173 - val_categorical_accuracy: 0.9007\n",
      "Epoch 38/75\n",
      "21964/21964 [==============================] - 4s 194us/step - loss: 0.5170 - categorical_accuracy: 0.9022 - val_loss: 0.5041 - val_categorical_accuracy: 0.9064\n",
      "Epoch 39/75\n",
      "21964/21964 [==============================] - 4s 197us/step - loss: 0.5092 - categorical_accuracy: 0.9032 - val_loss: 0.5067 - val_categorical_accuracy: 0.9011\n",
      "Epoch 40/75\n",
      "21964/21964 [==============================] - 4s 187us/step - loss: 0.5010 - categorical_accuracy: 0.9052 - val_loss: 0.4914 - val_categorical_accuracy: 0.9026\n",
      "Epoch 41/75\n",
      "21964/21964 [==============================] - 5s 208us/step - loss: 0.4933 - categorical_accuracy: 0.9079 - val_loss: 0.4832 - val_categorical_accuracy: 0.9126\n",
      "Epoch 42/75\n",
      "21964/21964 [==============================] - 4s 198us/step - loss: 0.4871 - categorical_accuracy: 0.9099 - val_loss: 0.4716 - val_categorical_accuracy: 0.9104\n",
      "Epoch 43/75\n",
      "21964/21964 [==============================] - 4s 195us/step - loss: 0.4789 - categorical_accuracy: 0.9118 - val_loss: 0.4682 - val_categorical_accuracy: 0.9184\n",
      "Epoch 44/75\n",
      "21964/21964 [==============================] - 4s 202us/step - loss: 0.4729 - categorical_accuracy: 0.9140 - val_loss: 0.4620 - val_categorical_accuracy: 0.9180\n",
      "Epoch 45/75\n",
      "21964/21964 [==============================] - 4s 191us/step - loss: 0.4665 - categorical_accuracy: 0.9158 - val_loss: 0.4631 - val_categorical_accuracy: 0.9148\n",
      "Epoch 46/75\n",
      "21964/21964 [==============================] - 4s 189us/step - loss: 0.4601 - categorical_accuracy: 0.9170 - val_loss: 0.4513 - val_categorical_accuracy: 0.9202\n",
      "Epoch 47/75\n",
      "21964/21964 [==============================] - 4s 203us/step - loss: 0.4530 - categorical_accuracy: 0.9189 - val_loss: 0.4503 - val_categorical_accuracy: 0.9190\n",
      "Epoch 48/75\n",
      "21964/21964 [==============================] - 4s 198us/step - loss: 0.4472 - categorical_accuracy: 0.9212 - val_loss: 0.4374 - val_categorical_accuracy: 0.9235\n",
      "Epoch 49/75\n",
      "21964/21964 [==============================] - 4s 178us/step - loss: 0.4412 - categorical_accuracy: 0.9226 - val_loss: 0.4408 - val_categorical_accuracy: 0.9162\n",
      "Epoch 50/75\n",
      "21964/21964 [==============================] - 4s 194us/step - loss: 0.4357 - categorical_accuracy: 0.9246 - val_loss: 0.4275 - val_categorical_accuracy: 0.9284\n",
      "Epoch 51/75\n",
      "21964/21964 [==============================] - 4s 189us/step - loss: 0.4290 - categorical_accuracy: 0.9258 - val_loss: 0.4223 - val_categorical_accuracy: 0.9264\n",
      "Epoch 52/75\n",
      "21964/21964 [==============================] - 4s 194us/step - loss: 0.4243 - categorical_accuracy: 0.9271 - val_loss: 0.4237 - val_categorical_accuracy: 0.9206\n",
      "Epoch 53/75\n",
      "21964/21964 [==============================] - 4s 194us/step - loss: 0.4189 - categorical_accuracy: 0.9285 - val_loss: 0.4145 - val_categorical_accuracy: 0.9312\n",
      "Epoch 54/75\n",
      "21964/21964 [==============================] - 4s 204us/step - loss: 0.4137 - categorical_accuracy: 0.9313 - val_loss: 0.4085 - val_categorical_accuracy: 0.9319\n",
      "Epoch 55/75\n",
      "21964/21964 [==============================] - 5s 214us/step - loss: 0.4080 - categorical_accuracy: 0.9320 - val_loss: 0.4045 - val_categorical_accuracy: 0.9323\n",
      "Epoch 56/75\n",
      "21964/21964 [==============================] - 5s 214us/step - loss: 0.4031 - categorical_accuracy: 0.9348 - val_loss: 0.3975 - val_categorical_accuracy: 0.9352\n",
      "Epoch 57/75\n",
      "21964/21964 [==============================] - 5s 209us/step - loss: 0.3980 - categorical_accuracy: 0.9365 - val_loss: 0.3979 - val_categorical_accuracy: 0.9390\n",
      "Epoch 58/75\n",
      "21964/21964 [==============================] - 5s 206us/step - loss: 0.3934 - categorical_accuracy: 0.9380 - val_loss: 0.3860 - val_categorical_accuracy: 0.9426\n",
      "Epoch 59/75\n",
      "21964/21964 [==============================] - 4s 202us/step - loss: 0.3893 - categorical_accuracy: 0.9377 - val_loss: 0.3804 - val_categorical_accuracy: 0.9370\n",
      "Epoch 60/75\n",
      "21964/21964 [==============================] - 4s 200us/step - loss: 0.3844 - categorical_accuracy: 0.9392 - val_loss: 0.3836 - val_categorical_accuracy: 0.9384\n",
      "Epoch 61/75\n",
      "21964/21964 [==============================] - 5s 220us/step - loss: 0.3801 - categorical_accuracy: 0.9410 - val_loss: 0.3753 - val_categorical_accuracy: 0.9410\n",
      "Epoch 62/75\n",
      "21964/21964 [==============================] - 5s 219us/step - loss: 0.3754 - categorical_accuracy: 0.9422 - val_loss: 0.3675 - val_categorical_accuracy: 0.9434\n",
      "Epoch 63/75\n",
      "21964/21964 [==============================] - 4s 191us/step - loss: 0.3718 - categorical_accuracy: 0.9418 - val_loss: 0.3670 - val_categorical_accuracy: 0.9428\n",
      "Epoch 64/75\n",
      "21964/21964 [==============================] - 4s 200us/step - loss: 0.3674 - categorical_accuracy: 0.9439 - val_loss: 0.3642 - val_categorical_accuracy: 0.9445\n",
      "Epoch 65/75\n",
      "21964/21964 [==============================] - 4s 193us/step - loss: 0.3632 - categorical_accuracy: 0.9460 - val_loss: 0.3542 - val_categorical_accuracy: 0.9468\n",
      "Epoch 66/75\n",
      "21964/21964 [==============================] - 4s 198us/step - loss: 0.3584 - categorical_accuracy: 0.9457 - val_loss: 0.3570 - val_categorical_accuracy: 0.9404\n",
      "Epoch 67/75\n",
      "21964/21964 [==============================] - 4s 197us/step - loss: 0.3554 - categorical_accuracy: 0.9472 - val_loss: 0.3503 - val_categorical_accuracy: 0.9457\n",
      "Epoch 68/75\n",
      "21964/21964 [==============================] - 4s 193us/step - loss: 0.3518 - categorical_accuracy: 0.9487 - val_loss: 0.3472 - val_categorical_accuracy: 0.9476\n",
      "Epoch 69/75\n",
      "21964/21964 [==============================] - 5s 213us/step - loss: 0.3470 - categorical_accuracy: 0.9497 - val_loss: 0.3432 - val_categorical_accuracy: 0.9506\n",
      "Epoch 70/75\n",
      "21964/21964 [==============================] - 4s 204us/step - loss: 0.3440 - categorical_accuracy: 0.9517 - val_loss: 0.3436 - val_categorical_accuracy: 0.9490\n",
      "Epoch 71/75\n",
      "21964/21964 [==============================] - 4s 188us/step - loss: 0.3402 - categorical_accuracy: 0.9520 - val_loss: 0.3377 - val_categorical_accuracy: 0.9481\n",
      "Epoch 72/75\n",
      "21964/21964 [==============================] - 5s 210us/step - loss: 0.3367 - categorical_accuracy: 0.9535 - val_loss: 0.3336 - val_categorical_accuracy: 0.9528\n",
      "Epoch 73/75\n",
      "21964/21964 [==============================] - 4s 189us/step - loss: 0.3330 - categorical_accuracy: 0.9539 - val_loss: 0.3338 - val_categorical_accuracy: 0.9466\n",
      "Epoch 74/75\n",
      "21964/21964 [==============================] - 5s 205us/step - loss: 0.3302 - categorical_accuracy: 0.9537 - val_loss: 0.3259 - val_categorical_accuracy: 0.9521\n",
      "Epoch 75/75\n",
      "21964/21964 [==============================] - 4s 200us/step - loss: 0.3259 - categorical_accuracy: 0.9565 - val_loss: 0.3290 - val_categorical_accuracy: 0.9521\n",
      "7172/7172 [==============================] - 0s 39us/step\n",
      "Train on 21964 samples, validate on 5491 samples\n",
      "Epoch 1/75\n",
      "21964/21964 [==============================] - 2s 104us/step - loss: 2.8418 - categorical_accuracy: 0.2271 - val_loss: 2.5238 - val_categorical_accuracy: 0.3732\n",
      "Epoch 2/75\n",
      "21964/21964 [==============================] - 2s 100us/step - loss: 2.3420 - categorical_accuracy: 0.4483 - val_loss: 2.1668 - val_categorical_accuracy: 0.4172\n",
      "Epoch 3/75\n",
      "21964/21964 [==============================] - 2s 97us/step - loss: 2.0510 - categorical_accuracy: 0.5267 - val_loss: 1.9110 - val_categorical_accuracy: 0.5678\n",
      "Epoch 4/75\n",
      "21964/21964 [==============================] - 2s 100us/step - loss: 1.8566 - categorical_accuracy: 0.5754 - val_loss: 1.7678 - val_categorical_accuracy: 0.5589\n",
      "Epoch 5/75\n",
      "21964/21964 [==============================] - 2s 99us/step - loss: 1.7151 - categorical_accuracy: 0.6128 - val_loss: 1.6366 - val_categorical_accuracy: 0.6177\n",
      "Epoch 6/75\n",
      "21964/21964 [==============================] - 2s 96us/step - loss: 1.6042 - categorical_accuracy: 0.6337 - val_loss: 1.5286 - val_categorical_accuracy: 0.6560\n",
      "Epoch 7/75\n",
      "21964/21964 [==============================] - 2s 99us/step - loss: 1.5148 - categorical_accuracy: 0.6564 - val_loss: 1.4641 - val_categorical_accuracy: 0.6336\n",
      "Epoch 8/75\n",
      "21964/21964 [==============================] - 2s 99us/step - loss: 1.4407 - categorical_accuracy: 0.6747 - val_loss: 1.3931 - val_categorical_accuracy: 0.6857\n",
      "Epoch 9/75\n",
      "21964/21964 [==============================] - 2s 96us/step - loss: 1.3769 - categorical_accuracy: 0.6869 - val_loss: 1.3379 - val_categorical_accuracy: 0.6948\n",
      "Epoch 10/75\n",
      "21964/21964 [==============================] - 2s 97us/step - loss: 1.3218 - categorical_accuracy: 0.7007 - val_loss: 1.2664 - val_categorical_accuracy: 0.7276\n",
      "Epoch 11/75\n",
      "21964/21964 [==============================] - 2s 97us/step - loss: 1.2732 - categorical_accuracy: 0.7118 - val_loss: 1.2310 - val_categorical_accuracy: 0.7028\n",
      "Epoch 12/75\n",
      "21964/21964 [==============================] - 2s 96us/step - loss: 1.2297 - categorical_accuracy: 0.7227 - val_loss: 1.1864 - val_categorical_accuracy: 0.7334\n",
      "Epoch 13/75\n",
      "21964/21964 [==============================] - 2s 101us/step - loss: 1.1913 - categorical_accuracy: 0.7320 - val_loss: 1.1535 - val_categorical_accuracy: 0.7323\n",
      "Epoch 14/75\n",
      "21964/21964 [==============================] - 3s 115us/step - loss: 1.1556 - categorical_accuracy: 0.7414 - val_loss: 1.1219 - val_categorical_accuracy: 0.7459\n",
      "Epoch 15/75\n",
      "21964/21964 [==============================] - 2s 104us/step - loss: 1.1231 - categorical_accuracy: 0.7500 - val_loss: 1.0904 - val_categorical_accuracy: 0.7589\n",
      "Epoch 16/75\n",
      "21964/21964 [==============================] - 2s 97us/step - loss: 1.0939 - categorical_accuracy: 0.7576 - val_loss: 1.0631 - val_categorical_accuracy: 0.7532\n",
      "Epoch 17/75\n",
      "21964/21964 [==============================] - 2s 100us/step - loss: 1.0665 - categorical_accuracy: 0.7615 - val_loss: 1.0442 - val_categorical_accuracy: 0.7494\n",
      "Epoch 18/75\n",
      "21964/21964 [==============================] - 2s 99us/step - loss: 1.0407 - categorical_accuracy: 0.7714 - val_loss: 1.0184 - val_categorical_accuracy: 0.7769\n",
      "Epoch 19/75\n",
      "21964/21964 [==============================] - 2s 96us/step - loss: 1.0177 - categorical_accuracy: 0.7785 - val_loss: 0.9932 - val_categorical_accuracy: 0.7802\n",
      "Epoch 20/75\n",
      "21964/21964 [==============================] - 2s 105us/step - loss: 0.9947 - categorical_accuracy: 0.7823 - val_loss: 0.9699 - val_categorical_accuracy: 0.7971\n",
      "Epoch 21/75\n",
      "21964/21964 [==============================] - 2s 101us/step - loss: 0.9740 - categorical_accuracy: 0.7894 - val_loss: 0.9489 - val_categorical_accuracy: 0.7920\n",
      "Epoch 22/75\n",
      "21964/21964 [==============================] - 2s 96us/step - loss: 0.9540 - categorical_accuracy: 0.7946 - val_loss: 0.9324 - val_categorical_accuracy: 0.7997\n",
      "Epoch 23/75\n",
      "21964/21964 [==============================] - 2s 98us/step - loss: 0.9357 - categorical_accuracy: 0.8004 - val_loss: 0.9086 - val_categorical_accuracy: 0.8104\n",
      "Epoch 24/75\n",
      "21964/21964 [==============================] - 2s 96us/step - loss: 0.9183 - categorical_accuracy: 0.8045 - val_loss: 0.8921 - val_categorical_accuracy: 0.8111\n",
      "Epoch 25/75\n",
      "21964/21964 [==============================] - 2s 106us/step - loss: 0.9012 - categorical_accuracy: 0.8075 - val_loss: 0.8851 - val_categorical_accuracy: 0.8002\n",
      "Epoch 26/75\n",
      "21964/21964 [==============================] - 2s 99us/step - loss: 0.8853 - categorical_accuracy: 0.8115 - val_loss: 0.8611 - val_categorical_accuracy: 0.8148\n",
      "Epoch 27/75\n",
      "21964/21964 [==============================] - 2s 103us/step - loss: 0.8697 - categorical_accuracy: 0.8163 - val_loss: 0.8499 - val_categorical_accuracy: 0.8162\n",
      "Epoch 28/75\n",
      "21964/21964 [==============================] - 2s 100us/step - loss: 0.8557 - categorical_accuracy: 0.8209 - val_loss: 0.8396 - val_categorical_accuracy: 0.8208\n",
      "Epoch 29/75\n",
      "21964/21964 [==============================] - 2s 100us/step - loss: 0.8414 - categorical_accuracy: 0.8248 - val_loss: 0.8270 - val_categorical_accuracy: 0.8233\n",
      "Epoch 30/75\n",
      "21964/21964 [==============================] - 2s 99us/step - loss: 0.8291 - categorical_accuracy: 0.8263 - val_loss: 0.8081 - val_categorical_accuracy: 0.8286\n",
      "Epoch 31/75\n",
      "21964/21964 [==============================] - 2s 103us/step - loss: 0.8159 - categorical_accuracy: 0.8283 - val_loss: 0.7961 - val_categorical_accuracy: 0.8303\n",
      "Epoch 32/75\n",
      "21964/21964 [==============================] - 2s 100us/step - loss: 0.8041 - categorical_accuracy: 0.8332 - val_loss: 0.7865 - val_categorical_accuracy: 0.8363\n",
      "Epoch 33/75\n",
      "21964/21964 [==============================] - 2s 93us/step - loss: 0.7922 - categorical_accuracy: 0.8345 - val_loss: 0.7857 - val_categorical_accuracy: 0.8221\n",
      "Epoch 34/75\n",
      "21964/21964 [==============================] - 2s 92us/step - loss: 0.7812 - categorical_accuracy: 0.8367 - val_loss: 0.7694 - val_categorical_accuracy: 0.8408\n",
      "Epoch 35/75\n",
      "21964/21964 [==============================] - 2s 100us/step - loss: 0.7701 - categorical_accuracy: 0.8410 - val_loss: 0.7537 - val_categorical_accuracy: 0.8463\n",
      "Epoch 36/75\n",
      "21964/21964 [==============================] - 2s 101us/step - loss: 0.7604 - categorical_accuracy: 0.8435 - val_loss: 0.7435 - val_categorical_accuracy: 0.8505\n",
      "Epoch 37/75\n",
      "21964/21964 [==============================] - 2s 99us/step - loss: 0.7496 - categorical_accuracy: 0.8462 - val_loss: 0.7336 - val_categorical_accuracy: 0.8478\n",
      "Epoch 38/75\n",
      "21964/21964 [==============================] - 2s 95us/step - loss: 0.7399 - categorical_accuracy: 0.8481 - val_loss: 0.7242 - val_categorical_accuracy: 0.8600\n",
      "Epoch 39/75\n",
      "21964/21964 [==============================] - 2s 101us/step - loss: 0.7304 - categorical_accuracy: 0.8511 - val_loss: 0.7188 - val_categorical_accuracy: 0.8492\n",
      "Epoch 40/75\n",
      "21964/21964 [==============================] - 2s 104us/step - loss: 0.7215 - categorical_accuracy: 0.8546 - val_loss: 0.7143 - val_categorical_accuracy: 0.8532\n",
      "Epoch 41/75\n",
      "21964/21964 [==============================] - 2s 112us/step - loss: 0.7130 - categorical_accuracy: 0.8564 - val_loss: 0.7016 - val_categorical_accuracy: 0.8572\n",
      "Epoch 42/75\n",
      "21964/21964 [==============================] - 2s 98us/step - loss: 0.7043 - categorical_accuracy: 0.8574 - val_loss: 0.6885 - val_categorical_accuracy: 0.8636\n",
      "Epoch 43/75\n",
      "21964/21964 [==============================] - 2s 107us/step - loss: 0.6955 - categorical_accuracy: 0.8610 - val_loss: 0.6821 - val_categorical_accuracy: 0.8623\n",
      "Epoch 44/75\n",
      "21964/21964 [==============================] - 2s 104us/step - loss: 0.6880 - categorical_accuracy: 0.8600 - val_loss: 0.6738 - val_categorical_accuracy: 0.8643\n",
      "Epoch 45/75\n",
      "21964/21964 [==============================] - 2s 103us/step - loss: 0.6797 - categorical_accuracy: 0.8631 - val_loss: 0.6721 - val_categorical_accuracy: 0.8676\n",
      "Epoch 46/75\n",
      "21964/21964 [==============================] - 2s 104us/step - loss: 0.6724 - categorical_accuracy: 0.8651 - val_loss: 0.6582 - val_categorical_accuracy: 0.8654\n",
      "Epoch 47/75\n",
      "21964/21964 [==============================] - 3s 115us/step - loss: 0.6643 - categorical_accuracy: 0.8662 - val_loss: 0.6584 - val_categorical_accuracy: 0.8661\n",
      "Epoch 48/75\n",
      "21964/21964 [==============================] - 2s 94us/step - loss: 0.6569 - categorical_accuracy: 0.8713 - val_loss: 0.6499 - val_categorical_accuracy: 0.8658\n",
      "Epoch 49/75\n",
      "21964/21964 [==============================] - 2s 102us/step - loss: 0.6503 - categorical_accuracy: 0.8720 - val_loss: 0.6369 - val_categorical_accuracy: 0.8723\n",
      "Epoch 50/75\n",
      "21964/21964 [==============================] - 2s 97us/step - loss: 0.6433 - categorical_accuracy: 0.8706 - val_loss: 0.6343 - val_categorical_accuracy: 0.8780\n",
      "Epoch 51/75\n",
      "21964/21964 [==============================] - 2s 103us/step - loss: 0.6366 - categorical_accuracy: 0.8738 - val_loss: 0.6293 - val_categorical_accuracy: 0.8674\n",
      "Epoch 52/75\n",
      "21964/21964 [==============================] - 3s 115us/step - loss: 0.6304 - categorical_accuracy: 0.8753 - val_loss: 0.6183 - val_categorical_accuracy: 0.8800\n",
      "Epoch 53/75\n",
      "21964/21964 [==============================] - 2s 101us/step - loss: 0.6235 - categorical_accuracy: 0.8777 - val_loss: 0.6160 - val_categorical_accuracy: 0.8758\n",
      "Epoch 54/75\n",
      "21964/21964 [==============================] - 2s 109us/step - loss: 0.6170 - categorical_accuracy: 0.8804 - val_loss: 0.6088 - val_categorical_accuracy: 0.8838\n",
      "Epoch 55/75\n",
      "21964/21964 [==============================] - 2s 98us/step - loss: 0.6117 - categorical_accuracy: 0.8814 - val_loss: 0.6022 - val_categorical_accuracy: 0.8800\n",
      "Epoch 56/75\n",
      "21964/21964 [==============================] - 2s 105us/step - loss: 0.6051 - categorical_accuracy: 0.8824 - val_loss: 0.6078 - val_categorical_accuracy: 0.8714\n",
      "Epoch 57/75\n",
      "21964/21964 [==============================] - 2s 101us/step - loss: 0.5998 - categorical_accuracy: 0.8843 - val_loss: 0.5949 - val_categorical_accuracy: 0.8785\n",
      "Epoch 58/75\n",
      "21964/21964 [==============================] - 2s 108us/step - loss: 0.5941 - categorical_accuracy: 0.8851 - val_loss: 0.5848 - val_categorical_accuracy: 0.8813\n",
      "Epoch 59/75\n",
      "21964/21964 [==============================] - 2s 97us/step - loss: 0.5888 - categorical_accuracy: 0.8872 - val_loss: 0.5804 - val_categorical_accuracy: 0.8936\n",
      "Epoch 60/75\n",
      "21964/21964 [==============================] - 2s 96us/step - loss: 0.5833 - categorical_accuracy: 0.8878 - val_loss: 0.5728 - val_categorical_accuracy: 0.8898\n",
      "Epoch 61/75\n",
      "21964/21964 [==============================] - 2s 99us/step - loss: 0.5774 - categorical_accuracy: 0.8879 - val_loss: 0.5702 - val_categorical_accuracy: 0.8873\n",
      "Epoch 62/75\n",
      "21964/21964 [==============================] - 2s 92us/step - loss: 0.5724 - categorical_accuracy: 0.8900 - val_loss: 0.5682 - val_categorical_accuracy: 0.8880\n",
      "Epoch 63/75\n",
      "21964/21964 [==============================] - 2s 97us/step - loss: 0.5672 - categorical_accuracy: 0.8921 - val_loss: 0.5560 - val_categorical_accuracy: 0.8953\n",
      "Epoch 64/75\n",
      "21964/21964 [==============================] - 2s 99us/step - loss: 0.5625 - categorical_accuracy: 0.8935 - val_loss: 0.5561 - val_categorical_accuracy: 0.8944\n",
      "Epoch 65/75\n",
      "21964/21964 [==============================] - 2s 101us/step - loss: 0.5570 - categorical_accuracy: 0.8950 - val_loss: 0.5547 - val_categorical_accuracy: 0.8913\n",
      "Epoch 66/75\n",
      "21964/21964 [==============================] - 2s 102us/step - loss: 0.5525 - categorical_accuracy: 0.8958 - val_loss: 0.5481 - val_categorical_accuracy: 0.8871\n",
      "Epoch 67/75\n",
      "21964/21964 [==============================] - 2s 97us/step - loss: 0.5482 - categorical_accuracy: 0.8962 - val_loss: 0.5410 - val_categorical_accuracy: 0.8969\n",
      "Epoch 68/75\n",
      "21964/21964 [==============================] - 2s 110us/step - loss: 0.5431 - categorical_accuracy: 0.8979 - val_loss: 0.5341 - val_categorical_accuracy: 0.9002\n",
      "Epoch 69/75\n",
      "21964/21964 [==============================] - 2s 104us/step - loss: 0.5382 - categorical_accuracy: 0.8988 - val_loss: 0.5316 - val_categorical_accuracy: 0.8977\n",
      "Epoch 70/75\n",
      "21964/21964 [==============================] - 2s 100us/step - loss: 0.5340 - categorical_accuracy: 0.9025 - val_loss: 0.5269 - val_categorical_accuracy: 0.8980\n",
      "Epoch 71/75\n",
      "21964/21964 [==============================] - 2s 98us/step - loss: 0.5296 - categorical_accuracy: 0.9012 - val_loss: 0.5217 - val_categorical_accuracy: 0.9022\n",
      "Epoch 72/75\n",
      "21964/21964 [==============================] - 2s 102us/step - loss: 0.5251 - categorical_accuracy: 0.9017 - val_loss: 0.5186 - val_categorical_accuracy: 0.9051\n",
      "Epoch 73/75\n",
      "21964/21964 [==============================] - 2s 96us/step - loss: 0.5212 - categorical_accuracy: 0.9037 - val_loss: 0.5131 - val_categorical_accuracy: 0.9055\n",
      "Epoch 74/75\n",
      "21964/21964 [==============================] - 2s 108us/step - loss: 0.5171 - categorical_accuracy: 0.9057 - val_loss: 0.5086 - val_categorical_accuracy: 0.9069\n",
      "Epoch 75/75\n",
      "21964/21964 [==============================] - 2s 103us/step - loss: 0.5130 - categorical_accuracy: 0.9049 - val_loss: 0.5079 - val_categorical_accuracy: 0.9062\n",
      "7172/7172 [==============================] - 0s 45us/step\n",
      "Train on 21964 samples, validate on 5491 samples\n",
      "Epoch 1/75\n",
      "21964/21964 [==============================] - 1s 68us/step - loss: 3.0102 - categorical_accuracy: 0.1487 - val_loss: 2.8208 - val_categorical_accuracy: 0.1938\n",
      "Epoch 2/75\n",
      "21964/21964 [==============================] - 1s 52us/step - loss: 2.6651 - categorical_accuracy: 0.3264 - val_loss: 2.5156 - val_categorical_accuracy: 0.3697\n",
      "Epoch 3/75\n",
      "21964/21964 [==============================] - 1s 51us/step - loss: 2.4233 - categorical_accuracy: 0.4267 - val_loss: 2.3078 - val_categorical_accuracy: 0.4078\n",
      "Epoch 4/75\n",
      "21964/21964 [==============================] - 1s 52us/step - loss: 2.2416 - categorical_accuracy: 0.4894 - val_loss: 2.1553 - val_categorical_accuracy: 0.4848\n",
      "Epoch 5/75\n",
      "21964/21964 [==============================] - 1s 57us/step - loss: 2.1005 - categorical_accuracy: 0.5337 - val_loss: 2.0247 - val_categorical_accuracy: 0.5185\n",
      "Epoch 6/75\n",
      "21964/21964 [==============================] - 1s 62us/step - loss: 1.9863 - categorical_accuracy: 0.5614 - val_loss: 1.9176 - val_categorical_accuracy: 0.5877\n",
      "Epoch 7/75\n",
      "21964/21964 [==============================] - 1s 55us/step - loss: 1.8909 - categorical_accuracy: 0.5825 - val_loss: 1.8360 - val_categorical_accuracy: 0.5567\n",
      "Epoch 8/75\n",
      "21964/21964 [==============================] - 1s 55us/step - loss: 1.8104 - categorical_accuracy: 0.6035 - val_loss: 1.7553 - val_categorical_accuracy: 0.5720\n",
      "Epoch 9/75\n",
      "21964/21964 [==============================] - 1s 51us/step - loss: 1.7395 - categorical_accuracy: 0.6158 - val_loss: 1.6830 - val_categorical_accuracy: 0.6345\n",
      "Epoch 10/75\n",
      "21964/21964 [==============================] - 1s 60us/step - loss: 1.6777 - categorical_accuracy: 0.6287 - val_loss: 1.6450 - val_categorical_accuracy: 0.6079\n",
      "Epoch 11/75\n",
      "21964/21964 [==============================] - 1s 56us/step - loss: 1.6240 - categorical_accuracy: 0.6405 - val_loss: 1.5707 - val_categorical_accuracy: 0.6312\n",
      "Epoch 12/75\n",
      "21964/21964 [==============================] - 1s 54us/step - loss: 1.5741 - categorical_accuracy: 0.6521 - val_loss: 1.5300 - val_categorical_accuracy: 0.6631\n",
      "Epoch 13/75\n",
      "21964/21964 [==============================] - 1s 55us/step - loss: 1.5301 - categorical_accuracy: 0.6597 - val_loss: 1.4881 - val_categorical_accuracy: 0.6613\n",
      "Epoch 14/75\n",
      "21964/21964 [==============================] - 1s 55us/step - loss: 1.4890 - categorical_accuracy: 0.6696 - val_loss: 1.4429 - val_categorical_accuracy: 0.6970\n",
      "Epoch 15/75\n",
      "21964/21964 [==============================] - 1s 57us/step - loss: 1.4530 - categorical_accuracy: 0.6794 - val_loss: 1.4126 - val_categorical_accuracy: 0.6846\n",
      "Epoch 16/75\n",
      "21964/21964 [==============================] - 1s 54us/step - loss: 1.4188 - categorical_accuracy: 0.6812 - val_loss: 1.3771 - val_categorical_accuracy: 0.6959\n",
      "Epoch 17/75\n",
      "21964/21964 [==============================] - 1s 57us/step - loss: 1.3868 - categorical_accuracy: 0.6906 - val_loss: 1.3552 - val_categorical_accuracy: 0.6826\n",
      "Epoch 18/75\n",
      "21964/21964 [==============================] - 1s 54us/step - loss: 1.3570 - categorical_accuracy: 0.6957 - val_loss: 1.3266 - val_categorical_accuracy: 0.7112\n",
      "Epoch 19/75\n",
      "21964/21964 [==============================] - 1s 50us/step - loss: 1.3299 - categorical_accuracy: 0.7038 - val_loss: 1.2987 - val_categorical_accuracy: 0.6982\n",
      "Epoch 20/75\n",
      "21964/21964 [==============================] - 1s 56us/step - loss: 1.3048 - categorical_accuracy: 0.7086 - val_loss: 1.2717 - val_categorical_accuracy: 0.7235\n",
      "Epoch 21/75\n",
      "21964/21964 [==============================] - 1s 58us/step - loss: 1.2797 - categorical_accuracy: 0.7137 - val_loss: 1.2453 - val_categorical_accuracy: 0.7113\n",
      "Epoch 22/75\n",
      "21964/21964 [==============================] - 1s 52us/step - loss: 1.2570 - categorical_accuracy: 0.7193 - val_loss: 1.2335 - val_categorical_accuracy: 0.7119\n",
      "Epoch 23/75\n",
      "21964/21964 [==============================] - 1s 51us/step - loss: 1.2354 - categorical_accuracy: 0.7255 - val_loss: 1.2107 - val_categorical_accuracy: 0.7119\n",
      "Epoch 24/75\n",
      "21964/21964 [==============================] - 1s 53us/step - loss: 1.2156 - categorical_accuracy: 0.7309 - val_loss: 1.1838 - val_categorical_accuracy: 0.7483\n",
      "Epoch 25/75\n",
      "21964/21964 [==============================] - 1s 53us/step - loss: 1.1955 - categorical_accuracy: 0.7353 - val_loss: 1.1737 - val_categorical_accuracy: 0.7250\n",
      "Epoch 26/75\n",
      "21964/21964 [==============================] - 1s 54us/step - loss: 1.1773 - categorical_accuracy: 0.7403 - val_loss: 1.1442 - val_categorical_accuracy: 0.7452\n",
      "Epoch 27/75\n",
      "21964/21964 [==============================] - 1s 53us/step - loss: 1.1600 - categorical_accuracy: 0.7424 - val_loss: 1.1323 - val_categorical_accuracy: 0.7438\n",
      "Epoch 28/75\n",
      "21964/21964 [==============================] - 1s 51us/step - loss: 1.1429 - categorical_accuracy: 0.7469 - val_loss: 1.1127 - val_categorical_accuracy: 0.7574\n",
      "Epoch 29/75\n",
      "21964/21964 [==============================] - 1s 55us/step - loss: 1.1265 - categorical_accuracy: 0.7525 - val_loss: 1.0944 - val_categorical_accuracy: 0.7625\n",
      "Epoch 30/75\n",
      "21964/21964 [==============================] - 1s 55us/step - loss: 1.1104 - categorical_accuracy: 0.7570 - val_loss: 1.0846 - val_categorical_accuracy: 0.7649\n",
      "Epoch 31/75\n",
      "21964/21964 [==============================] - 1s 54us/step - loss: 1.0973 - categorical_accuracy: 0.7591 - val_loss: 1.0695 - val_categorical_accuracy: 0.7638\n",
      "Epoch 32/75\n",
      "21964/21964 [==============================] - 1s 53us/step - loss: 1.0823 - categorical_accuracy: 0.7640 - val_loss: 1.0603 - val_categorical_accuracy: 0.7618\n",
      "Epoch 33/75\n",
      "21964/21964 [==============================] - 1s 55us/step - loss: 1.0690 - categorical_accuracy: 0.7674 - val_loss: 1.0450 - val_categorical_accuracy: 0.7634\n",
      "Epoch 34/75\n",
      "21964/21964 [==============================] - 1s 52us/step - loss: 1.0556 - categorical_accuracy: 0.7686 - val_loss: 1.0353 - val_categorical_accuracy: 0.7738\n",
      "Epoch 35/75\n",
      "21964/21964 [==============================] - 1s 57us/step - loss: 1.0434 - categorical_accuracy: 0.7749 - val_loss: 1.0289 - val_categorical_accuracy: 0.7625\n",
      "Epoch 36/75\n",
      "21964/21964 [==============================] - 1s 60us/step - loss: 1.0310 - categorical_accuracy: 0.7757 - val_loss: 1.0029 - val_categorical_accuracy: 0.7878\n",
      "Epoch 37/75\n",
      "21964/21964 [==============================] - 1s 52us/step - loss: 1.0185 - categorical_accuracy: 0.7819 - val_loss: 0.9952 - val_categorical_accuracy: 0.7853\n",
      "Epoch 38/75\n",
      "21964/21964 [==============================] - 1s 57us/step - loss: 1.0080 - categorical_accuracy: 0.7819 - val_loss: 0.9885 - val_categorical_accuracy: 0.7793\n",
      "Epoch 39/75\n",
      "21964/21964 [==============================] - 1s 57us/step - loss: 0.9968 - categorical_accuracy: 0.7855 - val_loss: 0.9747 - val_categorical_accuracy: 0.7951\n",
      "Epoch 40/75\n",
      "21964/21964 [==============================] - 1s 52us/step - loss: 0.9856 - categorical_accuracy: 0.7887 - val_loss: 0.9670 - val_categorical_accuracy: 0.7997\n",
      "Epoch 41/75\n",
      "21964/21964 [==============================] - 1s 53us/step - loss: 0.9751 - categorical_accuracy: 0.7927 - val_loss: 0.9534 - val_categorical_accuracy: 0.7831\n",
      "Epoch 42/75\n",
      "21964/21964 [==============================] - 1s 55us/step - loss: 0.9653 - categorical_accuracy: 0.7957 - val_loss: 0.9413 - val_categorical_accuracy: 0.7962\n",
      "Epoch 43/75\n",
      "21964/21964 [==============================] - 1s 52us/step - loss: 0.9554 - categorical_accuracy: 0.7964 - val_loss: 0.9338 - val_categorical_accuracy: 0.7993\n",
      "Epoch 44/75\n",
      "21964/21964 [==============================] - 1s 54us/step - loss: 0.9464 - categorical_accuracy: 0.8010 - val_loss: 0.9278 - val_categorical_accuracy: 0.7973\n",
      "Epoch 45/75\n",
      "21964/21964 [==============================] - 1s 53us/step - loss: 0.9368 - categorical_accuracy: 0.8014 - val_loss: 0.9159 - val_categorical_accuracy: 0.8051\n",
      "Epoch 46/75\n",
      "21964/21964 [==============================] - 1s 57us/step - loss: 0.9280 - categorical_accuracy: 0.8034 - val_loss: 0.9066 - val_categorical_accuracy: 0.8026\n",
      "Epoch 47/75\n",
      "21964/21964 [==============================] - 1s 62us/step - loss: 0.9192 - categorical_accuracy: 0.8049 - val_loss: 0.9069 - val_categorical_accuracy: 0.7938\n",
      "Epoch 48/75\n",
      "21964/21964 [==============================] - 1s 55us/step - loss: 0.9101 - categorical_accuracy: 0.8090 - val_loss: 0.8992 - val_categorical_accuracy: 0.8004\n",
      "Epoch 49/75\n",
      "21964/21964 [==============================] - 1s 55us/step - loss: 0.9025 - categorical_accuracy: 0.8109 - val_loss: 0.8879 - val_categorical_accuracy: 0.8082\n",
      "Epoch 50/75\n",
      "21964/21964 [==============================] - 1s 49us/step - loss: 0.8945 - categorical_accuracy: 0.8116 - val_loss: 0.8778 - val_categorical_accuracy: 0.8051\n",
      "Epoch 51/75\n",
      "21964/21964 [==============================] - 1s 55us/step - loss: 0.8866 - categorical_accuracy: 0.8135 - val_loss: 0.8742 - val_categorical_accuracy: 0.8122\n",
      "Epoch 52/75\n",
      "21964/21964 [==============================] - 1s 50us/step - loss: 0.8787 - categorical_accuracy: 0.8161 - val_loss: 0.8609 - val_categorical_accuracy: 0.8130\n",
      "Epoch 53/75\n",
      "21964/21964 [==============================] - 1s 54us/step - loss: 0.8715 - categorical_accuracy: 0.8171 - val_loss: 0.8533 - val_categorical_accuracy: 0.8219\n",
      "Epoch 54/75\n",
      "21964/21964 [==============================] - 1s 53us/step - loss: 0.8631 - categorical_accuracy: 0.8203 - val_loss: 0.8546 - val_categorical_accuracy: 0.8133\n",
      "Epoch 55/75\n",
      "21964/21964 [==============================] - 1s 54us/step - loss: 0.8568 - categorical_accuracy: 0.8203 - val_loss: 0.8426 - val_categorical_accuracy: 0.8221\n",
      "Epoch 56/75\n",
      "21964/21964 [==============================] - 1s 62us/step - loss: 0.8499 - categorical_accuracy: 0.8224 - val_loss: 0.8320 - val_categorical_accuracy: 0.8303\n",
      "Epoch 57/75\n",
      "21964/21964 [==============================] - 1s 51us/step - loss: 0.8420 - categorical_accuracy: 0.8229 - val_loss: 0.8373 - val_categorical_accuracy: 0.8130\n",
      "Epoch 58/75\n",
      "21964/21964 [==============================] - 1s 55us/step - loss: 0.8364 - categorical_accuracy: 0.8267 - val_loss: 0.8258 - val_categorical_accuracy: 0.8148\n",
      "Epoch 59/75\n",
      "21964/21964 [==============================] - 1s 55us/step - loss: 0.8294 - categorical_accuracy: 0.8260 - val_loss: 0.8204 - val_categorical_accuracy: 0.8259\n",
      "Epoch 60/75\n",
      "21964/21964 [==============================] - 1s 58us/step - loss: 0.8238 - categorical_accuracy: 0.8273 - val_loss: 0.8065 - val_categorical_accuracy: 0.8301\n",
      "Epoch 61/75\n",
      "21964/21964 [==============================] - 1s 57us/step - loss: 0.8173 - categorical_accuracy: 0.8298 - val_loss: 0.8026 - val_categorical_accuracy: 0.8339\n",
      "Epoch 62/75\n",
      "21964/21964 [==============================] - 1s 51us/step - loss: 0.8108 - categorical_accuracy: 0.8321 - val_loss: 0.8000 - val_categorical_accuracy: 0.8312\n",
      "Epoch 63/75\n",
      "21964/21964 [==============================] - 1s 56us/step - loss: 0.8048 - categorical_accuracy: 0.8347 - val_loss: 0.7962 - val_categorical_accuracy: 0.8252\n",
      "Epoch 64/75\n",
      "21964/21964 [==============================] - 1s 49us/step - loss: 0.7992 - categorical_accuracy: 0.8355 - val_loss: 0.7825 - val_categorical_accuracy: 0.8392\n",
      "Epoch 65/75\n",
      "21964/21964 [==============================] - 1s 52us/step - loss: 0.7932 - categorical_accuracy: 0.8369 - val_loss: 0.7775 - val_categorical_accuracy: 0.8419\n",
      "Epoch 66/75\n",
      "21964/21964 [==============================] - 1s 53us/step - loss: 0.7874 - categorical_accuracy: 0.8387 - val_loss: 0.7727 - val_categorical_accuracy: 0.8368\n",
      "Epoch 67/75\n",
      "21964/21964 [==============================] - 1s 56us/step - loss: 0.7818 - categorical_accuracy: 0.8397 - val_loss: 0.7638 - val_categorical_accuracy: 0.8439\n",
      "Epoch 68/75\n",
      "21964/21964 [==============================] - 1s 54us/step - loss: 0.7760 - categorical_accuracy: 0.8399 - val_loss: 0.7639 - val_categorical_accuracy: 0.8419\n",
      "Epoch 69/75\n",
      "21964/21964 [==============================] - 1s 54us/step - loss: 0.7712 - categorical_accuracy: 0.8411 - val_loss: 0.7588 - val_categorical_accuracy: 0.8376\n",
      "Epoch 70/75\n",
      "21964/21964 [==============================] - 1s 54us/step - loss: 0.7655 - categorical_accuracy: 0.8441 - val_loss: 0.7580 - val_categorical_accuracy: 0.8405\n",
      "Epoch 71/75\n",
      "21964/21964 [==============================] - 1s 53us/step - loss: 0.7609 - categorical_accuracy: 0.8446 - val_loss: 0.7482 - val_categorical_accuracy: 0.8399\n",
      "Epoch 72/75\n",
      "21964/21964 [==============================] - 1s 54us/step - loss: 0.7558 - categorical_accuracy: 0.8463 - val_loss: 0.7455 - val_categorical_accuracy: 0.8452\n",
      "Epoch 73/75\n",
      "21964/21964 [==============================] - 1s 51us/step - loss: 0.7506 - categorical_accuracy: 0.8484 - val_loss: 0.7421 - val_categorical_accuracy: 0.8445\n",
      "Epoch 74/75\n",
      "21964/21964 [==============================] - 1s 53us/step - loss: 0.7455 - categorical_accuracy: 0.8500 - val_loss: 0.7351 - val_categorical_accuracy: 0.8478\n",
      "Epoch 75/75\n",
      "21964/21964 [==============================] - 1s 52us/step - loss: 0.7405 - categorical_accuracy: 0.8498 - val_loss: 0.7281 - val_categorical_accuracy: 0.8527\n",
      "7172/7172 [==============================] - 0s 40us/step\n",
      "Train on 21964 samples, validate on 5491 samples\n",
      "Epoch 1/75\n",
      "21964/21964 [==============================] - 1s 45us/step - loss: 3.1133 - categorical_accuracy: 0.0930 - val_loss: 2.9868 - val_categorical_accuracy: 0.1941\n",
      "Epoch 2/75\n",
      "21964/21964 [==============================] - 1s 33us/step - loss: 2.9022 - categorical_accuracy: 0.2197 - val_loss: 2.8013 - val_categorical_accuracy: 0.2870\n",
      "Epoch 3/75\n",
      "21964/21964 [==============================] - 1s 30us/step - loss: 2.7327 - categorical_accuracy: 0.3161 - val_loss: 2.6408 - val_categorical_accuracy: 0.3974\n",
      "Epoch 4/75\n",
      "21964/21964 [==============================] - 1s 31us/step - loss: 2.5892 - categorical_accuracy: 0.3986 - val_loss: 2.5063 - val_categorical_accuracy: 0.4384\n",
      "Epoch 5/75\n",
      "21964/21964 [==============================] - 1s 28us/step - loss: 2.4685 - categorical_accuracy: 0.4540 - val_loss: 2.3900 - val_categorical_accuracy: 0.5163\n",
      "Epoch 6/75\n",
      "21964/21964 [==============================] - 1s 31us/step - loss: 2.3636 - categorical_accuracy: 0.4905 - val_loss: 2.2898 - val_categorical_accuracy: 0.5312\n",
      "Epoch 7/75\n",
      "21964/21964 [==============================] - 1s 32us/step - loss: 2.2738 - categorical_accuracy: 0.5169 - val_loss: 2.2010 - val_categorical_accuracy: 0.5660\n",
      "Epoch 8/75\n",
      "21964/21964 [==============================] - 1s 27us/step - loss: 2.1935 - categorical_accuracy: 0.5402 - val_loss: 2.1268 - val_categorical_accuracy: 0.5857\n",
      "Epoch 9/75\n",
      "21964/21964 [==============================] - 1s 29us/step - loss: 2.1222 - categorical_accuracy: 0.5560 - val_loss: 2.0592 - val_categorical_accuracy: 0.5881\n",
      "Epoch 10/75\n",
      "21964/21964 [==============================] - 1s 30us/step - loss: 2.0589 - categorical_accuracy: 0.5703 - val_loss: 2.0001 - val_categorical_accuracy: 0.6054\n",
      "Epoch 11/75\n",
      "21964/21964 [==============================] - 1s 31us/step - loss: 2.0015 - categorical_accuracy: 0.5841 - val_loss: 1.9504 - val_categorical_accuracy: 0.5979\n",
      "Epoch 12/75\n",
      "21964/21964 [==============================] - 1s 32us/step - loss: 1.9494 - categorical_accuracy: 0.5911 - val_loss: 1.8933 - val_categorical_accuracy: 0.6099\n",
      "Epoch 13/75\n",
      "21964/21964 [==============================] - 1s 33us/step - loss: 1.9014 - categorical_accuracy: 0.6018 - val_loss: 1.8514 - val_categorical_accuracy: 0.6263\n",
      "Epoch 14/75\n",
      "21964/21964 [==============================] - 1s 33us/step - loss: 1.8577 - categorical_accuracy: 0.6111 - val_loss: 1.8069 - val_categorical_accuracy: 0.6272\n",
      "Epoch 15/75\n",
      "21964/21964 [==============================] - 1s 32us/step - loss: 1.8172 - categorical_accuracy: 0.6183 - val_loss: 1.7690 - val_categorical_accuracy: 0.6309\n",
      "Epoch 16/75\n",
      "21964/21964 [==============================] - 1s 34us/step - loss: 1.7800 - categorical_accuracy: 0.6262 - val_loss: 1.7286 - val_categorical_accuracy: 0.6551\n",
      "Epoch 17/75\n",
      "21964/21964 [==============================] - 1s 36us/step - loss: 1.7449 - categorical_accuracy: 0.6344 - val_loss: 1.6963 - val_categorical_accuracy: 0.6476\n",
      "Epoch 18/75\n",
      "21964/21964 [==============================] - 1s 33us/step - loss: 1.7126 - categorical_accuracy: 0.6369 - val_loss: 1.6688 - val_categorical_accuracy: 0.6436\n",
      "Epoch 19/75\n",
      "21964/21964 [==============================] - 1s 33us/step - loss: 1.6817 - categorical_accuracy: 0.6436 - val_loss: 1.6358 - val_categorical_accuracy: 0.6680\n",
      "Epoch 20/75\n",
      "21964/21964 [==============================] - 1s 33us/step - loss: 1.6529 - categorical_accuracy: 0.6480 - val_loss: 1.6064 - val_categorical_accuracy: 0.6671\n",
      "Epoch 21/75\n",
      "21964/21964 [==============================] - 1s 37us/step - loss: 1.6261 - categorical_accuracy: 0.6535 - val_loss: 1.5834 - val_categorical_accuracy: 0.6644\n",
      "Epoch 22/75\n",
      "21964/21964 [==============================] - 1s 31us/step - loss: 1.6004 - categorical_accuracy: 0.6574 - val_loss: 1.5570 - val_categorical_accuracy: 0.6738\n",
      "Epoch 23/75\n",
      "21964/21964 [==============================] - 1s 28us/step - loss: 1.5765 - categorical_accuracy: 0.6604 - val_loss: 1.5360 - val_categorical_accuracy: 0.6837\n",
      "Epoch 24/75\n",
      "21964/21964 [==============================] - 1s 29us/step - loss: 1.5530 - categorical_accuracy: 0.6643 - val_loss: 1.5124 - val_categorical_accuracy: 0.6920\n",
      "Epoch 25/75\n",
      "21964/21964 [==============================] - 1s 29us/step - loss: 1.5312 - categorical_accuracy: 0.6708 - val_loss: 1.4926 - val_categorical_accuracy: 0.6858\n",
      "Epoch 26/75\n",
      "21964/21964 [==============================] - 1s 30us/step - loss: 1.5102 - categorical_accuracy: 0.6721 - val_loss: 1.4706 - val_categorical_accuracy: 0.7022\n",
      "Epoch 27/75\n",
      "21964/21964 [==============================] - 1s 30us/step - loss: 1.4903 - categorical_accuracy: 0.6801 - val_loss: 1.4552 - val_categorical_accuracy: 0.6911\n",
      "Epoch 28/75\n",
      "21964/21964 [==============================] - 1s 32us/step - loss: 1.4716 - categorical_accuracy: 0.6788 - val_loss: 1.4317 - val_categorical_accuracy: 0.7008\n",
      "Epoch 29/75\n",
      "21964/21964 [==============================] - 1s 31us/step - loss: 1.4528 - categorical_accuracy: 0.6856 - val_loss: 1.4209 - val_categorical_accuracy: 0.6869\n",
      "Epoch 30/75\n",
      "21964/21964 [==============================] - 1s 29us/step - loss: 1.4353 - categorical_accuracy: 0.6867 - val_loss: 1.3981 - val_categorical_accuracy: 0.7022\n",
      "Epoch 31/75\n",
      "21964/21964 [==============================] - 1s 29us/step - loss: 1.4184 - categorical_accuracy: 0.6904 - val_loss: 1.3817 - val_categorical_accuracy: 0.7028\n",
      "Epoch 32/75\n",
      "21964/21964 [==============================] - 1s 29us/step - loss: 1.4020 - categorical_accuracy: 0.6926 - val_loss: 1.3703 - val_categorical_accuracy: 0.7092\n",
      "Epoch 33/75\n",
      "21964/21964 [==============================] - 1s 30us/step - loss: 1.3864 - categorical_accuracy: 0.6961 - val_loss: 1.3523 - val_categorical_accuracy: 0.7119\n",
      "Epoch 34/75\n",
      "21964/21964 [==============================] - 1s 32us/step - loss: 1.3713 - categorical_accuracy: 0.6970 - val_loss: 1.3383 - val_categorical_accuracy: 0.7110\n",
      "Epoch 35/75\n",
      "21964/21964 [==============================] - 1s 30us/step - loss: 1.3570 - categorical_accuracy: 0.7037 - val_loss: 1.3260 - val_categorical_accuracy: 0.7246\n",
      "Epoch 36/75\n",
      "21964/21964 [==============================] - 1s 28us/step - loss: 1.3430 - categorical_accuracy: 0.7036 - val_loss: 1.3112 - val_categorical_accuracy: 0.7225\n",
      "Epoch 37/75\n",
      "21964/21964 [==============================] - 1s 37us/step - loss: 1.3295 - categorical_accuracy: 0.7102 - val_loss: 1.3012 - val_categorical_accuracy: 0.7219\n",
      "Epoch 38/75\n",
      "21964/21964 [==============================] - 1s 29us/step - loss: 1.3165 - categorical_accuracy: 0.7117 - val_loss: 1.2852 - val_categorical_accuracy: 0.7210\n",
      "Epoch 39/75\n",
      "21964/21964 [==============================] - 1s 30us/step - loss: 1.3039 - categorical_accuracy: 0.7139 - val_loss: 1.2719 - val_categorical_accuracy: 0.7323\n",
      "Epoch 40/75\n",
      "21964/21964 [==============================] - 1s 30us/step - loss: 1.2913 - categorical_accuracy: 0.7174 - val_loss: 1.2610 - val_categorical_accuracy: 0.7219\n",
      "Epoch 41/75\n",
      "21964/21964 [==============================] - 1s 29us/step - loss: 1.2793 - categorical_accuracy: 0.7180 - val_loss: 1.2471 - val_categorical_accuracy: 0.7312\n",
      "Epoch 42/75\n",
      "21964/21964 [==============================] - 1s 29us/step - loss: 1.2676 - categorical_accuracy: 0.7205 - val_loss: 1.2399 - val_categorical_accuracy: 0.7252\n",
      "Epoch 43/75\n",
      "21964/21964 [==============================] - 1s 27us/step - loss: 1.2560 - categorical_accuracy: 0.7231 - val_loss: 1.2291 - val_categorical_accuracy: 0.7297\n",
      "Epoch 44/75\n",
      "21964/21964 [==============================] - 1s 30us/step - loss: 1.2448 - categorical_accuracy: 0.7269 - val_loss: 1.2201 - val_categorical_accuracy: 0.7354\n",
      "Epoch 45/75\n",
      "21964/21964 [==============================] - 1s 32us/step - loss: 1.2352 - categorical_accuracy: 0.7295 - val_loss: 1.2049 - val_categorical_accuracy: 0.7388\n",
      "Epoch 46/75\n",
      "21964/21964 [==============================] - 1s 29us/step - loss: 1.2244 - categorical_accuracy: 0.7306 - val_loss: 1.1955 - val_categorical_accuracy: 0.7356\n",
      "Epoch 47/75\n",
      "21964/21964 [==============================] - 1s 27us/step - loss: 1.2141 - categorical_accuracy: 0.7320 - val_loss: 1.1867 - val_categorical_accuracy: 0.7447\n",
      "Epoch 48/75\n",
      "21964/21964 [==============================] - 1s 31us/step - loss: 1.2044 - categorical_accuracy: 0.7353 - val_loss: 1.1781 - val_categorical_accuracy: 0.7363\n",
      "Epoch 49/75\n",
      "21964/21964 [==============================] - 1s 30us/step - loss: 1.1949 - categorical_accuracy: 0.7370 - val_loss: 1.1683 - val_categorical_accuracy: 0.7445\n",
      "Epoch 50/75\n",
      "21964/21964 [==============================] - 1s 32us/step - loss: 1.1857 - categorical_accuracy: 0.7414 - val_loss: 1.1609 - val_categorical_accuracy: 0.7500\n",
      "Epoch 51/75\n",
      "21964/21964 [==============================] - 1s 31us/step - loss: 1.1765 - categorical_accuracy: 0.7426 - val_loss: 1.1504 - val_categorical_accuracy: 0.7425\n",
      "Epoch 52/75\n",
      "21964/21964 [==============================] - 1s 29us/step - loss: 1.1678 - categorical_accuracy: 0.7444 - val_loss: 1.1415 - val_categorical_accuracy: 0.7500\n",
      "Epoch 53/75\n",
      "21964/21964 [==============================] - 1s 34us/step - loss: 1.1587 - categorical_accuracy: 0.7477 - val_loss: 1.1331 - val_categorical_accuracy: 0.7549\n",
      "Epoch 54/75\n",
      "21964/21964 [==============================] - 1s 33us/step - loss: 1.1500 - categorical_accuracy: 0.7482 - val_loss: 1.1242 - val_categorical_accuracy: 0.7583\n",
      "Epoch 55/75\n",
      "21964/21964 [==============================] - 1s 32us/step - loss: 1.1424 - categorical_accuracy: 0.7527 - val_loss: 1.1165 - val_categorical_accuracy: 0.7580\n",
      "Epoch 56/75\n",
      "21964/21964 [==============================] - 1s 30us/step - loss: 1.1338 - categorical_accuracy: 0.7507 - val_loss: 1.1079 - val_categorical_accuracy: 0.7629\n",
      "Epoch 57/75\n",
      "21964/21964 [==============================] - 1s 32us/step - loss: 1.1259 - categorical_accuracy: 0.7549 - val_loss: 1.0982 - val_categorical_accuracy: 0.7629\n",
      "Epoch 58/75\n",
      "21964/21964 [==============================] - 1s 30us/step - loss: 1.1183 - categorical_accuracy: 0.7564 - val_loss: 1.0927 - val_categorical_accuracy: 0.7603\n",
      "Epoch 59/75\n",
      "21964/21964 [==============================] - 1s 31us/step - loss: 1.1105 - categorical_accuracy: 0.7597 - val_loss: 1.0870 - val_categorical_accuracy: 0.7572\n",
      "Epoch 60/75\n",
      "21964/21964 [==============================] - 1s 32us/step - loss: 1.1028 - categorical_accuracy: 0.7615 - val_loss: 1.0795 - val_categorical_accuracy: 0.7642\n",
      "Epoch 61/75\n",
      "21964/21964 [==============================] - 1s 36us/step - loss: 1.0953 - categorical_accuracy: 0.7640 - val_loss: 1.0697 - val_categorical_accuracy: 0.7718\n",
      "Epoch 62/75\n",
      "21964/21964 [==============================] - 1s 31us/step - loss: 1.0881 - categorical_accuracy: 0.7657 - val_loss: 1.0682 - val_categorical_accuracy: 0.7683\n",
      "Epoch 63/75\n",
      "21964/21964 [==============================] - 1s 30us/step - loss: 1.0813 - categorical_accuracy: 0.7669 - val_loss: 1.0603 - val_categorical_accuracy: 0.7676\n",
      "Epoch 64/75\n",
      "21964/21964 [==============================] - 1s 27us/step - loss: 1.0746 - categorical_accuracy: 0.7680 - val_loss: 1.0497 - val_categorical_accuracy: 0.7787\n",
      "Epoch 65/75\n",
      "21964/21964 [==============================] - 1s 31us/step - loss: 1.0672 - categorical_accuracy: 0.7712 - val_loss: 1.0472 - val_categorical_accuracy: 0.7758\n",
      "Epoch 66/75\n",
      "21964/21964 [==============================] - 1s 30us/step - loss: 1.0612 - categorical_accuracy: 0.7743 - val_loss: 1.0396 - val_categorical_accuracy: 0.7738\n",
      "Epoch 67/75\n",
      "21964/21964 [==============================] - 1s 33us/step - loss: 1.0547 - categorical_accuracy: 0.7737 - val_loss: 1.0323 - val_categorical_accuracy: 0.7749\n",
      "Epoch 68/75\n",
      "21964/21964 [==============================] - 1s 29us/step - loss: 1.0481 - categorical_accuracy: 0.7765 - val_loss: 1.0259 - val_categorical_accuracy: 0.7807\n",
      "Epoch 69/75\n",
      "21964/21964 [==============================] - 1s 31us/step - loss: 1.0417 - categorical_accuracy: 0.7779 - val_loss: 1.0182 - val_categorical_accuracy: 0.7842\n",
      "Epoch 70/75\n",
      "21964/21964 [==============================] - 1s 29us/step - loss: 1.0356 - categorical_accuracy: 0.7801 - val_loss: 1.0183 - val_categorical_accuracy: 0.7722\n",
      "Epoch 71/75\n",
      "21964/21964 [==============================] - 1s 27us/step - loss: 1.0297 - categorical_accuracy: 0.7786 - val_loss: 1.0091 - val_categorical_accuracy: 0.7805\n",
      "Epoch 72/75\n",
      "21964/21964 [==============================] - 1s 32us/step - loss: 1.0232 - categorical_accuracy: 0.7821 - val_loss: 1.0039 - val_categorical_accuracy: 0.7844\n",
      "Epoch 73/75\n",
      "21964/21964 [==============================] - 1s 33us/step - loss: 1.0178 - categorical_accuracy: 0.7834 - val_loss: 0.9998 - val_categorical_accuracy: 0.7818\n",
      "Epoch 74/75\n",
      "21964/21964 [==============================] - 1s 34us/step - loss: 1.0123 - categorical_accuracy: 0.7852 - val_loss: 0.9904 - val_categorical_accuracy: 0.7917\n",
      "Epoch 75/75\n",
      "21964/21964 [==============================] - 1s 31us/step - loss: 1.0061 - categorical_accuracy: 0.7863 - val_loss: 0.9847 - val_categorical_accuracy: 0.7984\n",
      "7172/7172 [==============================] - 0s 44us/step\n",
      "Train on 21964 samples, validate on 5491 samples\n",
      "Epoch 1/75\n",
      "21964/21964 [==============================] - 1s 31us/step - loss: 3.1699 - categorical_accuracy: 0.0703 - val_loss: 3.0709 - val_categorical_accuracy: 0.1160\n",
      "Epoch 2/75\n",
      "21964/21964 [==============================] - 0s 18us/step - loss: 3.0232 - categorical_accuracy: 0.1543 - val_loss: 2.9612 - val_categorical_accuracy: 0.2114\n",
      "Epoch 3/75\n",
      "21964/21964 [==============================] - 0s 16us/step - loss: 2.9229 - categorical_accuracy: 0.2274 - val_loss: 2.8639 - val_categorical_accuracy: 0.2592\n",
      "Epoch 4/75\n",
      "21964/21964 [==============================] - 0s 18us/step - loss: 2.8322 - categorical_accuracy: 0.2871 - val_loss: 2.7785 - val_categorical_accuracy: 0.3225\n",
      "Epoch 5/75\n",
      "21964/21964 [==============================] - 0s 19us/step - loss: 2.7494 - categorical_accuracy: 0.3301 - val_loss: 2.6947 - val_categorical_accuracy: 0.3768\n",
      "Epoch 6/75\n",
      "21964/21964 [==============================] - 0s 18us/step - loss: 2.6743 - categorical_accuracy: 0.3725 - val_loss: 2.6203 - val_categorical_accuracy: 0.3859\n",
      "Epoch 7/75\n",
      "21964/21964 [==============================] - 0s 16us/step - loss: 2.6047 - categorical_accuracy: 0.4024 - val_loss: 2.5547 - val_categorical_accuracy: 0.4378\n",
      "Epoch 8/75\n",
      "21964/21964 [==============================] - 0s 18us/step - loss: 2.5412 - categorical_accuracy: 0.4285 - val_loss: 2.4923 - val_categorical_accuracy: 0.4509\n",
      "Epoch 9/75\n",
      "21964/21964 [==============================] - 0s 18us/step - loss: 2.4829 - categorical_accuracy: 0.4498 - val_loss: 2.4330 - val_categorical_accuracy: 0.4957\n",
      "Epoch 10/75\n",
      "21964/21964 [==============================] - 0s 18us/step - loss: 2.4281 - categorical_accuracy: 0.4692 - val_loss: 2.3803 - val_categorical_accuracy: 0.4868\n",
      "Epoch 11/75\n",
      "21964/21964 [==============================] - 0s 18us/step - loss: 2.3781 - categorical_accuracy: 0.4837 - val_loss: 2.3285 - val_categorical_accuracy: 0.5229\n",
      "Epoch 12/75\n",
      "21964/21964 [==============================] - 0s 16us/step - loss: 2.3306 - categorical_accuracy: 0.4998 - val_loss: 2.2815 - val_categorical_accuracy: 0.5181\n",
      "Epoch 13/75\n",
      "21964/21964 [==============================] - 0s 18us/step - loss: 2.2870 - categorical_accuracy: 0.5126 - val_loss: 2.2398 - val_categorical_accuracy: 0.5489\n",
      "Epoch 14/75\n",
      "21964/21964 [==============================] - 0s 17us/step - loss: 2.2450 - categorical_accuracy: 0.5269 - val_loss: 2.1995 - val_categorical_accuracy: 0.5615\n",
      "Epoch 15/75\n",
      "21964/21964 [==============================] - 0s 17us/step - loss: 2.2065 - categorical_accuracy: 0.5343 - val_loss: 2.1634 - val_categorical_accuracy: 0.5629\n",
      "Epoch 16/75\n",
      "21964/21964 [==============================] - 0s 19us/step - loss: 2.1698 - categorical_accuracy: 0.5447 - val_loss: 2.1251 - val_categorical_accuracy: 0.5691\n",
      "Epoch 17/75\n",
      "21964/21964 [==============================] - 0s 17us/step - loss: 2.1350 - categorical_accuracy: 0.5538 - val_loss: 2.0913 - val_categorical_accuracy: 0.5771\n",
      "Epoch 18/75\n",
      "21964/21964 [==============================] - 0s 17us/step - loss: 2.1025 - categorical_accuracy: 0.5607 - val_loss: 2.0601 - val_categorical_accuracy: 0.5782\n",
      "Epoch 19/75\n",
      "21964/21964 [==============================] - 0s 17us/step - loss: 2.0712 - categorical_accuracy: 0.5656 - val_loss: 2.0302 - val_categorical_accuracy: 0.5871\n",
      "Epoch 20/75\n",
      "21964/21964 [==============================] - 0s 16us/step - loss: 2.0424 - categorical_accuracy: 0.5723 - val_loss: 1.9998 - val_categorical_accuracy: 0.6037\n",
      "Epoch 21/75\n",
      "21964/21964 [==============================] - 0s 18us/step - loss: 2.0142 - categorical_accuracy: 0.5775 - val_loss: 1.9729 - val_categorical_accuracy: 0.6059\n",
      "Epoch 22/75\n",
      "21964/21964 [==============================] - 0s 18us/step - loss: 1.9873 - categorical_accuracy: 0.5849 - val_loss: 1.9442 - val_categorical_accuracy: 0.6083\n",
      "Epoch 23/75\n",
      "21964/21964 [==============================] - 0s 18us/step - loss: 1.9615 - categorical_accuracy: 0.5909 - val_loss: 1.9201 - val_categorical_accuracy: 0.6212\n",
      "Epoch 24/75\n",
      "21964/21964 [==============================] - 0s 17us/step - loss: 1.9375 - categorical_accuracy: 0.5973 - val_loss: 1.8991 - val_categorical_accuracy: 0.6192\n",
      "Epoch 25/75\n",
      "21964/21964 [==============================] - 0s 15us/step - loss: 1.9139 - categorical_accuracy: 0.6016 - val_loss: 1.8749 - val_categorical_accuracy: 0.6114\n",
      "Epoch 26/75\n",
      "21964/21964 [==============================] - 0s 18us/step - loss: 1.8919 - categorical_accuracy: 0.6036 - val_loss: 1.8516 - val_categorical_accuracy: 0.6299\n",
      "Epoch 27/75\n",
      "21964/21964 [==============================] - 0s 18us/step - loss: 1.8701 - categorical_accuracy: 0.6104 - val_loss: 1.8305 - val_categorical_accuracy: 0.6256\n",
      "Epoch 28/75\n",
      "21964/21964 [==============================] - 0s 18us/step - loss: 1.8494 - categorical_accuracy: 0.6100 - val_loss: 1.8115 - val_categorical_accuracy: 0.6261\n",
      "Epoch 29/75\n",
      "21964/21964 [==============================] - 0s 18us/step - loss: 1.8291 - categorical_accuracy: 0.6141 - val_loss: 1.7902 - val_categorical_accuracy: 0.6323\n",
      "Epoch 30/75\n",
      "21964/21964 [==============================] - 0s 17us/step - loss: 1.8099 - categorical_accuracy: 0.6182 - val_loss: 1.7720 - val_categorical_accuracy: 0.6405\n",
      "Epoch 31/75\n",
      "21964/21964 [==============================] - 0s 18us/step - loss: 1.7914 - categorical_accuracy: 0.6237 - val_loss: 1.7537 - val_categorical_accuracy: 0.6383\n",
      "Epoch 32/75\n",
      "21964/21964 [==============================] - 0s 18us/step - loss: 1.7739 - categorical_accuracy: 0.6233 - val_loss: 1.7387 - val_categorical_accuracy: 0.6347\n",
      "Epoch 33/75\n",
      "21964/21964 [==============================] - 0s 18us/step - loss: 1.7563 - categorical_accuracy: 0.6254 - val_loss: 1.7200 - val_categorical_accuracy: 0.6385\n",
      "Epoch 34/75\n",
      "21964/21964 [==============================] - 0s 17us/step - loss: 1.7398 - categorical_accuracy: 0.6288 - val_loss: 1.7057 - val_categorical_accuracy: 0.6394\n",
      "Epoch 35/75\n",
      "21964/21964 [==============================] - 0s 17us/step - loss: 1.7237 - categorical_accuracy: 0.6314 - val_loss: 1.6880 - val_categorical_accuracy: 0.6427\n",
      "Epoch 36/75\n",
      "21964/21964 [==============================] - 0s 15us/step - loss: 1.7074 - categorical_accuracy: 0.6371 - val_loss: 1.6725 - val_categorical_accuracy: 0.6343\n",
      "Epoch 37/75\n",
      "21964/21964 [==============================] - 0s 19us/step - loss: 1.6928 - categorical_accuracy: 0.6361 - val_loss: 1.6578 - val_categorical_accuracy: 0.6491\n",
      "Epoch 38/75\n",
      "21964/21964 [==============================] - 0s 18us/step - loss: 1.6782 - categorical_accuracy: 0.6412 - val_loss: 1.6434 - val_categorical_accuracy: 0.6613\n",
      "Epoch 39/75\n",
      "21964/21964 [==============================] - 0s 17us/step - loss: 1.6640 - categorical_accuracy: 0.6433 - val_loss: 1.6273 - val_categorical_accuracy: 0.6587\n",
      "Epoch 40/75\n",
      "21964/21964 [==============================] - 0s 16us/step - loss: 1.6498 - categorical_accuracy: 0.6456 - val_loss: 1.6137 - val_categorical_accuracy: 0.6660\n",
      "Epoch 41/75\n",
      "21964/21964 [==============================] - 0s 18us/step - loss: 1.6364 - categorical_accuracy: 0.6481 - val_loss: 1.6027 - val_categorical_accuracy: 0.6662\n",
      "Epoch 42/75\n",
      "21964/21964 [==============================] - 0s 18us/step - loss: 1.6235 - categorical_accuracy: 0.6505 - val_loss: 1.5896 - val_categorical_accuracy: 0.6605\n",
      "Epoch 43/75\n",
      "21964/21964 [==============================] - 0s 18us/step - loss: 1.6107 - categorical_accuracy: 0.6517 - val_loss: 1.5762 - val_categorical_accuracy: 0.6629\n",
      "Epoch 44/75\n",
      "21964/21964 [==============================] - 0s 18us/step - loss: 1.5982 - categorical_accuracy: 0.6566 - val_loss: 1.5652 - val_categorical_accuracy: 0.6687\n",
      "Epoch 45/75\n",
      "21964/21964 [==============================] - 0s 18us/step - loss: 1.5859 - categorical_accuracy: 0.6574 - val_loss: 1.5528 - val_categorical_accuracy: 0.6638\n",
      "Epoch 46/75\n",
      "21964/21964 [==============================] - 0s 16us/step - loss: 1.5747 - categorical_accuracy: 0.6578 - val_loss: 1.5398 - val_categorical_accuracy: 0.6777\n",
      "Epoch 47/75\n",
      "21964/21964 [==============================] - 0s 17us/step - loss: 1.5629 - categorical_accuracy: 0.6625 - val_loss: 1.5292 - val_categorical_accuracy: 0.6713\n",
      "Epoch 48/75\n",
      "21964/21964 [==============================] - 0s 18us/step - loss: 1.5516 - categorical_accuracy: 0.6628 - val_loss: 1.5181 - val_categorical_accuracy: 0.6742\n",
      "Epoch 49/75\n",
      "21964/21964 [==============================] - 0s 16us/step - loss: 1.5404 - categorical_accuracy: 0.6674 - val_loss: 1.5099 - val_categorical_accuracy: 0.6676\n",
      "Epoch 50/75\n",
      "21964/21964 [==============================] - 0s 19us/step - loss: 1.5300 - categorical_accuracy: 0.6673 - val_loss: 1.4968 - val_categorical_accuracy: 0.6813\n",
      "Epoch 51/75\n",
      "21964/21964 [==============================] - 0s 22us/step - loss: 1.5194 - categorical_accuracy: 0.6685 - val_loss: 1.4873 - val_categorical_accuracy: 0.6782\n",
      "Epoch 52/75\n",
      "21964/21964 [==============================] - 0s 20us/step - loss: 1.5090 - categorical_accuracy: 0.6724 - val_loss: 1.4796 - val_categorical_accuracy: 0.6798\n",
      "Epoch 53/75\n",
      "21964/21964 [==============================] - 0s 17us/step - loss: 1.4989 - categorical_accuracy: 0.6731 - val_loss: 1.4688 - val_categorical_accuracy: 0.6780\n",
      "Epoch 54/75\n",
      "21964/21964 [==============================] - 0s 17us/step - loss: 1.4894 - categorical_accuracy: 0.6763 - val_loss: 1.4601 - val_categorical_accuracy: 0.6897\n",
      "Epoch 55/75\n",
      "21964/21964 [==============================] - 0s 16us/step - loss: 1.4801 - categorical_accuracy: 0.6780 - val_loss: 1.4491 - val_categorical_accuracy: 0.6866\n",
      "Epoch 56/75\n",
      "21964/21964 [==============================] - 0s 18us/step - loss: 1.4706 - categorical_accuracy: 0.6785 - val_loss: 1.4382 - val_categorical_accuracy: 0.6939\n",
      "Epoch 57/75\n",
      "21964/21964 [==============================] - 0s 18us/step - loss: 1.4611 - categorical_accuracy: 0.6802 - val_loss: 1.4316 - val_categorical_accuracy: 0.6871\n",
      "Epoch 58/75\n",
      "21964/21964 [==============================] - 0s 16us/step - loss: 1.4522 - categorical_accuracy: 0.6832 - val_loss: 1.4223 - val_categorical_accuracy: 0.6935\n",
      "Epoch 59/75\n",
      "21964/21964 [==============================] - 0s 17us/step - loss: 1.4437 - categorical_accuracy: 0.6843 - val_loss: 1.4135 - val_categorical_accuracy: 0.7002\n",
      "Epoch 60/75\n",
      "21964/21964 [==============================] - 0s 19us/step - loss: 1.4351 - categorical_accuracy: 0.6886 - val_loss: 1.4063 - val_categorical_accuracy: 0.6888\n",
      "Epoch 61/75\n",
      "21964/21964 [==============================] - 0s 17us/step - loss: 1.4265 - categorical_accuracy: 0.6876 - val_loss: 1.3981 - val_categorical_accuracy: 0.6966\n",
      "Epoch 62/75\n",
      "21964/21964 [==============================] - 0s 18us/step - loss: 1.4185 - categorical_accuracy: 0.6882 - val_loss: 1.3891 - val_categorical_accuracy: 0.7068\n",
      "Epoch 63/75\n",
      "21964/21964 [==============================] - 0s 18us/step - loss: 1.4101 - categorical_accuracy: 0.6914 - val_loss: 1.3823 - val_categorical_accuracy: 0.6977\n",
      "Epoch 64/75\n",
      "21964/21964 [==============================] - 0s 16us/step - loss: 1.4024 - categorical_accuracy: 0.6920 - val_loss: 1.3722 - val_categorical_accuracy: 0.7022\n",
      "Epoch 65/75\n",
      "21964/21964 [==============================] - 0s 20us/step - loss: 1.3943 - categorical_accuracy: 0.6945 - val_loss: 1.3643 - val_categorical_accuracy: 0.7104\n",
      "Epoch 66/75\n",
      "21964/21964 [==============================] - 0s 18us/step - loss: 1.3867 - categorical_accuracy: 0.6962 - val_loss: 1.3566 - val_categorical_accuracy: 0.7084\n",
      "Epoch 67/75\n",
      "21964/21964 [==============================] - 0s 16us/step - loss: 1.3789 - categorical_accuracy: 0.6999 - val_loss: 1.3512 - val_categorical_accuracy: 0.7081\n",
      "Epoch 68/75\n",
      "21964/21964 [==============================] - 0s 18us/step - loss: 1.3714 - categorical_accuracy: 0.6989 - val_loss: 1.3451 - val_categorical_accuracy: 0.6997\n",
      "Epoch 69/75\n",
      "21964/21964 [==============================] - 0s 16us/step - loss: 1.3644 - categorical_accuracy: 0.7013 - val_loss: 1.3362 - val_categorical_accuracy: 0.7141\n",
      "Epoch 70/75\n",
      "21964/21964 [==============================] - 0s 17us/step - loss: 1.3573 - categorical_accuracy: 0.7004 - val_loss: 1.3296 - val_categorical_accuracy: 0.7082\n",
      "Epoch 71/75\n",
      "21964/21964 [==============================] - 0s 19us/step - loss: 1.3504 - categorical_accuracy: 0.7049 - val_loss: 1.3239 - val_categorical_accuracy: 0.7032\n",
      "Epoch 72/75\n",
      "21964/21964 [==============================] - 0s 18us/step - loss: 1.3431 - categorical_accuracy: 0.7046 - val_loss: 1.3153 - val_categorical_accuracy: 0.7143\n",
      "Epoch 73/75\n",
      "21964/21964 [==============================] - 0s 19us/step - loss: 1.3363 - categorical_accuracy: 0.7071 - val_loss: 1.3101 - val_categorical_accuracy: 0.7073\n",
      "Epoch 74/75\n",
      "21964/21964 [==============================] - 0s 18us/step - loss: 1.3300 - categorical_accuracy: 0.7072 - val_loss: 1.3030 - val_categorical_accuracy: 0.7062\n",
      "Epoch 75/75\n",
      "21964/21964 [==============================] - 0s 18us/step - loss: 1.3232 - categorical_accuracy: 0.7098 - val_loss: 1.2955 - val_categorical_accuracy: 0.7226\n",
      "7172/7172 [==============================] - 0s 44us/step\n",
      "Train on 21964 samples, validate on 5491 samples\n",
      "Epoch 1/75\n",
      "21964/21964 [==============================] - 1s 27us/step - loss: 3.2448 - categorical_accuracy: 0.0631 - val_loss: 3.1561 - val_categorical_accuracy: 0.0665\n",
      "Epoch 2/75\n",
      "21964/21964 [==============================] - 0s 12us/step - loss: 3.1274 - categorical_accuracy: 0.0761 - val_loss: 3.0966 - val_categorical_accuracy: 0.1011\n",
      "Epoch 3/75\n",
      "21964/21964 [==============================] - 0s 11us/step - loss: 3.0712 - categorical_accuracy: 0.1049 - val_loss: 3.0417 - val_categorical_accuracy: 0.1246\n",
      "Epoch 4/75\n",
      "21964/21964 [==============================] - 0s 10us/step - loss: 3.0189 - categorical_accuracy: 0.1305 - val_loss: 2.9897 - val_categorical_accuracy: 0.1428\n",
      "Epoch 5/75\n",
      "21964/21964 [==============================] - 0s 11us/step - loss: 2.9690 - categorical_accuracy: 0.1574 - val_loss: 2.9399 - val_categorical_accuracy: 0.1750\n",
      "Epoch 6/75\n",
      "21964/21964 [==============================] - 0s 12us/step - loss: 2.9215 - categorical_accuracy: 0.1843 - val_loss: 2.8914 - val_categorical_accuracy: 0.2109\n",
      "Epoch 7/75\n",
      "21964/21964 [==============================] - 0s 9us/step - loss: 2.8762 - categorical_accuracy: 0.2192 - val_loss: 2.8454 - val_categorical_accuracy: 0.2579\n",
      "Epoch 8/75\n",
      "21964/21964 [==============================] - 0s 11us/step - loss: 2.8332 - categorical_accuracy: 0.2488 - val_loss: 2.8027 - val_categorical_accuracy: 0.2890\n",
      "Epoch 9/75\n",
      "21964/21964 [==============================] - 0s 10us/step - loss: 2.7918 - categorical_accuracy: 0.2838 - val_loss: 2.7610 - val_categorical_accuracy: 0.3060\n",
      "Epoch 10/75\n",
      "21964/21964 [==============================] - 0s 12us/step - loss: 2.7523 - categorical_accuracy: 0.3121 - val_loss: 2.7213 - val_categorical_accuracy: 0.3316\n",
      "Epoch 11/75\n",
      "21964/21964 [==============================] - 0s 11us/step - loss: 2.7140 - categorical_accuracy: 0.3362 - val_loss: 2.6828 - val_categorical_accuracy: 0.3675\n",
      "Epoch 12/75\n",
      "21964/21964 [==============================] - 0s 12us/step - loss: 2.6780 - categorical_accuracy: 0.3615 - val_loss: 2.6462 - val_categorical_accuracy: 0.3903\n",
      "Epoch 13/75\n",
      "21964/21964 [==============================] - 0s 13us/step - loss: 2.6427 - categorical_accuracy: 0.3818 - val_loss: 2.6115 - val_categorical_accuracy: 0.3959\n",
      "Epoch 14/75\n",
      "21964/21964 [==============================] - 0s 13us/step - loss: 2.6094 - categorical_accuracy: 0.4005 - val_loss: 2.5781 - val_categorical_accuracy: 0.4070\n",
      "Epoch 15/75\n",
      "21964/21964 [==============================] - 0s 11us/step - loss: 2.5776 - categorical_accuracy: 0.4078 - val_loss: 2.5447 - val_categorical_accuracy: 0.4322\n",
      "Epoch 16/75\n",
      "21964/21964 [==============================] - 0s 12us/step - loss: 2.5468 - categorical_accuracy: 0.4237 - val_loss: 2.5144 - val_categorical_accuracy: 0.4431\n",
      "Epoch 17/75\n",
      "21964/21964 [==============================] - 0s 11us/step - loss: 2.5165 - categorical_accuracy: 0.4332 - val_loss: 2.4839 - val_categorical_accuracy: 0.4500\n",
      "Epoch 18/75\n",
      "21964/21964 [==============================] - 0s 10us/step - loss: 2.4882 - categorical_accuracy: 0.4420 - val_loss: 2.4551 - val_categorical_accuracy: 0.4697\n",
      "Epoch 19/75\n",
      "21964/21964 [==============================] - 0s 11us/step - loss: 2.4606 - categorical_accuracy: 0.4524 - val_loss: 2.4273 - val_categorical_accuracy: 0.4724\n",
      "Epoch 20/75\n",
      "21964/21964 [==============================] - 0s 11us/step - loss: 2.4338 - categorical_accuracy: 0.4577 - val_loss: 2.4017 - val_categorical_accuracy: 0.4779\n",
      "Epoch 21/75\n",
      "21964/21964 [==============================] - 0s 11us/step - loss: 2.4082 - categorical_accuracy: 0.4664 - val_loss: 2.3750 - val_categorical_accuracy: 0.4853\n",
      "Epoch 22/75\n",
      "21964/21964 [==============================] - 0s 12us/step - loss: 2.3834 - categorical_accuracy: 0.4752 - val_loss: 2.3492 - val_categorical_accuracy: 0.4832\n",
      "Epoch 23/75\n",
      "21964/21964 [==============================] - 0s 10us/step - loss: 2.3595 - categorical_accuracy: 0.4779 - val_loss: 2.3258 - val_categorical_accuracy: 0.4910\n",
      "Epoch 24/75\n",
      "21964/21964 [==============================] - 0s 11us/step - loss: 2.3362 - categorical_accuracy: 0.4856 - val_loss: 2.3026 - val_categorical_accuracy: 0.4928\n",
      "Epoch 25/75\n",
      "21964/21964 [==============================] - 0s 11us/step - loss: 2.3141 - categorical_accuracy: 0.4900 - val_loss: 2.2805 - val_categorical_accuracy: 0.5105\n",
      "Epoch 26/75\n",
      "21964/21964 [==============================] - 0s 11us/step - loss: 2.2921 - categorical_accuracy: 0.4970 - val_loss: 2.2589 - val_categorical_accuracy: 0.5097\n",
      "Epoch 27/75\n",
      "21964/21964 [==============================] - 0s 11us/step - loss: 2.2708 - categorical_accuracy: 0.5004 - val_loss: 2.2375 - val_categorical_accuracy: 0.5285\n",
      "Epoch 28/75\n",
      "21964/21964 [==============================] - 0s 11us/step - loss: 2.2508 - categorical_accuracy: 0.5084 - val_loss: 2.2170 - val_categorical_accuracy: 0.5258\n",
      "Epoch 29/75\n",
      "21964/21964 [==============================] - 0s 11us/step - loss: 2.2309 - categorical_accuracy: 0.5094 - val_loss: 2.1970 - val_categorical_accuracy: 0.5369\n",
      "Epoch 30/75\n",
      "21964/21964 [==============================] - 0s 11us/step - loss: 2.2116 - categorical_accuracy: 0.5165 - val_loss: 2.1784 - val_categorical_accuracy: 0.5391\n",
      "Epoch 31/75\n",
      "21964/21964 [==============================] - 0s 11us/step - loss: 2.1932 - categorical_accuracy: 0.5240 - val_loss: 2.1588 - val_categorical_accuracy: 0.5460\n",
      "Epoch 32/75\n",
      "21964/21964 [==============================] - 0s 10us/step - loss: 2.1750 - categorical_accuracy: 0.5273 - val_loss: 2.1422 - val_categorical_accuracy: 0.5535\n",
      "Epoch 33/75\n",
      "21964/21964 [==============================] - 0s 10us/step - loss: 2.1573 - categorical_accuracy: 0.5329 - val_loss: 2.1238 - val_categorical_accuracy: 0.5502\n",
      "Epoch 34/75\n",
      "21964/21964 [==============================] - 0s 11us/step - loss: 2.1404 - categorical_accuracy: 0.5373 - val_loss: 2.1056 - val_categorical_accuracy: 0.5658\n",
      "Epoch 35/75\n",
      "21964/21964 [==============================] - 0s 11us/step - loss: 2.1236 - categorical_accuracy: 0.5435 - val_loss: 2.0897 - val_categorical_accuracy: 0.5569\n",
      "Epoch 36/75\n",
      "21964/21964 [==============================] - 0s 10us/step - loss: 2.1072 - categorical_accuracy: 0.5448 - val_loss: 2.0728 - val_categorical_accuracy: 0.5666\n",
      "Epoch 37/75\n",
      "21964/21964 [==============================] - 0s 12us/step - loss: 2.0915 - categorical_accuracy: 0.5489 - val_loss: 2.0595 - val_categorical_accuracy: 0.5766\n",
      "Epoch 38/75\n",
      "21964/21964 [==============================] - 0s 11us/step - loss: 2.0761 - categorical_accuracy: 0.5557 - val_loss: 2.0436 - val_categorical_accuracy: 0.5742\n",
      "Epoch 39/75\n",
      "21964/21964 [==============================] - 0s 10us/step - loss: 2.0610 - categorical_accuracy: 0.5598 - val_loss: 2.0280 - val_categorical_accuracy: 0.5746\n",
      "Epoch 40/75\n",
      "21964/21964 [==============================] - 0s 10us/step - loss: 2.0462 - categorical_accuracy: 0.5658 - val_loss: 2.0136 - val_categorical_accuracy: 0.5684\n",
      "Epoch 41/75\n",
      "21964/21964 [==============================] - 0s 10us/step - loss: 2.0321 - categorical_accuracy: 0.5635 - val_loss: 1.9978 - val_categorical_accuracy: 0.5831\n",
      "Epoch 42/75\n",
      "21964/21964 [==============================] - 0s 10us/step - loss: 2.0183 - categorical_accuracy: 0.5677 - val_loss: 1.9835 - val_categorical_accuracy: 0.5904\n",
      "Epoch 43/75\n",
      "21964/21964 [==============================] - 0s 10us/step - loss: 2.0046 - categorical_accuracy: 0.5725 - val_loss: 1.9718 - val_categorical_accuracy: 0.5935\n",
      "Epoch 44/75\n",
      "21964/21964 [==============================] - 0s 12us/step - loss: 1.9911 - categorical_accuracy: 0.5759 - val_loss: 1.9570 - val_categorical_accuracy: 0.5853\n",
      "Epoch 45/75\n",
      "21964/21964 [==============================] - 0s 10us/step - loss: 1.9785 - categorical_accuracy: 0.5783 - val_loss: 1.9440 - val_categorical_accuracy: 0.5952\n",
      "Epoch 46/75\n",
      "21964/21964 [==============================] - 0s 10us/step - loss: 1.9657 - categorical_accuracy: 0.5811 - val_loss: 1.9323 - val_categorical_accuracy: 0.5944\n",
      "Epoch 47/75\n",
      "21964/21964 [==============================] - 0s 10us/step - loss: 1.9530 - categorical_accuracy: 0.5852 - val_loss: 1.9207 - val_categorical_accuracy: 0.5957\n",
      "Epoch 48/75\n",
      "21964/21964 [==============================] - 0s 11us/step - loss: 1.9410 - categorical_accuracy: 0.5890 - val_loss: 1.9085 - val_categorical_accuracy: 0.5977\n",
      "Epoch 49/75\n",
      "21964/21964 [==============================] - 0s 11us/step - loss: 1.9288 - categorical_accuracy: 0.5902 - val_loss: 1.8974 - val_categorical_accuracy: 0.6112\n",
      "Epoch 50/75\n",
      "21964/21964 [==============================] - 0s 11us/step - loss: 1.9174 - categorical_accuracy: 0.5937 - val_loss: 1.8839 - val_categorical_accuracy: 0.6196\n",
      "Epoch 51/75\n",
      "21964/21964 [==============================] - 0s 11us/step - loss: 1.9059 - categorical_accuracy: 0.5978 - val_loss: 1.8731 - val_categorical_accuracy: 0.6063\n",
      "Epoch 52/75\n",
      "21964/21964 [==============================] - 0s 12us/step - loss: 1.8949 - categorical_accuracy: 0.5985 - val_loss: 1.8619 - val_categorical_accuracy: 0.6161\n",
      "Epoch 53/75\n",
      "21964/21964 [==============================] - 0s 11us/step - loss: 1.8837 - categorical_accuracy: 0.6020 - val_loss: 1.8529 - val_categorical_accuracy: 0.6150\n",
      "Epoch 54/75\n",
      "21964/21964 [==============================] - 0s 10us/step - loss: 1.8730 - categorical_accuracy: 0.6044 - val_loss: 1.8402 - val_categorical_accuracy: 0.6130\n",
      "Epoch 55/75\n",
      "21964/21964 [==============================] - 0s 11us/step - loss: 1.8627 - categorical_accuracy: 0.6070 - val_loss: 1.8307 - val_categorical_accuracy: 0.6194\n",
      "Epoch 56/75\n",
      "21964/21964 [==============================] - 0s 10us/step - loss: 1.8521 - categorical_accuracy: 0.6070 - val_loss: 1.8194 - val_categorical_accuracy: 0.6298\n",
      "Epoch 57/75\n",
      "21964/21964 [==============================] - 0s 10us/step - loss: 1.8423 - categorical_accuracy: 0.6151 - val_loss: 1.8097 - val_categorical_accuracy: 0.6245\n",
      "Epoch 58/75\n",
      "21964/21964 [==============================] - 0s 12us/step - loss: 1.8323 - categorical_accuracy: 0.6154 - val_loss: 1.7999 - val_categorical_accuracy: 0.6236\n",
      "Epoch 59/75\n",
      "21964/21964 [==============================] - 0s 13us/step - loss: 1.8222 - categorical_accuracy: 0.6146 - val_loss: 1.7906 - val_categorical_accuracy: 0.6316\n",
      "Epoch 60/75\n",
      "21964/21964 [==============================] - 0s 14us/step - loss: 1.8127 - categorical_accuracy: 0.6194 - val_loss: 1.7824 - val_categorical_accuracy: 0.6263\n",
      "Epoch 61/75\n",
      "21964/21964 [==============================] - 0s 10us/step - loss: 1.8033 - categorical_accuracy: 0.6196 - val_loss: 1.7723 - val_categorical_accuracy: 0.6376\n",
      "Epoch 62/75\n",
      "21964/21964 [==============================] - 0s 10us/step - loss: 1.7943 - categorical_accuracy: 0.6245 - val_loss: 1.7621 - val_categorical_accuracy: 0.6370\n",
      "Epoch 63/75\n",
      "21964/21964 [==============================] - 0s 10us/step - loss: 1.7848 - categorical_accuracy: 0.6252 - val_loss: 1.7529 - val_categorical_accuracy: 0.6334\n",
      "Epoch 64/75\n",
      "21964/21964 [==============================] - 0s 10us/step - loss: 1.7764 - categorical_accuracy: 0.6241 - val_loss: 1.7435 - val_categorical_accuracy: 0.6480\n",
      "Epoch 65/75\n",
      "21964/21964 [==============================] - 0s 11us/step - loss: 1.7673 - categorical_accuracy: 0.6260 - val_loss: 1.7356 - val_categorical_accuracy: 0.6445\n",
      "Epoch 66/75\n",
      "21964/21964 [==============================] - 0s 11us/step - loss: 1.7589 - categorical_accuracy: 0.6259 - val_loss: 1.7262 - val_categorical_accuracy: 0.6487\n",
      "Epoch 67/75\n",
      "21964/21964 [==============================] - 0s 10us/step - loss: 1.7502 - categorical_accuracy: 0.6322 - val_loss: 1.7191 - val_categorical_accuracy: 0.6491\n",
      "Epoch 68/75\n",
      "21964/21964 [==============================] - 0s 11us/step - loss: 1.7422 - categorical_accuracy: 0.6343 - val_loss: 1.7104 - val_categorical_accuracy: 0.6498\n",
      "Epoch 69/75\n",
      "21964/21964 [==============================] - 0s 12us/step - loss: 1.7338 - categorical_accuracy: 0.6353 - val_loss: 1.7022 - val_categorical_accuracy: 0.6545\n",
      "Epoch 70/75\n",
      "21964/21964 [==============================] - 0s 10us/step - loss: 1.7257 - categorical_accuracy: 0.6358 - val_loss: 1.6946 - val_categorical_accuracy: 0.6531\n",
      "Epoch 71/75\n",
      "21964/21964 [==============================] - 0s 11us/step - loss: 1.7177 - categorical_accuracy: 0.6356 - val_loss: 1.6869 - val_categorical_accuracy: 0.6456\n",
      "Epoch 72/75\n",
      "21964/21964 [==============================] - 0s 11us/step - loss: 1.7101 - categorical_accuracy: 0.6372 - val_loss: 1.6791 - val_categorical_accuracy: 0.6538\n",
      "Epoch 73/75\n",
      "21964/21964 [==============================] - 0s 11us/step - loss: 1.7021 - categorical_accuracy: 0.6400 - val_loss: 1.6722 - val_categorical_accuracy: 0.6480\n",
      "Epoch 74/75\n",
      "21964/21964 [==============================] - 0s 11us/step - loss: 1.6948 - categorical_accuracy: 0.6388 - val_loss: 1.6634 - val_categorical_accuracy: 0.6483\n",
      "Epoch 75/75\n",
      "21964/21964 [==============================] - 0s 10us/step - loss: 1.6874 - categorical_accuracy: 0.6404 - val_loss: 1.6568 - val_categorical_accuracy: 0.6527\n",
      "7172/7172 [==============================] - 0s 42us/step\n"
     ]
    }
   ],
   "source": [
    "from time import time \n",
    "\n",
    "batch_sizes = [4, 8, 16, 32, 64, 128, 256, 512]\n",
    "test_results = {}\n",
    "\n",
    "for batch_size in batch_sizes: \n",
    "    start_time = time()\n",
    "    hist_model, test_loss, test_acc  = fit_base_model(train_x, train_y, test_x, test_y, batch_size, SGD)\n",
    "    training_time = time() - start_time\n",
    "    test_results[batch_size] = {\n",
    "        \"hist\": hist_model, \n",
    "        \"loss\": test_loss, \n",
    "        \"acc\": test_acc, \n",
    "        \"time\": training_time\n",
    "    }"
   ]
  },
  {
   "cell_type": "code",
   "execution_count": 0,
   "metadata": {
    "colab": {},
    "colab_type": "code",
    "id": "KSYn9bo7Sycx"
   },
   "outputs": [],
   "source": []
  },
  {
   "cell_type": "code",
   "execution_count": 43,
   "metadata": {
    "colab": {
     "base_uri": "https://localhost:8080/",
     "height": 1000
    },
    "colab_type": "code",
    "id": "7HSINH6rcDmL",
    "outputId": "47fc95ef-75c8-497e-8347-8d1313500574",
    "scrolled": false
   },
   "outputs": [
    {
     "data": {
      "image/png": "[encoded data removed]",
      "text/plain": [
       "<Figure size 432x288 with 1 Axes>"
      ]
     },
     "metadata": {
      "tags": []
     },
     "output_type": "display_data"
    },
    {
     "data": {
      "image/png": "[encoded data removed]",
      "text/plain": [
       "<Figure size 432x288 with 1 Axes>"
      ]
     },
     "metadata": {
      "tags": []
     },
     "output_type": "display_data"
    },
    {
     "data": {
      "image/png": "[encoded data removed]",
      "text/plain": [
       "<Figure size 432x288 with 1 Axes>"
      ]
     },
     "metadata": {
      "tags": []
     },
     "output_type": "display_data"
    },
    {
     "data": {
      "image/png": "[encoded data removed]",
      "text/plain": [
       "<Figure size 432x288 with 1 Axes>"
      ]
     },
     "metadata": {
      "tags": []
     },
     "output_type": "display_data"
    },
    {
     "data": {
      "image/png": "[encoded data removed]",
      "text/plain": [
       "<Figure size 432x288 with 1 Axes>"
      ]
     },
     "metadata": {
      "tags": []
     },
     "output_type": "display_data"
    },
    {
     "data": {
      "image/png": "[encoded data removed]",
      "text/plain": [
       "<Figure size 432x288 with 1 Axes>"
      ]
     },
     "metadata": {
      "tags": []
     },
     "output_type": "display_data"
    },
    {
     "data": {
      "image/png": "[encoded data removed]",
      "text/plain": [
       "<Figure size 432x288 with 1 Axes>"
      ]
     },
     "metadata": {
      "tags": []
     },
     "output_type": "display_data"
    },
    {
     "data": {
      "image/png": "[encoded data removed]",
      "text/plain": [
       "<Figure size 432x288 with 1 Axes>"
      ]
     },
     "metadata": {
      "tags": []
     },
     "output_type": "display_data"
    }
   ],
   "source": [
    "test_acces = []\n",
    "test_losses = []\n",
    "training_times = [] \n",
    "\n",
    "\n",
    "for batch_size, result in test_results.items(): \n",
    "    ## show training accuracy \n",
    "    hist = result['hist']\n",
    "\n",
    "    test_acces.append(result['acc'])\n",
    "    test_losses.append(result['loss'])\n",
    "    training_times.append(result['time'])\n",
    "\n",
    "    plt.plot(hist.history['categorical_accuracy'], label=\"Train\")\n",
    "    plt.plot(hist.history['val_categorical_accuracy'], label=\"Val\")\n",
    "\n",
    "    info = \"batch_size: {}\".format(batch_size)\n",
    "    plt.title('Model accuracy {}'.format(info))\n",
    "    plt.ylabel('Accuracy')\n",
    "    plt.xlabel('Epoch')\n",
    "    plt.legend()\n",
    "    plt.show()\n",
    "  "
   ]
  },
  {
   "cell_type": "code",
   "execution_count": 61,
   "metadata": {
    "colab": {
     "base_uri": "https://localhost:8080/",
     "height": 295
    },
    "colab_type": "code",
    "id": "2SYSKGm4cCX5",
    "outputId": "5abe212d-9a2c-453e-ff54-3012d7309ab8"
   },
   "outputs": [
    {
     "data": {
      "image/png": "[encoded data removed]",
      "text/plain": [
       "<Figure size 432x288 with 1 Axes>"
      ]
     },
     "metadata": {
      "tags": []
     },
     "output_type": "display_data"
    }
   ],
   "source": [
    "plt.plot(batch_sizes, test_acces)\n",
    "plt.plot(batch_sizes, test_acces, \"*\")\n",
    "plt.title(\"Training accuracy\")\n",
    "plt.xlabel(\"Batch size\")\n",
    "plt.ylabel(\"Accuracy\")\n",
    "plt.show()"
   ]
  },
  {
   "cell_type": "code",
   "execution_count": 60,
   "metadata": {
    "colab": {
     "base_uri": "https://localhost:8080/",
     "height": 295
    },
    "colab_type": "code",
    "id": "TodeyMJ9zNAG",
    "outputId": "873ada98-b581-48fc-b4b5-1c00bf362e97"
   },
   "outputs": [
    {
     "data": {
      "image/png": "[encoded data removed]",
      "text/plain": [
       "<Figure size 432x288 with 1 Axes>"
      ]
     },
     "metadata": {
      "tags": []
     },
     "output_type": "display_data"
    }
   ],
   "source": [
    "plt.plot(batch_sizes, test_losses)\n",
    "plt.plot(batch_sizes, test_losses, \"*\")\n",
    "plt.title(\"Training loss\")\n",
    "plt.xlabel(\"Batch size\")\n",
    "plt.ylabel(\"Loss\")\n",
    "plt.show()"
   ]
  },
  {
   "cell_type": "code",
   "execution_count": 59,
   "metadata": {
    "colab": {
     "base_uri": "https://localhost:8080/",
     "height": 295
    },
    "colab_type": "code",
    "id": "IcLGwcmASyGe",
    "outputId": "145bc699-6abf-426c-82cd-3522751b948c"
   },
   "outputs": [
    {
     "data": {
      "image/png": "[encoded data removed]",
      "text/plain": [
       "<Figure size 432x288 with 1 Axes>"
      ]
     },
     "metadata": {
      "tags": []
     },
     "output_type": "display_data"
    }
   ],
   "source": [
    "plt.plot(batch_sizes, training_times)\n",
    "plt.plot(batch_sizes, training_times, \"*\")\n",
    "plt.title(\"Training time over epochs\")\n",
    "plt.xlabel(\"Batch size\")\n",
    "plt.ylabel(\"Time(s)\")\n",
    "plt.show()"
   ]
  },
  {
   "cell_type": "code",
   "execution_count": 0,
   "metadata": {
    "colab": {},
    "colab_type": "code",
    "id": "gKAAJLddz6_p"
   },
   "outputs": [],
   "source": []
  },
  {
   "cell_type": "code",
   "execution_count": 82,
   "metadata": {
    "colab": {
     "base_uri": "https://localhost:8080/",
     "height": 180
    },
    "colab_type": "code",
    "id": "VqMCwJnx3nIb",
    "outputId": "3036ec14-bac7-45ba-b9e2-f1cadaab8846"
   },
   "outputs": [
    {
     "name": "stdout",
     "output_type": "stream",
     "text": [
      "batch size | test acc | test loss | time |\n",
      "------------------------------------------\n",
      "         4 |  0.69827 |   1.16902 | 1255 | \n",
      "         8 |  0.68252 |   1.11752 |  641 | \n",
      "        16 |  0.69953 |   1.01501 |  330 | \n",
      "        32 |  0.68907 |   1.03530 |  167 | \n",
      "        64 |  0.66550 |   1.14412 |   90 | \n",
      "       128 |  0.65296 |   1.30992 |   52 | \n",
      "       256 |  0.58450 |   1.54018 |   30 | \n",
      "       512 |  0.55438 |   1.82820 |   19 | \n"
     ]
    }
   ],
   "source": [
    "print(\"{} | {} | {} | {} |\".format(\"batch size\", \"test acc\", \"test loss\", \"time\"))\n",
    "print(\"-\"*42)\n",
    "for i in range(len(batch_sizes)):\n",
    "    print(\"{:>10} | {:>8.5f} | {:>9.5f} | {:>4.0f} | \".format(batch_sizes[i], test_acces[i], test_losses[i], training_times[i]))"
   ]
  },
  {
   "cell_type": "code",
   "execution_count": 0,
   "metadata": {
    "colab": {},
    "colab_type": "code",
    "id": "Pt1UVxFb3nVr"
   },
   "outputs": [],
   "source": []
  },
  {
   "cell_type": "markdown",
   "metadata": {
    "colab_type": "text",
    "id": "6RFWLRfd1v9F"
   },
   "source": [
    "We trained the base model for 75 epochs with different batch sizes. Here are some observations: \n",
    "* The curve for training and validation accuracy for each epoch is more smooth if the batch size is smaller.  \n",
    "* If the batch size is too small, it takes more time to train. \n",
    "* If the batch size is too large, the training time is short, but it does not help to train the model (loss is still high and accuracy is low).\n",
    "\n",
    "By considering the trade-off between the time, accuracy, and loss, probably batch size 128 would be good. It does not take much time to train, but still, we can get low loss test loss and high accuracy. "
   ]
  },
  {
   "cell_type": "code",
   "execution_count": 0,
   "metadata": {
    "colab": {},
    "colab_type": "code",
    "id": "R_bUrOAaz678"
   },
   "outputs": [],
   "source": []
  },
  {
   "cell_type": "code",
   "execution_count": 0,
   "metadata": {
    "colab": {},
    "colab_type": "code",
    "id": "7IzwLDvFz65C"
   },
   "outputs": [],
   "source": []
  },
  {
   "cell_type": "code",
   "execution_count": 0,
   "metadata": {
    "colab": {},
    "colab_type": "code",
    "id": "jx83r3LZz600"
   },
   "outputs": [],
   "source": [
    "model_results = {} "
   ]
  },
  {
   "cell_type": "markdown",
   "metadata": {},
   "source": [
    "**Experiments**: layers\n",
    "\n",
    "For the model below (model 2 - 4), we create different models with a different number of layers and see which one works better. We use the `categorical_accuracy` as a metric. The batch size is 128, based on the previous experiments. We use Adam as an optimizer for now. "
   ]
  },
  {
   "cell_type": "markdown",
   "metadata": {
    "colab_type": "text",
    "id": "26TiAY8oWRe9"
   },
   "source": [
    "#### Model 2\n",
    "We add one layer of the convolutional layer with a max pooling. "
   ]
  },
  {
   "cell_type": "code",
   "execution_count": 0,
   "metadata": {
    "colab": {},
    "colab_type": "code",
    "id": "th7TZNC5Wzf7"
   },
   "outputs": [],
   "source": [
    "x_test = test_x.reshape(len(test_x), 28, 28, 1)\n",
    "x_train = train_x.reshape(len(train_x), 28, 28, 1)"
   ]
  },
  {
   "cell_type": "code",
   "execution_count": 0,
   "metadata": {
    "colab": {},
    "colab_type": "code",
    "id": "3ZnfVZEqcwB7"
   },
   "outputs": [],
   "source": [
    "def plot_train_hist(hist, info=\"\"): \n",
    "\n",
    "    ## show training accuracy \n",
    "    plt.plot(hist.history['categorical_accuracy'], label=\"Train\")\n",
    "    plt.plot(hist.history['val_categorical_accuracy'], label=\"Val\")\n",
    "    plt.title('Model accuracy {}'.format(info))\n",
    "    plt.ylabel('Accuracy')\n",
    "    plt.xlabel('Epoch')\n",
    "    plt.legend()\n",
    "    plt.show()\n",
    "\n",
    "    ## show training loss \n",
    "    plt.plot(hist.history['loss'], label=\"Train\")\n",
    "    plt.plot(hist.history['val_loss'], label=\"val\")\n",
    "    plt.title('Model loss {}'.format(info))\n",
    "    plt.ylabel('Loss')\n",
    "    plt.xlabel('Epoch')\n",
    "    plt.legend()\n",
    "    plt.show()\n",
    "\n"
   ]
  },
  {
   "cell_type": "code",
   "execution_count": 140,
   "metadata": {
    "colab": {
     "base_uri": "https://localhost:8080/",
     "height": 310
    },
    "colab_type": "code",
    "id": "nwHTsQfKW8nL",
    "outputId": "4185802c-eb4d-43ce-f12c-f0e86c64b78c"
   },
   "outputs": [
    {
     "name": "stdout",
     "output_type": "stream",
     "text": [
      "Model: \"sequential_29\"\n",
      "_________________________________________________________________\n",
      "Layer (type)                 Output Shape              Param #   \n",
      "=================================================================\n",
      "conv2d_33 (Conv2D)           (None, 26, 26, 64)        640       \n",
      "_________________________________________________________________\n",
      "max_pooling2d_33 (MaxPooling (None, 13, 13, 64)        0         \n",
      "_________________________________________________________________\n",
      "flatten_17 (Flatten)         (None, 10816)             0         \n",
      "_________________________________________________________________\n",
      "dense_45 (Dense)             (None, 128)               1384576   \n",
      "_________________________________________________________________\n",
      "dense_46 (Dense)             (None, 25)                3225      \n",
      "=================================================================\n",
      "Total params: 1,388,441\n",
      "Trainable params: 1,388,441\n",
      "Non-trainable params: 0\n",
      "_________________________________________________________________\n"
     ]
    }
   ],
   "source": [
    "model_layer = Sequential() \n",
    "\n",
    "model_layer.add(Conv2D(64, kernel_size=(3, 3), input_shape=(28,28,1))) \n",
    "model_layer.add(MaxPooling2D(pool_size=(2, 2))) \n",
    "\n",
    "model_layer.add(Flatten())\n",
    "model_layer.add(Dense(128, activation='relu')) \n",
    "model_layer.add(Dense(25, activation='softmax')) \n",
    "model_layer.summary()\n",
    "\n",
    "model_layer.compile(loss='categorical_crossentropy', optimizer=Adam(), metrics=['categorical_accuracy'])"
   ]
  },
  {
   "cell_type": "code",
   "execution_count": 141,
   "metadata": {
    "colab": {
     "base_uri": "https://localhost:8080/",
     "height": 683
    },
    "colab_type": "code",
    "id": "NoI61C3rXQBj",
    "outputId": "afaff7c1-404a-4988-bb32-aeb6180decad"
   },
   "outputs": [
    {
     "name": "stdout",
     "output_type": "stream",
     "text": [
      "Train on 21964 samples, validate on 5491 samples\n",
      "Epoch 1/20\n",
      "21964/21964 [==============================] - 3s 125us/step - loss: 1.9891 - categorical_accuracy: 0.4202 - val_loss: 1.0790 - val_categorical_accuracy: 0.6917\n",
      "Epoch 2/20\n",
      "21964/21964 [==============================] - 1s 58us/step - loss: 0.8337 - categorical_accuracy: 0.7614 - val_loss: 0.5860 - val_categorical_accuracy: 0.8275\n",
      "Epoch 3/20\n",
      "21964/21964 [==============================] - 1s 57us/step - loss: 0.4509 - categorical_accuracy: 0.8844 - val_loss: 0.3303 - val_categorical_accuracy: 0.9213\n",
      "Epoch 4/20\n",
      "21964/21964 [==============================] - 1s 57us/step - loss: 0.2520 - categorical_accuracy: 0.9483 - val_loss: 0.1705 - val_categorical_accuracy: 0.9721\n",
      "Epoch 5/20\n",
      "21964/21964 [==============================] - 1s 58us/step - loss: 0.1356 - categorical_accuracy: 0.9810 - val_loss: 0.0948 - val_categorical_accuracy: 0.9951\n",
      "Epoch 6/20\n",
      "21964/21964 [==============================] - 1s 56us/step - loss: 0.0757 - categorical_accuracy: 0.9942 - val_loss: 0.0575 - val_categorical_accuracy: 0.9976\n",
      "Epoch 7/20\n",
      "21964/21964 [==============================] - 1s 59us/step - loss: 0.0453 - categorical_accuracy: 0.9981 - val_loss: 0.0347 - val_categorical_accuracy: 0.9996\n",
      "Epoch 8/20\n",
      "21964/21964 [==============================] - 1s 58us/step - loss: 0.0294 - categorical_accuracy: 0.9993 - val_loss: 0.0233 - val_categorical_accuracy: 0.9998\n",
      "Epoch 9/20\n",
      "21964/21964 [==============================] - 1s 57us/step - loss: 0.0226 - categorical_accuracy: 0.9993 - val_loss: 0.0196 - val_categorical_accuracy: 0.9996\n",
      "Epoch 10/20\n",
      "21964/21964 [==============================] - 1s 59us/step - loss: 0.0159 - categorical_accuracy: 0.9998 - val_loss: 0.0126 - val_categorical_accuracy: 1.0000\n",
      "Epoch 11/20\n",
      "21964/21964 [==============================] - 1s 56us/step - loss: 0.0123 - categorical_accuracy: 0.9994 - val_loss: 0.0090 - val_categorical_accuracy: 1.0000\n",
      "Epoch 12/20\n",
      "21964/21964 [==============================] - 1s 56us/step - loss: 0.0079 - categorical_accuracy: 1.0000 - val_loss: 0.0072 - val_categorical_accuracy: 1.0000\n",
      "Epoch 13/20\n",
      "21964/21964 [==============================] - 1s 55us/step - loss: 0.0061 - categorical_accuracy: 1.0000 - val_loss: 0.0059 - val_categorical_accuracy: 1.0000\n",
      "Epoch 14/20\n",
      "21964/21964 [==============================] - 1s 54us/step - loss: 0.0144 - categorical_accuracy: 0.9981 - val_loss: 0.0060 - val_categorical_accuracy: 1.0000\n",
      "Epoch 15/20\n",
      "21964/21964 [==============================] - 1s 56us/step - loss: 0.0047 - categorical_accuracy: 1.0000 - val_loss: 0.0044 - val_categorical_accuracy: 1.0000\n",
      "Epoch 16/20\n",
      "21964/21964 [==============================] - 1s 58us/step - loss: 0.0035 - categorical_accuracy: 1.0000 - val_loss: 0.0032 - val_categorical_accuracy: 1.0000\n",
      "Epoch 17/20\n",
      "21964/21964 [==============================] - 1s 57us/step - loss: 0.0028 - categorical_accuracy: 1.0000 - val_loss: 0.0033 - val_categorical_accuracy: 1.0000\n",
      "Epoch 18/20\n",
      "21964/21964 [==============================] - 1s 55us/step - loss: 0.0024 - categorical_accuracy: 1.0000 - val_loss: 0.0024 - val_categorical_accuracy: 1.0000\n",
      "Epoch 19/20\n",
      "21964/21964 [==============================] - 1s 60us/step - loss: 0.0019 - categorical_accuracy: 1.0000 - val_loss: 0.0020 - val_categorical_accuracy: 1.0000\n",
      "Epoch 20/20\n",
      "21964/21964 [==============================] - 1s 58us/step - loss: 0.0016 - categorical_accuracy: 1.0000 - val_loss: 0.0016 - val_categorical_accuracy: 1.0000\n"
     ]
    }
   ],
   "source": [
    "hist_model_layer = model_layer.fit(x_train, train_y, batch_size=128, epochs=20, validation_split=0.2)"
   ]
  },
  {
   "cell_type": "code",
   "execution_count": 142,
   "metadata": {
    "colab": {
     "base_uri": "https://localhost:8080/",
     "height": 572
    },
    "colab_type": "code",
    "id": "WoQGRjKhSyD_",
    "outputId": "d3a5c812-1f72-4cf1-ed62-08e7cc48ebf0"
   },
   "outputs": [
    {
     "data": {
      "image/png": "[encoded data removed]",
      "text/plain": [
       "<Figure size 432x288 with 1 Axes>"
      ]
     },
     "metadata": {
      "tags": []
     },
     "output_type": "display_data"
    },
    {
     "data": {
      "image/png": "[encoded data removed]",
      "text/plain": [
       "<Figure size 432x288 with 1 Axes>"
      ]
     },
     "metadata": {
      "tags": []
     },
     "output_type": "display_data"
    }
   ],
   "source": [
    "plot_train_hist(hist_model_layer)"
   ]
  },
  {
   "cell_type": "code",
   "execution_count": 145,
   "metadata": {
    "colab": {
     "base_uri": "https://localhost:8080/",
     "height": 66
    },
    "colab_type": "code",
    "id": "dN2iDxs9XQOP",
    "outputId": "2beb18ec-f91e-4fd2-aa09-9bc3182c6202"
   },
   "outputs": [
    {
     "name": "stdout",
     "output_type": "stream",
     "text": [
      "7172/7172 [==============================] - 0s 68us/step\n",
      "test_loss:1.0319985560731306\n",
      "test_acc: 0.795175683212493\n"
     ]
    }
   ],
   "source": [
    "test_loss, test_acc = model_layer.evaluate(x_test, test_y)\n",
    "model_results[\"layer_1\"] = (test_loss, test_acc)\n",
    "print(\"test_loss:{}\".format(test_loss))\n",
    "print(\"test_acc: {}\".format(test_acc))"
   ]
  },
  {
   "cell_type": "code",
   "execution_count": 0,
   "metadata": {
    "colab": {},
    "colab_type": "code",
    "id": "KdrbQUzySx-r"
   },
   "outputs": [],
   "source": []
  },
  {
   "cell_type": "code",
   "execution_count": 0,
   "metadata": {
    "colab": {},
    "colab_type": "code",
    "id": "IcMz_iVkXQJD"
   },
   "outputs": [],
   "source": []
  },
  {
   "cell_type": "markdown",
   "metadata": {
    "colab_type": "text",
    "id": "FyXkNvihh_0Y"
   },
   "source": [
    "#### Model 3\n",
    "We add one more layer of the convolutional layer with a max pooling. "
   ]
  },
  {
   "cell_type": "code",
   "execution_count": 137,
   "metadata": {
    "colab": {
     "base_uri": "https://localhost:8080/",
     "height": 375
    },
    "colab_type": "code",
    "id": "9d8-7uhIdimB",
    "outputId": "f9c5439f-cf68-449c-f57c-ce1adc2e8fd3"
   },
   "outputs": [
    {
     "name": "stdout",
     "output_type": "stream",
     "text": [
      "Model: \"sequential_28\"\n",
      "_________________________________________________________________\n",
      "Layer (type)                 Output Shape              Param #   \n",
      "=================================================================\n",
      "conv2d_31 (Conv2D)           (None, 26, 26, 64)        640       \n",
      "_________________________________________________________________\n",
      "max_pooling2d_31 (MaxPooling (None, 13, 13, 64)        0         \n",
      "_________________________________________________________________\n",
      "conv2d_32 (Conv2D)           (None, 11, 11, 64)        36928     \n",
      "_________________________________________________________________\n",
      "max_pooling2d_32 (MaxPooling (None, 5, 5, 64)          0         \n",
      "_________________________________________________________________\n",
      "flatten_16 (Flatten)         (None, 1600)              0         \n",
      "_________________________________________________________________\n",
      "dense_43 (Dense)             (None, 128)               204928    \n",
      "_________________________________________________________________\n",
      "dense_44 (Dense)             (None, 25)                3225      \n",
      "=================================================================\n",
      "Total params: 245,721\n",
      "Trainable params: 245,721\n",
      "Non-trainable params: 0\n",
      "_________________________________________________________________\n"
     ]
    }
   ],
   "source": [
    "model_layers_2 = Sequential() \n",
    "\n",
    "model_layers_2.add(Conv2D(64, kernel_size=(3, 3), input_shape=(28,28,1))) \n",
    "model_layers_2.add(MaxPooling2D(pool_size=(2, 2))) \n",
    "\n",
    "model_layers_2.add(Conv2D(64, kernel_size=(3, 3), activation='relu')) \n",
    "model_layers_2.add(MaxPooling2D(pool_size=(2, 2))) \n",
    "\n",
    "model_layers_2.add(Flatten())\n",
    "model_layers_2.add(Dense(128, activation='relu')) \n",
    "model_layers_2.add(Dense(25, activation='softmax')) \n",
    "model_layers_2.summary()\n",
    "\n",
    "model_layers_2.compile(loss='categorical_crossentropy', optimizer=Adam(), metrics=['categorical_accuracy'])"
   ]
  },
  {
   "cell_type": "code",
   "execution_count": 138,
   "metadata": {
    "colab": {
     "base_uri": "https://localhost:8080/",
     "height": 683
    },
    "colab_type": "code",
    "id": "YIM2Mo0Ediw8",
    "outputId": "6d7916d1-e6a2-472b-9b03-6eed7a05ec24"
   },
   "outputs": [
    {
     "name": "stdout",
     "output_type": "stream",
     "text": [
      "Train on 21964 samples, validate on 5491 samples\n",
      "Epoch 1/20\n",
      "21964/21964 [==============================] - 3s 130us/step - loss: 1.7814 - categorical_accuracy: 0.4789 - val_loss: 0.6771 - val_categorical_accuracy: 0.8095\n",
      "Epoch 2/20\n",
      "21964/21964 [==============================] - 1s 62us/step - loss: 0.4189 - categorical_accuracy: 0.8804 - val_loss: 0.1954 - val_categorical_accuracy: 0.9608\n",
      "Epoch 3/20\n",
      "21964/21964 [==============================] - 1s 63us/step - loss: 0.1239 - categorical_accuracy: 0.9753 - val_loss: 0.0562 - val_categorical_accuracy: 0.9945\n",
      "Epoch 4/20\n",
      "21964/21964 [==============================] - 1s 61us/step - loss: 0.0392 - categorical_accuracy: 0.9967 - val_loss: 0.0262 - val_categorical_accuracy: 0.9960\n",
      "Epoch 5/20\n",
      "21964/21964 [==============================] - 1s 63us/step - loss: 0.0147 - categorical_accuracy: 0.9996 - val_loss: 0.0090 - val_categorical_accuracy: 1.0000\n",
      "Epoch 6/20\n",
      "21964/21964 [==============================] - 1s 65us/step - loss: 0.0074 - categorical_accuracy: 1.0000 - val_loss: 0.0063 - val_categorical_accuracy: 1.0000\n",
      "Epoch 7/20\n",
      "21964/21964 [==============================] - 1s 66us/step - loss: 0.0046 - categorical_accuracy: 1.0000 - val_loss: 0.0051 - val_categorical_accuracy: 0.9995\n",
      "Epoch 8/20\n",
      "21964/21964 [==============================] - 1s 64us/step - loss: 0.0032 - categorical_accuracy: 1.0000 - val_loss: 0.0025 - val_categorical_accuracy: 1.0000\n",
      "Epoch 9/20\n",
      "21964/21964 [==============================] - 1s 62us/step - loss: 0.0022 - categorical_accuracy: 1.0000 - val_loss: 0.0018 - val_categorical_accuracy: 1.0000\n",
      "Epoch 10/20\n",
      "21964/21964 [==============================] - 1s 63us/step - loss: 0.0019 - categorical_accuracy: 1.0000 - val_loss: 0.0014 - val_categorical_accuracy: 1.0000\n",
      "Epoch 11/20\n",
      "21964/21964 [==============================] - 1s 64us/step - loss: 0.0012 - categorical_accuracy: 1.0000 - val_loss: 9.9919e-04 - val_categorical_accuracy: 1.0000\n",
      "Epoch 12/20\n",
      "21964/21964 [==============================] - 1s 64us/step - loss: 9.0043e-04 - categorical_accuracy: 1.0000 - val_loss: 8.3605e-04 - val_categorical_accuracy: 1.0000\n",
      "Epoch 13/20\n",
      "21964/21964 [==============================] - 1s 61us/step - loss: 7.3382e-04 - categorical_accuracy: 1.0000 - val_loss: 6.8528e-04 - val_categorical_accuracy: 1.0000\n",
      "Epoch 14/20\n",
      "21964/21964 [==============================] - 1s 65us/step - loss: 6.0486e-04 - categorical_accuracy: 1.0000 - val_loss: 7.2052e-04 - val_categorical_accuracy: 1.0000\n",
      "Epoch 15/20\n",
      "21964/21964 [==============================] - 1s 63us/step - loss: 5.0376e-04 - categorical_accuracy: 1.0000 - val_loss: 4.7212e-04 - val_categorical_accuracy: 1.0000\n",
      "Epoch 16/20\n",
      "21964/21964 [==============================] - 1s 63us/step - loss: 4.0929e-04 - categorical_accuracy: 1.0000 - val_loss: 4.1380e-04 - val_categorical_accuracy: 1.0000\n",
      "Epoch 17/20\n",
      "21964/21964 [==============================] - 1s 63us/step - loss: 3.4967e-04 - categorical_accuracy: 1.0000 - val_loss: 3.4064e-04 - val_categorical_accuracy: 1.0000\n",
      "Epoch 18/20\n",
      "21964/21964 [==============================] - 1s 62us/step - loss: 2.9587e-04 - categorical_accuracy: 1.0000 - val_loss: 2.9814e-04 - val_categorical_accuracy: 1.0000\n",
      "Epoch 19/20\n",
      "21964/21964 [==============================] - 1s 66us/step - loss: 2.5390e-04 - categorical_accuracy: 1.0000 - val_loss: 2.6707e-04 - val_categorical_accuracy: 1.0000\n",
      "Epoch 20/20\n",
      "21964/21964 [==============================] - 1s 64us/step - loss: 2.2212e-04 - categorical_accuracy: 1.0000 - val_loss: 2.3365e-04 - val_categorical_accuracy: 1.0000\n"
     ]
    }
   ],
   "source": [
    "hist_model_layers_2 = model_layers_2.fit(x_train, train_y, batch_size=128, epochs=20, validation_split=0.2)"
   ]
  },
  {
   "cell_type": "code",
   "execution_count": 139,
   "metadata": {
    "colab": {
     "base_uri": "https://localhost:8080/",
     "height": 572
    },
    "colab_type": "code",
    "id": "0BQTOAbW6Aqm",
    "outputId": "9e9d479f-f7cc-4e95-f5c7-6e599c601abb"
   },
   "outputs": [
    {
     "data": {
      "image/png": "[encoded data removed]",
      "text/plain": [
       "<Figure size 432x288 with 1 Axes>"
      ]
     },
     "metadata": {
      "tags": []
     },
     "output_type": "display_data"
    },
    {
     "data": {
      "image/png": "[encoded data removed]",
      "text/plain": [
       "<Figure size 432x288 with 1 Axes>"
      ]
     },
     "metadata": {
      "tags": []
     },
     "output_type": "display_data"
    }
   ],
   "source": [
    "plot_train_hist(hist_model_layers_2)"
   ]
  },
  {
   "cell_type": "code",
   "execution_count": 146,
   "metadata": {
    "colab": {
     "base_uri": "https://localhost:8080/",
     "height": 66
    },
    "colab_type": "code",
    "id": "Y0i4XFpkdiur",
    "outputId": "876cfb57-719c-43c4-c5a3-c3001f036c5a"
   },
   "outputs": [
    {
     "name": "stdout",
     "output_type": "stream",
     "text": [
      "7172/7172 [==============================] - 0s 67us/step\n",
      "test_loss:0.5367349062736442\n",
      "test_acc: 0.9107640825432236\n"
     ]
    }
   ],
   "source": [
    "test_loss, test_acc = model_layers_2.evaluate(x_test, test_y)\n",
    "model_results[\"layer_2\"] = (test_loss, test_acc)\n",
    "print(\"test_loss:{}\".format(test_loss))\n",
    "print(\"test_acc: {}\".format(test_acc))"
   ]
  },
  {
   "cell_type": "code",
   "execution_count": 0,
   "metadata": {
    "colab": {},
    "colab_type": "code",
    "id": "fvbCXkDNdisJ"
   },
   "outputs": [],
   "source": []
  },
  {
   "cell_type": "code",
   "execution_count": 0,
   "metadata": {
    "colab": {},
    "colab_type": "code",
    "id": "9i-ncOB7diph"
   },
   "outputs": [],
   "source": []
  },
  {
   "cell_type": "code",
   "execution_count": 0,
   "metadata": {
    "colab": {},
    "colab_type": "code",
    "id": "mxMjXriVdijs"
   },
   "outputs": [],
   "source": []
  },
  {
   "cell_type": "markdown",
   "metadata": {
    "colab_type": "text",
    "id": "d9Wrm8foq9Y2"
   },
   "source": [
    "#### Model 4\n",
    "We add one more layer of the convolutional layer with a max pooling. This model has the total of 3 convolutional and max poolings"
   ]
  },
  {
   "cell_type": "code",
   "execution_count": 134,
   "metadata": {
    "colab": {
     "base_uri": "https://localhost:8080/",
     "height": 440
    },
    "colab_type": "code",
    "id": "U0nR7TEKdihD",
    "outputId": "905ba984-1388-462a-944d-6768a857822b"
   },
   "outputs": [
    {
     "name": "stdout",
     "output_type": "stream",
     "text": [
      "Model: \"sequential_27\"\n",
      "_________________________________________________________________\n",
      "Layer (type)                 Output Shape              Param #   \n",
      "=================================================================\n",
      "conv2d_28 (Conv2D)           (None, 26, 26, 64)        640       \n",
      "_________________________________________________________________\n",
      "max_pooling2d_28 (MaxPooling (None, 13, 13, 64)        0         \n",
      "_________________________________________________________________\n",
      "conv2d_29 (Conv2D)           (None, 11, 11, 64)        36928     \n",
      "_________________________________________________________________\n",
      "max_pooling2d_29 (MaxPooling (None, 5, 5, 64)          0         \n",
      "_________________________________________________________________\n",
      "conv2d_30 (Conv2D)           (None, 3, 3, 64)          36928     \n",
      "_________________________________________________________________\n",
      "max_pooling2d_30 (MaxPooling (None, 1, 1, 64)          0         \n",
      "_________________________________________________________________\n",
      "flatten_15 (Flatten)         (None, 64)                0         \n",
      "_________________________________________________________________\n",
      "dense_41 (Dense)             (None, 128)               8320      \n",
      "_________________________________________________________________\n",
      "dense_42 (Dense)             (None, 25)                3225      \n",
      "=================================================================\n",
      "Total params: 86,041\n",
      "Trainable params: 86,041\n",
      "Non-trainable params: 0\n",
      "_________________________________________________________________\n"
     ]
    }
   ],
   "source": [
    "model_layers_3 = Sequential() \n",
    "\n",
    "model_layers_3.add(Conv2D(64, kernel_size=(3, 3), input_shape=(28,28,1))) \n",
    "model_layers_3.add(MaxPooling2D(pool_size=(2, 2))) \n",
    "\n",
    "model_layers_3.add(Conv2D(64, kernel_size=(3, 3), activation='relu')) \n",
    "model_layers_3.add(MaxPooling2D(pool_size=(2, 2))) \n",
    "\n",
    "model_layers_3.add(Conv2D(64, kernel_size=(3, 3), activation='relu')) \n",
    "model_layers_3.add(MaxPooling2D(pool_size=(2, 2))) \n",
    "\n",
    "model_layers_3.add(Flatten())\n",
    "model_layers_3.add(Dense(128, activation='relu')) \n",
    "model_layers_3.add(Dense(25, activation='softmax')) \n",
    "model_layers_3.summary()\n",
    "\n",
    "model_layers_3.compile(loss='categorical_crossentropy', optimizer=Adam(), metrics=['categorical_accuracy'])"
   ]
  },
  {
   "cell_type": "code",
   "execution_count": 135,
   "metadata": {
    "colab": {
     "base_uri": "https://localhost:8080/",
     "height": 683
    },
    "colab_type": "code",
    "id": "exMetBZIXQG5",
    "outputId": "ad815bed-9d3d-4e25-de8a-8ef54bd0fb7d"
   },
   "outputs": [
    {
     "name": "stdout",
     "output_type": "stream",
     "text": [
      "Train on 21964 samples, validate on 5491 samples\n",
      "Epoch 1/20\n",
      "21964/21964 [==============================] - 3s 129us/step - loss: 2.4516 - categorical_accuracy: 0.2574 - val_loss: 1.4502 - val_categorical_accuracy: 0.5460\n",
      "Epoch 2/20\n",
      "21964/21964 [==============================] - 1s 65us/step - loss: 1.0728 - categorical_accuracy: 0.6573 - val_loss: 0.7677 - val_categorical_accuracy: 0.7512\n",
      "Epoch 3/20\n",
      "21964/21964 [==============================] - 1s 63us/step - loss: 0.6013 - categorical_accuracy: 0.8013 - val_loss: 0.4345 - val_categorical_accuracy: 0.8594\n",
      "Epoch 4/20\n",
      "21964/21964 [==============================] - 1s 64us/step - loss: 0.3616 - categorical_accuracy: 0.8824 - val_loss: 0.2603 - val_categorical_accuracy: 0.9166\n",
      "Epoch 5/20\n",
      "21964/21964 [==============================] - 1s 65us/step - loss: 0.2048 - categorical_accuracy: 0.9392 - val_loss: 0.1588 - val_categorical_accuracy: 0.9585\n",
      "Epoch 6/20\n",
      "21964/21964 [==============================] - 1s 67us/step - loss: 0.1295 - categorical_accuracy: 0.9643 - val_loss: 0.0866 - val_categorical_accuracy: 0.9838\n",
      "Epoch 7/20\n",
      "21964/21964 [==============================] - 1s 64us/step - loss: 0.0724 - categorical_accuracy: 0.9857 - val_loss: 0.0858 - val_categorical_accuracy: 0.9723\n",
      "Epoch 8/20\n",
      "21964/21964 [==============================] - 1s 65us/step - loss: 0.0469 - categorical_accuracy: 0.9921 - val_loss: 0.0406 - val_categorical_accuracy: 0.9936\n",
      "Epoch 9/20\n",
      "21964/21964 [==============================] - 1s 65us/step - loss: 0.0292 - categorical_accuracy: 0.9960 - val_loss: 0.0248 - val_categorical_accuracy: 0.9964\n",
      "Epoch 10/20\n",
      "21964/21964 [==============================] - 1s 64us/step - loss: 0.0235 - categorical_accuracy: 0.9965 - val_loss: 0.0167 - val_categorical_accuracy: 0.9984\n",
      "Epoch 11/20\n",
      "21964/21964 [==============================] - 1s 67us/step - loss: 0.0151 - categorical_accuracy: 0.9981 - val_loss: 0.0114 - val_categorical_accuracy: 0.9995\n",
      "Epoch 12/20\n",
      "21964/21964 [==============================] - 2s 69us/step - loss: 0.0117 - categorical_accuracy: 0.9985 - val_loss: 0.0160 - val_categorical_accuracy: 0.9978\n",
      "Epoch 13/20\n",
      "21964/21964 [==============================] - 1s 65us/step - loss: 0.0088 - categorical_accuracy: 0.9989 - val_loss: 0.0064 - val_categorical_accuracy: 0.9993\n",
      "Epoch 14/20\n",
      "21964/21964 [==============================] - 1s 64us/step - loss: 0.0085 - categorical_accuracy: 0.9985 - val_loss: 0.0174 - val_categorical_accuracy: 0.9954\n",
      "Epoch 15/20\n",
      "21964/21964 [==============================] - 1s 67us/step - loss: 0.0073 - categorical_accuracy: 0.9990 - val_loss: 0.0047 - val_categorical_accuracy: 0.9995\n",
      "Epoch 16/20\n",
      "21964/21964 [==============================] - 1s 64us/step - loss: 0.0077 - categorical_accuracy: 0.9987 - val_loss: 0.0607 - val_categorical_accuracy: 0.9776\n",
      "Epoch 17/20\n",
      "21964/21964 [==============================] - 1s 66us/step - loss: 0.0464 - categorical_accuracy: 0.9853 - val_loss: 0.0126 - val_categorical_accuracy: 0.9975\n",
      "Epoch 18/20\n",
      "21964/21964 [==============================] - 1s 62us/step - loss: 0.0045 - categorical_accuracy: 0.9993 - val_loss: 0.0023 - val_categorical_accuracy: 0.9996\n",
      "Epoch 19/20\n",
      "21964/21964 [==============================] - 1s 65us/step - loss: 0.0013 - categorical_accuracy: 1.0000 - val_loss: 0.0020 - val_categorical_accuracy: 0.9998\n",
      "Epoch 20/20\n",
      "21964/21964 [==============================] - 2s 70us/step - loss: 9.8918e-04 - categorical_accuracy: 1.0000 - val_loss: 0.0017 - val_categorical_accuracy: 0.9996\n"
     ]
    }
   ],
   "source": [
    "hist_model_layers_3 = model_layers_3.fit(x_train, train_y, batch_size=128, epochs=20, validation_split=0.2)"
   ]
  },
  {
   "cell_type": "code",
   "execution_count": 147,
   "metadata": {
    "colab": {
     "base_uri": "https://localhost:8080/",
     "height": 66
    },
    "colab_type": "code",
    "id": "GhyXOgeLXQEu",
    "outputId": "4bd1be93-52d7-4447-ca6a-d9baf7bb3e3d"
   },
   "outputs": [
    {
     "name": "stdout",
     "output_type": "stream",
     "text": [
      "7172/7172 [==============================] - 1s 79us/step\n",
      "test_loss:0.6372720230659299\n",
      "test_acc: 0.86781929726715\n"
     ]
    }
   ],
   "source": [
    "test_loss, test_acc = model_layers_3.evaluate(x_test, test_y)\n",
    "model_results[\"layer_3\"] = (test_loss, test_acc)\n",
    "print(\"test_loss:{}\".format(test_loss))\n",
    "print(\"test_acc: {}\".format(test_acc))"
   ]
  },
  {
   "cell_type": "code",
   "execution_count": 0,
   "metadata": {
    "colab": {},
    "colab_type": "code",
    "id": "V-Vrvg-FW8lG"
   },
   "outputs": [],
   "source": []
  },
  {
   "cell_type": "code",
   "execution_count": 0,
   "metadata": {
    "colab": {},
    "colab_type": "code",
    "id": "2n1NBYIzW16E"
   },
   "outputs": [],
   "source": []
  },
  {
   "cell_type": "code",
   "execution_count": 158,
   "metadata": {
    "colab": {
     "base_uri": "https://localhost:8080/",
     "height": 98
    },
    "colab_type": "code",
    "id": "yPvorLvlW1_S",
    "outputId": "2b142104-82c6-46e3-e1b2-9dca64086eeb"
   },
   "outputs": [
    {
     "name": "stdout",
     "output_type": "stream",
     "text": [
      "| model   | Test loss | Test acc |\n",
      "----------------------------------\n",
      "| layer_1 |   1.03200 |   0.79518|\n",
      "| layer_2 |   0.53673 |   0.91076|\n",
      "| layer_3 |   0.63727 |   0.86782|\n"
     ]
    }
   ],
   "source": [
    "print(\"| {}   | {} | {} |\".format(\"model\", \"Test loss\", \"Test acc\"))\n",
    "print(\"-\"*34)\n",
    "for model, result in model_results.items(): \n",
    "    print(\"| {} | {:>9.5f} | {:>9.5f}|\".format(model, result[0], result[1]))"
   ]
  },
  {
   "cell_type": "markdown",
   "metadata": {
    "colab_type": "text",
    "id": "UXRazYGj-Xvb"
   },
   "source": [
    "We created different models with different numbers of convolutional layers and pooling layers. Based on the small experiments, the model with 2 layers of convolutional layers and pooling layers works well."
   ]
  },
  {
   "cell_type": "code",
   "execution_count": 0,
   "metadata": {
    "colab": {},
    "colab_type": "code",
    "id": "4HEPqnzdW19W"
   },
   "outputs": [],
   "source": [
    "\n"
   ]
  },
  {
   "cell_type": "code",
   "execution_count": 0,
   "metadata": {
    "colab": {},
    "colab_type": "code",
    "id": "IXzMANi9m59x"
   },
   "outputs": [],
   "source": [
    "from keras.optimizers import SGD, RMSprop, Adadelta, Adam "
   ]
  },
  {
   "cell_type": "code",
   "execution_count": 0,
   "metadata": {
    "colab": {},
    "colab_type": "code",
    "id": "EcbLQPDBtyNZ"
   },
   "outputs": [],
   "source": [
    "def train_model(train_x, train_y, test_x, test_y, n_batch, opt):\n",
    "\n",
    "    ## create a model \n",
    "    model = Sequential() \n",
    "\n",
    "    model.add(Conv2D(64, kernel_size=(3, 3), input_shape=(28,28,1))) \n",
    "    model.add(MaxPooling2D(pool_size=(2, 2))) \n",
    "\n",
    "    model.add(Conv2D(64, kernel_size=(3, 3), activation='relu')) \n",
    "    model.add(MaxPooling2D(pool_size=(2, 2))) \n",
    "\n",
    "    model.add(Flatten())\n",
    "    model.add(Dense(128, activation='relu')) \n",
    "    model.add(Dense(25, activation='softmax')) \n",
    "\n",
    "    model.compile(loss='categorical_crossentropy', optimizer=opt(), metrics=['categorical_accuracy'])\n",
    "\n",
    "    # train the model \n",
    "    # \n",
    "    hist_model = model.fit(train_x, train_y, batch_size=n_batch, epochs=20, validation_split=0.2, verbose=1) \n",
    "\n",
    "    test_loss, test_acc = model.evaluate(test_x, test_y)\n",
    "    return hist_model, test_loss, test_acc "
   ]
  },
  {
   "cell_type": "code",
   "execution_count": 167,
   "metadata": {
    "colab": {
     "base_uri": "https://localhost:8080/",
     "height": 1000
    },
    "colab_type": "code",
    "id": "5boR5ZtftyhM",
    "outputId": "5b523914-d9a7-4fe2-d21d-6ffd4e018a99"
   },
   "outputs": [
    {
     "name": "stdout",
     "output_type": "stream",
     "text": [
      "Train on 21964 samples, validate on 5491 samples\n",
      "Epoch 1/20\n",
      "21964/21964 [==============================] - 3s 129us/step - loss: 3.1890 - categorical_accuracy: 0.0499 - val_loss: 3.1708 - val_categorical_accuracy: 0.0448\n",
      "Epoch 2/20\n",
      "21964/21964 [==============================] - 1s 53us/step - loss: 3.1454 - categorical_accuracy: 0.0731 - val_loss: 3.1195 - val_categorical_accuracy: 0.0914\n",
      "Epoch 3/20\n",
      "21964/21964 [==============================] - 1s 55us/step - loss: 3.0728 - categorical_accuracy: 0.1422 - val_loss: 3.0022 - val_categorical_accuracy: 0.2187\n",
      "Epoch 4/20\n",
      "21964/21964 [==============================] - 1s 59us/step - loss: 2.8539 - categorical_accuracy: 0.2349 - val_loss: 2.6265 - val_categorical_accuracy: 0.2608\n",
      "Epoch 5/20\n",
      "21964/21964 [==============================] - 1s 54us/step - loss: 2.4194 - categorical_accuracy: 0.2879 - val_loss: 2.2359 - val_categorical_accuracy: 0.3305\n",
      "Epoch 6/20\n",
      "21964/21964 [==============================] - 1s 57us/step - loss: 2.0576 - categorical_accuracy: 0.3790 - val_loss: 1.8344 - val_categorical_accuracy: 0.4595\n",
      "Epoch 7/20\n",
      "21964/21964 [==============================] - 1s 58us/step - loss: 1.7448 - categorical_accuracy: 0.4713 - val_loss: 1.5588 - val_categorical_accuracy: 0.5130\n",
      "Epoch 8/20\n",
      "21964/21964 [==============================] - 1s 54us/step - loss: 1.4961 - categorical_accuracy: 0.5433 - val_loss: 1.4595 - val_categorical_accuracy: 0.5201\n",
      "Epoch 9/20\n",
      "21964/21964 [==============================] - 1s 54us/step - loss: 1.2800 - categorical_accuracy: 0.6106 - val_loss: 1.1695 - val_categorical_accuracy: 0.6496\n",
      "Epoch 10/20\n",
      "21964/21964 [==============================] - 1s 62us/step - loss: 1.1018 - categorical_accuracy: 0.6660 - val_loss: 1.0285 - val_categorical_accuracy: 0.6702\n",
      "Epoch 11/20\n",
      "21964/21964 [==============================] - 1s 55us/step - loss: 0.9377 - categorical_accuracy: 0.7147 - val_loss: 0.8571 - val_categorical_accuracy: 0.7288\n",
      "Epoch 12/20\n",
      "21964/21964 [==============================] - 1s 56us/step - loss: 0.8009 - categorical_accuracy: 0.7601 - val_loss: 0.7618 - val_categorical_accuracy: 0.7620\n",
      "Epoch 13/20\n",
      "21964/21964 [==============================] - 1s 58us/step - loss: 0.6867 - categorical_accuracy: 0.8003 - val_loss: 0.6380 - val_categorical_accuracy: 0.8068\n",
      "Epoch 14/20\n",
      "21964/21964 [==============================] - 1s 57us/step - loss: 0.5907 - categorical_accuracy: 0.8285 - val_loss: 0.5211 - val_categorical_accuracy: 0.8605\n",
      "Epoch 15/20\n",
      "21964/21964 [==============================] - 1s 55us/step - loss: 0.5100 - categorical_accuracy: 0.8534 - val_loss: 0.5210 - val_categorical_accuracy: 0.8396\n",
      "Epoch 16/20\n",
      "21964/21964 [==============================] - 1s 53us/step - loss: 0.4309 - categorical_accuracy: 0.8830 - val_loss: 0.5288 - val_categorical_accuracy: 0.8323\n",
      "Epoch 17/20\n",
      "21964/21964 [==============================] - 1s 58us/step - loss: 0.3780 - categorical_accuracy: 0.8970 - val_loss: 0.3282 - val_categorical_accuracy: 0.9157\n",
      "Epoch 18/20\n",
      "21964/21964 [==============================] - 1s 56us/step - loss: 0.3196 - categorical_accuracy: 0.9160 - val_loss: 0.2931 - val_categorical_accuracy: 0.9286\n",
      "Epoch 19/20\n",
      "21964/21964 [==============================] - 1s 55us/step - loss: 0.2737 - categorical_accuracy: 0.9320 - val_loss: 0.2509 - val_categorical_accuracy: 0.9383\n",
      "Epoch 20/20\n",
      "21964/21964 [==============================] - 1s 57us/step - loss: 0.2315 - categorical_accuracy: 0.9452 - val_loss: 0.2434 - val_categorical_accuracy: 0.9410\n",
      "7172/7172 [==============================] - 0s 69us/step\n",
      "Train on 21964 samples, validate on 5491 samples\n",
      "Epoch 1/20\n",
      "21964/21964 [==============================] - 3s 129us/step - loss: 1.6208 - categorical_accuracy: 0.5270 - val_loss: 0.5876 - val_categorical_accuracy: 0.8310\n",
      "Epoch 2/20\n",
      "21964/21964 [==============================] - 1s 58us/step - loss: 0.3780 - categorical_accuracy: 0.8862 - val_loss: 0.2343 - val_categorical_accuracy: 0.9292\n",
      "Epoch 3/20\n",
      "21964/21964 [==============================] - 1s 57us/step - loss: 0.1045 - categorical_accuracy: 0.9740 - val_loss: 0.0604 - val_categorical_accuracy: 0.9847\n",
      "Epoch 4/20\n",
      "21964/21964 [==============================] - 1s 59us/step - loss: 0.0355 - categorical_accuracy: 0.9923 - val_loss: 0.0045 - val_categorical_accuracy: 1.0000\n",
      "Epoch 5/20\n",
      "21964/21964 [==============================] - 1s 57us/step - loss: 0.0177 - categorical_accuracy: 0.9963 - val_loss: 0.0022 - val_categorical_accuracy: 1.0000\n",
      "Epoch 6/20\n",
      "21964/21964 [==============================] - 1s 56us/step - loss: 0.0182 - categorical_accuracy: 0.9967 - val_loss: 0.0017 - val_categorical_accuracy: 1.0000\n",
      "Epoch 7/20\n",
      "21964/21964 [==============================] - 1s 55us/step - loss: 0.0144 - categorical_accuracy: 0.9979 - val_loss: 0.0011 - val_categorical_accuracy: 1.0000\n",
      "Epoch 8/20\n",
      "21964/21964 [==============================] - 1s 58us/step - loss: 0.0085 - categorical_accuracy: 0.9984 - val_loss: 2.8940e-04 - val_categorical_accuracy: 1.0000\n",
      "Epoch 9/20\n",
      "21964/21964 [==============================] - 1s 56us/step - loss: 0.0096 - categorical_accuracy: 0.9978 - val_loss: 2.6600e-04 - val_categorical_accuracy: 1.0000\n",
      "Epoch 10/20\n",
      "21964/21964 [==============================] - 1s 55us/step - loss: 0.0056 - categorical_accuracy: 0.9987 - val_loss: 2.1388e-04 - val_categorical_accuracy: 1.0000\n",
      "Epoch 11/20\n",
      "21964/21964 [==============================] - 1s 60us/step - loss: 0.0028 - categorical_accuracy: 0.9992 - val_loss: 6.1004e-05 - val_categorical_accuracy: 1.0000\n",
      "Epoch 12/20\n",
      "21964/21964 [==============================] - 1s 57us/step - loss: 0.0056 - categorical_accuracy: 0.9993 - val_loss: 3.6829e-05 - val_categorical_accuracy: 1.0000\n",
      "Epoch 13/20\n",
      "21964/21964 [==============================] - 1s 58us/step - loss: 0.0040 - categorical_accuracy: 0.9990 - val_loss: 4.4587e-05 - val_categorical_accuracy: 1.0000\n",
      "Epoch 14/20\n",
      "21964/21964 [==============================] - 1s 56us/step - loss: 0.0029 - categorical_accuracy: 0.9997 - val_loss: 7.2610e-06 - val_categorical_accuracy: 1.0000\n",
      "Epoch 15/20\n",
      "21964/21964 [==============================] - 1s 58us/step - loss: 0.0088 - categorical_accuracy: 0.9988 - val_loss: 9.8992e-05 - val_categorical_accuracy: 1.0000\n",
      "Epoch 16/20\n",
      "21964/21964 [==============================] - 1s 57us/step - loss: 0.0020 - categorical_accuracy: 0.9996 - val_loss: 6.2188e-06 - val_categorical_accuracy: 1.0000\n",
      "Epoch 17/20\n",
      "21964/21964 [==============================] - 1s 57us/step - loss: 0.0011 - categorical_accuracy: 0.9999 - val_loss: 1.3262e-06 - val_categorical_accuracy: 1.0000\n",
      "Epoch 18/20\n",
      "21964/21964 [==============================] - 1s 58us/step - loss: 0.0018 - categorical_accuracy: 0.9995 - val_loss: 1.7498e-06 - val_categorical_accuracy: 1.0000\n",
      "Epoch 19/20\n",
      "21964/21964 [==============================] - 1s 58us/step - loss: 0.0021 - categorical_accuracy: 0.9996 - val_loss: 1.3282e-06 - val_categorical_accuracy: 1.0000\n",
      "Epoch 20/20\n",
      "21964/21964 [==============================] - 1s 57us/step - loss: 0.0034 - categorical_accuracy: 0.9995 - val_loss: 1.8488e-06 - val_categorical_accuracy: 1.0000\n",
      "7172/7172 [==============================] - 0s 66us/step\n",
      "Train on 21964 samples, validate on 5491 samples\n",
      "Epoch 1/20\n",
      "21964/21964 [==============================] - 3s 142us/step - loss: 1.9040 - categorical_accuracy: 0.4274 - val_loss: 0.6084 - val_categorical_accuracy: 0.7944\n",
      "Epoch 2/20\n",
      "21964/21964 [==============================] - 1s 57us/step - loss: 0.2558 - categorical_accuracy: 0.9258 - val_loss: 0.1251 - val_categorical_accuracy: 0.9616\n",
      "Epoch 3/20\n",
      "21964/21964 [==============================] - 1s 59us/step - loss: 0.0391 - categorical_accuracy: 0.9933 - val_loss: 0.0098 - val_categorical_accuracy: 1.0000\n",
      "Epoch 4/20\n",
      "21964/21964 [==============================] - 1s 66us/step - loss: 0.0087 - categorical_accuracy: 0.9988 - val_loss: 0.0025 - val_categorical_accuracy: 1.0000\n",
      "Epoch 5/20\n",
      "21964/21964 [==============================] - 1s 62us/step - loss: 0.0039 - categorical_accuracy: 0.9995 - val_loss: 0.0010 - val_categorical_accuracy: 1.0000\n",
      "Epoch 6/20\n",
      "21964/21964 [==============================] - 1s 60us/step - loss: 7.1542e-04 - categorical_accuracy: 1.0000 - val_loss: 5.6425e-04 - val_categorical_accuracy: 1.0000\n",
      "Epoch 7/20\n",
      "21964/21964 [==============================] - 1s 61us/step - loss: 3.7962e-04 - categorical_accuracy: 1.0000 - val_loss: 3.3680e-04 - val_categorical_accuracy: 1.0000\n",
      "Epoch 8/20\n",
      "21964/21964 [==============================] - 1s 57us/step - loss: 2.5087e-04 - categorical_accuracy: 1.0000 - val_loss: 2.7258e-04 - val_categorical_accuracy: 1.0000\n",
      "Epoch 9/20\n",
      "21964/21964 [==============================] - 1s 60us/step - loss: 1.8690e-04 - categorical_accuracy: 1.0000 - val_loss: 1.8853e-04 - val_categorical_accuracy: 1.0000\n",
      "Epoch 10/20\n",
      "21964/21964 [==============================] - 1s 61us/step - loss: 1.4688e-04 - categorical_accuracy: 1.0000 - val_loss: 1.4823e-04 - val_categorical_accuracy: 1.0000\n",
      "Epoch 11/20\n",
      "21964/21964 [==============================] - 1s 62us/step - loss: 1.2110e-04 - categorical_accuracy: 1.0000 - val_loss: 1.3091e-04 - val_categorical_accuracy: 1.0000\n",
      "Epoch 12/20\n",
      "21964/21964 [==============================] - 1s 58us/step - loss: 1.0216e-04 - categorical_accuracy: 1.0000 - val_loss: 1.1320e-04 - val_categorical_accuracy: 1.0000\n",
      "Epoch 13/20\n",
      "21964/21964 [==============================] - 1s 65us/step - loss: 8.8381e-05 - categorical_accuracy: 1.0000 - val_loss: 9.5988e-05 - val_categorical_accuracy: 1.0000\n",
      "Epoch 14/20\n",
      "21964/21964 [==============================] - 1s 61us/step - loss: 7.8142e-05 - categorical_accuracy: 1.0000 - val_loss: 8.5778e-05 - val_categorical_accuracy: 1.0000\n",
      "Epoch 15/20\n",
      "21964/21964 [==============================] - 1s 60us/step - loss: 6.9756e-05 - categorical_accuracy: 1.0000 - val_loss: 7.8552e-05 - val_categorical_accuracy: 1.0000\n",
      "Epoch 16/20\n",
      "21964/21964 [==============================] - 1s 64us/step - loss: 6.3089e-05 - categorical_accuracy: 1.0000 - val_loss: 7.1916e-05 - val_categorical_accuracy: 1.0000\n",
      "Epoch 17/20\n",
      "21964/21964 [==============================] - 1s 59us/step - loss: 5.7324e-05 - categorical_accuracy: 1.0000 - val_loss: 6.6335e-05 - val_categorical_accuracy: 1.0000\n",
      "Epoch 18/20\n",
      "21964/21964 [==============================] - 1s 58us/step - loss: 5.2744e-05 - categorical_accuracy: 1.0000 - val_loss: 6.1536e-05 - val_categorical_accuracy: 1.0000\n",
      "Epoch 19/20\n",
      "21964/21964 [==============================] - 1s 58us/step - loss: 4.8426e-05 - categorical_accuracy: 1.0000 - val_loss: 5.7481e-05 - val_categorical_accuracy: 1.0000\n",
      "Epoch 20/20\n",
      "21964/21964 [==============================] - 1s 61us/step - loss: 4.4993e-05 - categorical_accuracy: 1.0000 - val_loss: 5.1988e-05 - val_categorical_accuracy: 1.0000\n",
      "7172/7172 [==============================] - 0s 67us/step\n",
      "Train on 21964 samples, validate on 5491 samples\n",
      "Epoch 1/20\n",
      "21964/21964 [==============================] - 3s 146us/step - loss: 1.7668 - categorical_accuracy: 0.4896 - val_loss: 0.6534 - val_categorical_accuracy: 0.8108\n",
      "Epoch 2/20\n",
      "21964/21964 [==============================] - 1s 61us/step - loss: 0.3815 - categorical_accuracy: 0.8948 - val_loss: 0.1779 - val_categorical_accuracy: 0.9612\n",
      "Epoch 3/20\n",
      "21964/21964 [==============================] - 1s 58us/step - loss: 0.1052 - categorical_accuracy: 0.9811 - val_loss: 0.0539 - val_categorical_accuracy: 0.9944\n",
      "Epoch 4/20\n",
      "21964/21964 [==============================] - 1s 60us/step - loss: 0.0335 - categorical_accuracy: 0.9972 - val_loss: 0.0206 - val_categorical_accuracy: 0.9989\n",
      "Epoch 5/20\n",
      "21964/21964 [==============================] - 1s 63us/step - loss: 0.0138 - categorical_accuracy: 0.9994 - val_loss: 0.0088 - val_categorical_accuracy: 1.0000\n",
      "Epoch 6/20\n",
      "21964/21964 [==============================] - 1s 59us/step - loss: 0.0067 - categorical_accuracy: 1.0000 - val_loss: 0.0064 - val_categorical_accuracy: 1.0000\n",
      "Epoch 7/20\n",
      "21964/21964 [==============================] - 1s 60us/step - loss: 0.0041 - categorical_accuracy: 1.0000 - val_loss: 0.0033 - val_categorical_accuracy: 1.0000\n",
      "Epoch 8/20\n",
      "21964/21964 [==============================] - 1s 60us/step - loss: 0.0027 - categorical_accuracy: 1.0000 - val_loss: 0.0025 - val_categorical_accuracy: 1.0000\n",
      "Epoch 9/20\n",
      "21964/21964 [==============================] - 1s 62us/step - loss: 0.0023 - categorical_accuracy: 1.0000 - val_loss: 0.0018 - val_categorical_accuracy: 1.0000\n",
      "Epoch 10/20\n",
      "21964/21964 [==============================] - 1s 59us/step - loss: 0.0014 - categorical_accuracy: 1.0000 - val_loss: 0.0014 - val_categorical_accuracy: 1.0000\n",
      "Epoch 11/20\n",
      "21964/21964 [==============================] - 1s 64us/step - loss: 0.0011 - categorical_accuracy: 1.0000 - val_loss: 0.0013 - val_categorical_accuracy: 1.0000\n",
      "Epoch 12/20\n",
      "21964/21964 [==============================] - 1s 60us/step - loss: 8.8348e-04 - categorical_accuracy: 1.0000 - val_loss: 8.8059e-04 - val_categorical_accuracy: 1.0000\n",
      "Epoch 13/20\n",
      "21964/21964 [==============================] - 1s 61us/step - loss: 7.0868e-04 - categorical_accuracy: 1.0000 - val_loss: 7.5398e-04 - val_categorical_accuracy: 1.0000\n",
      "Epoch 14/20\n",
      "21964/21964 [==============================] - 1s 62us/step - loss: 5.7544e-04 - categorical_accuracy: 1.0000 - val_loss: 6.2907e-04 - val_categorical_accuracy: 1.0000\n",
      "Epoch 15/20\n",
      "21964/21964 [==============================] - 1s 65us/step - loss: 0.0392 - categorical_accuracy: 0.9888 - val_loss: 0.0685 - val_categorical_accuracy: 0.9761\n",
      "Epoch 16/20\n",
      "21964/21964 [==============================] - 1s 64us/step - loss: 0.0134 - categorical_accuracy: 0.9965 - val_loss: 0.0030 - val_categorical_accuracy: 0.9995\n",
      "Epoch 17/20\n",
      "21964/21964 [==============================] - 1s 59us/step - loss: 7.9025e-04 - categorical_accuracy: 1.0000 - val_loss: 6.4586e-04 - val_categorical_accuracy: 1.0000\n",
      "Epoch 18/20\n",
      "21964/21964 [==============================] - 1s 63us/step - loss: 4.8656e-04 - categorical_accuracy: 1.0000 - val_loss: 4.9535e-04 - val_categorical_accuracy: 1.0000\n",
      "Epoch 19/20\n",
      "21964/21964 [==============================] - 1s 59us/step - loss: 3.7118e-04 - categorical_accuracy: 1.0000 - val_loss: 3.9515e-04 - val_categorical_accuracy: 1.0000\n",
      "Epoch 20/20\n",
      "21964/21964 [==============================] - 1s 62us/step - loss: 3.0180e-04 - categorical_accuracy: 1.0000 - val_loss: 3.3098e-04 - val_categorical_accuracy: 1.0000\n",
      "7172/7172 [==============================] - 0s 65us/step\n"
     ]
    }
   ],
   "source": [
    "opt_results = {} \n",
    "opts = [SGD, RMSprop, Adadelta, Adam]\n",
    "\n",
    "for opt in opts: \n",
    "    start_time = time()\n",
    "    hist_model, test_loss, test_acc  = train_model(x_train, train_y, x_test, test_y, 128, opt)\n",
    "    training_time = time() - start_time\n",
    "    opt_results[opt.__name__] = {\n",
    "        \"hist\": hist_model, \n",
    "        \"loss\": test_loss, \n",
    "        \"acc\": test_acc, \n",
    "        \"time\": training_time\n",
    "    }"
   ]
  },
  {
   "cell_type": "code",
   "execution_count": 0,
   "metadata": {
    "colab": {},
    "colab_type": "code",
    "id": "0IaKX9C4nIKI"
   },
   "outputs": [],
   "source": []
  },
  {
   "cell_type": "code",
   "execution_count": 176,
   "metadata": {
    "colab": {
     "base_uri": "https://localhost:8080/",
     "height": 572
    },
    "colab_type": "code",
    "id": "ifRlzC99qsMX",
    "outputId": "9d2a9d7b-556b-4640-f9fa-aa773f074641"
   },
   "outputs": [
    {
     "data": {
      "image/png": "[encoded data removed]",
      "text/plain": [
       "<Figure size 432x288 with 1 Axes>"
      ]
     },
     "metadata": {
      "tags": []
     },
     "output_type": "display_data"
    },
    {
     "data": {
      "image/png": "[encoded data removed]",
      "text/plain": [
       "<Figure size 432x288 with 1 Axes>"
      ]
     },
     "metadata": {
      "tags": []
     },
     "output_type": "display_data"
    }
   ],
   "source": [
    "def plot_training_hist(item): \n",
    "    for opt, result in opt_results.items(): \n",
    "        hist = result['hist'] \n",
    "        plt.plot(hist.history[item], label=opt)\n",
    "    plt.xlabel(\"Epochs\")\n",
    "    plt.ylabel(\"accuracy\")\n",
    "    plt.legend()\n",
    "\n",
    "plot_training_hist(\"categorical_accuracy\")\n",
    "plt.title(\"Training accuracy with different optimizations\")\n",
    "plt.show()\n",
    "\n",
    "plot_training_hist(\"val_categorical_accuracy\")\n",
    "plt.title(\"Validation accuracy with different optimizations\")\n",
    "plt.show()"
   ]
  },
  {
   "cell_type": "code",
   "execution_count": 0,
   "metadata": {
    "colab": {},
    "colab_type": "code",
    "id": "ZHOJSCWJnIHS"
   },
   "outputs": [],
   "source": []
  },
  {
   "cell_type": "code",
   "execution_count": 177,
   "metadata": {
    "colab": {
     "base_uri": "https://localhost:8080/",
     "height": 572
    },
    "colab_type": "code",
    "id": "i_RAQYmZnIEw",
    "outputId": "ad051125-d966-4221-fef2-e78e2279696d"
   },
   "outputs": [
    {
     "data": {
      "image/png": "[encoded data removed]",
      "text/plain": [
       "<Figure size 432x288 with 1 Axes>"
      ]
     },
     "metadata": {
      "tags": []
     },
     "output_type": "display_data"
    },
    {
     "data": {
      "image/png": "[encoded data removed]",
      "text/plain": [
       "<Figure size 432x288 with 1 Axes>"
      ]
     },
     "metadata": {
      "tags": []
     },
     "output_type": "display_data"
    }
   ],
   "source": [
    "plot_training_hist(\"loss\")\n",
    "plt.title(\"Training loss with different optimizations\")\n",
    "plt.show()\n",
    "\n",
    "plot_training_hist(\"val_loss\")\n",
    "plt.title(\"Training validation loss with different optimizations\")\n",
    "plt.show()"
   ]
  },
  {
   "cell_type": "markdown",
   "metadata": {
    "colab_type": "text",
    "id": "Ky4Z51V6PvkC"
   },
   "source": [
    "SGD has slower curves comparing to the other optimizers. The other optimizers have very similar curves while training the models"
   ]
  },
  {
   "cell_type": "code",
   "execution_count": 0,
   "metadata": {
    "colab": {},
    "colab_type": "code",
    "id": "_9kP672InICP"
   },
   "outputs": [],
   "source": []
  },
  {
   "cell_type": "code",
   "execution_count": 199,
   "metadata": {
    "colab": {
     "base_uri": "https://localhost:8080/",
     "height": 115
    },
    "colab_type": "code",
    "id": "D1J8Ed09nH_y",
    "outputId": "2c1925e8-9e34-4d73-f0f9-35a44fca5589"
   },
   "outputs": [
    {
     "name": "stdout",
     "output_type": "stream",
     "text": [
      "| model    | Test loss | Test acc  | Time(s) |\n",
      "----------------------------------------------\n",
      "| SGD      |   0.59880 |   0.80940 |      27 |\n",
      "| RMSprop  |   0.42711 |   0.93377 |      28 |\n",
      "| Adadelta |   0.45041 |   0.91634 |      29 |\n",
      "| Adam     |   0.37033 |   0.92289 |      30 |\n"
     ]
    }
   ],
   "source": [
    "print(\"| {:8} | {} | {}  | {} |\".format(\"model\", \"Test loss\", \"Test acc\", \"Time(s)\"))\n",
    "print(\"-\"*46)\n",
    "for opt, result in opt_results.items(): \n",
    "    print(\"| {:8} | {:>9.5f} | {:>9.5f} | {:>7.0f} |\".format(opt, result[\"loss\"], result[\"acc\"], result[\"time\"]))"
   ]
  },
  {
   "cell_type": "markdown",
   "metadata": {
    "colab_type": "text",
    "id": "rH-Voar_DKM6"
   },
   "source": [
    "Based on the table, the model trained with RMSprop performed good among the other optimizations. "
   ]
  },
  {
   "cell_type": "code",
   "execution_count": 0,
   "metadata": {
    "colab": {},
    "colab_type": "code",
    "id": "2I2UnNY7tyIX"
   },
   "outputs": [],
   "source": []
  },
  {
   "cell_type": "code",
   "execution_count": 0,
   "metadata": {
    "colab": {},
    "colab_type": "code",
    "id": "lTZxJ4p3H-0M"
   },
   "outputs": [],
   "source": []
  },
  {
   "cell_type": "markdown",
   "metadata": {
    "colab_type": "text",
    "id": "MKSSeXrPH_st"
   },
   "source": [
    "### Final model \n",
    "We train the model one more time to plot a confusion matrix. "
   ]
  },
  {
   "cell_type": "code",
   "execution_count": 201,
   "metadata": {
    "colab": {
     "base_uri": "https://localhost:8080/",
     "height": 700
    },
    "colab_type": "code",
    "id": "pGThjW1MtypU",
    "outputId": "b43cb9f3-c1cf-478a-e466-80e4256dc07c"
   },
   "outputs": [
    {
     "name": "stdout",
     "output_type": "stream",
     "text": [
      "Train on 21964 samples, validate on 5491 samples\n",
      "Epoch 1/20\n",
      "21964/21964 [==============================] - 3s 145us/step - loss: 1.5455 - categorical_accuracy: 0.5478 - val_loss: 0.7525 - val_categorical_accuracy: 0.7443\n",
      "Epoch 2/20\n",
      "21964/21964 [==============================] - 1s 58us/step - loss: 0.3366 - categorical_accuracy: 0.8993 - val_loss: 0.2481 - val_categorical_accuracy: 0.9117\n",
      "Epoch 3/20\n",
      "21964/21964 [==============================] - 1s 61us/step - loss: 0.0980 - categorical_accuracy: 0.9752 - val_loss: 0.0180 - val_categorical_accuracy: 0.9996\n",
      "Epoch 4/20\n",
      "21964/21964 [==============================] - 1s 62us/step - loss: 0.0346 - categorical_accuracy: 0.9934 - val_loss: 0.0033 - val_categorical_accuracy: 1.0000\n",
      "Epoch 5/20\n",
      "21964/21964 [==============================] - 1s 58us/step - loss: 0.0277 - categorical_accuracy: 0.9954 - val_loss: 0.0039 - val_categorical_accuracy: 1.0000\n",
      "Epoch 6/20\n",
      "21964/21964 [==============================] - 1s 62us/step - loss: 0.0168 - categorical_accuracy: 0.9964 - val_loss: 0.0031 - val_categorical_accuracy: 0.9998\n",
      "Epoch 7/20\n",
      "21964/21964 [==============================] - 1s 61us/step - loss: 0.0104 - categorical_accuracy: 0.9984 - val_loss: 2.5130e-04 - val_categorical_accuracy: 1.0000\n",
      "Epoch 8/20\n",
      "21964/21964 [==============================] - 1s 60us/step - loss: 0.0118 - categorical_accuracy: 0.9973 - val_loss: 3.5744e-04 - val_categorical_accuracy: 1.0000\n",
      "Epoch 9/20\n",
      "21964/21964 [==============================] - 1s 58us/step - loss: 0.0057 - categorical_accuracy: 0.9986 - val_loss: 1.3135e-04 - val_categorical_accuracy: 1.0000\n",
      "Epoch 10/20\n",
      "21964/21964 [==============================] - 1s 57us/step - loss: 0.0095 - categorical_accuracy: 0.9985 - val_loss: 2.7081e-04 - val_categorical_accuracy: 1.0000\n",
      "Epoch 11/20\n",
      "21964/21964 [==============================] - 1s 60us/step - loss: 0.0084 - categorical_accuracy: 0.9985 - val_loss: 0.0018 - val_categorical_accuracy: 0.9993\n",
      "Epoch 12/20\n",
      "21964/21964 [==============================] - 1s 62us/step - loss: 0.0036 - categorical_accuracy: 0.9994 - val_loss: 3.5317e-05 - val_categorical_accuracy: 1.0000\n",
      "Epoch 13/20\n",
      "21964/21964 [==============================] - 1s 62us/step - loss: 0.0051 - categorical_accuracy: 0.9993 - val_loss: 4.6970e-05 - val_categorical_accuracy: 1.0000\n",
      "Epoch 14/20\n",
      "21964/21964 [==============================] - 1s 57us/step - loss: 0.0045 - categorical_accuracy: 0.9992 - val_loss: 2.8779e-04 - val_categorical_accuracy: 1.0000\n",
      "Epoch 15/20\n",
      "21964/21964 [==============================] - 1s 59us/step - loss: 0.0027 - categorical_accuracy: 0.9994 - val_loss: 0.0018 - val_categorical_accuracy: 0.9991\n",
      "Epoch 16/20\n",
      "21964/21964 [==============================] - 1s 58us/step - loss: 0.0017 - categorical_accuracy: 0.9997 - val_loss: 1.4275e-05 - val_categorical_accuracy: 1.0000\n",
      "Epoch 17/20\n",
      "21964/21964 [==============================] - 1s 64us/step - loss: 0.0054 - categorical_accuracy: 0.9991 - val_loss: 1.3384e-04 - val_categorical_accuracy: 1.0000\n",
      "Epoch 18/20\n",
      "21964/21964 [==============================] - 1s 61us/step - loss: 0.0012 - categorical_accuracy: 0.9998 - val_loss: 1.8546e-05 - val_categorical_accuracy: 1.0000\n",
      "Epoch 19/20\n",
      "21964/21964 [==============================] - 1s 60us/step - loss: 0.0028 - categorical_accuracy: 0.9995 - val_loss: 6.5027e-06 - val_categorical_accuracy: 1.0000\n",
      "Epoch 20/20\n",
      "21964/21964 [==============================] - 1s 63us/step - loss: 0.0028 - categorical_accuracy: 0.9995 - val_loss: 7.2614e-05 - val_categorical_accuracy: 1.0000\n",
      "7172/7172 [==============================] - 0s 68us/step\n"
     ]
    }
   ],
   "source": [
    "final_model = Sequential() \n",
    "\n",
    "final_model.add(Conv2D(64, kernel_size=(3, 3), input_shape=(28,28,1))) \n",
    "final_model.add(MaxPooling2D(pool_size=(2, 2))) \n",
    "\n",
    "final_model.add(Conv2D(64, kernel_size=(3, 3), activation='relu')) \n",
    "final_model.add(MaxPooling2D(pool_size=(2, 2))) \n",
    "\n",
    "final_model.add(Flatten())\n",
    "final_model.add(Dense(128, activation='relu')) \n",
    "final_model.add(Dense(25, activation='softmax')) \n",
    "\n",
    "final_model.compile(loss='categorical_crossentropy', optimizer=RMSprop(), metrics=['categorical_accuracy'])\n",
    "\n",
    "# train the final_model \n",
    "# \n",
    "hist_final_model = final_model.fit(x_train, train_y, batch_size=128, epochs=20, validation_split=0.2, verbose=1) \n",
    "\n",
    "test_loss, test_acc = final_model.evaluate(x_test, test_y)"
   ]
  },
  {
   "cell_type": "code",
   "execution_count": 0,
   "metadata": {
    "colab": {},
    "colab_type": "code",
    "id": "eXHGnS97HvzJ"
   },
   "outputs": [],
   "source": []
  },
  {
   "cell_type": "code",
   "execution_count": 0,
   "metadata": {
    "colab": {},
    "colab_type": "code",
    "id": "_H569_qxtyls"
   },
   "outputs": [],
   "source": [
    "y_pred = final_model.predict(x_test)\n",
    "\n",
    "y_pred = np.argmax(y_pred, axis=1)\n",
    "y_true = np.argmax(test_y, axis=1)"
   ]
  },
  {
   "cell_type": "code",
   "execution_count": 0,
   "metadata": {
    "colab": {},
    "colab_type": "code",
    "id": "zFEUUFlCtyfI"
   },
   "outputs": [],
   "source": [
    "from sklearn.metrics import confusion_matrix\n",
    "import seaborn as sea\n",
    "from string import ascii_lowercase"
   ]
  },
  {
   "cell_type": "code",
   "execution_count": 0,
   "metadata": {
    "colab": {},
    "colab_type": "code",
    "id": "pTs0oo4EtycS"
   },
   "outputs": [],
   "source": [
    "cm = confusion_matrix(y_true, y_pred, normalize='true')"
   ]
  },
  {
   "cell_type": "code",
   "execution_count": 0,
   "metadata": {
    "colab": {},
    "colab_type": "code",
    "id": "BhRDNo7ctyaY"
   },
   "outputs": [],
   "source": [
    "labels = ascii_lowercase.replace(\"j\", \"\").replace(\"z\", \"\")\n",
    "labels = list(labels)\n",
    "\n",
    "df_cm = pd.DataFrame(cm, index=labels, columns=labels, )"
   ]
  },
  {
   "cell_type": "code",
   "execution_count": 245,
   "metadata": {
    "colab": {
     "base_uri": "https://localhost:8080/",
     "height": 295
    },
    "colab_type": "code",
    "id": "u8wz6G5DtyXj",
    "outputId": "39a582e8-ce3d-4c6a-f6ad-1d96678fe724"
   },
   "outputs": [
    {
     "data": {
      "image/png": "[encoded data removed]",
      "text/plain": [
       "<Figure size 432x288 with 2 Axes>"
      ]
     },
     "metadata": {
      "tags": []
     },
     "output_type": "display_data"
    }
   ],
   "source": [
    "sea.heatmap(df_cm, annot=False, cmap='Blues')\n",
    "plt.xlabel(\"Predicted label\")\n",
    "plt.ylabel(\"True label\")\n",
    "plt.title(\"confusion matrix\")\n",
    "plt.show()"
   ]
  },
  {
   "cell_type": "markdown",
   "metadata": {
    "colab": {},
    "colab_type": "code",
    "id": "rdU8GL_AtyGS"
   },
   "source": [
    "It seems that the model can classify the images, but it's not good at \"m\" and \"n\" and \"s\" and \"t\". If we check the actual sign, they're very similar to each other. "
   ]
  },
  {
   "cell_type": "code",
   "execution_count": 0,
   "metadata": {
    "colab": {},
    "colab_type": "code",
    "id": "ItKqzoyotyDq"
   },
   "outputs": [],
   "source": []
  },
  {
   "cell_type": "code",
   "execution_count": 0,
   "metadata": {
    "colab": {},
    "colab_type": "code",
    "id": "JWQW2t5ltyBE"
   },
   "outputs": [],
   "source": []
  },
  {
   "cell_type": "code",
   "execution_count": 0,
   "metadata": {
    "colab": {},
    "colab_type": "code",
    "id": "vPUAF1amtx-d"
   },
   "outputs": [],
   "source": []
  },
  {
   "cell_type": "code",
   "execution_count": 0,
   "metadata": {
    "colab": {},
    "colab_type": "code",
    "id": "hk_l7DPgtx7k"
   },
   "outputs": [],
   "source": []
  },
  {
   "cell_type": "code",
   "execution_count": 0,
   "metadata": {
    "colab": {},
    "colab_type": "code",
    "id": "65DzehoTnH9R"
   },
   "outputs": [],
   "source": []
  },
  {
   "cell_type": "code",
   "execution_count": 0,
   "metadata": {
    "colab": {},
    "colab_type": "code",
    "id": "bHePwyuPnH6t"
   },
   "outputs": [],
   "source": []
  },
  {
   "cell_type": "code",
   "execution_count": 0,
   "metadata": {
    "colab": {},
    "colab_type": "code",
    "id": "8ep-yPVHm57b"
   },
   "outputs": [],
   "source": []
  },
  {
   "cell_type": "code",
   "execution_count": 0,
   "metadata": {
    "colab": {},
    "colab_type": "code",
    "id": "OZ0Bbe6Jm553"
   },
   "outputs": [],
   "source": []
  },
  {
   "cell_type": "code",
   "execution_count": 0,
   "metadata": {
    "colab": {},
    "colab_type": "code",
    "id": "K7wFUx4Xm53R"
   },
   "outputs": [],
   "source": []
  },
  {
   "cell_type": "code",
   "execution_count": 0,
   "metadata": {
    "colab": {},
    "colab_type": "code",
    "id": "u_uP63lGm50-"
   },
   "outputs": [],
   "source": []
  },
  {
   "cell_type": "code",
   "execution_count": 0,
   "metadata": {
    "colab": {},
    "colab_type": "code",
    "id": "JtPI1mxim5yn"
   },
   "outputs": [],
   "source": []
  },
  {
   "cell_type": "code",
   "execution_count": 0,
   "metadata": {
    "colab": {},
    "colab_type": "code",
    "id": "NWf7jIj7m5wb"
   },
   "outputs": [],
   "source": []
  },
  {
   "cell_type": "code",
   "execution_count": 0,
   "metadata": {
    "colab": {},
    "colab_type": "code",
    "id": "6u95Xmppm5t4"
   },
   "outputs": [],
   "source": []
  },
  {
   "cell_type": "code",
   "execution_count": 0,
   "metadata": {
    "colab": {},
    "colab_type": "code",
    "id": "Q9D6ApZqm5rt"
   },
   "outputs": [],
   "source": []
  },
  {
   "cell_type": "code",
   "execution_count": 0,
   "metadata": {
    "colab": {},
    "colab_type": "code",
    "id": "DckO2-Bmm5oy"
   },
   "outputs": [],
   "source": []
  },
  {
   "cell_type": "code",
   "execution_count": 0,
   "metadata": {
    "colab": {},
    "colab_type": "code",
    "id": "Wkdi6rIjm5mR"
   },
   "outputs": [],
   "source": []
  },
  {
   "cell_type": "code",
   "execution_count": 0,
   "metadata": {
    "colab": {},
    "colab_type": "code",
    "id": "7H44hQt3m5kJ"
   },
   "outputs": [],
   "source": []
  },
  {
   "cell_type": "code",
   "execution_count": 0,
   "metadata": {
    "colab": {},
    "colab_type": "code",
    "id": "TfDFrTTEm5h2"
   },
   "outputs": [],
   "source": []
  },
  {
   "cell_type": "code",
   "execution_count": 0,
   "metadata": {
    "colab": {},
    "colab_type": "code",
    "id": "DLHd84SHm5fI"
   },
   "outputs": [],
   "source": []
  },
  {
   "cell_type": "code",
   "execution_count": 0,
   "metadata": {
    "colab": {},
    "colab_type": "code",
    "id": "aAmmkRXpWy_z"
   },
   "outputs": [],
   "source": []
  },
  {
   "cell_type": "code",
   "execution_count": 0,
   "metadata": {
    "colab": {},
    "colab_type": "code",
    "id": "WK8voJir2LfP"
   },
   "outputs": [],
   "source": []
  },
  {
   "cell_type": "code",
   "execution_count": 0,
   "metadata": {
    "colab": {},
    "colab_type": "code",
    "id": "XIwMnPWV2LaX"
   },
   "outputs": [],
   "source": []
  },
  {
   "cell_type": "code",
   "execution_count": 0,
   "metadata": {
    "colab": {},
    "colab_type": "code",
    "id": "Hl9DF_pmFcUF"
   },
   "outputs": [],
   "source": []
  },
  {
   "cell_type": "code",
   "execution_count": 0,
   "metadata": {
    "colab": {},
    "colab_type": "code",
    "id": "iQmon-i0FcWl"
   },
   "outputs": [],
   "source": []
  },
  {
   "cell_type": "code",
   "execution_count": 0,
   "metadata": {
    "colab": {},
    "colab_type": "code",
    "id": "s2WNNbxxFcY1"
   },
   "outputs": [],
   "source": []
  },
  {
   "cell_type": "code",
   "execution_count": 0,
   "metadata": {
    "colab": {},
    "colab_type": "code",
    "id": "mrC5PEl5FcbH"
   },
   "outputs": [],
   "source": []
  },
  {
   "cell_type": "code",
   "execution_count": 0,
   "metadata": {
    "colab": {},
    "colab_type": "code",
    "id": "wauAnznfFcdf"
   },
   "outputs": [],
   "source": []
  },
  {
   "cell_type": "code",
   "execution_count": 0,
   "metadata": {
    "colab": {},
    "colab_type": "code",
    "id": "Kk9extZlFcft"
   },
   "outputs": [],
   "source": []
  },
  {
   "cell_type": "code",
   "execution_count": 0,
   "metadata": {
    "colab": {},
    "colab_type": "code",
    "id": "qtbbAzyfFcho"
   },
   "outputs": [],
   "source": []
  }
 ],
 "metadata": {
  "accelerator": "GPU",
  "colab": {
   "collapsed_sections": [],
   "name": "Untitled24.ipynb",
   "provenance": []
  },
  "kernelspec": {
   "display_name": "Python 3",
   "language": "python",
   "name": "python3"
  },
  "language_info": {
   "codemirror_mode": {
    "name": "ipython",
    "version": 3
   },
   "file_extension": ".py",
   "mimetype": "text/x-python",
   "name": "python",
   "nbconvert_exporter": "python",
   "pygments_lexer": "ipython3",
   "version": "3.7.4"
  }
 },
 "nbformat": 4,
 "nbformat_minor": 1
}
