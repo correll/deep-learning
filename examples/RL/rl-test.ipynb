{
 "cells": [
  {
   "cell_type": "code",
   "execution_count": null,
   "metadata": {},
   "outputs": [
    {
     "name": "stderr",
     "output_type": "stream",
     "text": [
      "Using TensorFlow backend.\n"
     ]
    }
   ],
   "source": [
    "# -*- coding: utf-8 -*-\n",
    "from __future__ import division, print_function\n",
    "from keras.models import load_model\n",
    "from keras.optimizers import Adam\n",
    "#from scipy.misc import imresize\n",
    "from skimage.transform import resize as imresize\n",
    "\n",
    "import numpy as np\n",
    "import os\n",
    "\n",
    "import wrapped_game\n",
    "\n",
    "def preprocess_images(images):\n",
    "    if images.shape[0] < 4:\n",
    "        # single image\n",
    "        x_t = images[0]\n",
    "        x_t = imresize(x_t, (80, 80))\n",
    "        x_t = x_t.astype(\"float\")\n",
    "        x_t /= 255.0\n",
    "        s_t = np.stack((x_t, x_t, x_t, x_t), axis=2)\n",
    "    else:\n",
    "        # 4 images\n",
    "        xt_list = []\n",
    "        for i in range(images.shape[0]):\n",
    "            x_t = imresize(images[i], (80, 80))\n",
    "            x_t = x_t.astype(\"float\")\n",
    "            x_t /= 255.0\n",
    "            xt_list.append(x_t)\n",
    "        s_t = np.stack((xt_list[0], xt_list[1], xt_list[2], xt_list[3]), \n",
    "                       axis=2)\n",
    "    s_t = np.expand_dims(s_t, axis=0)\n",
    "    return s_t\n",
    "\n",
    "############################# main ###############################\n",
    "\n",
    "DATA_DIR = \"data\"\n",
    "\n",
    "BATCH_SIZE = 32\n",
    "NUM_EPOCHS = 100\n",
    "\n",
    "model = load_model(os.path.join(DATA_DIR, \"rl-network.h5\"))\n",
    "model.compile(optimizer=Adam(lr=1e-6), loss=\"mse\")\n",
    "\n",
    "# train network\n",
    "game = wrapped_game.MyWrappedGame()\n",
    "\n",
    "num_games, num_wins = 0, 0\n",
    "for e in range(NUM_EPOCHS):\n",
    "    loss = 0.0\n",
    "    game.reset()\n",
    "    \n",
    "    # get first state\n",
    "    a_0 = 1  # (0 = left, 1 = stay, 2 = right)\n",
    "    x_t, r_0, game_over = game.step(a_0) \n",
    "    s_t = preprocess_images(x_t)\n",
    "\n",
    "    while not game_over:\n",
    "        s_tm1 = s_t\n",
    "        # next action\n",
    "        q = model.predict(s_t)[0]\n",
    "        a_t = np.argmax(q)\n",
    "        # apply action, get reward\n",
    "        x_t, r_t, game_over = game.step(a_t)\n",
    "        s_t = preprocess_images(x_t)\n",
    "        # if reward, increment num_wins\n",
    "        if r_t == 1:\n",
    "            num_wins += 1\n",
    "\n",
    "    num_games += 1\n",
    "    print(\"Game: {:03d}, Wins: {:03d}\".format(num_games, num_wins), end=\"\\r\")\n",
    "        \n",
    "print(\"\")"
   ]
  },
  {
   "cell_type": "code",
   "execution_count": null,
   "metadata": {},
   "outputs": [],
   "source": []
  }
 ],
 "metadata": {
  "kernelspec": {
   "display_name": "Python 3",
   "language": "python",
   "name": "python3"
  },
  "language_info": {
   "codemirror_mode": {
    "name": "ipython",
    "version": 3
   },
   "file_extension": ".py",
   "mimetype": "text/x-python",
   "name": "python",
   "nbconvert_exporter": "python",
   "pygments_lexer": "ipython3",
   "version": "3.6.5"
  }
 },
 "nbformat": 4,
 "nbformat_minor": 2
}
