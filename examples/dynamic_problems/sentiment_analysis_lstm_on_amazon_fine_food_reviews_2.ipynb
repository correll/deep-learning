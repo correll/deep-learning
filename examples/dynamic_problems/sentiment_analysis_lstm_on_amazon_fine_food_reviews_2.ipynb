{
  "nbformat": 4,
  "nbformat_minor": 0,
  "metadata": {
    "kernelspec": {
      "display_name": "Python 3",
      "language": "python",
      "name": "python3"
    },
    "language_info": {
      "codemirror_mode": {
        "name": "ipython",
        "version": 3
      },
      "file_extension": ".py",
      "mimetype": "text/x-python",
      "name": "python",
      "nbconvert_exporter": "python",
      "pygments_lexer": "ipython3",
      "version": "3.7.6"
    },
    "colab": {
      "name": "sentiment-analysis-lstm-on-amazon-fine-food-reviews-2.ipynb",
      "provenance": [],
      "collapsed_sections": []
    }
  },
  "cells": [
    {
      "cell_type": "markdown",
      "metadata": {
        "id": "57mn_8vJR_vh",
        "colab_type": "text"
      },
      "source": [
        "# Amazon Fine Food Reviews Analysis\n",
        "\n",
        "\n",
        "Data Source: https://www.kaggle.com/snap/amazon-fine-food-reviews <br>\n",
        "\n",
        "EDA: https://nycdatascience.com/blog/student-works/amazon-fine-foods-visualization/\n",
        "\n",
        "\n",
        "The Amazon Fine Food Reviews dataset consists of reviews of fine foods from Amazon.<br>\n",
        "\n",
        "Number of reviews: 568,454<br>\n",
        "Number of users: 256,059<br>\n",
        "Number of products: 74,258<br>\n",
        "Timespan: Oct 1999 - Oct 2012<br>\n",
        "Number of Attributes/Columns in data: 10 \n",
        "\n",
        "Attribute Information:\n",
        "\n",
        "1. Id\n",
        "2. ProductId - unique identifier for the product\n",
        "3. UserId - unqiue identifier for the user\n",
        "4. ProfileName\n",
        "5. HelpfulnessNumerator - number of users who found the review helpful\n",
        "6. HelpfulnessDenominator - number of users who indicated whether they found the review helpful or not\n",
        "7. Score - rating between 1 and 5\n",
        "8. Time - timestamp for the review\n",
        "9. Summary - brief summary of the review\n",
        "10. Text - text of the review\n",
        "\n",
        "\n",
        "#### Objective:\n",
        "Given a review, determine whether the review is positive (rating of 4 or 5) or negative (rating of 1 or 2).\n",
        "\n",
        "<br>\n",
        "[Q] How to determine if a review is positive or negative?<br>\n",
        "<br> \n",
        "[Ans] We could use Score/Rating. A rating of 4 or 5 can be cosnidered as a positive review. A rating of 1 or 2 can be considered as negative one. A review of rating 3 is considered nuetral and such reviews are ignored from our analysis. This is an approximate and proxy way of determining the polarity (positivity/negativity) of a review."
      ]
    },
    {
      "cell_type": "markdown",
      "metadata": {
        "id": "ei9onxwRR_vq",
        "colab_type": "text"
      },
      "source": [
        "## Loading the data"
      ]
    },
    {
      "cell_type": "markdown",
      "metadata": {
        "id": "fkeAau6bR_vv",
        "colab_type": "text"
      },
      "source": [
        "The dataset is available in two forms\n",
        "1. .csv file\n",
        "2. SQLite Database\n",
        "\n",
        "In order to load the data, We have used the SQLITE dataset as it is easier to query the data and visualise the data efficiently.\n",
        "<br> \n",
        "\n",
        "Here as we only want to get the global sentiment of the recommendations (positive or negative), we will purposefully ignore all Scores equal to 3. If the score is above 3, then the recommendation wil be set to \"positive\". Otherwise, it will be set to \"negative\"."
      ]
    },
    {
      "cell_type": "code",
      "metadata": {
        "_cell_guid": "b1076dfc-b9ad-4769-8c92-a6c4dae69d19",
        "_uuid": "8f2839f25d086af736a60e9eeb907d3b93b6e0e5",
        "id": "WONmINMeR_v1",
        "colab_type": "code",
        "colab": {
          "base_uri": "https://localhost:8080/",
          "height": 80
        },
        "outputId": "a6a6eef7-a513-4210-a096-272107547020"
      },
      "source": [
        "%matplotlib inline\n",
        "import warnings\n",
        "warnings.filterwarnings(\"ignore\")\n",
        "\n",
        "import numpy as np\n",
        "import pandas as pd\n",
        "# pd.set_option('display.max_colwidth', -1)\n",
        "from matplotlib import pyplot as plt\n",
        "import seaborn as sns\n",
        "import keras\n",
        "from keras.layers import Dense, Embedding, LSTM, Dropout\n",
        "from keras.models import Sequential\n",
        "from keras.preprocessing import sequence\n",
        "from keras.preprocessing.text import Tokenizer\n",
        "import sqlite3\n",
        "from tqdm import tqdm\n",
        "import re\n",
        "from bs4 import BeautifulSoup\n",
        "\n",
        "from sklearn.model_selection import train_test_split"
      ],
      "execution_count": 2,
      "outputs": [
        {
          "output_type": "stream",
          "text": [
            "Using TensorFlow backend.\n"
          ],
          "name": "stderr"
        },
        {
          "output_type": "display_data",
          "data": {
            "text/html": [
              "<p style=\"color: red;\">\n",
              "The default version of TensorFlow in Colab will soon switch to TensorFlow 2.x.<br>\n",
              "We recommend you <a href=\"https://www.tensorflow.org/guide/migrate\" target=\"_blank\">upgrade</a> now \n",
              "or ensure your notebook will continue to use TensorFlow 1.x via the <code>%tensorflow_version 1.x</code> magic:\n",
              "<a href=\"https://colab.research.google.com/notebooks/tensorflow_version.ipynb\" target=\"_blank\">more info</a>.</p>\n"
            ],
            "text/plain": [
              "<IPython.core.display.HTML object>"
            ]
          },
          "metadata": {
            "tags": []
          }
        }
      ]
    },
    {
      "cell_type": "code",
      "metadata": {
        "id": "-PnovmnsSJGB",
        "colab_type": "code",
        "colab": {
          "base_uri": "https://localhost:8080/",
          "height": 122
        },
        "outputId": "ebde4f15-8c26-4e27-e868-3d96c9c12308"
      },
      "source": [
        "from google.colab import drive\n",
        "drive.mount('/content/drive')"
      ],
      "execution_count": 1,
      "outputs": [
        {
          "output_type": "stream",
          "text": [
            "Go to this URL in a browser: https://accounts.google.com/o/oauth2/auth?client_id=947318989803-6bn6qk8qdgf4n4g3pfee6491hc0brc4i.apps.googleusercontent.com&redirect_uri=urn%3aietf%3awg%3aoauth%3a2.0%3aoob&response_type=code&scope=email%20https%3a%2f%2fwww.googleapis.com%2fauth%2fdocs.test%20https%3a%2f%2fwww.googleapis.com%2fauth%2fdrive%20https%3a%2f%2fwww.googleapis.com%2fauth%2fdrive.photos.readonly%20https%3a%2f%2fwww.googleapis.com%2fauth%2fpeopleapi.readonly\n",
            "\n",
            "Enter your authorization code:\n",
            "··········\n",
            "Mounted at /content/drive\n"
          ],
          "name": "stdout"
        }
      ]
    },
    {
      "cell_type": "code",
      "metadata": {
        "id": "xsQO7wDAR_wN",
        "colab_type": "code",
        "colab": {
          "base_uri": "https://localhost:8080/",
          "height": 451
        },
        "outputId": "8c6f5309-a239-4158-d156-de63314b8a07"
      },
      "source": [
        "conn = sqlite3.connect('/content/drive/My Drive/deeplearning/amazon-fine-food-reviews/database.sqlite')\n",
        "df = pd.read_sql_query(''' SELECT * FROM REVIEWS ''', conn)\n",
        "\n",
        "print(\"Number of data points in our data\", df.shape)\n",
        "df.head(3)"
      ],
      "execution_count": 3,
      "outputs": [
        {
          "output_type": "stream",
          "text": [
            "Number of data points in our data (568454, 10)\n"
          ],
          "name": "stdout"
        },
        {
          "output_type": "execute_result",
          "data": {
            "text/html": [
              "<div>\n",
              "<style scoped>\n",
              "    .dataframe tbody tr th:only-of-type {\n",
              "        vertical-align: middle;\n",
              "    }\n",
              "\n",
              "    .dataframe tbody tr th {\n",
              "        vertical-align: top;\n",
              "    }\n",
              "\n",
              "    .dataframe thead th {\n",
              "        text-align: right;\n",
              "    }\n",
              "</style>\n",
              "<table border=\"1\" class=\"dataframe\">\n",
              "  <thead>\n",
              "    <tr style=\"text-align: right;\">\n",
              "      <th></th>\n",
              "      <th>Id</th>\n",
              "      <th>ProductId</th>\n",
              "      <th>UserId</th>\n",
              "      <th>ProfileName</th>\n",
              "      <th>HelpfulnessNumerator</th>\n",
              "      <th>HelpfulnessDenominator</th>\n",
              "      <th>Score</th>\n",
              "      <th>Time</th>\n",
              "      <th>Summary</th>\n",
              "      <th>Text</th>\n",
              "    </tr>\n",
              "  </thead>\n",
              "  <tbody>\n",
              "    <tr>\n",
              "      <th>0</th>\n",
              "      <td>1</td>\n",
              "      <td>B001E4KFG0</td>\n",
              "      <td>A3SGXH7AUHU8GW</td>\n",
              "      <td>delmartian</td>\n",
              "      <td>1</td>\n",
              "      <td>1</td>\n",
              "      <td>5</td>\n",
              "      <td>1303862400</td>\n",
              "      <td>Good Quality Dog Food</td>\n",
              "      <td>I have bought several of the Vitality canned d...</td>\n",
              "    </tr>\n",
              "    <tr>\n",
              "      <th>1</th>\n",
              "      <td>2</td>\n",
              "      <td>B00813GRG4</td>\n",
              "      <td>A1D87F6ZCVE5NK</td>\n",
              "      <td>dll pa</td>\n",
              "      <td>0</td>\n",
              "      <td>0</td>\n",
              "      <td>1</td>\n",
              "      <td>1346976000</td>\n",
              "      <td>Not as Advertised</td>\n",
              "      <td>Product arrived labeled as Jumbo Salted Peanut...</td>\n",
              "    </tr>\n",
              "    <tr>\n",
              "      <th>2</th>\n",
              "      <td>3</td>\n",
              "      <td>B000LQOCH0</td>\n",
              "      <td>ABXLMWJIXXAIN</td>\n",
              "      <td>Natalia Corres \"Natalia Corres\"</td>\n",
              "      <td>1</td>\n",
              "      <td>1</td>\n",
              "      <td>4</td>\n",
              "      <td>1219017600</td>\n",
              "      <td>\"Delight\" says it all</td>\n",
              "      <td>This is a confection that has been around a fe...</td>\n",
              "    </tr>\n",
              "  </tbody>\n",
              "</table>\n",
              "</div>"
            ],
            "text/plain": [
              "   Id  ...                                               Text\n",
              "0   1  ...  I have bought several of the Vitality canned d...\n",
              "1   2  ...  Product arrived labeled as Jumbo Salted Peanut...\n",
              "2   3  ...  This is a confection that has been around a fe...\n",
              "\n",
              "[3 rows x 10 columns]"
            ]
          },
          "metadata": {
            "tags": []
          },
          "execution_count": 3
        }
      ]
    },
    {
      "cell_type": "markdown",
      "metadata": {
        "id": "Bko5vu_IR_we",
        "colab_type": "text"
      },
      "source": [
        "## Data Preprocessing"
      ]
    },
    {
      "cell_type": "code",
      "metadata": {
        "id": "BLCfEfQrR_wi",
        "colab_type": "code",
        "colab": {
          "base_uri": "https://localhost:8080/",
          "height": 51
        },
        "outputId": "762e9116-2796-496b-ad0d-f7c86bcc225f"
      },
      "source": [
        "# check for null values\n",
        "print(df['Score'].isnull().sum())\n",
        "df['Text'].isnull().sum()  # no null values."
      ],
      "execution_count": 4,
      "outputs": [
        {
          "output_type": "stream",
          "text": [
            "0\n"
          ],
          "name": "stdout"
        },
        {
          "output_type": "execute_result",
          "data": {
            "text/plain": [
              "0"
            ]
          },
          "metadata": {
            "tags": []
          },
          "execution_count": 4
        }
      ]
    },
    {
      "cell_type": "code",
      "metadata": {
        "id": "Tsx7rMeDR_ws",
        "colab_type": "code",
        "colab": {
          "base_uri": "https://localhost:8080/",
          "height": 34
        },
        "outputId": "3dcd4c0a-f851-4999-b20c-d32704a01f88"
      },
      "source": [
        "# remove duplicates/ for every duplicate we will keep only one row of that type. \n",
        "df.drop_duplicates(subset=['Score','Text'],keep='first',inplace=True) \n",
        "df.shape"
      ],
      "execution_count": 5,
      "outputs": [
        {
          "output_type": "execute_result",
          "data": {
            "text/plain": [
              "(393675, 10)"
            ]
          },
          "metadata": {
            "tags": []
          },
          "execution_count": 5
        }
      ]
    },
    {
      "cell_type": "code",
      "metadata": {
        "id": "F4huAiEyR_w5",
        "colab_type": "code",
        "colab": {
          "base_uri": "https://localhost:8080/",
          "height": 292
        },
        "outputId": "35fd4c64-4426-4c21-e4b5-f9deb026f990"
      },
      "source": [
        "# printing some reviews to see insights.\n",
        "for review in df['Text'][:5]:\n",
        "    print(review+'\\n'+'\\n')"
      ],
      "execution_count": 6,
      "outputs": [
        {
          "output_type": "stream",
          "text": [
            "I have bought several of the Vitality canned dog food products and have found them all to be of good quality. The product looks more like a stew than a processed meat and it smells better. My Labrador is finicky and she appreciates this product better than  most.\n",
            "\n",
            "\n",
            "Product arrived labeled as Jumbo Salted Peanuts...the peanuts were actually small sized unsalted. Not sure if this was an error or if the vendor intended to represent the product as \"Jumbo\".\n",
            "\n",
            "\n",
            "This is a confection that has been around a few centuries.  It is a light, pillowy citrus gelatin with nuts - in this case Filberts. And it is cut into tiny squares and then liberally coated with powdered sugar.  And it is a tiny mouthful of heaven.  Not too chewy, and very flavorful.  I highly recommend this yummy treat.  If you are familiar with the story of C.S. Lewis' \"The Lion, The Witch, and The Wardrobe\" - this is the treat that seduces Edmund into selling out his Brother and Sisters to the Witch.\n",
            "\n",
            "\n",
            "If you are looking for the secret ingredient in Robitussin I believe I have found it.  I got this in addition to the Root Beer Extract I ordered (which was good) and made some cherry soda.  The flavor is very medicinal.\n",
            "\n",
            "\n",
            "Great taffy at a great price.  There was a wide assortment of yummy taffy.  Delivery was very quick.  If your a taffy lover, this is a deal.\n",
            "\n",
            "\n"
          ],
          "name": "stdout"
        }
      ]
    },
    {
      "cell_type": "code",
      "metadata": {
        "id": "V9RMmgb8R_xA",
        "colab_type": "code",
        "colab": {}
      },
      "source": [
        "# make it a classification problem\n",
        "def mark_sentiment(rating):\n",
        "  if(rating<=3):\n",
        "    return 0\n",
        "  else:\n",
        "    return 1"
      ],
      "execution_count": 0,
      "outputs": []
    },
    {
      "cell_type": "code",
      "metadata": {
        "id": "9-TkIUSfR_xF",
        "colab_type": "code",
        "colab": {
          "base_uri": "https://localhost:8080/",
          "height": 683
        },
        "outputId": "f18d41cb-58f8-4837-b49d-e44c6cba99ba"
      },
      "source": [
        "df['Score']=df['Score'].apply(mark_sentiment)\n",
        "df.head()"
      ],
      "execution_count": 8,
      "outputs": [
        {
          "output_type": "execute_result",
          "data": {
            "text/html": [
              "<div>\n",
              "<style scoped>\n",
              "    .dataframe tbody tr th:only-of-type {\n",
              "        vertical-align: middle;\n",
              "    }\n",
              "\n",
              "    .dataframe tbody tr th {\n",
              "        vertical-align: top;\n",
              "    }\n",
              "\n",
              "    .dataframe thead th {\n",
              "        text-align: right;\n",
              "    }\n",
              "</style>\n",
              "<table border=\"1\" class=\"dataframe\">\n",
              "  <thead>\n",
              "    <tr style=\"text-align: right;\">\n",
              "      <th></th>\n",
              "      <th>Id</th>\n",
              "      <th>ProductId</th>\n",
              "      <th>UserId</th>\n",
              "      <th>ProfileName</th>\n",
              "      <th>HelpfulnessNumerator</th>\n",
              "      <th>HelpfulnessDenominator</th>\n",
              "      <th>Score</th>\n",
              "      <th>Time</th>\n",
              "      <th>Summary</th>\n",
              "      <th>Text</th>\n",
              "    </tr>\n",
              "  </thead>\n",
              "  <tbody>\n",
              "    <tr>\n",
              "      <th>0</th>\n",
              "      <td>1</td>\n",
              "      <td>B001E4KFG0</td>\n",
              "      <td>A3SGXH7AUHU8GW</td>\n",
              "      <td>delmartian</td>\n",
              "      <td>1</td>\n",
              "      <td>1</td>\n",
              "      <td>1</td>\n",
              "      <td>1303862400</td>\n",
              "      <td>Good Quality Dog Food</td>\n",
              "      <td>I have bought several of the Vitality canned d...</td>\n",
              "    </tr>\n",
              "    <tr>\n",
              "      <th>1</th>\n",
              "      <td>2</td>\n",
              "      <td>B00813GRG4</td>\n",
              "      <td>A1D87F6ZCVE5NK</td>\n",
              "      <td>dll pa</td>\n",
              "      <td>0</td>\n",
              "      <td>0</td>\n",
              "      <td>0</td>\n",
              "      <td>1346976000</td>\n",
              "      <td>Not as Advertised</td>\n",
              "      <td>Product arrived labeled as Jumbo Salted Peanut...</td>\n",
              "    </tr>\n",
              "    <tr>\n",
              "      <th>2</th>\n",
              "      <td>3</td>\n",
              "      <td>B000LQOCH0</td>\n",
              "      <td>ABXLMWJIXXAIN</td>\n",
              "      <td>Natalia Corres \"Natalia Corres\"</td>\n",
              "      <td>1</td>\n",
              "      <td>1</td>\n",
              "      <td>1</td>\n",
              "      <td>1219017600</td>\n",
              "      <td>\"Delight\" says it all</td>\n",
              "      <td>This is a confection that has been around a fe...</td>\n",
              "    </tr>\n",
              "    <tr>\n",
              "      <th>3</th>\n",
              "      <td>4</td>\n",
              "      <td>B000UA0QIQ</td>\n",
              "      <td>A395BORC6FGVXV</td>\n",
              "      <td>Karl</td>\n",
              "      <td>3</td>\n",
              "      <td>3</td>\n",
              "      <td>0</td>\n",
              "      <td>1307923200</td>\n",
              "      <td>Cough Medicine</td>\n",
              "      <td>If you are looking for the secret ingredient i...</td>\n",
              "    </tr>\n",
              "    <tr>\n",
              "      <th>4</th>\n",
              "      <td>5</td>\n",
              "      <td>B006K2ZZ7K</td>\n",
              "      <td>A1UQRSCLF8GW1T</td>\n",
              "      <td>Michael D. Bigham \"M. Wassir\"</td>\n",
              "      <td>0</td>\n",
              "      <td>0</td>\n",
              "      <td>1</td>\n",
              "      <td>1350777600</td>\n",
              "      <td>Great taffy</td>\n",
              "      <td>Great taffy at a great price.  There was a wid...</td>\n",
              "    </tr>\n",
              "  </tbody>\n",
              "</table>\n",
              "</div>"
            ],
            "text/plain": [
              "   Id  ...                                               Text\n",
              "0   1  ...  I have bought several of the Vitality canned d...\n",
              "1   2  ...  Product arrived labeled as Jumbo Salted Peanut...\n",
              "2   3  ...  This is a confection that has been around a fe...\n",
              "3   4  ...  If you are looking for the secret ingredient i...\n",
              "4   5  ...  Great taffy at a great price.  There was a wid...\n",
              "\n",
              "[5 rows x 10 columns]"
            ]
          },
          "metadata": {
            "tags": []
          },
          "execution_count": 8
        }
      ]
    },
    {
      "cell_type": "code",
      "metadata": {
        "id": "kFCvWVnpR_xM",
        "colab_type": "code",
        "colab": {
          "base_uri": "https://localhost:8080/",
          "height": 68
        },
        "outputId": "f1b98621-1a1e-49cc-9545-a748e73cb279"
      },
      "source": [
        "df['Score'].value_counts()"
      ],
      "execution_count": 9,
      "outputs": [
        {
          "output_type": "execute_result",
          "data": {
            "text/plain": [
              "1    306819\n",
              "0     86856\n",
              "Name: Score, dtype: int64"
            ]
          },
          "metadata": {
            "tags": []
          },
          "execution_count": 9
        }
      ]
    },
    {
      "cell_type": "code",
      "metadata": {
        "id": "dY0QVCoHR_xT",
        "colab_type": "code",
        "colab": {
          "base_uri": "https://localhost:8080/",
          "height": 683
        },
        "outputId": "4249c246-4a49-4ce7-cf1f-42bf763e8c0b"
      },
      "source": [
        "# Shrink down the data size to 100k in total\n",
        "pos_df=df.loc[df.Score==1,:][:50000]\n",
        "neg_df=df.loc[df.Score==0,:][:50000]\n",
        "pos_df.head()"
      ],
      "execution_count": 10,
      "outputs": [
        {
          "output_type": "execute_result",
          "data": {
            "text/html": [
              "<div>\n",
              "<style scoped>\n",
              "    .dataframe tbody tr th:only-of-type {\n",
              "        vertical-align: middle;\n",
              "    }\n",
              "\n",
              "    .dataframe tbody tr th {\n",
              "        vertical-align: top;\n",
              "    }\n",
              "\n",
              "    .dataframe thead th {\n",
              "        text-align: right;\n",
              "    }\n",
              "</style>\n",
              "<table border=\"1\" class=\"dataframe\">\n",
              "  <thead>\n",
              "    <tr style=\"text-align: right;\">\n",
              "      <th></th>\n",
              "      <th>Id</th>\n",
              "      <th>ProductId</th>\n",
              "      <th>UserId</th>\n",
              "      <th>ProfileName</th>\n",
              "      <th>HelpfulnessNumerator</th>\n",
              "      <th>HelpfulnessDenominator</th>\n",
              "      <th>Score</th>\n",
              "      <th>Time</th>\n",
              "      <th>Summary</th>\n",
              "      <th>Text</th>\n",
              "    </tr>\n",
              "  </thead>\n",
              "  <tbody>\n",
              "    <tr>\n",
              "      <th>0</th>\n",
              "      <td>1</td>\n",
              "      <td>B001E4KFG0</td>\n",
              "      <td>A3SGXH7AUHU8GW</td>\n",
              "      <td>delmartian</td>\n",
              "      <td>1</td>\n",
              "      <td>1</td>\n",
              "      <td>1</td>\n",
              "      <td>1303862400</td>\n",
              "      <td>Good Quality Dog Food</td>\n",
              "      <td>I have bought several of the Vitality canned d...</td>\n",
              "    </tr>\n",
              "    <tr>\n",
              "      <th>2</th>\n",
              "      <td>3</td>\n",
              "      <td>B000LQOCH0</td>\n",
              "      <td>ABXLMWJIXXAIN</td>\n",
              "      <td>Natalia Corres \"Natalia Corres\"</td>\n",
              "      <td>1</td>\n",
              "      <td>1</td>\n",
              "      <td>1</td>\n",
              "      <td>1219017600</td>\n",
              "      <td>\"Delight\" says it all</td>\n",
              "      <td>This is a confection that has been around a fe...</td>\n",
              "    </tr>\n",
              "    <tr>\n",
              "      <th>4</th>\n",
              "      <td>5</td>\n",
              "      <td>B006K2ZZ7K</td>\n",
              "      <td>A1UQRSCLF8GW1T</td>\n",
              "      <td>Michael D. Bigham \"M. Wassir\"</td>\n",
              "      <td>0</td>\n",
              "      <td>0</td>\n",
              "      <td>1</td>\n",
              "      <td>1350777600</td>\n",
              "      <td>Great taffy</td>\n",
              "      <td>Great taffy at a great price.  There was a wid...</td>\n",
              "    </tr>\n",
              "    <tr>\n",
              "      <th>5</th>\n",
              "      <td>6</td>\n",
              "      <td>B006K2ZZ7K</td>\n",
              "      <td>ADT0SRK1MGOEU</td>\n",
              "      <td>Twoapennything</td>\n",
              "      <td>0</td>\n",
              "      <td>0</td>\n",
              "      <td>1</td>\n",
              "      <td>1342051200</td>\n",
              "      <td>Nice Taffy</td>\n",
              "      <td>I got a wild hair for taffy and ordered this f...</td>\n",
              "    </tr>\n",
              "    <tr>\n",
              "      <th>6</th>\n",
              "      <td>7</td>\n",
              "      <td>B006K2ZZ7K</td>\n",
              "      <td>A1SP2KVKFXXRU1</td>\n",
              "      <td>David C. Sullivan</td>\n",
              "      <td>0</td>\n",
              "      <td>0</td>\n",
              "      <td>1</td>\n",
              "      <td>1340150400</td>\n",
              "      <td>Great!  Just as good as the expensive brands!</td>\n",
              "      <td>This saltwater taffy had great flavors and was...</td>\n",
              "    </tr>\n",
              "  </tbody>\n",
              "</table>\n",
              "</div>"
            ],
            "text/plain": [
              "   Id  ...                                               Text\n",
              "0   1  ...  I have bought several of the Vitality canned d...\n",
              "2   3  ...  This is a confection that has been around a fe...\n",
              "4   5  ...  Great taffy at a great price.  There was a wid...\n",
              "5   6  ...  I got a wild hair for taffy and ordered this f...\n",
              "6   7  ...  This saltwater taffy had great flavors and was...\n",
              "\n",
              "[5 rows x 10 columns]"
            ]
          },
          "metadata": {
            "tags": []
          },
          "execution_count": 10
        }
      ]
    },
    {
      "cell_type": "code",
      "metadata": {
        "id": "JEa4XFyuR_xa",
        "colab_type": "code",
        "colab": {
          "base_uri": "https://localhost:8080/",
          "height": 666
        },
        "outputId": "2c4efdc5-271f-49eb-9305-a6946c140788"
      },
      "source": [
        "neg_df.head()"
      ],
      "execution_count": 11,
      "outputs": [
        {
          "output_type": "execute_result",
          "data": {
            "text/html": [
              "<div>\n",
              "<style scoped>\n",
              "    .dataframe tbody tr th:only-of-type {\n",
              "        vertical-align: middle;\n",
              "    }\n",
              "\n",
              "    .dataframe tbody tr th {\n",
              "        vertical-align: top;\n",
              "    }\n",
              "\n",
              "    .dataframe thead th {\n",
              "        text-align: right;\n",
              "    }\n",
              "</style>\n",
              "<table border=\"1\" class=\"dataframe\">\n",
              "  <thead>\n",
              "    <tr style=\"text-align: right;\">\n",
              "      <th></th>\n",
              "      <th>Id</th>\n",
              "      <th>ProductId</th>\n",
              "      <th>UserId</th>\n",
              "      <th>ProfileName</th>\n",
              "      <th>HelpfulnessNumerator</th>\n",
              "      <th>HelpfulnessDenominator</th>\n",
              "      <th>Score</th>\n",
              "      <th>Time</th>\n",
              "      <th>Summary</th>\n",
              "      <th>Text</th>\n",
              "    </tr>\n",
              "  </thead>\n",
              "  <tbody>\n",
              "    <tr>\n",
              "      <th>1</th>\n",
              "      <td>2</td>\n",
              "      <td>B00813GRG4</td>\n",
              "      <td>A1D87F6ZCVE5NK</td>\n",
              "      <td>dll pa</td>\n",
              "      <td>0</td>\n",
              "      <td>0</td>\n",
              "      <td>0</td>\n",
              "      <td>1346976000</td>\n",
              "      <td>Not as Advertised</td>\n",
              "      <td>Product arrived labeled as Jumbo Salted Peanut...</td>\n",
              "    </tr>\n",
              "    <tr>\n",
              "      <th>3</th>\n",
              "      <td>4</td>\n",
              "      <td>B000UA0QIQ</td>\n",
              "      <td>A395BORC6FGVXV</td>\n",
              "      <td>Karl</td>\n",
              "      <td>3</td>\n",
              "      <td>3</td>\n",
              "      <td>0</td>\n",
              "      <td>1307923200</td>\n",
              "      <td>Cough Medicine</td>\n",
              "      <td>If you are looking for the secret ingredient i...</td>\n",
              "    </tr>\n",
              "    <tr>\n",
              "      <th>12</th>\n",
              "      <td>13</td>\n",
              "      <td>B0009XLVG0</td>\n",
              "      <td>A327PCT23YH90</td>\n",
              "      <td>LT</td>\n",
              "      <td>1</td>\n",
              "      <td>1</td>\n",
              "      <td>0</td>\n",
              "      <td>1339545600</td>\n",
              "      <td>My Cats Are Not Fans of the New Food</td>\n",
              "      <td>My cats have been happily eating Felidae Plati...</td>\n",
              "    </tr>\n",
              "    <tr>\n",
              "      <th>16</th>\n",
              "      <td>17</td>\n",
              "      <td>B001GVISJM</td>\n",
              "      <td>A3KLWF6WQ5BNYO</td>\n",
              "      <td>Erica Neathery</td>\n",
              "      <td>0</td>\n",
              "      <td>0</td>\n",
              "      <td>0</td>\n",
              "      <td>1348099200</td>\n",
              "      <td>poor taste</td>\n",
              "      <td>I love eating them and they are good for watch...</td>\n",
              "    </tr>\n",
              "    <tr>\n",
              "      <th>26</th>\n",
              "      <td>27</td>\n",
              "      <td>B001GVISJM</td>\n",
              "      <td>A3RXAU2N8KV45G</td>\n",
              "      <td>lady21</td>\n",
              "      <td>0</td>\n",
              "      <td>1</td>\n",
              "      <td>0</td>\n",
              "      <td>1332633600</td>\n",
              "      <td>Nasty No flavor</td>\n",
              "      <td>The candy is just red , No flavor . Just  plan...</td>\n",
              "    </tr>\n",
              "  </tbody>\n",
              "</table>\n",
              "</div>"
            ],
            "text/plain": [
              "    Id  ...                                               Text\n",
              "1    2  ...  Product arrived labeled as Jumbo Salted Peanut...\n",
              "3    4  ...  If you are looking for the secret ingredient i...\n",
              "12  13  ...  My cats have been happily eating Felidae Plati...\n",
              "16  17  ...  I love eating them and they are good for watch...\n",
              "26  27  ...  The candy is just red , No flavor . Just  plan...\n",
              "\n",
              "[5 rows x 10 columns]"
            ]
          },
          "metadata": {
            "tags": []
          },
          "execution_count": 11
        }
      ]
    },
    {
      "cell_type": "code",
      "metadata": {
        "id": "AHdijRD6R_xd",
        "colab_type": "code",
        "colab": {
          "base_uri": "https://localhost:8080/",
          "height": 34
        },
        "outputId": "76347a5c-926e-44ac-d9d8-ca89bc1988cb"
      },
      "source": [
        "# combine them\n",
        "df=pd.concat([pos_df,neg_df],ignore_index=True)\n",
        "print(df.shape)"
      ],
      "execution_count": 12,
      "outputs": [
        {
          "output_type": "stream",
          "text": [
            "(100000, 10)\n"
          ],
          "name": "stdout"
        }
      ]
    },
    {
      "cell_type": "code",
      "metadata": {
        "id": "-qyBGo_pR_xl",
        "colab_type": "code",
        "colab": {}
      },
      "source": [
        "filtered_data = df"
      ],
      "execution_count": 0,
      "outputs": []
    },
    {
      "cell_type": "code",
      "metadata": {
        "id": "97Qj6QosR_xp",
        "colab_type": "code",
        "colab": {
          "base_uri": "https://localhost:8080/",
          "height": 1000
        },
        "outputId": "e12f2bfe-8a71-4611-ff21-19b8c3ac3fab"
      },
      "source": [
        "#Sorting data according to ProductId in ascending order\n",
        "sorted_data=filtered_data.sort_values('ProductId', axis=0, ascending=True, inplace=False, kind='quicksort', na_position='last')\n",
        "\n",
        "# #Deduplication of entries\n",
        "# final=sorted_data.drop_duplicates(subset={\"UserId\",\"ProfileName\",\"Time\",\"Text\"}, keep='first', inplace=False)\n",
        "# final.shape\n",
        "\n",
        "#Removing the anamolies\n",
        "final=final[final.HelpfulnessNumerator<=final.HelpfulnessDenominator]\n",
        "\n",
        "#Preprocessing\n",
        "def decontracted(phrase):\n",
        "    # specific\n",
        "    phrase = re.sub(r\"won't\", \"will not\", phrase)\n",
        "    phrase = re.sub(r\"can\\'t\", \"can not\", phrase)\n",
        "\n",
        "    # general\n",
        "    phrase = re.sub(r\"n\\'t\", \" not\", phrase)\n",
        "    phrase = re.sub(r\"\\'re\", \" are\", phrase)\n",
        "    phrase = re.sub(r\"\\'s\", \" is\", phrase)\n",
        "    phrase = re.sub(r\"\\'d\", \" would\", phrase)\n",
        "    phrase = re.sub(r\"\\'ll\", \" will\", phrase)\n",
        "    phrase = re.sub(r\"\\'t\", \" not\", phrase)\n",
        "    phrase = re.sub(r\"\\'ve\", \" have\", phrase)\n",
        "    phrase = re.sub(r\"\\'m\", \" am\", phrase)\n",
        "    return phrase\n",
        "\n",
        "\n",
        "preprocessed_reviews = []\n",
        "# tqdm is for printing the status bar\n",
        "for sentance in tqdm(final['Text'].values):\n",
        "    sentance = re.sub(r\"http\\S+\", \"\", sentance)\n",
        "    sentance = BeautifulSoup(sentance, features =\"html\").get_text()\n",
        "    sentance = decontracted(sentance)\n",
        "    sentance = re.sub(\"\\S*\\d\\S*\", \"\", sentance).strip()\n",
        "    sentance = re.sub('[^A-Za-z]+', ' ', sentance)\n",
        "    # https://gist.github.com/sebleier/554280\n",
        "    # sentance = ' '.join(e.lower() for e in sentance.split() if e.lower() not in stopwords)\n",
        "    preprocessed_reviews.append(sentance.strip())\n",
        "    \n",
        "## Similartly you can do preprocessing for review summary also.\n",
        "def concatenateSummaryWithText(str1, str2):\n",
        "    return str1 + ' ' + str2\n",
        "\n",
        "preprocessed_summary = []\n",
        "# tqdm is for printing the status bar\n",
        "for sentence in tqdm(final['Summary'].values):\n",
        "    sentence = re.sub(r\"http\\S+\", \"\", sentence)\n",
        "    #sentence = BeautifulSoup(sentence, 'lxml').get_text()\n",
        "    sentence = decontracted(sentence)\n",
        "    sentence = re.sub(\"\\S*\\d\\S*\", \"\", sentence).strip()\n",
        "    sentence = re.sub('[^A-Za-z]+', ' ', sentence)\n",
        "    # https://gist.github.com/sebleier/554280\n",
        "    # sentence = ' '.join(e.lower() for e in sentence.split() if e.lower() not in stopwords)\n",
        "    preprocessed_summary.append(sentence.strip())\n",
        "    \n",
        "preprocessed_reviews = list(map(concatenateSummaryWithText, preprocessed_reviews, preprocessed_summary))\n",
        "final['CleanedText'] = preprocessed_reviews\n",
        "final['CleanedText'] = final['CleanedText'].astype('str')"
      ],
      "execution_count": 15,
      "outputs": [
        {
          "output_type": "stream",
          "text": [
            "\n",
            "  0%|          | 0/99989 [00:00<?, ?it/s]\u001b[A\n",
            "  0%|          | 284/99989 [00:00<00:35, 2827.54it/s]\u001b[A\n",
            "  1%|          | 536/99989 [00:00<00:36, 2725.92it/s]\u001b[A\n",
            "  1%|          | 804/99989 [00:00<00:36, 2710.59it/s]\u001b[A\n",
            "  1%|          | 1086/99989 [00:00<00:36, 2742.14it/s]\u001b[A\n",
            "  1%|▏         | 1382/99989 [00:00<00:35, 2803.58it/s]\u001b[A\n",
            "  2%|▏         | 1643/99989 [00:00<00:35, 2737.76it/s]\u001b[A\n",
            "  2%|▏         | 1905/99989 [00:00<00:36, 2700.05it/s]\u001b[A\n",
            "  2%|▏         | 2205/99989 [00:00<00:35, 2781.90it/s]\u001b[A\n",
            "  2%|▏         | 2468/99989 [00:00<00:35, 2727.02it/s]\u001b[A\n",
            "  3%|▎         | 2773/99989 [00:01<00:34, 2815.64it/s]\u001b[A\n",
            "  3%|▎         | 3063/99989 [00:01<00:34, 2839.25it/s]\u001b[A\n",
            "  3%|▎         | 3349/99989 [00:01<00:33, 2843.95it/s]\u001b[A\n",
            "  4%|▎         | 3645/99989 [00:01<00:33, 2875.44it/s]\u001b[A\n",
            "  4%|▍         | 3937/99989 [00:01<00:33, 2888.60it/s]\u001b[A\n",
            "  4%|▍         | 4225/99989 [00:01<00:33, 2816.99it/s]\u001b[A\n",
            "  5%|▍         | 4507/99989 [00:01<00:34, 2772.20it/s]\u001b[A\n",
            "  5%|▍         | 4784/99989 [00:01<00:34, 2762.02it/s]\u001b[A\n",
            "  5%|▌         | 5085/99989 [00:01<00:33, 2830.46it/s]\u001b[A\n",
            "  5%|▌         | 5373/99989 [00:01<00:33, 2843.98it/s]\u001b[A\n",
            "  6%|▌         | 5689/99989 [00:02<00:32, 2929.67it/s]\u001b[A\n",
            "  6%|▌         | 6005/99989 [00:02<00:31, 2994.33it/s]\u001b[A\n",
            "  6%|▋         | 6306/99989 [00:02<00:31, 2980.99it/s]\u001b[A\n",
            "  7%|▋         | 6605/99989 [00:02<00:33, 2811.60it/s]\u001b[A\n",
            "  7%|▋         | 6889/99989 [00:02<00:33, 2783.10it/s]\u001b[A\n",
            "  7%|▋         | 7172/99989 [00:02<00:33, 2795.91it/s]\u001b[A\n",
            "  7%|▋         | 7469/99989 [00:02<00:32, 2844.63it/s]\u001b[A\n",
            "  8%|▊         | 7763/99989 [00:02<00:32, 2871.13it/s]\u001b[A\n",
            "  8%|▊         | 8071/99989 [00:02<00:31, 2930.07it/s]\u001b[A\n",
            "  8%|▊         | 8379/99989 [00:02<00:30, 2972.20it/s]\u001b[A\n",
            "  9%|▊         | 8677/99989 [00:03<00:30, 2956.37it/s]\u001b[A\n",
            "  9%|▉         | 8974/99989 [00:03<00:31, 2881.44it/s]\u001b[A\n",
            "  9%|▉         | 9264/99989 [00:03<00:31, 2886.14it/s]\u001b[A\n",
            " 10%|▉         | 9554/99989 [00:03<00:31, 2875.20it/s]\u001b[A\n",
            " 10%|▉         | 9842/99989 [00:03<00:31, 2873.07it/s]\u001b[A\n",
            " 10%|█         | 10146/99989 [00:03<00:30, 2920.48it/s]\u001b[A\n",
            " 10%|█         | 10439/99989 [00:03<00:30, 2912.83it/s]\u001b[A\n",
            " 11%|█         | 10731/99989 [00:03<00:31, 2845.71it/s]\u001b[A\n",
            " 11%|█         | 11028/99989 [00:03<00:30, 2880.43it/s]\u001b[A\n",
            " 11%|█▏        | 11321/99989 [00:03<00:30, 2894.15it/s]\u001b[A\n",
            " 12%|█▏        | 11626/99989 [00:04<00:30, 2939.21it/s]\u001b[A\n",
            " 12%|█▏        | 11930/99989 [00:04<00:29, 2967.78it/s]\u001b[A\n",
            " 12%|█▏        | 12228/99989 [00:04<00:29, 2934.99it/s]\u001b[A\n",
            " 13%|█▎        | 12532/99989 [00:04<00:29, 2964.31it/s]\u001b[A\n",
            " 13%|█▎        | 12829/99989 [00:04<00:32, 2700.13it/s]\u001b[A\n",
            " 13%|█▎        | 13125/99989 [00:04<00:31, 2772.69it/s]\u001b[A\n",
            " 13%|█▎        | 13429/99989 [00:04<00:30, 2847.06it/s]\u001b[A\n",
            " 14%|█▎        | 13717/99989 [00:04<00:30, 2787.36it/s]\u001b[A\n",
            " 14%|█▍        | 14008/99989 [00:04<00:30, 2821.01it/s]\u001b[A\n",
            " 14%|█▍        | 14307/99989 [00:05<00:29, 2866.14it/s]\u001b[A\n",
            " 15%|█▍        | 14596/99989 [00:05<00:30, 2796.98it/s]\u001b[A\n",
            " 15%|█▍        | 14878/99989 [00:05<00:31, 2669.03it/s]\u001b[A\n",
            " 15%|█▌        | 15161/99989 [00:05<00:31, 2714.24it/s]\u001b[A\n",
            " 15%|█▌        | 15458/99989 [00:05<00:30, 2784.26it/s]\u001b[A\n",
            " 16%|█▌        | 15739/99989 [00:05<00:30, 2781.04it/s]\u001b[A\n",
            " 16%|█▌        | 16023/99989 [00:05<00:30, 2796.00it/s]\u001b[A\n",
            " 16%|█▋        | 16304/99989 [00:05<00:30, 2728.94it/s]\u001b[A\n",
            " 17%|█▋        | 16578/99989 [00:05<00:31, 2660.89it/s]\u001b[A\n",
            " 17%|█▋        | 16861/99989 [00:05<00:30, 2708.44it/s]\u001b[A\n",
            " 17%|█▋        | 17150/99989 [00:06<00:30, 2759.16it/s]\u001b[A\n",
            " 17%|█▋        | 17434/99989 [00:06<00:29, 2781.77it/s]\u001b[A\n",
            " 18%|█▊        | 17725/99989 [00:06<00:29, 2817.77it/s]\u001b[A\n",
            " 18%|█▊        | 18008/99989 [00:06<00:29, 2801.66it/s]\u001b[A\n",
            " 18%|█▊        | 18289/99989 [00:06<00:29, 2782.19it/s]\u001b[A\n",
            " 19%|█▊        | 18571/99989 [00:06<00:29, 2792.66it/s]\u001b[A\n",
            " 19%|█▉        | 18862/99989 [00:06<00:28, 2825.83it/s]\u001b[A\n",
            " 19%|█▉        | 19155/99989 [00:06<00:28, 2855.25it/s]\u001b[A\n",
            " 19%|█▉        | 19451/99989 [00:06<00:27, 2884.51it/s]\u001b[A\n",
            " 35%|███▌      | 35383/99989 [00:30<00:22, 2914.60it/s]\n",
            " 20%|██        | 20046/99989 [00:07<00:27, 2877.60it/s]\u001b[A\n",
            " 20%|██        | 20335/99989 [00:07<00:28, 2815.32it/s]\u001b[A\n",
            " 21%|██        | 20630/99989 [00:07<00:27, 2851.37it/s]\u001b[A\n",
            " 21%|██        | 20935/99989 [00:07<00:27, 2905.67it/s]\u001b[A\n",
            " 21%|██        | 21228/99989 [00:07<00:27, 2912.14it/s]\u001b[A\n",
            " 22%|██▏       | 21535/99989 [00:07<00:26, 2956.54it/s]\u001b[A\n",
            " 22%|██▏       | 21832/99989 [00:07<00:26, 2939.59it/s]\u001b[A\n",
            " 22%|██▏       | 22129/99989 [00:07<00:26, 2947.56it/s]\u001b[A\n",
            " 22%|██▏       | 22425/99989 [00:07<00:27, 2811.08it/s]\u001b[A\n",
            " 23%|██▎       | 22708/99989 [00:08<00:27, 2766.99it/s]\u001b[A\n",
            " 23%|██▎       | 23004/99989 [00:08<00:27, 2817.53it/s]\u001b[A\n",
            " 23%|██▎       | 23302/99989 [00:08<00:26, 2862.82it/s]\u001b[A\n",
            " 24%|██▎       | 23590/99989 [00:08<00:27, 2800.04it/s]\u001b[A\n",
            " 24%|██▍       | 23871/99989 [00:08<00:27, 2785.69it/s]\u001b[A\n",
            " 24%|██▍       | 24151/99989 [00:08<00:27, 2763.31it/s]\u001b[A\n",
            " 24%|██▍       | 24430/99989 [00:08<00:27, 2766.24it/s]\u001b[A\n",
            " 25%|██▍       | 24737/99989 [00:08<00:26, 2850.48it/s]\u001b[A\n",
            " 25%|██▌       | 25023/99989 [00:08<00:26, 2793.32it/s]\u001b[A\n",
            " 25%|██▌       | 25336/99989 [00:08<00:25, 2880.86it/s]\u001b[A\n",
            " 26%|██▌       | 25639/99989 [00:09<00:25, 2921.46it/s]\u001b[A\n",
            " 26%|██▌       | 25940/99989 [00:09<00:25, 2942.97it/s]\u001b[A\n",
            " 26%|██▌       | 26236/99989 [00:09<00:25, 2854.24it/s]\u001b[A\n",
            " 27%|██▋       | 26523/99989 [00:09<00:26, 2822.45it/s]\u001b[A\n",
            " 27%|██▋       | 26809/99989 [00:09<00:25, 2832.74it/s]\u001b[A\n",
            " 27%|██▋       | 27096/99989 [00:09<00:25, 2842.52it/s]\u001b[A\n",
            " 27%|██▋       | 27381/99989 [00:09<00:25, 2844.01it/s]\u001b[A\n",
            " 28%|██▊       | 27671/99989 [00:09<00:25, 2859.96it/s]\u001b[A\n",
            " 28%|██▊       | 27965/99989 [00:09<00:24, 2881.60it/s]\u001b[A\n",
            " 28%|██▊       | 28254/99989 [00:09<00:24, 2876.51it/s]\u001b[A\n",
            " 29%|██▊       | 28542/99989 [00:10<00:25, 2829.82it/s]\u001b[A\n",
            " 29%|██▉       | 28858/99989 [00:10<00:24, 2921.12it/s]\u001b[A\n",
            " 29%|██▉       | 29152/99989 [00:10<00:24, 2884.84it/s]\u001b[A\n",
            " 29%|██▉       | 29442/99989 [00:10<00:24, 2874.18it/s]\u001b[A\n",
            " 30%|██▉       | 29730/99989 [00:10<00:24, 2840.65it/s]\u001b[A\n",
            " 30%|███       | 30015/99989 [00:10<00:24, 2819.85it/s]\u001b[A\n",
            " 30%|███       | 30298/99989 [00:10<00:26, 2677.71it/s]\u001b[A\n",
            " 31%|███       | 30596/99989 [00:10<00:25, 2759.40it/s]\u001b[A\n",
            " 31%|███       | 30906/99989 [00:10<00:24, 2852.38it/s]\u001b[A\n",
            " 31%|███       | 31200/99989 [00:10<00:23, 2876.77it/s]\u001b[A\n",
            " 32%|███▏      | 31509/99989 [00:11<00:23, 2937.21it/s]\u001b[A\n",
            " 32%|███▏      | 31805/99989 [00:11<00:23, 2865.66it/s]\u001b[A\n",
            " 32%|███▏      | 32093/99989 [00:11<00:23, 2856.34it/s]\u001b[A\n",
            " 32%|███▏      | 32380/99989 [00:11<00:24, 2798.43it/s]\u001b[A\n",
            " 33%|███▎      | 32676/99989 [00:11<00:23, 2843.87it/s]\u001b[A\n",
            " 33%|███▎      | 32962/99989 [00:11<00:23, 2843.08it/s]\u001b[A\n",
            " 33%|███▎      | 33247/99989 [00:11<00:23, 2810.52it/s]\u001b[A\n",
            " 34%|███▎      | 33561/99989 [00:11<00:22, 2901.29it/s]\u001b[A\n",
            " 34%|███▍      | 33856/99989 [00:11<00:22, 2914.06it/s]\u001b[A\n",
            " 34%|███▍      | 34149/99989 [00:12<00:22, 2871.67it/s]\u001b[A\n",
            " 34%|███▍      | 34437/99989 [00:12<00:23, 2776.67it/s]\u001b[A\n",
            " 35%|███▍      | 34728/99989 [00:12<00:23, 2814.21it/s]\u001b[A\n",
            " 35%|███▌      | 35011/99989 [00:12<00:23, 2789.43it/s]\u001b[A\n",
            " 35%|███▌      | 35307/99989 [00:12<00:22, 2835.08it/s]\u001b[A\n",
            " 36%|███▌      | 35592/99989 [00:12<00:22, 2836.58it/s]\u001b[A\n",
            " 36%|███▌      | 35877/99989 [00:12<00:22, 2814.47it/s]\u001b[A\n",
            " 36%|███▌      | 36159/99989 [00:12<00:22, 2795.33it/s]\u001b[A\n",
            " 36%|███▋      | 36439/99989 [00:12<00:22, 2790.25it/s]\u001b[A\n",
            " 37%|███▋      | 36719/99989 [00:12<00:22, 2786.87it/s]\u001b[A\n",
            " 37%|███▋      | 36998/99989 [00:13<00:23, 2687.16it/s]\u001b[A\n",
            " 37%|███▋      | 37270/99989 [00:13<00:23, 2695.73it/s]\u001b[A\n",
            " 38%|███▊      | 37556/99989 [00:13<00:22, 2740.72it/s]\u001b[A\n",
            " 38%|███▊      | 37834/99989 [00:13<00:22, 2747.03it/s]\u001b[A\n",
            " 38%|███▊      | 38110/99989 [00:13<00:23, 2661.63it/s]\u001b[A\n",
            " 38%|███▊      | 38401/99989 [00:13<00:22, 2729.66it/s]\u001b[A\n",
            " 39%|███▊      | 38676/99989 [00:13<00:23, 2566.73it/s]\u001b[A\n",
            " 39%|███▉      | 38936/99989 [00:13<00:24, 2513.17it/s]\u001b[A\n",
            " 39%|███▉      | 39202/99989 [00:13<00:23, 2555.27it/s]\u001b[A\n",
            " 39%|███▉      | 39488/99989 [00:13<00:22, 2639.29it/s]\u001b[A\n",
            " 40%|███▉      | 39754/99989 [00:14<00:22, 2627.52it/s]\u001b[A\n",
            " 40%|████      | 40029/99989 [00:14<00:22, 2662.79it/s]\u001b[A\n",
            " 40%|████      | 40308/99989 [00:14<00:22, 2698.65it/s]\u001b[A\n",
            " 41%|████      | 40579/99989 [00:14<00:22, 2638.05it/s]\u001b[A\n",
            " 41%|████      | 40850/99989 [00:14<00:22, 2657.52it/s]\u001b[A\n",
            " 41%|████      | 41117/99989 [00:14<00:22, 2594.55it/s]\u001b[A\n",
            " 41%|████▏     | 41399/99989 [00:14<00:22, 2655.65it/s]\u001b[A\n",
            " 42%|████▏     | 41666/99989 [00:14<00:22, 2576.21it/s]\u001b[A\n",
            " 42%|████▏     | 41939/99989 [00:14<00:22, 2618.48it/s]\u001b[A\n",
            " 42%|████▏     | 42231/99989 [00:15<00:21, 2701.41it/s]\u001b[A\n",
            " 43%|████▎     | 42508/99989 [00:15<00:21, 2720.95it/s]\u001b[A\n",
            " 43%|████▎     | 42786/99989 [00:15<00:20, 2736.61it/s]\u001b[A\n",
            " 43%|████▎     | 43078/99989 [00:15<00:20, 2788.46it/s]\u001b[A\n",
            " 43%|████▎     | 43358/99989 [00:15<00:21, 2693.38it/s]\u001b[A\n",
            " 44%|████▎     | 43644/99989 [00:15<00:20, 2741.01it/s]\u001b[A\n",
            " 44%|████▍     | 43949/99989 [00:15<00:19, 2825.79it/s]\u001b[A\n",
            " 44%|████▍     | 44233/99989 [00:15<00:19, 2813.76it/s]\u001b[A\n",
            " 45%|████▍     | 44520/99989 [00:15<00:19, 2828.73it/s]\u001b[A\n",
            " 45%|████▍     | 44811/99989 [00:15<00:19, 2851.24it/s]\u001b[A\n",
            " 45%|████▌     | 45097/99989 [00:16<00:19, 2775.10it/s]\u001b[A\n",
            " 45%|████▌     | 45376/99989 [00:16<00:19, 2766.56it/s]\u001b[A\n",
            " 46%|████▌     | 45668/99989 [00:16<00:19, 2806.96it/s]\u001b[A\n",
            " 46%|████▌     | 45950/99989 [00:16<00:19, 2720.62it/s]\u001b[A\n",
            " 46%|████▌     | 46224/99989 [00:16<00:20, 2623.24it/s]\u001b[A\n",
            " 46%|████▋     | 46494/99989 [00:16<00:20, 2645.34it/s]\u001b[A\n",
            " 47%|████▋     | 46779/99989 [00:16<00:19, 2702.32it/s]\u001b[A\n",
            " 47%|████▋     | 47051/99989 [00:16<00:19, 2664.25it/s]\u001b[A\n",
            " 47%|████▋     | 47319/99989 [00:16<00:19, 2664.73it/s]\u001b[A\n",
            " 48%|████▊     | 47587/99989 [00:16<00:19, 2647.86it/s]\u001b[A\n",
            " 48%|████▊     | 47853/99989 [00:17<00:19, 2612.51it/s]\u001b[A\n",
            " 48%|████▊     | 48115/99989 [00:17<00:19, 2613.81it/s]\u001b[A\n",
            " 48%|████▊     | 48398/99989 [00:17<00:19, 2673.84it/s]\u001b[A\n",
            " 49%|████▊     | 48666/99989 [00:17<00:19, 2596.15it/s]\u001b[A\n",
            " 49%|████▉     | 48933/99989 [00:17<00:19, 2614.12it/s]\u001b[A\n",
            " 49%|████▉     | 49196/99989 [00:17<00:19, 2586.19it/s]\u001b[A\n",
            " 49%|████▉     | 49460/99989 [00:17<00:19, 2600.21it/s]\u001b[A\n",
            " 50%|████▉     | 49756/99989 [00:17<00:18, 2697.44it/s]\u001b[A\n",
            " 50%|█████     | 50031/99989 [00:17<00:18, 2711.38it/s]\u001b[A\n",
            " 50%|█████     | 50303/99989 [00:18<00:18, 2675.76it/s]\u001b[A\n",
            " 51%|█████     | 50572/99989 [00:18<00:19, 2523.06it/s]\u001b[A\n",
            " 51%|█████     | 50827/99989 [00:18<00:19, 2474.71it/s]\u001b[A\n",
            " 51%|█████     | 51077/99989 [00:18<00:19, 2459.84it/s]\u001b[A\n",
            " 51%|█████▏    | 51325/99989 [00:18<00:20, 2355.59it/s]\u001b[A\n",
            " 52%|█████▏    | 51579/99989 [00:18<00:20, 2407.48it/s]\u001b[A\n",
            " 52%|█████▏    | 51864/99989 [00:18<00:19, 2524.97it/s]\u001b[A\n",
            " 52%|█████▏    | 52120/99989 [00:18<00:19, 2494.25it/s]\u001b[A\n",
            " 52%|█████▏    | 52376/99989 [00:18<00:18, 2511.10it/s]\u001b[A\n",
            " 53%|█████▎    | 52670/99989 [00:18<00:18, 2625.53it/s]\u001b[A\n",
            " 53%|█████▎    | 52947/99989 [00:19<00:17, 2666.66it/s]\u001b[A\n",
            " 53%|█████▎    | 53217/99989 [00:19<00:17, 2676.22it/s]\u001b[A\n",
            " 54%|█████▎    | 53506/99989 [00:19<00:16, 2736.12it/s]\u001b[A\n",
            " 54%|█████▍    | 53781/99989 [00:19<00:17, 2704.31it/s]\u001b[A\n",
            " 54%|█████▍    | 54073/99989 [00:19<00:16, 2764.72it/s]\u001b[A\n",
            " 54%|█████▍    | 54351/99989 [00:19<00:16, 2721.48it/s]\u001b[A\n",
            " 55%|█████▍    | 54624/99989 [00:19<00:17, 2647.12it/s]\u001b[A\n",
            " 55%|█████▍    | 54900/99989 [00:19<00:16, 2679.32it/s]\u001b[A\n",
            " 55%|█████▌    | 55169/99989 [00:19<00:16, 2640.75it/s]\u001b[A\n",
            " 55%|█████▌    | 55434/99989 [00:20<00:18, 2429.24it/s]\u001b[A\n",
            " 56%|█████▌    | 55681/99989 [00:20<00:18, 2440.46it/s]\u001b[A\n",
            " 56%|█████▌    | 55960/99989 [00:20<00:17, 2533.72it/s]\u001b[A\n",
            " 56%|█████▌    | 56236/99989 [00:20<00:16, 2597.11it/s]\u001b[A\n",
            " 57%|█████▋    | 56521/99989 [00:20<00:16, 2667.27it/s]\u001b[A\n",
            " 57%|█████▋    | 56812/99989 [00:20<00:15, 2733.74it/s]\u001b[A\n",
            " 57%|█████▋    | 57088/99989 [00:20<00:15, 2738.81it/s]\u001b[A\n",
            " 57%|█████▋    | 57364/99989 [00:20<00:15, 2696.81it/s]\u001b[A\n",
            " 58%|█████▊    | 57635/99989 [00:20<00:15, 2662.12it/s]\u001b[A\n",
            " 58%|█████▊    | 57926/99989 [00:20<00:15, 2727.15it/s]\u001b[A\n",
            " 58%|█████▊    | 58214/99989 [00:21<00:15, 2770.53it/s]\u001b[A\n",
            " 59%|█████▊    | 58499/99989 [00:21<00:14, 2792.90it/s]\u001b[A\n",
            " 59%|█████▉    | 58788/99989 [00:21<00:14, 2819.87it/s]\u001b[A\n",
            " 59%|█████▉    | 59071/99989 [00:21<00:14, 2789.99it/s]\u001b[A\n",
            " 59%|█████▉    | 59351/99989 [00:21<00:14, 2745.61it/s]\u001b[A\n",
            " 60%|█████▉    | 59634/99989 [00:21<00:14, 2770.16it/s]\u001b[A\n",
            " 60%|█████▉    | 59920/99989 [00:21<00:14, 2794.78it/s]\u001b[A\n",
            " 60%|██████    | 60200/99989 [00:21<00:14, 2758.59it/s]\u001b[A\n",
            " 61%|██████    | 60512/99989 [00:21<00:13, 2856.33it/s]\u001b[A\n",
            " 61%|██████    | 60799/99989 [00:21<00:14, 2728.61it/s]\u001b[A\n",
            " 61%|██████    | 61074/99989 [00:22<00:14, 2658.47it/s]\u001b[A\n",
            " 61%|██████▏   | 61342/99989 [00:22<00:15, 2572.00it/s]\u001b[A\n",
            " 62%|██████▏   | 61602/99989 [00:22<00:16, 2398.85it/s]\u001b[A\n",
            " 62%|██████▏   | 61879/99989 [00:22<00:15, 2499.07it/s]\u001b[A\n",
            " 62%|██████▏   | 62133/99989 [00:22<00:15, 2473.26it/s]\u001b[A\n",
            " 62%|██████▏   | 62383/99989 [00:22<00:15, 2474.04it/s]\u001b[A\n",
            " 63%|██████▎   | 62660/99989 [00:22<00:14, 2555.04it/s]\u001b[A\n",
            " 63%|██████▎   | 62918/99989 [00:22<00:14, 2522.88it/s]\u001b[A\n",
            " 63%|██████▎   | 63244/99989 [00:22<00:13, 2705.15it/s]\u001b[A\n",
            " 64%|██████▎   | 63569/99989 [00:23<00:12, 2838.83it/s]\u001b[A\n",
            " 64%|██████▍   | 63858/99989 [00:23<00:13, 2755.92it/s]\u001b[A\n",
            " 64%|██████▍   | 64142/99989 [00:23<00:12, 2778.04it/s]\u001b[A\n",
            " 64%|██████▍   | 64423/99989 [00:23<00:13, 2580.12it/s]\u001b[A\n",
            " 65%|██████▍   | 64708/99989 [00:23<00:13, 2652.11it/s]\u001b[A\n",
            " 65%|██████▍   | 64980/99989 [00:23<00:13, 2671.27it/s]\u001b[A\n",
            " 65%|██████▌   | 65257/99989 [00:23<00:12, 2699.24it/s]\u001b[A\n",
            " 66%|██████▌   | 65539/99989 [00:23<00:12, 2733.24it/s]\u001b[A\n",
            " 66%|██████▌   | 65823/99989 [00:23<00:12, 2760.39it/s]\u001b[A\n",
            " 66%|██████▌   | 66109/99989 [00:23<00:12, 2789.47it/s]\u001b[A\n",
            " 66%|██████▋   | 66418/99989 [00:24<00:11, 2870.40it/s]\u001b[A\n",
            " 67%|██████▋   | 66722/99989 [00:24<00:11, 2918.35it/s]\u001b[A\n",
            " 67%|██████▋   | 67015/99989 [00:24<00:11, 2873.34it/s]\u001b[A\n",
            " 67%|██████▋   | 67306/99989 [00:24<00:11, 2867.64it/s]\u001b[A\n",
            " 68%|██████▊   | 67607/99989 [00:24<00:11, 2908.57it/s]\u001b[A\n",
            " 68%|██████▊   | 67899/99989 [00:24<00:11, 2867.50it/s]\u001b[A\n",
            " 68%|██████▊   | 68201/99989 [00:24<00:10, 2907.30it/s]\u001b[A\n",
            " 69%|██████▊   | 68507/99989 [00:24<00:10, 2949.41it/s]\u001b[A\n",
            " 69%|██████▉   | 68803/99989 [00:24<00:10, 2933.21it/s]\u001b[A\n",
            " 69%|██████▉   | 69105/99989 [00:24<00:10, 2954.21it/s]\u001b[A\n",
            " 69%|██████▉   | 69401/99989 [00:25<00:10, 2880.97it/s]\u001b[A\n",
            " 70%|██████▉   | 69690/99989 [00:25<00:10, 2851.97it/s]\u001b[A\n",
            " 70%|██████▉   | 69976/99989 [00:25<00:10, 2842.83it/s]\u001b[A\n",
            " 70%|███████   | 70261/99989 [00:25<00:10, 2719.47it/s]\u001b[A\n",
            " 71%|███████   | 70535/99989 [00:25<00:11, 2674.72it/s]\u001b[A\n",
            " 71%|███████   | 70804/99989 [00:25<00:10, 2663.06it/s]\u001b[A\n",
            " 71%|███████   | 71091/99989 [00:25<00:10, 2720.84it/s]\u001b[A\n",
            " 71%|███████▏  | 71371/99989 [00:25<00:10, 2743.27it/s]\u001b[A\n",
            " 72%|███████▏  | 71684/99989 [00:25<00:09, 2848.30it/s]\u001b[A\n",
            " 72%|███████▏  | 71971/99989 [00:26<00:10, 2795.86it/s]\u001b[A\n",
            " 72%|███████▏  | 72252/99989 [00:26<00:10, 2714.07it/s]\u001b[A\n",
            " 73%|███████▎  | 72525/99989 [00:26<00:10, 2704.92it/s]\u001b[A\n",
            " 73%|███████▎  | 72797/99989 [00:26<00:10, 2656.74it/s]\u001b[A\n",
            " 73%|███████▎  | 73077/99989 [00:26<00:09, 2696.96it/s]\u001b[A\n",
            " 73%|███████▎  | 73348/99989 [00:26<00:09, 2672.22it/s]\u001b[A\n",
            " 74%|███████▎  | 73616/99989 [00:26<00:09, 2656.45it/s]\u001b[A\n",
            " 74%|███████▍  | 73915/99989 [00:26<00:09, 2748.27it/s]\u001b[A\n",
            " 74%|███████▍  | 74191/99989 [00:26<00:09, 2636.52it/s]\u001b[A\n",
            " 74%|███████▍  | 74457/99989 [00:26<00:09, 2617.21it/s]\u001b[A\n",
            " 75%|███████▍  | 74725/99989 [00:27<00:09, 2635.51it/s]\u001b[A\n",
            " 75%|███████▍  | 74990/99989 [00:27<00:09, 2630.98it/s]\u001b[A\n",
            " 75%|███████▌  | 75254/99989 [00:27<00:09, 2544.50it/s]\u001b[A\n",
            " 76%|███████▌  | 75535/99989 [00:27<00:09, 2616.44it/s]\u001b[A\n",
            " 76%|███████▌  | 75798/99989 [00:27<00:09, 2561.47it/s]\u001b[A\n",
            " 76%|███████▌  | 76056/99989 [00:27<00:10, 2376.80it/s]\u001b[A\n",
            " 76%|███████▋  | 76304/99989 [00:27<00:09, 2405.63it/s]\u001b[A\n",
            " 77%|███████▋  | 76564/99989 [00:27<00:09, 2460.45it/s]\u001b[A\n",
            " 77%|███████▋  | 76833/99989 [00:27<00:09, 2524.79it/s]\u001b[A\n",
            " 77%|███████▋  | 77136/99989 [00:28<00:08, 2657.54it/s]\u001b[A\n",
            " 77%|███████▋  | 77418/99989 [00:28<00:08, 2703.41it/s]\u001b[A\n",
            " 78%|███████▊  | 77693/99989 [00:28<00:08, 2716.25it/s]\u001b[A\n",
            " 78%|███████▊  | 77967/99989 [00:28<00:09, 2426.75it/s]\u001b[A\n",
            " 78%|███████▊  | 78252/99989 [00:28<00:08, 2538.81it/s]\u001b[A\n",
            " 79%|███████▊  | 78513/99989 [00:28<00:08, 2544.07it/s]\u001b[A\n",
            " 79%|███████▉  | 78772/99989 [00:28<00:08, 2545.42it/s]\u001b[A\n",
            " 79%|███████▉  | 79030/99989 [00:28<00:08, 2502.55it/s]\u001b[A\n",
            " 79%|███████▉  | 79296/99989 [00:28<00:08, 2545.88it/s]\u001b[A\n",
            " 80%|███████▉  | 79553/99989 [00:28<00:08, 2525.58it/s]\u001b[A\n",
            " 80%|███████▉  | 79807/99989 [00:29<00:08, 2381.34it/s]\u001b[A\n",
            " 80%|████████  | 80048/99989 [00:29<00:08, 2381.50it/s]\u001b[A\n",
            " 80%|████████  | 80288/99989 [00:29<00:08, 2355.73it/s]\u001b[A\n",
            " 81%|████████  | 80539/99989 [00:29<00:08, 2398.44it/s]\u001b[A\n",
            " 81%|████████  | 80780/99989 [00:29<00:08, 2346.87it/s]\u001b[A\n",
            " 81%|████████  | 81027/99989 [00:29<00:07, 2379.68it/s]\u001b[A\n",
            " 81%|████████▏ | 81281/99989 [00:29<00:07, 2423.18it/s]\u001b[A\n",
            " 82%|████████▏ | 81525/99989 [00:29<00:07, 2424.50it/s]\u001b[A\n",
            " 82%|████████▏ | 81800/99989 [00:29<00:07, 2513.53it/s]\u001b[A\n",
            " 82%|████████▏ | 82053/99989 [00:30<00:07, 2436.52it/s]\u001b[A\n",
            " 82%|████████▏ | 82308/99989 [00:30<00:07, 2469.42it/s]\u001b[A\n",
            " 83%|████████▎ | 82589/99989 [00:30<00:06, 2562.52it/s]\u001b[A\n",
            " 83%|████████▎ | 82847/99989 [00:30<00:06, 2540.33it/s]\u001b[A\n",
            " 83%|████████▎ | 83103/99989 [00:30<00:06, 2493.15it/s]\u001b[A\n",
            " 83%|████████▎ | 83377/99989 [00:30<00:06, 2562.33it/s]\u001b[A\n",
            " 84%|████████▎ | 83638/99989 [00:30<00:06, 2572.67it/s]\u001b[A\n",
            " 84%|████████▍ | 83897/99989 [00:30<00:06, 2447.36it/s]\u001b[A\n",
            " 84%|████████▍ | 84144/99989 [00:30<00:06, 2393.65it/s]\u001b[A\n",
            " 84%|████████▍ | 84408/99989 [00:30<00:06, 2460.60it/s]\u001b[A\n",
            " 85%|████████▍ | 84658/99989 [00:31<00:06, 2471.21it/s]\u001b[A\n",
            " 85%|████████▍ | 84931/99989 [00:31<00:05, 2543.44it/s]\u001b[A\n",
            " 85%|████████▌ | 85200/99989 [00:31<00:05, 2583.54it/s]\u001b[A\n",
            " 85%|████████▌ | 85460/99989 [00:31<00:06, 2389.78it/s]\u001b[A\n",
            " 86%|████████▌ | 85703/99989 [00:31<00:06, 2308.05it/s]\u001b[A\n",
            " 86%|████████▌ | 85937/99989 [00:31<00:06, 2230.46it/s]\u001b[A\n",
            " 86%|████████▌ | 86195/99989 [00:31<00:05, 2324.13it/s]\u001b[A\n",
            " 86%|████████▋ | 86456/99989 [00:31<00:05, 2400.06it/s]\u001b[A\n",
            " 87%|████████▋ | 86699/99989 [00:31<00:05, 2378.42it/s]\u001b[A\n",
            " 87%|████████▋ | 86939/99989 [00:32<00:05, 2251.57it/s]\u001b[A\n",
            " 87%|████████▋ | 87167/99989 [00:32<00:05, 2214.51it/s]\u001b[A\n",
            " 87%|████████▋ | 87391/99989 [00:32<00:05, 2212.92it/s]\u001b[A\n",
            " 88%|████████▊ | 87614/99989 [00:32<00:05, 2199.99it/s]\u001b[A\n",
            " 88%|████████▊ | 87882/99989 [00:32<00:05, 2323.08it/s]\u001b[A\n",
            " 88%|████████▊ | 88146/99989 [00:32<00:04, 2409.82it/s]\u001b[A\n",
            " 88%|████████▊ | 88429/99989 [00:32<00:04, 2521.95it/s]\u001b[A\n",
            " 89%|████████▊ | 88685/99989 [00:32<00:04, 2483.33it/s]\u001b[A\n",
            " 89%|████████▉ | 88947/99989 [00:32<00:04, 2521.78it/s]\u001b[A\n",
            " 89%|████████▉ | 89222/99989 [00:32<00:04, 2584.76it/s]\u001b[A\n",
            " 89%|████████▉ | 89483/99989 [00:33<00:04, 2577.41it/s]\u001b[A\n",
            " 90%|████████▉ | 89753/99989 [00:33<00:03, 2610.27it/s]\u001b[A\n",
            " 90%|█████████ | 90067/99989 [00:33<00:03, 2749.07it/s]\u001b[A\n",
            " 90%|█████████ | 90367/99989 [00:33<00:03, 2819.77it/s]\u001b[A\n",
            " 91%|█████████ | 90652/99989 [00:33<00:03, 2817.92it/s]\u001b[A\n",
            " 91%|█████████ | 90936/99989 [00:33<00:03, 2687.26it/s]\u001b[A\n",
            " 91%|█████████ | 91208/99989 [00:33<00:03, 2540.28it/s]\u001b[A\n",
            " 91%|█████████▏| 91470/99989 [00:33<00:03, 2563.46it/s]\u001b[A\n",
            " 92%|█████████▏| 91750/99989 [00:33<00:03, 2624.42it/s]\u001b[A\n",
            " 92%|█████████▏| 92031/99989 [00:33<00:02, 2677.46it/s]\u001b[A\n",
            " 92%|█████████▏| 92301/99989 [00:34<00:02, 2634.47it/s]\u001b[A\n",
            " 93%|█████████▎| 92566/99989 [00:34<00:02, 2566.41it/s]\u001b[A\n",
            " 93%|█████████▎| 92866/99989 [00:34<00:02, 2680.93it/s]\u001b[A\n",
            " 93%|█████████▎| 93139/99989 [00:34<00:02, 2693.24it/s]\u001b[A\n",
            " 93%|█████████▎| 93410/99989 [00:34<00:02, 2607.98it/s]\u001b[A\n",
            " 94%|█████████▎| 93721/99989 [00:34<00:02, 2739.34it/s]\u001b[A\n",
            " 94%|█████████▍| 93998/99989 [00:34<00:02, 2627.32it/s]\u001b[A\n",
            " 94%|█████████▍| 94274/99989 [00:34<00:02, 2664.54it/s]\u001b[A\n",
            " 95%|█████████▍| 94554/99989 [00:34<00:02, 2701.18it/s]\u001b[A\n",
            " 95%|█████████▍| 94865/99989 [00:35<00:01, 2811.44it/s]\u001b[A\n",
            " 95%|█████████▌| 95149/99989 [00:35<00:01, 2601.42it/s]\u001b[A\n",
            " 95%|█████████▌| 95414/99989 [00:35<00:01, 2503.75it/s]\u001b[A\n",
            " 96%|█████████▌| 95669/99989 [00:35<00:01, 2513.57it/s]\u001b[A\n",
            " 96%|█████████▌| 95977/99989 [00:35<00:01, 2660.21it/s]\u001b[A\n",
            " 96%|█████████▋| 96248/99989 [00:35<00:01, 2664.33it/s]\u001b[A\n",
            " 97%|█████████▋| 96518/99989 [00:35<00:01, 2458.50it/s]\u001b[A\n",
            " 97%|█████████▋| 96770/99989 [00:35<00:01, 2197.78it/s]\u001b[A\n",
            " 97%|█████████▋| 97013/99989 [00:35<00:01, 2262.52it/s]\u001b[A\n",
            " 97%|█████████▋| 97344/99989 [00:36<00:01, 2498.69it/s]\u001b[A\n",
            " 98%|█████████▊| 97639/99989 [00:36<00:00, 2618.36it/s]\u001b[A\n",
            " 98%|█████████▊| 97911/99989 [00:36<00:00, 2600.86it/s]\u001b[A\n",
            " 98%|█████████▊| 98179/99989 [00:36<00:00, 2584.80it/s]\u001b[A\n",
            " 98%|█████████▊| 98460/99989 [00:36<00:00, 2647.84it/s]\u001b[A\n",
            " 99%|█████████▉| 98746/99989 [00:36<00:00, 2706.84it/s]\u001b[A\n",
            " 99%|█████████▉| 99027/99989 [00:36<00:00, 2736.70it/s]\u001b[A\n",
            " 99%|█████████▉| 99303/99989 [00:36<00:00, 2702.56it/s]\u001b[A\n",
            "100%|█████████▉| 99575/99989 [00:36<00:00, 2685.85it/s]\u001b[A\n",
            "100%|█████████▉| 99845/99989 [00:36<00:00, 2574.48it/s]\u001b[A\n",
            "100%|██████████| 99989/99989 [00:37<00:00, 2698.13it/s]\u001b[A\n",
            "  0%|          | 0/99989 [00:00<?, ?it/s]\u001b[A\n",
            "  6%|▌         | 5721/99989 [00:00<00:01, 57205.28it/s]\u001b[A\n",
            " 12%|█▏        | 11612/99989 [00:00<00:01, 57704.77it/s]\u001b[A\n",
            " 17%|█▋        | 17400/99989 [00:00<00:01, 57755.80it/s]\u001b[A\n",
            " 23%|██▎       | 23294/99989 [00:00<00:01, 58105.35it/s]\u001b[A\n",
            " 29%|██▉       | 29400/99989 [00:00<00:01, 58960.44it/s]\u001b[A\n",
            " 35%|███▌      | 35176/99989 [00:00<00:01, 58592.70it/s]\u001b[A\n",
            " 41%|████      | 41208/99989 [00:00<00:00, 59099.43it/s]\u001b[A\n",
            " 47%|████▋     | 47149/99989 [00:00<00:00, 59190.76it/s]\u001b[A\n",
            " 53%|█████▎    | 53149/99989 [00:00<00:00, 59431.08it/s]\u001b[A\n",
            " 59%|█████▉    | 59192/99989 [00:01<00:00, 59726.10it/s]\u001b[A\n",
            " 65%|██████▌   | 65334/99989 [00:01<00:00, 60223.47it/s]\u001b[A\n",
            " 71%|███████▏  | 71438/99989 [00:01<00:00, 60464.77it/s]\u001b[A\n",
            " 77%|███████▋  | 77408/99989 [00:01<00:00, 59439.80it/s]\u001b[A\n",
            " 84%|████████▎ | 83522/99989 [00:01<00:00, 59939.74it/s]\u001b[A\n",
            " 90%|████████▉ | 89534/99989 [00:01<00:00, 59993.64it/s]\u001b[A\n",
            " 96%|█████████▌| 95873/99989 [00:01<00:00, 60973.18it/s]\u001b[A\n",
            "100%|██████████| 99989/99989 [00:01<00:00, 59769.94it/s]\u001b[A"
          ],
          "name": "stderr"
        }
      ]
    },
    {
      "cell_type": "code",
      "metadata": {
        "id": "3qD9_jyOR_xy",
        "colab_type": "code",
        "colab": {}
      },
      "source": [
        ""
      ],
      "execution_count": 0,
      "outputs": []
    },
    {
      "cell_type": "markdown",
      "metadata": {
        "id": "t2744n7vR_x7",
        "colab_type": "text"
      },
      "source": [
        "Segregating the input and output data from the dataset.\n",
        "\n",
        "We will be using the Cleaned Text i.e preprocessed data from the dataset and score for that text"
      ]
    },
    {
      "cell_type": "code",
      "metadata": {
        "id": "rTD1f2amR_x8",
        "colab_type": "code",
        "colab": {}
      },
      "source": [
        "X = final['CleanedText']\n",
        "y = final['Score']"
      ],
      "execution_count": 0,
      "outputs": []
    },
    {
      "cell_type": "code",
      "metadata": {
        "id": "mawHu51QR_yD",
        "colab_type": "code",
        "colab": {}
      },
      "source": [
        "del final\n",
        "del preprocessed_reviews\n",
        "del preprocessed_summary\n",
        "del sorted_data\n",
        "del filtered_data"
      ],
      "execution_count": 0,
      "outputs": []
    },
    {
      "cell_type": "markdown",
      "metadata": {
        "id": "t-9tAFgvR_yI",
        "colab_type": "text"
      },
      "source": [
        "### Splitting the data"
      ]
    },
    {
      "cell_type": "code",
      "metadata": {
        "id": "OhsRof6GR_yL",
        "colab_type": "code",
        "colab": {
          "base_uri": "https://localhost:8080/",
          "height": 119
        },
        "outputId": "37b9b1a2-d219-4f71-990e-ffe416898dfb"
      },
      "source": [
        "X_t, X_test, y_t, y_test = train_test_split(X, y, test_size=0.20, stratify=y, shuffle=True)\n",
        "X_train, X_cv, y_train, y_cv = train_test_split(X_t, y_t, test_size=0.20, stratify=y_t, shuffle=True)\n",
        "print(\"Shape of Input  - Train:\", X_train.shape)\n",
        "print(\"Shape of Output - Train:\", y_train.shape)\n",
        "print(\"Shape of Input  - CV   :\", X_cv.shape)\n",
        "print(\"Shape of Output - CV   :\", y_cv.shape)\n",
        "print(\"Shape of Input  - Test :\", X_test.shape)\n",
        "print(\"Shape of Output - Test :\", y_test.shape)"
      ],
      "execution_count": 17,
      "outputs": [
        {
          "output_type": "stream",
          "text": [
            "Shape of Input  - Train: (63992,)\n",
            "Shape of Output - Train: (63992,)\n",
            "Shape of Input  - CV   : (15999,)\n",
            "Shape of Output - CV   : (15999,)\n",
            "Shape of Input  - Test : (19998,)\n",
            "Shape of Output - Test : (19998,)\n"
          ],
          "name": "stdout"
        }
      ]
    },
    {
      "cell_type": "markdown",
      "metadata": {
        "id": "i_UfqjYMR_yP",
        "colab_type": "text"
      },
      "source": [
        "### Tokenizing the dataset"
      ]
    },
    {
      "cell_type": "code",
      "metadata": {
        "id": "uUpwl0q4R_yQ",
        "colab_type": "code",
        "colab": {
          "base_uri": "https://localhost:8080/",
          "height": 71
        },
        "outputId": "4aa5e288-e0a1-4068-8255-82d47eb7403f"
      },
      "source": [
        "tokenize = Tokenizer(num_words=5000)\n",
        "tokenize.fit_on_texts(X_train)\n",
        "\n",
        "X_train_new = tokenize.texts_to_sequences(X_train)\n",
        "X_cv_new = tokenize.texts_to_sequences(X_cv)\n",
        "X_test_new = tokenize.texts_to_sequences(X_test)\n",
        "\n",
        "print(X_train_new[1])\n",
        "print(len(X_train_new))"
      ],
      "execution_count": 18,
      "outputs": [
        {
          "output_type": "stream",
          "text": [
            "[2, 16, 116, 3726, 739, 46, 1090, 44, 1001, 3, 337, 5, 5, 6, 84, 58, 3601, 6, 2600, 514, 3, 70, 424, 320, 8, 210, 525, 409, 122, 357, 1627, 27, 2600, 514, 3, 311, 122, 1595, 60, 2, 118, 1, 85, 119, 7, 95, 30, 6, 7, 87, 178, 8, 1, 140, 2, 87, 71, 7, 8, 1, 2380, 310, 8, 525, 212, 12, 115, 8, 3726, 739, 3, 195, 71, 7, 261, 8, 174, 3, 336, 2273, 40, 445, 71, 388, 38, 25, 2, 365, 5, 159, 20, 1740, 1433, 6, 358, 3466, 409, 3, 780, 2, 128, 65, 6, 4, 177, 8, 106, 3, 268, 266, 152, 5, 6, 4, 177, 173, 58, 525, 409, 3, 741, 60, 59, 3726, 739]\n",
            "63992\n"
          ],
          "name": "stdout"
        }
      ]
    },
    {
      "cell_type": "markdown",
      "metadata": {
        "id": "pKDPD8vrR_yV",
        "colab_type": "text"
      },
      "source": [
        "### Padding the dataset"
      ]
    },
    {
      "cell_type": "markdown",
      "metadata": {
        "id": "K_e4H3aNR_yX",
        "colab_type": "text"
      },
      "source": [
        "This is just to give batch input to the RNN"
      ]
    },
    {
      "cell_type": "code",
      "metadata": {
        "id": "n5ZH7NYiR_yY",
        "colab_type": "code",
        "colab": {
          "base_uri": "https://localhost:8080/",
          "height": 1000
        },
        "outputId": "f03080c3-2564-4d13-fdd0-b4f03a847f06"
      },
      "source": [
        "# truncate and/or pad input sequences\n",
        "max_review_length = 1000\n",
        "X_train_new = sequence.pad_sequences(X_train_new, maxlen=max_review_length)\n",
        "X_cv_new = sequence.pad_sequences(X_cv_new, maxlen=max_review_length)\n",
        "X_test_new = sequence.pad_sequences(X_test_new, maxlen=max_review_length)\n",
        "\n",
        "print(X_train_new.shape)\n",
        "print(X_train_new[1])"
      ],
      "execution_count": 19,
      "outputs": [
        {
          "output_type": "stream",
          "text": [
            "(63992, 1000)\n",
            "[   0    0    0    0    0    0    0    0    0    0    0    0    0    0\n",
            "    0    0    0    0    0    0    0    0    0    0    0    0    0    0\n",
            "    0    0    0    0    0    0    0    0    0    0    0    0    0    0\n",
            "    0    0    0    0    0    0    0    0    0    0    0    0    0    0\n",
            "    0    0    0    0    0    0    0    0    0    0    0    0    0    0\n",
            "    0    0    0    0    0    0    0    0    0    0    0    0    0    0\n",
            "    0    0    0    0    0    0    0    0    0    0    0    0    0    0\n",
            "    0    0    0    0    0    0    0    0    0    0    0    0    0    0\n",
            "    0    0    0    0    0    0    0    0    0    0    0    0    0    0\n",
            "    0    0    0    0    0    0    0    0    0    0    0    0    0    0\n",
            "    0    0    0    0    0    0    0    0    0    0    0    0    0    0\n",
            "    0    0    0    0    0    0    0    0    0    0    0    0    0    0\n",
            "    0    0    0    0    0    0    0    0    0    0    0    0    0    0\n",
            "    0    0    0    0    0    0    0    0    0    0    0    0    0    0\n",
            "    0    0    0    0    0    0    0    0    0    0    0    0    0    0\n",
            "    0    0    0    0    0    0    0    0    0    0    0    0    0    0\n",
            "    0    0    0    0    0    0    0    0    0    0    0    0    0    0\n",
            "    0    0    0    0    0    0    0    0    0    0    0    0    0    0\n",
            "    0    0    0    0    0    0    0    0    0    0    0    0    0    0\n",
            "    0    0    0    0    0    0    0    0    0    0    0    0    0    0\n",
            "    0    0    0    0    0    0    0    0    0    0    0    0    0    0\n",
            "    0    0    0    0    0    0    0    0    0    0    0    0    0    0\n",
            "    0    0    0    0    0    0    0    0    0    0    0    0    0    0\n",
            "    0    0    0    0    0    0    0    0    0    0    0    0    0    0\n",
            "    0    0    0    0    0    0    0    0    0    0    0    0    0    0\n",
            "    0    0    0    0    0    0    0    0    0    0    0    0    0    0\n",
            "    0    0    0    0    0    0    0    0    0    0    0    0    0    0\n",
            "    0    0    0    0    0    0    0    0    0    0    0    0    0    0\n",
            "    0    0    0    0    0    0    0    0    0    0    0    0    0    0\n",
            "    0    0    0    0    0    0    0    0    0    0    0    0    0    0\n",
            "    0    0    0    0    0    0    0    0    0    0    0    0    0    0\n",
            "    0    0    0    0    0    0    0    0    0    0    0    0    0    0\n",
            "    0    0    0    0    0    0    0    0    0    0    0    0    0    0\n",
            "    0    0    0    0    0    0    0    0    0    0    0    0    0    0\n",
            "    0    0    0    0    0    0    0    0    0    0    0    0    0    0\n",
            "    0    0    0    0    0    0    0    0    0    0    0    0    0    0\n",
            "    0    0    0    0    0    0    0    0    0    0    0    0    0    0\n",
            "    0    0    0    0    0    0    0    0    0    0    0    0    0    0\n",
            "    0    0    0    0    0    0    0    0    0    0    0    0    0    0\n",
            "    0    0    0    0    0    0    0    0    0    0    0    0    0    0\n",
            "    0    0    0    0    0    0    0    0    0    0    0    0    0    0\n",
            "    0    0    0    0    0    0    0    0    0    0    0    0    0    0\n",
            "    0    0    0    0    0    0    0    0    0    0    0    0    0    0\n",
            "    0    0    0    0    0    0    0    0    0    0    0    0    0    0\n",
            "    0    0    0    0    0    0    0    0    0    0    0    0    0    0\n",
            "    0    0    0    0    0    0    0    0    0    0    0    0    0    0\n",
            "    0    0    0    0    0    0    0    0    0    0    0    0    0    0\n",
            "    0    0    0    0    0    0    0    0    0    0    0    0    0    0\n",
            "    0    0    0    0    0    0    0    0    0    0    0    0    0    0\n",
            "    0    0    0    0    0    0    0    0    0    0    0    0    0    0\n",
            "    0    0    0    0    0    0    0    0    0    0    0    0    0    0\n",
            "    0    0    0    0    0    0    0    0    0    0    0    0    0    0\n",
            "    0    0    0    0    0    0    0    0    0    0    0    0    0    0\n",
            "    0    0    0    0    0    0    0    0    0    0    0    0    0    0\n",
            "    0    0    0    0    0    0    0    0    0    0    0    0    0    0\n",
            "    0    0    0    0    0    0    0    0    0    0    0    0    0    0\n",
            "    0    0    0    0    0    0    0    0    0    0    0    0    0    0\n",
            "    0    0    0    0    0    0    0    0    0    0    0    0    0    0\n",
            "    0    0    0    0    0    0    0    0    0    0    0    0    0    0\n",
            "    0    0    0    0    0    0    0    0    0    0    0    0    0    0\n",
            "    0    0    0    0    0    0    0    0    0    0    0    0    0    0\n",
            "    0    0    0    0    0    0    0    0    0    0    0    0    0    0\n",
            "    0    0    0    0    0    0    0    2   16  116 3726  739   46 1090\n",
            "   44 1001    3  337    5    5    6   84   58 3601    6 2600  514    3\n",
            "   70  424  320    8  210  525  409  122  357 1627   27 2600  514    3\n",
            "  311  122 1595   60    2  118    1   85  119    7   95   30    6    7\n",
            "   87  178    8    1  140    2   87   71    7    8    1 2380  310    8\n",
            "  525  212   12  115    8 3726  739    3  195   71    7  261    8  174\n",
            "    3  336 2273   40  445   71  388   38   25    2  365    5  159   20\n",
            " 1740 1433    6  358 3466  409    3  780    2  128   65    6    4  177\n",
            "    8  106    3  268  266  152    5    6    4  177  173   58  525  409\n",
            "    3  741   60   59 3726  739]\n"
          ],
          "name": "stdout"
        }
      ]
    },
    {
      "cell_type": "code",
      "metadata": {
        "id": "63KQ-9h7R_ye",
        "colab_type": "code",
        "colab": {}
      },
      "source": [
        "# https://gist.github.com/greydanus/f6eee59eaf1d90fcb3b534a25362cea4\n",
        "# https://stackoverflow.com/a/14434334\n",
        "# this function is used to update the plots for each epoch and error\n",
        "def plt_dynamic(x, vy, ty, ax, colors=['b']):\n",
        "    ax.plot(x, vy, 'b', label=\"Validation Loss\")\n",
        "    ax.plot(x, ty, 'r', label=\"Train Loss\")\n",
        "    plt.legend()\n",
        "    plt.grid()\n",
        "    fig.canvas.draw()\n",
        "    \n",
        "n_epochs = 5\n",
        "batchsize = 512\n",
        "\n",
        "final_output = pd.DataFrame(columns=[\"Model\", \"Architecture\",\n",
        "                                     \"TRAIN_LOSS\", \"TEST_LOSS\", \"TRAIN_ACC\", \"TEST_ACC\"]);"
      ],
      "execution_count": 0,
      "outputs": []
    },
    {
      "cell_type": "markdown",
      "metadata": {
        "id": "ERogUcKfR_yj",
        "colab_type": "text"
      },
      "source": [
        "### Model M1 ( Embedding -> LSTM -> Output(Sigmoid) ) "
      ]
    },
    {
      "cell_type": "code",
      "metadata": {
        "id": "KII_eSHoR_yo",
        "colab_type": "code",
        "colab": {
          "base_uri": "https://localhost:8080/",
          "height": 323
        },
        "outputId": "0de5a3fd-9f47-4f6c-be06-6268b4f7d308"
      },
      "source": [
        "# create the model\n",
        "embed_vector_length = 32\n",
        "model = Sequential()\n",
        "model.add(Embedding(5000, embed_vector_length, input_length=max_review_length))\n",
        "model.add(LSTM(100))\n",
        "model.add(Dense(1, activation='sigmoid'))\n",
        "model.compile(loss='binary_crossentropy', optimizer='adam', metrics=['accuracy'])\n",
        "print(\"***********************************************\")\n",
        "print(\"Printing the Model Summary\")\n",
        "print(model.summary())\n",
        "print(\"***********************************************\")"
      ],
      "execution_count": 28,
      "outputs": [
        {
          "output_type": "stream",
          "text": [
            "***********************************************\n",
            "Printing the Model Summary\n",
            "Model: \"sequential_4\"\n",
            "_________________________________________________________________\n",
            "Layer (type)                 Output Shape              Param #   \n",
            "=================================================================\n",
            "embedding_4 (Embedding)      (None, 1000, 32)          160000    \n",
            "_________________________________________________________________\n",
            "lstm_2 (LSTM)                (None, 100)               53200     \n",
            "_________________________________________________________________\n",
            "dense_6 (Dense)              (None, 1)                 101       \n",
            "=================================================================\n",
            "Total params: 213,301\n",
            "Trainable params: 213,301\n",
            "Non-trainable params: 0\n",
            "_________________________________________________________________\n",
            "None\n",
            "***********************************************\n"
          ],
          "name": "stdout"
        }
      ]
    },
    {
      "cell_type": "code",
      "metadata": {
        "id": "03c15QY3R_yt",
        "colab_type": "code",
        "colab": {
          "base_uri": "https://localhost:8080/",
          "height": 809
        },
        "outputId": "90bfee80-e3a2-43f5-a87c-d3ea20c79a8e"
      },
      "source": [
        "m_hist = model.fit(X_train_new, y_train, epochs=n_epochs, \n",
        "                   batch_size=batchsize, verbose=1, validation_data=(X_cv_new, y_cv))\n",
        "\n",
        "score = model.evaluate(X_test_new, y_test, batch_size=batchsize)\n",
        "print('Test score:', score[0]) \n",
        "print('Test accuracy:', score[1])\n",
        "\n",
        "final_output = final_output.append({\"Model\": 1,\n",
        "                                    \"Architecture\": 'Embedding-LSTM-Sigmoid', \n",
        "                                    \"TRAIN_LOSS\": '{:.5f}'.format(m_hist.history[\"loss\"][n_epochs-1]),\n",
        "                                    \"TEST_LOSS\": '{:.5f}'.format(score[0]),\n",
        "                                    \"TRAIN_ACC\": '{:.5f}'.format(m_hist.history[\"acc\"][n_epochs-1]),\n",
        "                                    \"TEST_ACC\": '{:.5f}'.format(score[1])}, ignore_index=True)\n",
        "\n",
        "fig,ax = plt.subplots(1,1)\n",
        "ax.set_xlabel('epoch')\n",
        "ax.set_ylabel('Categorical Crossentropy Loss')\n",
        "\n",
        "# list of epoch numbers\n",
        "x = list(range(1,n_epochs+1))\n",
        "\n",
        "vy = m_hist.history['val_loss']\n",
        "ty = m_hist.history['loss']\n",
        "plt_dynamic(x, vy, ty, ax)"
      ],
      "execution_count": 23,
      "outputs": [
        {
          "output_type": "stream",
          "text": [
            "WARNING:tensorflow:From /usr/local/lib/python3.6/dist-packages/keras/backend/tensorflow_backend.py:1033: The name tf.assign_add is deprecated. Please use tf.compat.v1.assign_add instead.\n",
            "\n",
            "WARNING:tensorflow:From /usr/local/lib/python3.6/dist-packages/keras/backend/tensorflow_backend.py:1020: The name tf.assign is deprecated. Please use tf.compat.v1.assign instead.\n",
            "\n",
            "WARNING:tensorflow:From /usr/local/lib/python3.6/dist-packages/keras/backend/tensorflow_backend.py:3005: The name tf.Session is deprecated. Please use tf.compat.v1.Session instead.\n",
            "\n",
            "Train on 63992 samples, validate on 15999 samples\n",
            "Epoch 1/5\n",
            "WARNING:tensorflow:From /usr/local/lib/python3.6/dist-packages/keras/backend/tensorflow_backend.py:190: The name tf.get_default_session is deprecated. Please use tf.compat.v1.get_default_session instead.\n",
            "\n",
            "WARNING:tensorflow:From /usr/local/lib/python3.6/dist-packages/keras/backend/tensorflow_backend.py:197: The name tf.ConfigProto is deprecated. Please use tf.compat.v1.ConfigProto instead.\n",
            "\n",
            "WARNING:tensorflow:From /usr/local/lib/python3.6/dist-packages/keras/backend/tensorflow_backend.py:207: The name tf.global_variables is deprecated. Please use tf.compat.v1.global_variables instead.\n",
            "\n",
            "WARNING:tensorflow:From /usr/local/lib/python3.6/dist-packages/keras/backend/tensorflow_backend.py:216: The name tf.is_variable_initialized is deprecated. Please use tf.compat.v1.is_variable_initialized instead.\n",
            "\n",
            "WARNING:tensorflow:From /usr/local/lib/python3.6/dist-packages/keras/backend/tensorflow_backend.py:223: The name tf.variables_initializer is deprecated. Please use tf.compat.v1.variables_initializer instead.\n",
            "\n",
            "63992/63992 [==============================] - 1070s 17ms/step - loss: 0.4449 - acc: 0.7874 - val_loss: 0.2986 - val_acc: 0.8775\n",
            "Epoch 2/5\n",
            "63992/63992 [==============================] - 1062s 17ms/step - loss: 0.2675 - acc: 0.8920 - val_loss: 0.2760 - val_acc: 0.8893\n",
            "Epoch 3/5\n",
            "63992/63992 [==============================] - 1058s 17ms/step - loss: 0.2410 - acc: 0.9046 - val_loss: 0.2679 - val_acc: 0.8907\n",
            "Epoch 4/5\n",
            "63992/63992 [==============================] - 1064s 17ms/step - loss: 0.2241 - acc: 0.9128 - val_loss: 0.2690 - val_acc: 0.8903\n",
            "Epoch 5/5\n",
            "63992/63992 [==============================] - 1057s 17ms/step - loss: 0.2137 - acc: 0.9168 - val_loss: 0.2709 - val_acc: 0.8906\n",
            "19998/19998 [==============================] - 94s 5ms/step\n",
            "Test score: 0.2655218025781784\n",
            "Test accuracy: 0.8950395039563561\n"
          ],
          "name": "stdout"
        },
        {
          "output_type": "display_data",
          "data": {
            "image/png": "[encoded data removed]",
            "text/plain": [
              "<Figure size 432x288 with 1 Axes>"
            ]
          },
          "metadata": {
            "tags": []
          }
        }
      ]
    },
    {
      "cell_type": "markdown",
      "metadata": {
        "id": "I1beKre5TeL1",
        "colab_type": "text"
      },
      "source": [
        "### Model M2 ( Embedding -> LSTM -> Dropout -> Output(Sigmoid) ) "
      ]
    },
    {
      "cell_type": "code",
      "metadata": {
        "id": "D4e7p3LbTdV1",
        "colab_type": "code",
        "colab": {
          "base_uri": "https://localhost:8080/",
          "height": 965
        },
        "outputId": "4bcf2d8a-c53a-4dfc-9bf5-33bcf7c91aa5"
      },
      "source": [
        "# create the model\n",
        "embed_vector_length = 32\n",
        "model = Sequential()\n",
        "model.add(Embedding(5000, embed_vector_length, input_length=max_review_length))\n",
        "model.add(LSTM(100))\n",
        "model.add(Dropout(rate=0.5))\n",
        "model.add(Dense(1, activation='sigmoid'))\n",
        "model.compile(loss='binary_crossentropy', optimizer='adam', metrics=['accuracy'])\n",
        "print(\"***********************************************\")\n",
        "print(\"Printing the Model Summary\")\n",
        "print(model.summary())\n",
        "print(\"***********************************************\")\n",
        "\n",
        "# fit\n",
        "m_hist = model.fit(X_train_new, y_train, epochs=n_epochs, \n",
        "                   batch_size=batchsize, verbose=1, validation_data=(X_cv_new, y_cv))\n",
        "\n",
        "score = model.evaluate(X_test_new, y_test, batch_size=batchsize)\n",
        "print('Test score:', score[0]) \n",
        "print('Test accuracy:', score[1])\n",
        "\n",
        "final_output = final_output.append({\"Model\": 3,\n",
        "                                    \"Architecture\": 'Embedding-LSTM-Dropout-Sigmoid', \n",
        "                                    \"TRAIN_LOSS\": '{:.5f}'.format(m_hist.history[\"loss\"][n_epochs-1]),\n",
        "                                    \"TEST_LOSS\": '{:.5f}'.format(score[0]),\n",
        "                                    \"TRAIN_ACC\": '{:.5f}'.format(m_hist.history[\"acc\"][n_epochs-1]),\n",
        "                                    \"TEST_ACC\": '{:.5f}'.format(score[1])}, ignore_index=True)\n",
        "\n",
        "fig,ax = plt.subplots(1,1)\n",
        "ax.set_xlabel('epoch')\n",
        "ax.set_ylabel('Categorical Crossentropy Loss')\n",
        "\n",
        "# list of epoch numbers\n",
        "x = list(range(1,n_epochs+1))\n",
        "\n",
        "vy = m_hist.history['val_loss']\n",
        "ty = m_hist.history['loss']\n",
        "plt_dynamic(x, vy, ty, ax)"
      ],
      "execution_count": 29,
      "outputs": [
        {
          "output_type": "stream",
          "text": [
            "WARNING:tensorflow:From /usr/local/lib/python3.6/dist-packages/keras/backend/tensorflow_backend.py:148: The name tf.placeholder_with_default is deprecated. Please use tf.compat.v1.placeholder_with_default instead.\n",
            "\n",
            "WARNING:tensorflow:From /usr/local/lib/python3.6/dist-packages/keras/backend/tensorflow_backend.py:3733: calling dropout (from tensorflow.python.ops.nn_ops) with keep_prob is deprecated and will be removed in a future version.\n",
            "Instructions for updating:\n",
            "Please use `rate` instead of `keep_prob`. Rate should be set to `rate = 1 - keep_prob`.\n",
            "***********************************************\n",
            "Printing the Model Summary\n",
            "Model: \"sequential_5\"\n",
            "_________________________________________________________________\n",
            "Layer (type)                 Output Shape              Param #   \n",
            "=================================================================\n",
            "embedding_5 (Embedding)      (None, 1000, 32)          160000    \n",
            "_________________________________________________________________\n",
            "lstm_3 (LSTM)                (None, 100)               53200     \n",
            "_________________________________________________________________\n",
            "dropout_1 (Dropout)          (None, 100)               0         \n",
            "_________________________________________________________________\n",
            "dense_7 (Dense)              (None, 1)                 101       \n",
            "=================================================================\n",
            "Total params: 213,301\n",
            "Trainable params: 213,301\n",
            "Non-trainable params: 0\n",
            "_________________________________________________________________\n",
            "None\n",
            "***********************************************\n",
            "Train on 63992 samples, validate on 15999 samples\n",
            "Epoch 1/5\n",
            "63992/63992 [==============================] - 1060s 17ms/step - loss: 0.4888 - acc: 0.7675 - val_loss: 0.3138 - val_acc: 0.8687\n",
            "Epoch 2/5\n",
            "63992/63992 [==============================] - 1058s 17ms/step - loss: 0.2746 - acc: 0.8905 - val_loss: 0.2745 - val_acc: 0.8885\n",
            "Epoch 3/5\n",
            "63992/63992 [==============================] - 1060s 17ms/step - loss: 0.2463 - acc: 0.9041 - val_loss: 0.2728 - val_acc: 0.8903\n",
            "Epoch 4/5\n",
            "63992/63992 [==============================] - 1049s 16ms/step - loss: 0.2346 - acc: 0.9100 - val_loss: 0.2774 - val_acc: 0.8874\n",
            "Epoch 5/5\n",
            "63992/63992 [==============================] - 1050s 16ms/step - loss: 0.2255 - acc: 0.9126 - val_loss: 0.2724 - val_acc: 0.8912\n",
            "19998/19998 [==============================] - 92s 5ms/step\n",
            "Test score: 0.26896560018492266\n",
            "Test accuracy: 0.8925392538896262\n"
          ],
          "name": "stdout"
        },
        {
          "output_type": "display_data",
          "data": {
            "image/png": "[encoded data removed]",
            "text/plain": [
              "<Figure size 432x288 with 1 Axes>"
            ]
          },
          "metadata": {
            "tags": []
          }
        }
      ]
    },
    {
      "cell_type": "markdown",
      "metadata": {
        "id": "TBQAlmCNR_yw",
        "colab_type": "text"
      },
      "source": [
        "### Model M3 ( Embedding -> LSTM -> Dropout -> Dense(128-Relu) -> Dropout -> Dense (64-Relu) -> Dropout -> Output(Sigmoid) ) "
      ]
    },
    {
      "cell_type": "code",
      "metadata": {
        "id": "RZfTZr-uR_y1",
        "colab_type": "code",
        "colab": {},
        "outputId": "841d9683-1627-43c8-f828-0a9d14a596eb"
      },
      "source": [
        "# create the model\n",
        "embed_vector_length = 32\n",
        "model = Sequential()\n",
        "model.add(Embedding(5000, embed_vector_length, input_length=max_review_length))\n",
        "model.add(LSTM(100))\n",
        "model.add(Dropout(rate=0.5))\n",
        "model.add(Dense(128, activation='relu', kernel_initializer='he_normal'))\n",
        "model.add(Dropout(rate=0.5))\n",
        "model.add(Dense(64, activation='relu', kernel_initializer='he_normal'))\n",
        "model.add(Dropout(rate=0.5))\n",
        "model.add(Dense(1, activation='sigmoid'))\n",
        "model.compile(loss='binary_crossentropy', optimizer='adam', metrics=['accuracy'])\n",
        "print(\"***********************************************\")\n",
        "print(\"Printing the Model Summary\")\n",
        "print(model.summary())\n",
        "print(\"***********************************************\")"
      ],
      "execution_count": 0,
      "outputs": [
        {
          "output_type": "stream",
          "text": [
            "WARNING:tensorflow:From /opt/conda/lib/python3.6/site-packages/keras/backend/tensorflow_backend.py:3445: calling dropout (from tensorflow.python.ops.nn_ops) with keep_prob is deprecated and will be removed in a future version.\n",
            "Instructions for updating:\n",
            "Please use `rate` instead of `keep_prob`. Rate should be set to `rate = 1 - keep_prob`.\n",
            "***********************************************\n",
            "Printing the Model Summary\n",
            "_________________________________________________________________\n",
            "Layer (type)                 Output Shape              Param #   \n",
            "=================================================================\n",
            "embedding_2 (Embedding)      (None, 1000, 32)          160000    \n",
            "_________________________________________________________________\n",
            "lstm_2 (LSTM)                (None, 100)               53200     \n",
            "_________________________________________________________________\n",
            "dropout_1 (Dropout)          (None, 100)               0         \n",
            "_________________________________________________________________\n",
            "dense_2 (Dense)              (None, 128)               12928     \n",
            "_________________________________________________________________\n",
            "dropout_2 (Dropout)          (None, 128)               0         \n",
            "_________________________________________________________________\n",
            "dense_3 (Dense)              (None, 64)                8256      \n",
            "_________________________________________________________________\n",
            "dropout_3 (Dropout)          (None, 64)                0         \n",
            "_________________________________________________________________\n",
            "dense_4 (Dense)              (None, 1)                 65        \n",
            "=================================================================\n",
            "Total params: 234,449\n",
            "Trainable params: 234,449\n",
            "Non-trainable params: 0\n",
            "_________________________________________________________________\n",
            "None\n",
            "***********************************************\n"
          ],
          "name": "stdout"
        }
      ]
    },
    {
      "cell_type": "code",
      "metadata": {
        "id": "7ceDwtAbR_y8",
        "colab_type": "code",
        "colab": {},
        "outputId": "aa152bcc-97c8-48f7-fc09-a07af3fa10d1"
      },
      "source": [
        "m_hist = model.fit(X_train_new, y_train, epochs=n_epochs, \n",
        "                   batch_size=batchsize, verbose=1, validation_data=(X_cv_new, y_cv))\n",
        "\n",
        "score = model.evaluate(X_test_new, y_test, batch_size=batchsize)\n",
        "print('Test score:', score[0]) \n",
        "print('Test accuracy:', score[1])\n",
        "\n",
        "final_output = final_output.append({\"Model\": 3,\n",
        "                                    \"Architecture\": 'Embedding-LSTM-Dropout-Dense(128-Relu)-Dropout-Dense(64-Relu)-Dropout-Sigmoid', \n",
        "                                    \"TRAIN_LOSS\": '{:.5f}'.format(m_hist.history[\"loss\"][n_epochs-1]),\n",
        "                                    \"TEST_LOSS\": '{:.5f}'.format(score[0]),\n",
        "                                    \"TRAIN_ACC\": '{:.5f}'.format(m_hist.history[\"acc\"][n_epochs-1]),\n",
        "                                    \"TEST_ACC\": '{:.5f}'.format(score[1])}, ignore_index=True)\n",
        "\n",
        "fig,ax = plt.subplots(1,1)\n",
        "ax.set_xlabel('epoch')\n",
        "ax.set_ylabel('Categorical Crossentropy Loss')\n",
        "\n",
        "# list of epoch numbers\n",
        "x = list(range(1,n_epochs+1))\n",
        "\n",
        "vy = m_hist.history['val_loss']\n",
        "ty = m_hist.history['loss']\n",
        "plt_dynamic(x, vy, ty, ax)"
      ],
      "execution_count": 0,
      "outputs": [
        {
          "output_type": "stream",
          "text": [
            "Train on 56614 samples, validate on 14154 samples\n",
            "Epoch 1/5\n",
            "56614/56614 [==============================] - 152s 3ms/step - loss: 0.3504 - acc: 0.8643 - val_loss: 0.2107 - val_acc: 0.9106\n",
            "Epoch 2/5\n",
            "56614/56614 [==============================] - 150s 3ms/step - loss: 0.1875 - acc: 0.9237 - val_loss: 0.1980 - val_acc: 0.9187\n",
            "Epoch 3/5\n",
            "56614/56614 [==============================] - 150s 3ms/step - loss: 0.1651 - acc: 0.9333 - val_loss: 0.2015 - val_acc: 0.9159\n",
            "Epoch 4/5\n",
            "56614/56614 [==============================] - 150s 3ms/step - loss: 0.1525 - acc: 0.9382 - val_loss: 0.2152 - val_acc: 0.9205\n",
            "Epoch 5/5\n",
            "56614/56614 [==============================] - 152s 3ms/step - loss: 0.1423 - acc: 0.9434 - val_loss: 0.2201 - val_acc: 0.9203\n",
            "17693/17693 [==============================] - 15s 855us/step\n",
            "Test score: 0.21484055181059122\n",
            "Test accuracy: 0.9195161930265444\n"
          ],
          "name": "stdout"
        },
        {
          "output_type": "display_data",
          "data": {
            "image/png": "[encoded data removed]",
            "text/plain": [
              "<Figure size 432x288 with 1 Axes>"
            ]
          },
          "metadata": {
            "tags": []
          }
        }
      ]
    },
    {
      "cell_type": "markdown",
      "metadata": {
        "id": "3HlIBTM7R_zB",
        "colab_type": "text"
      },
      "source": [
        "### Model M4 ( Embedding -> LSTM -> LSTM -> Output(Sigmoid) ) "
      ]
    },
    {
      "cell_type": "code",
      "metadata": {
        "id": "RtYVC66bR_zD",
        "colab_type": "code",
        "colab": {},
        "outputId": "28b03545-9eeb-4fe7-c256-9b8504153867"
      },
      "source": [
        "# create the model\n",
        "embed_vector_length = 32\n",
        "model = Sequential()\n",
        "model.add(Embedding(5000, embed_vector_length, input_length=max_review_length))\n",
        "model.add(LSTM(100, return_sequences=True))\n",
        "model.add(LSTM(100))\n",
        "model.add(Dense(1, activation='sigmoid'))\n",
        "model.compile(loss='binary_crossentropy', optimizer='adam', metrics=['accuracy'])\n",
        "print(\"***********************************************\")\n",
        "print(\"Printing the Model Summary\")\n",
        "print(model.summary())\n",
        "print(\"***********************************************\")"
      ],
      "execution_count": 0,
      "outputs": [
        {
          "output_type": "stream",
          "text": [
            "***********************************************\n",
            "Printing the Model Summary\n",
            "_________________________________________________________________\n",
            "Layer (type)                 Output Shape              Param #   \n",
            "=================================================================\n",
            "embedding_3 (Embedding)      (None, 1000, 32)          160000    \n",
            "_________________________________________________________________\n",
            "lstm_3 (LSTM)                (None, 1000, 100)         53200     \n",
            "_________________________________________________________________\n",
            "lstm_4 (LSTM)                (None, 100)               80400     \n",
            "_________________________________________________________________\n",
            "dense_5 (Dense)              (None, 1)                 101       \n",
            "=================================================================\n",
            "Total params: 293,701\n",
            "Trainable params: 293,701\n",
            "Non-trainable params: 0\n",
            "_________________________________________________________________\n",
            "None\n",
            "***********************************************\n"
          ],
          "name": "stdout"
        }
      ]
    },
    {
      "cell_type": "code",
      "metadata": {
        "id": "01Jun-eiR_zG",
        "colab_type": "code",
        "colab": {},
        "outputId": "e19ae2ed-a637-4dc7-e1cb-a87289da15a4"
      },
      "source": [
        "m_hist = model.fit(X_train_new, y_train, epochs=n_epochs, \n",
        "                   batch_size=batchsize, verbose=1, validation_data=(X_cv_new, y_cv))\n",
        "\n",
        "score = model.evaluate(X_test_new, y_test, batch_size=batchsize)\n",
        "print('Test score:', score[0]) \n",
        "print('Test accuracy:', score[1])\n",
        "\n",
        "final_output = final_output.append({\"Model\": 4,\n",
        "                                    \"Architecture\": 'Embedding-LSTM-LSTM-Sigmoid', \n",
        "                                    \"TRAIN_LOSS\": '{:.5f}'.format(m_hist.history[\"loss\"][n_epochs-1]),\n",
        "                                    \"TEST_LOSS\": '{:.5f}'.format(score[0]),\n",
        "                                    \"TRAIN_ACC\": '{:.5f}'.format(m_hist.history[\"acc\"][n_epochs-1]),\n",
        "                                    \"TEST_ACC\": '{:.5f}'.format(score[1])}, ignore_index=True)\n",
        "\n",
        "fig,ax = plt.subplots(1,1)\n",
        "ax.set_xlabel('epoch')\n",
        "ax.set_ylabel('Categorical Crossentropy Loss')\n",
        "\n",
        "# list of epoch numbers\n",
        "x = list(range(1,n_epochs+1))\n",
        "\n",
        "vy = m_hist.history['val_loss']\n",
        "ty = m_hist.history['loss']\n",
        "plt_dynamic(x, vy, ty, ax)"
      ],
      "execution_count": 0,
      "outputs": [
        {
          "output_type": "stream",
          "text": [
            "Train on 56614 samples, validate on 14154 samples\n",
            "Epoch 1/5\n",
            "56614/56614 [==============================] - 302s 5ms/step - loss: 0.3526 - acc: 0.8652 - val_loss: 0.2374 - val_acc: 0.9016\n",
            "Epoch 2/5\n",
            "56614/56614 [==============================] - 307s 5ms/step - loss: 0.1953 - acc: 0.9186 - val_loss: 0.1999 - val_acc: 0.9166\n",
            "Epoch 3/5\n",
            "56614/56614 [==============================] - 306s 5ms/step - loss: 0.1707 - acc: 0.9301 - val_loss: 0.2002 - val_acc: 0.9209\n",
            "Epoch 4/5\n",
            "56614/56614 [==============================] - 305s 5ms/step - loss: 0.1533 - acc: 0.9376 - val_loss: 0.1985 - val_acc: 0.9164\n",
            "Epoch 5/5\n",
            "56614/56614 [==============================] - 303s 5ms/step - loss: 0.1424 - acc: 0.9420 - val_loss: 0.2008 - val_acc: 0.9168\n",
            "17693/17693 [==============================] - 30s 2ms/step\n",
            "Test score: 0.1957926377801462\n",
            "Test accuracy: 0.9175380090116707\n"
          ],
          "name": "stdout"
        },
        {
          "output_type": "display_data",
          "data": {
            "image/png": "[encoded data removed]",
            "text/plain": [
              "<Figure size 432x288 with 1 Axes>"
            ]
          },
          "metadata": {
            "tags": []
          }
        }
      ]
    },
    {
      "cell_type": "markdown",
      "metadata": {
        "id": "C1l_tlNCR_zM",
        "colab_type": "text"
      },
      "source": [
        "# Conclusion"
      ]
    },
    {
      "cell_type": "code",
      "metadata": {
        "id": "N1Deybk7R_zN",
        "colab_type": "code",
        "colab": {}
      },
      "source": [
        "#final_output"
      ],
      "execution_count": 0,
      "outputs": []
    },
    {
      "cell_type": "markdown",
      "metadata": {
        "id": "eBRzjDAyR_zQ",
        "colab_type": "text"
      },
      "source": [
        "\n",
        "\n",
        "The dataset which we used is Amazon fine food reviews dataset.\n",
        "There are a couple different models that we tried -\n",
        "\n",
        "Conclusion that can be drawn from the above models is that\n",
        "all the models are performing great in terms of execution. "
      ]
    }
  ]
}