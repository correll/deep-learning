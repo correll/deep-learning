{
 "cells": [
  {
   "cell_type": "code",
   "execution_count": 0,
   "metadata": {
    "colab": {},
    "colab_type": "code",
    "id": "1kyURve4KBbf"
   },
   "outputs": [],
   "source": []
  },
  {
   "cell_type": "code",
   "execution_count": null,
   "metadata": {
    "colab": {
     "base_uri": "https://localhost:8080/",
     "height": 362
    },
    "colab_type": "code",
    "id": "6xwc56xrKOSx",
    "outputId": "d3020f10-c483-46e0-9d58-e821a0e6903a"
   },
   "outputs": [],
   "source": []
  },
  {
   "cell_type": "markdown",
   "metadata": {
    "colab_type": "text",
    "id": "iX18SMl_jo_2"
   },
   "source": [
    "# CSCI700: hmwk2\n",
    "--- \n",
    "Tetsumichi(Telly) Umada \n",
    "\n",
    "Data set: weather data, San Diego, downloaded from https://www.ncdc.noaa.gov/cdo-web/\n",
    "\n",
    "Date: 1939-07-01 - 2020-03-04"
   ]
  },
  {
   "cell_type": "code",
   "execution_count": 0,
   "metadata": {
    "colab": {},
    "colab_type": "code",
    "id": "sT_cagzmKOUx"
   },
   "outputs": [],
   "source": [
    "import pandas as pd \n",
    "import numpy as np\n",
    "from matplotlib import pyplot as plt\n",
    "%matplotlib inline"
   ]
  },
  {
   "cell_type": "code",
   "execution_count": 0,
   "metadata": {
    "colab": {},
    "colab_type": "code",
    "id": "cYpGV5ZPKOW7"
   },
   "outputs": [],
   "source": []
  },
  {
   "cell_type": "markdown",
   "metadata": {
    "colab_type": "text",
    "id": "8WmnOXLpj5Vn"
   },
   "source": [
    "### Load data"
   ]
  },
  {
   "cell_type": "code",
   "execution_count": 3,
   "metadata": {
    "colab": {
     "base_uri": "https://localhost:8080/",
     "height": 191
    },
    "colab_type": "code",
    "id": "km13bgNdKOZM",
    "outputId": "cd9f237f-f704-4f74-82fb-7b8fb343fa49"
   },
   "outputs": [
    {
     "data": {
      "text/html": [
       "<div>\n",
       "<style scoped>\n",
       "    .dataframe tbody tr th:only-of-type {\n",
       "        vertical-align: middle;\n",
       "    }\n",
       "\n",
       "    .dataframe tbody tr th {\n",
       "        vertical-align: top;\n",
       "    }\n",
       "\n",
       "    .dataframe thead th {\n",
       "        text-align: right;\n",
       "    }\n",
       "</style>\n",
       "<table border=\"1\" class=\"dataframe\">\n",
       "  <thead>\n",
       "    <tr style=\"text-align: right;\">\n",
       "      <th></th>\n",
       "      <th>STATION</th>\n",
       "      <th>NAME</th>\n",
       "      <th>DATE</th>\n",
       "      <th>TMAX</th>\n",
       "      <th>TMIN</th>\n",
       "    </tr>\n",
       "  </thead>\n",
       "  <tbody>\n",
       "    <tr>\n",
       "      <th>0</th>\n",
       "      <td>USW00023188</td>\n",
       "      <td>SAN DIEGO INTERNATIONAL AIRPORT, CA US</td>\n",
       "      <td>1939-07-01</td>\n",
       "      <td>76.0</td>\n",
       "      <td>63.0</td>\n",
       "    </tr>\n",
       "    <tr>\n",
       "      <th>1</th>\n",
       "      <td>USW00023188</td>\n",
       "      <td>SAN DIEGO INTERNATIONAL AIRPORT, CA US</td>\n",
       "      <td>1939-07-02</td>\n",
       "      <td>74.0</td>\n",
       "      <td>65.0</td>\n",
       "    </tr>\n",
       "    <tr>\n",
       "      <th>2</th>\n",
       "      <td>USW00023188</td>\n",
       "      <td>SAN DIEGO INTERNATIONAL AIRPORT, CA US</td>\n",
       "      <td>1939-07-03</td>\n",
       "      <td>71.0</td>\n",
       "      <td>62.0</td>\n",
       "    </tr>\n",
       "    <tr>\n",
       "      <th>3</th>\n",
       "      <td>USW00023188</td>\n",
       "      <td>SAN DIEGO INTERNATIONAL AIRPORT, CA US</td>\n",
       "      <td>1939-07-04</td>\n",
       "      <td>71.0</td>\n",
       "      <td>63.0</td>\n",
       "    </tr>\n",
       "    <tr>\n",
       "      <th>4</th>\n",
       "      <td>USW00023188</td>\n",
       "      <td>SAN DIEGO INTERNATIONAL AIRPORT, CA US</td>\n",
       "      <td>1939-07-05</td>\n",
       "      <td>72.0</td>\n",
       "      <td>64.0</td>\n",
       "    </tr>\n",
       "  </tbody>\n",
       "</table>\n",
       "</div>"
      ],
      "text/plain": [
       "       STATION                                    NAME        DATE  TMAX  TMIN\n",
       "0  USW00023188  SAN DIEGO INTERNATIONAL AIRPORT, CA US  1939-07-01  76.0  63.0\n",
       "1  USW00023188  SAN DIEGO INTERNATIONAL AIRPORT, CA US  1939-07-02  74.0  65.0\n",
       "2  USW00023188  SAN DIEGO INTERNATIONAL AIRPORT, CA US  1939-07-03  71.0  62.0\n",
       "3  USW00023188  SAN DIEGO INTERNATIONAL AIRPORT, CA US  1939-07-04  71.0  63.0\n",
       "4  USW00023188  SAN DIEGO INTERNATIONAL AIRPORT, CA US  1939-07-05  72.0  64.0"
      ]
     },
     "execution_count": 3,
     "metadata": {
      "tags": []
     },
     "output_type": "execute_result"
    }
   ],
   "source": [
    "df = pd.read_csv(\"noaa_san_diego.csv\")\n",
    "\n",
    "df.head()"
   ]
  },
  {
   "cell_type": "code",
   "execution_count": 4,
   "metadata": {
    "colab": {
     "base_uri": "https://localhost:8080/",
     "height": 298
    },
    "colab_type": "code",
    "id": "FJdLnljwKObe",
    "outputId": "7caccbce-d42f-4df8-c177-120d406e0776"
   },
   "outputs": [
    {
     "data": {
      "text/plain": [
       "<matplotlib.axes._subplots.AxesSubplot at 0x7f12083e14e0>"
      ]
     },
     "execution_count": 4,
     "metadata": {
      "tags": []
     },
     "output_type": "execute_result"
    },
    {
     "data": {
      "image/png": "[encoded data removed]",
      "text/plain": [
       "<Figure size 432x288 with 1 Axes>"
      ]
     },
     "metadata": {
      "tags": []
     },
     "output_type": "display_data"
    }
   ],
   "source": [
    "df.plot(\"DATE\", \"TMIN\")"
   ]
  },
  {
   "cell_type": "code",
   "execution_count": 5,
   "metadata": {
    "colab": {
     "base_uri": "https://localhost:8080/",
     "height": 295
    },
    "colab_type": "code",
    "id": "-ALjZv1JKOeD",
    "outputId": "4a7d6797-0391-4378-89e3-ad0a858a91b6"
   },
   "outputs": [
    {
     "data": {
      "text/plain": [
       "<matplotlib.axes._subplots.AxesSubplot at 0x7f12083716a0>"
      ]
     },
     "execution_count": 5,
     "metadata": {
      "tags": []
     },
     "output_type": "execute_result"
    },
    {
     "data": {
      "image/png": "[encoded data removed]",
      "text/plain": [
       "<Figure size 432x288 with 1 Axes>"
      ]
     },
     "metadata": {
      "tags": []
     },
     "output_type": "display_data"
    }
   ],
   "source": [
    "df.plot(\"DATE\", \"TMAX\")"
   ]
  },
  {
   "cell_type": "code",
   "execution_count": 6,
   "metadata": {
    "colab": {
     "base_uri": "https://localhost:8080/",
     "height": 295
    },
    "colab_type": "code",
    "id": "bWn4cXhYKOgZ",
    "outputId": "e6364ef9-4a1d-41a5-ad5c-433ecf724f6d"
   },
   "outputs": [
    {
     "data": {
      "text/plain": [
       "<matplotlib.axes._subplots.AxesSubplot at 0x7f1207d9f5c0>"
      ]
     },
     "execution_count": 6,
     "metadata": {
      "tags": []
     },
     "output_type": "execute_result"
    },
    {
     "data": {
      "image/png": "[encoded data removed]",
      "text/plain": [
       "<Figure size 432x288 with 1 Axes>"
      ]
     },
     "metadata": {
      "tags": []
     },
     "output_type": "display_data"
    }
   ],
   "source": [
    "df[df[\"DATE\"].str.contains(\"2010\")].plot(\"DATE\", \"TMIN\")"
   ]
  },
  {
   "cell_type": "code",
   "execution_count": 0,
   "metadata": {
    "colab": {},
    "colab_type": "code",
    "id": "ySwTDE_MKOlA"
   },
   "outputs": [],
   "source": []
  },
  {
   "cell_type": "code",
   "execution_count": 0,
   "metadata": {
    "colab": {},
    "colab_type": "code",
    "id": "V5zw2mU5KOno"
   },
   "outputs": [],
   "source": []
  },
  {
   "cell_type": "markdown",
   "metadata": {
    "colab_type": "text",
    "id": "3d7hYbHQj8h7"
   },
   "source": [
    "## Data pre-process \n",
    "\n"
   ]
  },
  {
   "cell_type": "code",
   "execution_count": 0,
   "metadata": {
    "colab": {},
    "colab_type": "code",
    "id": "aHkC_GoDKtNf"
   },
   "outputs": [],
   "source": [
    "df_selected = df[['DATE', 'TMIN']]\n",
    "df_selected = df_selected.dropna()\n",
    "\n",
    "df['DATE'] = pd.to_datetime(df['DATE'])"
   ]
  },
  {
   "cell_type": "code",
   "execution_count": 0,
   "metadata": {
    "colab": {},
    "colab_type": "code",
    "id": "b5iLG_g7KtP4"
   },
   "outputs": [],
   "source": [
    "df_selected = df_selected.sort_values(by='DATE')\n",
    "df_selected['seq_id'] = np.arange(len(df_selected))"
   ]
  },
  {
   "cell_type": "code",
   "execution_count": 9,
   "metadata": {
    "colab": {
     "base_uri": "https://localhost:8080/",
     "height": 191
    },
    "colab_type": "code",
    "id": "4l1bR1p3KtSa",
    "outputId": "cf0e3209-c174-40ec-aaeb-8bb6dc714ff9"
   },
   "outputs": [
    {
     "data": {
      "text/html": [
       "<div>\n",
       "<style scoped>\n",
       "    .dataframe tbody tr th:only-of-type {\n",
       "        vertical-align: middle;\n",
       "    }\n",
       "\n",
       "    .dataframe tbody tr th {\n",
       "        vertical-align: top;\n",
       "    }\n",
       "\n",
       "    .dataframe thead th {\n",
       "        text-align: right;\n",
       "    }\n",
       "</style>\n",
       "<table border=\"1\" class=\"dataframe\">\n",
       "  <thead>\n",
       "    <tr style=\"text-align: right;\">\n",
       "      <th></th>\n",
       "      <th>DATE</th>\n",
       "      <th>TMIN</th>\n",
       "      <th>seq_id</th>\n",
       "    </tr>\n",
       "  </thead>\n",
       "  <tbody>\n",
       "    <tr>\n",
       "      <th>0</th>\n",
       "      <td>1939-07-01</td>\n",
       "      <td>63.0</td>\n",
       "      <td>0</td>\n",
       "    </tr>\n",
       "    <tr>\n",
       "      <th>1</th>\n",
       "      <td>1939-07-02</td>\n",
       "      <td>65.0</td>\n",
       "      <td>1</td>\n",
       "    </tr>\n",
       "    <tr>\n",
       "      <th>2</th>\n",
       "      <td>1939-07-03</td>\n",
       "      <td>62.0</td>\n",
       "      <td>2</td>\n",
       "    </tr>\n",
       "    <tr>\n",
       "      <th>3</th>\n",
       "      <td>1939-07-04</td>\n",
       "      <td>63.0</td>\n",
       "      <td>3</td>\n",
       "    </tr>\n",
       "    <tr>\n",
       "      <th>4</th>\n",
       "      <td>1939-07-05</td>\n",
       "      <td>64.0</td>\n",
       "      <td>4</td>\n",
       "    </tr>\n",
       "  </tbody>\n",
       "</table>\n",
       "</div>"
      ],
      "text/plain": [
       "         DATE  TMIN  seq_id\n",
       "0  1939-07-01  63.0       0\n",
       "1  1939-07-02  65.0       1\n",
       "2  1939-07-03  62.0       2\n",
       "3  1939-07-04  63.0       3\n",
       "4  1939-07-05  64.0       4"
      ]
     },
     "execution_count": 9,
     "metadata": {
      "tags": []
     },
     "output_type": "execute_result"
    }
   ],
   "source": [
    "df_selected.head()"
   ]
  },
  {
   "cell_type": "markdown",
   "metadata": {
    "colab_type": "text",
    "id": "wbS1u8X4kNzI"
   },
   "source": [
    "#### Train and Test split "
   ]
  },
  {
   "cell_type": "code",
   "execution_count": 0,
   "metadata": {
    "colab": {},
    "colab_type": "code",
    "id": "xURPSuurKtU0"
   },
   "outputs": [],
   "source": [
    "split_size = len(df_selected) // 4 "
   ]
  },
  {
   "cell_type": "code",
   "execution_count": 0,
   "metadata": {
    "colab": {},
    "colab_type": "code",
    "id": "emVHPuFUKtXV"
   },
   "outputs": [],
   "source": [
    "df_train = df_selected[:(3*split_size)]\n",
    "df_test = df_selected[(3*split_size):]"
   ]
  },
  {
   "cell_type": "code",
   "execution_count": 12,
   "metadata": {
    "colab": {
     "base_uri": "https://localhost:8080/",
     "height": 50
    },
    "colab_type": "code",
    "id": "l81FMMRPKtZo",
    "outputId": "08df9521-7d5a-4639-d6b5-e022be590bb2"
   },
   "outputs": [
    {
     "name": "stdout",
     "output_type": "stream",
     "text": [
      "n train: 22098\n",
      "n test : 7366\n"
     ]
    }
   ],
   "source": [
    "print(\"n train:\", len(df_train))\n",
    "print(\"n test :\", len(df_test))"
   ]
  },
  {
   "cell_type": "markdown",
   "metadata": {
    "colab_type": "text",
    "id": "1IFkJDOHkQzJ"
   },
   "source": [
    "#### Shift the data for prediction "
   ]
  },
  {
   "cell_type": "code",
   "execution_count": 0,
   "metadata": {
    "colab": {},
    "colab_type": "code",
    "id": "mix091U2KtcQ"
   },
   "outputs": [],
   "source": [
    "n_step = 1 \n",
    "\n",
    "df_train_x = df_train[:(-1*n_step)]\n",
    "df_train_y = df_train[n_step:]\n",
    "\n",
    "df_test_x = df_test[:(-1*n_step)]\n",
    "df_test_y = df_test[n_step:]"
   ]
  },
  {
   "cell_type": "code",
   "execution_count": 0,
   "metadata": {
    "colab": {},
    "colab_type": "code",
    "id": "-2Srn4_tKOqK"
   },
   "outputs": [],
   "source": []
  },
  {
   "cell_type": "code",
   "execution_count": 0,
   "metadata": {
    "colab": {},
    "colab_type": "code",
    "id": "wPu3E52NKOsk"
   },
   "outputs": [],
   "source": []
  },
  {
   "cell_type": "code",
   "execution_count": 0,
   "metadata": {
    "colab": {},
    "colab_type": "code",
    "id": "_ytQnGBFKOut"
   },
   "outputs": [],
   "source": []
  },
  {
   "cell_type": "markdown",
   "metadata": {
    "colab_type": "text",
    "id": "9a8PCFqxkSa7"
   },
   "source": [
    "### LSTM experiment "
   ]
  },
  {
   "cell_type": "code",
   "execution_count": 14,
   "metadata": {
    "colab": {
     "base_uri": "https://localhost:8080/",
     "height": 77
    },
    "colab_type": "code",
    "id": "t0TEmi_oLAuD",
    "outputId": "b79c2983-d1d8-489e-f3e9-f2a15f3033f2"
   },
   "outputs": [
    {
     "name": "stderr",
     "output_type": "stream",
     "text": [
      "Using TensorFlow backend.\n"
     ]
    },
    {
     "data": {
      "text/html": [
       "<p style=\"color: red;\">\n",
       "The default version of TensorFlow in Colab will soon switch to TensorFlow 2.x.<br>\n",
       "We recommend you <a href=\"https://www.tensorflow.org/guide/migrate\" target=\"_blank\">upgrade</a> now \n",
       "or ensure your notebook will continue to use TensorFlow 1.x via the <code>%tensorflow_version 1.x</code> magic:\n",
       "<a href=\"https://colab.research.google.com/notebooks/tensorflow_version.ipynb\" target=\"_blank\">more info</a>.</p>\n"
      ],
      "text/plain": [
       "<IPython.core.display.HTML object>"
      ]
     },
     "metadata": {
      "tags": []
     },
     "output_type": "display_data"
    }
   ],
   "source": [
    "from keras.models import Sequential\n",
    "from keras.layers import LSTM\n",
    "from keras.layers import Dense"
   ]
  },
  {
   "cell_type": "markdown",
   "metadata": {
    "colab_type": "text",
    "id": "6V6NgQXRkf5i"
   },
   "source": [
    "### Bsse model (LSTM with 10 units; trained with 10 ephocs)"
   ]
  },
  {
   "cell_type": "code",
   "execution_count": 0,
   "metadata": {
    "colab": {},
    "colab_type": "code",
    "id": "maxzbfL_LAwb"
   },
   "outputs": [],
   "source": [
    "### re-shape for LSTM\n",
    "train_x = np.array(list(df_train_x['TMIN'])).reshape(len(df_train_x['TMIN']), 1, 1)\n",
    "train_y = np.array(list(df_train_y['TMIN']))\n",
    "\n",
    "test_x = np.array(list(df_test['TMIN'])).reshape(len(df_test['TMIN']), 1, 1)\n",
    "test_y = np.array(list(df_test_y['TMIN']))"
   ]
  },
  {
   "cell_type": "code",
   "execution_count": 16,
   "metadata": {
    "colab": {
     "base_uri": "https://localhost:8080/",
     "height": 833
    },
    "colab_type": "code",
    "id": "Ygd3Ux1xLAy0",
    "outputId": "31cc3ca6-608e-4946-a5ed-6e7a040672db"
   },
   "outputs": [
    {
     "name": "stdout",
     "output_type": "stream",
     "text": [
      "WARNING:tensorflow:From /usr/local/lib/python3.6/dist-packages/keras/backend/tensorflow_backend.py:66: The name tf.get_default_graph is deprecated. Please use tf.compat.v1.get_default_graph instead.\n",
      "\n",
      "WARNING:tensorflow:From /usr/local/lib/python3.6/dist-packages/keras/optimizers.py:793: The name tf.train.Optimizer is deprecated. Please use tf.compat.v1.train.Optimizer instead.\n",
      "\n",
      "WARNING:tensorflow:From /usr/local/lib/python3.6/dist-packages/keras/backend/tensorflow_backend.py:541: The name tf.placeholder is deprecated. Please use tf.compat.v1.placeholder instead.\n",
      "\n",
      "WARNING:tensorflow:From /usr/local/lib/python3.6/dist-packages/keras/backend/tensorflow_backend.py:4432: The name tf.random_uniform is deprecated. Please use tf.random.uniform instead.\n",
      "\n",
      "WARNING:tensorflow:From /usr/local/lib/python3.6/dist-packages/tensorflow_core/python/ops/math_grad.py:1424: where (from tensorflow.python.ops.array_ops) is deprecated and will be removed in a future version.\n",
      "Instructions for updating:\n",
      "Use tf.where in 2.0, which has the same broadcast rule as np.where\n",
      "WARNING:tensorflow:From /usr/local/lib/python3.6/dist-packages/keras/backend/tensorflow_backend.py:1033: The name tf.assign_add is deprecated. Please use tf.compat.v1.assign_add instead.\n",
      "\n",
      "WARNING:tensorflow:From /usr/local/lib/python3.6/dist-packages/keras/backend/tensorflow_backend.py:1020: The name tf.assign is deprecated. Please use tf.compat.v1.assign instead.\n",
      "\n",
      "WARNING:tensorflow:From /usr/local/lib/python3.6/dist-packages/keras/backend/tensorflow_backend.py:3005: The name tf.Session is deprecated. Please use tf.compat.v1.Session instead.\n",
      "\n",
      "Train on 17677 samples, validate on 4420 samples\n",
      "Epoch 1/10\n",
      "WARNING:tensorflow:From /usr/local/lib/python3.6/dist-packages/keras/backend/tensorflow_backend.py:190: The name tf.get_default_session is deprecated. Please use tf.compat.v1.get_default_session instead.\n",
      "\n",
      "WARNING:tensorflow:From /usr/local/lib/python3.6/dist-packages/keras/backend/tensorflow_backend.py:197: The name tf.ConfigProto is deprecated. Please use tf.compat.v1.ConfigProto instead.\n",
      "\n",
      "WARNING:tensorflow:From /usr/local/lib/python3.6/dist-packages/keras/backend/tensorflow_backend.py:207: The name tf.global_variables is deprecated. Please use tf.compat.v1.global_variables instead.\n",
      "\n",
      "WARNING:tensorflow:From /usr/local/lib/python3.6/dist-packages/keras/backend/tensorflow_backend.py:216: The name tf.is_variable_initialized is deprecated. Please use tf.compat.v1.is_variable_initialized instead.\n",
      "\n",
      "WARNING:tensorflow:From /usr/local/lib/python3.6/dist-packages/keras/backend/tensorflow_backend.py:223: The name tf.variables_initializer is deprecated. Please use tf.compat.v1.variables_initializer instead.\n",
      "\n",
      "17677/17677 [==============================] - 11s 646us/step - loss: 3075.8646 - mean_squared_error: 3075.8646 - val_loss: 2956.2445 - val_mean_squared_error: 2956.2445\n",
      "Epoch 2/10\n",
      "17677/17677 [==============================] - 11s 616us/step - loss: 2705.9912 - mean_squared_error: 2705.9912 - val_loss: 2594.7153 - val_mean_squared_error: 2594.7153\n",
      "Epoch 3/10\n",
      "17677/17677 [==============================] - 11s 621us/step - loss: 2361.6089 - mean_squared_error: 2361.6089 - val_loss: 2257.9524 - val_mean_squared_error: 2257.9524\n",
      "Epoch 4/10\n",
      "17677/17677 [==============================] - 11s 598us/step - loss: 2041.8444 - mean_squared_error: 2041.8444 - val_loss: 1945.8127 - val_mean_squared_error: 1945.8127\n",
      "Epoch 5/10\n",
      "17677/17677 [==============================] - 11s 614us/step - loss: 1746.6287 - mean_squared_error: 1746.6287 - val_loss: 1658.1702 - val_mean_squared_error: 1658.1702\n",
      "Epoch 6/10\n",
      "17677/17677 [==============================] - 11s 614us/step - loss: 1475.7011 - mean_squared_error: 1475.7011 - val_loss: 1394.7604 - val_mean_squared_error: 1394.7604\n",
      "Epoch 7/10\n",
      "17677/17677 [==============================] - 10s 588us/step - loss: 1229.1466 - mean_squared_error: 1229.1466 - val_loss: 1155.6559 - val_mean_squared_error: 1155.6559\n",
      "Epoch 8/10\n",
      "17677/17677 [==============================] - 11s 618us/step - loss: 1006.7530 - mean_squared_error: 1006.7530 - val_loss: 940.7535 - val_mean_squared_error: 940.7535\n",
      "Epoch 9/10\n",
      "17677/17677 [==============================] - 11s 629us/step - loss: 808.7629 - mean_squared_error: 808.7629 - val_loss: 750.3543 - val_mean_squared_error: 750.3543\n",
      "Epoch 10/10\n",
      "17677/17677 [==============================] - 11s 621us/step - loss: 634.8193 - mean_squared_error: 634.8193 - val_loss: 583.7643 - val_mean_squared_error: 583.7643\n"
     ]
    },
    {
     "data": {
      "text/plain": [
       "<keras.callbacks.History at 0x7f11cc6b5f60>"
      ]
     },
     "execution_count": 16,
     "metadata": {
      "tags": []
     },
     "output_type": "execute_result"
    }
   ],
   "source": [
    "model = Sequential()\n",
    "model.add(LSTM(10))\n",
    "model.add(Dense(1))\n",
    "\n",
    "model.compile(optimizer='adam', loss='mse', metrics=['mse'])\n",
    "model.fit(train_x, train_y, epochs=10, validation_split=0.2, batch_size=5)"
   ]
  },
  {
   "cell_type": "code",
   "execution_count": 17,
   "metadata": {
    "colab": {
     "base_uri": "https://localhost:8080/",
     "height": 50
    },
    "colab_type": "code",
    "id": "zLp3JOeXLA1M",
    "outputId": "1619ebcc-111a-48e6-8472-dc4b3ed35728"
   },
   "outputs": [
    {
     "name": "stdout",
     "output_type": "stream",
     "text": [
      "7365/7365 [==============================] - 0s 27us/step\n"
     ]
    },
    {
     "data": {
      "text/plain": [
       "[630.3474209766686, 630.3474209766686]"
      ]
     },
     "execution_count": 17,
     "metadata": {
      "tags": []
     },
     "output_type": "execute_result"
    }
   ],
   "source": [
    "model.evaluate(test_x[:-1], test_y[:])"
   ]
  },
  {
   "cell_type": "code",
   "execution_count": 0,
   "metadata": {
    "colab": {},
    "colab_type": "code",
    "id": "zs67hn0nLA3g"
   },
   "outputs": [],
   "source": []
  },
  {
   "cell_type": "code",
   "execution_count": 0,
   "metadata": {
    "colab": {},
    "colab_type": "code",
    "id": "4EteWHbaLA5u"
   },
   "outputs": [],
   "source": [
    "# !pip install -q keras-tuner\n",
    "\n",
    "# import kerastuner"
   ]
  },
  {
   "cell_type": "code",
   "execution_count": 0,
   "metadata": {
    "colab": {},
    "colab_type": "code",
    "id": "dhIkSZ7dLA8f"
   },
   "outputs": [],
   "source": []
  },
  {
   "cell_type": "code",
   "execution_count": 0,
   "metadata": {
    "colab": {},
    "colab_type": "code",
    "id": "CWjKJZcfMO-y"
   },
   "outputs": [],
   "source": []
  },
  {
   "cell_type": "markdown",
   "metadata": {
    "colab_type": "text",
    "id": "bWXtq3Erkrcf"
   },
   "source": [
    "### Experiments with different number of units"
   ]
  },
  {
   "cell_type": "code",
   "execution_count": 36,
   "metadata": {
    "colab": {
     "base_uri": "https://localhost:8080/",
     "height": 33
    },
    "colab_type": "code",
    "id": "-yJlzMCrMPEP",
    "outputId": "eb735da3-3336-4a80-a1d0-3c509a239370"
   },
   "outputs": [
    {
     "name": "stdout",
     "output_type": "stream",
     "text": [
      "[10, 20, 30, 40, 50, 60, 70, 80, 90, 100]\n"
     ]
    }
   ],
   "source": [
    "num_units = [i for i in range(10, 101, 10)]\n",
    "print(num_units)"
   ]
  },
  {
   "cell_type": "code",
   "execution_count": 0,
   "metadata": {
    "colab": {},
    "colab_type": "code",
    "id": "NOCjW0iVMPJM"
   },
   "outputs": [],
   "source": []
  },
  {
   "cell_type": "code",
   "execution_count": 0,
   "metadata": {
    "colab": {},
    "colab_type": "code",
    "id": "rrJC6MtxMPL9"
   },
   "outputs": [],
   "source": [
    "def build_model(unit):\n",
    "  model = Sequential()\n",
    "  model.add(LSTM(unit))\n",
    "  model.add(Dense(1))\n",
    "\n",
    "  model.compile(optimizer='adam', loss='mse', metrics=['mse'])\n",
    "\n",
    "  return model "
   ]
  },
  {
   "cell_type": "code",
   "execution_count": 38,
   "metadata": {
    "colab": {
     "base_uri": "https://localhost:8080/",
     "height": 1000
    },
    "colab_type": "code",
    "id": "O0YjezeFMPQ3",
    "outputId": "de4cecd5-d495-4411-ceec-c7a727498f43"
   },
   "outputs": [
    {
     "name": "stdout",
     "output_type": "stream",
     "text": [
      "Train on 17677 samples, validate on 4420 samples\n",
      "Epoch 1/10\n",
      "17677/17677 [==============================] - 16s 921us/step - loss: 2638.4610 - mean_squared_error: 2638.4610 - val_loss: 2154.8887 - val_mean_squared_error: 2154.8887\n",
      "Epoch 2/10\n",
      "17677/17677 [==============================] - 13s 712us/step - loss: 1646.9617 - mean_squared_error: 1646.9617 - val_loss: 1284.1475 - val_mean_squared_error: 1284.1475\n",
      "Epoch 3/10\n",
      "17677/17677 [==============================] - 13s 729us/step - loss: 915.1774 - mean_squared_error: 915.1774 - val_loss: 660.3196 - val_mean_squared_error: 660.3196\n",
      "Epoch 4/10\n",
      "17677/17677 [==============================] - 12s 699us/step - loss: 423.5009 - mean_squared_error: 423.5009 - val_loss: 271.1928 - val_mean_squared_error: 271.1928\n",
      "Epoch 5/10\n",
      "17677/17677 [==============================] - 13s 717us/step - loss: 154.8899 - mean_squared_error: 154.8899 - val_loss: 91.7929 - val_mean_squared_error: 91.7929\n",
      "Epoch 6/10\n",
      "17677/17677 [==============================] - 12s 690us/step - loss: 59.5262 - mean_squared_error: 59.5262 - val_loss: 40.0006 - val_mean_squared_error: 40.0006\n",
      "Epoch 7/10\n",
      "17677/17677 [==============================] - 12s 705us/step - loss: 26.0736 - mean_squared_error: 26.0736 - val_loss: 16.2097 - val_mean_squared_error: 16.2097\n",
      "Epoch 8/10\n",
      "17677/17677 [==============================] - 13s 732us/step - loss: 13.3920 - mean_squared_error: 13.3920 - val_loss: 9.6471 - val_mean_squared_error: 9.6471\n",
      "Epoch 9/10\n",
      "17677/17677 [==============================] - 13s 712us/step - loss: 10.1043 - mean_squared_error: 10.1043 - val_loss: 7.9766 - val_mean_squared_error: 7.9766\n",
      "Epoch 10/10\n",
      "17677/17677 [==============================] - 13s 722us/step - loss: 9.1026 - mean_squared_error: 9.1026 - val_loss: 12.2595 - val_mean_squared_error: 12.2595\n",
      "7365/7365 [==============================] - 0s 33us/step\n",
      "Train on 17677 samples, validate on 4420 samples\n",
      "Epoch 1/10\n",
      "17677/17677 [==============================] - 17s 974us/step - loss: 2065.6076 - mean_squared_error: 2065.6076 - val_loss: 1196.8162 - val_mean_squared_error: 1196.8162\n",
      "Epoch 2/10\n",
      "17677/17677 [==============================] - 13s 763us/step - loss: 619.1487 - mean_squared_error: 619.1487 - val_loss: 257.1992 - val_mean_squared_error: 257.1992\n",
      "Epoch 3/10\n",
      "17677/17677 [==============================] - 13s 727us/step - loss: 109.0733 - mean_squared_error: 109.0733 - val_loss: 47.6296 - val_mean_squared_error: 47.6296\n",
      "Epoch 4/10\n",
      "17677/17677 [==============================] - 13s 708us/step - loss: 26.1882 - mean_squared_error: 26.1882 - val_loss: 13.5614 - val_mean_squared_error: 13.5614\n",
      "Epoch 5/10\n",
      "17677/17677 [==============================] - 13s 748us/step - loss: 11.4111 - mean_squared_error: 11.4111 - val_loss: 8.1738 - val_mean_squared_error: 8.1738\n",
      "Epoch 6/10\n",
      "17677/17677 [==============================] - 13s 763us/step - loss: 9.1297 - mean_squared_error: 9.1297 - val_loss: 7.3108 - val_mean_squared_error: 7.3108\n",
      "Epoch 7/10\n",
      "17677/17677 [==============================] - 13s 751us/step - loss: 8.3691 - mean_squared_error: 8.3691 - val_loss: 10.1271 - val_mean_squared_error: 10.1271\n",
      "Epoch 8/10\n",
      "17677/17677 [==============================] - 13s 757us/step - loss: 8.1384 - mean_squared_error: 8.1384 - val_loss: 8.8160 - val_mean_squared_error: 8.8160\n",
      "Epoch 9/10\n",
      "17677/17677 [==============================] - 13s 732us/step - loss: 7.9176 - mean_squared_error: 7.9176 - val_loss: 6.5852 - val_mean_squared_error: 6.5852\n",
      "Epoch 10/10\n",
      "17677/17677 [==============================] - 13s 738us/step - loss: 7.9048 - mean_squared_error: 7.9048 - val_loss: 6.6984 - val_mean_squared_error: 6.6984\n",
      "7365/7365 [==============================] - 0s 33us/step\n",
      "Train on 17677 samples, validate on 4420 samples\n",
      "Epoch 1/10\n",
      "17677/17677 [==============================] - 17s 957us/step - loss: 1689.4605 - mean_squared_error: 1689.4605 - val_loss: 656.1451 - val_mean_squared_error: 656.1451\n",
      "Epoch 2/10\n",
      "17677/17677 [==============================] - 13s 730us/step - loss: 242.6962 - mean_squared_error: 242.6962 - val_loss: 62.8824 - val_mean_squared_error: 62.8824\n",
      "Epoch 3/10\n",
      "17677/17677 [==============================] - 13s 761us/step - loss: 29.7066 - mean_squared_error: 29.7066 - val_loss: 13.8584 - val_mean_squared_error: 13.8584\n",
      "Epoch 4/10\n",
      "17677/17677 [==============================] - 13s 749us/step - loss: 12.0311 - mean_squared_error: 12.0311 - val_loss: 9.3284 - val_mean_squared_error: 9.3284\n",
      "Epoch 5/10\n",
      "17677/17677 [==============================] - 13s 718us/step - loss: 9.3411 - mean_squared_error: 9.3411 - val_loss: 7.6463 - val_mean_squared_error: 7.6463\n",
      "Epoch 6/10\n",
      "17677/17677 [==============================] - 13s 728us/step - loss: 8.7265 - mean_squared_error: 8.7265 - val_loss: 6.9316 - val_mean_squared_error: 6.9316\n",
      "Epoch 7/10\n",
      "17677/17677 [==============================] - 13s 746us/step - loss: 8.3666 - mean_squared_error: 8.3666 - val_loss: 7.1361 - val_mean_squared_error: 7.1361\n",
      "Epoch 8/10\n",
      "17677/17677 [==============================] - 13s 738us/step - loss: 8.1663 - mean_squared_error: 8.1663 - val_loss: 7.5938 - val_mean_squared_error: 7.5938\n",
      "Epoch 9/10\n",
      "17677/17677 [==============================] - 13s 723us/step - loss: 8.0481 - mean_squared_error: 8.0481 - val_loss: 6.5937 - val_mean_squared_error: 6.5937\n",
      "Epoch 10/10\n",
      "17677/17677 [==============================] - 13s 717us/step - loss: 8.0151 - mean_squared_error: 8.0151 - val_loss: 7.8825 - val_mean_squared_error: 7.8825\n",
      "7365/7365 [==============================] - 0s 35us/step\n",
      "Train on 17677 samples, validate on 4420 samples\n",
      "Epoch 1/10\n",
      "17677/17677 [==============================] - 18s 1ms/step - loss: 1360.1817 - mean_squared_error: 1360.1817 - val_loss: 277.4011 - val_mean_squared_error: 277.4011\n",
      "Epoch 2/10\n",
      "17677/17677 [==============================] - 13s 754us/step - loss: 85.8295 - mean_squared_error: 85.8295 - val_loss: 24.9801 - val_mean_squared_error: 24.9801\n",
      "Epoch 3/10\n",
      "17677/17677 [==============================] - 13s 749us/step - loss: 14.6088 - mean_squared_error: 14.6088 - val_loss: 10.9287 - val_mean_squared_error: 10.9287\n",
      "Epoch 4/10\n",
      "17677/17677 [==============================] - 14s 787us/step - loss: 9.4970 - mean_squared_error: 9.4970 - val_loss: 7.2894 - val_mean_squared_error: 7.2894\n",
      "Epoch 5/10\n",
      "17677/17677 [==============================] - 13s 744us/step - loss: 8.5407 - mean_squared_error: 8.5407 - val_loss: 6.8733 - val_mean_squared_error: 6.8733\n",
      "Epoch 6/10\n",
      "17677/17677 [==============================] - 14s 765us/step - loss: 8.1642 - mean_squared_error: 8.1642 - val_loss: 7.2455 - val_mean_squared_error: 7.2455\n",
      "Epoch 7/10\n",
      "17677/17677 [==============================] - 13s 718us/step - loss: 8.1306 - mean_squared_error: 8.1306 - val_loss: 6.5762 - val_mean_squared_error: 6.5762\n",
      "Epoch 8/10\n",
      "17677/17677 [==============================] - 14s 773us/step - loss: 8.1104 - mean_squared_error: 8.1104 - val_loss: 6.5715 - val_mean_squared_error: 6.5715\n",
      "Epoch 9/10\n",
      "17677/17677 [==============================] - 14s 766us/step - loss: 7.9597 - mean_squared_error: 7.9597 - val_loss: 7.1843 - val_mean_squared_error: 7.1843\n",
      "Epoch 10/10\n",
      "17677/17677 [==============================] - 13s 747us/step - loss: 8.0509 - mean_squared_error: 8.0509 - val_loss: 10.6035 - val_mean_squared_error: 10.6035\n",
      "7365/7365 [==============================] - 0s 39us/step\n",
      "Train on 17677 samples, validate on 4420 samples\n",
      "Epoch 1/10\n",
      "17677/17677 [==============================] - 19s 1ms/step - loss: 1199.9956 - mean_squared_error: 1199.9956 - val_loss: 204.4969 - val_mean_squared_error: 204.4969\n",
      "Epoch 2/10\n",
      "17677/17677 [==============================] - 15s 854us/step - loss: 61.5957 - mean_squared_error: 61.5957 - val_loss: 15.8631 - val_mean_squared_error: 15.8631\n",
      "Epoch 3/10\n",
      "17677/17677 [==============================] - 15s 826us/step - loss: 11.8034 - mean_squared_error: 11.8034 - val_loss: 8.3844 - val_mean_squared_error: 8.3844\n",
      "Epoch 4/10\n",
      "17677/17677 [==============================] - 14s 800us/step - loss: 9.0956 - mean_squared_error: 9.0956 - val_loss: 7.6986 - val_mean_squared_error: 7.6986\n",
      "Epoch 5/10\n",
      "17677/17677 [==============================] - 14s 812us/step - loss: 8.6237 - mean_squared_error: 8.6237 - val_loss: 7.4854 - val_mean_squared_error: 7.4854\n",
      "Epoch 6/10\n",
      "17677/17677 [==============================] - 15s 827us/step - loss: 8.3224 - mean_squared_error: 8.3224 - val_loss: 6.7331 - val_mean_squared_error: 6.7331\n",
      "Epoch 7/10\n",
      "17677/17677 [==============================] - 14s 800us/step - loss: 8.2344 - mean_squared_error: 8.2344 - val_loss: 7.1087 - val_mean_squared_error: 7.1087\n",
      "Epoch 8/10\n",
      "17677/17677 [==============================] - 14s 812us/step - loss: 8.2069 - mean_squared_error: 8.2069 - val_loss: 8.3920 - val_mean_squared_error: 8.3920\n",
      "Epoch 9/10\n",
      "17677/17677 [==============================] - 14s 807us/step - loss: 8.1709 - mean_squared_error: 8.1709 - val_loss: 6.6445 - val_mean_squared_error: 6.6445\n",
      "Epoch 10/10\n",
      "17677/17677 [==============================] - 14s 801us/step - loss: 8.1235 - mean_squared_error: 8.1235 - val_loss: 6.6968 - val_mean_squared_error: 6.6968\n",
      "7365/7365 [==============================] - 0s 38us/step\n",
      "Train on 17677 samples, validate on 4420 samples\n",
      "Epoch 1/10\n",
      "17677/17677 [==============================] - 19s 1ms/step - loss: 654.8814 - mean_squared_error: 654.8814 - val_loss: 28.5411 - val_mean_squared_error: 28.5411\n",
      "Epoch 2/10\n",
      "17677/17677 [==============================] - 15s 832us/step - loss: 13.7799 - mean_squared_error: 13.7799 - val_loss: 8.4957 - val_mean_squared_error: 8.4957\n",
      "Epoch 3/10\n",
      "17677/17677 [==============================] - 15s 847us/step - loss: 8.7390 - mean_squared_error: 8.7390 - val_loss: 7.1242 - val_mean_squared_error: 7.1242\n",
      "Epoch 4/10\n",
      "17677/17677 [==============================] - 15s 824us/step - loss: 8.3378 - mean_squared_error: 8.3378 - val_loss: 6.6788 - val_mean_squared_error: 6.6788\n",
      "Epoch 5/10\n",
      "17677/17677 [==============================] - 15s 841us/step - loss: 8.1348 - mean_squared_error: 8.1348 - val_loss: 8.7670 - val_mean_squared_error: 8.7670\n",
      "Epoch 6/10\n",
      "17677/17677 [==============================] - 15s 825us/step - loss: 8.0904 - mean_squared_error: 8.0904 - val_loss: 6.8666 - val_mean_squared_error: 6.8666\n",
      "Epoch 7/10\n",
      "17677/17677 [==============================] - 14s 817us/step - loss: 8.0536 - mean_squared_error: 8.0536 - val_loss: 7.1673 - val_mean_squared_error: 7.1673\n",
      "Epoch 8/10\n",
      "17677/17677 [==============================] - 14s 810us/step - loss: 7.9893 - mean_squared_error: 7.9893 - val_loss: 9.3492 - val_mean_squared_error: 9.3492\n",
      "Epoch 9/10\n",
      "17677/17677 [==============================] - 13s 742us/step - loss: 8.1294 - mean_squared_error: 8.1294 - val_loss: 7.4639 - val_mean_squared_error: 7.4639\n",
      "Epoch 10/10\n",
      "17677/17677 [==============================] - 13s 755us/step - loss: 7.8911 - mean_squared_error: 7.8911 - val_loss: 6.5790 - val_mean_squared_error: 6.5790\n",
      "7365/7365 [==============================] - 0s 39us/step\n",
      "Train on 17677 samples, validate on 4420 samples\n",
      "Epoch 1/10\n",
      "17677/17677 [==============================] - 20s 1ms/step - loss: 639.0430 - mean_squared_error: 639.0430 - val_loss: 32.3454 - val_mean_squared_error: 32.3454\n",
      "Epoch 2/10\n",
      "17677/17677 [==============================] - 15s 821us/step - loss: 15.1644 - mean_squared_error: 15.1644 - val_loss: 8.3878 - val_mean_squared_error: 8.3878\n",
      "Epoch 3/10\n",
      "17677/17677 [==============================] - 15s 841us/step - loss: 9.5016 - mean_squared_error: 9.5016 - val_loss: 7.2166 - val_mean_squared_error: 7.2166\n",
      "Epoch 4/10\n",
      "17677/17677 [==============================] - 14s 818us/step - loss: 8.6354 - mean_squared_error: 8.6354 - val_loss: 7.2893 - val_mean_squared_error: 7.2893\n",
      "Epoch 5/10\n",
      "17677/17677 [==============================] - 14s 802us/step - loss: 8.3392 - mean_squared_error: 8.3392 - val_loss: 6.7904 - val_mean_squared_error: 6.7904\n",
      "Epoch 6/10\n",
      "17677/17677 [==============================] - 14s 817us/step - loss: 8.2844 - mean_squared_error: 8.2844 - val_loss: 10.1146 - val_mean_squared_error: 10.1146\n",
      "Epoch 7/10\n",
      "17677/17677 [==============================] - 14s 814us/step - loss: 8.3256 - mean_squared_error: 8.3256 - val_loss: 6.9103 - val_mean_squared_error: 6.9103\n",
      "Epoch 8/10\n",
      "17677/17677 [==============================] - 15s 827us/step - loss: 8.3432 - mean_squared_error: 8.3432 - val_loss: 7.7597 - val_mean_squared_error: 7.7597\n",
      "Epoch 9/10\n",
      "17677/17677 [==============================] - 15s 821us/step - loss: 8.1210 - mean_squared_error: 8.1210 - val_loss: 6.6680 - val_mean_squared_error: 6.6680\n",
      "Epoch 10/10\n",
      "17677/17677 [==============================] - 14s 806us/step - loss: 8.3009 - mean_squared_error: 8.3009 - val_loss: 12.4234 - val_mean_squared_error: 12.4234\n",
      "7365/7365 [==============================] - 0s 33us/step\n",
      "Train on 17677 samples, validate on 4420 samples\n",
      "Epoch 1/10\n",
      "17677/17677 [==============================] - 20s 1ms/step - loss: 544.7507 - mean_squared_error: 544.7507 - val_loss: 20.2413 - val_mean_squared_error: 20.2413\n",
      "Epoch 2/10\n",
      "17677/17677 [==============================] - 15s 841us/step - loss: 12.1721 - mean_squared_error: 12.1721 - val_loss: 9.4732 - val_mean_squared_error: 9.4732\n",
      "Epoch 3/10\n",
      "17677/17677 [==============================] - 14s 820us/step - loss: 8.9972 - mean_squared_error: 8.9972 - val_loss: 6.9639 - val_mean_squared_error: 6.9639\n",
      "Epoch 4/10\n",
      "17677/17677 [==============================] - 15s 840us/step - loss: 8.3840 - mean_squared_error: 8.3840 - val_loss: 8.0951 - val_mean_squared_error: 8.0951\n",
      "Epoch 5/10\n",
      "17677/17677 [==============================] - 15s 841us/step - loss: 8.2027 - mean_squared_error: 8.2027 - val_loss: 8.0366 - val_mean_squared_error: 8.0366\n",
      "Epoch 6/10\n",
      "17677/17677 [==============================] - 14s 807us/step - loss: 8.0804 - mean_squared_error: 8.0804 - val_loss: 6.7669 - val_mean_squared_error: 6.7669\n",
      "Epoch 7/10\n",
      "17677/17677 [==============================] - 14s 810us/step - loss: 8.1070 - mean_squared_error: 8.1070 - val_loss: 6.5974 - val_mean_squared_error: 6.5974\n",
      "Epoch 8/10\n",
      "17677/17677 [==============================] - 14s 811us/step - loss: 8.1598 - mean_squared_error: 8.1598 - val_loss: 6.6588 - val_mean_squared_error: 6.6588\n",
      "Epoch 9/10\n",
      "17677/17677 [==============================] - 14s 808us/step - loss: 8.1269 - mean_squared_error: 8.1269 - val_loss: 6.7501 - val_mean_squared_error: 6.7501\n",
      "Epoch 10/10\n",
      "17677/17677 [==============================] - 14s 806us/step - loss: 8.0561 - mean_squared_error: 8.0561 - val_loss: 7.9449 - val_mean_squared_error: 7.9449\n",
      "7365/7365 [==============================] - 0s 34us/step\n",
      "Train on 17677 samples, validate on 4420 samples\n",
      "Epoch 1/10\n",
      "17677/17677 [==============================] - 21s 1ms/step - loss: 471.2063 - mean_squared_error: 471.2063 - val_loss: 16.7039 - val_mean_squared_error: 16.7039\n",
      "Epoch 2/10\n",
      "17677/17677 [==============================] - 17s 940us/step - loss: 11.4611 - mean_squared_error: 11.4611 - val_loss: 8.3054 - val_mean_squared_error: 8.3054\n",
      "Epoch 3/10\n",
      "17677/17677 [==============================] - 16s 890us/step - loss: 9.1036 - mean_squared_error: 9.1036 - val_loss: 7.1008 - val_mean_squared_error: 7.1008\n",
      "Epoch 4/10\n",
      "17677/17677 [==============================] - 15s 856us/step - loss: 8.6231 - mean_squared_error: 8.6231 - val_loss: 6.8617 - val_mean_squared_error: 6.8617\n",
      "Epoch 5/10\n",
      "17677/17677 [==============================] - 15s 850us/step - loss: 8.3834 - mean_squared_error: 8.3834 - val_loss: 10.1237 - val_mean_squared_error: 10.1237\n",
      "Epoch 6/10\n",
      "17677/17677 [==============================] - 15s 869us/step - loss: 8.2217 - mean_squared_error: 8.2217 - val_loss: 6.7607 - val_mean_squared_error: 6.7607\n",
      "Epoch 7/10\n",
      "17677/17677 [==============================] - 15s 834us/step - loss: 8.1699 - mean_squared_error: 8.1699 - val_loss: 6.7156 - val_mean_squared_error: 6.7156\n",
      "Epoch 8/10\n",
      "17677/17677 [==============================] - 15s 845us/step - loss: 8.1908 - mean_squared_error: 8.1908 - val_loss: 6.8940 - val_mean_squared_error: 6.8940\n",
      "Epoch 9/10\n",
      "17677/17677 [==============================] - 15s 860us/step - loss: 8.1093 - mean_squared_error: 8.1093 - val_loss: 9.3454 - val_mean_squared_error: 9.3454\n",
      "Epoch 10/10\n",
      "17677/17677 [==============================] - 15s 864us/step - loss: 8.1225 - mean_squared_error: 8.1225 - val_loss: 7.4179 - val_mean_squared_error: 7.4179\n",
      "7365/7365 [==============================] - 0s 35us/step\n",
      "Train on 17677 samples, validate on 4420 samples\n",
      "Epoch 1/10\n",
      "17677/17677 [==============================] - 21s 1ms/step - loss: 424.6307 - mean_squared_error: 424.6307 - val_loss: 11.6199 - val_mean_squared_error: 11.6199\n",
      "Epoch 2/10\n",
      "17677/17677 [==============================] - 16s 893us/step - loss: 9.3296 - mean_squared_error: 9.3296 - val_loss: 10.2675 - val_mean_squared_error: 10.2675\n",
      "Epoch 3/10\n",
      "17677/17677 [==============================] - 16s 920us/step - loss: 8.4061 - mean_squared_error: 8.4061 - val_loss: 7.1607 - val_mean_squared_error: 7.1607\n",
      "Epoch 4/10\n",
      "17677/17677 [==============================] - 16s 891us/step - loss: 8.2321 - mean_squared_error: 8.2321 - val_loss: 6.9120 - val_mean_squared_error: 6.9120\n",
      "Epoch 5/10\n",
      "17677/17677 [==============================] - 16s 902us/step - loss: 8.1463 - mean_squared_error: 8.1463 - val_loss: 6.6698 - val_mean_squared_error: 6.6698\n",
      "Epoch 6/10\n",
      "17677/17677 [==============================] - 16s 887us/step - loss: 8.0595 - mean_squared_error: 8.0595 - val_loss: 6.6343 - val_mean_squared_error: 6.6343\n",
      "Epoch 7/10\n",
      "17677/17677 [==============================] - 16s 883us/step - loss: 7.9495 - mean_squared_error: 7.9495 - val_loss: 7.0218 - val_mean_squared_error: 7.0218\n",
      "Epoch 8/10\n",
      "17677/17677 [==============================] - 15s 835us/step - loss: 7.9890 - mean_squared_error: 7.9890 - val_loss: 6.7169 - val_mean_squared_error: 6.7169\n",
      "Epoch 9/10\n",
      "17677/17677 [==============================] - 15s 843us/step - loss: 8.0684 - mean_squared_error: 8.0684 - val_loss: 6.6577 - val_mean_squared_error: 6.6577\n",
      "Epoch 10/10\n",
      "17677/17677 [==============================] - 15s 861us/step - loss: 7.9866 - mean_squared_error: 7.9866 - val_loss: 6.8406 - val_mean_squared_error: 6.8406\n",
      "7365/7365 [==============================] - 0s 37us/step\n"
     ]
    }
   ],
   "source": [
    "model_hist = [] \n",
    "model_eval = [] \n",
    "\n",
    "for unit in num_units: \n",
    "  model = build_model(unit)\n",
    "  hist = model.fit(train_x, train_y, epochs=10, validation_split=0.2, batch_size=5)\n",
    "  model_hist.append(hist)\n",
    "\n",
    "  val = model.evaluate(test_x[:-1], test_y[:])\n",
    "  model_eval.append(val)"
   ]
  },
  {
   "cell_type": "code",
   "execution_count": 0,
   "metadata": {
    "colab": {},
    "colab_type": "code",
    "id": "FOV1_BPwMPTn"
   },
   "outputs": [],
   "source": []
  },
  {
   "cell_type": "markdown",
   "metadata": {
    "colab_type": "text",
    "id": "1s6Ys04Ckvnz"
   },
   "source": [
    "### Model evaluation (on test set)"
   ]
  },
  {
   "cell_type": "code",
   "execution_count": 57,
   "metadata": {
    "colab": {
     "base_uri": "https://localhost:8080/",
     "height": 196
    },
    "colab_type": "code",
    "id": "d8evgM5iMPYv",
    "outputId": "2d58c67d-2424-45b4-a4aa-dec3a2a213d4"
   },
   "outputs": [
    {
     "name": "stdout",
     "output_type": "stream",
     "text": [
      "|units|   loss   |   mse    |\n",
      "|  10 | 11.80967 | 11.80967 |\n",
      "|  20 | 6.14067  | 6.14067  |\n",
      "|  30 | 7.22004  | 7.22004  |\n",
      "|  40 | 10.63738 | 10.63738 |\n",
      "|  50 | 6.26273  | 6.26273  |\n",
      "|  60 | 6.01600  | 6.01600  |\n",
      "|  70 | 11.56191 | 11.56191 |\n",
      "|  80 | 7.67807  | 7.67807  |\n",
      "|  90 | 6.73912  | 6.73912  |\n",
      "| 100 | 6.41002  | 6.41002  |\n"
     ]
    }
   ],
   "source": [
    "print(\"|{:^3}|{:^10}|{:^10}|\".format(\"units\", \"loss\", \"mse\"))\n",
    "for i in range(len(model_eval)): \n",
    "  loss, mse = model_eval[i]\n",
    "  print(\"| {:3} | {:^8.5f} | {:^8.5f} |\".format(num_units[i], loss, mse))"
   ]
  },
  {
   "cell_type": "code",
   "execution_count": 0,
   "metadata": {
    "colab": {},
    "colab_type": "code",
    "id": "DoGW8rcELA-v"
   },
   "outputs": [],
   "source": []
  },
  {
   "cell_type": "markdown",
   "metadata": {
    "colab_type": "text",
    "id": "CRPaomVXhWVf"
   },
   "source": [
    "When the number of units for LSTM is 60, it achives the best validation loss. "
   ]
  },
  {
   "cell_type": "code",
   "execution_count": 0,
   "metadata": {
    "colab": {},
    "colab_type": "code",
    "id": "aNhyEvaYiNku"
   },
   "outputs": [],
   "source": []
  },
  {
   "cell_type": "code",
   "execution_count": 0,
   "metadata": {
    "colab": {},
    "colab_type": "code",
    "id": "Dk_2MxxwWTEI"
   },
   "outputs": [],
   "source": [
    "from keras.callbacks import ModelCheckpoint"
   ]
  },
  {
   "cell_type": "code",
   "execution_count": 73,
   "metadata": {
    "colab": {
     "base_uri": "https://localhost:8080/",
     "height": 1000
    },
    "colab_type": "code",
    "id": "Aw3nG-kkWTHB",
    "outputId": "6ab4f0ca-fb59-4b8c-9660-d96e3f259a3f"
   },
   "outputs": [
    {
     "name": "stdout",
     "output_type": "stream",
     "text": [
      "Train on 17677 samples, validate on 4420 samples\n",
      "Epoch 1/50\n",
      "17677/17677 [==============================] - 21s 1ms/step - loss: 687.4392 - mean_squared_error: 687.4392 - val_loss: 37.9317 - val_mean_squared_error: 37.9317\n",
      "\n",
      "Epoch 00001: val_loss improved from inf to 37.93168, saving model to best_weights_model.hdf5\n",
      "Epoch 2/50\n",
      "17677/17677 [==============================] - 14s 776us/step - loss: 17.6790 - mean_squared_error: 17.6790 - val_loss: 10.4057 - val_mean_squared_error: 10.4057\n",
      "\n",
      "Epoch 00002: val_loss improved from 37.93168 to 10.40568, saving model to best_weights_model.hdf5\n",
      "Epoch 3/50\n",
      "17677/17677 [==============================] - 14s 794us/step - loss: 9.4749 - mean_squared_error: 9.4749 - val_loss: 7.7516 - val_mean_squared_error: 7.7516\n",
      "\n",
      "Epoch 00003: val_loss improved from 10.40568 to 7.75160, saving model to best_weights_model.hdf5\n",
      "Epoch 4/50\n",
      "17677/17677 [==============================] - 14s 786us/step - loss: 8.6831 - mean_squared_error: 8.6831 - val_loss: 10.1779 - val_mean_squared_error: 10.1779\n",
      "\n",
      "Epoch 00004: val_loss did not improve from 7.75160\n",
      "Epoch 5/50\n",
      "17677/17677 [==============================] - 14s 806us/step - loss: 8.2979 - mean_squared_error: 8.2979 - val_loss: 7.0294 - val_mean_squared_error: 7.0294\n",
      "\n",
      "Epoch 00005: val_loss improved from 7.75160 to 7.02941, saving model to best_weights_model.hdf5\n",
      "Epoch 6/50\n",
      "17677/17677 [==============================] - 15s 845us/step - loss: 8.1450 - mean_squared_error: 8.1450 - val_loss: 8.6326 - val_mean_squared_error: 8.6326\n",
      "\n",
      "Epoch 00006: val_loss did not improve from 7.02941\n",
      "Epoch 7/50\n",
      "17677/17677 [==============================] - 15s 826us/step - loss: 8.2549 - mean_squared_error: 8.2549 - val_loss: 7.2621 - val_mean_squared_error: 7.2621\n",
      "\n",
      "Epoch 00007: val_loss did not improve from 7.02941\n",
      "Epoch 8/50\n",
      "17677/17677 [==============================] - 14s 816us/step - loss: 8.0354 - mean_squared_error: 8.0354 - val_loss: 6.7580 - val_mean_squared_error: 6.7580\n",
      "\n",
      "Epoch 00008: val_loss improved from 7.02941 to 6.75805, saving model to best_weights_model.hdf5\n",
      "Epoch 9/50\n",
      "17677/17677 [==============================] - 15s 822us/step - loss: 8.0385 - mean_squared_error: 8.0385 - val_loss: 6.7236 - val_mean_squared_error: 6.7236\n",
      "\n",
      "Epoch 00009: val_loss improved from 6.75805 to 6.72363, saving model to best_weights_model.hdf5\n",
      "Epoch 10/50\n",
      "17677/17677 [==============================] - 14s 800us/step - loss: 8.0774 - mean_squared_error: 8.0774 - val_loss: 7.9675 - val_mean_squared_error: 7.9675\n",
      "\n",
      "Epoch 00010: val_loss did not improve from 6.72363\n",
      "Epoch 11/50\n",
      "17677/17677 [==============================] - 14s 788us/step - loss: 8.0507 - mean_squared_error: 8.0507 - val_loss: 7.1609 - val_mean_squared_error: 7.1609\n",
      "\n",
      "Epoch 00011: val_loss did not improve from 6.72363\n",
      "Epoch 12/50\n",
      "17677/17677 [==============================] - 16s 913us/step - loss: 8.1104 - mean_squared_error: 8.1104 - val_loss: 6.6718 - val_mean_squared_error: 6.6718\n",
      "\n",
      "Epoch 00012: val_loss improved from 6.72363 to 6.67185, saving model to best_weights_model.hdf5\n",
      "Epoch 13/50\n",
      "17677/17677 [==============================] - 15s 830us/step - loss: 7.9630 - mean_squared_error: 7.9630 - val_loss: 6.7578 - val_mean_squared_error: 6.7578\n",
      "\n",
      "Epoch 00013: val_loss did not improve from 6.67185\n",
      "Epoch 14/50\n",
      "17677/17677 [==============================] - 14s 805us/step - loss: 7.9379 - mean_squared_error: 7.9379 - val_loss: 7.8776 - val_mean_squared_error: 7.8776\n",
      "\n",
      "Epoch 00014: val_loss did not improve from 6.67185\n",
      "Epoch 15/50\n",
      "17677/17677 [==============================] - 16s 879us/step - loss: 8.0181 - mean_squared_error: 8.0181 - val_loss: 7.6705 - val_mean_squared_error: 7.6705\n",
      "\n",
      "Epoch 00015: val_loss did not improve from 6.67185\n",
      "Epoch 16/50\n",
      "17677/17677 [==============================] - 15s 846us/step - loss: 7.9240 - mean_squared_error: 7.9240 - val_loss: 6.7321 - val_mean_squared_error: 6.7321\n",
      "\n",
      "Epoch 00016: val_loss did not improve from 6.67185\n",
      "Epoch 17/50\n",
      "17677/17677 [==============================] - 15s 821us/step - loss: 7.9519 - mean_squared_error: 7.9519 - val_loss: 6.9385 - val_mean_squared_error: 6.9385\n",
      "\n",
      "Epoch 00017: val_loss did not improve from 6.67185\n",
      "Epoch 18/50\n",
      "17677/17677 [==============================] - 15s 832us/step - loss: 7.9258 - mean_squared_error: 7.9258 - val_loss: 8.8651 - val_mean_squared_error: 8.8651\n",
      "\n",
      "Epoch 00018: val_loss did not improve from 6.67185\n",
      "Epoch 19/50\n",
      "17677/17677 [==============================] - 14s 797us/step - loss: 7.9146 - mean_squared_error: 7.9146 - val_loss: 6.7533 - val_mean_squared_error: 6.7533\n",
      "\n",
      "Epoch 00019: val_loss did not improve from 6.67185\n",
      "Epoch 20/50\n",
      "17677/17677 [==============================] - 14s 807us/step - loss: 7.9337 - mean_squared_error: 7.9337 - val_loss: 7.3828 - val_mean_squared_error: 7.3828\n",
      "\n",
      "Epoch 00020: val_loss did not improve from 6.67185\n",
      "Epoch 21/50\n",
      "17677/17677 [==============================] - 14s 810us/step - loss: 7.9395 - mean_squared_error: 7.9395 - val_loss: 6.5228 - val_mean_squared_error: 6.5228\n",
      "\n",
      "Epoch 00021: val_loss improved from 6.67185 to 6.52278, saving model to best_weights_model.hdf5\n",
      "Epoch 22/50\n",
      "17677/17677 [==============================] - 14s 820us/step - loss: 7.8642 - mean_squared_error: 7.8642 - val_loss: 6.8874 - val_mean_squared_error: 6.8874\n",
      "\n",
      "Epoch 00022: val_loss did not improve from 6.52278\n",
      "Epoch 23/50\n",
      "17677/17677 [==============================] - 15s 828us/step - loss: 7.8592 - mean_squared_error: 7.8592 - val_loss: 7.7714 - val_mean_squared_error: 7.7714\n",
      "\n",
      "Epoch 00023: val_loss did not improve from 6.52278\n",
      "Epoch 24/50\n",
      "17677/17677 [==============================] - 14s 812us/step - loss: 7.7846 - mean_squared_error: 7.7846 - val_loss: 7.7510 - val_mean_squared_error: 7.7510\n",
      "\n",
      "Epoch 00024: val_loss did not improve from 6.52278\n",
      "Epoch 25/50\n",
      "17677/17677 [==============================] - 13s 761us/step - loss: 7.9515 - mean_squared_error: 7.9515 - val_loss: 9.9063 - val_mean_squared_error: 9.9063\n",
      "\n",
      "Epoch 00025: val_loss did not improve from 6.52278\n",
      "Epoch 26/50\n",
      "17677/17677 [==============================] - 14s 778us/step - loss: 7.8721 - mean_squared_error: 7.8721 - val_loss: 6.5842 - val_mean_squared_error: 6.5842\n",
      "\n",
      "Epoch 00026: val_loss did not improve from 6.52278\n",
      "Epoch 27/50\n",
      "17677/17677 [==============================] - 14s 805us/step - loss: 7.8587 - mean_squared_error: 7.8587 - val_loss: 6.7460 - val_mean_squared_error: 6.7460\n",
      "\n",
      "Epoch 00027: val_loss did not improve from 6.52278\n",
      "Epoch 28/50\n",
      "17677/17677 [==============================] - 13s 757us/step - loss: 7.8089 - mean_squared_error: 7.8089 - val_loss: 7.2575 - val_mean_squared_error: 7.2575\n",
      "\n",
      "Epoch 00028: val_loss did not improve from 6.52278\n",
      "Epoch 29/50\n",
      "17677/17677 [==============================] - 14s 784us/step - loss: 7.7801 - mean_squared_error: 7.7801 - val_loss: 6.4758 - val_mean_squared_error: 6.4758\n",
      "\n",
      "Epoch 00029: val_loss improved from 6.52278 to 6.47575, saving model to best_weights_model.hdf5\n",
      "Epoch 30/50\n",
      "17677/17677 [==============================] - 13s 759us/step - loss: 7.8243 - mean_squared_error: 7.8243 - val_loss: 7.0555 - val_mean_squared_error: 7.0555\n",
      "\n",
      "Epoch 00030: val_loss did not improve from 6.47575\n",
      "Epoch 31/50\n",
      "17677/17677 [==============================] - 13s 749us/step - loss: 7.7645 - mean_squared_error: 7.7645 - val_loss: 6.8119 - val_mean_squared_error: 6.8119\n",
      "\n",
      "Epoch 00031: val_loss did not improve from 6.47575\n",
      "Epoch 32/50\n",
      "17677/17677 [==============================] - 14s 768us/step - loss: 7.7962 - mean_squared_error: 7.7962 - val_loss: 6.5491 - val_mean_squared_error: 6.5491\n",
      "\n",
      "Epoch 00032: val_loss did not improve from 6.47575\n",
      "Epoch 33/50\n",
      "17677/17677 [==============================] - 14s 806us/step - loss: 7.8038 - mean_squared_error: 7.8038 - val_loss: 7.4699 - val_mean_squared_error: 7.4699\n",
      "\n",
      "Epoch 00033: val_loss did not improve from 6.47575\n",
      "Epoch 34/50\n",
      "17677/17677 [==============================] - 13s 715us/step - loss: 7.7780 - mean_squared_error: 7.7780 - val_loss: 8.8102 - val_mean_squared_error: 8.8102\n",
      "\n",
      "Epoch 00034: val_loss did not improve from 6.47575\n",
      "Epoch 35/50\n",
      "17677/17677 [==============================] - 14s 817us/step - loss: 7.7449 - mean_squared_error: 7.7449 - val_loss: 6.7352 - val_mean_squared_error: 6.7352\n",
      "\n",
      "Epoch 00035: val_loss did not improve from 6.47575\n",
      "Epoch 36/50\n",
      "17677/17677 [==============================] - 14s 807us/step - loss: 7.7774 - mean_squared_error: 7.7774 - val_loss: 6.5044 - val_mean_squared_error: 6.5044\n",
      "\n",
      "Epoch 00036: val_loss did not improve from 6.47575\n",
      "Epoch 37/50\n",
      "17677/17677 [==============================] - 16s 883us/step - loss: 7.7299 - mean_squared_error: 7.7299 - val_loss: 6.7225 - val_mean_squared_error: 6.7225\n",
      "\n",
      "Epoch 00037: val_loss did not improve from 6.47575\n",
      "Epoch 38/50\n",
      "17677/17677 [==============================] - 15s 853us/step - loss: 7.7417 - mean_squared_error: 7.7417 - val_loss: 6.4948 - val_mean_squared_error: 6.4948\n",
      "\n",
      "Epoch 00038: val_loss did not improve from 6.47575\n",
      "Epoch 39/50\n",
      "17677/17677 [==============================] - 14s 818us/step - loss: 7.8028 - mean_squared_error: 7.8028 - val_loss: 9.1314 - val_mean_squared_error: 9.1314\n",
      "\n",
      "Epoch 00039: val_loss did not improve from 6.47575\n",
      "Epoch 40/50\n",
      "17677/17677 [==============================] - 15s 831us/step - loss: 7.7307 - mean_squared_error: 7.7307 - val_loss: 7.4271 - val_mean_squared_error: 7.4271\n",
      "\n",
      "Epoch 00040: val_loss did not improve from 6.47575\n",
      "Epoch 41/50\n",
      "17677/17677 [==============================] - 15s 854us/step - loss: 7.7413 - mean_squared_error: 7.7413 - val_loss: 6.6161 - val_mean_squared_error: 6.6161\n",
      "\n",
      "Epoch 00041: val_loss did not improve from 6.47575\n",
      "Epoch 42/50\n",
      "17677/17677 [==============================] - 15s 850us/step - loss: 7.7196 - mean_squared_error: 7.7196 - val_loss: 6.5329 - val_mean_squared_error: 6.5329\n",
      "\n",
      "Epoch 00042: val_loss did not improve from 6.47575\n",
      "Epoch 43/50\n",
      "17677/17677 [==============================] - 15s 858us/step - loss: 7.7563 - mean_squared_error: 7.7563 - val_loss: 7.1567 - val_mean_squared_error: 7.1567\n",
      "\n",
      "Epoch 00043: val_loss did not improve from 6.47575\n",
      "Epoch 44/50\n",
      "17677/17677 [==============================] - 15s 848us/step - loss: 7.7256 - mean_squared_error: 7.7256 - val_loss: 6.4778 - val_mean_squared_error: 6.4778\n",
      "\n",
      "Epoch 00044: val_loss did not improve from 6.47575\n",
      "Epoch 45/50\n",
      "17677/17677 [==============================] - 15s 852us/step - loss: 7.7084 - mean_squared_error: 7.7084 - val_loss: 7.1600 - val_mean_squared_error: 7.1600\n",
      "\n",
      "Epoch 00045: val_loss did not improve from 6.47575\n",
      "Epoch 46/50\n",
      "17677/17677 [==============================] - 15s 852us/step - loss: 7.6946 - mean_squared_error: 7.6946 - val_loss: 7.6054 - val_mean_squared_error: 7.6054\n",
      "\n",
      "Epoch 00046: val_loss did not improve from 6.47575\n",
      "Epoch 47/50\n",
      "17677/17677 [==============================] - 15s 837us/step - loss: 7.6637 - mean_squared_error: 7.6637 - val_loss: 7.1771 - val_mean_squared_error: 7.1771\n",
      "\n",
      "Epoch 00047: val_loss did not improve from 6.47575\n",
      "Epoch 48/50\n",
      "17677/17677 [==============================] - 15s 837us/step - loss: 7.7669 - mean_squared_error: 7.7669 - val_loss: 6.8558 - val_mean_squared_error: 6.8558\n",
      "\n",
      "Epoch 00048: val_loss did not improve from 6.47575\n",
      "Epoch 49/50\n",
      "17677/17677 [==============================] - 15s 838us/step - loss: 7.7387 - mean_squared_error: 7.7387 - val_loss: 6.6149 - val_mean_squared_error: 6.6149\n",
      "\n",
      "Epoch 00049: val_loss did not improve from 6.47575\n",
      "Epoch 50/50\n",
      "17677/17677 [==============================] - 15s 836us/step - loss: 7.7069 - mean_squared_error: 7.7069 - val_loss: 7.2373 - val_mean_squared_error: 7.2373\n",
      "\n",
      "Epoch 00050: val_loss did not improve from 6.47575\n"
     ]
    }
   ],
   "source": [
    "model = build_model(60)\n",
    "\n",
    "# save the best model \n",
    "filepath=\"best_weights_model.hdf5\"\n",
    "checkpoint = ModelCheckpoint(filepath, monitor='val_loss', verbose=1, save_best_only=True, mode='auto')\n",
    "model_hist = model.fit(train_x, train_y, epochs=50, validation_split=0.2, batch_size=5, callbacks=[checkpoint])"
   ]
  },
  {
   "cell_type": "code",
   "execution_count": 74,
   "metadata": {
    "colab": {
     "base_uri": "https://localhost:8080/",
     "height": 50
    },
    "colab_type": "code",
    "id": "wgAZaIYsnjRO",
    "outputId": "c7b07562-c8cf-433f-b7ab-d5fa1b55aa21",
    "scrolled": true
   },
   "outputs": [
    {
     "name": "stdout",
     "output_type": "stream",
     "text": [
      "7365/7365 [==============================] - 0s 42us/step\n",
      "[6.8738011434623685, 6.8738011434623685]\n"
     ]
    }
   ],
   "source": [
    "print(model.evaluate(test_x[:-1], test_y[:]))"
   ]
  },
  {
   "cell_type": "markdown",
   "metadata": {},
   "source": [
    "final model loss: 6.8738; mse: 6.87380"
   ]
  },
  {
   "cell_type": "code",
   "execution_count": 0,
   "metadata": {
    "colab": {},
    "colab_type": "code",
    "id": "N2w-XZuDWTJv"
   },
   "outputs": [],
   "source": [
    "# load best weights \n",
    "model.load_weights(filepath)"
   ]
  },
  {
   "cell_type": "code",
   "execution_count": 0,
   "metadata": {
    "colab": {},
    "colab_type": "code",
    "id": "NZaRrM7EWTMa"
   },
   "outputs": [],
   "source": [
    "y_hat = model.predict(test_x)"
   ]
  },
  {
   "cell_type": "code",
   "execution_count": 80,
   "metadata": {
    "colab": {
     "base_uri": "https://localhost:8080/",
     "height": 393
    },
    "colab_type": "code",
    "id": "13iqYJJ4WTPh",
    "outputId": "8b1289f8-f86b-4735-c886-77d6508b1fc6"
   },
   "outputs": [
    {
     "data": {
      "text/plain": [
       "<matplotlib.legend.Legend at 0x7f11a1bff7b8>"
      ]
     },
     "execution_count": 80,
     "metadata": {
      "tags": []
     },
     "output_type": "execute_result"
    },
    {
     "data": {
      "image/png": "[encoded data removed]",
      "text/plain": [
       "<Figure size 576x432 with 1 Axes>"
      ]
     },
     "metadata": {
      "tags": []
     },
     "output_type": "display_data"
    }
   ],
   "source": [
    "plt.figure(figsize=(8,6))\n",
    "\n",
    "plt.plot(df_test['DATE'], df_test['TMIN'], label='actual')\n",
    "plt.plot(df_test['DATE'], y_hat.reshape(1,-1)[0], label='predict')\n",
    "plt.legend()"
   ]
  },
  {
   "cell_type": "code",
   "execution_count": 0,
   "metadata": {
    "colab": {},
    "colab_type": "code",
    "id": "SDYQwFVBWTSI"
   },
   "outputs": [],
   "source": []
  },
  {
   "cell_type": "code",
   "execution_count": 0,
   "metadata": {
    "colab": {},
    "colab_type": "code",
    "id": "haoG-HJGWTVG"
   },
   "outputs": [],
   "source": []
  },
  {
   "cell_type": "code",
   "execution_count": 0,
   "metadata": {
    "colab": {},
    "colab_type": "code",
    "id": "RuSX3jBoWTYH"
   },
   "outputs": [],
   "source": []
  },
  {
   "cell_type": "code",
   "execution_count": 0,
   "metadata": {
    "colab": {},
    "colab_type": "code",
    "id": "OZsdVFjbLBBK"
   },
   "outputs": [],
   "source": []
  },
  {
   "cell_type": "code",
   "execution_count": 0,
   "metadata": {
    "colab": {},
    "colab_type": "code",
    "id": "fhMW27wQKOxR"
   },
   "outputs": [],
   "source": []
  }
 ],
 "metadata": {
  "colab": {
   "collapsed_sections": [],
   "name": "Untitled2.ipynb",
   "provenance": []
  },
  "kernelspec": {
   "display_name": "Python 3",
   "language": "python",
   "name": "python3"
  },
  "language_info": {
   "codemirror_mode": {
    "name": "ipython",
    "version": 3
   },
   "file_extension": ".py",
   "mimetype": "text/x-python",
   "name": "python",
   "nbconvert_exporter": "python",
   "pygments_lexer": "ipython3",
   "version": "3.7.4"
  }
 },
 "nbformat": 4,
 "nbformat_minor": 1
}
