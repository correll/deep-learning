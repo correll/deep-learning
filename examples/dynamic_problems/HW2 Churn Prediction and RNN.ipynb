{
 "cells": [
  {
   "cell_type": "markdown",
   "metadata": {},
   "source": [
    "## Dataset and description: \n",
    "Details and data available for download: https://www.kaggle.com/c/kkbox-churn-prediction-challenge/notebooks?sortBy=hotness&group=everyone&pageSize=20&competitionId=7163&language=Python\n",
    "\n",
    "In this challenge, you are asked to predict whether a user will churn after his/her subscription expires. Specifically, we want to forecast if a user make a new service subscription transaction within 30 days after the current membership expiration date.\n",
    "\n",
    "The key fields to determine churn/renewal are transaction date, membership expiration date, and is_cancel. Note that the is_cancel field indicates whether a user actively cancels a subscription. Subscription cancellation does not imply the user has churned. A user may cancel service subscription due to change of service plans or other reasons. The criteria of \"churn\" is no new valid service subscription within 30 days after the current membership expires.\n",
    "\n",
    "#### Predictor:\n",
    "`is_churn`: Churn is defined as whether the user did not continue the subscription within 30 days of expiration. `is_churn` = 1 means churn, `is_churn` = 0 means renewal.\n",
    "\n",
    "#### Features:\n",
    "- `payment_method_id`: payment method\n",
    "- `payment_plan_days`: length of membership plan in days\n",
    "- `plan_list_price`: in New Taiwan Dollar (NTD)\n",
    "- `actual_amount_paid`: in New Taiwan Dollar (NTD)\n",
    "- `is_auto_renew`\n",
    "- `transaction_date`: format %Y%m%d\n",
    "`membership_expire_date`: format %Y%m%d\n",
    "- `is_cancel`: whether or not the user canceled the membership in this transaction.\n",
    "- `user_log_date`: format %Y%m%d\n",
    "- `num_25`: # of songs played less than 25% of the song length\n",
    "- `num_50`: # of songs played between 25% to 50% of the song length\n",
    "- `num_75`: # of songs played between 50% to 75% of of the song length\n",
    "- `num_985`: # of songs played between 75% to 98.5% of the song length\n",
    "- `num_100`: # of songs played over 98.5% of the song length\n",
    "- `num_unq`: # of unique songs played\n",
    "- `total_secs`: total seconds played\n",
    "- `city`\n",
    "- `bd`: age. Note: this column has outlier values ranging from -7000 to 2015, please use your judgement.\n",
    "- `gender`\n",
    "- `registered_via`: registration method\n",
    "- `registration_init_time`: format %Y%m%d\n",
    "- `expiration_date`: format %Y%m%d, taken as a snapshot at which the member.csv is extracted. Not representing the actual churn behavior.\n",
    "\n",
    "#### ID Field:\n",
    "`msno`: user id\n",
    "\n",
    "#### Other notes:\n",
    "The _v2_ data was used for this notebook because the original/v1 data was extremely large and yielded memory problems. There were memory reduction techniques on Kaggle, but for the scope and time of this project, that was not tackled."
   ]
  },
  {
   "cell_type": "code",
   "execution_count": 1,
   "metadata": {},
   "outputs": [
    {
     "name": "stderr",
     "output_type": "stream",
     "text": [
      "/Users/annelise/.pyenv/versions/3.6.4/envs/csci/lib/python3.6/site-packages/pandas/compat/__init__.py:84: UserWarning: Could not import the lzma module. Your installed Python is incomplete. Attempting to use lzma compression will result in a RuntimeError.\n",
      "  warnings.warn(msg)\n",
      "/Users/annelise/.pyenv/versions/3.6.4/envs/csci/lib/python3.6/site-packages/pandas/compat/__init__.py:84: UserWarning: Could not import the lzma module. Your installed Python is incomplete. Attempting to use lzma compression will result in a RuntimeError.\n",
      "  warnings.warn(msg)\n",
      "Using TensorFlow backend.\n"
     ]
    }
   ],
   "source": [
    "from collections import Counter\n",
    "import pandas as pd\n",
    "import numpy as np\n",
    "import seaborn as sns\n",
    "import matplotlib.pyplot as plt\n",
    "import seaborn as sns\n",
    "import sys, os\n",
    "import pickle\n",
    "import gc; gc.enable()\n",
    "from time import time\n",
    "from datetime import datetime, timedelta\n",
    "from collections import defaultdict\n",
    "from multiprocessing import Pool, cpu_count\n",
    "\n",
    "from keras.models import Sequential\n",
    "from keras.layers.core import Activation\n",
    "from keras.layers.normalization import BatchNormalization\n",
    "from keras.optimizers import SGD, Adam\n",
    "from keras.wrappers.scikit_learn import KerasClassifier\n",
    "from keras.layers import Dense, Input, Dropout, SimpleRNN, LSTM, Bidirectional, Flatten, Embedding, GRU\n",
    "from keras import regularizers\n",
    "\n",
    "from sklearn.model_selection import KFold, StratifiedKFold, RepeatedKFold, train_test_split, GridSearchCV\n",
    "from sklearn.metrics import accuracy_score, f1_score\n",
    "from sklearn.metrics import confusion_matrix, roc_auc_score, recall_score, precision_score\n",
    "from sklearn.preprocessing import StandardScaler"
   ]
  },
  {
   "cell_type": "code",
   "execution_count": 2,
   "metadata": {},
   "outputs": [
    {
     "name": "stdout",
     "output_type": "stream",
     "text": [
      "WSDMChurnLabeller.scala\n",
      "members_v3 2.csv\n",
      "members_v3.csv\n",
      "sample_submission_v2.csv\n",
      "sample_submission_zero.csv\n",
      "train.csv\n",
      "train_v2.csv\n",
      "transactions.csv\n",
      "transactions_v2.csv\n",
      "user_logs.csv\n",
      "user_logs_v2.csv\n",
      "\n"
     ]
    }
   ],
   "source": [
    "from subprocess import check_output\n",
    "print(check_output([\"ls\", \"data/kkbox-churn-prediction-challenge\"]).decode(\"utf8\"))"
   ]
  },
  {
   "cell_type": "code",
   "execution_count": 3,
   "metadata": {},
   "outputs": [
    {
     "name": "stdout",
     "output_type": "stream",
     "text": [
      "Index(['msno', 'is_churn', 'city', 'bd', 'gender', 'registered_via',\n",
      "       'registration_init_time', 'trans_count', 'payment_method_id',\n",
      "       'payment_plan_days', 'plan_list_price', 'actual_amount_paid',\n",
      "       'is_auto_renew', 'transaction_date', 'membership_expire_date',\n",
      "       'is_cancel'],\n",
      "      dtype='object')\n"
     ]
    }
   ],
   "source": [
    "# Load in train and test\n",
    "train = pd.read_csv('data/kkbox-churn-prediction-challenge/train.csv')\n",
    "train = pd.concat((train, pd.read_csv('data/kkbox-churn-prediction-challenge/train_v2.csv')),axis=0, ignore_index=True).reset_index(drop=True)\n",
    "#test = pd.read_csv('data/kkbox-churn-prediction-challenge/sample_submission_v2.csv')\n",
    "\n",
    "# members\n",
    "members = pd.read_csv('data/kkbox-churn-prediction-challenge/members_v3.csv')\n",
    "train = train.merge(members, on = 'msno', how = 'left')\n",
    "#test = test.merge(members, on = 'msno', how = 'left')\n",
    "\n",
    "# transactions\n",
    "transactions = pd.read_csv('data/kkbox-churn-prediction-challenge/transactions.csv', usecols=['msno'])\n",
    "transactions = pd.concat((transactions, pd.read_csv('data/kkbox-churn-prediction-challenge/transactions_v2.csv', usecols=['msno'])), axis=0, ignore_index=True).reset_index(drop=True)\n",
    "transactions = pd.DataFrame(transactions['msno'].value_counts().reset_index())\n",
    "transactions.columns = ['msno','trans_count']\n",
    "train = pd.merge(train, transactions, how='left', on='msno')\n",
    "#test = pd.merge(test, transactions, how='left', on='msno')\n",
    "\n",
    "transactions = pd.read_csv('data/kkbox-churn-prediction-challenge/transactions_v2.csv') \n",
    "transactions = transactions.sort_values(by=['transaction_date'], ascending=[False]).reset_index(drop=True)\n",
    "transactions = transactions.drop_duplicates(subset=['msno'], keep='first')\n",
    "\n",
    "train = pd.merge(train, transactions, how='left', on='msno')\n",
    "#test = pd.merge(test, transactions, how='left', on='msno')\n",
    "transactions=[]\n",
    "print(train.keys())"
   ]
  },
  {
   "cell_type": "code",
   "execution_count": 4,
   "metadata": {},
   "outputs": [
    {
     "name": "stdout",
     "output_type": "stream",
     "text": [
      "Index(['msno', 'is_churn', 'city', 'bd', 'gender', 'registered_via',\n",
      "       'registration_init_time', 'trans_count', 'payment_method_id',\n",
      "       'payment_plan_days', 'plan_list_price', 'actual_amount_paid',\n",
      "       'is_auto_renew', 'transaction_date', 'membership_expire_date',\n",
      "       'is_cancel', 'logs_count'],\n",
      "      dtype='object')\n"
     ]
    }
   ],
   "source": [
    "user_logs = pd.read_csv('data/kkbox-churn-prediction-challenge/user_logs_v2.csv', usecols=['msno'])\n",
    "user_logs = pd.DataFrame(user_logs['msno'].value_counts().reset_index())\n",
    "user_logs.columns = ['msno','logs_count']\n",
    "train = pd.merge(train, user_logs, how='left', on='msno')\n",
    "#test = pd.merge(test, user_logs, how='left', on='msno')\n",
    "print(train.keys())"
   ]
  },
  {
   "cell_type": "code",
   "execution_count": 5,
   "metadata": {},
   "outputs": [],
   "source": [
    "def transform_df(df):\n",
    "    df = pd.DataFrame(df)\n",
    "    df = df.sort_values(by=['date'], ascending=[False])\n",
    "    df = df.reset_index(drop=True)\n",
    "    df = df.drop_duplicates(subset=['msno'], keep='first')\n",
    "    return df\n",
    "\n",
    "def transform_df2(df):\n",
    "    df = df.sort_values(by=['date'], ascending=[False])\n",
    "    df = df.reset_index(drop=True)\n",
    "    df = df.drop_duplicates(subset=['msno'], keep='first')\n",
    "    return df"
   ]
  },
  {
   "cell_type": "code",
   "execution_count": 6,
   "metadata": {},
   "outputs": [
    {
     "name": "stdout",
     "output_type": "stream",
     "text": [
      "Index(['msno', 'is_churn', 'city', 'bd', 'gender', 'registered_via',\n",
      "       'registration_init_time', 'trans_count', 'payment_method_id',\n",
      "       'payment_plan_days', 'plan_list_price', 'actual_amount_paid',\n",
      "       'is_auto_renew', 'transaction_date', 'membership_expire_date',\n",
      "       'is_cancel', 'logs_count'],\n",
      "      dtype='object')\n"
     ]
    }
   ],
   "source": [
    "print(train.keys())"
   ]
  },
  {
   "cell_type": "code",
   "execution_count": 7,
   "metadata": {},
   "outputs": [
    {
     "name": "stdout",
     "output_type": "stream",
     "text": [
      "merging user logs features...\n"
     ]
    }
   ],
   "source": [
    "last_user_logs = []\n",
    "last_user_logs.append(transform_df(pd.read_csv('data/kkbox-churn-prediction-challenge/user_logs_v2.csv')))\n",
    "last_user_logs = pd.concat(last_user_logs, axis=0, ignore_index=True).reset_index(drop=True)\n",
    "last_user_logs = transform_df2(last_user_logs)\n",
    "print ('merging user logs features...')\n",
    "train = pd.merge(train, last_user_logs, how='left', on='msno')\n",
    "#test = pd.merge(test, last_user_logs, how='left', on='msno')\n",
    "last_user_logs=[]\n",
    "\n",
    "gender = {'male':1, 'female':2}\n",
    "train['gender'] = train['gender'].map(gender)\n",
    "#test['gender'] = test['gender'].map(gender)\n",
    "\n",
    "train = train.fillna(0)\n",
    "#test = test.fillna(0)\n",
    "\n"
   ]
  },
  {
   "cell_type": "code",
   "execution_count": 8,
   "metadata": {},
   "outputs": [
    {
     "name": "stdout",
     "output_type": "stream",
     "text": [
      "Train shape:  (1963891, 25)\n",
      "                                           msno  is_churn  city    bd  gender  \\\n",
      "0  waLDQMmcOu2jLDaV1ddDkgCrB/jl6sD66Xzs0Vqax1Y=         1  18.0  36.0     2.0   \n",
      "1  QA7uiXy8vIbUSPOkCf9RwQ3FsT8jVq2OxDr8zqa7bRQ=         1  10.0  38.0     1.0   \n",
      "2  fGwBva6hikQmTJzrbz/2Ezjm5Cth5jZUNvXigKK2AFA=         1  11.0  27.0     2.0   \n",
      "3  mT5V8rEpa+8wuqi6x0DoVd3H5icMKkE9Prt49UlmK+4=         1  13.0  23.0     2.0   \n",
      "4  XaPhtGLk/5UvvOYHcONTwsnH97P4eGECeq+BARGItRw=         1   3.0  27.0     1.0   \n",
      "\n",
      "   registered_via  registration_init_time  trans_count  payment_method_id  \\\n",
      "0             9.0              20050406.0            2                0.0   \n",
      "1             9.0              20050407.0           23                0.0   \n",
      "2             9.0              20051016.0           10                0.0   \n",
      "3             9.0              20051102.0            3               40.0   \n",
      "4             9.0              20051228.0            9               38.0   \n",
      "\n",
      "   payment_plan_days  ...  is_cancel  logs_count        date  num_25  num_50  \\\n",
      "0                0.0  ...        0.0         0.0         0.0     0.0     0.0   \n",
      "1                0.0  ...        0.0         1.0  20170319.0     0.0     0.0   \n",
      "2                0.0  ...        0.0         0.0         0.0     0.0     0.0   \n",
      "3               30.0  ...        0.0         5.0  20170331.0    28.0     4.0   \n",
      "4               90.0  ...        0.0        17.0  20170331.0     0.0     0.0   \n",
      "\n",
      "   num_75  num_985  num_100  num_unq  total_secs  \n",
      "0     0.0      0.0      0.0      0.0       0.000  \n",
      "1     0.0      0.0      1.0      1.0     281.600  \n",
      "2     0.0      0.0      0.0      0.0       0.000  \n",
      "3     5.0      4.0     19.0     51.0    6171.145  \n",
      "4     0.0      2.0     11.0     12.0    3132.042  \n",
      "\n",
      "[5 rows x 25 columns]\n",
      "Churn ratio 0.07678684814992279\n"
     ]
    }
   ],
   "source": [
    "print(\"Train shape: \", train.shape)\n",
    "#print(\"Test shape: \", test.shape)\n",
    "print(train.head())\n",
    "\n",
    "print(\"Churn ratio\", len(train[train['is_churn'] == 1])/len(train))"
   ]
  },
  {
   "cell_type": "code",
   "execution_count": 9,
   "metadata": {},
   "outputs": [],
   "source": [
    "# Create standardized features\n",
    "cols = [c for c in train.columns if c not in ['is_churn','msno']]\n",
    "\n",
    "features = train[cols]\n",
    "features = pd.DataFrame(StandardScaler().fit_transform(features))\n",
    "response = train['is_churn']\n",
    "X_train, X_test, y_train, y_test = train_test_split(features, response, test_size = 0.2, random_state=123)"
   ]
  },
  {
   "cell_type": "code",
   "execution_count": 10,
   "metadata": {},
   "outputs": [
    {
     "name": "stdout",
     "output_type": "stream",
     "text": [
      "(1571112, 23)\n",
      "(392779, 23)\n",
      "(1571112,)\n",
      "(392779,)\n",
      "               0         1         2         3         4         5         6   \\\n",
      "1503487 -0.667427 -0.615528 -0.744385  0.312943  0.364768 -0.807681  0.432716   \n",
      "1731761 -0.667427 -0.615528 -0.744385  1.015106  0.361744  0.472053  0.101595   \n",
      "1457984 -0.667427 -0.615528 -0.744385  0.312943  0.363256  0.355714  0.432716   \n",
      "1476024 -0.667427 -0.615528 -0.744385  0.312943  0.363302  0.006695  0.432716   \n",
      "1831955  1.541441  1.596697  1.797263 -1.091383  0.358477 -1.622058 -0.891768   \n",
      "\n",
      "               7         8         9   ...        13        14        15  \\\n",
      "1503487 -0.073893 -0.274676 -0.273453  ... -0.151438  0.644190  0.560553   \n",
      "1731761 -0.073893  0.069322  0.070406  ... -0.151438  0.118130  0.560553   \n",
      "1457984 -0.073893 -0.274676 -0.273453  ... -0.151438 -1.197020 -1.783953   \n",
      "1476024 -0.073893 -0.274676 -0.273453  ... -0.151438 -0.232576  0.560553   \n",
      "1831955 -0.073893  0.282601  0.283598  ... -0.151438  1.170250  0.560553   \n",
      "\n",
      "               16        17        18        19        20        21        22  \n",
      "1503487  0.742556  0.049675  0.324891  0.691218 -0.329783  0.047887 -0.262968  \n",
      "1731761  0.844549 -0.325078 -0.392615  1.193241 -0.542595 -0.194029 -0.460267  \n",
      "1457984 -0.379366 -0.325078 -0.392615 -0.312829 -0.578063 -0.677861 -0.614306  \n",
      "1476024  0.436577  0.049675 -0.392615  0.691218 -0.223378 -0.073071 -0.111742  \n",
      "1831955 -0.073387  0.424429 -0.392615 -0.312829  1.762859  1.620341  1.464424  \n",
      "\n",
      "[5 rows x 23 columns]\n"
     ]
    }
   ],
   "source": [
    "print(X_train.shape)\n",
    "print(X_test.shape)\n",
    "print(y_train.shape)\n",
    "print(y_test.shape)\n",
    "print(X_train.head())"
   ]
  },
  {
   "cell_type": "code",
   "execution_count": 11,
   "metadata": {},
   "outputs": [
    {
     "name": "stdout",
     "output_type": "stream",
     "text": [
      "(1571107, 5, 23) (1571107,)\n",
      "(392774, 5, 23) (392774,)\n",
      "1\n",
      "1\n"
     ]
    }
   ],
   "source": [
    "# Format the data for RNN\n",
    "def create_dataset(X, y, time_steps=1):\n",
    "    Xs, ys = [], []\n",
    "    for i in range(len(X) - time_steps):\n",
    "        v = X.iloc[i:(i + time_steps)].values\n",
    "        Xs.append(v)\n",
    "        ys.append(y.iloc[i + time_steps])\n",
    "    return np.array(Xs), np.array(ys)\n",
    "\n",
    "# reshape to [samples, time_steps, n_features]\n",
    "time_steps = 5\n",
    "X_train, y_train = create_dataset(X_train, y_train, time_steps)\n",
    "X_test, y_test = create_dataset(X_test, y_test, time_steps)\n",
    "\n",
    "print(X_train.shape, y_train.shape)\n",
    "print(X_test.shape, y_test.shape)\n",
    "print(max(y_train))\n",
    "print(max(y_test))"
   ]
  },
  {
   "cell_type": "code",
   "execution_count": 12,
   "metadata": {},
   "outputs": [
    {
     "name": "stdout",
     "output_type": "stream",
     "text": [
      "Model: \"sequential_1\"\n",
      "_________________________________________________________________\n",
      "Layer (type)                 Output Shape              Param #   \n",
      "=================================================================\n",
      "lstm_1 (LSTM)                (None, 128)               77824     \n",
      "_________________________________________________________________\n",
      "dropout_1 (Dropout)          (None, 128)               0         \n",
      "_________________________________________________________________\n",
      "batch_normalization_1 (Batch (None, 128)               512       \n",
      "_________________________________________________________________\n",
      "activation_1 (Activation)    (None, 128)               0         \n",
      "_________________________________________________________________\n",
      "dense_1 (Dense)              (None, 1)                 129       \n",
      "=================================================================\n",
      "Total params: 78,465\n",
      "Trainable params: 78,209\n",
      "Non-trainable params: 256\n",
      "_________________________________________________________________\n",
      "Train on 1413996 samples, validate on 157111 samples\n",
      "Epoch 1/5\n",
      "1413996/1413996 [==============================] - 140s 99us/step - loss: 0.2710 - accuracy: 0.9232 - val_loss: 0.2728 - val_accuracy: 0.9227\n",
      "Epoch 2/5\n",
      "1413996/1413996 [==============================] - 150s 106us/step - loss: 0.2691 - accuracy: 0.9232 - val_loss: 0.2737 - val_accuracy: 0.9227\n",
      "Epoch 3/5\n",
      "1413996/1413996 [==============================] - 161s 114us/step - loss: 0.2670 - accuracy: 0.9232 - val_loss: 0.2743 - val_accuracy: 0.9227\n",
      "Epoch 4/5\n",
      "1413996/1413996 [==============================] - 176s 124us/step - loss: 0.2656 - accuracy: 0.9233 - val_loss: 0.2776 - val_accuracy: 0.9227\n",
      "Epoch 5/5\n",
      "1413996/1413996 [==============================] - 124s 88us/step - loss: 0.2640 - accuracy: 0.9233 - val_loss: 0.2759 - val_accuracy: 0.9227\n",
      "<keras.callbacks.callbacks.History object at 0x1876c75f8>\n"
     ]
    }
   ],
   "source": [
    "# Make a simple model:\n",
    "model =Sequential()\n",
    "model.add(LSTM(\n",
    "  units=128,\n",
    "  input_shape=(X_train.shape[1], X_train.shape[2])\n",
    "))\n",
    "model.add(Dropout(0.1))\n",
    "model.add(BatchNormalization())\n",
    "model.add(Activation('softmax'))\n",
    "model.add(Dense(units=1))\n",
    "model.compile(loss='binary_crossentropy', optimizer=Adam(), metrics=['accuracy'])\n",
    "model.summary()\n",
    "\n",
    "history = model.fit(\n",
    "    X_train, y_train,\n",
    "    epochs=5,\n",
    "    batch_size=256,\n",
    "    validation_split=0.1,\n",
    "    verbose=1,\n",
    "    shuffle=False\n",
    ")\n",
    "\n",
    "print(history)"
   ]
  },
  {
   "cell_type": "code",
   "execution_count": 13,
   "metadata": {},
   "outputs": [
    {
     "data": {
      "text/plain": [
       "<matplotlib.legend.Legend at 0x17f7c34a8>"
      ]
     },
     "execution_count": 13,
     "metadata": {},
     "output_type": "execute_result"
    },
    {
     "data": {
      "image/png": "[encoded data removed]",
      "text/plain": [
       "<Figure size 432x288 with 1 Axes>"
      ]
     },
     "metadata": {
      "needs_background": "light"
     },
     "output_type": "display_data"
    }
   ],
   "source": [
    "plt.plot(history.history['accuracy'])\n",
    "plt.plot(history.history['val_accuracy'])\n",
    "plt.xlabel('Epochs')\n",
    "plt.ylabel('Categorical accuracy')\n",
    "plt.legend(['Training','Test'])\n",
    "\n"
   ]
  },
  {
   "cell_type": "code",
   "execution_count": 14,
   "metadata": {},
   "outputs": [
    {
     "name": "stdout",
     "output_type": "stream",
     "text": [
      "Model: \"sequential_2\"\n",
      "_________________________________________________________________\n",
      "Layer (type)                 Output Shape              Param #   \n",
      "=================================================================\n",
      "bidirectional_1 (Bidirection (None, 5, 64)             3584      \n",
      "_________________________________________________________________\n",
      "dropout_2 (Dropout)          (None, 5, 64)             0         \n",
      "_________________________________________________________________\n",
      "dense_2 (Dense)              (None, 5, 16)             1040      \n",
      "_________________________________________________________________\n",
      "batch_normalization_2 (Batch (None, 5, 16)             64        \n",
      "_________________________________________________________________\n",
      "activation_2 (Activation)    (None, 5, 16)             0         \n",
      "_________________________________________________________________\n",
      "flatten_1 (Flatten)          (None, 80)                0         \n",
      "_________________________________________________________________\n",
      "dense_3 (Dense)              (None, 1)                 81        \n",
      "=================================================================\n",
      "Total params: 4,769\n",
      "Trainable params: 4,737\n",
      "Non-trainable params: 32\n",
      "_________________________________________________________________\n",
      "Train on 1413996 samples, validate on 157111 samples\n",
      "Epoch 1/5\n",
      "1413996/1413996 [==============================] - 38s 27us/step - loss: 0.2806 - accuracy: 0.9232 - val_loss: 0.2730 - val_accuracy: 0.9227\n",
      "Epoch 2/5\n",
      "1413996/1413996 [==============================] - 38s 27us/step - loss: 0.2715 - accuracy: 0.9232 - val_loss: 0.2725 - val_accuracy: 0.9227\n",
      "Epoch 3/5\n",
      "1413996/1413996 [==============================] - 44s 31us/step - loss: 0.2712 - accuracy: 0.9232 - val_loss: 0.2726 - val_accuracy: 0.9227\n",
      "Epoch 4/5\n",
      "1413996/1413996 [==============================] - 53s 37us/step - loss: 0.2707 - accuracy: 0.9232 - val_loss: 0.2726 - val_accuracy: 0.9227\n",
      "Epoch 5/5\n",
      "1413996/1413996 [==============================] - 57s 40us/step - loss: 0.2703 - accuracy: 0.9232 - val_loss: 0.2726 - val_accuracy: 0.9227\n",
      "<keras.callbacks.callbacks.History object at 0x1878ca400>\n"
     ]
    }
   ],
   "source": [
    "# Way too many epochs, started at 30 and reduced to 5\n",
    "# Changing to Bidirections Simple RNN\n",
    "model =Sequential()\n",
    "model.add(Bidirectional(SimpleRNN(32, return_sequences=True),input_shape=(X_train.shape[1], X_train.shape[2])))\n",
    "model.add(Dropout(0.1))\n",
    "model.add(Dense(units=16))\n",
    "model.add(BatchNormalization())\n",
    "model.add(Activation('softmax'))\n",
    "model.add(Flatten())\n",
    "model.add(Dense(units=1))\n",
    "model.compile(loss='binary_crossentropy', optimizer=Adam(), metrics=['accuracy'])\n",
    "model.summary()\n",
    "\n",
    "history = model.fit(\n",
    "    X_train, y_train,\n",
    "    epochs=5,\n",
    "    batch_size=256,\n",
    "    validation_split=0.1,\n",
    "    verbose=1,\n",
    "    shuffle=False\n",
    ")\n",
    "\n",
    "print(history)"
   ]
  },
  {
   "cell_type": "code",
   "execution_count": 15,
   "metadata": {},
   "outputs": [],
   "source": [
    "def report_results(model, X, y):\n",
    "    pred = model.predict_classes(X)    \n",
    "    acc = accuracy_score(y, pred)\n",
    "    f1 = f1_score(y, pred)\n",
    "    prec = precision_score(y, pred)\n",
    "    rec = recall_score(y, pred)\n",
    "    cm = confusion_matrix(y, pred)\n",
    "    result = {'f1': f1, 'acc': acc, 'precision': prec, 'recall': rec, 'confusion_matrix': cm}\n",
    "    return result"
   ]
  },
  {
   "cell_type": "code",
   "execution_count": 16,
   "metadata": {},
   "outputs": [
    {
     "name": "stderr",
     "output_type": "stream",
     "text": [
      "/Users/annelise/.pyenv/versions/3.6.4/envs/csci/lib/python3.6/site-packages/sklearn/metrics/_classification.py:1272: UndefinedMetricWarning: Precision is ill-defined and being set to 0.0 due to no predicted samples. Use `zero_division` parameter to control this behavior.\n",
      "  _warn_prf(average, modifier, msg_start, len(result))\n"
     ]
    },
    {
     "name": "stdout",
     "output_type": "stream",
     "text": [
      "{'f1': 0.0, 'acc': 0.9233783295228299, 'precision': 0.0, 'recall': 0.0, 'confusion_matrix': array([[362679,      0],\n",
      "       [ 30095,      0]])}\n"
     ]
    },
    {
     "data": {
      "image/png": "[encoded data removed]",
      "text/plain": [
       "<Figure size 432x288 with 1 Axes>"
      ]
     },
     "metadata": {
      "needs_background": "light"
     },
     "output_type": "display_data"
    }
   ],
   "source": [
    "# Plot and predict before moving on\n",
    "plt.plot(history.history['accuracy'])\n",
    "plt.plot(history.history['val_accuracy'])\n",
    "plt.xlabel('Epochs')\n",
    "plt.ylabel('Categorical accuracy')\n",
    "plt.legend(['Training','Test'])\n",
    "\n",
    "test_results = report_results(model, X_test, y_test)\n",
    "print(test_results)\n",
    "\n",
    "# error in prediction, I think this is because I did not create the test time_steps. are we supposed to do that? Probably.\n",
    "# Adding in above and rerunning time-step processing for test data as well\n"
   ]
  },
  {
   "cell_type": "code",
   "execution_count": 17,
   "metadata": {},
   "outputs": [
    {
     "name": "stdout",
     "output_type": "stream",
     "text": [
      "Model: \"sequential_3\"\n",
      "_________________________________________________________________\n",
      "Layer (type)                 Output Shape              Param #   \n",
      "=================================================================\n",
      "gru_1 (GRU)                  (None, 64)                16896     \n",
      "_________________________________________________________________\n",
      "dropout_3 (Dropout)          (None, 64)                0         \n",
      "_________________________________________________________________\n",
      "dense_4 (Dense)              (None, 1)                 65        \n",
      "=================================================================\n",
      "Total params: 16,961\n",
      "Trainable params: 16,961\n",
      "Non-trainable params: 0\n",
      "_________________________________________________________________\n",
      "Train on 1413996 samples, validate on 157111 samples\n",
      "Epoch 1/5\n",
      "1413996/1413996 [==============================] - 80s 56us/step - loss: 0.2742 - accuracy: 0.9226 - val_loss: 0.2724 - val_accuracy: 0.9227\n",
      "Epoch 2/5\n",
      "1413996/1413996 [==============================] - 60s 43us/step - loss: 0.2719 - accuracy: 0.9232 - val_loss: 0.2723 - val_accuracy: 0.9227\n",
      "Epoch 3/5\n",
      "1413996/1413996 [==============================] - 55s 39us/step - loss: 0.2716 - accuracy: 0.9232 - val_loss: 0.2723 - val_accuracy: 0.9227\n",
      "Epoch 4/5\n",
      "1413996/1413996 [==============================] - 60s 43us/step - loss: 0.2714 - accuracy: 0.9232 - val_loss: 0.2723 - val_accuracy: 0.9227\n",
      "Epoch 5/5\n",
      "1413996/1413996 [==============================] - 107s 75us/step - loss: 0.2713 - accuracy: 0.9232 - val_loss: 0.2723 - val_accuracy: 0.9227\n",
      "<keras.callbacks.callbacks.History object at 0x1a92e9fd0>\n"
     ]
    }
   ],
   "source": [
    "# Using the tips for vanishing/exploding gradients from this blog: https://www.dlology.com/blog/how-to-deal-with-vanishingexploding-gradients-in-keras/\n",
    "# Using GRU instead of LSTM per the blog recommendations\n",
    "# Computationally more expensive but better for POCs like this\n",
    "model=Sequential()\n",
    "# model.add(Embedding(input_dim=1000, output_dim=128))\n",
    "model.add(GRU(64,input_shape=(X_train.shape[1], X_train.shape[2])))\n",
    "model.add(Dropout(0.2))\n",
    "# model.add(Flatten())\n",
    "model.add(Dense(1, activation='sigmoid'))\n",
    "model.compile(loss='binary_crossentropy', optimizer=Adam(), metrics=['accuracy'])\n",
    "model.summary()\n",
    "\n",
    "\n",
    "history = model.fit(\n",
    "    X_train, y_train,\n",
    "    epochs=5,\n",
    "    batch_size=256,\n",
    "    validation_split=0.1,\n",
    "    verbose=1,\n",
    "    shuffle=False\n",
    ")\n",
    "\n",
    "print(history)"
   ]
  },
  {
   "cell_type": "code",
   "execution_count": 18,
   "metadata": {},
   "outputs": [
    {
     "name": "stdout",
     "output_type": "stream",
     "text": [
      "{'f1': 0.0, 'acc': 0.9233783295228299, 'precision': 0.0, 'recall': 0.0, 'confusion_matrix': array([[362679,      0],\n",
      "       [ 30095,      0]])}\n"
     ]
    },
    {
     "data": {
      "image/png": "[encoded data removed]",
      "text/plain": [
       "<Figure size 432x288 with 1 Axes>"
      ]
     },
     "metadata": {
      "needs_background": "light"
     },
     "output_type": "display_data"
    }
   ],
   "source": [
    "# Plot and predict before moving on\n",
    "plt.plot(history.history['accuracy'])\n",
    "plt.plot(history.history['val_accuracy'])\n",
    "plt.xlabel('Epochs')\n",
    "plt.ylabel('Categorical accuracy')\n",
    "plt.legend(['Training','Test'])\n",
    "\n",
    "test_results = report_results(model, X_test, y_test)\n",
    "print(test_results)\n",
    "\n",
    "# error in prediction, I think this is because I did not create the test time_steps. are we supposed to do that? Probably.\n",
    "# Adding in above and rerunning time-step processing for test data as well\n"
   ]
  },
  {
   "cell_type": "code",
   "execution_count": 19,
   "metadata": {},
   "outputs": [
    {
     "name": "stdout",
     "output_type": "stream",
     "text": [
      "Model: \"sequential_4\"\n",
      "_________________________________________________________________\n",
      "Layer (type)                 Output Shape              Param #   \n",
      "=================================================================\n",
      "gru_2 (GRU)                  (None, 64)                16896     \n",
      "_________________________________________________________________\n",
      "dropout_4 (Dropout)          (None, 64)                0         \n",
      "_________________________________________________________________\n",
      "dense_5 (Dense)              (None, 1)                 65        \n",
      "=================================================================\n",
      "Total params: 16,961\n",
      "Trainable params: 16,961\n",
      "Non-trainable params: 0\n",
      "_________________________________________________________________\n",
      "Train on 1413996 samples, validate on 157111 samples\n",
      "Epoch 1/3\n",
      "1413996/1413996 [==============================] - 75s 53us/step - loss: 0.2787 - accuracy: 0.9211 - val_loss: 0.2725 - val_accuracy: 0.9227\n",
      "Epoch 2/3\n",
      "1413996/1413996 [==============================] - 58s 41us/step - loss: 0.2721 - accuracy: 0.9232 - val_loss: 0.2724 - val_accuracy: 0.9227\n",
      "Epoch 3/3\n",
      "1413996/1413996 [==============================] - 55s 39us/step - loss: 0.2719 - accuracy: 0.9232 - val_loss: 0.2724 - val_accuracy: 0.9227\n",
      "<keras.callbacks.callbacks.History object at 0x18d6d1ba8>\n"
     ]
    }
   ],
   "source": [
    "# Increasing the batch size after watching the accuracy decrease rapidly during an epoch\n",
    "# Using the tips for vanishing/exploding gradients from this blog: https://www.dlology.com/blog/how-to-deal-with-vanishingexploding-gradients-in-keras/\n",
    "# Using GRU instead of LSTM per the blog recommendations\n",
    "# Computationally more expensive but better for POCs like this\n",
    "model=Sequential()\n",
    "# model.add(Embedding(input_dim=1000, output_dim=128))\n",
    "model.add(GRU(64,input_shape=(X_train.shape[1], X_train.shape[2])))\n",
    "model.add(Dropout(0.2))\n",
    "# model.add(Flatten())\n",
    "model.add(Dense(1, activation='sigmoid'))\n",
    "model.compile(loss='binary_crossentropy', optimizer=Adam(), metrics=['accuracy'])\n",
    "model.summary()\n",
    "\n",
    "\n",
    "history = model.fit(\n",
    "    X_train, y_train,\n",
    "    epochs=3,\n",
    "    batch_size=1026,\n",
    "    validation_split=0.1,\n",
    "    verbose=1,\n",
    "    shuffle=False\n",
    ")\n",
    "\n",
    "print(history)"
   ]
  },
  {
   "cell_type": "code",
   "execution_count": 20,
   "metadata": {},
   "outputs": [
    {
     "name": "stdout",
     "output_type": "stream",
     "text": [
      "{'f1': 0.0, 'acc': 0.9233783295228299, 'precision': 0.0, 'recall': 0.0, 'confusion_matrix': array([[362679,      0],\n",
      "       [ 30095,      0]])}\n"
     ]
    },
    {
     "data": {
      "image/png": "[encoded data removed]",
      "text/plain": [
       "<Figure size 432x288 with 1 Axes>"
      ]
     },
     "metadata": {
      "needs_background": "light"
     },
     "output_type": "display_data"
    }
   ],
   "source": [
    "# Plot and predict before moving on\n",
    "plt.plot(history.history['accuracy'])\n",
    "plt.plot(history.history['val_accuracy'])\n",
    "plt.xlabel('Epochs')\n",
    "plt.ylabel('Categorical accuracy')\n",
    "plt.legend(['Training','Test'])\n",
    "\n",
    "test_results = report_results(model, X_test, y_test)\n",
    "print(test_results)\n"
   ]
  },
  {
   "cell_type": "code",
   "execution_count": 21,
   "metadata": {},
   "outputs": [
    {
     "name": "stdout",
     "output_type": "stream",
     "text": [
      "Model: \"sequential_5\"\n",
      "_________________________________________________________________\n",
      "Layer (type)                 Output Shape              Param #   \n",
      "=================================================================\n",
      "lstm_2 (LSTM)                (None, 128)               77824     \n",
      "_________________________________________________________________\n",
      "dense_6 (Dense)              (None, 128)               16512     \n",
      "_________________________________________________________________\n",
      "batch_normalization_3 (Batch (None, 128)               512       \n",
      "_________________________________________________________________\n",
      "dropout_5 (Dropout)          (None, 128)               0         \n",
      "_________________________________________________________________\n",
      "dense_7 (Dense)              (None, 64)                8256      \n",
      "_________________________________________________________________\n",
      "batch_normalization_4 (Batch (None, 64)                256       \n",
      "_________________________________________________________________\n",
      "dropout_6 (Dropout)          (None, 64)                0         \n",
      "_________________________________________________________________\n",
      "dense_8 (Dense)              (None, 32)                2080      \n",
      "_________________________________________________________________\n",
      "dropout_7 (Dropout)          (None, 32)                0         \n",
      "_________________________________________________________________\n",
      "dense_9 (Dense)              (None, 1)                 33        \n",
      "=================================================================\n",
      "Total params: 105,473\n",
      "Trainable params: 105,089\n",
      "Non-trainable params: 384\n",
      "_________________________________________________________________\n",
      "Train on 1256885 samples, validate on 314222 samples\n",
      "Epoch 1/5\n",
      "1256885/1256885 [==============================] - 143s 114us/step - loss: 0.4881 - accuracy: 0.9186 - val_loss: 0.2821 - val_accuracy: 0.9226\n",
      "Epoch 2/5\n",
      "1256885/1256885 [==============================] - 142s 113us/step - loss: 0.2725 - accuracy: 0.9233 - val_loss: 0.2864 - val_accuracy: 0.9226\n",
      "Epoch 3/5\n",
      "1256885/1256885 [==============================] - 123s 98us/step - loss: 0.2721 - accuracy: 0.9233 - val_loss: 0.2733 - val_accuracy: 0.9226\n",
      "Epoch 4/5\n",
      "1256885/1256885 [==============================] - 143s 114us/step - loss: 0.2718 - accuracy: 0.9233 - val_loss: 0.2737 - val_accuracy: 0.9226\n",
      "Epoch 5/5\n",
      "1256885/1256885 [==============================] - 140s 111us/step - loss: 0.2716 - accuracy: 0.9233 - val_loss: 0.2731 - val_accuracy: 0.9226\n"
     ]
    }
   ],
   "source": [
    "# Model 2, adding SimpleRNN, GRU, or LSTM to the best model found here: https://www.kaggle.com/ripcurl/feedforward-neural-network-0-12174\n",
    "lsize = 128\n",
    "model = Sequential()\n",
    "# model.add(SimpleRNN(32, return_sequences=True, input_shape=(X_train.shape[1], X_train.shape[2])))\n",
    "model.add(LSTM(\n",
    "  units=128,\n",
    "  input_shape=(X_train.shape[1], X_train.shape[2])\n",
    "))\n",
    "model.add(Dense(lsize, input_dim=int(X_train.shape[1]),activation='relu'))\n",
    "model.add(BatchNormalization())\n",
    "model.add(Dropout(rate=0.25))\n",
    "model.add(Dense(int(lsize/2), activation='relu'))\n",
    "model.add(BatchNormalization())\n",
    "model.add(Dropout(rate=0.25))\n",
    "model.add(Dense(int(lsize/4),kernel_regularizer=regularizers.l2(0.1), activation='relu'))\n",
    "model.add(Dropout(rate=0.1))\n",
    "model.add(Dense(1, activation='sigmoid'))\n",
    "\n",
    "# Compile model\n",
    "model.compile(loss='binary_crossentropy', optimizer='adadelta', metrics=['accuracy'])\n",
    "model.summary()\n",
    "\n",
    "# Fit the model\n",
    "history = model.fit(X_train, y_train, epochs=5, batch_size=1026,\n",
    "                    validation_split=0.2, verbose=1)"
   ]
  },
  {
   "cell_type": "code",
   "execution_count": 22,
   "metadata": {},
   "outputs": [
    {
     "name": "stderr",
     "output_type": "stream",
     "text": [
      "/Users/annelise/.pyenv/versions/3.6.4/envs/csci/lib/python3.6/site-packages/sklearn/metrics/_classification.py:1272: UndefinedMetricWarning: Precision is ill-defined and being set to 0.0 due to no predicted samples. Use `zero_division` parameter to control this behavior.\n",
      "  _warn_prf(average, modifier, msg_start, len(result))\n"
     ]
    },
    {
     "name": "stdout",
     "output_type": "stream",
     "text": [
      "{'f1': 0.0, 'acc': 0.9233783295228299, 'precision': 0.0, 'recall': 0.0, 'confusion_matrix': array([[362679,      0],\n",
      "       [ 30095,      0]])}\n"
     ]
    },
    {
     "data": {
      "image/png": "[encoded data removed]",
      "text/plain": [
       "<Figure size 432x288 with 1 Axes>"
      ]
     },
     "metadata": {
      "needs_background": "light"
     },
     "output_type": "display_data"
    }
   ],
   "source": [
    "# Plot and predict before moving on\n",
    "plt.plot(history.history['accuracy'])\n",
    "plt.plot(history.history['val_accuracy'])\n",
    "plt.xlabel('Epochs')\n",
    "plt.ylabel('Categorical accuracy')\n",
    "plt.legend(['Training','Test'])\n",
    "\n",
    "test_results = report_results(model, X_test, y_test)\n",
    "print(test_results)\n"
   ]
  },
  {
   "cell_type": "code",
   "execution_count": 24,
   "metadata": {},
   "outputs": [
    {
     "name": "stdout",
     "output_type": "stream",
     "text": [
      "Model: \"sequential_7\"\n",
      "_________________________________________________________________\n",
      "Layer (type)                 Output Shape              Param #   \n",
      "=================================================================\n",
      "dense_14 (Dense)             (None, 128)               3072      \n",
      "_________________________________________________________________\n",
      "batch_normalization_7 (Batch (None, 128)               512       \n",
      "_________________________________________________________________\n",
      "dropout_11 (Dropout)         (None, 128)               0         \n",
      "_________________________________________________________________\n",
      "dense_15 (Dense)             (None, 64)                8256      \n",
      "_________________________________________________________________\n",
      "batch_normalization_8 (Batch (None, 64)                256       \n",
      "_________________________________________________________________\n",
      "dropout_12 (Dropout)         (None, 64)                0         \n",
      "_________________________________________________________________\n",
      "dense_16 (Dense)             (None, 32)                2080      \n",
      "_________________________________________________________________\n",
      "dropout_13 (Dropout)         (None, 32)                0         \n",
      "_________________________________________________________________\n",
      "dense_17 (Dense)             (None, 1)                 33        \n",
      "=================================================================\n",
      "Total params: 14,209\n",
      "Trainable params: 13,825\n",
      "Non-trainable params: 384\n",
      "_________________________________________________________________\n",
      "Train on 1256889 samples, validate on 314223 samples\n",
      "Epoch 1/5\n",
      "1256889/1256889 [==============================] - 13s 10us/step - loss: 0.3494 - accuracy: 0.9521 - val_loss: 0.1457 - val_accuracy: 0.9490\n",
      "Epoch 2/5\n",
      "1256889/1256889 [==============================] - 12s 10us/step - loss: 0.1194 - accuracy: 0.9569 - val_loss: 0.1662 - val_accuracy: 0.9226\n",
      "Epoch 3/5\n",
      "1256889/1256889 [==============================] - 16s 13us/step - loss: 0.1168 - accuracy: 0.9572 - val_loss: 0.1590 - val_accuracy: 0.9519\n",
      "Epoch 4/5\n",
      "1256889/1256889 [==============================] - 11s 9us/step - loss: 0.1158 - accuracy: 0.9575 - val_loss: 0.1203 - val_accuracy: 0.9568\n",
      "Epoch 5/5\n",
      "1256889/1256889 [==============================] - 10s 8us/step - loss: 0.1151 - accuracy: 0.9576 - val_loss: 0.1189 - val_accuracy: 0.9542\n"
     ]
    }
   ],
   "source": [
    "# Try it without RNN\n",
    "# Model 2, adding SimpleRNN, GRU, or LSTM to the best model found here: https://www.kaggle.com/ripcurl/feedforward-neural-network-0-12174\n",
    "\n",
    "# Create standardized features\n",
    "cols = [c for c in train.columns if c not in ['is_churn','msno']]\n",
    "\n",
    "features = train[cols]\n",
    "features = pd.DataFrame(StandardScaler().fit_transform(features))\n",
    "response = train['is_churn']\n",
    "X_train_notrnn, X_test_notrnn, y_train_notrnn, y_test_notrnn = train_test_split(features, response, test_size = 0.2, random_state=123)\n",
    "\n",
    "lsize = 128\n",
    "model = Sequential()\n",
    "model.add(Dense(lsize, input_dim=int(X_train_notrnn.shape[1]),activation='relu'))\n",
    "model.add(BatchNormalization())\n",
    "model.add(Dropout(rate=0.25))\n",
    "model.add(Dense(int(lsize/2), activation='relu'))\n",
    "model.add(BatchNormalization())\n",
    "model.add(Dropout(rate=0.25))\n",
    "model.add(Dense(int(lsize/4),kernel_regularizer=regularizers.l2(0.1), activation='relu'))\n",
    "model.add(Dropout(rate=0.1))\n",
    "model.add(Dense(1, activation='sigmoid'))\n",
    "\n",
    "# Compile model\n",
    "model.compile(loss='binary_crossentropy', optimizer='adadelta', metrics=['accuracy'])\n",
    "model.summary()\n",
    "\n",
    "# Fit the model\n",
    "history = model.fit(X_train_notrnn, y_train_notrnn, epochs=5, batch_size=1026,\n",
    "                    validation_split=0.2, verbose=1)"
   ]
  },
  {
   "cell_type": "code",
   "execution_count": 25,
   "metadata": {},
   "outputs": [
    {
     "name": "stdout",
     "output_type": "stream",
     "text": [
      "{'f1': 0.6099828939865783, 'acc': 0.9547226302831873, 'precision': 0.8970521834483648, 'recall': 0.4621033394251537, 'confusion_matrix': array([[361088,   1596],\n",
      "       [ 16188,  13907]])}\n"
     ]
    },
    {
     "data": {
      "image/png": "[encoded data removed]",
      "text/plain": [
       "<Figure size 432x288 with 1 Axes>"
      ]
     },
     "metadata": {
      "needs_background": "light"
     },
     "output_type": "display_data"
    }
   ],
   "source": [
    "# Plot and predict before moving on\n",
    "plt.plot(history.history['accuracy'])\n",
    "plt.plot(history.history['val_accuracy'])\n",
    "plt.xlabel('Epochs')\n",
    "plt.ylabel('Categorical accuracy')\n",
    "plt.legend(['Training','Test'])\n",
    "\n",
    "test_results = report_results(model, X_test_notrnn, y_test_notrnn)\n",
    "print(test_results)\n"
   ]
  },
  {
   "cell_type": "code",
   "execution_count": null,
   "metadata": {},
   "outputs": [],
   "source": [
    "# Other things to try:\n",
    "# Do some feature tuning and selection\n",
    "# sample train/test on visitor, not just randomness. that will actually probably make the RNN function properly\n",
    "# account for unbalanced data set"
   ]
  },
  {
   "cell_type": "code",
   "execution_count": 31,
   "metadata": {},
   "outputs": [
    {
     "name": "stdout",
     "output_type": "stream",
     "text": [
      "RandomOverSampler Counter({0: 1450406, 1: 1450406})\n",
      "(2900807, 5, 23) (2900807,)\n",
      "(392774, 5, 23) (392774,)\n",
      "Model: \"sequential_9\"\n",
      "_________________________________________________________________\n",
      "Layer (type)                 Output Shape              Param #   \n",
      "=================================================================\n",
      "lstm_3 (LSTM)                (None, 128)               77824     \n",
      "_________________________________________________________________\n",
      "dense_18 (Dense)             (None, 128)               16512     \n",
      "_________________________________________________________________\n",
      "batch_normalization_9 (Batch (None, 128)               512       \n",
      "_________________________________________________________________\n",
      "dropout_14 (Dropout)         (None, 128)               0         \n",
      "_________________________________________________________________\n",
      "dense_19 (Dense)             (None, 64)                8256      \n",
      "_________________________________________________________________\n",
      "batch_normalization_10 (Batc (None, 64)                256       \n",
      "_________________________________________________________________\n",
      "dropout_15 (Dropout)         (None, 64)                0         \n",
      "_________________________________________________________________\n",
      "dense_20 (Dense)             (None, 32)                2080      \n",
      "_________________________________________________________________\n",
      "dropout_16 (Dropout)         (None, 32)                0         \n",
      "_________________________________________________________________\n",
      "dense_21 (Dense)             (None, 1)                 33        \n",
      "=================================================================\n",
      "Total params: 105,473\n",
      "Trainable params: 105,089\n",
      "Non-trainable params: 384\n",
      "_________________________________________________________________\n",
      "Train on 2320645 samples, validate on 580162 samples\n",
      "Epoch 1/5\n",
      "2320645/2320645 [==============================] - 769s 331us/step - loss: 0.3303 - accuracy: 0.9345 - val_loss: 0.0465 - val_accuracy: 0.9822\n",
      "Epoch 2/5\n",
      "2320645/2320645 [==============================] - 1028s 443us/step - loss: 0.2128 - accuracy: 0.9373 - val_loss: 0.0370 - val_accuracy: 0.9850\n",
      "Epoch 3/5\n",
      "2320645/2320645 [==============================] - 904s 390us/step - loss: 0.2105 - accuracy: 0.9380 - val_loss: 0.0391 - val_accuracy: 0.9841\n",
      "Epoch 4/5\n",
      "2320645/2320645 [==============================] - 849s 366us/step - loss: 0.2093 - accuracy: 0.9383 - val_loss: 0.0257 - val_accuracy: 0.9898\n",
      "Epoch 5/5\n",
      "2320645/2320645 [==============================] - 915s 394us/step - loss: 0.2085 - accuracy: 0.9385 - val_loss: 0.0325 - val_accuracy: 0.9867\n"
     ]
    }
   ],
   "source": [
    "# Unbalanced data set mitigation\n",
    "from imblearn.over_sampling import  RandomOverSampler\n",
    "\n",
    "# Reset data without time frame\n",
    "cols = [c for c in train.columns if c not in ['is_churn','msno']]\n",
    "\n",
    "features = train[cols]\n",
    "features = pd.DataFrame(StandardScaler().fit_transform(features))\n",
    "response = train['is_churn']\n",
    "X_train, X_test, y_train, y_test = train_test_split(features, response, test_size = 0.2, random_state=123)\n",
    "\n",
    "# Over sample\n",
    "sampler = RandomOverSampler()\n",
    "X_rs, y_rs = sampler.fit_resample(X_train, y_train)\n",
    "print('RandomOverSampler {}'.format(Counter(y_rs)))\n",
    "\n",
    "# Format the data for RNN\n",
    "def create_dataset(X, y, time_steps=1):\n",
    "    Xs, ys = [], []\n",
    "    for i in range(len(X) - time_steps):\n",
    "        v = X.iloc[i:(i + time_steps)].values\n",
    "        Xs.append(v)\n",
    "        ys.append(y.iloc[i + time_steps])\n",
    "    return np.array(Xs), np.array(ys)\n",
    "\n",
    "# reshape to [samples, time_steps, n_features]\n",
    "time_steps = 5\n",
    "X_rs, y_rs = create_dataset(X_rs, y_rs, time_steps)\n",
    "X_test, y_test = create_dataset(X_test, y_test, time_steps)\n",
    "\n",
    "print(X_rs.shape, y_rs.shape)\n",
    "print(X_test.shape, y_test.shape)\n",
    "\n",
    "\n",
    "lsize = 128\n",
    "model = Sequential()\n",
    "model.add(LSTM(\n",
    "  units=128,\n",
    "  input_shape=(X_rs.shape[1], X_rs.shape[2])\n",
    "))\n",
    "model.add(Dense(lsize, input_dim=int(X_rs.shape[1]),activation='relu'))\n",
    "model.add(BatchNormalization())\n",
    "model.add(Dropout(rate=0.25))\n",
    "model.add(Dense(int(lsize/2), activation='relu'))\n",
    "model.add(BatchNormalization())\n",
    "model.add(Dropout(rate=0.25))\n",
    "model.add(Dense(int(lsize/4),kernel_regularizer=regularizers.l2(0.1), activation='relu'))\n",
    "model.add(Dropout(rate=0.1))\n",
    "model.add(Dense(1, activation='sigmoid'))\n",
    "\n",
    "# Compile model\n",
    "model.compile(loss='binary_crossentropy', optimizer='adadelta', metrics=['accuracy'])\n",
    "model.summary()\n",
    "\n",
    "# Fit the model\n",
    "history = model.fit(X_rs, y_rs, epochs=5, batch_size=1026,\n",
    "                    validation_split=0.2, verbose=1)"
   ]
  },
  {
   "cell_type": "code",
   "execution_count": 32,
   "metadata": {},
   "outputs": [
    {
     "name": "stdout",
     "output_type": "stream",
     "text": [
      "{'f1': 0.014546542951212212, 'acc': 0.91617571427844, 'precision': 0.07330316742081448, 'recall': 0.008074430968599436, 'confusion_matrix': array([[359607,   3072],\n",
      "       [ 29852,    243]])}\n"
     ]
    },
    {
     "data": {
      "image/png": "[encoded data removed]",
      "text/plain": [
       "<Figure size 432x288 with 1 Axes>"
      ]
     },
     "metadata": {
      "needs_background": "light"
     },
     "output_type": "display_data"
    }
   ],
   "source": [
    "# Plot and predict before moving on\n",
    "plt.plot(history.history['accuracy'])\n",
    "plt.plot(history.history['val_accuracy'])\n",
    "plt.xlabel('Epochs')\n",
    "plt.ylabel('Categorical accuracy')\n",
    "plt.legend(['Training','Test'])\n",
    "\n",
    "test_results = report_results(model, X_test, y_test)\n",
    "print(test_results)\n"
   ]
  },
  {
   "cell_type": "code",
   "execution_count": 33,
   "metadata": {},
   "outputs": [
    {
     "name": "stdout",
     "output_type": "stream",
     "text": [
      "RandomOverSampler Counter({0: 1450406, 1: 1450406})\n",
      "(2900807, 5, 23) (2900807,)\n",
      "(392774, 5, 23) (392774,)\n",
      "Model: \"sequential_10\"\n",
      "_________________________________________________________________\n",
      "Layer (type)                 Output Shape              Param #   \n",
      "=================================================================\n",
      "lstm_4 (LSTM)                (None, 128)               77824     \n",
      "_________________________________________________________________\n",
      "dense_22 (Dense)             (None, 128)               16512     \n",
      "_________________________________________________________________\n",
      "batch_normalization_11 (Batc (None, 128)               512       \n",
      "_________________________________________________________________\n",
      "dropout_17 (Dropout)         (None, 128)               0         \n",
      "_________________________________________________________________\n",
      "dense_23 (Dense)             (None, 64)                8256      \n",
      "_________________________________________________________________\n",
      "batch_normalization_12 (Batc (None, 64)                256       \n",
      "_________________________________________________________________\n",
      "dropout_18 (Dropout)         (None, 64)                0         \n",
      "_________________________________________________________________\n",
      "dense_24 (Dense)             (None, 32)                2080      \n",
      "_________________________________________________________________\n",
      "dropout_19 (Dropout)         (None, 32)                0         \n",
      "_________________________________________________________________\n",
      "dense_25 (Dense)             (None, 1)                 33        \n",
      "=================================================================\n",
      "Total params: 105,473\n",
      "Trainable params: 105,089\n",
      "Non-trainable params: 384\n",
      "_________________________________________________________________\n",
      "Train on 2320645 samples, validate on 580162 samples\n",
      "Epoch 1/5\n",
      "2320645/2320645 [==============================] - 219s 95us/step - loss: 0.3246 - accuracy: 0.9345 - val_loss: 0.0439 - val_accuracy: 0.9830\n",
      "Epoch 2/5\n",
      "2320645/2320645 [==============================] - 207s 89us/step - loss: 0.2124 - accuracy: 0.9374 - val_loss: 0.0497 - val_accuracy: 0.9811\n",
      "Epoch 3/5\n",
      "2320645/2320645 [==============================] - 184s 79us/step - loss: 0.2103 - accuracy: 0.9381 - val_loss: 0.0335 - val_accuracy: 0.9868\n",
      "Epoch 4/5\n",
      "2320645/2320645 [==============================] - 203s 87us/step - loss: 0.2093 - accuracy: 0.9383 - val_loss: 0.0380 - val_accuracy: 0.9848\n",
      "Epoch 5/5\n",
      "2320645/2320645 [==============================] - 246s 106us/step - loss: 0.2086 - accuracy: 0.9385 - val_loss: 0.0378 - val_accuracy: 0.9847\n"
     ]
    }
   ],
   "source": [
    "from imblearn.over_sampling import SMOTE, ADASYN\n",
    "\n",
    "# Reset data without time frame\n",
    "cols = [c for c in train.columns if c not in ['is_churn','msno']]\n",
    "\n",
    "features = train[cols]\n",
    "features = pd.DataFrame(StandardScaler().fit_transform(features))\n",
    "response = train['is_churn']\n",
    "X_train, X_test, y_train, y_test = train_test_split(features, response, test_size = 0.2, random_state=123)\n",
    "\n",
    "# Over sample\n",
    "sampler = RandomOverSampler()\n",
    "X_rs, y_rs = sampler.fit_resample(X_train, y_train)\n",
    "print('RandomOverSampler {}'.format(Counter(y_rs)))\n",
    "\n",
    "# Format the data for RNN\n",
    "def create_dataset(X, y, time_steps=1):\n",
    "    Xs, ys = [], []\n",
    "    for i in range(len(X) - time_steps):\n",
    "        v = X.iloc[i:(i + time_steps)].values\n",
    "        Xs.append(v)\n",
    "        ys.append(y.iloc[i + time_steps])\n",
    "    return np.array(Xs), np.array(ys)\n",
    "\n",
    "# reshape to [samples, time_steps, n_features]\n",
    "time_steps = 5\n",
    "X_rs, y_rs = create_dataset(X_rs, y_rs, time_steps)\n",
    "X_test, y_test = create_dataset(X_test, y_test, time_steps)\n",
    "\n",
    "print(X_rs.shape, y_rs.shape)\n",
    "print(X_test.shape, y_test.shape)\n",
    "\n",
    "lsize = 128\n",
    "model = Sequential()\n",
    "# model.add(SimpleRNN(32, return_sequences=True, input_shape=(X_train.shape[1], X_train.shape[2])))\n",
    "model.add(LSTM(\n",
    "  units=128,\n",
    "  input_shape=(X_rs.shape[1], X_rs.shape[2])\n",
    "))\n",
    "model.add(Dense(lsize, input_dim=int(X_rs.shape[1]),activation='relu'))\n",
    "model.add(BatchNormalization())\n",
    "model.add(Dropout(rate=0.25))\n",
    "model.add(Dense(int(lsize/2), activation='relu'))\n",
    "model.add(BatchNormalization())\n",
    "model.add(Dropout(rate=0.25))\n",
    "model.add(Dense(int(lsize/4),kernel_regularizer=regularizers.l2(0.1), activation='relu'))\n",
    "model.add(Dropout(rate=0.1))\n",
    "model.add(Dense(1, activation='sigmoid'))\n",
    "\n",
    "# Compile model\n",
    "model.compile(loss='binary_crossentropy', optimizer='adadelta', metrics=['accuracy'])\n",
    "model.summary()\n",
    "\n",
    "# Fit the model\n",
    "history = model.fit(X_rs, y_rs, epochs=5, batch_size=1026,\n",
    "                    validation_split=0.2, verbose=1)"
   ]
  },
  {
   "cell_type": "code",
   "execution_count": 34,
   "metadata": {},
   "outputs": [
    {
     "name": "stdout",
     "output_type": "stream",
     "text": [
      "{'f1': 0.013442732144479096, 'acc': 0.9170388060309491, 'precision': 0.07566462167689161, 'recall': 0.007376640637979731, 'confusion_matrix': array([[359967,   2712],\n",
      "       [ 29873,    222]])}\n"
     ]
    },
    {
     "data": {
      "image/png": "[encoded data removed]",
      "text/plain": [
       "<Figure size 432x288 with 1 Axes>"
      ]
     },
     "metadata": {
      "needs_background": "light"
     },
     "output_type": "display_data"
    }
   ],
   "source": [
    "# Plot and predict before moving on\n",
    "plt.plot(history.history['accuracy'])\n",
    "plt.plot(history.history['val_accuracy'])\n",
    "plt.xlabel('Epochs')\n",
    "plt.ylabel('Categorical accuracy')\n",
    "plt.legend(['Training','Test'])\n",
    "\n",
    "test_results = report_results(model, X_test, y_test)\n",
    "print(test_results)\n"
   ]
  },
  {
   "cell_type": "code",
   "execution_count": 35,
   "metadata": {},
   "outputs": [
    {
     "name": "stdout",
     "output_type": "stream",
     "text": [
      "RandomOverSampler Counter({0: 1450406, 1: 1450406})\n",
      "(2900807, 5, 23) (2900807,)\n",
      "(392774, 5, 23) (392774,)\n",
      "Model: \"sequential_11\"\n",
      "_________________________________________________________________\n",
      "Layer (type)                 Output Shape              Param #   \n",
      "=================================================================\n",
      "lstm_5 (LSTM)                (None, 128)               77824     \n",
      "_________________________________________________________________\n",
      "dense_26 (Dense)             (None, 128)               16512     \n",
      "_________________________________________________________________\n",
      "batch_normalization_13 (Batc (None, 128)               512       \n",
      "_________________________________________________________________\n",
      "dropout_20 (Dropout)         (None, 128)               0         \n",
      "_________________________________________________________________\n",
      "dense_27 (Dense)             (None, 64)                8256      \n",
      "_________________________________________________________________\n",
      "batch_normalization_14 (Batc (None, 64)                256       \n",
      "_________________________________________________________________\n",
      "dropout_21 (Dropout)         (None, 64)                0         \n",
      "_________________________________________________________________\n",
      "dense_28 (Dense)             (None, 32)                2080      \n",
      "_________________________________________________________________\n",
      "dropout_22 (Dropout)         (None, 32)                0         \n",
      "_________________________________________________________________\n",
      "dense_29 (Dense)             (None, 1)                 33        \n",
      "=================================================================\n",
      "Total params: 105,473\n",
      "Trainable params: 105,089\n",
      "Non-trainable params: 384\n",
      "_________________________________________________________________\n",
      "Train on 2320645 samples, validate on 580162 samples\n",
      "Epoch 1/5\n",
      "2320645/2320645 [==============================] - 368s 158us/step - loss: 0.3311 - accuracy: 0.9344 - val_loss: 0.0285 - val_accuracy: 0.9894\n",
      "Epoch 2/5\n",
      "2320645/2320645 [==============================] - 370s 160us/step - loss: 0.2129 - accuracy: 0.9372 - val_loss: 0.0473 - val_accuracy: 0.9821\n",
      "Epoch 3/5\n",
      "2320645/2320645 [==============================] - 270s 116us/step - loss: 0.2108 - accuracy: 0.9378 - val_loss: 0.0345 - val_accuracy: 0.9862\n",
      "Epoch 4/5\n",
      "2320645/2320645 [==============================] - 216s 93us/step - loss: 0.2097 - accuracy: 0.9381 - val_loss: 0.0526 - val_accuracy: 0.9805\n",
      "Epoch 5/5\n",
      "2320645/2320645 [==============================] - 242s 104us/step - loss: 0.2090 - accuracy: 0.9383 - val_loss: 0.0390 - val_accuracy: 0.9890\n"
     ]
    }
   ],
   "source": [
    "from imblearn.over_sampling import SMOTE, ADASYN\n",
    "\n",
    "# Reset data without time frame\n",
    "cols = [c for c in train.columns if c not in ['is_churn','msno']]\n",
    "\n",
    "features = train[cols]\n",
    "features = pd.DataFrame(StandardScaler().fit_transform(features))\n",
    "response = train['is_churn']\n",
    "X_train, X_test, y_train, y_test = train_test_split(features, response, test_size = 0.2, random_state=123)\n",
    "\n",
    "# Over sample\n",
    "sampler = RandomOverSampler()\n",
    "X_rs, y_rs = sampler.fit_resample(X_train, y_train)\n",
    "print('RandomOverSampler {}'.format(Counter(y_rs)))\n",
    "\n",
    "# Format the data for RNN\n",
    "def create_dataset(X, y, time_steps=1):\n",
    "    Xs, ys = [], []\n",
    "    for i in range(len(X) - time_steps):\n",
    "        v = X.iloc[i:(i + time_steps)].values\n",
    "        Xs.append(v)\n",
    "        ys.append(y.iloc[i + time_steps])\n",
    "    return np.array(Xs), np.array(ys)\n",
    "\n",
    "# reshape to [samples, time_steps, n_features]\n",
    "time_steps = 5\n",
    "X_rs, y_rs = create_dataset(X_rs, y_rs, time_steps)\n",
    "X_test, y_test = create_dataset(X_test, y_test, time_steps)\n",
    "\n",
    "print(X_rs.shape, y_rs.shape)\n",
    "print(X_test.shape, y_test.shape)\n",
    "\n",
    "lsize = 128\n",
    "model = Sequential()\n",
    "# model.add(SimpleRNN(32, return_sequences=True, input_shape=(X_train.shape[1], X_train.shape[2])))\n",
    "model.add(LSTM(\n",
    "  units=128,\n",
    "  input_shape=(X_rs.shape[1], X_rs.shape[2])\n",
    "))\n",
    "model.add(Dense(lsize, input_dim=int(X_rs.shape[1]),activation='relu'))\n",
    "model.add(BatchNormalization())\n",
    "model.add(Dropout(rate=0.25))\n",
    "model.add(Dense(int(lsize/2), activation='relu'))\n",
    "model.add(BatchNormalization())\n",
    "model.add(Dropout(rate=0.25))\n",
    "model.add(Dense(int(lsize/4),kernel_regularizer=regularizers.l2(0.1), activation='relu'))\n",
    "model.add(Dropout(rate=0.1))\n",
    "model.add(Dense(1, activation='sigmoid'))\n",
    "\n",
    "# Compile model\n",
    "model.compile(loss='binary_crossentropy', optimizer='adadelta', metrics=['accuracy'])\n",
    "model.summary()\n",
    "\n",
    "# Fit the model\n",
    "history = model.fit(X_rs, y_rs, epochs=5, batch_size=1026,\n",
    "                    validation_split=0.2, verbose=1)"
   ]
  },
  {
   "cell_type": "code",
   "execution_count": 36,
   "metadata": {},
   "outputs": [
    {
     "name": "stdout",
     "output_type": "stream",
     "text": [
      "{'f1': 0.01761700628339891, 'acc': 0.9148161538187355, 'precision': 0.0757002271006813, 'recall': 0.009968433294567204, 'confusion_matrix': array([[359016,   3663],\n",
      "       [ 29795,    300]])}\n"
     ]
    },
    {
     "data": {
      "image/png": "[encoded data removed]",
      "text/plain": [
       "<Figure size 432x288 with 1 Axes>"
      ]
     },
     "metadata": {
      "needs_background": "light"
     },
     "output_type": "display_data"
    }
   ],
   "source": [
    "# Plot and predict before moving on\n",
    "plt.plot(history.history['accuracy'])\n",
    "plt.plot(history.history['val_accuracy'])\n",
    "plt.xlabel('Epochs')\n",
    "plt.ylabel('Categorical accuracy')\n",
    "plt.legend(['Training','Test'])\n",
    "\n",
    "test_results = report_results(model, X_test, y_test)\n",
    "print(test_results)\n"
   ]
  },
  {
   "cell_type": "code",
   "execution_count": null,
   "metadata": {},
   "outputs": [],
   "source": []
  }
 ],
 "metadata": {
  "kernelspec": {
   "display_name": "Python 3",
   "language": "python",
   "name": "python3"
  },
  "language_info": {
   "codemirror_mode": {
    "name": "ipython",
    "version": 3
   },
   "file_extension": ".py",
   "mimetype": "text/x-python",
   "name": "python",
   "nbconvert_exporter": "python",
   "pygments_lexer": "ipython3",
   "version": "3.6.5"
  }
 },
 "nbformat": 4,
 "nbformat_minor": 2
}
